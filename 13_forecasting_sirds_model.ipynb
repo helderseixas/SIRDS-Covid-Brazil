{
 "cells": [
  {
   "cell_type": "markdown",
   "source": [
    "# Fit the parameter recovery period for national data"
   ],
   "metadata": {
    "collapsed": false
   }
  },
  {
   "cell_type": "code",
   "execution_count": 11,
   "metadata": {
    "collapsed": true,
    "ExecuteTime": {
     "end_time": "2023-11-23T11:14:18.525965638Z",
     "start_time": "2023-11-23T11:14:18.409462126Z"
    }
   },
   "outputs": [],
   "source": [
    "import numpy as np\n",
    "import pandas as pd\n",
    "from scipy.optimize import differential_evolution\n",
    "from datetime import datetime\n",
    "\n",
    "from sirds_model import get_bounds_and_arguments, sirds_objective_function"
   ]
  },
  {
   "cell_type": "markdown",
   "source": [
    "## Reading data"
   ],
   "metadata": {
    "collapsed": false
   }
  },
  {
   "cell_type": "code",
   "execution_count": 12,
   "outputs": [],
   "source": [
    "df = pd.read_csv('data/output/df_ts_epidemic_episodes.csv', index_col=0)\n",
    "df.DATA = pd.to_datetime(df.DATA)"
   ],
   "metadata": {
    "collapsed": false,
    "ExecuteTime": {
     "end_time": "2023-11-23T11:14:18.651753597Z",
     "start_time": "2023-11-23T11:14:18.421569776Z"
    }
   }
  },
  {
   "cell_type": "markdown",
   "source": [
    "## Preparing data"
   ],
   "metadata": {
    "collapsed": false
   }
  },
  {
   "cell_type": "code",
   "execution_count": 13,
   "outputs": [],
   "source": [
    "df = df.sort_values(by=['DATA'])"
   ],
   "metadata": {
    "collapsed": false,
    "ExecuteTime": {
     "end_time": "2023-11-23T11:14:18.652004900Z",
     "start_time": "2023-11-23T11:14:18.433902880Z"
    }
   }
  },
  {
   "cell_type": "code",
   "execution_count": 14,
   "outputs": [],
   "source": [
    "df['TAXA_CASOS_NOVOS_MEDIA_MOVEL_7_DIAS_PAINEL'] = df['CASOS_NOVOS_MEDIA_MOVEL_7_DIAS_PAINEL']/df['POPULACAO_2022'] * 100000 "
   ],
   "metadata": {
    "collapsed": false,
    "ExecuteTime": {
     "end_time": "2023-11-23T11:14:18.652153039Z",
     "start_time": "2023-11-23T11:14:18.477065426Z"
    }
   }
  },
  {
   "cell_type": "code",
   "execution_count": 15,
   "outputs": [],
   "source": [
    "df['TAXA_CASOS_NOVOS_MEDIA_MOVEL_7_DIAS_PAINEL'] = df['TAXA_CASOS_NOVOS_MEDIA_MOVEL_7_DIAS_PAINEL'].fillna(0)"
   ],
   "metadata": {
    "collapsed": false,
    "ExecuteTime": {
     "end_time": "2023-11-23T11:14:18.652244372Z",
     "start_time": "2023-11-23T11:14:18.477167120Z"
    }
   }
  },
  {
   "cell_type": "code",
   "execution_count": 16,
   "outputs": [],
   "source": [
    "df['TAXA_CASOS_NOVOS_MEDIA_MOVEL_7_DIAS_PAINEL'] = df['TAXA_CASOS_NOVOS_MEDIA_MOVEL_7_DIAS_PAINEL'].replace([np.inf, -np.inf], 0)"
   ],
   "metadata": {
    "collapsed": false,
    "ExecuteTime": {
     "end_time": "2023-11-23T11:14:18.652315098Z",
     "start_time": "2023-11-23T11:14:18.477237069Z"
    }
   }
  },
  {
   "cell_type": "markdown",
   "source": [
    "## Forecasting"
   ],
   "metadata": {
    "collapsed": false
   }
  },
  {
   "cell_type": "code",
   "execution_count": 17,
   "outputs": [],
   "source": [
    "# Define L2 regularization term\n",
    "def l2_regularization(x, alpha):\n",
    "    # L2 regularization term (sum of squared parameter values)\n",
    "    return 0.5 * alpha * np.sum(x**2)\n",
    "\n",
    "# Define the combined objective function with L2 regularization\n",
    "def regularized_objective_function(x, *args):\n",
    "    alpha=args[-1]    \n",
    "    return sirds_objective_function(x, *args[:-1]) + l2_regularization(x, alpha)"
   ],
   "metadata": {
    "collapsed": false,
    "ExecuteTime": {
     "end_time": "2023-11-23T11:14:18.656231166Z",
     "start_time": "2023-11-23T11:14:18.525024746Z"
    }
   }
  },
  {
   "cell_type": "code",
   "execution_count": null,
   "outputs": [
    {
     "name": "stdout",
     "output_type": "stream",
     "text": [
      "Outbreak: 0.0\n",
      "alpha: 0\n",
      "estimation: 10\n",
      "2023-11-23 08:14:18.532027\n",
      "17.323638\n",
      "{'outbreak': 0.0, 'alpha': 0, 'estimation': 10, 'result_fun': 0.3864851014381682, 'result_nfev': 1767, 'result_nit': 36, 'result_success': True, 'start_time': '2023-11-23 08:14:18', 'end_time': '2023-11-23 08:14:35', 'duration_seconds': 17.323638, 'pop_size': 5, 'period_in_days': 126, 'days_to_recovery': 8, 'date_first_case': Timestamp('2020-02-16 00:00:00'), 'outbreak_start_date': Timestamp('2020-03-01 00:00:00'), 'max_date_to_fit': Timestamp('2020-03-22 00:00:00'), 'max_date_to_analyze': Timestamp('2020-06-21 00:00:00'), 'list_breakpoints_in_slow_transition': [], 'x_initial_infected_population': 0.008171822342308278, 'x_days_between_infections_0': 3.1703052374538094, 'x_case_fatality_probability_0': 0.006003478141412302, 'x_loss_immunity_in_days_0': 131.61748862039008, 'x_days_between_infections_1': 3.190427032518366, 'x_breakpoint_1': 29.873205320137576, 'x_transition_days_between_epidemic_periods_1': 21.969140154093502}\n",
      "estimation: 11\n",
      "2023-11-23 08:14:35.888245\n",
      "16.300415\n",
      "{'outbreak': 0.0, 'alpha': 0, 'estimation': 11, 'result_fun': 0.379221774693102, 'result_nfev': 2243, 'result_nit': 56, 'result_success': True, 'start_time': '2023-11-23 08:14:35', 'end_time': '2023-11-23 08:14:52', 'duration_seconds': 16.300415, 'pop_size': 5, 'period_in_days': 126, 'days_to_recovery': 8, 'date_first_case': Timestamp('2020-02-16 00:00:00'), 'outbreak_start_date': Timestamp('2020-03-01 00:00:00'), 'max_date_to_fit': Timestamp('2020-03-22 00:00:00'), 'max_date_to_analyze': Timestamp('2020-06-21 00:00:00'), 'list_breakpoints_in_slow_transition': [], 'x_initial_infected_population': 0.020659827233124612, 'x_days_between_infections_0': 3.1783559018368694, 'x_case_fatality_probability_0': 0.0024102496911689686, 'x_loss_immunity_in_days_0': 189.53418712972976, 'x_days_between_infections_1': 4.359871217901271, 'x_breakpoint_1': 34.81641200993537, 'x_transition_days_between_epidemic_periods_1': 0.13582982508081187}\n",
      "estimation: 12\n",
      "2023-11-23 08:14:52.220592\n",
      "23.154916\n",
      "{'outbreak': 0.0, 'alpha': 0, 'estimation': 12, 'result_fun': 0.387114697886389, 'result_nfev': 2327, 'result_nit': 44, 'result_success': True, 'start_time': '2023-11-23 08:14:52', 'end_time': '2023-11-23 08:15:15', 'duration_seconds': 23.154916, 'pop_size': 5, 'period_in_days': 126, 'days_to_recovery': 8, 'date_first_case': Timestamp('2020-02-16 00:00:00'), 'outbreak_start_date': Timestamp('2020-03-01 00:00:00'), 'max_date_to_fit': Timestamp('2020-03-22 00:00:00'), 'max_date_to_analyze': Timestamp('2020-06-21 00:00:00'), 'list_breakpoints_in_slow_transition': [], 'x_initial_infected_population': 0.014099368860493608, 'x_days_between_infections_0': 3.177587858015439, 'x_case_fatality_probability_0': 0.003583394254616238, 'x_loss_immunity_in_days_0': 320.17036607769455, 'x_days_between_infections_1': 3.19979049118803, 'x_breakpoint_1': 27.998099890375915, 'x_transition_days_between_epidemic_periods_1': 25.609563007154513}\n",
      "estimation: 13\n",
      "2023-11-23 08:15:15.408950\n",
      "18.263128\n",
      "{'outbreak': 0.0, 'alpha': 0, 'estimation': 13, 'result_fun': 0.38618307785968675, 'result_nfev': 2016, 'result_nit': 39, 'result_success': True, 'start_time': '2023-11-23 08:15:15', 'end_time': '2023-11-23 08:15:33', 'duration_seconds': 18.263128, 'pop_size': 5, 'period_in_days': 126, 'days_to_recovery': 8, 'date_first_case': Timestamp('2020-02-16 00:00:00'), 'outbreak_start_date': Timestamp('2020-03-01 00:00:00'), 'max_date_to_fit': Timestamp('2020-03-22 00:00:00'), 'max_date_to_analyze': Timestamp('2020-06-21 00:00:00'), 'list_breakpoints_in_slow_transition': [], 'x_initial_infected_population': 0.024380646140831186, 'x_days_between_infections_0': 3.173024118496336, 'x_case_fatality_probability_0': 0.0020169826598901556, 'x_loss_immunity_in_days_0': 115.92194925587825, 'x_days_between_infections_1': 3.183192933838332, 'x_breakpoint_1': 30.655183582073064, 'x_transition_days_between_epidemic_periods_1': 11.060276359492441}\n",
      "estimation: 14\n",
      "2023-11-23 08:15:33.705869\n",
      "15.172892\n",
      "{'outbreak': 0.0, 'alpha': 0, 'estimation': 14, 'result_fun': 0.38738396158949107, 'result_nfev': 1654, 'result_nit': 33, 'result_success': True, 'start_time': '2023-11-23 08:15:33', 'end_time': '2023-11-23 08:15:48', 'duration_seconds': 15.172892, 'pop_size': 5, 'period_in_days': 126, 'days_to_recovery': 8, 'date_first_case': Timestamp('2020-02-16 00:00:00'), 'outbreak_start_date': Timestamp('2020-03-01 00:00:00'), 'max_date_to_fit': Timestamp('2020-03-22 00:00:00'), 'max_date_to_analyze': Timestamp('2020-06-21 00:00:00'), 'list_breakpoints_in_slow_transition': [], 'x_initial_infected_population': 0.010358855469839232, 'x_days_between_infections_0': 3.1984249035246672, 'x_case_fatality_probability_0': 0.0050025535940676205, 'x_loss_immunity_in_days_0': 342.8267763425166, 'x_days_between_infections_1': 3.1766099749728975, 'x_breakpoint_1': 26.686781386329468, 'x_transition_days_between_epidemic_periods_1': 20.61442530147735}\n",
      "estimation: 15\n",
      "2023-11-23 08:15:48.910454\n",
      "15.616063\n",
      "{'outbreak': 0.0, 'alpha': 0, 'estimation': 15, 'result_fun': 0.38633745886158466, 'result_nfev': 1881, 'result_nit': 42, 'result_success': True, 'start_time': '2023-11-23 08:15:48', 'end_time': '2023-11-23 08:16:04', 'duration_seconds': 15.616063, 'pop_size': 5, 'period_in_days': 126, 'days_to_recovery': 8, 'date_first_case': Timestamp('2020-02-16 00:00:00'), 'outbreak_start_date': Timestamp('2020-03-01 00:00:00'), 'max_date_to_fit': Timestamp('2020-03-22 00:00:00'), 'max_date_to_analyze': Timestamp('2020-06-21 00:00:00'), 'list_breakpoints_in_slow_transition': [], 'x_initial_infected_population': 0.01474597594688533, 'x_days_between_infections_0': 3.1771291289547063, 'x_case_fatality_probability_0': 0.0033723708994694377, 'x_loss_immunity_in_days_0': 238.78611797650632, 'x_days_between_infections_1': 3.1850810759265267, 'x_breakpoint_1': 31.304210879284504, 'x_transition_days_between_epidemic_periods_1': 14.913631293279204}\n",
      "estimation: 16\n",
      "2023-11-23 08:16:04.544114\n",
      "26.161125\n",
      "{'outbreak': 0.0, 'alpha': 0, 'estimation': 16, 'result_fun': 0.3860411229349162, 'result_nfev': 2731, 'result_nit': 64, 'result_success': True, 'start_time': '2023-11-23 08:16:04', 'end_time': '2023-11-23 08:16:30', 'duration_seconds': 26.161125, 'pop_size': 5, 'period_in_days': 126, 'days_to_recovery': 8, 'date_first_case': Timestamp('2020-02-16 00:00:00'), 'outbreak_start_date': Timestamp('2020-03-01 00:00:00'), 'max_date_to_fit': Timestamp('2020-03-22 00:00:00'), 'max_date_to_analyze': Timestamp('2020-06-21 00:00:00'), 'list_breakpoints_in_slow_transition': [], 'x_initial_infected_population': 0.0077234296319528845, 'x_days_between_infections_0': 3.1697818347889943, 'x_case_fatality_probability_0': 0.006330641905755781, 'x_loss_immunity_in_days_0': 202.97292056916913, 'x_days_between_infections_1': 3.1762253497965456, 'x_breakpoint_1': 17.29961077176067, 'x_transition_days_between_epidemic_periods_1': 32.872260482436154}\n",
      "estimation: 17\n",
      "2023-11-23 08:16:30.729368\n",
      "14.006115\n",
      "{'outbreak': 0.0, 'alpha': 0, 'estimation': 17, 'result_fun': 0.3862167148586887, 'result_nfev': 1443, 'result_nit': 32, 'result_success': True, 'start_time': '2023-11-23 08:16:30', 'end_time': '2023-11-23 08:16:44', 'duration_seconds': 14.006115, 'pop_size': 5, 'period_in_days': 126, 'days_to_recovery': 8, 'date_first_case': Timestamp('2020-02-16 00:00:00'), 'outbreak_start_date': Timestamp('2020-03-01 00:00:00'), 'max_date_to_fit': Timestamp('2020-03-22 00:00:00'), 'max_date_to_analyze': Timestamp('2020-06-21 00:00:00'), 'list_breakpoints_in_slow_transition': [], 'x_initial_infected_population': 0.007715188634020908, 'x_days_between_infections_0': 3.173194152359982, 'x_case_fatality_probability_0': 0.006401360619317068, 'x_loss_immunity_in_days_0': 232.6454502213772, 'x_days_between_infections_1': 3.179740325003405, 'x_breakpoint_1': 18.523022070921975, 'x_transition_days_between_epidemic_periods_1': 11.947082777607534}\n",
      "estimation: 18\n",
      "2023-11-23 08:16:44.768486\n",
      "16.788801\n",
      "{'outbreak': 0.0, 'alpha': 0, 'estimation': 18, 'result_fun': 0.3862756627184292, 'result_nfev': 1760, 'result_nit': 39, 'result_success': True, 'start_time': '2023-11-23 08:16:44', 'end_time': '2023-11-23 08:17:01', 'duration_seconds': 16.788801, 'pop_size': 5, 'period_in_days': 126, 'days_to_recovery': 8, 'date_first_case': Timestamp('2020-02-16 00:00:00'), 'outbreak_start_date': Timestamp('2020-03-01 00:00:00'), 'max_date_to_fit': Timestamp('2020-03-22 00:00:00'), 'max_date_to_analyze': Timestamp('2020-06-21 00:00:00'), 'list_breakpoints_in_slow_transition': [], 'x_initial_infected_population': 0.012026985116564002, 'x_days_between_infections_0': 3.1884237466926577, 'x_case_fatality_probability_0': 0.004217119493446725, 'x_loss_immunity_in_days_0': 289.2204866111117, 'x_days_between_infections_1': 3.177823199017597, 'x_breakpoint_1': 17.965896331616133, 'x_transition_days_between_epidemic_periods_1': 10.19602161067407}\n",
      "estimation: 19\n",
      "2023-11-23 08:17:01.599136\n",
      "14.891754\n",
      "{'outbreak': 0.0, 'alpha': 0, 'estimation': 19, 'result_fun': 0.3873177904328966, 'result_nfev': 1569, 'result_nit': 34, 'result_success': True, 'start_time': '2023-11-23 08:17:01', 'end_time': '2023-11-23 08:17:16', 'duration_seconds': 14.891754, 'pop_size': 5, 'period_in_days': 126, 'days_to_recovery': 8, 'date_first_case': Timestamp('2020-02-16 00:00:00'), 'outbreak_start_date': Timestamp('2020-03-01 00:00:00'), 'max_date_to_fit': Timestamp('2020-03-22 00:00:00'), 'max_date_to_analyze': Timestamp('2020-06-21 00:00:00'), 'list_breakpoints_in_slow_transition': [], 'x_initial_infected_population': 0.010355574440216536, 'x_days_between_infections_0': 3.2020421895157005, 'x_case_fatality_probability_0': 0.004982674828782531, 'x_loss_immunity_in_days_0': 151.48223750501202, 'x_days_between_infections_1': 3.175672437164462, 'x_breakpoint_1': 25.80934590255066, 'x_transition_days_between_epidemic_periods_1': 41.26067583285733}\n",
      "Outbreak: 1.0\n",
      "alpha: 0\n",
      "estimation: 10\n",
      "2023-11-23 08:17:16.571665\n",
      "241.263195\n",
      "{'outbreak': 1.0, 'alpha': 0, 'estimation': 10, 'result_fun': 0.057282695736956615, 'result_nfev': 24064, 'result_nit': 464, 'result_success': True, 'start_time': '2023-11-23 08:17:16', 'end_time': '2023-11-23 08:21:17', 'duration_seconds': 241.263195, 'pop_size': 5, 'period_in_days': 219, 'days_to_recovery': 8, 'date_first_case': Timestamp('2020-02-16 00:00:00'), 'outbreak_start_date': Timestamp('2020-06-02 00:00:00'), 'max_date_to_fit': Timestamp('2020-06-23 00:00:00'), 'max_date_to_analyze': Timestamp('2020-09-22 00:00:00'), 'list_breakpoints_in_slow_transition': [], 'x_initial_infected_population': 0.03430934150851098, 'x_days_between_infections_0': 3.240193944878747, 'x_case_fatality_probability_0': 0.004978289038462283, 'x_loss_immunity_in_days_0': 188.63234997998282, 'x_days_between_infections_1': 8.318312624661958, 'x_breakpoint_1': 56.81920832079875, 'x_transition_days_between_epidemic_periods_1': 34.40090387645512, 'x_days_between_infections_2': 7.422709268382871, 'x_breakpoint_2': 109.76599779346822, 'x_transition_days_between_epidemic_periods_2': 45.319173802916985}\n",
      "estimation: 11\n",
      "2023-11-23 08:21:17.867101\n"
     ]
    }
   ],
   "source": [
    "try:\n",
    "    df_initial_results = pd.read_csv('data/estimation_results.csv')\n",
    "except:\n",
    "    df_initial_results = pd.DataFrame({'outbreak':[], 'alpha': []})\n",
    "\n",
    "df_results = df_initial_results.copy()\n",
    "\n",
    "FORECAST_HORIZON_IN_DAYS = 90\n",
    "DAYS_TO_FIT_WITHIN_OUTBREAK = 21\n",
    "DAYS_TO_RECOVERY = 8\n",
    "\n",
    "DIFFERENTIAL_EVOLUTION_POP_SIZE_FACTOR = 5\n",
    "NUMBER_ESTIMATION_PER_REGULARIZATION_WEIGHT = 20\n",
    "\n",
    "# Dates about begin time series and first case\n",
    "date_first_case = min(df[(df.NOVOS_CASOS_SRAG > 0)].iloc[0].DATA, df[(df.CASOS_NOVOS_PAINEL > 0)].iloc[0].DATA)\n",
    "\n",
    "# Define a range of alpha values to test\n",
    "# alphas = [0, 0.001, 0.01, 0.1, 1, 10]\n",
    "alphas = [0]\n",
    "\n",
    "for outbreak in df['ONSET_NUMERO_REPRODUCAO_EFETIVO_MEDIA'].dropna().unique():\n",
    "    row = df[df.ONSET_NUMERO_REPRODUCAO_EFETIVO_MEDIA == outbreak].iloc[0]\n",
    "    print('Outbreak: ' + str(outbreak))\n",
    "    outbreak_start_date = row['DATA']\n",
    "    max_date_to_fit = outbreak_start_date + pd.DateOffset(days=DAYS_TO_FIT_WITHIN_OUTBREAK)\n",
    "    \n",
    "    # Period of analysis\n",
    "    period_in_days = (max_date_to_fit - date_first_case).days + 1 + FORECAST_HORIZON_IN_DAYS\n",
    "    max_date_to_analyze = date_first_case + pd.DateOffset(days=period_in_days)\n",
    "                 \n",
    "    for alpha in alphas:\n",
    "        print('alpha: '+str(alpha))\n",
    "\n",
    "        bounds, args = get_bounds_and_arguments(df, 'DATA', 'TAXA_OBITOS_NOVOS_MEDIA_MOVEL_7_DIAS_SIM', 'NUMERO_REPRODUCAO_EFETIVO_SRAG_MEDIA', 'TAXA_CASOS_NOVOS_MEDIA_MOVEL_7_DIAS_PAINEL', 'ONSET_NUMERO_REPRODUCAO_EFETIVO_MEDIA', DAYS_TO_RECOVERY, date_first_case, max_date_to_fit, df.POPULACAO_2022.iloc[0], period_in_days)\n",
    "        args.append(alpha)\n",
    "                                                      \n",
    "        for estimation in range(NUMBER_ESTIMATION_PER_REGULARIZATION_WEIGHT):\n",
    "            estimations_performed = len(df_results[(df_results.outbreak == outbreak) & (df_results.alpha == alpha)])\n",
    "        \n",
    "            if (estimation == estimations_performed):\n",
    "                print('estimation: '+str(estimation))\n",
    "                \n",
    "                # Record the start time\n",
    "                start_time = datetime.now()\n",
    "                print(start_time)\n",
    "        \n",
    "                result = differential_evolution(regularized_objective_function, bounds, args=args, popsize=DIFFERENTIAL_EVOLUTION_POP_SIZE_FACTOR, maxiter=10000, workers=3, updating='deferred')\n",
    "        \n",
    "                # Record the end time\n",
    "                end_time = datetime.now()\n",
    "        \n",
    "                # Calculate the duration (in seconds) for the optimization\n",
    "                duration = (end_time - start_time).total_seconds()\n",
    "                print(duration)\n",
    "                \n",
    "                list_breakpoints_in_slow_transition = args[4]\n",
    "                quantity_outbreaks = args[5]\n",
    "                quantity_outbreak_adjustments = args[6]                \n",
    "        \n",
    "                # Create a dictionary to store results\n",
    "                estimation_result = {\n",
    "                    'outbreak': outbreak,\n",
    "                    'alpha': alpha,\n",
    "                    'estimation': estimation,  # To differentiate between multiple estimations\n",
    "                    'result_fun': result.fun,\n",
    "                    'result_nfev': result.nfev,\n",
    "                    'result_nit': result.nit,\n",
    "                    'result_success': result.success,\n",
    "                    'start_time': start_time.strftime('%Y-%m-%d %H:%M:%S'),  # Format start time as a string\n",
    "                    'end_time': end_time.strftime('%Y-%m-%d %H:%M:%S'),  # Format end time as a string\n",
    "                    'duration_seconds': duration,  # Duration in seconds\n",
    "                    'pop_size': DIFFERENTIAL_EVOLUTION_POP_SIZE_FACTOR,\n",
    "                    'period_in_days': period_in_days,\n",
    "                    'days_to_recovery': DAYS_TO_RECOVERY,\n",
    "                    'date_first_case': date_first_case,\n",
    "                    'outbreak_start_date': outbreak_start_date,\n",
    "                    'max_date_to_fit': max_date_to_fit,\n",
    "                    'max_date_to_analyze': max_date_to_analyze,                    \n",
    "                    'list_breakpoints_in_slow_transition': list_breakpoints_in_slow_transition,\n",
    "                    'x_initial_infected_population': result.x[0],\n",
    "                    'x_days_between_infections_0': result.x[1]         \n",
    "                }\n",
    "        \n",
    "                quantity_epidemic_periods_with_slow_transition = len(list_breakpoints_in_slow_transition) + 1            \n",
    "                \n",
    "                for p in range(quantity_epidemic_periods_with_slow_transition):\n",
    "                    estimation_result['x_case_fatality_probability_'+str(p)] = result.x[2 + p]\n",
    "                    estimation_result['x_loss_immunity_in_days_'+str(p)] = result.x[2 + quantity_epidemic_periods_with_slow_transition + p]                                                 \n",
    "                quantity_breakpoints = (quantity_outbreaks - 1) + (quantity_outbreak_adjustments)\n",
    "                begin_breakpoint_parameters = 2 + 2*quantity_epidemic_periods_with_slow_transition\n",
    "                for b in range(quantity_breakpoints):\n",
    "                    estimation_result['x_days_between_infections_'+str(b+1)] = result.x[begin_breakpoint_parameters + b]\n",
    "                    estimation_result['x_breakpoint_'+str(b+1)] = result.x[begin_breakpoint_parameters + quantity_breakpoints + b]\n",
    "                    estimation_result['x_transition_days_between_epidemic_periods_'+str(b+1)] = result.x[begin_breakpoint_parameters + 2*quantity_breakpoints + b]\n",
    "        \n",
    "                print(estimation_result)\n",
    "        \n",
    "                # Append the estimation result to the list                \n",
    "                df_results = pd.concat([df_results, pd.DataFrame.from_records([estimation_result])])\n",
    "        \n",
    "                df_results.to_csv('data/output/estimation_results.csv', index=False)           "
   ],
   "metadata": {
    "collapsed": false,
    "is_executing": true,
    "ExecuteTime": {
     "start_time": "2023-11-23T11:14:18.525128004Z"
    }
   }
  },
  {
   "cell_type": "code",
   "execution_count": null,
   "outputs": [],
   "source": [
    "df_results.head()"
   ],
   "metadata": {
    "collapsed": false,
    "is_executing": true
   }
  }
 ],
 "metadata": {
  "kernelspec": {
   "display_name": "Python 3",
   "language": "python",
   "name": "python3"
  },
  "language_info": {
   "codemirror_mode": {
    "name": "ipython",
    "version": 2
   },
   "file_extension": ".py",
   "mimetype": "text/x-python",
   "name": "python",
   "nbconvert_exporter": "python",
   "pygments_lexer": "ipython2",
   "version": "2.7.6"
  }
 },
 "nbformat": 4,
 "nbformat_minor": 0
}
