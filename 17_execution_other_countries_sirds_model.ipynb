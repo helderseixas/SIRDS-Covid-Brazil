{
 "cells": [
  {
   "cell_type": "markdown",
   "source": [
    "# Execute fuzzy SIRDS model to data from other coutries"
   ],
   "metadata": {
    "collapsed": false
   }
  },
  {
   "cell_type": "code",
   "execution_count": 8,
   "metadata": {
    "collapsed": true,
    "ExecuteTime": {
     "end_time": "2023-12-13T17:34:44.735621044Z",
     "start_time": "2023-12-13T17:34:44.683445271Z"
    }
   },
   "outputs": [],
   "source": [
    "import pandas as pd\n",
    "from scipy.optimize import differential_evolution\n",
    "from datetime import timedelta, datetime\n",
    "\n",
    "from sirds_model import get_bounds_and_arguments, sirds_objective_function"
   ]
  },
  {
   "cell_type": "markdown",
   "source": [
    "## Reading data"
   ],
   "metadata": {
    "collapsed": false
   }
  },
  {
   "cell_type": "code",
   "execution_count": 9,
   "outputs": [],
   "source": [
    "df = pd.read_csv('data/output/df_ts_epidemic_episodes_other_countries.csv', index_col=0)\n",
    "df.date = pd.to_datetime(df.date)"
   ],
   "metadata": {
    "collapsed": false,
    "ExecuteTime": {
     "end_time": "2023-12-13T17:34:44.878415491Z",
     "start_time": "2023-12-13T17:34:44.735935612Z"
    }
   }
  },
  {
   "cell_type": "code",
   "execution_count": 10,
   "outputs": [],
   "source": [
    "# df = df[df.location.isin(['Spain', 'United Kingdom', 'United States'])]\n",
    "df = df[df.location.isin(['United States'])]"
   ],
   "metadata": {
    "collapsed": false,
    "ExecuteTime": {
     "end_time": "2023-12-13T17:34:44.900993325Z",
     "start_time": "2023-12-13T17:34:44.877888816Z"
    }
   }
  },
  {
   "cell_type": "code",
   "execution_count": 11,
   "outputs": [],
   "source": [
    "dict_max_date_to_fit = {'United States': df.date.max(), 'United Kingdom': df.date.max(), 'Spain': df.date.max()}"
   ],
   "metadata": {
    "collapsed": false,
    "ExecuteTime": {
     "end_time": "2023-12-13T17:34:44.916629590Z",
     "start_time": "2023-12-13T17:34:44.878137608Z"
    }
   }
  },
  {
   "cell_type": "code",
   "execution_count": 12,
   "outputs": [],
   "source": [
    "dict_cumulative_days_in_first_outbreak_to_max_bound_I0 = {'United States': 0, 'United Kingdom': None, 'Spain': 0}"
   ],
   "metadata": {
    "collapsed": false,
    "ExecuteTime": {
     "end_time": "2023-12-13T17:34:44.917468103Z",
     "start_time": "2023-12-13T17:34:44.905423412Z"
    }
   }
  },
  {
   "cell_type": "markdown",
   "source": [
    "## Execution SIRDS model"
   ],
   "metadata": {
    "collapsed": false
   }
  },
  {
   "cell_type": "code",
   "execution_count": 13,
   "outputs": [],
   "source": [
    "df = df.sort_values(by=['location', 'date'])"
   ],
   "metadata": {
    "collapsed": false,
    "ExecuteTime": {
     "end_time": "2023-12-13T17:34:44.927919875Z",
     "start_time": "2023-12-13T17:34:44.905679037Z"
    }
   }
  },
  {
   "cell_type": "code",
   "execution_count": 14,
   "outputs": [
    {
     "name": "stdout",
     "output_type": "stream",
     "text": [
      "country: United States\n",
      "country: United States\n",
      "country: United States\n",
      "country: United States\n",
      "country: United States\n",
      "country: United States\n",
      "country: United States\n",
      "country: United States\n",
      "country: United States\n",
      "country: United States\n",
      "country: United States\n",
      "country: United States\n",
      "country: United States\n",
      "country: United States\n",
      "country: United States\n",
      "country: United States\n",
      "country: United States\n",
      "country: United States\n",
      "country: United States\n",
      "country: United States\n",
      "country: United States\n",
      "estimation: 20\n",
      "[(0.00029460448895044606, 0.006799903245859607), (2.5081001199991104, 3.7632273242802667), (0.0006170718246882004, 0.013300999999999999), (0.0011582020238238707, 0.013300999999999999), (0.0011657040434613056, 0.008169197443064925), (0.00021223387581227712, 0.004746592568401134), (9.900000000000001e-05, 0.006593022105756891), (89.999999, 365.000001), (89.999999, 365.000001), (89.999999, 365.000001), (89.999999, 365.000001), (89.999999, 365.000001), (2.5081001199991104, 9.347746697905936), (2.164474671021494, 7.214919903404981), (2.060952354853029, 6.869845516176764), (2.060952354853029, 9.199873330343335), (1.8341781572661124, 6.113931524220376), (1.8341781572661124, 8.615136841500487), (2.106860652989051, 7.0228731766301715), (2.2704391589572053, 7.022874176630172), (2.3215055348173994, 7.022875176630172), (2.2366823886259835, 7.022876176630172), (2.2366823886259835, 7.442261690470595), (14.999999, 69.000001), (130.999999, 153.000001), (233.999999, 274.000001), (273.999999, 341.000001), (509.999999, 537.000001), (536.999999, 587.000001), (654.999999, 700.000001), (827.999999, 883.000001), (972.999999, 980.000001), (1013.999999, 1030.000001), (1029.999999, 1031.000001), (-1e-06, 56.000001), (-1e-06, 56.000001), (-1e-06, 56.000001), (-1e-06, 56.000001), (-1e-06, 56.000001), (-1e-06, 56.000001), (-1e-06, 56.000001), (-1e-06, 56.000001), (-1e-06, 56.000001), (-1e-06, 56.000001), (-1e-06, 56.000001)]\n",
      "2023-12-13 14:34:45.044557\n"
     ]
    },
    {
     "name": "stderr",
     "output_type": "stream",
     "text": [
      "capi_return is NULL\n",
      "capi_return is NULL\n",
      "Call-back cb_f_in_lsoda__user__routines failed.\n",
      "Call-back cb_f_in_lsoda__user__routines failed.\n",
      "capi_return is NULL\n",
      "Call-back cb_f_in_lsoda__user__routines failed.\n"
     ]
    },
    {
     "ename": "KeyboardInterrupt",
     "evalue": "",
     "output_type": "error",
     "traceback": [
      "\u001B[0;31m---------------------------------------------------------------------------\u001B[0m",
      "\u001B[0;31mKeyboardInterrupt\u001B[0m                         Traceback (most recent call last)",
      "Cell \u001B[0;32mIn[14], line 47\u001B[0m\n\u001B[1;32m     44\u001B[0m start_time \u001B[38;5;241m=\u001B[39m datetime\u001B[38;5;241m.\u001B[39mnow()\n\u001B[1;32m     45\u001B[0m \u001B[38;5;28mprint\u001B[39m(start_time)\n\u001B[0;32m---> 47\u001B[0m result \u001B[38;5;241m=\u001B[39m \u001B[43mdifferential_evolution\u001B[49m\u001B[43m(\u001B[49m\u001B[43msirds_objective_function\u001B[49m\u001B[43m,\u001B[49m\u001B[43m \u001B[49m\u001B[43mbounds\u001B[49m\u001B[43m,\u001B[49m\u001B[43m \u001B[49m\u001B[43margs\u001B[49m\u001B[38;5;241;43m=\u001B[39;49m\u001B[43margs\u001B[49m\u001B[43m,\u001B[49m\u001B[43m \u001B[49m\u001B[43mpopsize\u001B[49m\u001B[38;5;241;43m=\u001B[39;49m\u001B[43mDIFFERENTIAL_EVOLUTION_POP_SIZE_FACTOR\u001B[49m\u001B[43m,\u001B[49m\u001B[43m \u001B[49m\u001B[43mmaxiter\u001B[49m\u001B[38;5;241;43m=\u001B[39;49m\u001B[38;5;241;43m10000\u001B[39;49m\u001B[43m,\u001B[49m\u001B[43m \u001B[49m\u001B[43mworkers\u001B[49m\u001B[38;5;241;43m=\u001B[39;49m\u001B[38;5;241;43m4\u001B[39;49m\u001B[43m,\u001B[49m\u001B[43m \u001B[49m\u001B[43mupdating\u001B[49m\u001B[38;5;241;43m=\u001B[39;49m\u001B[38;5;124;43m'\u001B[39;49m\u001B[38;5;124;43mdeferred\u001B[39;49m\u001B[38;5;124;43m'\u001B[39;49m\u001B[43m)\u001B[49m\n\u001B[1;32m     49\u001B[0m \u001B[38;5;66;03m# Record the end time\u001B[39;00m\n\u001B[1;32m     50\u001B[0m end_time \u001B[38;5;241m=\u001B[39m datetime\u001B[38;5;241m.\u001B[39mnow()\n",
      "File \u001B[0;32m~/anaconda3/envs/SIRDS_Covid19_Brazil/lib/python3.10/site-packages/scipy/optimize/_differentialevolution.py:397\u001B[0m, in \u001B[0;36mdifferential_evolution\u001B[0;34m(func, bounds, args, strategy, maxiter, popsize, tol, mutation, recombination, seed, callback, disp, polish, init, atol, updating, workers, constraints, x0, integrality, vectorized)\u001B[0m\n\u001B[1;32m    380\u001B[0m \u001B[38;5;66;03m# using a context manager means that any created Pool objects are\u001B[39;00m\n\u001B[1;32m    381\u001B[0m \u001B[38;5;66;03m# cleared up.\u001B[39;00m\n\u001B[1;32m    382\u001B[0m \u001B[38;5;28;01mwith\u001B[39;00m DifferentialEvolutionSolver(func, bounds, args\u001B[38;5;241m=\u001B[39margs,\n\u001B[1;32m    383\u001B[0m                                  strategy\u001B[38;5;241m=\u001B[39mstrategy,\n\u001B[1;32m    384\u001B[0m                                  maxiter\u001B[38;5;241m=\u001B[39mmaxiter,\n\u001B[0;32m   (...)\u001B[0m\n\u001B[1;32m    395\u001B[0m                                  integrality\u001B[38;5;241m=\u001B[39mintegrality,\n\u001B[1;32m    396\u001B[0m                                  vectorized\u001B[38;5;241m=\u001B[39mvectorized) \u001B[38;5;28;01mas\u001B[39;00m solver:\n\u001B[0;32m--> 397\u001B[0m     ret \u001B[38;5;241m=\u001B[39m \u001B[43msolver\u001B[49m\u001B[38;5;241;43m.\u001B[39;49m\u001B[43msolve\u001B[49m\u001B[43m(\u001B[49m\u001B[43m)\u001B[49m\n\u001B[1;32m    399\u001B[0m \u001B[38;5;28;01mreturn\u001B[39;00m ret\n",
      "File \u001B[0;32m~/anaconda3/envs/SIRDS_Covid19_Brazil/lib/python3.10/site-packages/scipy/optimize/_differentialevolution.py:989\u001B[0m, in \u001B[0;36mDifferentialEvolutionSolver.solve\u001B[0;34m(self)\u001B[0m\n\u001B[1;32m    984\u001B[0m     \u001B[38;5;28mself\u001B[39m\u001B[38;5;241m.\u001B[39mfeasible, \u001B[38;5;28mself\u001B[39m\u001B[38;5;241m.\u001B[39mconstraint_violation \u001B[38;5;241m=\u001B[39m (\n\u001B[1;32m    985\u001B[0m         \u001B[38;5;28mself\u001B[39m\u001B[38;5;241m.\u001B[39m_calculate_population_feasibilities(\u001B[38;5;28mself\u001B[39m\u001B[38;5;241m.\u001B[39mpopulation))\n\u001B[1;32m    987\u001B[0m     \u001B[38;5;66;03m# only work out population energies for feasible solutions\u001B[39;00m\n\u001B[1;32m    988\u001B[0m     \u001B[38;5;28mself\u001B[39m\u001B[38;5;241m.\u001B[39mpopulation_energies[\u001B[38;5;28mself\u001B[39m\u001B[38;5;241m.\u001B[39mfeasible] \u001B[38;5;241m=\u001B[39m (\n\u001B[0;32m--> 989\u001B[0m         \u001B[38;5;28;43mself\u001B[39;49m\u001B[38;5;241;43m.\u001B[39;49m\u001B[43m_calculate_population_energies\u001B[49m\u001B[43m(\u001B[49m\n\u001B[1;32m    990\u001B[0m \u001B[43m            \u001B[49m\u001B[38;5;28;43mself\u001B[39;49m\u001B[38;5;241;43m.\u001B[39;49m\u001B[43mpopulation\u001B[49m\u001B[43m[\u001B[49m\u001B[38;5;28;43mself\u001B[39;49m\u001B[38;5;241;43m.\u001B[39;49m\u001B[43mfeasible\u001B[49m\u001B[43m]\u001B[49m\u001B[43m)\u001B[49m)\n\u001B[1;32m    992\u001B[0m     \u001B[38;5;28mself\u001B[39m\u001B[38;5;241m.\u001B[39m_promote_lowest_energy()\n\u001B[1;32m    994\u001B[0m \u001B[38;5;66;03m# do the optimization.\u001B[39;00m\n",
      "File \u001B[0;32m~/anaconda3/envs/SIRDS_Covid19_Brazil/lib/python3.10/site-packages/scipy/optimize/_differentialevolution.py:1123\u001B[0m, in \u001B[0;36mDifferentialEvolutionSolver._calculate_population_energies\u001B[0;34m(self, population)\u001B[0m\n\u001B[1;32m   1120\u001B[0m parameters_pop \u001B[38;5;241m=\u001B[39m \u001B[38;5;28mself\u001B[39m\u001B[38;5;241m.\u001B[39m_scale_parameters(population)\n\u001B[1;32m   1121\u001B[0m \u001B[38;5;28;01mtry\u001B[39;00m:\n\u001B[1;32m   1122\u001B[0m     calc_energies \u001B[38;5;241m=\u001B[39m \u001B[38;5;28mlist\u001B[39m(\n\u001B[0;32m-> 1123\u001B[0m         \u001B[38;5;28;43mself\u001B[39;49m\u001B[38;5;241;43m.\u001B[39;49m\u001B[43m_mapwrapper\u001B[49m\u001B[43m(\u001B[49m\u001B[38;5;28;43mself\u001B[39;49m\u001B[38;5;241;43m.\u001B[39;49m\u001B[43mfunc\u001B[49m\u001B[43m,\u001B[49m\u001B[43m \u001B[49m\u001B[43mparameters_pop\u001B[49m\u001B[43m[\u001B[49m\u001B[38;5;241;43m0\u001B[39;49m\u001B[43m:\u001B[49m\u001B[43mS\u001B[49m\u001B[43m]\u001B[49m\u001B[43m)\u001B[49m\n\u001B[1;32m   1124\u001B[0m     )\n\u001B[1;32m   1125\u001B[0m     calc_energies \u001B[38;5;241m=\u001B[39m np\u001B[38;5;241m.\u001B[39msqueeze(calc_energies)\n\u001B[1;32m   1126\u001B[0m \u001B[38;5;28;01mexcept\u001B[39;00m (\u001B[38;5;167;01mTypeError\u001B[39;00m, \u001B[38;5;167;01mValueError\u001B[39;00m) \u001B[38;5;28;01mas\u001B[39;00m e:\n\u001B[1;32m   1127\u001B[0m     \u001B[38;5;66;03m# wrong number of arguments for _mapwrapper\u001B[39;00m\n\u001B[1;32m   1128\u001B[0m     \u001B[38;5;66;03m# or wrong length returned from the mapper\u001B[39;00m\n",
      "File \u001B[0;32m~/anaconda3/envs/SIRDS_Covid19_Brazil/lib/python3.10/site-packages/scipy/_lib/_util.py:442\u001B[0m, in \u001B[0;36mMapWrapper.__call__\u001B[0;34m(self, func, iterable)\u001B[0m\n\u001B[1;32m    439\u001B[0m \u001B[38;5;28;01mdef\u001B[39;00m \u001B[38;5;21m__call__\u001B[39m(\u001B[38;5;28mself\u001B[39m, func, iterable):\n\u001B[1;32m    440\u001B[0m     \u001B[38;5;66;03m# only accept one iterable because that's all Pool.map accepts\u001B[39;00m\n\u001B[1;32m    441\u001B[0m     \u001B[38;5;28;01mtry\u001B[39;00m:\n\u001B[0;32m--> 442\u001B[0m         \u001B[38;5;28;01mreturn\u001B[39;00m \u001B[38;5;28;43mself\u001B[39;49m\u001B[38;5;241;43m.\u001B[39;49m\u001B[43m_mapfunc\u001B[49m\u001B[43m(\u001B[49m\u001B[43mfunc\u001B[49m\u001B[43m,\u001B[49m\u001B[43m \u001B[49m\u001B[43miterable\u001B[49m\u001B[43m)\u001B[49m\n\u001B[1;32m    443\u001B[0m     \u001B[38;5;28;01mexcept\u001B[39;00m \u001B[38;5;167;01mTypeError\u001B[39;00m \u001B[38;5;28;01mas\u001B[39;00m e:\n\u001B[1;32m    444\u001B[0m         \u001B[38;5;66;03m# wrong number of arguments\u001B[39;00m\n\u001B[1;32m    445\u001B[0m         \u001B[38;5;28;01mraise\u001B[39;00m \u001B[38;5;167;01mTypeError\u001B[39;00m(\u001B[38;5;124m\"\u001B[39m\u001B[38;5;124mThe map-like callable must be of the\u001B[39m\u001B[38;5;124m\"\u001B[39m\n\u001B[1;32m    446\u001B[0m                         \u001B[38;5;124m\"\u001B[39m\u001B[38;5;124m form f(func, iterable)\u001B[39m\u001B[38;5;124m\"\u001B[39m) \u001B[38;5;28;01mfrom\u001B[39;00m \u001B[38;5;21;01me\u001B[39;00m\n",
      "File \u001B[0;32m~/anaconda3/envs/SIRDS_Covid19_Brazil/lib/python3.10/multiprocessing/pool.py:367\u001B[0m, in \u001B[0;36mPool.map\u001B[0;34m(self, func, iterable, chunksize)\u001B[0m\n\u001B[1;32m    362\u001B[0m \u001B[38;5;28;01mdef\u001B[39;00m \u001B[38;5;21mmap\u001B[39m(\u001B[38;5;28mself\u001B[39m, func, iterable, chunksize\u001B[38;5;241m=\u001B[39m\u001B[38;5;28;01mNone\u001B[39;00m):\n\u001B[1;32m    363\u001B[0m \u001B[38;5;250m    \u001B[39m\u001B[38;5;124;03m'''\u001B[39;00m\n\u001B[1;32m    364\u001B[0m \u001B[38;5;124;03m    Apply `func` to each element in `iterable`, collecting the results\u001B[39;00m\n\u001B[1;32m    365\u001B[0m \u001B[38;5;124;03m    in a list that is returned.\u001B[39;00m\n\u001B[1;32m    366\u001B[0m \u001B[38;5;124;03m    '''\u001B[39;00m\n\u001B[0;32m--> 367\u001B[0m     \u001B[38;5;28;01mreturn\u001B[39;00m \u001B[38;5;28;43mself\u001B[39;49m\u001B[38;5;241;43m.\u001B[39;49m\u001B[43m_map_async\u001B[49m\u001B[43m(\u001B[49m\u001B[43mfunc\u001B[49m\u001B[43m,\u001B[49m\u001B[43m \u001B[49m\u001B[43miterable\u001B[49m\u001B[43m,\u001B[49m\u001B[43m \u001B[49m\u001B[43mmapstar\u001B[49m\u001B[43m,\u001B[49m\u001B[43m \u001B[49m\u001B[43mchunksize\u001B[49m\u001B[43m)\u001B[49m\u001B[38;5;241;43m.\u001B[39;49m\u001B[43mget\u001B[49m\u001B[43m(\u001B[49m\u001B[43m)\u001B[49m\n",
      "File \u001B[0;32m~/anaconda3/envs/SIRDS_Covid19_Brazil/lib/python3.10/multiprocessing/pool.py:768\u001B[0m, in \u001B[0;36mApplyResult.get\u001B[0;34m(self, timeout)\u001B[0m\n\u001B[1;32m    767\u001B[0m \u001B[38;5;28;01mdef\u001B[39;00m \u001B[38;5;21mget\u001B[39m(\u001B[38;5;28mself\u001B[39m, timeout\u001B[38;5;241m=\u001B[39m\u001B[38;5;28;01mNone\u001B[39;00m):\n\u001B[0;32m--> 768\u001B[0m     \u001B[38;5;28;43mself\u001B[39;49m\u001B[38;5;241;43m.\u001B[39;49m\u001B[43mwait\u001B[49m\u001B[43m(\u001B[49m\u001B[43mtimeout\u001B[49m\u001B[43m)\u001B[49m\n\u001B[1;32m    769\u001B[0m     \u001B[38;5;28;01mif\u001B[39;00m \u001B[38;5;129;01mnot\u001B[39;00m \u001B[38;5;28mself\u001B[39m\u001B[38;5;241m.\u001B[39mready():\n\u001B[1;32m    770\u001B[0m         \u001B[38;5;28;01mraise\u001B[39;00m \u001B[38;5;167;01mTimeoutError\u001B[39;00m\n",
      "File \u001B[0;32m~/anaconda3/envs/SIRDS_Covid19_Brazil/lib/python3.10/multiprocessing/pool.py:765\u001B[0m, in \u001B[0;36mApplyResult.wait\u001B[0;34m(self, timeout)\u001B[0m\n\u001B[1;32m    764\u001B[0m \u001B[38;5;28;01mdef\u001B[39;00m \u001B[38;5;21mwait\u001B[39m(\u001B[38;5;28mself\u001B[39m, timeout\u001B[38;5;241m=\u001B[39m\u001B[38;5;28;01mNone\u001B[39;00m):\n\u001B[0;32m--> 765\u001B[0m     \u001B[38;5;28;43mself\u001B[39;49m\u001B[38;5;241;43m.\u001B[39;49m\u001B[43m_event\u001B[49m\u001B[38;5;241;43m.\u001B[39;49m\u001B[43mwait\u001B[49m\u001B[43m(\u001B[49m\u001B[43mtimeout\u001B[49m\u001B[43m)\u001B[49m\n",
      "File \u001B[0;32m~/anaconda3/envs/SIRDS_Covid19_Brazil/lib/python3.10/threading.py:607\u001B[0m, in \u001B[0;36mEvent.wait\u001B[0;34m(self, timeout)\u001B[0m\n\u001B[1;32m    605\u001B[0m signaled \u001B[38;5;241m=\u001B[39m \u001B[38;5;28mself\u001B[39m\u001B[38;5;241m.\u001B[39m_flag\n\u001B[1;32m    606\u001B[0m \u001B[38;5;28;01mif\u001B[39;00m \u001B[38;5;129;01mnot\u001B[39;00m signaled:\n\u001B[0;32m--> 607\u001B[0m     signaled \u001B[38;5;241m=\u001B[39m \u001B[38;5;28;43mself\u001B[39;49m\u001B[38;5;241;43m.\u001B[39;49m\u001B[43m_cond\u001B[49m\u001B[38;5;241;43m.\u001B[39;49m\u001B[43mwait\u001B[49m\u001B[43m(\u001B[49m\u001B[43mtimeout\u001B[49m\u001B[43m)\u001B[49m\n\u001B[1;32m    608\u001B[0m \u001B[38;5;28;01mreturn\u001B[39;00m signaled\n",
      "File \u001B[0;32m~/anaconda3/envs/SIRDS_Covid19_Brazil/lib/python3.10/threading.py:320\u001B[0m, in \u001B[0;36mCondition.wait\u001B[0;34m(self, timeout)\u001B[0m\n\u001B[1;32m    318\u001B[0m \u001B[38;5;28;01mtry\u001B[39;00m:    \u001B[38;5;66;03m# restore state no matter what (e.g., KeyboardInterrupt)\u001B[39;00m\n\u001B[1;32m    319\u001B[0m     \u001B[38;5;28;01mif\u001B[39;00m timeout \u001B[38;5;129;01mis\u001B[39;00m \u001B[38;5;28;01mNone\u001B[39;00m:\n\u001B[0;32m--> 320\u001B[0m         \u001B[43mwaiter\u001B[49m\u001B[38;5;241;43m.\u001B[39;49m\u001B[43macquire\u001B[49m\u001B[43m(\u001B[49m\u001B[43m)\u001B[49m\n\u001B[1;32m    321\u001B[0m         gotit \u001B[38;5;241m=\u001B[39m \u001B[38;5;28;01mTrue\u001B[39;00m\n\u001B[1;32m    322\u001B[0m     \u001B[38;5;28;01melse\u001B[39;00m:\n",
      "\u001B[0;31mKeyboardInterrupt\u001B[0m: "
     ]
    }
   ],
   "source": [
    "try:\n",
    "    df_initial_results = pd.read_csv('data/output/execution_other_countries_results.csv')\n",
    "except:\n",
    "    df_initial_results = pd.DataFrame({'location':[]})\n",
    "\n",
    "df_results = df_initial_results.copy()\n",
    "\n",
    "DAYS_TO_RECOVERY = 8\n",
    "\n",
    "DIFFERENTIAL_EVOLUTION_POP_SIZE_FACTOR = 5\n",
    "NUMBER_ESTIMATON_PER_COUNTRY = 21\n",
    "\n",
    "for estimation in range(NUMBER_ESTIMATON_PER_COUNTRY):        \n",
    "    for country in df.location.unique():\n",
    "        print('country: '+country)\n",
    "        \n",
    "        max_date_to_fit = dict_max_date_to_fit[country]\n",
    "        df_country = df[(df.location == country) & (df.date <= max_date_to_fit)].reset_index(drop=True)\n",
    "        \n",
    "        # Dates about begin time series and first case        \n",
    "        if country == 'United Kingdom':            \n",
    "            date_first_case = df_country[(df_country.ONSET_NUMERO_REPRODUCAO_EFETIVO_MEDIA == 0) & (df_country.NUMERO_REPRODUCAO_EFETIVO_ATRASADO_MEDIA == df_country.NUMERO_REPRODUCAO_EFETIVO_ATRASADO_MEDIA.max())].iloc[0].date\n",
    "        else:\n",
    "            date_first_case = df_country[(df_country.estimated_onset_by_deaths > 0)].iloc[0].date\n",
    "        \n",
    "        cumulative_days_in_first_outbreak_to_max_bound_I0 = dict_cumulative_days_in_first_outbreak_to_max_bound_I0[country]\n",
    "\n",
    "        # Period of analysis\n",
    "        period_in_days = (max_date_to_fit - date_first_case).days + 1\n",
    "                           \n",
    "        estimations_performed = len(df_results[(df_results.location == country)])\n",
    "    \n",
    "        if (estimation == estimations_performed):\n",
    "            print('estimation: '+str(estimation))\n",
    "            \n",
    "            rt_column = 'NUMERO_REPRODUCAO_EFETIVO_ATRASADO_MEDIA'\n",
    "            # rt_column = 'reproduction_rate'\n",
    "            \n",
    "            bounds, args = get_bounds_and_arguments(df_country, 'date', 'rate_new_deaths_moving_average', rt_column, 'rate_new_cases_moving_average', 'ONSET_NUMERO_REPRODUCAO_EFETIVO_MEDIA', DAYS_TO_RECOVERY, date_first_case, max_date_to_fit, df_country.population.iloc[0], period_in_days, cumulative_days_in_first_outbreak_to_max_bound_I0)\n",
    "            \n",
    "            print(bounds)\n",
    "            \n",
    "            # Record the start time\n",
    "            start_time = datetime.now()\n",
    "            print(start_time)\n",
    "\n",
    "            result = differential_evolution(sirds_objective_function, bounds, args=args, popsize=DIFFERENTIAL_EVOLUTION_POP_SIZE_FACTOR, maxiter=10000, workers=4, updating='deferred')\n",
    "    \n",
    "            # Record the end time\n",
    "            end_time = datetime.now()\n",
    "    \n",
    "            # Calculate the duration (in seconds) for the optimization\n",
    "            duration = (end_time - start_time).total_seconds()\n",
    "            print(duration)\n",
    "            \n",
    "            list_breakpoints_in_slow_transition = args[4]\n",
    "            quantity_outbreaks = args[5]\n",
    "            quantity_outbreak_adjustments = args[6]\n",
    "    \n",
    "            # Create a dictionary to store results\n",
    "            estimation_result = {\n",
    "                'location': country,\n",
    "                'estimation': estimation,  # To differentiate between multiple estimations\n",
    "                'result_fun': result.fun,\n",
    "                'result_nfev': result.nfev,\n",
    "                'result_nit': result.nit,\n",
    "                'result_success': result.success,\n",
    "                'start_time': start_time.strftime('%Y-%m-%d %H:%M:%S'),  # Format start time as a string\n",
    "                'end_time': end_time.strftime('%Y-%m-%d %H:%M:%S'),  # Format end time as a string\n",
    "                'duration_seconds': duration,  # Duration in seconds\n",
    "                'pop_size': DIFFERENTIAL_EVOLUTION_POP_SIZE_FACTOR,\n",
    "                'period_in_days': period_in_days,\n",
    "                'days_to_recovery': DAYS_TO_RECOVERY,\n",
    "                'cumulative_days_in_first_outbreak_to_max_bound_I0': cumulative_days_in_first_outbreak_to_max_bound_I0,\n",
    "                'date_first_case': date_first_case,\n",
    "                'list_breakpoints_in_slow_transition': list_breakpoints_in_slow_transition,\n",
    "                'x_initial_infected_population': result.x[0],\n",
    "                'x_days_between_infections_0': result.x[1]\n",
    "            }\n",
    "            \n",
    "            quantity_epidemic_periods_with_slow_transition = len(list_breakpoints_in_slow_transition) + 1\n",
    "            \n",
    "            for p in range(quantity_epidemic_periods_with_slow_transition):\n",
    "                estimation_result['x_case_fatality_probability_'+str(p)] = result.x[2 + p]\n",
    "                estimation_result['x_loss_immunity_in_days_'+str(p)] = result.x[2 + quantity_epidemic_periods_with_slow_transition + p]                                                 \n",
    "            quantity_breakpoints = (quantity_outbreaks - 1) + (quantity_outbreak_adjustments)\n",
    "            begin_breakpoint_parameters = 2 + 2*quantity_epidemic_periods_with_slow_transition\n",
    "            for b in range(quantity_breakpoints):\n",
    "                estimation_result['x_days_between_infections_'+str(b+1)] = result.x[begin_breakpoint_parameters + b]\n",
    "                estimation_result['x_breakpoint_'+str(b+1)] = result.x[begin_breakpoint_parameters + quantity_breakpoints + b]\n",
    "                estimation_result['x_transition_days_between_epidemic_periods_'+str(b+1)] = result.x[begin_breakpoint_parameters + 2*quantity_breakpoints + b]\n",
    "    \n",
    "            print(estimation_result)\n",
    "    \n",
    "            # Append the estimation result to the list            \n",
    "            df_results = pd.concat([df_results, pd.DataFrame.from_records([estimation_result])])\n",
    "    \n",
    "            df_results.to_csv('data/output/execution_other_countries_results.csv', index=False)           "
   ],
   "metadata": {
    "collapsed": false,
    "ExecuteTime": {
     "end_time": "2023-12-13T17:34:55.924728199Z",
     "start_time": "2023-12-13T17:34:44.917016451Z"
    }
   }
  },
  {
   "cell_type": "code",
   "execution_count": null,
   "outputs": [],
   "source": [
    "bounds[0]"
   ],
   "metadata": {
    "collapsed": false,
    "ExecuteTime": {
     "start_time": "2023-12-13T17:34:55.918751796Z"
    }
   }
  },
  {
   "cell_type": "code",
   "execution_count": null,
   "outputs": [],
   "source": [
    "df_country[['date','rate_new_deaths_moving_average', 'rate_new_cases_moving_average', 'estimated_onset_by_deaths', 'NUMERO_REPRODUCAO_EFETIVO_ATRASADO_MEDIA']]"
   ],
   "metadata": {
    "collapsed": false,
    "ExecuteTime": {
     "end_time": "2023-12-13T17:34:55.970579376Z",
     "start_time": "2023-12-13T17:34:55.966393637Z"
    }
   }
  },
  {
   "cell_type": "code",
   "execution_count": null,
   "outputs": [],
   "source": [
    "min(df_country[(df_country.rate_new_cases_moving_average > 0)].iloc[0].date, df_country[(df_country.estimated_onset_by_deaths > 0)].iloc[0].date)"
   ],
   "metadata": {
    "collapsed": false,
    "ExecuteTime": {
     "start_time": "2023-12-13T17:34:55.966615168Z"
    }
   }
  },
  {
   "cell_type": "code",
   "execution_count": null,
   "outputs": [],
   "source": [
    "df_country[(df_country.rate_new_cases_moving_average > 0)].iloc[0].date"
   ],
   "metadata": {
    "collapsed": false,
    "ExecuteTime": {
     "start_time": "2023-12-13T17:34:55.966795728Z"
    }
   }
  },
  {
   "cell_type": "code",
   "execution_count": null,
   "outputs": [],
   "source": [
    "df_country[(df_country.estimated_onset_by_deaths > 0)].iloc[0].date"
   ],
   "metadata": {
    "collapsed": false,
    "ExecuteTime": {
     "start_time": "2023-12-13T17:34:55.966955280Z"
    }
   }
  },
  {
   "cell_type": "code",
   "execution_count": null,
   "outputs": [],
   "source": [
    "outbreaks = df.groupby('ONSET_NUMERO_REPRODUCAO_EFETIVO_MEDIA').agg({'date': ['min', 'max']})\n",
    "outbreaks"
   ],
   "metadata": {
    "collapsed": false,
    "ExecuteTime": {
     "start_time": "2023-12-13T17:34:55.967161612Z"
    }
   }
  },
  {
   "cell_type": "code",
   "execution_count": null,
   "outputs": [],
   "source": [
    "outbreaks.iloc[0][('date','min')]"
   ],
   "metadata": {
    "collapsed": false,
    "ExecuteTime": {
     "start_time": "2023-12-13T17:34:55.967360838Z"
    }
   }
  },
  {
   "cell_type": "code",
   "execution_count": null,
   "outputs": [],
   "source": [
    "rt_in_outbreak = df_country[\n",
    "    (df_country['date'] >= outbreaks.iloc[0][('date','min')]) &\n",
    "    (df_country['date'] <= outbreaks.iloc[0][('date','max')])][rt_column].values\n",
    "rt_in_outbreak"
   ],
   "metadata": {
    "collapsed": false,
    "ExecuteTime": {
     "start_time": "2023-12-13T17:34:55.967481355Z"
    }
   }
  },
  {
   "cell_type": "code",
   "execution_count": null,
   "outputs": [],
   "source": [
    "df_results"
   ],
   "metadata": {
    "collapsed": false,
    "ExecuteTime": {
     "start_time": "2023-12-13T17:34:55.967630532Z"
    }
   }
  }
 ],
 "metadata": {
  "kernelspec": {
   "display_name": "Python 3",
   "language": "python",
   "name": "python3"
  },
  "language_info": {
   "codemirror_mode": {
    "name": "ipython",
    "version": 2
   },
   "file_extension": ".py",
   "mimetype": "text/x-python",
   "name": "python",
   "nbconvert_exporter": "python",
   "pygments_lexer": "ipython2",
   "version": "2.7.6"
  }
 },
 "nbformat": 4,
 "nbformat_minor": 0
}
