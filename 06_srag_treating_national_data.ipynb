{
 "cells": [
  {
   "cell_type": "markdown",
   "source": [
    "# Treating Severe Acute Respiratory Syndrome (SRAG in portuguese) data"
   ],
   "metadata": {
    "collapsed": false
   },
   "id": "405189ae67d52db1"
  },
  {
   "cell_type": "code",
   "execution_count": 46,
   "outputs": [],
   "source": [
    "import pandas as pd\n",
    "from matplotlib import pyplot as plt"
   ],
   "metadata": {
    "collapsed": false,
    "ExecuteTime": {
     "end_time": "2023-10-16T20:43:40.707398367Z",
     "start_time": "2023-10-16T20:43:40.165763213Z"
    }
   },
   "id": "79c82a443e69a90a"
  },
  {
   "cell_type": "markdown",
   "source": [
    "## Reading data"
   ],
   "metadata": {
    "collapsed": false
   },
   "id": "b56fa326cc77339b"
  },
  {
   "cell_type": "code",
   "execution_count": 2,
   "outputs": [],
   "source": [
    "EVOLUTION_TO_DEATH = 2"
   ],
   "metadata": {
    "collapsed": false,
    "ExecuteTime": {
     "end_time": "2023-10-16T20:04:08.083596222Z",
     "start_time": "2023-10-16T20:04:08.062661348Z"
    }
   },
   "id": "ed03e6e1b9c24293"
  },
  {
   "cell_type": "code",
   "execution_count": 27,
   "outputs": [],
   "source": [
    "df = pd.read_csv('data/output/df_srag_raw.csv')"
   ],
   "metadata": {
    "collapsed": false,
    "ExecuteTime": {
     "end_time": "2023-10-16T20:26:35.900878871Z",
     "start_time": "2023-10-16T20:26:34.453430781Z"
    }
   },
   "id": "15b12900b791384b"
  },
  {
   "cell_type": "code",
   "execution_count": 28,
   "id": "faa18fb9af58cd9e",
   "metadata": {
    "collapsed": true,
    "ExecuteTime": {
     "end_time": "2023-10-16T20:26:38.152541076Z",
     "start_time": "2023-10-16T20:26:37.004529406Z"
    }
   },
   "outputs": [],
   "source": [
    "df.DT_SIN_PRI = pd.to_datetime(df.DT_SIN_PRI, infer_datetime_format=True)\n",
    "df.DT_NOTIFIC = pd.to_datetime(df.DT_NOTIFIC, infer_datetime_format=True)\n",
    "df.DT_DIGITA = pd.to_datetime(df.DT_DIGITA, infer_datetime_format=True)\n",
    "df.DT_EVOLUCA = pd.to_datetime(df.DT_EVOLUCA, infer_datetime_format=True)"
   ]
  },
  {
   "cell_type": "code",
   "execution_count": 40,
   "outputs": [],
   "source": [
    "df.CO_MUN_RES = df.CO_MUN_RES.astype(pd.Int32Dtype()).astype('string')"
   ],
   "metadata": {
    "collapsed": false,
    "ExecuteTime": {
     "end_time": "2023-10-16T20:32:11.569092754Z",
     "start_time": "2023-10-16T20:32:10.121771661Z"
    }
   },
   "id": "initial_id"
  },
  {
   "cell_type": "markdown",
   "source": [
    "## Describing data"
   ],
   "metadata": {
    "collapsed": false
   },
   "id": "f8f0e14f7cfeb84a"
  },
  {
   "cell_type": "code",
   "execution_count": 6,
   "outputs": [
    {
     "data": {
      "text/plain": "Timestamp('2020-02-16 00:00:00')"
     },
     "execution_count": 6,
     "metadata": {},
     "output_type": "execute_result"
    }
   ],
   "source": [
    "df.DT_SIN_PRI.min()"
   ],
   "metadata": {
    "collapsed": false,
    "ExecuteTime": {
     "end_time": "2023-10-16T20:12:04.264146927Z",
     "start_time": "2023-10-16T20:12:04.228759189Z"
    }
   },
   "id": "99807205855a5572"
  },
  {
   "cell_type": "code",
   "execution_count": 7,
   "outputs": [
    {
     "data": {
      "text/plain": "Timestamp('2022-12-31 00:00:00')"
     },
     "execution_count": 7,
     "metadata": {},
     "output_type": "execute_result"
    }
   ],
   "source": [
    "df.DT_SIN_PRI.max()"
   ],
   "metadata": {
    "collapsed": false,
    "ExecuteTime": {
     "end_time": "2023-10-16T20:13:45.645540341Z",
     "start_time": "2023-10-16T20:13:45.591621154Z"
    }
   },
   "id": "44c2000f4d69624a"
  },
  {
   "cell_type": "code",
   "execution_count": 11,
   "outputs": [
    {
     "data": {
      "text/plain": "1050"
     },
     "execution_count": 11,
     "metadata": {},
     "output_type": "execute_result"
    }
   ],
   "source": [
    "df.DT_SIN_PRI.unique().shape[0]"
   ],
   "metadata": {
    "collapsed": false,
    "ExecuteTime": {
     "end_time": "2023-10-16T20:15:18.359374201Z",
     "start_time": "2023-10-16T20:15:18.307083534Z"
    }
   },
   "id": "b288e72c974b6857"
  },
  {
   "cell_type": "code",
   "execution_count": 16,
   "outputs": [
    {
     "data": {
      "text/plain": "Timestamp('2020-03-12 00:00:00')"
     },
     "execution_count": 16,
     "metadata": {},
     "output_type": "execute_result"
    }
   ],
   "source": [
    "df[(df.EVOLUCAO == EVOLUTION_TO_DEATH) & (df.DT_EVOLUCA.isna()==False)].DT_EVOLUCA.min()"
   ],
   "metadata": {
    "collapsed": false,
    "ExecuteTime": {
     "end_time": "2023-10-16T20:20:27.181994412Z",
     "start_time": "2023-10-16T20:20:27.132031794Z"
    }
   },
   "id": "777948306edbb394"
  },
  {
   "cell_type": "code",
   "execution_count": 17,
   "outputs": [
    {
     "data": {
      "text/plain": "Timestamp('2023-03-30 00:00:00')"
     },
     "execution_count": 17,
     "metadata": {},
     "output_type": "execute_result"
    }
   ],
   "source": [
    "df[(df.EVOLUCAO == EVOLUTION_TO_DEATH) & (df.DT_EVOLUCA.isna()==False)].DT_EVOLUCA.max()"
   ],
   "metadata": {
    "collapsed": false,
    "ExecuteTime": {
     "end_time": "2023-10-16T20:20:31.623657569Z",
     "start_time": "2023-10-16T20:20:31.566850871Z"
    }
   },
   "id": "4a87595a785d742c"
  },
  {
   "cell_type": "code",
   "execution_count": 18,
   "outputs": [
    {
     "data": {
      "text/plain": "1097"
     },
     "execution_count": 18,
     "metadata": {},
     "output_type": "execute_result"
    }
   ],
   "source": [
    "df[(df.EVOLUCAO == EVOLUTION_TO_DEATH) & (df.DT_EVOLUCA.isna()==False)].DT_EVOLUCA.unique().shape[0]"
   ],
   "metadata": {
    "collapsed": false,
    "ExecuteTime": {
     "end_time": "2023-10-16T20:20:35.362841854Z",
     "start_time": "2023-10-16T20:20:35.323157029Z"
    }
   },
   "id": "f873a73227ada576"
  },
  {
   "cell_type": "code",
   "execution_count": 20,
   "outputs": [
    {
     "data": {
      "text/plain": "2166108"
     },
     "execution_count": 20,
     "metadata": {},
     "output_type": "execute_result"
    }
   ],
   "source": [
    "len(df)"
   ],
   "metadata": {
    "collapsed": false,
    "ExecuteTime": {
     "end_time": "2023-10-16T20:20:45.552414400Z",
     "start_time": "2023-10-16T20:20:45.532027075Z"
    }
   },
   "id": "95fcd6d9326cd8b0"
  },
  {
   "cell_type": "code",
   "execution_count": 21,
   "outputs": [
    {
     "data": {
      "text/plain": "669334"
     },
     "execution_count": 21,
     "metadata": {},
     "output_type": "execute_result"
    }
   ],
   "source": [
    "len(df[(df.EVOLUCAO == EVOLUTION_TO_DEATH) & (df.DT_EVOLUCA.isna()==False)])"
   ],
   "metadata": {
    "collapsed": false,
    "ExecuteTime": {
     "end_time": "2023-10-16T20:20:58.307681449Z",
     "start_time": "2023-10-16T20:20:58.237914948Z"
    }
   },
   "id": "5ddfa1b4ecd9d27b"
  },
  {
   "cell_type": "markdown",
   "source": [
    "## Anomalies\n",
    "We noted some anomalies in data, but, we prefer no treat this anomalies."
   ],
   "metadata": {
    "collapsed": false
   },
   "id": "7e51f4540683b1ce"
  },
  {
   "cell_type": "markdown",
   "source": [
    "### Missing data"
   ],
   "metadata": {
    "collapsed": false
   },
   "id": "1fd29ab6b74f2507"
  },
  {
   "cell_type": "code",
   "execution_count": 22,
   "outputs": [
    {
     "data": {
      "text/plain": "DT_SIN_PRI    False\nDT_NOTIFIC    False\nDT_DIGITA     False\nCO_MUN_RES     True\nEVOLUCAO       True\nDT_EVOLUCA     True\ndtype: bool"
     },
     "execution_count": 22,
     "metadata": {},
     "output_type": "execute_result"
    }
   ],
   "source": [
    "df.isnull().any()"
   ],
   "metadata": {
    "collapsed": false,
    "ExecuteTime": {
     "end_time": "2023-10-16T20:22:29.387779552Z",
     "start_time": "2023-10-16T20:22:29.326944642Z"
    }
   },
   "id": "475e29932d96d88"
  },
  {
   "cell_type": "code",
   "execution_count": 38,
   "outputs": [
    {
     "data": {
      "text/plain": "0          355030\n1          431490\n2          355030\n3          355030\n4          355030\n            ...  \n2166103    261160\n2166104    353760\n2166105    412440\n2166106    351620\n2166107    430310\nName: CO_MUN_RES, Length: 2166108, dtype: Int32"
     },
     "execution_count": 38,
     "metadata": {},
     "output_type": "execute_result"
    }
   ],
   "source": [
    "df.CO_MUN_RES"
   ],
   "metadata": {
    "collapsed": false,
    "ExecuteTime": {
     "end_time": "2023-10-16T20:31:08.572204223Z",
     "start_time": "2023-10-16T20:31:08.533142210Z"
    }
   },
   "id": "b504808d750a6bc6"
  },
  {
   "cell_type": "markdown",
   "source": [
    "### Seasonality"
   ],
   "metadata": {
    "collapsed": false
   },
   "id": "e25420388d2f80a"
  },
  {
   "cell_type": "markdown",
   "source": [
    "#### Symptoms"
   ],
   "metadata": {
    "collapsed": false
   },
   "id": "31da01105be47753"
  },
  {
   "cell_type": "code",
   "execution_count": 45,
   "outputs": [],
   "source": [
    "df_symptoms = df.groupby('DT_SIN_PRI').count().reset_index()"
   ],
   "metadata": {
    "collapsed": false,
    "ExecuteTime": {
     "end_time": "2023-10-16T20:43:13.374497228Z",
     "start_time": "2023-10-16T20:43:13.216666672Z"
    }
   },
   "id": "301ecf70a122f38"
  },
  {
   "cell_type": "code",
   "execution_count": 47,
   "outputs": [
    {
     "data": {
      "text/plain": "<Figure size 432x288 with 1 Axes>",
      "image/png": "[encoded data removed]"
     },
     "metadata": {
      "needs_background": "light"
     },
     "output_type": "display_data"
    }
   ],
   "source": [
    "plt.plot(df_symptoms.DT_SIN_PRI, df_symptoms.DT_NOTIFIC)\n",
    "plt.show()"
   ],
   "metadata": {
    "collapsed": false,
    "ExecuteTime": {
     "end_time": "2023-10-16T20:44:41.234806251Z",
     "start_time": "2023-10-16T20:44:40.965134661Z"
    }
   },
   "id": "750ed29bbe99ff9c"
  },
  {
   "cell_type": "code",
   "execution_count": 48,
   "outputs": [],
   "source": [
    "df_symptoms['day_of_week'] = df_symptoms.DT_SIN_PRI.dt.dayofweek"
   ],
   "metadata": {
    "collapsed": false,
    "ExecuteTime": {
     "end_time": "2023-10-16T20:45:46.528945509Z",
     "start_time": "2023-10-16T20:45:46.478232755Z"
    }
   },
   "id": "5da3f1791504aab2"
  },
  {
   "cell_type": "code",
   "execution_count": 49,
   "outputs": [
    {
     "data": {
      "text/plain": "<Figure size 432x288 with 1 Axes>",
      "image/png": "[encoded data removed]"
     },
     "metadata": {
      "needs_background": "light"
     },
     "output_type": "display_data"
    }
   ],
   "source": [
    "df_symptoms.boxplot(column='DT_NOTIFIC', by='day_of_week', grid=False)\n",
    "\n",
    "# Customize plot\n",
    "plt.title(None)\n",
    "plt.xlabel('Day of the Week')\n",
    "plt.ylabel('New cases (SRAG)')\n",
    "plt.xticks(range(1, 8), ['Mon', 'Tue', 'Wed', 'Thu', 'Fri', 'Sat', 'Sun'])\n",
    "\n",
    "# Show the plot\n",
    "plt.show()"
   ],
   "metadata": {
    "collapsed": false,
    "ExecuteTime": {
     "end_time": "2023-10-16T20:46:33.877654988Z",
     "start_time": "2023-10-16T20:46:33.663480774Z"
    }
   },
   "id": "1310cf2f8fba82b3"
  },
  {
   "cell_type": "markdown",
   "source": [
    "#### Deaths"
   ],
   "metadata": {
    "collapsed": false
   },
   "id": "5dd0e1e6ed4ec120"
  },
  {
   "cell_type": "code",
   "execution_count": 51,
   "outputs": [],
   "source": [
    "df_deaths = df[(df.EVOLUCAO == EVOLUTION_TO_DEATH) & (df.DT_EVOLUCA.isna()==False)].groupby('DT_EVOLUCA').count().reset_index()"
   ],
   "metadata": {
    "collapsed": false,
    "ExecuteTime": {
     "end_time": "2023-10-16T20:49:29.211920121Z",
     "start_time": "2023-10-16T20:49:29.074194357Z"
    }
   },
   "id": "dea88b0574f09ffb"
  },
  {
   "cell_type": "code",
   "execution_count": 53,
   "outputs": [
    {
     "data": {
      "text/plain": "<Figure size 432x288 with 1 Axes>",
      "image/png": "[encoded data removed]"
     },
     "metadata": {
      "needs_background": "light"
     },
     "output_type": "display_data"
    }
   ],
   "source": [
    "plt.plot(df_deaths.DT_EVOLUCA, df_deaths.DT_NOTIFIC)\n",
    "plt.show()"
   ],
   "metadata": {
    "collapsed": false,
    "ExecuteTime": {
     "end_time": "2023-10-16T20:50:19.381932695Z",
     "start_time": "2023-10-16T20:50:19.135932930Z"
    }
   },
   "id": "7a5d25bd6e8485ba"
  },
  {
   "cell_type": "code",
   "execution_count": 54,
   "outputs": [],
   "source": [
    "df_deaths['day_of_week'] = df_deaths.DT_EVOLUCA.dt.dayofweek"
   ],
   "metadata": {
    "collapsed": false,
    "ExecuteTime": {
     "end_time": "2023-10-16T20:55:03.645700914Z",
     "start_time": "2023-10-16T20:55:03.590568217Z"
    }
   },
   "id": "276678f770af48a9"
  },
  {
   "cell_type": "code",
   "execution_count": 56,
   "outputs": [
    {
     "data": {
      "text/plain": "<Figure size 432x288 with 1 Axes>",
      "image/png": "[encoded data removed]"
     },
     "metadata": {
      "needs_background": "light"
     },
     "output_type": "display_data"
    }
   ],
   "source": [
    "df_deaths.boxplot(column='DT_NOTIFIC', by='day_of_week', grid=False)\n",
    "\n",
    "# Customize plot\n",
    "plt.title(None)\n",
    "plt.xlabel('Day of the Week')\n",
    "plt.ylabel('New deaths (SRAG)')\n",
    "plt.xticks(range(1, 8), ['Mon', 'Tue', 'Wed', 'Thu', 'Fri', 'Sat', 'Sun'])\n",
    "\n",
    "# Show the plot\n",
    "plt.show()"
   ],
   "metadata": {
    "collapsed": false,
    "ExecuteTime": {
     "end_time": "2023-10-16T20:55:46.817470915Z",
     "start_time": "2023-10-16T20:55:46.615263247Z"
    }
   },
   "id": "d88557937c824378"
  },
  {
   "cell_type": "markdown",
   "source": [
    "### Noise in data"
   ],
   "metadata": {
    "collapsed": false
   },
   "id": "9ecf6f693c872b8d"
  },
  {
   "cell_type": "code",
   "execution_count": 66,
   "outputs": [],
   "source": [
    "df['DIF_DATA_SINTOMA_NOTIFICACAO'] = (df.DT_NOTIFIC - df.DT_SIN_PRI).dt.days\n",
    "df.loc[(df.EVOLUCAO == EVOLUTION_TO_DEATH) & (df.DT_EVOLUCA.isna()==False),'DIF_DATA_SINTOMA_OBITO'] = (df[(df.EVOLUCAO == EVOLUTION_TO_DEATH) & (df.DT_EVOLUCA.isna()==False)].DT_EVOLUCA - df[(df.EVOLUCAO == EVOLUTION_TO_DEATH) & (df.DT_EVOLUCA.isna()==False)].DT_SIN_PRI).dt.days "
   ],
   "metadata": {
    "collapsed": false,
    "ExecuteTime": {
     "end_time": "2023-10-16T21:16:12.653405797Z",
     "start_time": "2023-10-16T21:16:12.382094410Z"
    }
   },
   "id": "5711ed548dfb902f"
  },
  {
   "cell_type": "code",
   "execution_count": 67,
   "outputs": [
    {
     "data": {
      "text/plain": "<Figure size 864x288 with 1 Axes>",
      "image/png": "[encoded data removed]"
     },
     "metadata": {
      "needs_background": "light"
     },
     "output_type": "display_data"
    }
   ],
   "source": [
    "df.boxplot(column=['DIF_DATA_SINTOMA_NOTIFICACAO', 'DIF_DATA_SINTOMA_OBITO'], grid=False, figsize=(12,4))\n",
    "\n",
    "# Show the plot\n",
    "plt.show()"
   ],
   "metadata": {
    "collapsed": false,
    "ExecuteTime": {
     "end_time": "2023-10-16T21:16:28.616242802Z",
     "start_time": "2023-10-16T21:16:25.706607143Z"
    }
   },
   "id": "b0aedbf226d64b86"
  },
  {
   "cell_type": "code",
   "execution_count": 60,
   "outputs": [
    {
     "data": {
      "text/plain": "count    2166108.00\nmean          12.23\nstd           28.28\nmin            0.00\n25%            4.00\n50%            8.00\n75%           12.00\nmax         1098.00\nName: DIF_DATA_SINTOMA_NOTIFICACAO, dtype: float64"
     },
     "execution_count": 60,
     "metadata": {},
     "output_type": "execute_result"
    }
   ],
   "source": [
    "df.DIF_DATA_SINTOMA_NOTIFICACAO.describe().round(2)"
   ],
   "metadata": {
    "collapsed": false,
    "ExecuteTime": {
     "end_time": "2023-10-16T21:04:03.654103476Z",
     "start_time": "2023-10-16T21:04:03.567425777Z"
    }
   },
   "id": "4e49b4542ae1bd04"
  },
  {
   "cell_type": "code",
   "execution_count": 191,
   "outputs": [
    {
     "data": {
      "text/plain": "25678"
     },
     "execution_count": 191,
     "metadata": {},
     "output_type": "execute_result"
    }
   ],
   "source": [
    "len(df[df.DIF_DATA_SINTOMA_NOTIFICACAO>97.07])"
   ],
   "metadata": {
    "collapsed": false,
    "ExecuteTime": {
     "end_time": "2023-10-17T01:47:38.633054967Z",
     "start_time": "2023-10-17T01:47:38.557461917Z"
    }
   },
   "id": "b983939bcd4f8f5"
  },
  {
   "cell_type": "code",
   "execution_count": 192,
   "outputs": [
    {
     "data": {
      "text/plain": "2166108"
     },
     "execution_count": 192,
     "metadata": {},
     "output_type": "execute_result"
    }
   ],
   "source": [
    "len(df)"
   ],
   "metadata": {
    "collapsed": false,
    "ExecuteTime": {
     "end_time": "2023-10-17T01:47:40.624621638Z",
     "start_time": "2023-10-17T01:47:40.601141304Z"
    }
   },
   "id": "d5a6a2c0cd079a9c"
  },
  {
   "cell_type": "code",
   "execution_count": 193,
   "outputs": [
    {
     "data": {
      "text/plain": "1.185444123746369"
     },
     "execution_count": 193,
     "metadata": {},
     "output_type": "execute_result"
    }
   ],
   "source": [
    "len(df[df.DIF_DATA_SINTOMA_NOTIFICACAO>97.07])/len(df)*100"
   ],
   "metadata": {
    "collapsed": false,
    "ExecuteTime": {
     "end_time": "2023-10-17T01:47:45.563617188Z",
     "start_time": "2023-10-17T01:47:45.510503209Z"
    }
   },
   "id": "6d2beaed8ba5db4d"
  },
  {
   "cell_type": "code",
   "execution_count": 179,
   "outputs": [
    {
     "data": {
      "text/plain": "7100"
     },
     "execution_count": 179,
     "metadata": {},
     "output_type": "execute_result"
    }
   ],
   "source": [
    "len(df[df.DIF_DATA_SINTOMA_OBITO > 76.78])"
   ],
   "metadata": {
    "collapsed": false,
    "ExecuteTime": {
     "end_time": "2023-10-17T01:33:15.145176441Z",
     "start_time": "2023-10-17T01:33:15.083602716Z"
    }
   },
   "id": "ec2dab8bc3ee0986"
  },
  {
   "cell_type": "code",
   "execution_count": 180,
   "outputs": [
    {
     "data": {
      "text/plain": "0.3277768236856149"
     },
     "execution_count": 180,
     "metadata": {},
     "output_type": "execute_result"
    }
   ],
   "source": [
    "len(df[df.DIF_DATA_SINTOMA_OBITO>76.78])/len(df)*100"
   ],
   "metadata": {
    "collapsed": false,
    "ExecuteTime": {
     "end_time": "2023-10-17T01:33:51.642380054Z",
     "start_time": "2023-10-17T01:33:51.575903565Z"
    }
   },
   "id": "9cc960da71743302"
  },
  {
   "cell_type": "code",
   "execution_count": 173,
   "outputs": [
    {
     "data": {
      "text/plain": "count    669334.00\nmean         19.57\nstd          19.07\nmin           0.00\n25%          10.00\n50%          16.00\n75%          25.00\nmax         759.00\nName: DIF_DATA_SINTOMA_OBITO, dtype: float64"
     },
     "execution_count": 173,
     "metadata": {},
     "output_type": "execute_result"
    }
   ],
   "source": [
    "df.DIF_DATA_SINTOMA_OBITO.describe().round(2)"
   ],
   "metadata": {
    "collapsed": false,
    "ExecuteTime": {
     "end_time": "2023-10-17T01:23:18.822158746Z",
     "start_time": "2023-10-17T01:23:18.700331557Z"
    }
   },
   "id": "6502d1c97cd5c2f"
  },
  {
   "cell_type": "markdown",
   "source": [
    "## Preparing national time series"
   ],
   "metadata": {
    "collapsed": false
   },
   "id": "3f0e3da97876eef6"
  },
  {
   "cell_type": "code",
   "execution_count": 199,
   "outputs": [],
   "source": [
    "days = (df.DT_SIN_PRI.max() - df.DT_SIN_PRI.min()).days + 1\n",
    "\n",
    "date_range = pd.date_range(start=df.DT_SIN_PRI.min(), end=df.DT_SIN_PRI.max(), periods=days)\n",
    "\n",
    "# Create the DataFrame\n",
    "df_ts_national = pd.DataFrame({'DATA': date_range})"
   ],
   "metadata": {
    "collapsed": false,
    "ExecuteTime": {
     "end_time": "2023-10-17T02:01:01.955612447Z",
     "start_time": "2023-10-17T02:01:01.904292417Z"
    }
   },
   "id": "8f3ea41f839e798b"
  },
  {
   "cell_type": "code",
   "execution_count": 200,
   "outputs": [
    {
     "data": {
      "text/plain": "           DATA\n0    2020-02-16\n1    2020-02-17\n2    2020-02-18\n3    2020-02-19\n4    2020-02-20\n...         ...\n1045 2022-12-27\n1046 2022-12-28\n1047 2022-12-29\n1048 2022-12-30\n1049 2022-12-31\n\n[1050 rows x 1 columns]",
      "text/html": "<div>\n<style scoped>\n    .dataframe tbody tr th:only-of-type {\n        vertical-align: middle;\n    }\n\n    .dataframe tbody tr th {\n        vertical-align: top;\n    }\n\n    .dataframe thead th {\n        text-align: right;\n    }\n</style>\n<table border=\"1\" class=\"dataframe\">\n  <thead>\n    <tr style=\"text-align: right;\">\n      <th></th>\n      <th>DATA</th>\n    </tr>\n  </thead>\n  <tbody>\n    <tr>\n      <th>0</th>\n      <td>2020-02-16</td>\n    </tr>\n    <tr>\n      <th>1</th>\n      <td>2020-02-17</td>\n    </tr>\n    <tr>\n      <th>2</th>\n      <td>2020-02-18</td>\n    </tr>\n    <tr>\n      <th>3</th>\n      <td>2020-02-19</td>\n    </tr>\n    <tr>\n      <th>4</th>\n      <td>2020-02-20</td>\n    </tr>\n    <tr>\n      <th>...</th>\n      <td>...</td>\n    </tr>\n    <tr>\n      <th>1045</th>\n      <td>2022-12-27</td>\n    </tr>\n    <tr>\n      <th>1046</th>\n      <td>2022-12-28</td>\n    </tr>\n    <tr>\n      <th>1047</th>\n      <td>2022-12-29</td>\n    </tr>\n    <tr>\n      <th>1048</th>\n      <td>2022-12-30</td>\n    </tr>\n    <tr>\n      <th>1049</th>\n      <td>2022-12-31</td>\n    </tr>\n  </tbody>\n</table>\n<p>1050 rows × 1 columns</p>\n</div>"
     },
     "execution_count": 200,
     "metadata": {},
     "output_type": "execute_result"
    }
   ],
   "source": [
    "df_ts_national "
   ],
   "metadata": {
    "collapsed": false,
    "ExecuteTime": {
     "end_time": "2023-10-17T02:01:04.425862702Z",
     "start_time": "2023-10-17T02:01:04.383490222Z"
    }
   },
   "id": "5daf7a89c21a7cdb"
  },
  {
   "cell_type": "code",
   "execution_count": 198,
   "outputs": [
    {
     "data": {
      "text/plain": "           DATA  NOVOS_CASOS\n0    2020-02-16            5\n1    2020-02-17           10\n2    2020-02-18            8\n3    2020-02-19            5\n4    2020-02-20            7\n...         ...          ...\n1045 2022-12-27          462\n1046 2022-12-28          409\n1047 2022-12-29          343\n1048 2022-12-30          365\n1049 2022-12-31          309\n\n[1050 rows x 2 columns]",
      "text/html": "<div>\n<style scoped>\n    .dataframe tbody tr th:only-of-type {\n        vertical-align: middle;\n    }\n\n    .dataframe tbody tr th {\n        vertical-align: top;\n    }\n\n    .dataframe thead th {\n        text-align: right;\n    }\n</style>\n<table border=\"1\" class=\"dataframe\">\n  <thead>\n    <tr style=\"text-align: right;\">\n      <th></th>\n      <th>DATA</th>\n      <th>NOVOS_CASOS</th>\n    </tr>\n  </thead>\n  <tbody>\n    <tr>\n      <th>0</th>\n      <td>2020-02-16</td>\n      <td>5</td>\n    </tr>\n    <tr>\n      <th>1</th>\n      <td>2020-02-17</td>\n      <td>10</td>\n    </tr>\n    <tr>\n      <th>2</th>\n      <td>2020-02-18</td>\n      <td>8</td>\n    </tr>\n    <tr>\n      <th>3</th>\n      <td>2020-02-19</td>\n      <td>5</td>\n    </tr>\n    <tr>\n      <th>4</th>\n      <td>2020-02-20</td>\n      <td>7</td>\n    </tr>\n    <tr>\n      <th>...</th>\n      <td>...</td>\n      <td>...</td>\n    </tr>\n    <tr>\n      <th>1045</th>\n      <td>2022-12-27</td>\n      <td>462</td>\n    </tr>\n    <tr>\n      <th>1046</th>\n      <td>2022-12-28</td>\n      <td>409</td>\n    </tr>\n    <tr>\n      <th>1047</th>\n      <td>2022-12-29</td>\n      <td>343</td>\n    </tr>\n    <tr>\n      <th>1048</th>\n      <td>2022-12-30</td>\n      <td>365</td>\n    </tr>\n    <tr>\n      <th>1049</th>\n      <td>2022-12-31</td>\n      <td>309</td>\n    </tr>\n  </tbody>\n</table>\n<p>1050 rows × 2 columns</p>\n</div>"
     },
     "execution_count": 198,
     "metadata": {},
     "output_type": "execute_result"
    }
   ],
   "source": [
    "df_symptoms = df_symptoms[['DT_SIN_PRI', 'DT_NOTIFIC']].rename(columns={'DT_SIN_PRI': 'DATA', 'DT_NOTIFIC': 'NOVOS_CASOS'})\n",
    "df_symptoms"
   ],
   "metadata": {
    "collapsed": false,
    "ExecuteTime": {
     "end_time": "2023-10-17T02:00:09.300617119Z",
     "start_time": "2023-10-17T02:00:09.265956301Z"
    }
   },
   "id": "bb318783fae55ede"
  },
  {
   "cell_type": "code",
   "execution_count": 201,
   "outputs": [],
   "source": [
    "df_ts_national = df_ts_national.merge(df_symptoms, how='left', on='DATA')"
   ],
   "metadata": {
    "collapsed": false,
    "ExecuteTime": {
     "end_time": "2023-10-17T02:01:49.089570959Z",
     "start_time": "2023-10-17T02:01:49.048283779Z"
    }
   },
   "id": "82504e1c47bba6af"
  },
  {
   "cell_type": "code",
   "execution_count": 203,
   "outputs": [
    {
     "data": {
      "text/plain": "           DATA  NOVOS_OBITOS\n0    2020-03-12             1\n1    2020-03-15             2\n2    2020-03-16             3\n3    2020-03-17             4\n4    2020-03-18             9\n...         ...           ...\n1092 2023-03-15             2\n1093 2023-03-16             1\n1094 2023-03-19             1\n1095 2023-03-23             1\n1096 2023-03-30             1\n\n[1097 rows x 2 columns]",
      "text/html": "<div>\n<style scoped>\n    .dataframe tbody tr th:only-of-type {\n        vertical-align: middle;\n    }\n\n    .dataframe tbody tr th {\n        vertical-align: top;\n    }\n\n    .dataframe thead th {\n        text-align: right;\n    }\n</style>\n<table border=\"1\" class=\"dataframe\">\n  <thead>\n    <tr style=\"text-align: right;\">\n      <th></th>\n      <th>DATA</th>\n      <th>NOVOS_OBITOS</th>\n    </tr>\n  </thead>\n  <tbody>\n    <tr>\n      <th>0</th>\n      <td>2020-03-12</td>\n      <td>1</td>\n    </tr>\n    <tr>\n      <th>1</th>\n      <td>2020-03-15</td>\n      <td>2</td>\n    </tr>\n    <tr>\n      <th>2</th>\n      <td>2020-03-16</td>\n      <td>3</td>\n    </tr>\n    <tr>\n      <th>3</th>\n      <td>2020-03-17</td>\n      <td>4</td>\n    </tr>\n    <tr>\n      <th>4</th>\n      <td>2020-03-18</td>\n      <td>9</td>\n    </tr>\n    <tr>\n      <th>...</th>\n      <td>...</td>\n      <td>...</td>\n    </tr>\n    <tr>\n      <th>1092</th>\n      <td>2023-03-15</td>\n      <td>2</td>\n    </tr>\n    <tr>\n      <th>1093</th>\n      <td>2023-03-16</td>\n      <td>1</td>\n    </tr>\n    <tr>\n      <th>1094</th>\n      <td>2023-03-19</td>\n      <td>1</td>\n    </tr>\n    <tr>\n      <th>1095</th>\n      <td>2023-03-23</td>\n      <td>1</td>\n    </tr>\n    <tr>\n      <th>1096</th>\n      <td>2023-03-30</td>\n      <td>1</td>\n    </tr>\n  </tbody>\n</table>\n<p>1097 rows × 2 columns</p>\n</div>"
     },
     "execution_count": 203,
     "metadata": {},
     "output_type": "execute_result"
    }
   ],
   "source": [
    "df_deaths = df_deaths[['DT_EVOLUCA', 'DT_NOTIFIC']].rename(columns={'DT_EVOLUCA': 'DATA', 'DT_NOTIFIC': 'NOVOS_OBITOS'})\n",
    "df_deaths"
   ],
   "metadata": {
    "collapsed": false,
    "ExecuteTime": {
     "end_time": "2023-10-17T02:03:13.612213464Z",
     "start_time": "2023-10-17T02:03:13.571633106Z"
    }
   },
   "id": "497fd3a83eff101d"
  },
  {
   "cell_type": "code",
   "execution_count": 204,
   "outputs": [],
   "source": [
    "df_ts_national = df_ts_national.merge(df_deaths, how='left', on='DATA')"
   ],
   "metadata": {
    "collapsed": false,
    "ExecuteTime": {
     "end_time": "2023-10-17T02:03:45.304031511Z",
     "start_time": "2023-10-17T02:03:45.258274937Z"
    }
   },
   "id": "f53f86ec2fc0f9db"
  },
  {
   "cell_type": "code",
   "execution_count": 206,
   "outputs": [
    {
     "data": {
      "text/plain": "           DATA  NOVOS_CASOS  NOVOS_OBITOS\n0    2020-02-16            5           0.0\n1    2020-02-17           10           0.0\n2    2020-02-18            8           0.0\n3    2020-02-19            5           0.0\n4    2020-02-20            7           0.0\n...         ...          ...           ...\n1045 2022-12-27          462         125.0\n1046 2022-12-28          409         114.0\n1047 2022-12-29          343         110.0\n1048 2022-12-30          365          86.0\n1049 2022-12-31          309         114.0\n\n[1050 rows x 3 columns]",
      "text/html": "<div>\n<style scoped>\n    .dataframe tbody tr th:only-of-type {\n        vertical-align: middle;\n    }\n\n    .dataframe tbody tr th {\n        vertical-align: top;\n    }\n\n    .dataframe thead th {\n        text-align: right;\n    }\n</style>\n<table border=\"1\" class=\"dataframe\">\n  <thead>\n    <tr style=\"text-align: right;\">\n      <th></th>\n      <th>DATA</th>\n      <th>NOVOS_CASOS</th>\n      <th>NOVOS_OBITOS</th>\n    </tr>\n  </thead>\n  <tbody>\n    <tr>\n      <th>0</th>\n      <td>2020-02-16</td>\n      <td>5</td>\n      <td>0.0</td>\n    </tr>\n    <tr>\n      <th>1</th>\n      <td>2020-02-17</td>\n      <td>10</td>\n      <td>0.0</td>\n    </tr>\n    <tr>\n      <th>2</th>\n      <td>2020-02-18</td>\n      <td>8</td>\n      <td>0.0</td>\n    </tr>\n    <tr>\n      <th>3</th>\n      <td>2020-02-19</td>\n      <td>5</td>\n      <td>0.0</td>\n    </tr>\n    <tr>\n      <th>4</th>\n      <td>2020-02-20</td>\n      <td>7</td>\n      <td>0.0</td>\n    </tr>\n    <tr>\n      <th>...</th>\n      <td>...</td>\n      <td>...</td>\n      <td>...</td>\n    </tr>\n    <tr>\n      <th>1045</th>\n      <td>2022-12-27</td>\n      <td>462</td>\n      <td>125.0</td>\n    </tr>\n    <tr>\n      <th>1046</th>\n      <td>2022-12-28</td>\n      <td>409</td>\n      <td>114.0</td>\n    </tr>\n    <tr>\n      <th>1047</th>\n      <td>2022-12-29</td>\n      <td>343</td>\n      <td>110.0</td>\n    </tr>\n    <tr>\n      <th>1048</th>\n      <td>2022-12-30</td>\n      <td>365</td>\n      <td>86.0</td>\n    </tr>\n    <tr>\n      <th>1049</th>\n      <td>2022-12-31</td>\n      <td>309</td>\n      <td>114.0</td>\n    </tr>\n  </tbody>\n</table>\n<p>1050 rows × 3 columns</p>\n</div>"
     },
     "execution_count": 206,
     "metadata": {},
     "output_type": "execute_result"
    }
   ],
   "source": [
    "df_ts_national = df_ts_national.fillna(0)\n",
    "df_ts_national"
   ],
   "metadata": {
    "collapsed": false,
    "ExecuteTime": {
     "end_time": "2023-10-17T02:04:15.291232278Z",
     "start_time": "2023-10-17T02:04:15.251155663Z"
    }
   },
   "id": "e56ccaa0e2c95c73"
  },
  {
   "cell_type": "markdown",
   "source": [
    "## Saving data"
   ],
   "metadata": {
    "collapsed": false
   },
   "id": "b19161d0bd002781"
  },
  {
   "cell_type": "code",
   "execution_count": 207,
   "outputs": [],
   "source": [
    "df_ts_national.to_csv('data/output/df_ts_srag_national.csv', index=False)"
   ],
   "metadata": {
    "collapsed": false,
    "ExecuteTime": {
     "end_time": "2023-10-17T02:06:06.550733749Z",
     "start_time": "2023-10-17T02:06:06.495097996Z"
    }
   },
   "id": "f27f1d6a28997c91"
  },
  {
   "cell_type": "code",
   "execution_count": 209,
   "outputs": [
    {
     "data": {
      "text/plain": "2166108"
     },
     "execution_count": 209,
     "metadata": {},
     "output_type": "execute_result"
    }
   ],
   "source": [
    "df_ts_national.NOVOS_CASOS.sum()"
   ],
   "metadata": {
    "collapsed": false,
    "ExecuteTime": {
     "end_time": "2023-10-17T02:06:41.725855384Z",
     "start_time": "2023-10-17T02:06:41.679863470Z"
    }
   },
   "id": "db0bcd5b97dd906d"
  },
  {
   "cell_type": "code",
   "execution_count": 210,
   "outputs": [
    {
     "data": {
      "text/plain": "667918.0"
     },
     "execution_count": 210,
     "metadata": {},
     "output_type": "execute_result"
    }
   ],
   "source": [
    "df_ts_national.NOVOS_OBITOS.sum()"
   ],
   "metadata": {
    "collapsed": false,
    "ExecuteTime": {
     "end_time": "2023-10-17T02:07:06.113553695Z",
     "start_time": "2023-10-17T02:07:06.080027362Z"
    }
   },
   "id": "fd5a3c1fd86fe3ea"
  }
 ],
 "metadata": {
  "kernelspec": {
   "display_name": "Python 3",
   "language": "python",
   "name": "python3"
  },
  "language_info": {
   "codemirror_mode": {
    "name": "ipython",
    "version": 2
   },
   "file_extension": ".py",
   "mimetype": "text/x-python",
   "name": "python",
   "nbconvert_exporter": "python",
   "pygments_lexer": "ipython2",
   "version": "2.7.6"
  }
 },
 "nbformat": 4,
 "nbformat_minor": 5
}
