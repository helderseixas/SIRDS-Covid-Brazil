{
 "cells": [
  {
   "cell_type": "markdown",
   "source": [
    "# Treating data from the Sistema de Informação sobre Mortalidade (SIM) provied by the Ministério da Saúde for national data"
   ],
   "metadata": {
    "collapsed": false
   }
  },
  {
   "cell_type": "code",
   "execution_count": 48,
   "outputs": [],
   "source": [
    "import pandas as pd\n",
    "from datetime import datetime\n",
    "import matplotlib.pyplot as plt"
   ],
   "metadata": {
    "collapsed": false,
    "ExecuteTime": {
     "end_time": "2023-10-17T12:17:03.429117048Z",
     "start_time": "2023-10-17T12:17:03.073495131Z"
    }
   }
  },
  {
   "cell_type": "markdown",
   "source": [
    "## Loading data"
   ],
   "metadata": {
    "collapsed": false
   }
  },
  {
   "cell_type": "code",
   "execution_count": 49,
   "outputs": [],
   "source": [
    "df_raw = pd.read_csv(\"data/output/df_sim_raw.csv\", dtype=str)"
   ],
   "metadata": {
    "collapsed": false,
    "ExecuteTime": {
     "end_time": "2023-10-17T12:17:07.477532009Z",
     "start_time": "2023-10-17T12:17:03.073655432Z"
    }
   }
  },
  {
   "cell_type": "code",
   "execution_count": 50,
   "outputs": [],
   "source": [
    "date_columns = ['DTOBITO','DTATESTADO', 'DTNASC', 'DTCADASTRO', 'DTRECEBIM', 'DTRECORIGA','DTCADINF', 'DTCADINV', 'DTCONCASO', 'DTINVESTIG']\n",
    "df_raw[date_columns] = df_raw[date_columns].apply(pd.to_datetime, format='%d%m%Y')"
   ],
   "metadata": {
    "collapsed": false,
    "ExecuteTime": {
     "end_time": "2023-10-17T12:17:12.324082849Z",
     "start_time": "2023-10-17T12:17:07.523363765Z"
    }
   }
  },
  {
   "cell_type": "code",
   "execution_count": 51,
   "outputs": [],
   "source": [
    "df_municipal_base = pd.read_csv('../brazilian_municipalities/data/output/df_municpal.csv', dtype=str)[['MUNICIPIO','CODIGO_MUNICIPIO_6','SIGLA_ESTADO','ESTADO','REGIAO','POPULACAO_2022']]\n",
    "df_municipal_base.POPULACAO_2022 = df_municipal_base.POPULACAO_2022.astype(int)\n",
    "brazil_population_2022 = df_municipal_base.POPULACAO_2022.sum()"
   ],
   "metadata": {
    "collapsed": false,
    "ExecuteTime": {
     "end_time": "2023-10-17T12:17:12.702889586Z",
     "start_time": "2023-10-17T12:17:12.327046125Z"
    }
   }
  },
  {
   "cell_type": "code",
   "execution_count": 52,
   "outputs": [
    {
     "data": {
      "text/plain": "203062512"
     },
     "execution_count": 52,
     "metadata": {},
     "output_type": "execute_result"
    }
   ],
   "source": [
    "brazil_population_2022"
   ],
   "metadata": {
    "collapsed": false,
    "ExecuteTime": {
     "end_time": "2023-10-17T12:17:12.721607801Z",
     "start_time": "2023-10-17T12:17:12.706225833Z"
    }
   }
  },
  {
   "cell_type": "markdown",
   "source": [
    "## Utils"
   ],
   "metadata": {
    "collapsed": false
   }
  },
  {
   "cell_type": "code",
   "execution_count": 53,
   "outputs": [],
   "source": [
    "DATE_FIRST_DEATH = datetime.fromisoformat('2020-03-12')\n",
    "DATE_STUDY_END = datetime.fromisoformat('2022-12-31')"
   ],
   "metadata": {
    "collapsed": false,
    "ExecuteTime": {
     "end_time": "2023-10-17T12:17:12.756648478Z",
     "start_time": "2023-10-17T12:17:12.709379318Z"
    }
   }
  },
  {
   "cell_type": "markdown",
   "source": [
    "## Describing data"
   ],
   "metadata": {
    "collapsed": false
   }
  },
  {
   "cell_type": "code",
   "execution_count": 54,
   "outputs": [
    {
     "data": {
      "text/plain": "Timestamp('2020-01-22 00:00:00')"
     },
     "execution_count": 54,
     "metadata": {},
     "output_type": "execute_result"
    }
   ],
   "source": [
    "df_raw.DTOBITO.min()"
   ],
   "metadata": {
    "collapsed": false,
    "ExecuteTime": {
     "end_time": "2023-10-17T12:17:12.779979175Z",
     "start_time": "2023-10-17T12:17:12.733051155Z"
    }
   }
  },
  {
   "cell_type": "code",
   "execution_count": 55,
   "outputs": [
    {
     "data": {
      "text/plain": "Timestamp('2022-12-31 00:00:00')"
     },
     "execution_count": 55,
     "metadata": {},
     "output_type": "execute_result"
    }
   ],
   "source": [
    "df_raw.DTOBITO.max()"
   ],
   "metadata": {
    "collapsed": false,
    "ExecuteTime": {
     "end_time": "2023-10-17T12:17:12.847202216Z",
     "start_time": "2023-10-17T12:17:12.765334272Z"
    }
   }
  },
  {
   "cell_type": "code",
   "execution_count": 56,
   "outputs": [
    {
     "data": {
      "text/plain": "1027"
     },
     "execution_count": 56,
     "metadata": {},
     "output_type": "execute_result"
    }
   ],
   "source": [
    "df_raw.DTOBITO.unique().shape[0]"
   ],
   "metadata": {
    "collapsed": false,
    "ExecuteTime": {
     "end_time": "2023-10-17T12:17:12.871092089Z",
     "start_time": "2023-10-17T12:17:12.831333214Z"
    }
   }
  },
  {
   "cell_type": "code",
   "execution_count": 57,
   "outputs": [
    {
     "data": {
      "text/plain": "702559"
     },
     "execution_count": 57,
     "metadata": {},
     "output_type": "execute_result"
    }
   ],
   "source": [
    "len(df_raw)"
   ],
   "metadata": {
    "collapsed": false,
    "ExecuteTime": {
     "end_time": "2023-10-17T12:17:12.871668302Z",
     "start_time": "2023-10-17T12:17:12.831552718Z"
    }
   }
  },
  {
   "cell_type": "markdown",
   "source": [
    "## Anomalies"
   ],
   "metadata": {
    "collapsed": false
   }
  },
  {
   "cell_type": "markdown",
   "source": [
    "### Missing data"
   ],
   "metadata": {
    "collapsed": false
   }
  },
  {
   "cell_type": "code",
   "execution_count": 58,
   "outputs": [
    {
     "data": {
      "text/plain": "DTOBITO       False\nDTNASC         True\nSEXO          False\nRACACOR        True\nESC            True\nESC2010        True\nSERIESCFAL     True\nOCUP           True\nCODMUNRES     False\nLOCOCOR       False\nCODMUNOCOR    False\nSEMAGESTAC     True\nGESTACAO       True\nOBITOGRAV      True\nLINHAA         True\nLINHAB         True\nLINHAC         True\nLINHAD         True\nLINHAII        True\nCAUSABAS      False\nCB_PRE         True\nCOMUNSVOIM     True\nDTATESTADO     True\nDTINVESTIG     True\nCAUSABAS_O     True\nDTCADASTRO     True\nDTRECEBIM      True\nATESTADO      False\nDTRECORIGA    False\nCAUSAMAT       True\nSTDOEPIDEM    False\nDIFDATA       False\nNUDIASOBCO     True\nDTCADINV       True\nTPOBITOCOR     True\nDTCONINV       True\nTPRESGINFO     True\nTPNIVELINV     True\nDTCADINF       True\nDTCONCASO      True\nALTCAUSA       True\nCONTADOR      False\ndtype: bool"
     },
     "execution_count": 58,
     "metadata": {},
     "output_type": "execute_result"
    }
   ],
   "source": [
    "df_raw.isnull().any()"
   ],
   "metadata": {
    "collapsed": false,
    "ExecuteTime": {
     "end_time": "2023-10-17T12:17:13.725734183Z",
     "start_time": "2023-10-17T12:17:12.875304384Z"
    }
   }
  },
  {
   "cell_type": "markdown",
   "source": [
    "### Noised data"
   ],
   "metadata": {
    "collapsed": false
   }
  },
  {
   "cell_type": "markdown",
   "source": [
    "#### Date of first death"
   ],
   "metadata": {
    "collapsed": false
   }
  },
  {
   "cell_type": "markdown",
   "source": [
    "The first death occurred on March 12, 2020, in São Paulo. The patient was a woman of 57 years old.\n",
    "https://www.cnnbrasil.com.br/saude/primeira-morte-por-covid-19-no-pais-ocorreu-em-12-de-marco-em-sp-diz-ministerio/\n",
    "https://www.cnnbrasil.com.br/saude/1a-morte-por-covid-19-no-brasil-ocorreu-ha-3-anos-como-a-vacinacao-mudou-o-cenario-da-doenca/\n",
    "https://www.cnnbrasil.com.br/saude/ministerio-diz-que-primeira-morte-por-covid-19-foi-em-janeiro/"
   ],
   "metadata": {
    "collapsed": false
   }
  },
  {
   "cell_type": "code",
   "execution_count": 59,
   "outputs": [
    {
     "data": {
      "text/plain": "         DTOBITO     DTNASC SEXO RACACOR ESC ESC2010 SERIESCFAL    OCUP  \\\n51385 2020-03-02 1927-03-12    2       1   3       2        NaN  999992   \n89536 2020-01-22 1935-06-20    2       4   1       0        NaN     NaN   \n\n      CODMUNRES LOCOCOR  ... NUDIASOBCO DTCADINV TPOBITOCOR DTCONINV  \\\n51385    211130       1  ...        NaN      NaT        NaN      NaN   \n89536    261500       3  ...        NaN      NaT        NaN      NaN   \n\n      TPRESGINFO TPNIVELINV DTCADINF DTCONCASO ALTCAUSA CONTADOR  \n51385        NaN        NaN      NaT       NaT      NaN   399021  \n89536        NaN        NaN      NaT       NaT      NaN   401051  \n\n[2 rows x 42 columns]",
      "text/html": "<div>\n<style scoped>\n    .dataframe tbody tr th:only-of-type {\n        vertical-align: middle;\n    }\n\n    .dataframe tbody tr th {\n        vertical-align: top;\n    }\n\n    .dataframe thead th {\n        text-align: right;\n    }\n</style>\n<table border=\"1\" class=\"dataframe\">\n  <thead>\n    <tr style=\"text-align: right;\">\n      <th></th>\n      <th>DTOBITO</th>\n      <th>DTNASC</th>\n      <th>SEXO</th>\n      <th>RACACOR</th>\n      <th>ESC</th>\n      <th>ESC2010</th>\n      <th>SERIESCFAL</th>\n      <th>OCUP</th>\n      <th>CODMUNRES</th>\n      <th>LOCOCOR</th>\n      <th>...</th>\n      <th>NUDIASOBCO</th>\n      <th>DTCADINV</th>\n      <th>TPOBITOCOR</th>\n      <th>DTCONINV</th>\n      <th>TPRESGINFO</th>\n      <th>TPNIVELINV</th>\n      <th>DTCADINF</th>\n      <th>DTCONCASO</th>\n      <th>ALTCAUSA</th>\n      <th>CONTADOR</th>\n    </tr>\n  </thead>\n  <tbody>\n    <tr>\n      <th>51385</th>\n      <td>2020-03-02</td>\n      <td>1927-03-12</td>\n      <td>2</td>\n      <td>1</td>\n      <td>3</td>\n      <td>2</td>\n      <td>NaN</td>\n      <td>999992</td>\n      <td>211130</td>\n      <td>1</td>\n      <td>...</td>\n      <td>NaN</td>\n      <td>NaT</td>\n      <td>NaN</td>\n      <td>NaN</td>\n      <td>NaN</td>\n      <td>NaN</td>\n      <td>NaT</td>\n      <td>NaT</td>\n      <td>NaN</td>\n      <td>399021</td>\n    </tr>\n    <tr>\n      <th>89536</th>\n      <td>2020-01-22</td>\n      <td>1935-06-20</td>\n      <td>2</td>\n      <td>4</td>\n      <td>1</td>\n      <td>0</td>\n      <td>NaN</td>\n      <td>NaN</td>\n      <td>261500</td>\n      <td>3</td>\n      <td>...</td>\n      <td>NaN</td>\n      <td>NaT</td>\n      <td>NaN</td>\n      <td>NaN</td>\n      <td>NaN</td>\n      <td>NaN</td>\n      <td>NaT</td>\n      <td>NaT</td>\n      <td>NaN</td>\n      <td>401051</td>\n    </tr>\n  </tbody>\n</table>\n<p>2 rows × 42 columns</p>\n</div>"
     },
     "execution_count": 59,
     "metadata": {},
     "output_type": "execute_result"
    }
   ],
   "source": [
    "df_raw[df_raw.DTOBITO < DATE_FIRST_DEATH]"
   ],
   "metadata": {
    "collapsed": false,
    "ExecuteTime": {
     "end_time": "2023-10-17T12:17:13.906817402Z",
     "start_time": "2023-10-17T12:17:13.725662030Z"
    }
   }
  },
  {
   "cell_type": "code",
   "execution_count": 60,
   "outputs": [
    {
     "data": {
      "text/plain": "          DTOBITO     DTNASC SEXO RACACOR ESC ESC2010 SERIESCFAL    OCUP  \\\n92842  2020-03-12 1937-05-08    1       1   3       2        NaN  141405   \n169511 2020-03-12 1962-06-19    2       1   4       2          8  999992   \n\n       CODMUNRES LOCOCOR  ... NUDIASOBCO DTCADINV TPOBITOCOR DTCONINV  \\\n92842     260790       2  ...        NaN      NaT        NaN      NaN   \n169511    355030       1  ...        NaN      NaT        NaN      NaN   \n\n       TPRESGINFO TPNIVELINV DTCADINF DTCONCASO ALTCAUSA CONTADOR  \n92842         NaN        NaN      NaT       NaT      NaN   748281  \n169511        NaN        NaN      NaT       NaT      NaN   219318  \n\n[2 rows x 42 columns]",
      "text/html": "<div>\n<style scoped>\n    .dataframe tbody tr th:only-of-type {\n        vertical-align: middle;\n    }\n\n    .dataframe tbody tr th {\n        vertical-align: top;\n    }\n\n    .dataframe thead th {\n        text-align: right;\n    }\n</style>\n<table border=\"1\" class=\"dataframe\">\n  <thead>\n    <tr style=\"text-align: right;\">\n      <th></th>\n      <th>DTOBITO</th>\n      <th>DTNASC</th>\n      <th>SEXO</th>\n      <th>RACACOR</th>\n      <th>ESC</th>\n      <th>ESC2010</th>\n      <th>SERIESCFAL</th>\n      <th>OCUP</th>\n      <th>CODMUNRES</th>\n      <th>LOCOCOR</th>\n      <th>...</th>\n      <th>NUDIASOBCO</th>\n      <th>DTCADINV</th>\n      <th>TPOBITOCOR</th>\n      <th>DTCONINV</th>\n      <th>TPRESGINFO</th>\n      <th>TPNIVELINV</th>\n      <th>DTCADINF</th>\n      <th>DTCONCASO</th>\n      <th>ALTCAUSA</th>\n      <th>CONTADOR</th>\n    </tr>\n  </thead>\n  <tbody>\n    <tr>\n      <th>92842</th>\n      <td>2020-03-12</td>\n      <td>1937-05-08</td>\n      <td>1</td>\n      <td>1</td>\n      <td>3</td>\n      <td>2</td>\n      <td>NaN</td>\n      <td>141405</td>\n      <td>260790</td>\n      <td>2</td>\n      <td>...</td>\n      <td>NaN</td>\n      <td>NaT</td>\n      <td>NaN</td>\n      <td>NaN</td>\n      <td>NaN</td>\n      <td>NaN</td>\n      <td>NaT</td>\n      <td>NaT</td>\n      <td>NaN</td>\n      <td>748281</td>\n    </tr>\n    <tr>\n      <th>169511</th>\n      <td>2020-03-12</td>\n      <td>1962-06-19</td>\n      <td>2</td>\n      <td>1</td>\n      <td>4</td>\n      <td>2</td>\n      <td>8</td>\n      <td>999992</td>\n      <td>355030</td>\n      <td>1</td>\n      <td>...</td>\n      <td>NaN</td>\n      <td>NaT</td>\n      <td>NaN</td>\n      <td>NaN</td>\n      <td>NaN</td>\n      <td>NaN</td>\n      <td>NaT</td>\n      <td>NaT</td>\n      <td>NaN</td>\n      <td>219318</td>\n    </tr>\n  </tbody>\n</table>\n<p>2 rows × 42 columns</p>\n</div>"
     },
     "execution_count": 60,
     "metadata": {},
     "output_type": "execute_result"
    }
   ],
   "source": [
    "df_raw[df_raw.DTOBITO == DATE_FIRST_DEATH]"
   ],
   "metadata": {
    "collapsed": false,
    "ExecuteTime": {
     "end_time": "2023-10-17T12:17:13.907468176Z",
     "start_time": "2023-10-17T12:17:13.859399452Z"
    }
   }
  },
  {
   "cell_type": "markdown",
   "source": [
    "### Seasonality"
   ],
   "metadata": {
    "collapsed": false
   }
  },
  {
   "cell_type": "code",
   "execution_count": 61,
   "outputs": [],
   "source": [
    "df_national = df_raw.groupby('DTOBITO').count().reset_index()"
   ],
   "metadata": {
    "collapsed": false,
    "ExecuteTime": {
     "end_time": "2023-10-17T12:17:14.915094556Z",
     "start_time": "2023-10-17T12:17:13.859535517Z"
    }
   }
  },
  {
   "cell_type": "code",
   "execution_count": 62,
   "outputs": [
    {
     "data": {
      "text/plain": "<Figure size 432x288 with 1 Axes>",
      "image/png": "[encoded data removed]"
     },
     "metadata": {
      "needs_background": "light"
     },
     "output_type": "display_data"
    }
   ],
   "source": [
    "plt.plot(df_national.DTOBITO, df_national.CODMUNRES)\n",
    "plt.show()"
   ],
   "metadata": {
    "collapsed": false,
    "ExecuteTime": {
     "end_time": "2023-10-17T12:17:15.605568500Z",
     "start_time": "2023-10-17T12:17:14.999738598Z"
    }
   }
  },
  {
   "cell_type": "code",
   "execution_count": 63,
   "outputs": [],
   "source": [
    "# Group data by day of the week\n",
    "df_national['day_of_week'] = df_national.DTOBITO.dt.dayofweek"
   ],
   "metadata": {
    "collapsed": false,
    "ExecuteTime": {
     "end_time": "2023-10-17T12:17:15.672937518Z",
     "start_time": "2023-10-17T12:17:15.607612165Z"
    }
   }
  },
  {
   "cell_type": "code",
   "execution_count": 64,
   "outputs": [
    {
     "data": {
      "text/plain": "<Figure size 432x288 with 1 Axes>",
      "image/png": "[encoded data removed]"
     },
     "metadata": {
      "needs_background": "light"
     },
     "output_type": "display_data"
    }
   ],
   "source": [
    "df_national.boxplot(column='CODMUNRES', by='day_of_week', grid=False)\n",
    "\n",
    "# Customize plot\n",
    "plt.title(None)\n",
    "plt.xlabel('Day of the Week')\n",
    "plt.ylabel('New deaths')\n",
    "plt.xticks(range(1, 8), ['Mon', 'Tue', 'Wed', 'Thu', 'Fri', 'Sat', 'Sun'])\n",
    "\n",
    "# Show the plot\n",
    "plt.show()"
   ],
   "metadata": {
    "collapsed": false,
    "ExecuteTime": {
     "end_time": "2023-10-17T12:17:15.934424975Z",
     "start_time": "2023-10-17T12:17:15.651405112Z"
    }
   }
  },
  {
   "cell_type": "markdown",
   "source": [
    "#### Noise in death date\n",
    "Despite we note noise in data, we prefer not change the data. "
   ],
   "metadata": {
    "collapsed": false
   }
  },
  {
   "cell_type": "code",
   "execution_count": 65,
   "outputs": [],
   "source": [
    "df_raw['DIFDATA'] = df_raw.DIFDATA.astype(int)\n",
    "\n",
    "df_raw['DIFDATA_CADASTRO_OBITO'] = (df_raw.DTCADASTRO - df_raw.DTOBITO).dt.days\n",
    "df_raw['DIFDATA_CADASTRO_ATESTADO'] = (df_raw.DTCADASTRO - df_raw.DTATESTADO).dt.days\n",
    "df_raw['DIFDATA_ATESTADO_OBITO'] = (df_raw.DTATESTADO - df_raw.DTOBITO).dt.days"
   ],
   "metadata": {
    "collapsed": false,
    "ExecuteTime": {
     "end_time": "2023-10-17T12:17:16.270852517Z",
     "start_time": "2023-10-17T12:17:16.009262638Z"
    }
   }
  },
  {
   "cell_type": "code",
   "execution_count": 66,
   "outputs": [
    {
     "data": {
      "text/plain": "<Figure size 864x288 with 1 Axes>",
      "image/png": "[encoded data removed]"
     },
     "metadata": {
      "needs_background": "light"
     },
     "output_type": "display_data"
    }
   ],
   "source": [
    "df_raw.boxplot(column=['DIFDATA', 'DIFDATA_ATESTADO_OBITO', 'DIFDATA_CADASTRO_OBITO', 'DIFDATA_CADASTRO_ATESTADO'], grid=False, figsize=(12,4))\n",
    "\n",
    "# Show the plot\n",
    "plt.show()"
   ],
   "metadata": {
    "collapsed": false,
    "ExecuteTime": {
     "end_time": "2023-10-17T12:17:18.457146058Z",
     "start_time": "2023-10-17T12:17:16.292975082Z"
    }
   }
  },
  {
   "cell_type": "code",
   "execution_count": 67,
   "outputs": [
    {
     "data": {
      "text/plain": "count    701741.000000\nmean          0.269850\nstd           5.658117\nmin        -304.000000\n25%           0.000000\n50%           0.000000\n75%           0.000000\nmax         730.000000\nName: DIFDATA_ATESTADO_OBITO, dtype: float64"
     },
     "execution_count": 67,
     "metadata": {},
     "output_type": "execute_result"
    }
   ],
   "source": [
    "df_raw.DIFDATA_ATESTADO_OBITO.describe()"
   ],
   "metadata": {
    "collapsed": false,
    "ExecuteTime": {
     "end_time": "2023-10-17T12:17:18.506653632Z",
     "start_time": "2023-10-17T12:17:18.458392504Z"
    }
   }
  },
  {
   "cell_type": "code",
   "execution_count": 68,
   "outputs": [
    {
     "data": {
      "text/plain": "40317"
     },
     "execution_count": 68,
     "metadata": {},
     "output_type": "execute_result"
    }
   ],
   "source": [
    "len(df_raw[df_raw.DIFDATA_ATESTADO_OBITO!=0])"
   ],
   "metadata": {
    "collapsed": false,
    "ExecuteTime": {
     "end_time": "2023-10-17T12:17:18.544150047Z",
     "start_time": "2023-10-17T12:17:18.491756876Z"
    }
   }
  },
  {
   "cell_type": "code",
   "execution_count": 69,
   "outputs": [
    {
     "data": {
      "text/plain": "76"
     },
     "execution_count": 69,
     "metadata": {},
     "output_type": "execute_result"
    }
   ],
   "source": [
    "len(df_raw[df_raw.DIFDATA_ATESTADO_OBITO<0])"
   ],
   "metadata": {
    "collapsed": false,
    "ExecuteTime": {
     "end_time": "2023-10-17T12:17:18.604016573Z",
     "start_time": "2023-10-17T12:17:18.534878326Z"
    }
   }
  },
  {
   "cell_type": "code",
   "execution_count": 70,
   "outputs": [
    {
     "data": {
      "text/plain": "1234"
     },
     "execution_count": 70,
     "metadata": {},
     "output_type": "execute_result"
    }
   ],
   "source": [
    "len(df_raw[df_raw.DIFDATA_ATESTADO_OBITO>28])"
   ],
   "metadata": {
    "collapsed": false,
    "ExecuteTime": {
     "end_time": "2023-10-17T12:17:18.604382489Z",
     "start_time": "2023-10-17T12:17:18.579553175Z"
    }
   }
  },
  {
   "cell_type": "markdown",
   "source": [
    "## Treating anomalies"
   ],
   "metadata": {
    "collapsed": false
   }
  },
  {
   "cell_type": "markdown",
   "source": [
    "### Treating dates"
   ],
   "metadata": {
    "collapsed": false
   }
  },
  {
   "cell_type": "code",
   "execution_count": 71,
   "outputs": [
    {
     "data": {
      "text/plain": "(702557, 45)"
     },
     "execution_count": 71,
     "metadata": {},
     "output_type": "execute_result"
    }
   ],
   "source": [
    "df_raw = df_raw[(df_raw.DTOBITO >= DATE_FIRST_DEATH) & (df_raw.DTOBITO <= DATE_STUDY_END)]\n",
    "df_raw.shape"
   ],
   "metadata": {
    "collapsed": false,
    "ExecuteTime": {
     "end_time": "2023-10-17T12:17:18.831915492Z",
     "start_time": "2023-10-17T12:17:18.579745066Z"
    }
   }
  },
  {
   "cell_type": "markdown",
   "source": [
    "## Prepareing national time series"
   ],
   "metadata": {
    "collapsed": false
   }
  },
  {
   "cell_type": "code",
   "execution_count": 72,
   "outputs": [],
   "source": [
    "df_covid_deaths_national_timeseries_sim = df_raw.groupby(['DTOBITO']).count().reset_index()[['DTOBITO','CAUSABAS']].copy()"
   ],
   "metadata": {
    "collapsed": false,
    "ExecuteTime": {
     "end_time": "2023-10-17T12:17:19.741130974Z",
     "start_time": "2023-10-17T12:17:18.842437014Z"
    }
   }
  },
  {
   "cell_type": "code",
   "execution_count": 73,
   "outputs": [],
   "source": [
    "df_covid_deaths_national_timeseries_sim = df_covid_deaths_national_timeseries_sim.rename(columns={'DTOBITO': 'DATA', 'CAUSABAS': 'OBITOS_NOVOS'})"
   ],
   "metadata": {
    "collapsed": false,
    "ExecuteTime": {
     "end_time": "2023-10-17T12:17:19.750169722Z",
     "start_time": "2023-10-17T12:17:19.743130631Z"
    }
   }
  },
  {
   "cell_type": "code",
   "execution_count": 74,
   "outputs": [],
   "source": [
    "df_covid_deaths_national_timeseries_sim = df_covid_deaths_national_timeseries_sim.sort_values('DATA')\n",
    "df_covid_deaths_national_timeseries_sim['OBITOS'] = df_covid_deaths_national_timeseries_sim['OBITOS_NOVOS'].cumsum()"
   ],
   "metadata": {
    "collapsed": false,
    "ExecuteTime": {
     "end_time": "2023-10-17T12:17:19.776051853Z",
     "start_time": "2023-10-17T12:17:19.746360866Z"
    }
   }
  },
  {
   "cell_type": "code",
   "execution_count": 75,
   "outputs": [],
   "source": [
    "df_covid_deaths_national_timeseries_sim['day_of_week'] = df_covid_deaths_national_timeseries_sim.DATA.dt.dayofweek\n",
    "proportion_day_of_week = df_covid_deaths_national_timeseries_sim.groupby(['day_of_week']).sum()[['OBITOS_NOVOS']] / df_covid_deaths_national_timeseries_sim.sum()[['OBITOS_NOVOS']]"
   ],
   "metadata": {
    "collapsed": false,
    "ExecuteTime": {
     "end_time": "2023-10-17T12:17:19.813739535Z",
     "start_time": "2023-10-17T12:17:19.776314766Z"
    }
   }
  },
  {
   "cell_type": "code",
   "execution_count": 76,
   "outputs": [],
   "source": [
    "proportion_day_of_week = proportion_day_of_week.reset_index()"
   ],
   "metadata": {
    "collapsed": false,
    "ExecuteTime": {
     "end_time": "2023-10-17T12:17:19.830992404Z",
     "start_time": "2023-10-17T12:17:19.815565754Z"
    }
   }
  },
  {
   "cell_type": "code",
   "execution_count": 77,
   "outputs": [
    {
     "data": {
      "text/plain": "   day_of_week  OBITOS_NOVOS\n0            0      0.143937\n1            1      0.142633\n2            2      0.143285\n3            3      0.143245\n4            4      0.143177\n5            5      0.142292\n6            6      0.141431",
      "text/html": "<div>\n<style scoped>\n    .dataframe tbody tr th:only-of-type {\n        vertical-align: middle;\n    }\n\n    .dataframe tbody tr th {\n        vertical-align: top;\n    }\n\n    .dataframe thead th {\n        text-align: right;\n    }\n</style>\n<table border=\"1\" class=\"dataframe\">\n  <thead>\n    <tr style=\"text-align: right;\">\n      <th></th>\n      <th>day_of_week</th>\n      <th>OBITOS_NOVOS</th>\n    </tr>\n  </thead>\n  <tbody>\n    <tr>\n      <th>0</th>\n      <td>0</td>\n      <td>0.143937</td>\n    </tr>\n    <tr>\n      <th>1</th>\n      <td>1</td>\n      <td>0.142633</td>\n    </tr>\n    <tr>\n      <th>2</th>\n      <td>2</td>\n      <td>0.143285</td>\n    </tr>\n    <tr>\n      <th>3</th>\n      <td>3</td>\n      <td>0.143245</td>\n    </tr>\n    <tr>\n      <th>4</th>\n      <td>4</td>\n      <td>0.143177</td>\n    </tr>\n    <tr>\n      <th>5</th>\n      <td>5</td>\n      <td>0.142292</td>\n    </tr>\n    <tr>\n      <th>6</th>\n      <td>6</td>\n      <td>0.141431</td>\n    </tr>\n  </tbody>\n</table>\n</div>"
     },
     "execution_count": 77,
     "metadata": {},
     "output_type": "execute_result"
    }
   ],
   "source": [
    "proportion_day_of_week"
   ],
   "metadata": {
    "collapsed": false,
    "ExecuteTime": {
     "end_time": "2023-10-17T12:17:19.872306405Z",
     "start_time": "2023-10-17T12:17:19.871410429Z"
    }
   }
  },
  {
   "cell_type": "markdown",
   "source": [
    "Although we can not check seasonality in this data, we choice apply the moving average to smooth the data inner a week."
   ],
   "metadata": {
    "collapsed": false
   }
  },
  {
   "cell_type": "code",
   "execution_count": 78,
   "outputs": [],
   "source": [
    "df_covid_deaths_national_timeseries_sim['OBITOS_NOVOS_MEDIA_MOVEL_7_DIAS'] = df_covid_deaths_national_timeseries_sim['OBITOS_NOVOS'].rolling(window=7, min_periods=1).mean().reset_index(level=0, drop=True)"
   ],
   "metadata": {
    "collapsed": false,
    "ExecuteTime": {
     "end_time": "2023-10-17T12:17:19.933042641Z",
     "start_time": "2023-10-17T12:17:19.871562410Z"
    }
   }
  },
  {
   "cell_type": "code",
   "execution_count": 79,
   "outputs": [],
   "source": [
    "df_covid_deaths_national_timeseries_sim['POPULACAO_2022'] = brazil_population_2022"
   ],
   "metadata": {
    "collapsed": false,
    "ExecuteTime": {
     "end_time": "2023-10-17T12:17:19.933324923Z",
     "start_time": "2023-10-17T12:17:19.915400Z"
    }
   }
  },
  {
   "cell_type": "code",
   "execution_count": 80,
   "outputs": [],
   "source": [
    "df_covid_deaths_national_timeseries_sim['TAXA_OBITOS_NOVOS'] = df_covid_deaths_national_timeseries_sim.OBITOS_NOVOS / df_covid_deaths_national_timeseries_sim.POPULACAO_2022 * 100000\n",
    "df_covid_deaths_national_timeseries_sim['TAXA_OBITOS_NOVOS_MEDIA_MOVEL_7_DIAS'] = df_covid_deaths_national_timeseries_sim.OBITOS_NOVOS_MEDIA_MOVEL_7_DIAS / df_covid_deaths_national_timeseries_sim.POPULACAO_2022 * 100000\n",
    "df_covid_deaths_national_timeseries_sim['TAXA_OBITOS'] = df_covid_deaths_national_timeseries_sim.OBITOS / df_covid_deaths_national_timeseries_sim.POPULACAO_2022 * 100000"
   ],
   "metadata": {
    "collapsed": false,
    "ExecuteTime": {
     "end_time": "2023-10-17T12:17:19.978146980Z",
     "start_time": "2023-10-17T12:17:19.915631466Z"
    }
   }
  },
  {
   "cell_type": "code",
   "execution_count": 81,
   "outputs": [
    {
     "data": {
      "text/plain": "702557"
     },
     "execution_count": 81,
     "metadata": {},
     "output_type": "execute_result"
    }
   ],
   "source": [
    "df_covid_deaths_national_timeseries_sim.OBITOS_NOVOS.sum()"
   ],
   "metadata": {
    "collapsed": false,
    "ExecuteTime": {
     "end_time": "2023-10-17T12:17:20.071727144Z",
     "start_time": "2023-10-17T12:17:19.940389616Z"
    }
   }
  },
  {
   "cell_type": "markdown",
   "source": [
    "## Saving data"
   ],
   "metadata": {
    "collapsed": false
   }
  },
  {
   "cell_type": "code",
   "execution_count": 82,
   "outputs": [],
   "source": [
    "df_raw.to_csv('data/output/df_sim_national_raw_treated.csv', index=False)"
   ],
   "metadata": {
    "collapsed": false,
    "ExecuteTime": {
     "end_time": "2023-10-17T12:17:43.201268490Z",
     "start_time": "2023-10-17T12:17:20.070325039Z"
    }
   }
  },
  {
   "cell_type": "code",
   "execution_count": 87,
   "outputs": [
    {
     "data": {
      "text/plain": "(702557, 45)"
     },
     "execution_count": 87,
     "metadata": {},
     "output_type": "execute_result"
    }
   ],
   "source": [
    "df_raw.shape"
   ],
   "metadata": {
    "collapsed": false,
    "ExecuteTime": {
     "end_time": "2023-10-17T12:20:57.422241682Z",
     "start_time": "2023-10-17T12:20:57.371030934Z"
    }
   }
  },
  {
   "cell_type": "code",
   "execution_count": 88,
   "outputs": [
    {
     "data": {
      "text/plain": "     DTOBITO     DTNASC SEXO RACACOR ESC ESC2010 SERIESCFAL    OCUP CODMUNRES  \\\n0 2020-05-21 1942-08-10    2       4   1       0        NaN  999993    120010   \n1 2020-05-27 1943-02-19    2       4   1       0        NaN  999993    120010   \n2 2020-05-27 1975-01-14    1       1   9       9        NaN  999993    120025   \n3 2020-05-05 1972-06-10    2       1   3       2        NaN     NaN    120040   \n4 2020-05-25 1939-10-04    2       4   1       0        NaN  999993    120040   \n\n  LOCOCOR  ...  DTCONINV TPRESGINFO TPNIVELINV DTCADINF DTCONCASO ALTCAUSA  \\\n0       1  ...       NaN        NaN        NaN      NaT       NaT      NaN   \n1       1  ...       NaN        NaN        NaN      NaT       NaT      NaN   \n2       1  ...       NaN        NaN        NaN      NaT       NaT      NaN   \n3       1  ...  26112020        NaN          M      NaT       NaT      NaN   \n4       1  ...       NaN        NaN        NaN      NaT       NaT      NaN   \n\n  CONTADOR DIFDATA_CADASTRO_OBITO DIFDATA_CADASTRO_ATESTADO  \\\n0      606                    8.0                       8.0   \n1      612                    2.0                       2.0   \n2      613                    2.0                       2.0   \n3     2664                   34.0                      34.0   \n4     6245                   18.0                      18.0   \n\n  DIFDATA_ATESTADO_OBITO  \n0                    0.0  \n1                    0.0  \n2                    0.0  \n3                    0.0  \n4                    0.0  \n\n[5 rows x 45 columns]",
      "text/html": "<div>\n<style scoped>\n    .dataframe tbody tr th:only-of-type {\n        vertical-align: middle;\n    }\n\n    .dataframe tbody tr th {\n        vertical-align: top;\n    }\n\n    .dataframe thead th {\n        text-align: right;\n    }\n</style>\n<table border=\"1\" class=\"dataframe\">\n  <thead>\n    <tr style=\"text-align: right;\">\n      <th></th>\n      <th>DTOBITO</th>\n      <th>DTNASC</th>\n      <th>SEXO</th>\n      <th>RACACOR</th>\n      <th>ESC</th>\n      <th>ESC2010</th>\n      <th>SERIESCFAL</th>\n      <th>OCUP</th>\n      <th>CODMUNRES</th>\n      <th>LOCOCOR</th>\n      <th>...</th>\n      <th>DTCONINV</th>\n      <th>TPRESGINFO</th>\n      <th>TPNIVELINV</th>\n      <th>DTCADINF</th>\n      <th>DTCONCASO</th>\n      <th>ALTCAUSA</th>\n      <th>CONTADOR</th>\n      <th>DIFDATA_CADASTRO_OBITO</th>\n      <th>DIFDATA_CADASTRO_ATESTADO</th>\n      <th>DIFDATA_ATESTADO_OBITO</th>\n    </tr>\n  </thead>\n  <tbody>\n    <tr>\n      <th>0</th>\n      <td>2020-05-21</td>\n      <td>1942-08-10</td>\n      <td>2</td>\n      <td>4</td>\n      <td>1</td>\n      <td>0</td>\n      <td>NaN</td>\n      <td>999993</td>\n      <td>120010</td>\n      <td>1</td>\n      <td>...</td>\n      <td>NaN</td>\n      <td>NaN</td>\n      <td>NaN</td>\n      <td>NaT</td>\n      <td>NaT</td>\n      <td>NaN</td>\n      <td>606</td>\n      <td>8.0</td>\n      <td>8.0</td>\n      <td>0.0</td>\n    </tr>\n    <tr>\n      <th>1</th>\n      <td>2020-05-27</td>\n      <td>1943-02-19</td>\n      <td>2</td>\n      <td>4</td>\n      <td>1</td>\n      <td>0</td>\n      <td>NaN</td>\n      <td>999993</td>\n      <td>120010</td>\n      <td>1</td>\n      <td>...</td>\n      <td>NaN</td>\n      <td>NaN</td>\n      <td>NaN</td>\n      <td>NaT</td>\n      <td>NaT</td>\n      <td>NaN</td>\n      <td>612</td>\n      <td>2.0</td>\n      <td>2.0</td>\n      <td>0.0</td>\n    </tr>\n    <tr>\n      <th>2</th>\n      <td>2020-05-27</td>\n      <td>1975-01-14</td>\n      <td>1</td>\n      <td>1</td>\n      <td>9</td>\n      <td>9</td>\n      <td>NaN</td>\n      <td>999993</td>\n      <td>120025</td>\n      <td>1</td>\n      <td>...</td>\n      <td>NaN</td>\n      <td>NaN</td>\n      <td>NaN</td>\n      <td>NaT</td>\n      <td>NaT</td>\n      <td>NaN</td>\n      <td>613</td>\n      <td>2.0</td>\n      <td>2.0</td>\n      <td>0.0</td>\n    </tr>\n    <tr>\n      <th>3</th>\n      <td>2020-05-05</td>\n      <td>1972-06-10</td>\n      <td>2</td>\n      <td>1</td>\n      <td>3</td>\n      <td>2</td>\n      <td>NaN</td>\n      <td>NaN</td>\n      <td>120040</td>\n      <td>1</td>\n      <td>...</td>\n      <td>26112020</td>\n      <td>NaN</td>\n      <td>M</td>\n      <td>NaT</td>\n      <td>NaT</td>\n      <td>NaN</td>\n      <td>2664</td>\n      <td>34.0</td>\n      <td>34.0</td>\n      <td>0.0</td>\n    </tr>\n    <tr>\n      <th>4</th>\n      <td>2020-05-25</td>\n      <td>1939-10-04</td>\n      <td>2</td>\n      <td>4</td>\n      <td>1</td>\n      <td>0</td>\n      <td>NaN</td>\n      <td>999993</td>\n      <td>120040</td>\n      <td>1</td>\n      <td>...</td>\n      <td>NaN</td>\n      <td>NaN</td>\n      <td>NaN</td>\n      <td>NaT</td>\n      <td>NaT</td>\n      <td>NaN</td>\n      <td>6245</td>\n      <td>18.0</td>\n      <td>18.0</td>\n      <td>0.0</td>\n    </tr>\n  </tbody>\n</table>\n<p>5 rows × 45 columns</p>\n</div>"
     },
     "execution_count": 88,
     "metadata": {},
     "output_type": "execute_result"
    }
   ],
   "source": [
    "df_raw.head()"
   ],
   "metadata": {
    "collapsed": false,
    "ExecuteTime": {
     "end_time": "2023-10-17T12:21:16.932974192Z",
     "start_time": "2023-10-17T12:21:16.896932298Z"
    }
   }
  },
  {
   "cell_type": "code",
   "execution_count": 83,
   "outputs": [],
   "source": [
    "df_covid_deaths_national_timeseries_sim.to_csv('data/output/df_sim_national.csv', index=False)"
   ],
   "metadata": {
    "collapsed": false,
    "ExecuteTime": {
     "end_time": "2023-10-17T12:17:43.219117349Z",
     "start_time": "2023-10-17T12:17:43.203959962Z"
    }
   }
  },
  {
   "cell_type": "code",
   "execution_count": 86,
   "outputs": [
    {
     "data": {
      "text/plain": "(1025, 9)"
     },
     "execution_count": 86,
     "metadata": {},
     "output_type": "execute_result"
    }
   ],
   "source": [
    "df_covid_deaths_national_timeseries_sim.shape"
   ],
   "metadata": {
    "collapsed": false,
    "ExecuteTime": {
     "end_time": "2023-10-17T12:20:42.213489523Z",
     "start_time": "2023-10-17T12:20:42.168587418Z"
    }
   }
  },
  {
   "cell_type": "code",
   "execution_count": 85,
   "outputs": [
    {
     "data": {
      "text/plain": "        DATA  OBITOS_NOVOS  OBITOS  day_of_week  \\\n0 2020-03-12             2       2            3   \n1 2020-03-13             2       4            4   \n2 2020-03-14             3       7            5   \n3 2020-03-15             3      10            6   \n4 2020-03-16             6      16            0   \n\n   OBITOS_NOVOS_MEDIA_MOVEL_7_DIAS  POPULACAO_2022  TAXA_OBITOS_NOVOS  \\\n0                         2.000000       203062512           0.000985   \n1                         2.000000       203062512           0.000985   \n2                         2.333333       203062512           0.001477   \n3                         2.500000       203062512           0.001477   \n4                         3.200000       203062512           0.002955   \n\n   TAXA_OBITOS_NOVOS_MEDIA_MOVEL_7_DIAS  TAXA_OBITOS  \n0                              0.000985     0.000985  \n1                              0.000985     0.001970  \n2                              0.001149     0.003447  \n3                              0.001231     0.004925  \n4                              0.001576     0.007879  ",
      "text/html": "<div>\n<style scoped>\n    .dataframe tbody tr th:only-of-type {\n        vertical-align: middle;\n    }\n\n    .dataframe tbody tr th {\n        vertical-align: top;\n    }\n\n    .dataframe thead th {\n        text-align: right;\n    }\n</style>\n<table border=\"1\" class=\"dataframe\">\n  <thead>\n    <tr style=\"text-align: right;\">\n      <th></th>\n      <th>DATA</th>\n      <th>OBITOS_NOVOS</th>\n      <th>OBITOS</th>\n      <th>day_of_week</th>\n      <th>OBITOS_NOVOS_MEDIA_MOVEL_7_DIAS</th>\n      <th>POPULACAO_2022</th>\n      <th>TAXA_OBITOS_NOVOS</th>\n      <th>TAXA_OBITOS_NOVOS_MEDIA_MOVEL_7_DIAS</th>\n      <th>TAXA_OBITOS</th>\n    </tr>\n  </thead>\n  <tbody>\n    <tr>\n      <th>0</th>\n      <td>2020-03-12</td>\n      <td>2</td>\n      <td>2</td>\n      <td>3</td>\n      <td>2.000000</td>\n      <td>203062512</td>\n      <td>0.000985</td>\n      <td>0.000985</td>\n      <td>0.000985</td>\n    </tr>\n    <tr>\n      <th>1</th>\n      <td>2020-03-13</td>\n      <td>2</td>\n      <td>4</td>\n      <td>4</td>\n      <td>2.000000</td>\n      <td>203062512</td>\n      <td>0.000985</td>\n      <td>0.000985</td>\n      <td>0.001970</td>\n    </tr>\n    <tr>\n      <th>2</th>\n      <td>2020-03-14</td>\n      <td>3</td>\n      <td>7</td>\n      <td>5</td>\n      <td>2.333333</td>\n      <td>203062512</td>\n      <td>0.001477</td>\n      <td>0.001149</td>\n      <td>0.003447</td>\n    </tr>\n    <tr>\n      <th>3</th>\n      <td>2020-03-15</td>\n      <td>3</td>\n      <td>10</td>\n      <td>6</td>\n      <td>2.500000</td>\n      <td>203062512</td>\n      <td>0.001477</td>\n      <td>0.001231</td>\n      <td>0.004925</td>\n    </tr>\n    <tr>\n      <th>4</th>\n      <td>2020-03-16</td>\n      <td>6</td>\n      <td>16</td>\n      <td>0</td>\n      <td>3.200000</td>\n      <td>203062512</td>\n      <td>0.002955</td>\n      <td>0.001576</td>\n      <td>0.007879</td>\n    </tr>\n  </tbody>\n</table>\n</div>"
     },
     "execution_count": 85,
     "metadata": {},
     "output_type": "execute_result"
    }
   ],
   "source": [
    "df_covid_deaths_national_timeseries_sim.head()"
   ],
   "metadata": {
    "collapsed": false,
    "ExecuteTime": {
     "end_time": "2023-10-17T12:20:35.475343539Z",
     "start_time": "2023-10-17T12:20:35.442908778Z"
    }
   }
  },
  {
   "cell_type": "code",
   "execution_count": 89,
   "outputs": [
    {
     "data": {
      "text/plain": "702557"
     },
     "execution_count": 89,
     "metadata": {},
     "output_type": "execute_result"
    }
   ],
   "source": [
    "df_covid_deaths_national_timeseries_sim.OBITOS_NOVOS.sum()"
   ],
   "metadata": {
    "collapsed": false,
    "ExecuteTime": {
     "end_time": "2023-10-17T12:21:36.077238687Z",
     "start_time": "2023-10-17T12:21:36.043090329Z"
    }
   }
  }
 ],
 "metadata": {
  "kernelspec": {
   "display_name": "Python 3",
   "language": "python",
   "name": "python3"
  },
  "language_info": {
   "codemirror_mode": {
    "name": "ipython",
    "version": 2
   },
   "file_extension": ".py",
   "mimetype": "text/x-python",
   "name": "python",
   "nbconvert_exporter": "python",
   "pygments_lexer": "ipython2",
   "version": "2.7.6"
  }
 },
 "nbformat": 4,
 "nbformat_minor": 0
}
