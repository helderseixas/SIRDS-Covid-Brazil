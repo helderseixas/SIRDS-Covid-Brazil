{
 "cells": [
  {
   "cell_type": "markdown",
   "source": [
    "# Persisting series of SIRDS model"
   ],
   "metadata": {
    "collapsed": false
   }
  },
  {
   "cell_type": "code",
   "execution_count": 1,
   "metadata": {
    "collapsed": true,
    "ExecuteTime": {
     "end_time": "2023-12-06T00:50:30.267783458Z",
     "start_time": "2023-12-06T00:50:30.071768862Z"
    }
   },
   "outputs": [],
   "source": [
    "import numpy as np\n",
    "import pandas as pd\n",
    "import datetime\n",
    "\n",
    "from sirds_model_visualization import get_sirds, get_sirds_extras"
   ]
  },
  {
   "cell_type": "markdown",
   "source": [
    "## Reading data"
   ],
   "metadata": {
    "collapsed": false
   }
  },
  {
   "cell_type": "code",
   "execution_count": 2,
   "outputs": [],
   "source": [
    "df = pd.read_csv('data/output/df_ts_epidemic_episodes.csv', index_col=0)\n",
    "df.DATA = pd.to_datetime(df.DATA)"
   ],
   "metadata": {
    "collapsed": false,
    "ExecuteTime": {
     "end_time": "2023-12-06T00:50:30.284122211Z",
     "start_time": "2023-12-06T00:50:30.271527034Z"
    }
   }
  },
  {
   "cell_type": "code",
   "execution_count": 3,
   "outputs": [],
   "source": [
    "df['TAXA_CASOS_NOVOS_MEDIA_MOVEL_7_DIAS_PAINEL'] = df.CASOS_NOVOS_MEDIA_MOVEL_7_DIAS_PAINEL / df.POPULACAO_2022 * 100000"
   ],
   "metadata": {
    "collapsed": false,
    "ExecuteTime": {
     "end_time": "2023-12-06T00:50:30.326790391Z",
     "start_time": "2023-12-06T00:50:30.326410344Z"
    }
   }
  },
  {
   "cell_type": "code",
   "execution_count": 4,
   "outputs": [],
   "source": [
    "df_results = pd.read_csv('data/output/estimation_results.csv')\n",
    "df_results['date_first_case'] = df_results['date_first_case'].str[:11]\n",
    "df_results.date_first_case = pd.to_datetime(df_results['date_first_case'], errors='coerce')\n",
    "df_results['date_first_case'] = df_results['date_first_case'].fillna(df_results['date_first_case'].min())"
   ],
   "metadata": {
    "collapsed": false,
    "ExecuteTime": {
     "end_time": "2023-12-06T00:50:30.370654597Z",
     "start_time": "2023-12-06T00:50:30.326656295Z"
    }
   }
  },
  {
   "cell_type": "code",
   "execution_count": 5,
   "outputs": [],
   "source": [
    "df_results_outbreak_0 = pd.read_csv('data/output/estimation_results_outbreak_0.csv')\n",
    "df_results_outbreak_0['date_first_case'] = df_results_outbreak_0['date_first_case'].str[:11]\n",
    "df_results_outbreak_0.date_first_case = pd.to_datetime(df_results_outbreak_0['date_first_case'], errors='coerce')\n",
    "df_results_outbreak_0['date_first_case'] = df_results_outbreak_0['date_first_case'].fillna(df_results_outbreak_0['date_first_case'].min())"
   ],
   "metadata": {
    "collapsed": false,
    "ExecuteTime": {
     "end_time": "2023-12-06T00:50:30.372362867Z",
     "start_time": "2023-12-06T00:50:30.370471642Z"
    }
   }
  },
  {
   "cell_type": "code",
   "execution_count": 6,
   "outputs": [],
   "source": [
    "df_results_outbreak_0_days_to_fit_21 = df_results[(df_results.outbreak == 0) & (df_results.alpha == 0)].copy()\n",
    "df_results_outbreak_0_days_to_fit_21['days_to_fit_within_outbreak'] = 21\n",
    "df_results_outbreak_0 = pd.concat([df_results_outbreak_0, df_results_outbreak_0_days_to_fit_21])"
   ],
   "metadata": {
    "collapsed": false,
    "ExecuteTime": {
     "end_time": "2023-12-06T00:50:30.414810520Z",
     "start_time": "2023-12-06T00:50:30.374099260Z"
    }
   }
  },
  {
   "cell_type": "code",
   "execution_count": 7,
   "outputs": [
    {
     "data": {
      "text/plain": "array([21., 28., 35., 42., 49., 56., 63., 70.])"
     },
     "execution_count": 7,
     "metadata": {},
     "output_type": "execute_result"
    }
   ],
   "source": [
    "df_results_outbreak_0 = df_results_outbreak_0.sort_values(['days_to_fit_within_outbreak', 'estimation'])\n",
    "df_results_outbreak_0.days_to_fit_within_outbreak.unique()"
   ],
   "metadata": {
    "collapsed": false,
    "ExecuteTime": {
     "end_time": "2023-12-06T00:50:30.459173296Z",
     "start_time": "2023-12-06T00:50:30.414690678Z"
    }
   }
  },
  {
   "cell_type": "markdown",
   "source": [
    "## Executing simulations"
   ],
   "metadata": {
    "collapsed": false
   }
  },
  {
   "cell_type": "code",
   "execution_count": 8,
   "outputs": [],
   "source": [
    "def execute_simulations(df_results):\n",
    "    df_sirds = pd.DataFrame()\n",
    "    \n",
    "    for index, result in df_results.iterrows():\n",
    "        result = result.dropna()\n",
    "        \n",
    "        y = get_sirds(result)\n",
    "        S, I, R, D, I_accumulated = y\n",
    "        S = S[:]\n",
    "        I = I[:]\n",
    "        R = R[:]\n",
    "        D = D[:]\n",
    "        I_accumulated = I_accumulated[:]\n",
    "        N = S[0] + I[0] + R[0] + D[0]\n",
    "       \n",
    "        D_new_deaths, reproduction_number_sird, I_new_cases, epidemic_periods_with_fast_transition_fuzzy_variable, epidemic_periods_with_slow_transition_fuzzy_variable, days_between_infections_values, case_fatality_probability_values, loss_immunity_in_days_values, estimated_days_between_infections, estimated_case_fatality_probability, estimated_loss_immunity_in_days = get_sirds_extras(result, S, D, I_accumulated)\n",
    "        \n",
    "        date_first_case = result.date_first_case \n",
    "        period_in_days = int(result.period_in_days)\n",
    "        max_date_to_fit = pd.to_datetime(result.max_date_to_fit)\n",
    "        train_period = (max_date_to_fit - date_first_case).days + 1\n",
    "        \n",
    "        date_list = [result.date_first_case + datetime.timedelta(days=i) for i in range(period_in_days)]\n",
    "        D_new_deaths = np.append([None], D_new_deaths)\n",
    "        I_new_cases = np.append([None], I_new_cases)\n",
    "        \n",
    "        df_temp = pd.DataFrame({\n",
    "                    'date': date_list,\n",
    "                    'S': S,\n",
    "                    'I': I,\n",
    "                    'R': R,\n",
    "                    'D': D,\n",
    "                    'I_accumulated': I_accumulated,\n",
    "                    'D_new_deaths': D_new_deaths,\n",
    "                    'reproduction_number_sird': reproduction_number_sird,\n",
    "                    'I_new_cases': I_new_cases,\n",
    "                    'days_between_infections': estimated_days_between_infections,\n",
    "                    'case_fatality_probability': estimated_case_fatality_probability,\n",
    "                    'loss_immunity_in_days': estimated_loss_immunity_in_days\n",
    "                })\n",
    "        \n",
    "        df_temp['train_period'] = None\n",
    "        df_temp['train_period'] = df_temp['train_period'].astype(bool)\n",
    "        df_temp.loc[:train_period,'train_period'] = True\n",
    "        df_temp.loc[train_period:,'train_period'] = False\n",
    "        \n",
    "        df_temp['outbreak'] = result.outbreak\n",
    "        df_temp['alpha'] = result.alpha\n",
    "        df_temp['estimation'] = result.estimation\n",
    "        try:\n",
    "            df_temp['days_to_fit_within_outbreak'] = result['days_to_fit_within_outbreak']\n",
    "        except KeyError:\n",
    "            pass\n",
    "                    \n",
    "        df_sirds = pd.concat([df_sirds, df_temp], ignore_index=True)\n",
    "    \n",
    "    return df_sirds"
   ],
   "metadata": {
    "collapsed": false,
    "ExecuteTime": {
     "end_time": "2023-12-06T00:50:30.459484393Z",
     "start_time": "2023-12-06T00:50:30.458545806Z"
    }
   }
  },
  {
   "cell_type": "code",
   "execution_count": 9,
   "outputs": [],
   "source": [
    "df_sirds = execute_simulations(df_results)"
   ],
   "metadata": {
    "collapsed": false,
    "ExecuteTime": {
     "end_time": "2023-12-06T00:51:31.081325369Z",
     "start_time": "2023-12-06T00:50:30.458732315Z"
    }
   }
  },
  {
   "cell_type": "code",
   "execution_count": 10,
   "outputs": [],
   "source": [
    "df_sirds_outbreak_0 = execute_simulations(df_results_outbreak_0)"
   ],
   "metadata": {
    "collapsed": false,
    "ExecuteTime": {
     "end_time": "2023-12-06T00:51:34.911916665Z",
     "start_time": "2023-12-06T00:51:31.122420534Z"
    }
   }
  },
  {
   "cell_type": "code",
   "execution_count": 11,
   "outputs": [
    {
     "data": {
      "text/plain": "            date             S           I            R          D  \\\n0     2020-02-16  99999.988027    0.011973     0.000000   0.000000   \n1     2020-02-17  99999.983885    0.014470     0.001637   0.000008   \n2     2020-02-18  99999.978885    0.017489     0.003608   0.000018   \n3     2020-02-19  99999.972850    0.021136     0.005984   0.000031   \n4     2020-02-20  99999.965561    0.025544     0.008850   0.000045   \n...          ...           ...         ...          ...        ...   \n24075 2020-08-04  94988.908760  442.668946  4506.565907  61.856387   \n24076 2020-08-05  94950.332357  442.285352  4544.897254  62.485037   \n24077 2020-08-06  94911.969753  441.878785  4583.038352  63.113110   \n24078 2020-08-07  94873.823043  441.449799  4620.986587  63.740571   \n24079 2020-08-08  94835.894304  440.998972  4658.739338  64.367386   \n\n       I_accumulated D_new_deaths  reproduction_number_sird I_new_cases  \\\n0           0.011973         None                  2.515196        None   \n1           0.016119     0.000008                  2.515196    0.004146   \n2           0.021129      0.00001                  2.515196     0.00501   \n3           0.027183     0.000012                  2.515195    0.006054   \n4           0.034501     0.000015                  2.515195    0.007318   \n...              ...          ...                       ...         ...   \n24075    5885.482349     0.629194                  0.993632   55.002952   \n24076    5940.414437     0.628651                  0.993226   54.932088   \n24077    5995.272674     0.628072                  0.992823   54.858237   \n24078    6050.054675     0.627461                  0.992422   54.782001   \n24079    6104.758081     0.626816                  0.992023   54.703407   \n\n       days_between_infections  case_fatality_probability  \\\n0                     3.180667                   0.005061   \n1                     3.180667                   0.005061   \n2                     3.180667                   0.005061   \n3                     3.180667                   0.005061   \n4                     3.180667                   0.005061   \n...                        ...                        ...   \n24075                 7.650937                   0.011365   \n24076                 7.650937                   0.011365   \n24077                 7.650937                   0.011365   \n24078                 7.650937                   0.011365   \n24079                 7.650937                   0.011365   \n\n       loss_immunity_in_days  train_period  outbreak  alpha  estimation  \\\n0                 250.947207          True       0.0    0.0         0.0   \n1                 250.947207          True       0.0    0.0         0.0   \n2                 250.947207          True       0.0    0.0         0.0   \n3                 250.947207          True       0.0    0.0         0.0   \n4                 250.947207          True       0.0    0.0         0.0   \n...                      ...           ...       ...    ...         ...   \n24075             276.577406         False       0.0    0.0        19.0   \n24076             276.577406         False       0.0    0.0        19.0   \n24077             276.577406         False       0.0    0.0        19.0   \n24078             276.577406         False       0.0    0.0        19.0   \n24079             276.577406         False       0.0    0.0        19.0   \n\n       days_to_fit_within_outbreak  \n0                             21.0  \n1                             21.0  \n2                             21.0  \n3                             21.0  \n4                             21.0  \n...                            ...  \n24075                         70.0  \n24076                         70.0  \n24077                         70.0  \n24078                         70.0  \n24079                         70.0  \n\n[24080 rows x 17 columns]",
      "text/html": "<div>\n<style scoped>\n    .dataframe tbody tr th:only-of-type {\n        vertical-align: middle;\n    }\n\n    .dataframe tbody tr th {\n        vertical-align: top;\n    }\n\n    .dataframe thead th {\n        text-align: right;\n    }\n</style>\n<table border=\"1\" class=\"dataframe\">\n  <thead>\n    <tr style=\"text-align: right;\">\n      <th></th>\n      <th>date</th>\n      <th>S</th>\n      <th>I</th>\n      <th>R</th>\n      <th>D</th>\n      <th>I_accumulated</th>\n      <th>D_new_deaths</th>\n      <th>reproduction_number_sird</th>\n      <th>I_new_cases</th>\n      <th>days_between_infections</th>\n      <th>case_fatality_probability</th>\n      <th>loss_immunity_in_days</th>\n      <th>train_period</th>\n      <th>outbreak</th>\n      <th>alpha</th>\n      <th>estimation</th>\n      <th>days_to_fit_within_outbreak</th>\n    </tr>\n  </thead>\n  <tbody>\n    <tr>\n      <th>0</th>\n      <td>2020-02-16</td>\n      <td>99999.988027</td>\n      <td>0.011973</td>\n      <td>0.000000</td>\n      <td>0.000000</td>\n      <td>0.011973</td>\n      <td>None</td>\n      <td>2.515196</td>\n      <td>None</td>\n      <td>3.180667</td>\n      <td>0.005061</td>\n      <td>250.947207</td>\n      <td>True</td>\n      <td>0.0</td>\n      <td>0.0</td>\n      <td>0.0</td>\n      <td>21.0</td>\n    </tr>\n    <tr>\n      <th>1</th>\n      <td>2020-02-17</td>\n      <td>99999.983885</td>\n      <td>0.014470</td>\n      <td>0.001637</td>\n      <td>0.000008</td>\n      <td>0.016119</td>\n      <td>0.000008</td>\n      <td>2.515196</td>\n      <td>0.004146</td>\n      <td>3.180667</td>\n      <td>0.005061</td>\n      <td>250.947207</td>\n      <td>True</td>\n      <td>0.0</td>\n      <td>0.0</td>\n      <td>0.0</td>\n      <td>21.0</td>\n    </tr>\n    <tr>\n      <th>2</th>\n      <td>2020-02-18</td>\n      <td>99999.978885</td>\n      <td>0.017489</td>\n      <td>0.003608</td>\n      <td>0.000018</td>\n      <td>0.021129</td>\n      <td>0.00001</td>\n      <td>2.515196</td>\n      <td>0.00501</td>\n      <td>3.180667</td>\n      <td>0.005061</td>\n      <td>250.947207</td>\n      <td>True</td>\n      <td>0.0</td>\n      <td>0.0</td>\n      <td>0.0</td>\n      <td>21.0</td>\n    </tr>\n    <tr>\n      <th>3</th>\n      <td>2020-02-19</td>\n      <td>99999.972850</td>\n      <td>0.021136</td>\n      <td>0.005984</td>\n      <td>0.000031</td>\n      <td>0.027183</td>\n      <td>0.000012</td>\n      <td>2.515195</td>\n      <td>0.006054</td>\n      <td>3.180667</td>\n      <td>0.005061</td>\n      <td>250.947207</td>\n      <td>True</td>\n      <td>0.0</td>\n      <td>0.0</td>\n      <td>0.0</td>\n      <td>21.0</td>\n    </tr>\n    <tr>\n      <th>4</th>\n      <td>2020-02-20</td>\n      <td>99999.965561</td>\n      <td>0.025544</td>\n      <td>0.008850</td>\n      <td>0.000045</td>\n      <td>0.034501</td>\n      <td>0.000015</td>\n      <td>2.515195</td>\n      <td>0.007318</td>\n      <td>3.180667</td>\n      <td>0.005061</td>\n      <td>250.947207</td>\n      <td>True</td>\n      <td>0.0</td>\n      <td>0.0</td>\n      <td>0.0</td>\n      <td>21.0</td>\n    </tr>\n    <tr>\n      <th>...</th>\n      <td>...</td>\n      <td>...</td>\n      <td>...</td>\n      <td>...</td>\n      <td>...</td>\n      <td>...</td>\n      <td>...</td>\n      <td>...</td>\n      <td>...</td>\n      <td>...</td>\n      <td>...</td>\n      <td>...</td>\n      <td>...</td>\n      <td>...</td>\n      <td>...</td>\n      <td>...</td>\n      <td>...</td>\n    </tr>\n    <tr>\n      <th>24075</th>\n      <td>2020-08-04</td>\n      <td>94988.908760</td>\n      <td>442.668946</td>\n      <td>4506.565907</td>\n      <td>61.856387</td>\n      <td>5885.482349</td>\n      <td>0.629194</td>\n      <td>0.993632</td>\n      <td>55.002952</td>\n      <td>7.650937</td>\n      <td>0.011365</td>\n      <td>276.577406</td>\n      <td>False</td>\n      <td>0.0</td>\n      <td>0.0</td>\n      <td>19.0</td>\n      <td>70.0</td>\n    </tr>\n    <tr>\n      <th>24076</th>\n      <td>2020-08-05</td>\n      <td>94950.332357</td>\n      <td>442.285352</td>\n      <td>4544.897254</td>\n      <td>62.485037</td>\n      <td>5940.414437</td>\n      <td>0.628651</td>\n      <td>0.993226</td>\n      <td>54.932088</td>\n      <td>7.650937</td>\n      <td>0.011365</td>\n      <td>276.577406</td>\n      <td>False</td>\n      <td>0.0</td>\n      <td>0.0</td>\n      <td>19.0</td>\n      <td>70.0</td>\n    </tr>\n    <tr>\n      <th>24077</th>\n      <td>2020-08-06</td>\n      <td>94911.969753</td>\n      <td>441.878785</td>\n      <td>4583.038352</td>\n      <td>63.113110</td>\n      <td>5995.272674</td>\n      <td>0.628072</td>\n      <td>0.992823</td>\n      <td>54.858237</td>\n      <td>7.650937</td>\n      <td>0.011365</td>\n      <td>276.577406</td>\n      <td>False</td>\n      <td>0.0</td>\n      <td>0.0</td>\n      <td>19.0</td>\n      <td>70.0</td>\n    </tr>\n    <tr>\n      <th>24078</th>\n      <td>2020-08-07</td>\n      <td>94873.823043</td>\n      <td>441.449799</td>\n      <td>4620.986587</td>\n      <td>63.740571</td>\n      <td>6050.054675</td>\n      <td>0.627461</td>\n      <td>0.992422</td>\n      <td>54.782001</td>\n      <td>7.650937</td>\n      <td>0.011365</td>\n      <td>276.577406</td>\n      <td>False</td>\n      <td>0.0</td>\n      <td>0.0</td>\n      <td>19.0</td>\n      <td>70.0</td>\n    </tr>\n    <tr>\n      <th>24079</th>\n      <td>2020-08-08</td>\n      <td>94835.894304</td>\n      <td>440.998972</td>\n      <td>4658.739338</td>\n      <td>64.367386</td>\n      <td>6104.758081</td>\n      <td>0.626816</td>\n      <td>0.992023</td>\n      <td>54.703407</td>\n      <td>7.650937</td>\n      <td>0.011365</td>\n      <td>276.577406</td>\n      <td>False</td>\n      <td>0.0</td>\n      <td>0.0</td>\n      <td>19.0</td>\n      <td>70.0</td>\n    </tr>\n  </tbody>\n</table>\n<p>24080 rows × 17 columns</p>\n</div>"
     },
     "execution_count": 11,
     "metadata": {},
     "output_type": "execute_result"
    }
   ],
   "source": [
    "df_sirds_outbreak_0"
   ],
   "metadata": {
    "collapsed": false,
    "ExecuteTime": {
     "end_time": "2023-12-06T00:51:34.963980106Z",
     "start_time": "2023-12-06T00:51:34.916776759Z"
    }
   }
  },
  {
   "cell_type": "markdown",
   "source": [
    "## Predicting the end of forecasting"
   ],
   "metadata": {
    "collapsed": false
   }
  },
  {
   "cell_type": "code",
   "execution_count": 12,
   "outputs": [
    {
     "name": "stdout",
     "output_type": "stream",
     "text": [
      "Spend hours:  247.51416726277776\n",
      "current_simulations:  180\n",
      "hours_per_simulation:  1.375078707015432\n",
      "total_simulations:  180\n",
      "estimated_hours_conclusion:  0.0\n",
      "Finish at:  2023-12-05 21:51:34.944010\n"
     ]
    }
   ],
   "source": [
    "spend_hours = df_results[df_results.alpha==0].duration_seconds.sum()/60/60\n",
    "print('Spend hours: ', spend_hours)\n",
    "current_simulations = len(df_results[df_results.alpha==0])\n",
    "print('current_simulations: ', current_simulations)\n",
    "hours_per_simulation = spend_hours/current_simulations\n",
    "print('hours_per_simulation: ', hours_per_simulation)\n",
    "total_simulations = 1 * 9 * 20\n",
    "print('total_simulations: ', total_simulations)\n",
    "estimated_hours_conclusion = (total_simulations-current_simulations)*hours_per_simulation\n",
    "print('estimated_hours_conclusion: ', estimated_hours_conclusion)\n",
    "prediction = datetime.datetime.now() + datetime.timedelta(hours=estimated_hours_conclusion)\n",
    "print('Finish at: ',prediction)"
   ],
   "metadata": {
    "collapsed": false,
    "ExecuteTime": {
     "end_time": "2023-12-06T00:51:34.965174922Z",
     "start_time": "2023-12-06T00:51:34.962760925Z"
    }
   }
  },
  {
   "cell_type": "markdown",
   "source": [
    "## Saving data"
   ],
   "metadata": {
    "collapsed": false
   }
  },
  {
   "cell_type": "code",
   "execution_count": 13,
   "outputs": [],
   "source": [
    "df_sirds.to_csv('data/output/df_sirds.csv', index=False)"
   ],
   "metadata": {
    "collapsed": false,
    "ExecuteTime": {
     "end_time": "2023-12-06T00:51:38.977914472Z",
     "start_time": "2023-12-06T00:51:34.963103135Z"
    }
   }
  },
  {
   "cell_type": "code",
   "execution_count": 14,
   "outputs": [
    {
     "data": {
      "text/plain": "        date             S         I         R         D  I_accumulated  \\\n0 2020-02-16  99999.988027  0.011973  0.000000  0.000000       0.011973   \n1 2020-02-17  99999.983885  0.014470  0.001637  0.000008       0.016119   \n2 2020-02-18  99999.978885  0.017489  0.003608  0.000018       0.021129   \n3 2020-02-19  99999.972850  0.021136  0.005984  0.000031       0.027183   \n4 2020-02-20  99999.965561  0.025544  0.008850  0.000045       0.034501   \n\n  D_new_deaths  reproduction_number_sird I_new_cases  days_between_infections  \\\n0         None                  2.515196        None                 3.180667   \n1     0.000008                  2.515196    0.004146                 3.180667   \n2      0.00001                  2.515196     0.00501                 3.180667   \n3     0.000012                  2.515195    0.006054                 3.180667   \n4     0.000015                  2.515195    0.007318                 3.180667   \n\n   case_fatality_probability  loss_immunity_in_days  train_period  outbreak  \\\n0                   0.005061             250.947207          True       0.0   \n1                   0.005061             250.947207          True       0.0   \n2                   0.005061             250.947207          True       0.0   \n3                   0.005061             250.947207          True       0.0   \n4                   0.005061             250.947207          True       0.0   \n\n   alpha  estimation  \n0    0.0         0.0  \n1    0.0         0.0  \n2    0.0         0.0  \n3    0.0         0.0  \n4    0.0         0.0  ",
      "text/html": "<div>\n<style scoped>\n    .dataframe tbody tr th:only-of-type {\n        vertical-align: middle;\n    }\n\n    .dataframe tbody tr th {\n        vertical-align: top;\n    }\n\n    .dataframe thead th {\n        text-align: right;\n    }\n</style>\n<table border=\"1\" class=\"dataframe\">\n  <thead>\n    <tr style=\"text-align: right;\">\n      <th></th>\n      <th>date</th>\n      <th>S</th>\n      <th>I</th>\n      <th>R</th>\n      <th>D</th>\n      <th>I_accumulated</th>\n      <th>D_new_deaths</th>\n      <th>reproduction_number_sird</th>\n      <th>I_new_cases</th>\n      <th>days_between_infections</th>\n      <th>case_fatality_probability</th>\n      <th>loss_immunity_in_days</th>\n      <th>train_period</th>\n      <th>outbreak</th>\n      <th>alpha</th>\n      <th>estimation</th>\n    </tr>\n  </thead>\n  <tbody>\n    <tr>\n      <th>0</th>\n      <td>2020-02-16</td>\n      <td>99999.988027</td>\n      <td>0.011973</td>\n      <td>0.000000</td>\n      <td>0.000000</td>\n      <td>0.011973</td>\n      <td>None</td>\n      <td>2.515196</td>\n      <td>None</td>\n      <td>3.180667</td>\n      <td>0.005061</td>\n      <td>250.947207</td>\n      <td>True</td>\n      <td>0.0</td>\n      <td>0.0</td>\n      <td>0.0</td>\n    </tr>\n    <tr>\n      <th>1</th>\n      <td>2020-02-17</td>\n      <td>99999.983885</td>\n      <td>0.014470</td>\n      <td>0.001637</td>\n      <td>0.000008</td>\n      <td>0.016119</td>\n      <td>0.000008</td>\n      <td>2.515196</td>\n      <td>0.004146</td>\n      <td>3.180667</td>\n      <td>0.005061</td>\n      <td>250.947207</td>\n      <td>True</td>\n      <td>0.0</td>\n      <td>0.0</td>\n      <td>0.0</td>\n    </tr>\n    <tr>\n      <th>2</th>\n      <td>2020-02-18</td>\n      <td>99999.978885</td>\n      <td>0.017489</td>\n      <td>0.003608</td>\n      <td>0.000018</td>\n      <td>0.021129</td>\n      <td>0.00001</td>\n      <td>2.515196</td>\n      <td>0.00501</td>\n      <td>3.180667</td>\n      <td>0.005061</td>\n      <td>250.947207</td>\n      <td>True</td>\n      <td>0.0</td>\n      <td>0.0</td>\n      <td>0.0</td>\n    </tr>\n    <tr>\n      <th>3</th>\n      <td>2020-02-19</td>\n      <td>99999.972850</td>\n      <td>0.021136</td>\n      <td>0.005984</td>\n      <td>0.000031</td>\n      <td>0.027183</td>\n      <td>0.000012</td>\n      <td>2.515195</td>\n      <td>0.006054</td>\n      <td>3.180667</td>\n      <td>0.005061</td>\n      <td>250.947207</td>\n      <td>True</td>\n      <td>0.0</td>\n      <td>0.0</td>\n      <td>0.0</td>\n    </tr>\n    <tr>\n      <th>4</th>\n      <td>2020-02-20</td>\n      <td>99999.965561</td>\n      <td>0.025544</td>\n      <td>0.008850</td>\n      <td>0.000045</td>\n      <td>0.034501</td>\n      <td>0.000015</td>\n      <td>2.515195</td>\n      <td>0.007318</td>\n      <td>3.180667</td>\n      <td>0.005061</td>\n      <td>250.947207</td>\n      <td>True</td>\n      <td>0.0</td>\n      <td>0.0</td>\n      <td>0.0</td>\n    </tr>\n  </tbody>\n</table>\n</div>"
     },
     "execution_count": 14,
     "metadata": {},
     "output_type": "execute_result"
    }
   ],
   "source": [
    "df_sirds.head()"
   ],
   "metadata": {
    "collapsed": false,
    "ExecuteTime": {
     "end_time": "2023-12-06T00:51:39.035894859Z",
     "start_time": "2023-12-06T00:51:38.991658384Z"
    }
   }
  },
  {
   "cell_type": "code",
   "execution_count": 15,
   "outputs": [],
   "source": [
    "df_sirds_outbreak_0.to_csv('data/output/df_sirds_outbreak_0.csv', index=False)"
   ],
   "metadata": {
    "collapsed": false,
    "ExecuteTime": {
     "end_time": "2023-12-06T00:51:39.436625404Z",
     "start_time": "2023-12-06T00:51:39.034682579Z"
    }
   }
  },
  {
   "cell_type": "code",
   "execution_count": 16,
   "outputs": [
    {
     "data": {
      "text/plain": "        date             S         I         R         D  I_accumulated  \\\n0 2020-02-16  99999.988027  0.011973  0.000000  0.000000       0.011973   \n1 2020-02-17  99999.983885  0.014470  0.001637  0.000008       0.016119   \n2 2020-02-18  99999.978885  0.017489  0.003608  0.000018       0.021129   \n3 2020-02-19  99999.972850  0.021136  0.005984  0.000031       0.027183   \n4 2020-02-20  99999.965561  0.025544  0.008850  0.000045       0.034501   \n\n  D_new_deaths  reproduction_number_sird I_new_cases  days_between_infections  \\\n0         None                  2.515196        None                 3.180667   \n1     0.000008                  2.515196    0.004146                 3.180667   \n2      0.00001                  2.515196     0.00501                 3.180667   \n3     0.000012                  2.515195    0.006054                 3.180667   \n4     0.000015                  2.515195    0.007318                 3.180667   \n\n   case_fatality_probability  loss_immunity_in_days  train_period  outbreak  \\\n0                   0.005061             250.947207          True       0.0   \n1                   0.005061             250.947207          True       0.0   \n2                   0.005061             250.947207          True       0.0   \n3                   0.005061             250.947207          True       0.0   \n4                   0.005061             250.947207          True       0.0   \n\n   alpha  estimation  days_to_fit_within_outbreak  \n0    0.0         0.0                         21.0  \n1    0.0         0.0                         21.0  \n2    0.0         0.0                         21.0  \n3    0.0         0.0                         21.0  \n4    0.0         0.0                         21.0  ",
      "text/html": "<div>\n<style scoped>\n    .dataframe tbody tr th:only-of-type {\n        vertical-align: middle;\n    }\n\n    .dataframe tbody tr th {\n        vertical-align: top;\n    }\n\n    .dataframe thead th {\n        text-align: right;\n    }\n</style>\n<table border=\"1\" class=\"dataframe\">\n  <thead>\n    <tr style=\"text-align: right;\">\n      <th></th>\n      <th>date</th>\n      <th>S</th>\n      <th>I</th>\n      <th>R</th>\n      <th>D</th>\n      <th>I_accumulated</th>\n      <th>D_new_deaths</th>\n      <th>reproduction_number_sird</th>\n      <th>I_new_cases</th>\n      <th>days_between_infections</th>\n      <th>case_fatality_probability</th>\n      <th>loss_immunity_in_days</th>\n      <th>train_period</th>\n      <th>outbreak</th>\n      <th>alpha</th>\n      <th>estimation</th>\n      <th>days_to_fit_within_outbreak</th>\n    </tr>\n  </thead>\n  <tbody>\n    <tr>\n      <th>0</th>\n      <td>2020-02-16</td>\n      <td>99999.988027</td>\n      <td>0.011973</td>\n      <td>0.000000</td>\n      <td>0.000000</td>\n      <td>0.011973</td>\n      <td>None</td>\n      <td>2.515196</td>\n      <td>None</td>\n      <td>3.180667</td>\n      <td>0.005061</td>\n      <td>250.947207</td>\n      <td>True</td>\n      <td>0.0</td>\n      <td>0.0</td>\n      <td>0.0</td>\n      <td>21.0</td>\n    </tr>\n    <tr>\n      <th>1</th>\n      <td>2020-02-17</td>\n      <td>99999.983885</td>\n      <td>0.014470</td>\n      <td>0.001637</td>\n      <td>0.000008</td>\n      <td>0.016119</td>\n      <td>0.000008</td>\n      <td>2.515196</td>\n      <td>0.004146</td>\n      <td>3.180667</td>\n      <td>0.005061</td>\n      <td>250.947207</td>\n      <td>True</td>\n      <td>0.0</td>\n      <td>0.0</td>\n      <td>0.0</td>\n      <td>21.0</td>\n    </tr>\n    <tr>\n      <th>2</th>\n      <td>2020-02-18</td>\n      <td>99999.978885</td>\n      <td>0.017489</td>\n      <td>0.003608</td>\n      <td>0.000018</td>\n      <td>0.021129</td>\n      <td>0.00001</td>\n      <td>2.515196</td>\n      <td>0.00501</td>\n      <td>3.180667</td>\n      <td>0.005061</td>\n      <td>250.947207</td>\n      <td>True</td>\n      <td>0.0</td>\n      <td>0.0</td>\n      <td>0.0</td>\n      <td>21.0</td>\n    </tr>\n    <tr>\n      <th>3</th>\n      <td>2020-02-19</td>\n      <td>99999.972850</td>\n      <td>0.021136</td>\n      <td>0.005984</td>\n      <td>0.000031</td>\n      <td>0.027183</td>\n      <td>0.000012</td>\n      <td>2.515195</td>\n      <td>0.006054</td>\n      <td>3.180667</td>\n      <td>0.005061</td>\n      <td>250.947207</td>\n      <td>True</td>\n      <td>0.0</td>\n      <td>0.0</td>\n      <td>0.0</td>\n      <td>21.0</td>\n    </tr>\n    <tr>\n      <th>4</th>\n      <td>2020-02-20</td>\n      <td>99999.965561</td>\n      <td>0.025544</td>\n      <td>0.008850</td>\n      <td>0.000045</td>\n      <td>0.034501</td>\n      <td>0.000015</td>\n      <td>2.515195</td>\n      <td>0.007318</td>\n      <td>3.180667</td>\n      <td>0.005061</td>\n      <td>250.947207</td>\n      <td>True</td>\n      <td>0.0</td>\n      <td>0.0</td>\n      <td>0.0</td>\n      <td>21.0</td>\n    </tr>\n  </tbody>\n</table>\n</div>"
     },
     "execution_count": 16,
     "metadata": {},
     "output_type": "execute_result"
    }
   ],
   "source": [
    "df_sirds_outbreak_0.head()"
   ],
   "metadata": {
    "collapsed": false,
    "ExecuteTime": {
     "end_time": "2023-12-06T00:51:39.495650629Z",
     "start_time": "2023-12-06T00:51:39.451720647Z"
    }
   }
  }
 ],
 "metadata": {
  "kernelspec": {
   "display_name": "Python 3",
   "language": "python",
   "name": "python3"
  },
  "language_info": {
   "codemirror_mode": {
    "name": "ipython",
    "version": 2
   },
   "file_extension": ".py",
   "mimetype": "text/x-python",
   "name": "python",
   "nbconvert_exporter": "python",
   "pygments_lexer": "ipython2",
   "version": "2.7.6"
  }
 },
 "nbformat": 4,
 "nbformat_minor": 0
}
