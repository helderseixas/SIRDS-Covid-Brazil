{
 "cells": [
  {
   "cell_type": "markdown",
   "source": [
    "# # Forecasting the pandemic in outbreak zero with differents days to fit"
   ],
   "metadata": {
    "collapsed": false
   }
  },
  {
   "cell_type": "code",
   "execution_count": 8,
   "metadata": {
    "collapsed": true,
    "ExecuteTime": {
     "end_time": "2023-12-05T20:02:32.299921169Z",
     "start_time": "2023-12-05T20:02:32.237113606Z"
    }
   },
   "outputs": [],
   "source": [
    "import numpy as np\n",
    "import pandas as pd\n",
    "from scipy.optimize import differential_evolution\n",
    "from datetime import datetime\n",
    "\n",
    "from sirds_model import get_bounds_and_arguments, sirds_objective_function"
   ]
  },
  {
   "cell_type": "markdown",
   "source": [
    "## Reading data"
   ],
   "metadata": {
    "collapsed": false
   }
  },
  {
   "cell_type": "code",
   "execution_count": 9,
   "outputs": [],
   "source": [
    "df = pd.read_csv('data/output/df_ts_epidemic_episodes.csv', index_col=0)\n",
    "df.DATA = pd.to_datetime(df.DATA)"
   ],
   "metadata": {
    "collapsed": false,
    "ExecuteTime": {
     "end_time": "2023-12-05T20:02:32.362722045Z",
     "start_time": "2023-12-05T20:02:32.240785603Z"
    }
   }
  },
  {
   "cell_type": "markdown",
   "source": [
    "## Preparing data"
   ],
   "metadata": {
    "collapsed": false
   }
  },
  {
   "cell_type": "code",
   "execution_count": 10,
   "outputs": [],
   "source": [
    "df = df.sort_values(by=['DATA'])"
   ],
   "metadata": {
    "collapsed": false,
    "ExecuteTime": {
     "end_time": "2023-12-05T20:02:32.379286933Z",
     "start_time": "2023-12-05T20:02:32.317544096Z"
    }
   }
  },
  {
   "cell_type": "code",
   "execution_count": 11,
   "outputs": [],
   "source": [
    "df['TAXA_CASOS_NOVOS_MEDIA_MOVEL_7_DIAS_PAINEL'] = df['CASOS_NOVOS_MEDIA_MOVEL_7_DIAS_PAINEL']/df['POPULACAO_2022'] * 100000 "
   ],
   "metadata": {
    "collapsed": false,
    "ExecuteTime": {
     "end_time": "2023-12-05T20:02:32.379623352Z",
     "start_time": "2023-12-05T20:02:32.317860675Z"
    }
   }
  },
  {
   "cell_type": "code",
   "execution_count": 12,
   "outputs": [],
   "source": [
    "df['TAXA_CASOS_NOVOS_MEDIA_MOVEL_7_DIAS_PAINEL'] = df['TAXA_CASOS_NOVOS_MEDIA_MOVEL_7_DIAS_PAINEL'].fillna(0)"
   ],
   "metadata": {
    "collapsed": false,
    "ExecuteTime": {
     "end_time": "2023-12-05T20:02:32.430212127Z",
     "start_time": "2023-12-05T20:02:32.318070785Z"
    }
   }
  },
  {
   "cell_type": "code",
   "execution_count": 13,
   "outputs": [],
   "source": [
    "df['TAXA_CASOS_NOVOS_MEDIA_MOVEL_7_DIAS_PAINEL'] = df['TAXA_CASOS_NOVOS_MEDIA_MOVEL_7_DIAS_PAINEL'].replace([np.inf, -np.inf], 0)"
   ],
   "metadata": {
    "collapsed": false,
    "ExecuteTime": {
     "end_time": "2023-12-05T20:02:32.459129313Z",
     "start_time": "2023-12-05T20:02:32.347641241Z"
    }
   }
  },
  {
   "cell_type": "markdown",
   "source": [
    "## Forecasting"
   ],
   "metadata": {
    "collapsed": false
   }
  },
  {
   "cell_type": "code",
   "execution_count": 14,
   "outputs": [
    {
     "name": "stdout",
     "output_type": "stream",
     "text": [
      "days_to_fit_within_outbreak:  28\n",
      "max_date_to_fit:  2020-03-29 00:00:00\n",
      "days_to_fit_within_outbreak:  35\n",
      "max_date_to_fit:  2020-04-05 00:00:00\n",
      "days_to_fit_within_outbreak:  42\n",
      "max_date_to_fit:  2020-04-12 00:00:00\n",
      "days_to_fit_within_outbreak:  49\n",
      "max_date_to_fit:  2020-04-19 00:00:00\n",
      "days_to_fit_within_outbreak:  56\n",
      "max_date_to_fit:  2020-04-26 00:00:00\n"
     ]
    }
   ],
   "source": [
    "try:\n",
    "    df_initial_results = pd.read_csv('data/output/estimation_results_outbreak_0.csv')\n",
    "except:\n",
    "    df_initial_results = pd.DataFrame({'days_to_fit_within_outbreak':[]})\n",
    "\n",
    "df_results = df_initial_results.copy()\n",
    "\n",
    "FORECAST_HORIZON_IN_DAYS = 90\n",
    "DAYS_TO_RECOVERY = 8\n",
    "OUTBREAK = 0\n",
    "ALPHA = 0\n",
    "\n",
    "list_days_to_fit_within_outbreak = [28, 35, 42, 49, 56]\n",
    "\n",
    "DIFFERENTIAL_EVOLUTION_POP_SIZE_FACTOR = 5\n",
    "NUMBER_ESTIMATION_PER_DAYS_TO_FIT = 20\n",
    "\n",
    "# Dates about begin time series and first case\n",
    "date_first_case = min(df[(df.NOVOS_CASOS_SRAG > 0)].iloc[0].DATA, df[(df.CASOS_NOVOS_PAINEL > 0)].iloc[0].DATA)\n",
    "\n",
    "\n",
    "row = df[df.ONSET_NUMERO_REPRODUCAO_EFETIVO_MEDIA == OUTBREAK].iloc[0]\n",
    "outbreak_start_date = row['DATA']\n",
    "\n",
    "for days_to_fit_within_outbreak in list_days_to_fit_within_outbreak:\n",
    "    max_date_to_fit = outbreak_start_date + pd.DateOffset(days=days_to_fit_within_outbreak)\n",
    "    \n",
    "    print('days_to_fit_within_outbreak: ',days_to_fit_within_outbreak)\n",
    "    print('max_date_to_fit: ',max_date_to_fit)\n",
    "    \n",
    "    # Period of analysis\n",
    "    period_in_days = (max_date_to_fit - date_first_case).days + 1 + FORECAST_HORIZON_IN_DAYS\n",
    "    max_date_to_analyze = date_first_case + pd.DateOffset(days=period_in_days)\n",
    "    \n",
    "    bounds, args = get_bounds_and_arguments(df, 'DATA', 'TAXA_OBITOS_NOVOS_MEDIA_MOVEL_7_DIAS_SIM', 'NUMERO_REPRODUCAO_EFETIVO_SRAG_MEDIA', 'TAXA_CASOS_NOVOS_MEDIA_MOVEL_7_DIAS_PAINEL', 'ONSET_NUMERO_REPRODUCAO_EFETIVO_MEDIA', DAYS_TO_RECOVERY, date_first_case, max_date_to_fit, df.POPULACAO_2022.iloc[0], period_in_days)    \n",
    "                                                  \n",
    "    for estimation in range(NUMBER_ESTIMATION_PER_DAYS_TO_FIT):\n",
    "        estimations_performed = len(df_results[(df_results.days_to_fit_within_outbreak == days_to_fit_within_outbreak)])\n",
    "    \n",
    "        if (estimation == estimations_performed):\n",
    "            print('estimation: '+str(estimation))\n",
    "            \n",
    "            # Record the start time\n",
    "            start_time = datetime.now()\n",
    "            print(start_time)\n",
    "    \n",
    "            result = differential_evolution(sirds_objective_function, bounds, args=args, popsize=DIFFERENTIAL_EVOLUTION_POP_SIZE_FACTOR, maxiter=10000, workers=3, updating='deferred')\n",
    "    \n",
    "            # Record the end time\n",
    "            end_time = datetime.now()\n",
    "    \n",
    "            # Calculate the duration (in seconds) for the optimization\n",
    "            duration = (end_time - start_time).total_seconds()\n",
    "            print(duration)\n",
    "            \n",
    "            list_breakpoints_in_slow_transition = args[4]\n",
    "            quantity_outbreaks = args[5]\n",
    "            quantity_outbreak_adjustments = args[6]                \n",
    "    \n",
    "            # Create a dictionary to store results\n",
    "            estimation_result = {\n",
    "                'outbreak': OUTBREAK,\n",
    "                'alpha': ALPHA,\n",
    "                'days_to_fit_within_outbreak': days_to_fit_within_outbreak,\n",
    "                'estimation': estimation,  # To differentiate between multiple estimations\n",
    "                'result_fun': result.fun,\n",
    "                'result_nfev': result.nfev,\n",
    "                'result_nit': result.nit,\n",
    "                'result_success': result.success,\n",
    "                'start_time': start_time.strftime('%Y-%m-%d %H:%M:%S'),  # Format start time as a string\n",
    "                'end_time': end_time.strftime('%Y-%m-%d %H:%M:%S'),  # Format end time as a string\n",
    "                'duration_seconds': duration,  # Duration in seconds\n",
    "                'pop_size': DIFFERENTIAL_EVOLUTION_POP_SIZE_FACTOR,\n",
    "                'period_in_days': period_in_days,\n",
    "                'days_to_recovery': DAYS_TO_RECOVERY,\n",
    "                'date_first_case': date_first_case,\n",
    "                'outbreak_start_date': outbreak_start_date,\n",
    "                'max_date_to_fit': max_date_to_fit,\n",
    "                'max_date_to_analyze': max_date_to_analyze,                    \n",
    "                'list_breakpoints_in_slow_transition': list_breakpoints_in_slow_transition,\n",
    "                'x_initial_infected_population': result.x[0],\n",
    "                'x_days_between_infections_0': result.x[1]         \n",
    "            }\n",
    "    \n",
    "            quantity_epidemic_periods_with_slow_transition = len(list_breakpoints_in_slow_transition) + 1            \n",
    "            \n",
    "            for p in range(quantity_epidemic_periods_with_slow_transition):\n",
    "                estimation_result['x_case_fatality_probability_'+str(p)] = result.x[2 + p]\n",
    "                estimation_result['x_loss_immunity_in_days_'+str(p)] = result.x[2 + quantity_epidemic_periods_with_slow_transition + p]                                                 \n",
    "            quantity_breakpoints = (quantity_outbreaks - 1) + (quantity_outbreak_adjustments)\n",
    "            begin_breakpoint_parameters = 2 + 2*quantity_epidemic_periods_with_slow_transition\n",
    "            for b in range(quantity_breakpoints):\n",
    "                estimation_result['x_days_between_infections_'+str(b+1)] = result.x[begin_breakpoint_parameters + b]\n",
    "                estimation_result['x_breakpoint_'+str(b+1)] = result.x[begin_breakpoint_parameters + quantity_breakpoints + b]\n",
    "                estimation_result['x_transition_days_between_epidemic_periods_'+str(b+1)] = result.x[begin_breakpoint_parameters + 2*quantity_breakpoints + b]\n",
    "    \n",
    "            print(estimation_result)\n",
    "    \n",
    "            # Append the estimation result to the list                \n",
    "            df_results = pd.concat([df_results, pd.DataFrame.from_records([estimation_result])])\n",
    "    \n",
    "            df_results.to_csv('data/output/estimation_results_outbreak_0.csv', index=False)           "
   ],
   "metadata": {
    "collapsed": false,
    "ExecuteTime": {
     "end_time": "2023-12-05T20:02:32.577226194Z",
     "start_time": "2023-12-05T20:02:32.389498354Z"
    }
   }
  },
  {
   "cell_type": "code",
   "execution_count": 15,
   "outputs": [
    {
     "data": {
      "text/plain": "   days_to_fit_within_outbreak  outbreak  alpha  estimation  result_fun  \\\n0                         28.0       0.0    0.0         0.0    0.346680   \n1                         28.0       0.0    0.0         1.0    0.370704   \n2                         28.0       0.0    0.0         2.0    0.374529   \n3                         28.0       0.0    0.0         3.0    0.350492   \n4                         28.0       0.0    0.0         4.0    0.372556   \n\n   result_nfev  result_nit  result_success           start_time  \\\n0       3388.0        83.0            True  2023-12-05 16:11:19   \n1       2950.0        73.0            True  2023-12-05 16:11:40   \n2       1861.0        46.0            True  2023-12-05 16:12:01   \n3       3644.0        91.0            True  2023-12-05 16:12:13   \n4       2184.0        47.0            True  2023-12-05 16:12:39   \n\n              end_time  ...  max_date_to_fit  max_date_to_analyze  \\\n0  2023-12-05 16:11:40  ...       2020-03-29           2020-06-28   \n1  2023-12-05 16:12:01  ...       2020-03-29           2020-06-28   \n2  2023-12-05 16:12:13  ...       2020-03-29           2020-06-28   \n3  2023-12-05 16:12:39  ...       2020-03-29           2020-06-28   \n4  2023-12-05 16:12:56  ...       2020-03-29           2020-06-28   \n\n   list_breakpoints_in_slow_transition  x_initial_infected_population  \\\n0                                   []                       0.019699   \n1                                   []                       0.013683   \n2                                   []                       0.014271   \n3                                   []                       0.006963   \n4                                   []                       0.006913   \n\n  x_days_between_infections_0 x_case_fatality_probability_0  \\\n0                    3.182640                      0.003837   \n1                    3.169989                      0.006136   \n2                    3.174482                      0.005348   \n3                    3.180804                      0.010648   \n4                    3.170051                      0.011561   \n\n  x_loss_immunity_in_days_0 x_days_between_infections_1 x_breakpoint_1  \\\n0                167.281061                    5.727388      41.741860   \n1                202.146757                    3.508126      37.431551   \n2                222.770294                    3.227308      23.851242   \n3                197.548040                    4.542095      41.562551   \n4                237.373834                    3.325391      28.231655   \n\n   x_transition_days_between_epidemic_periods_1  \n0                                      1.825831  \n1                                     19.232071  \n2                                      7.346017  \n3                                      2.014805  \n4                                     13.698966  \n\n[5 rows x 26 columns]",
      "text/html": "<div>\n<style scoped>\n    .dataframe tbody tr th:only-of-type {\n        vertical-align: middle;\n    }\n\n    .dataframe tbody tr th {\n        vertical-align: top;\n    }\n\n    .dataframe thead th {\n        text-align: right;\n    }\n</style>\n<table border=\"1\" class=\"dataframe\">\n  <thead>\n    <tr style=\"text-align: right;\">\n      <th></th>\n      <th>days_to_fit_within_outbreak</th>\n      <th>outbreak</th>\n      <th>alpha</th>\n      <th>estimation</th>\n      <th>result_fun</th>\n      <th>result_nfev</th>\n      <th>result_nit</th>\n      <th>result_success</th>\n      <th>start_time</th>\n      <th>end_time</th>\n      <th>...</th>\n      <th>max_date_to_fit</th>\n      <th>max_date_to_analyze</th>\n      <th>list_breakpoints_in_slow_transition</th>\n      <th>x_initial_infected_population</th>\n      <th>x_days_between_infections_0</th>\n      <th>x_case_fatality_probability_0</th>\n      <th>x_loss_immunity_in_days_0</th>\n      <th>x_days_between_infections_1</th>\n      <th>x_breakpoint_1</th>\n      <th>x_transition_days_between_epidemic_periods_1</th>\n    </tr>\n  </thead>\n  <tbody>\n    <tr>\n      <th>0</th>\n      <td>28.0</td>\n      <td>0.0</td>\n      <td>0.0</td>\n      <td>0.0</td>\n      <td>0.346680</td>\n      <td>3388.0</td>\n      <td>83.0</td>\n      <td>True</td>\n      <td>2023-12-05 16:11:19</td>\n      <td>2023-12-05 16:11:40</td>\n      <td>...</td>\n      <td>2020-03-29</td>\n      <td>2020-06-28</td>\n      <td>[]</td>\n      <td>0.019699</td>\n      <td>3.182640</td>\n      <td>0.003837</td>\n      <td>167.281061</td>\n      <td>5.727388</td>\n      <td>41.741860</td>\n      <td>1.825831</td>\n    </tr>\n    <tr>\n      <th>1</th>\n      <td>28.0</td>\n      <td>0.0</td>\n      <td>0.0</td>\n      <td>1.0</td>\n      <td>0.370704</td>\n      <td>2950.0</td>\n      <td>73.0</td>\n      <td>True</td>\n      <td>2023-12-05 16:11:40</td>\n      <td>2023-12-05 16:12:01</td>\n      <td>...</td>\n      <td>2020-03-29</td>\n      <td>2020-06-28</td>\n      <td>[]</td>\n      <td>0.013683</td>\n      <td>3.169989</td>\n      <td>0.006136</td>\n      <td>202.146757</td>\n      <td>3.508126</td>\n      <td>37.431551</td>\n      <td>19.232071</td>\n    </tr>\n    <tr>\n      <th>2</th>\n      <td>28.0</td>\n      <td>0.0</td>\n      <td>0.0</td>\n      <td>2.0</td>\n      <td>0.374529</td>\n      <td>1861.0</td>\n      <td>46.0</td>\n      <td>True</td>\n      <td>2023-12-05 16:12:01</td>\n      <td>2023-12-05 16:12:13</td>\n      <td>...</td>\n      <td>2020-03-29</td>\n      <td>2020-06-28</td>\n      <td>[]</td>\n      <td>0.014271</td>\n      <td>3.174482</td>\n      <td>0.005348</td>\n      <td>222.770294</td>\n      <td>3.227308</td>\n      <td>23.851242</td>\n      <td>7.346017</td>\n    </tr>\n    <tr>\n      <th>3</th>\n      <td>28.0</td>\n      <td>0.0</td>\n      <td>0.0</td>\n      <td>3.0</td>\n      <td>0.350492</td>\n      <td>3644.0</td>\n      <td>91.0</td>\n      <td>True</td>\n      <td>2023-12-05 16:12:13</td>\n      <td>2023-12-05 16:12:39</td>\n      <td>...</td>\n      <td>2020-03-29</td>\n      <td>2020-06-28</td>\n      <td>[]</td>\n      <td>0.006963</td>\n      <td>3.180804</td>\n      <td>0.010648</td>\n      <td>197.548040</td>\n      <td>4.542095</td>\n      <td>41.562551</td>\n      <td>2.014805</td>\n    </tr>\n    <tr>\n      <th>4</th>\n      <td>28.0</td>\n      <td>0.0</td>\n      <td>0.0</td>\n      <td>4.0</td>\n      <td>0.372556</td>\n      <td>2184.0</td>\n      <td>47.0</td>\n      <td>True</td>\n      <td>2023-12-05 16:12:39</td>\n      <td>2023-12-05 16:12:56</td>\n      <td>...</td>\n      <td>2020-03-29</td>\n      <td>2020-06-28</td>\n      <td>[]</td>\n      <td>0.006913</td>\n      <td>3.170051</td>\n      <td>0.011561</td>\n      <td>237.373834</td>\n      <td>3.325391</td>\n      <td>28.231655</td>\n      <td>13.698966</td>\n    </tr>\n  </tbody>\n</table>\n<p>5 rows × 26 columns</p>\n</div>"
     },
     "execution_count": 15,
     "metadata": {},
     "output_type": "execute_result"
    }
   ],
   "source": [
    "df_results.head()"
   ],
   "metadata": {
    "collapsed": false,
    "ExecuteTime": {
     "end_time": "2023-12-05T20:02:32.636212132Z",
     "start_time": "2023-12-05T20:02:32.586020322Z"
    }
   }
  }
 ],
 "metadata": {
  "kernelspec": {
   "display_name": "Python 3",
   "language": "python",
   "name": "python3"
  },
  "language_info": {
   "codemirror_mode": {
    "name": "ipython",
    "version": 2
   },
   "file_extension": ".py",
   "mimetype": "text/x-python",
   "name": "python",
   "nbconvert_exporter": "python",
   "pygments_lexer": "ipython2",
   "version": "2.7.6"
  }
 },
 "nbformat": 4,
 "nbformat_minor": 0
}
