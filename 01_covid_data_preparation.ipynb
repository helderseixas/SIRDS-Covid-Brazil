{
 "cells": [
  {
   "cell_type": "markdown",
   "metadata": {
    "collapsed": true
   },
   "source": [
    "# Prepare Covid-19 temporal series"
   ]
  },
  {
   "cell_type": "code",
   "execution_count": 214,
   "outputs": [],
   "source": [
    "import os\n",
    "import sys\n",
    "module_path = os.path.abspath(os.path.join('../..'))\n",
    "if module_path not in sys.path:\n",
    "    sys.path.append(module_path)\n",
    "\n",
    "import glob\n",
    "import numpy as np\n",
    "import pandas as pd\n",
    "import matplotlib.pyplot as plt\n",
    "from scipy.stats import gamma, lognorm\n",
    "from datetime import datetime\n",
    "import epyestim\n",
    "import epyestim.covid19 as covid19\n",
    "from math import exp\n",
    "from detecta import detect_peaks"
   ],
   "metadata": {
    "collapsed": false
   }
  },
  {
   "cell_type": "markdown",
   "source": [
    "## Reading data"
   ],
   "metadata": {
    "collapsed": false
   }
  },
  {
   "cell_type": "markdown",
   "source": [
    "Covid data: https://github.com/wcota/covid19br"
   ],
   "metadata": {
    "collapsed": false
   }
  },
  {
   "cell_type": "code",
   "execution_count": 215,
   "outputs": [],
   "source": [
    "df_wcota = pd.concat([pd.read_csv(x) for x in sorted(glob.glob('data/input/covid/cases-brazil-cities-time_2*.csv.gz'))])"
   ],
   "metadata": {
    "collapsed": false
   }
  },
  {
   "cell_type": "code",
   "execution_count": 216,
   "outputs": [],
   "source": [
    "df_wcota.date = pd.to_datetime(df_wcota.date, infer_datetime_format=True)"
   ],
   "metadata": {
    "collapsed": false
   }
  },
  {
   "cell_type": "code",
   "execution_count": 217,
   "outputs": [],
   "source": [
    "df_wcota = df_wcota.rename(columns={'epi_week': 'SEMANA_EPIDEMIOLOGICA', 'date': 'DATA', 'state': 'SIGLA_ESTADO', 'city': 'MUNICIPIO', 'ibgeID': 'CODIGO_MUNICIPIO_7', 'newDeaths': 'OBITOS_NOVOS', 'deaths': 'OBITOS', 'newCases': 'CASOS_NOVOS', 'totalCases': 'CASOS'})"
   ],
   "metadata": {
    "collapsed": false
   }
  },
  {
   "cell_type": "code",
   "execution_count": 218,
   "outputs": [
    {
     "data": {
      "text/plain": "         SEMANA_EPIDEMIOLOGICA       DATA SIGLA_ESTADO         MUNICIPIO  \\\n0                            9 2020-02-25           SP      São Paulo/SP   \n1                            9 2020-02-25        TOTAL             TOTAL   \n2                            9 2020-02-26           SP      São Paulo/SP   \n3                            9 2020-02-26        TOTAL             TOTAL   \n4                            9 2020-02-27           SP      São Paulo/SP   \n...                        ...        ...          ...               ...   \n1858199                    248 2022-11-28           PR         Ângulo/PR   \n1858200                    248 2022-11-28           BA  Érico Cardoso/BA   \n1858201                    248 2022-11-28           PA         Óbidos/PA   \n1858202                    248 2022-11-28           SP           Óleo/SP   \n1858203                    248 2022-11-28        TOTAL             TOTAL   \n\n         CODIGO_MUNICIPIO_7  OBITOS_NOVOS  OBITOS  CASOS_NOVOS     CASOS  \\\n0                   3550308             0       0            1         1   \n1                         0             0       0            1         1   \n2                   3550308             0       0            0         1   \n3                         0             0       0            0         1   \n4                   3550308             0       0            0         1   \n...                     ...           ...     ...          ...       ...   \n1858199             4101150             0      11            0       926   \n1858200             2900504             0       6            0       667   \n1858201             1505106             0     165            0      8622   \n1858202             3533809             0       6            0       161   \n1858203                   0             0  689442            0  35149503   \n\n         deaths_per_100k_inhabitants  totalCases_per_100k_inhabitants  \\\n0                              0.000                            0.008   \n1                              0.000                            0.000   \n2                              0.000                            0.008   \n3                              0.000                            0.000   \n4                              0.000                            0.008   \n...                              ...                              ...   \n1858199                      375.299                        31593.313   \n1858200                       57.072                         6344.526   \n1858201                      314.447                        16431.308   \n1858202                      245.198                         6579.485   \n1858203                      323.200                        16477.542   \n\n         deaths_by_totalCases  \n0                       0.000  \n1                       0.000  \n2                       0.000  \n3                       0.000  \n4                       0.000  \n...                       ...  \n1858199                 0.012  \n1858200                 0.009  \n1858201                 0.019  \n1858202                 0.037  \n1858203                 0.020  \n\n[5215317 rows x 12 columns]",
      "text/html": "<div>\n<style scoped>\n    .dataframe tbody tr th:only-of-type {\n        vertical-align: middle;\n    }\n\n    .dataframe tbody tr th {\n        vertical-align: top;\n    }\n\n    .dataframe thead th {\n        text-align: right;\n    }\n</style>\n<table border=\"1\" class=\"dataframe\">\n  <thead>\n    <tr style=\"text-align: right;\">\n      <th></th>\n      <th>SEMANA_EPIDEMIOLOGICA</th>\n      <th>DATA</th>\n      <th>SIGLA_ESTADO</th>\n      <th>MUNICIPIO</th>\n      <th>CODIGO_MUNICIPIO_7</th>\n      <th>OBITOS_NOVOS</th>\n      <th>OBITOS</th>\n      <th>CASOS_NOVOS</th>\n      <th>CASOS</th>\n      <th>deaths_per_100k_inhabitants</th>\n      <th>totalCases_per_100k_inhabitants</th>\n      <th>deaths_by_totalCases</th>\n    </tr>\n  </thead>\n  <tbody>\n    <tr>\n      <th>0</th>\n      <td>9</td>\n      <td>2020-02-25</td>\n      <td>SP</td>\n      <td>São Paulo/SP</td>\n      <td>3550308</td>\n      <td>0</td>\n      <td>0</td>\n      <td>1</td>\n      <td>1</td>\n      <td>0.000</td>\n      <td>0.008</td>\n      <td>0.000</td>\n    </tr>\n    <tr>\n      <th>1</th>\n      <td>9</td>\n      <td>2020-02-25</td>\n      <td>TOTAL</td>\n      <td>TOTAL</td>\n      <td>0</td>\n      <td>0</td>\n      <td>0</td>\n      <td>1</td>\n      <td>1</td>\n      <td>0.000</td>\n      <td>0.000</td>\n      <td>0.000</td>\n    </tr>\n    <tr>\n      <th>2</th>\n      <td>9</td>\n      <td>2020-02-26</td>\n      <td>SP</td>\n      <td>São Paulo/SP</td>\n      <td>3550308</td>\n      <td>0</td>\n      <td>0</td>\n      <td>0</td>\n      <td>1</td>\n      <td>0.000</td>\n      <td>0.008</td>\n      <td>0.000</td>\n    </tr>\n    <tr>\n      <th>3</th>\n      <td>9</td>\n      <td>2020-02-26</td>\n      <td>TOTAL</td>\n      <td>TOTAL</td>\n      <td>0</td>\n      <td>0</td>\n      <td>0</td>\n      <td>0</td>\n      <td>1</td>\n      <td>0.000</td>\n      <td>0.000</td>\n      <td>0.000</td>\n    </tr>\n    <tr>\n      <th>4</th>\n      <td>9</td>\n      <td>2020-02-27</td>\n      <td>SP</td>\n      <td>São Paulo/SP</td>\n      <td>3550308</td>\n      <td>0</td>\n      <td>0</td>\n      <td>0</td>\n      <td>1</td>\n      <td>0.000</td>\n      <td>0.008</td>\n      <td>0.000</td>\n    </tr>\n    <tr>\n      <th>...</th>\n      <td>...</td>\n      <td>...</td>\n      <td>...</td>\n      <td>...</td>\n      <td>...</td>\n      <td>...</td>\n      <td>...</td>\n      <td>...</td>\n      <td>...</td>\n      <td>...</td>\n      <td>...</td>\n      <td>...</td>\n    </tr>\n    <tr>\n      <th>1858199</th>\n      <td>248</td>\n      <td>2022-11-28</td>\n      <td>PR</td>\n      <td>Ângulo/PR</td>\n      <td>4101150</td>\n      <td>0</td>\n      <td>11</td>\n      <td>0</td>\n      <td>926</td>\n      <td>375.299</td>\n      <td>31593.313</td>\n      <td>0.012</td>\n    </tr>\n    <tr>\n      <th>1858200</th>\n      <td>248</td>\n      <td>2022-11-28</td>\n      <td>BA</td>\n      <td>Érico Cardoso/BA</td>\n      <td>2900504</td>\n      <td>0</td>\n      <td>6</td>\n      <td>0</td>\n      <td>667</td>\n      <td>57.072</td>\n      <td>6344.526</td>\n      <td>0.009</td>\n    </tr>\n    <tr>\n      <th>1858201</th>\n      <td>248</td>\n      <td>2022-11-28</td>\n      <td>PA</td>\n      <td>Óbidos/PA</td>\n      <td>1505106</td>\n      <td>0</td>\n      <td>165</td>\n      <td>0</td>\n      <td>8622</td>\n      <td>314.447</td>\n      <td>16431.308</td>\n      <td>0.019</td>\n    </tr>\n    <tr>\n      <th>1858202</th>\n      <td>248</td>\n      <td>2022-11-28</td>\n      <td>SP</td>\n      <td>Óleo/SP</td>\n      <td>3533809</td>\n      <td>0</td>\n      <td>6</td>\n      <td>0</td>\n      <td>161</td>\n      <td>245.198</td>\n      <td>6579.485</td>\n      <td>0.037</td>\n    </tr>\n    <tr>\n      <th>1858203</th>\n      <td>248</td>\n      <td>2022-11-28</td>\n      <td>TOTAL</td>\n      <td>TOTAL</td>\n      <td>0</td>\n      <td>0</td>\n      <td>689442</td>\n      <td>0</td>\n      <td>35149503</td>\n      <td>323.200</td>\n      <td>16477.542</td>\n      <td>0.020</td>\n    </tr>\n  </tbody>\n</table>\n<p>5215317 rows × 12 columns</p>\n</div>"
     },
     "execution_count": 218,
     "metadata": {},
     "output_type": "execute_result"
    }
   ],
   "source": [
    "df_wcota"
   ],
   "metadata": {
    "collapsed": false
   }
  },
  {
   "cell_type": "markdown",
   "source": [
    "## Adjusting data"
   ],
   "metadata": {
    "collapsed": false
   }
  },
  {
   "cell_type": "code",
   "execution_count": 221,
   "outputs": [],
   "source": [
    "STUDY_END_DATE = datetime.fromisoformat('2022-10-15')"
   ],
   "metadata": {
    "collapsed": false
   }
  },
  {
   "cell_type": "code",
   "execution_count": 222,
   "outputs": [],
   "source": [
    "df_covid_base = df_wcota[['DATA', 'SIGLA_ESTADO', 'MUNICIPIO', 'CODIGO_MUNICIPIO_7', 'OBITOS_NOVOS', 'OBITOS', 'CASOS_NOVOS', 'CASOS']]"
   ],
   "metadata": {
    "collapsed": false
   }
  },
  {
   "cell_type": "code",
   "execution_count": 223,
   "outputs": [],
   "source": [
    "df_covid_base = df_covid_base[df_covid_base.DATA <= STUDY_END_DATE]"
   ],
   "metadata": {
    "collapsed": false
   }
  },
  {
   "cell_type": "code",
   "execution_count": 227,
   "outputs": [],
   "source": [
    "df_ts_covid_brazil = df_covid_base[df_covid_base.MUNICIPIO == 'TOTAL'].copy()\n",
    "# Population estimated for Brazil second IBGE\n",
    "df_ts_covid_brazil['POPULACAO_ESTIMADA'] = 210147125"
   ],
   "metadata": {
    "collapsed": false
   }
  },
  {
   "cell_type": "markdown",
   "source": [
    "## National dataframe"
   ],
   "metadata": {
    "collapsed": false
   }
  },
  {
   "cell_type": "markdown",
   "source": [
    "### Defining Covid-19 rolling averge measures"
   ],
   "metadata": {
    "collapsed": false
   }
  },
  {
   "cell_type": "code",
   "execution_count": 228,
   "outputs": [],
   "source": [
    "df_ts_covid_brazil = df_ts_covid_brazil.sort_values(by='DATA')\n",
    "df_ts_covid_brazil['OBITOS_NOVOS_MEDIA_14_DIAS'] = df_ts_covid_brazil[['OBITOS_NOVOS']].rolling(window=14, min_periods=1).mean()\n",
    "df_ts_covid_brazil['TAXA_OBITOS_NOVOS_MEDIA_14_DIAS'] = df_ts_covid_brazil.OBITOS_NOVOS_MEDIA_14_DIAS / df_ts_covid_brazil.POPULACAO_ESTIMADA * 100000\n",
    "df_ts_covid_brazil['CASOS_NOVOS_MEDIA_14_DIAS'] = df_ts_covid_brazil[['CASOS_NOVOS']].rolling(window=14, min_periods=1).mean()\n",
    "df_ts_covid_brazil['CASOS_NOVOS_MEDIA_56_DIAS'] = df_ts_covid_brazil[['CASOS_NOVOS']].rolling(window=56, min_periods=1).mean()\n",
    "df_ts_covid_brazil['TAXA_CASOS_NOVOS_MEDIA_14_DIAS'] = df_ts_covid_brazil.CASOS_NOVOS_MEDIA_14_DIAS / df_ts_covid_brazil.POPULACAO_ESTIMADA * 100000\n",
    "df_ts_covid_brazil['TAXA_CASOS_NOVOS_MEDIA_56_DIAS'] = df_ts_covid_brazil.CASOS_NOVOS_MEDIA_56_DIAS / df_ts_covid_brazil.POPULACAO_ESTIMADA * 100000"
   ],
   "metadata": {
    "collapsed": false
   }
  },
  {
   "cell_type": "markdown",
   "source": [
    "### Defining epidemiological measures"
   ],
   "metadata": {
    "collapsed": false
   }
  },
  {
   "cell_type": "code",
   "execution_count": 229,
   "outputs": [
    {
     "name": "stderr",
     "output_type": "stream",
     "text": [
      "/home/helder/Codigos/Python/PesquisasCovid19/main/qualification/util.py:89: RuntimeWarning: divide by zero encountered in true_divide\n",
      "  re = (new_cases[14:]) / (new_cases[:len(new_cases) - 14])\n",
      "/home/helder/Codigos/Python/PesquisasCovid19/main/qualification/util.py:89: RuntimeWarning: invalid value encountered in true_divide\n",
      "  re = (new_cases[14:]) / (new_cases[:len(new_cases) - 14])\n"
     ]
    }
   ],
   "source": [
    "# Baud, David, et al. \"Real estimates of mortality following COVID-19 infection.\" The Lancet infectious diseases 20.7 (2020): 773.\n",
    "df_ts_covid_brazil['TAXA_FATALIDADE'] = df_ts_covid_brazil.OBITOS_NOVOS_MEDIA_14_DIAS / df_ts_covid_brazil.CASOS_NOVOS_MEDIA_14_DIAS.shift(14) * 100"
   ],
   "metadata": {
    "collapsed": false
   }
  },
  {
   "cell_type": "markdown",
   "source": [
    "#### Estimating effective reproduction number for national time series"
   ],
   "metadata": {
    "collapsed": false
   }
  },
  {
   "cell_type": "code",
   "execution_count": 232,
   "outputs": [],
   "source": [
    "df_cases = df_ts_covid_brazil.set_index('DATA')['CASOS_NOVOS']"
   ],
   "metadata": {
    "collapsed": false
   }
  },
  {
   "cell_type": "code",
   "execution_count": 233,
   "outputs": [],
   "source": [
    "#Bi, Qifang, et al. \"Epidemiology and transmission of COVID-19 in 391 cases and 1286 of their close contacts in Shenzhen, China: a retrospective cohort study.\" The Lancet infectious diseases 20.8 (2020): 911-919.\n",
    "# Gamma distribution with serial interval mean equal to 6.36 days, gamma(a=2.29, b=0.36)\n",
    "standard_serial_inteval_distribution = epyestim.discrete_distrb(gamma(a=2.29, scale=1/0.36))\n",
    "\n",
    "#Bi, Qifang, et al. \"Epidemiology and transmission of COVID-19 in 391 cases and 1286 of their close contacts in Shenzhen, China: a retrospective cohort study.\" The Lancet infectious diseases 20.8 (2020): 911-919.\n",
    "# Lognormal distribution with incabation mean equal to 5.93 days, Lognormal(mu=1.57, sigma²=0.42)\n",
    "incubation_time_distribution = epyestim.discrete_distrb(lognorm(scale=exp(1.57), s=0.65))\n",
    "\n",
    "#Barros, Gabriela Pereira, et al. \"Estimation of Reproduction Number for Covid-19 with Statistical Correction of Notifications Delay.\" IEEE Latin America Transactions 20.7 (2022): 1085-1091.\n",
    "#Gamma distribution for BH city with mean equal 6.56 days SD 5.34, gamma(a=1.51, b=0.23)\n",
    "delay_onset_to_notification_distribution = epyestim.discrete_distrb(gamma(a=1.51, scale=1/0.23))\n",
    "\n",
    "# Distribution resultant of convolution incubation_time_distribution and delay_onset_to_notification_distribution.\n",
    "# Represent delay of infection to notification with delay mean equal to 12.5 days.\n",
    "delay_infecton_to_notification_distribution = np.convolve(incubation_time_distribution, delay_onset_to_notification_distribution)"
   ],
   "metadata": {
    "collapsed": false
   }
  },
  {
   "cell_type": "code",
   "execution_count": 234,
   "outputs": [
    {
     "data": {
      "text/plain": "<Figure size 1728x216 with 4 Axes>",
      "image/png": "[encoded data removed]"
     },
     "metadata": {
      "needs_background": "light"
     },
     "output_type": "display_data"
    }
   ],
   "source": [
    "fig, axs = plt.subplots(1, 4, figsize=(24,3))\n",
    "\n",
    "axs[0].bar(range(len(standard_serial_inteval_distribution)), standard_serial_inteval_distribution, width=1)\n",
    "axs[1].bar(range(len(incubation_time_distribution)), incubation_time_distribution, width=1)\n",
    "axs[2].bar(range(len(delay_onset_to_notification_distribution)), delay_onset_to_notification_distribution, width=1)\n",
    "# axs[3].bar(range(50), delay_infecton_to_notification_distribution[:50], width=1)\n",
    "axs[3].bar(range(len(delay_infecton_to_notification_distribution)), delay_infecton_to_notification_distribution, width=1)\n",
    "\n",
    "axs[0].set_title('Default serial interval distribution')\n",
    "axs[1].set_title('Default incubation time distribution')\n",
    "axs[2].set_title('Onset-to-reporting delay distribution in Brazil context')\n",
    "axs[3].set_title('Infection-to-reporting delay distribution')\n",
    "plt.show()"
   ],
   "metadata": {
    "collapsed": false
   }
  },
  {
   "cell_type": "code",
   "execution_count": 235,
   "outputs": [
    {
     "data": {
      "text/plain": "             cases    R_mean     R_var    Q0.025      Q0.5    Q0.975\n2020-03-10     9.0  3.074052  0.006483  2.919447  3.073360  3.232590\n2020-03-11    19.0  2.903070  0.004841  2.769328  2.902523  3.039922\n2020-03-12    36.0  2.742147  0.003656  2.625360  2.741699  2.862309\n2020-03-13    17.0  2.602817  0.002816  2.499764  2.602456  2.707923\n2020-03-14    36.0  2.487134  0.002215  2.395839  2.486837  2.580111\n...            ...       ...       ...       ...       ...       ...\n2022-09-29  9541.0  0.902853  0.000010  0.896663  0.902849  0.909064\n2022-09-30  8793.0  0.895135  0.000010  0.888928  0.895131  0.901364\n2022-10-01  5986.0  0.887374  0.000010  0.881134  0.887370  0.893636\n2022-10-02  1023.0  0.879455  0.000010  0.873188  0.879451  0.885744\n2022-10-03  4996.0  0.870862  0.000010  0.864588  0.870858  0.877159\n\n[938 rows x 6 columns]",
      "text/html": "<div>\n<style scoped>\n    .dataframe tbody tr th:only-of-type {\n        vertical-align: middle;\n    }\n\n    .dataframe tbody tr th {\n        vertical-align: top;\n    }\n\n    .dataframe thead th {\n        text-align: right;\n    }\n</style>\n<table border=\"1\" class=\"dataframe\">\n  <thead>\n    <tr style=\"text-align: right;\">\n      <th></th>\n      <th>cases</th>\n      <th>R_mean</th>\n      <th>R_var</th>\n      <th>Q0.025</th>\n      <th>Q0.5</th>\n      <th>Q0.975</th>\n    </tr>\n  </thead>\n  <tbody>\n    <tr>\n      <th>2020-03-10</th>\n      <td>9.0</td>\n      <td>3.074052</td>\n      <td>0.006483</td>\n      <td>2.919447</td>\n      <td>3.073360</td>\n      <td>3.232590</td>\n    </tr>\n    <tr>\n      <th>2020-03-11</th>\n      <td>19.0</td>\n      <td>2.903070</td>\n      <td>0.004841</td>\n      <td>2.769328</td>\n      <td>2.902523</td>\n      <td>3.039922</td>\n    </tr>\n    <tr>\n      <th>2020-03-12</th>\n      <td>36.0</td>\n      <td>2.742147</td>\n      <td>0.003656</td>\n      <td>2.625360</td>\n      <td>2.741699</td>\n      <td>2.862309</td>\n    </tr>\n    <tr>\n      <th>2020-03-13</th>\n      <td>17.0</td>\n      <td>2.602817</td>\n      <td>0.002816</td>\n      <td>2.499764</td>\n      <td>2.602456</td>\n      <td>2.707923</td>\n    </tr>\n    <tr>\n      <th>2020-03-14</th>\n      <td>36.0</td>\n      <td>2.487134</td>\n      <td>0.002215</td>\n      <td>2.395839</td>\n      <td>2.486837</td>\n      <td>2.580111</td>\n    </tr>\n    <tr>\n      <th>...</th>\n      <td>...</td>\n      <td>...</td>\n      <td>...</td>\n      <td>...</td>\n      <td>...</td>\n      <td>...</td>\n    </tr>\n    <tr>\n      <th>2022-09-29</th>\n      <td>9541.0</td>\n      <td>0.902853</td>\n      <td>0.000010</td>\n      <td>0.896663</td>\n      <td>0.902849</td>\n      <td>0.909064</td>\n    </tr>\n    <tr>\n      <th>2022-09-30</th>\n      <td>8793.0</td>\n      <td>0.895135</td>\n      <td>0.000010</td>\n      <td>0.888928</td>\n      <td>0.895131</td>\n      <td>0.901364</td>\n    </tr>\n    <tr>\n      <th>2022-10-01</th>\n      <td>5986.0</td>\n      <td>0.887374</td>\n      <td>0.000010</td>\n      <td>0.881134</td>\n      <td>0.887370</td>\n      <td>0.893636</td>\n    </tr>\n    <tr>\n      <th>2022-10-02</th>\n      <td>1023.0</td>\n      <td>0.879455</td>\n      <td>0.000010</td>\n      <td>0.873188</td>\n      <td>0.879451</td>\n      <td>0.885744</td>\n    </tr>\n    <tr>\n      <th>2022-10-03</th>\n      <td>4996.0</td>\n      <td>0.870862</td>\n      <td>0.000010</td>\n      <td>0.864588</td>\n      <td>0.870858</td>\n      <td>0.877159</td>\n    </tr>\n  </tbody>\n</table>\n<p>938 rows × 6 columns</p>\n</div>"
     },
     "execution_count": 235,
     "metadata": {},
     "output_type": "execute_result"
    }
   ],
   "source": [
    "# Cori, A., Ferguson, N. M., Fraser, C., & Cauchemez, S. (2013). A new framework and software to estimate time-varying reproduction numbers during epidemics. American journal of epidemiology, 178(9), 1505-1512.\n",
    "# https://github.com/lo-hfk/epyestim\n",
    "# df_effective_reproduction_number = covid19.r_covid(df_cases, smoothing_window = 56, r_window_size = 14, auto_cutoff=True, n_samples=10, delay_distribution=delay_infecton_to_notification_distribution, gt_distribution=standard_serial_inteval_distribution)\n",
    "df_effective_reproduction_number = covid19.r_covid(df_cases, smoothing_window = 28, r_window_size = 14, auto_cutoff=True, n_samples=10, delay_distribution=delay_infecton_to_notification_distribution, gt_distribution=standard_serial_inteval_distribution, a_prior=9.9, b_prior=1/9.25)\n",
    "df_effective_reproduction_number"
   ],
   "metadata": {
    "collapsed": false
   }
  },
  {
   "cell_type": "code",
   "execution_count": 236,
   "outputs": [
    {
     "data": {
      "text/plain": "<Figure size 864x288 with 1 Axes>",
      "image/png": "[encoded data removed]"
     },
     "metadata": {
      "needs_background": "light"
     },
     "output_type": "display_data"
    }
   ],
   "source": [
    "fig, ax = plt.subplots(1,1, figsize=(12, 4))\n",
    "\n",
    "plt.plot(df_effective_reproduction_number.index, df_effective_reproduction_number['R_mean'], color='green')\n",
    "\n",
    "ax.fill_between(df_effective_reproduction_number.index,\n",
    "                    df_effective_reproduction_number['Q0.025'],\n",
    "                    df_effective_reproduction_number['Q0.975'],\n",
    "                    color='gray', alpha=1)\n",
    "ax.set_xlabel('date')\n",
    "ax.set_ylabel('R(t) with 95%-CI')\n",
    "ax.set_ylim([df_effective_reproduction_number['Q0.975'].min(),df_effective_reproduction_number['Q0.975'].max()])\n",
    "ax.axhline(y=1)\n",
    "ax.set_title('Estimate of time-varying effective reproduction number for Brazil')\n",
    "plt.show()"
   ],
   "metadata": {
    "collapsed": false
   }
  },
  {
   "cell_type": "code",
   "execution_count": 237,
   "outputs": [
    {
     "data": {
      "text/plain": "             cases    R_mean     R_var    Q0.025      Q0.5    Q0.975\n2020-03-10     9.0  3.074052  0.006483  2.919447  3.073360  3.232590\n2020-03-11    19.0  2.903070  0.004841  2.769328  2.902523  3.039922\n2020-03-12    36.0  2.742147  0.003656  2.625360  2.741699  2.862309\n2020-03-13    17.0  2.602817  0.002816  2.499764  2.602456  2.707923\n2020-03-14    36.0  2.487134  0.002215  2.395839  2.486837  2.580111\n...            ...       ...       ...       ...       ...       ...\n2022-09-29  9541.0  0.902853  0.000010  0.896663  0.902849  0.909064\n2022-09-30  8793.0  0.895135  0.000010  0.888928  0.895131  0.901364\n2022-10-01  5986.0  0.887374  0.000010  0.881134  0.887370  0.893636\n2022-10-02  1023.0  0.879455  0.000010  0.873188  0.879451  0.885744\n2022-10-03  4996.0  0.870862  0.000010  0.864588  0.870858  0.877159\n\n[938 rows x 6 columns]",
      "text/html": "<div>\n<style scoped>\n    .dataframe tbody tr th:only-of-type {\n        vertical-align: middle;\n    }\n\n    .dataframe tbody tr th {\n        vertical-align: top;\n    }\n\n    .dataframe thead th {\n        text-align: right;\n    }\n</style>\n<table border=\"1\" class=\"dataframe\">\n  <thead>\n    <tr style=\"text-align: right;\">\n      <th></th>\n      <th>cases</th>\n      <th>R_mean</th>\n      <th>R_var</th>\n      <th>Q0.025</th>\n      <th>Q0.5</th>\n      <th>Q0.975</th>\n    </tr>\n  </thead>\n  <tbody>\n    <tr>\n      <th>2020-03-10</th>\n      <td>9.0</td>\n      <td>3.074052</td>\n      <td>0.006483</td>\n      <td>2.919447</td>\n      <td>3.073360</td>\n      <td>3.232590</td>\n    </tr>\n    <tr>\n      <th>2020-03-11</th>\n      <td>19.0</td>\n      <td>2.903070</td>\n      <td>0.004841</td>\n      <td>2.769328</td>\n      <td>2.902523</td>\n      <td>3.039922</td>\n    </tr>\n    <tr>\n      <th>2020-03-12</th>\n      <td>36.0</td>\n      <td>2.742147</td>\n      <td>0.003656</td>\n      <td>2.625360</td>\n      <td>2.741699</td>\n      <td>2.862309</td>\n    </tr>\n    <tr>\n      <th>2020-03-13</th>\n      <td>17.0</td>\n      <td>2.602817</td>\n      <td>0.002816</td>\n      <td>2.499764</td>\n      <td>2.602456</td>\n      <td>2.707923</td>\n    </tr>\n    <tr>\n      <th>2020-03-14</th>\n      <td>36.0</td>\n      <td>2.487134</td>\n      <td>0.002215</td>\n      <td>2.395839</td>\n      <td>2.486837</td>\n      <td>2.580111</td>\n    </tr>\n    <tr>\n      <th>...</th>\n      <td>...</td>\n      <td>...</td>\n      <td>...</td>\n      <td>...</td>\n      <td>...</td>\n      <td>...</td>\n    </tr>\n    <tr>\n      <th>2022-09-29</th>\n      <td>9541.0</td>\n      <td>0.902853</td>\n      <td>0.000010</td>\n      <td>0.896663</td>\n      <td>0.902849</td>\n      <td>0.909064</td>\n    </tr>\n    <tr>\n      <th>2022-09-30</th>\n      <td>8793.0</td>\n      <td>0.895135</td>\n      <td>0.000010</td>\n      <td>0.888928</td>\n      <td>0.895131</td>\n      <td>0.901364</td>\n    </tr>\n    <tr>\n      <th>2022-10-01</th>\n      <td>5986.0</td>\n      <td>0.887374</td>\n      <td>0.000010</td>\n      <td>0.881134</td>\n      <td>0.887370</td>\n      <td>0.893636</td>\n    </tr>\n    <tr>\n      <th>2022-10-02</th>\n      <td>1023.0</td>\n      <td>0.879455</td>\n      <td>0.000010</td>\n      <td>0.873188</td>\n      <td>0.879451</td>\n      <td>0.885744</td>\n    </tr>\n    <tr>\n      <th>2022-10-03</th>\n      <td>4996.0</td>\n      <td>0.870862</td>\n      <td>0.000010</td>\n      <td>0.864588</td>\n      <td>0.870858</td>\n      <td>0.877159</td>\n    </tr>\n  </tbody>\n</table>\n<p>938 rows × 6 columns</p>\n</div>"
     },
     "execution_count": 237,
     "metadata": {},
     "output_type": "execute_result"
    }
   ],
   "source": [
    "df_effective_reproduction_number"
   ],
   "metadata": {
    "collapsed": false
   }
  },
  {
   "cell_type": "code",
   "execution_count": 238,
   "outputs": [],
   "source": [
    "df_effective_reproduction_number = df_effective_reproduction_number.reset_index()\n",
    "df_effective_reproduction_number = df_effective_reproduction_number.rename(columns={'index': 'DATA', 'R_mean': 'NUMERO_REPRODUCAO_EFETIVO_MEDIA', 'R_var': 'NUMERO_REPRODUCAO_EFETIVO_VARIANCIA', 'Q0.025': 'NUMERO_REPRODUCAO_EFETIVO_QUANTIL_0.025', 'Q0.5': 'NUMERO_REPRODUCAO_EFETIVO_MEDIANA', 'Q0.975': 'NUMERO_REPRODUCAO_EFETIVO_QUANTIL_0.975' })\n",
    "df_effective_reproduction_number = df_effective_reproduction_number.drop(columns=['cases'])\n",
    "df_ts_covid_brazil = df_ts_covid_brazil.merge(df_effective_reproduction_number, how='left', left_on='DATA', right_on='DATA')"
   ],
   "metadata": {
    "collapsed": false
   }
  },
  {
   "cell_type": "markdown",
   "source": [
    "## Peaks and valleys"
   ],
   "metadata": {
    "collapsed": false
   }
  },
  {
   "cell_type": "code",
   "execution_count": null,
   "outputs": [],
   "source": [
    "index_case_peaks = detect_peaks(df_ts_covid_brazil.CASOS_NOVOS_MEDIA_14_DIAS, mph=df_ts_covid_brazil.CASOS_NOVOS_MEDIA_14_DIAS.std() * 1.5, mpd=120, show=True)\n",
    "\n",
    "case_peaks = []\n",
    "for i in index_case_peaks:\n",
    "    case_peaks.append(df_ts_covid_brazil.iloc[i].DATA)\n",
    "pd.DataFrame(case_peaks).to_csv(\"data/output/peaks.csv\", index=False, header=False)\n",
    "\n",
    "index_case_valleys = detect_peaks(df_ts_covid_brazil.CASOS_NOVOS_MEDIA_14_DIAS, mph=19000, mpd=120, threshold=1, valley=True, show=True)\n",
    "case_valleys = []\n",
    "for i in index_case_valleys:\n",
    "    case_valleys.append(df_ts_covid_brazil.iloc[i].DATA)\n",
    "    print(df_ts_covid_brazil.iloc[i].CASOS_NOVOS_MEDIA_14_DIAS)\n",
    "pd.DataFrame(case_valleys).to_csv(\"data/output/valleys.csv\", index=False, header=False)"
   ],
   "metadata": {
    "collapsed": false
   }
  },
  {
   "cell_type": "markdown",
   "source": [
    "## Saving data"
   ],
   "metadata": {
    "collapsed": false
   }
  },
  {
   "cell_type": "code",
   "execution_count": 247,
   "outputs": [],
   "source": [
    "df_ts_covid_brazil.to_csv('data/df_ts_covid_brazil.csv', index=False)"
   ],
   "metadata": {
    "collapsed": false
   }
  }
 ],
 "metadata": {
  "kernelspec": {
   "display_name": "Python 3",
   "language": "python",
   "name": "python3"
  },
  "language_info": {
   "codemirror_mode": {
    "name": "ipython",
    "version": 2
   },
   "file_extension": ".py",
   "mimetype": "text/x-python",
   "name": "python",
   "nbconvert_exporter": "python",
   "pygments_lexer": "ipython2",
   "version": "2.7.6"
  }
 },
 "nbformat": 4,
 "nbformat_minor": 0
}
