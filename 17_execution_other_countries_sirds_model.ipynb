{
 "cells": [
  {
   "cell_type": "markdown",
   "source": [
    "# Execute fuzzy SIRDS model to data from other coutries"
   ],
   "metadata": {
    "collapsed": false
   }
  },
  {
   "cell_type": "code",
   "execution_count": 1,
   "metadata": {
    "collapsed": true,
    "ExecuteTime": {
     "end_time": "2023-11-22T02:12:55.399226884Z",
     "start_time": "2023-11-22T02:12:53.848961690Z"
    }
   },
   "outputs": [],
   "source": [
    "import pandas as pd\n",
    "from scipy.optimize import differential_evolution\n",
    "from datetime import timedelta, datetime\n",
    "\n",
    "from sirds_model import get_bounds_and_arguments, sirds_objective_function"
   ]
  },
  {
   "cell_type": "markdown",
   "source": [
    "## Reading data"
   ],
   "metadata": {
    "collapsed": false
   }
  },
  {
   "cell_type": "code",
   "execution_count": 2,
   "outputs": [],
   "source": [
    "df = pd.read_csv('data/output/df_ts_epidemic_episodes_other_countries.csv', index_col=0)\n",
    "df.date = pd.to_datetime(df.date)"
   ],
   "metadata": {
    "collapsed": false,
    "ExecuteTime": {
     "end_time": "2023-11-22T02:12:55.520540527Z",
     "start_time": "2023-11-22T02:12:55.380792312Z"
    }
   }
  },
  {
   "cell_type": "code",
   "execution_count": 3,
   "outputs": [],
   "source": [
    "df = df[df.location.isin(['Spain', 'United Kingdom', 'United States'])]\n",
    "#df = df[df.location.isin(['United States'])]"
   ],
   "metadata": {
    "collapsed": false,
    "ExecuteTime": {
     "end_time": "2023-11-22T02:12:55.520852159Z",
     "start_time": "2023-11-22T02:12:55.488549374Z"
    }
   }
  },
  {
   "cell_type": "code",
   "execution_count": 4,
   "outputs": [],
   "source": [
    "dict_max_date_to_fit = {'United States': df.date.max(), 'United Kingdom': df.date.max(), 'Spain': df.date.max()}"
   ],
   "metadata": {
    "collapsed": false,
    "ExecuteTime": {
     "end_time": "2023-11-22T02:12:55.521038082Z",
     "start_time": "2023-11-22T02:12:55.505574223Z"
    }
   }
  },
  {
   "cell_type": "code",
   "execution_count": 5,
   "outputs": [],
   "source": [
    "dict_cumulative_days_in_first_outbreak_to_max_bound_I0 = {'United States': 0, 'United Kingdom': None, 'Spain': 0}"
   ],
   "metadata": {
    "collapsed": false,
    "ExecuteTime": {
     "end_time": "2023-11-22T02:12:55.567961137Z",
     "start_time": "2023-11-22T02:12:55.512514738Z"
    }
   }
  },
  {
   "cell_type": "markdown",
   "source": [
    "## Execution SIRDS model"
   ],
   "metadata": {
    "collapsed": false
   }
  },
  {
   "cell_type": "code",
   "execution_count": 6,
   "outputs": [],
   "source": [
    "df = df.sort_values(by=['location', 'date'])"
   ],
   "metadata": {
    "collapsed": false,
    "ExecuteTime": {
     "end_time": "2023-11-22T02:12:55.568188465Z",
     "start_time": "2023-11-22T02:12:55.557173665Z"
    }
   }
  },
  {
   "cell_type": "code",
   "execution_count": null,
   "outputs": [
    {
     "name": "stdout",
     "output_type": "stream",
     "text": [
      "country: Spain\n",
      "country: United Kingdom\n",
      "country: United States\n",
      "country: Spain\n",
      "country: United Kingdom\n",
      "estimation: 1\n",
      "[(0.0014802853812419738, 0.0014822853812419736), (1.7078268812841861, 2.9723033038735736), (0.0008495582981530875, 0.013300999999999999), (0.0014248387533001134, 0.013300999999999999), (0.0002725214617683035, 0.0032363158645566654), (0.000506092656804511, 0.002580694199344447), (0.00013576496312809819, 0.013300999999999999), (89.999999, 365.000001), (89.999999, 365.000001), (89.999999, 365.000001), (89.999999, 365.000001), (89.999999, 365.000001), (1.7078268812841861, 10.574045997561049), (1.6738519559784781, 5.579510853261595), (1.6738519559784781, 8.12002505899817), (1.9244442773351058, 6.41481859111702), (1.7646176457870097, 5.882063152623366), (1.7646176457870097, 8.655590253206244), (2.1332344534411587, 7.110785844803863), (1.9622339456507754, 6.540784152169251), (2.0600991079267277, 6.540785152169251), (1.8406668368632015, 6.135560456210672), (1.8491972564005288, 6.135561456210672), (2.004800813297638, 6.135562456210672), (2.004800813297638, 6.612163338626458), (-1e-06, 45.000001), (183.999999, 201.000001), (200.999999, 269.000001), (279.999999, 308.000001), (452.999999, 494.000001), (493.999999, 562.000001), (585.999999, 598.000001), (656.999999, 673.000001), (731.999999, 749.000001), (828.999999, 850.000001), (926.999999, 944.000001), (999.999999, 1011.000001), (1010.999999, 1012.000001), (-1e-06, 56.000001), (-1e-06, 56.000001), (-1e-06, 56.000001), (-1e-06, 56.000001), (-1e-06, 56.000001), (-1e-06, 56.000001), (-1e-06, 56.000001), (-1e-06, 56.000001), (-1e-06, 56.000001), (-1e-06, 56.000001), (-1e-06, 56.000001), (-1e-06, 56.000001), (-1e-06, 56.000001)]\n",
      "2023-11-21 23:12:55.646047\n",
      "19776.886745\n",
      "{'location': 'United Kingdom', 'estimation': 1, 'result_fun': 0.2215994716431529, 'result_nfev': 299420, 'result_nit': 1163, 'result_success': True, 'start_time': '2023-11-21 23:12:55', 'end_time': '2023-11-22 04:42:32', 'duration_seconds': 19776.886745, 'pop_size': 5, 'period_in_days': 1055, 'days_to_recovery': 8, 'cumulative_days_in_first_outbreak_to_max_bound_I0': None, 'date_first_case': Timestamp('2020-02-11 00:00:00'), 'list_breakpoints_in_slow_transition': [1, 4, 7, 10], 'x_initial_infected_population': 0.001480837542659903, 'x_days_between_infections_0': 1.9759536771032855, 'x_case_fatality_probability_0': 0.0051288573683440156, 'x_loss_immunity_in_days_0': 332.4729297814492, 'x_case_fatality_probability_1': 0.003364281826713126, 'x_loss_immunity_in_days_1': 259.9425085976421, 'x_case_fatality_probability_2': 0.0003007043222785405, 'x_loss_immunity_in_days_2': 258.02781055545563, 'x_case_fatality_probability_3': 0.0007574201917770582, 'x_loss_immunity_in_days_3': 92.48293353203164, 'x_case_fatality_probability_4': 0.0004225462896525967, 'x_loss_immunity_in_days_4': 221.39122571193226, 'x_days_between_infections_1': 9.702924621634182, 'x_breakpoint_1': 40.21973601208615, 'x_transition_days_between_epidemic_periods_1': 26.854894389849477, 'x_days_between_infections_2': 4.698545054040049, 'x_breakpoint_2': 191.20075044577194, 'x_transition_days_between_epidemic_periods_2': 5.64795661173325, 'x_days_between_infections_3': 8.075127474633529, 'x_breakpoint_3': 267.72942145019283, 'x_transition_days_between_epidemic_periods_3': 39.61488231428424, 'x_days_between_infections_4': 3.582639305057675, 'x_breakpoint_4': 307.903903822832, 'x_transition_days_between_epidemic_periods_4': 26.699132423499282, 'x_days_between_infections_5': 2.773725625116379, 'x_breakpoint_5': 466.10928780237225, 'x_transition_days_between_epidemic_periods_5': 19.880456771368664, 'x_days_between_infections_6': 3.570532807947202, 'x_breakpoint_6': 504.7754750718032, 'x_transition_days_between_epidemic_periods_6': 17.348668602279407, 'x_days_between_infections_7': 4.487550306262619, 'x_breakpoint_7': 587.4688063496878, 'x_transition_days_between_epidemic_periods_7': 36.92147466511761, 'x_days_between_infections_8': 4.637634424562271, 'x_breakpoint_8': 660.7123178456799, 'x_transition_days_between_epidemic_periods_8': 54.103894057638485, 'x_days_between_infections_9': 5.061573984660121, 'x_breakpoint_9': 741.7284077441491, 'x_transition_days_between_epidemic_periods_9': 44.29211368392903, 'x_days_between_infections_10': 4.732531819954835, 'x_breakpoint_10': 832.5358045151567, 'x_transition_days_between_epidemic_periods_10': 19.202228141887215, 'x_days_between_infections_11': 3.9801000612566355, 'x_breakpoint_11': 933.5572056196951, 'x_transition_days_between_epidemic_periods_11': 9.21852717901939, 'x_days_between_infections_12': 6.055401808014646, 'x_breakpoint_12': 1002.6628518648558, 'x_transition_days_between_epidemic_periods_12': 44.15115487606961, 'x_days_between_infections_13': 3.186350932734021, 'x_breakpoint_13': 1011.471194599336, 'x_transition_days_between_epidemic_periods_13': 25.15559282799541}\n",
      "country: United States\n",
      "country: Spain\n",
      "estimation: 2\n",
      "[(0.00210166771340269, 0.00841167085361), (1.6355992879729033, 3.252300636068391), (0.0010242607770551515, 0.013300999999999999), (0.0006999543203729781, 0.013300999999999999), (0.0004402027663032863, 0.0027981917970014334), (0.0002764379933504275, 0.0059894781995844725), (9.900000000000001e-05, 0.00876769094209881), (89.999999, 365.000001), (89.999999, 365.000001), (89.999999, 365.000001), (89.999999, 365.000001), (89.999999, 365.000001), (1.6355992879729033, 12.688684094342818), (1.4674895319272225, 4.891636106424075), (1.4674895319272225, 9.451762606266207), (1.7873330994723413, 5.957781331574472), (2.3271842916149037, 5.957782331574472), (1.4459666972215681, 4.819893324071893), (1.4459666972215681, 10.2356884733353), (1.873174583693057, 6.24391961231019), (1.873174583693057, 10.782484005561583), (2.182935029032516, 7.276454430108387), (2.182935029032516, 8.622761572524837), (1.951420733801477, 6.504740112671591), (2.1208473395003744, 6.504741112671591), (2.2196461546055652, 6.504742112671591), (14.999999, 48.000001), (148.999999, 162.000001), (161.999999, 271.000001), (311.999999, 332.000001), (408.999999, 416.000001), (502.999999, 517.000001), (516.999999, 545.000001), (621.999999, 657.000001), (656.999999, 713.000001), (774.999999, 788.000001), (787.999999, 820.000001), (843.999999, 868.000001), (955.999999, 966.000001), (999.999999, 1014.000001), (-1e-06, 56.000001), (-1e-06, 56.000001), (-1e-06, 56.000001), (-1e-06, 56.000001), (-1e-06, 56.000001), (-1e-06, 56.000001), (-1e-06, 56.000001), (-1e-06, 56.000001), (-1e-06, 56.000001), (-1e-06, 56.000001), (-1e-06, 56.000001), (-1e-06, 56.000001), (-1e-06, 56.000001), (-1e-06, 56.000001)]\n",
      "2023-11-22 04:42:32.609261\n"
     ]
    },
    {
     "name": "stderr",
     "output_type": "stream",
     "text": [
      "/tmp/ipykernel_30108/3012450128.py:96: FutureWarning: The behavior of DataFrame concatenation with empty or all-NA entries is deprecated. In a future version, this will no longer exclude empty or all-NA columns when determining the result dtypes. To retain the old behavior, exclude the relevant entries before the concat operation.\n",
      "  df_results = pd.concat([df_results, pd.DataFrame.from_records([estimation_result])])\n"
     ]
    },
    {
     "name": "stdout",
     "output_type": "stream",
     "text": [
      "47474.572291\n",
      "{'location': 'Spain', 'estimation': 2, 'result_fun': 0.31591107837202664, 'result_nfev': 631135, 'result_nit': 2318, 'result_success': True, 'start_time': '2023-11-22 04:42:32', 'end_time': '2023-11-22 17:53:47', 'duration_seconds': 47474.572291, 'pop_size': 5, 'period_in_days': 1068, 'days_to_recovery': 8, 'cumulative_days_in_first_outbreak_to_max_bound_I0': 0, 'date_first_case': Timestamp('2020-01-29 00:00:00'), 'list_breakpoints_in_slow_transition': [3, 5, 9, 12], 'x_initial_infected_population': 0.0029743821933900755, 'x_days_between_infections_0': 2.2371768497484372, 'x_case_fatality_probability_0': 0.0029038082154083577, 'x_loss_immunity_in_days_0': 137.83910816626883, 'x_case_fatality_probability_1': 0.0009782609503980865, 'x_loss_immunity_in_days_1': 172.9556632370642, 'x_case_fatality_probability_2': 0.0014471456422442057, 'x_loss_immunity_in_days_2': 200.23268401574256, 'x_case_fatality_probability_3': 0.0009292506929739372, 'x_loss_immunity_in_days_3': 134.27519010204128, 'x_case_fatality_probability_4': 0.0002695965434789245, 'x_loss_immunity_in_days_4': 131.76903456082587, 'x_days_between_infections_1': 10.75978218922689, 'x_breakpoint_1': 47.93822256657788, 'x_transition_days_between_epidemic_periods_1': 25.19165437800531, 'x_days_between_infections_2': 4.672586516013152, 'x_breakpoint_2': 158.60942691918143, 'x_transition_days_between_epidemic_periods_2': 1.000468313116322, 'x_days_between_infections_3': 5.629443998957847, 'x_breakpoint_3': 176.36212461261027, 'x_transition_days_between_epidemic_periods_3': 18.467019892500673, 'x_days_between_infections_4': 3.888115369104526, 'x_breakpoint_4': 331.42582629662775, 'x_transition_days_between_epidemic_periods_4': 3.131320316462144, 'x_days_between_infections_5': 5.25389199783048, 'x_breakpoint_5': 412.38131600500924, 'x_transition_days_between_epidemic_periods_5': 53.473017681333346, 'x_days_between_infections_6': 2.8225152806075626, 'x_breakpoint_6': 513.7394076249905, 'x_transition_days_between_epidemic_periods_6': 3.1078785897260346, 'x_days_between_infections_7': 7.23024746974759, 'x_breakpoint_7': 543.4047910809545, 'x_transition_days_between_epidemic_periods_7': 39.95454178630193, 'x_days_between_infections_8': 3.4445264949742422, 'x_breakpoint_8': 656.8912030782983, 'x_transition_days_between_epidemic_periods_8': 20.34178375145681, 'x_days_between_infections_9': 7.171473676043371, 'x_breakpoint_9': 699.9494123390316, 'x_transition_days_between_epidemic_periods_9': 52.5533649006802, 'x_days_between_infections_10': 6.677250017824709, 'x_breakpoint_10': 783.6440648471453, 'x_transition_days_between_epidemic_periods_10': 12.685621919978228, 'x_days_between_infections_11': 4.277592558225013, 'x_breakpoint_11': 813.9666180934538, 'x_transition_days_between_epidemic_periods_11': 54.102614026490414, 'x_days_between_infections_12': 5.37794979973236, 'x_breakpoint_12': 864.1194458037195, 'x_transition_days_between_epidemic_periods_12': 50.11396121456626, 'x_days_between_infections_13': 5.414908989822431, 'x_breakpoint_13': 965.1960464872207, 'x_transition_days_between_epidemic_periods_13': 1.1267870831704059, 'x_days_between_infections_14': 4.951489226921165, 'x_breakpoint_14': 1010.4452628896927, 'x_transition_days_between_epidemic_periods_14': 24.69642909864102}\n",
      "country: United Kingdom\n",
      "estimation: 2\n",
      "[(0.0014802853812419738, 0.0014822853812419736), (1.7078268812841861, 2.9723033038735736), (0.0008495582981530875, 0.013300999999999999), (0.0014248387533001134, 0.013300999999999999), (0.0002725214617683035, 0.0032363158645566654), (0.000506092656804511, 0.002580694199344447), (0.00013576496312809819, 0.013300999999999999), (89.999999, 365.000001), (89.999999, 365.000001), (89.999999, 365.000001), (89.999999, 365.000001), (89.999999, 365.000001), (1.7078268812841861, 10.574045997561049), (1.6738519559784781, 5.579510853261595), (1.6738519559784781, 8.12002505899817), (1.9244442773351058, 6.41481859111702), (1.7646176457870097, 5.882063152623366), (1.7646176457870097, 8.655590253206244), (2.1332344534411587, 7.110785844803863), (1.9622339456507754, 6.540784152169251), (2.0600991079267277, 6.540785152169251), (1.8406668368632015, 6.135560456210672), (1.8491972564005288, 6.135561456210672), (2.004800813297638, 6.135562456210672), (2.004800813297638, 6.612163338626458), (-1e-06, 45.000001), (183.999999, 201.000001), (200.999999, 269.000001), (279.999999, 308.000001), (452.999999, 494.000001), (493.999999, 562.000001), (585.999999, 598.000001), (656.999999, 673.000001), (731.999999, 749.000001), (828.999999, 850.000001), (926.999999, 944.000001), (999.999999, 1011.000001), (1010.999999, 1012.000001), (-1e-06, 56.000001), (-1e-06, 56.000001), (-1e-06, 56.000001), (-1e-06, 56.000001), (-1e-06, 56.000001), (-1e-06, 56.000001), (-1e-06, 56.000001), (-1e-06, 56.000001), (-1e-06, 56.000001), (-1e-06, 56.000001), (-1e-06, 56.000001), (-1e-06, 56.000001), (-1e-06, 56.000001)]\n",
      "2023-11-22 17:53:47.255756\n",
      "14761.023424\n",
      "{'location': 'United Kingdom', 'estimation': 2, 'result_fun': 0.22382981626163048, 'result_nfev': 206947, 'result_nit': 792, 'result_success': True, 'start_time': '2023-11-22 17:53:47', 'end_time': '2023-11-22 21:59:48', 'duration_seconds': 14761.023424, 'pop_size': 5, 'period_in_days': 1055, 'days_to_recovery': 8, 'cumulative_days_in_first_outbreak_to_max_bound_I0': None, 'date_first_case': Timestamp('2020-02-11 00:00:00'), 'list_breakpoints_in_slow_transition': [1, 4, 7, 10], 'x_initial_infected_population': 0.0014810396954504916, 'x_days_between_infections_0': 2.0207514409268112, 'x_case_fatality_probability_0': 0.01103991653149403, 'x_loss_immunity_in_days_0': 190.87978935252212, 'x_case_fatality_probability_1': 0.0030372313779926468, 'x_loss_immunity_in_days_1': 262.8499126812047, 'x_case_fatality_probability_2': 0.0005392895805070136, 'x_loss_immunity_in_days_2': 271.864122191174, 'x_case_fatality_probability_3': 0.0005825419191602835, 'x_loss_immunity_in_days_3': 90.29576831939005, 'x_case_fatality_probability_4': 0.00034348925555531816, 'x_loss_immunity_in_days_4': 354.54805993104037, 'x_days_between_infections_1': 9.953750384566149, 'x_breakpoint_1': 39.731966511587544, 'x_transition_days_between_epidemic_periods_1': 28.449699726009772, 'x_days_between_infections_2': 3.9417855315525543, 'x_breakpoint_2': 198.87364715620154, 'x_transition_days_between_epidemic_periods_2': 8.918369381951745, 'x_days_between_infections_3': 7.550333923733418, 'x_breakpoint_3': 238.08781517231847, 'x_transition_days_between_epidemic_periods_3': 49.57611948927287, 'x_days_between_infections_4': 3.859842293190184, 'x_breakpoint_4': 307.8186898934893, 'x_transition_days_between_epidemic_periods_4': 22.44853722203382, 'x_days_between_infections_5': 3.077586844914807, 'x_breakpoint_5': 464.31435041165304, 'x_transition_days_between_epidemic_periods_5': 16.494674618002716, 'x_days_between_infections_6': 4.0180211019984515, 'x_breakpoint_6': 529.5560575997454, 'x_transition_days_between_epidemic_periods_6': 32.22673915593296, 'x_days_between_infections_7': 4.3333344430143566, 'x_breakpoint_7': 597.032328179709, 'x_transition_days_between_epidemic_periods_7': 48.15550944093464, 'x_days_between_infections_8': 4.674369765912388, 'x_breakpoint_8': 668.5929389939756, 'x_transition_days_between_epidemic_periods_8': 40.57279696205708, 'x_days_between_infections_9': 4.3538316689402405, 'x_breakpoint_9': 732.2219819872904, 'x_transition_days_between_epidemic_periods_9': 2.140220113689246, 'x_days_between_infections_10': 3.6557831999998416, 'x_breakpoint_10': 840.9991926591201, 'x_transition_days_between_epidemic_periods_10': 19.184036948703504, 'x_days_between_infections_11': 2.8173981521161098, 'x_breakpoint_11': 933.9703025562071, 'x_transition_days_between_epidemic_periods_11': 6.0831148575986305, 'x_days_between_infections_12': 2.6905141243423754, 'x_breakpoint_12': 1000.2320169848103, 'x_transition_days_between_epidemic_periods_12': 12.834344515836149, 'x_days_between_infections_13': 2.085103767645566, 'x_breakpoint_13': 1011.2301590828584, 'x_transition_days_between_epidemic_periods_13': 14.99641527272115}\n",
      "country: United States\n",
      "country: Spain\n",
      "estimation: 3\n",
      "[(0.00210166771340269, 0.00841167085361), (1.6355992879729033, 3.252300636068391), (0.0010242607770551515, 0.013300999999999999), (0.0006999543203729781, 0.013300999999999999), (0.0004402027663032863, 0.0027981917970014334), (0.0002764379933504275, 0.0059894781995844725), (9.900000000000001e-05, 0.00876769094209881), (89.999999, 365.000001), (89.999999, 365.000001), (89.999999, 365.000001), (89.999999, 365.000001), (89.999999, 365.000001), (1.6355992879729033, 12.688684094342818), (1.4674895319272225, 4.891636106424075), (1.4674895319272225, 9.451762606266207), (1.7873330994723413, 5.957781331574472), (2.3271842916149037, 5.957782331574472), (1.4459666972215681, 4.819893324071893), (1.4459666972215681, 10.2356884733353), (1.873174583693057, 6.24391961231019), (1.873174583693057, 10.782484005561583), (2.182935029032516, 7.276454430108387), (2.182935029032516, 8.622761572524837), (1.951420733801477, 6.504740112671591), (2.1208473395003744, 6.504741112671591), (2.2196461546055652, 6.504742112671591), (14.999999, 48.000001), (148.999999, 162.000001), (161.999999, 271.000001), (311.999999, 332.000001), (408.999999, 416.000001), (502.999999, 517.000001), (516.999999, 545.000001), (621.999999, 657.000001), (656.999999, 713.000001), (774.999999, 788.000001), (787.999999, 820.000001), (843.999999, 868.000001), (955.999999, 966.000001), (999.999999, 1014.000001), (-1e-06, 56.000001), (-1e-06, 56.000001), (-1e-06, 56.000001), (-1e-06, 56.000001), (-1e-06, 56.000001), (-1e-06, 56.000001), (-1e-06, 56.000001), (-1e-06, 56.000001), (-1e-06, 56.000001), (-1e-06, 56.000001), (-1e-06, 56.000001), (-1e-06, 56.000001), (-1e-06, 56.000001), (-1e-06, 56.000001)]\n",
      "2023-11-22 21:59:48.326082\n"
     ]
    },
    {
     "name": "stderr",
     "output_type": "stream",
     "text": [
      "/tmp/ipykernel_30108/3012450128.py:96: FutureWarning: The behavior of DataFrame concatenation with empty or all-NA entries is deprecated. In a future version, this will no longer exclude empty or all-NA columns when determining the result dtypes. To retain the old behavior, exclude the relevant entries before the concat operation.\n",
      "  df_results = pd.concat([df_results, pd.DataFrame.from_records([estimation_result])])\n"
     ]
    },
    {
     "name": "stdout",
     "output_type": "stream",
     "text": [
      "23735.090355\n",
      "{'location': 'Spain', 'estimation': 3, 'result_fun': 0.31038229691230657, 'result_nfev': 320095, 'result_nit': 1166, 'result_success': True, 'start_time': '2023-11-22 21:59:48', 'end_time': '2023-11-23 04:35:23', 'duration_seconds': 23735.090355, 'pop_size': 5, 'period_in_days': 1068, 'days_to_recovery': 8, 'cumulative_days_in_first_outbreak_to_max_bound_I0': 0, 'date_first_case': Timestamp('2020-01-29 00:00:00'), 'list_breakpoints_in_slow_transition': [3, 5, 9, 12], 'x_initial_infected_population': 0.00216750532875331, 'x_days_between_infections_0': 2.1701548168378553, 'x_case_fatality_probability_0': 0.002156544041149889, 'x_loss_immunity_in_days_0': 289.1567831161725, 'x_case_fatality_probability_1': 0.0013784566628309172, 'x_loss_immunity_in_days_1': 234.0915957487661, 'x_case_fatality_probability_2': 0.0011603082112216442, 'x_loss_immunity_in_days_2': 179.87222503459634, 'x_case_fatality_probability_3': 0.00062482336359406, 'x_loss_immunity_in_days_3': 125.69606850439149, 'x_case_fatality_probability_4': 0.00025979827542010756, 'x_loss_immunity_in_days_4': 319.3537235106128, 'x_days_between_infections_1': 10.371463291523481, 'x_breakpoint_1': 47.870252333366196, 'x_transition_days_between_epidemic_periods_1': 25.550866147550444, 'x_days_between_infections_2': 4.837656547415529, 'x_breakpoint_2': 157.98790397022236, 'x_transition_days_between_epidemic_periods_2': 4.634991052626738, 'x_days_between_infections_3': 5.432322491566505, 'x_breakpoint_3': 257.8749465251015, 'x_transition_days_between_epidemic_periods_3': 48.696921601521765, 'x_days_between_infections_4': 3.7778058433826303, 'x_breakpoint_4': 331.44963387497575, 'x_transition_days_between_epidemic_periods_4': 3.4672043577966143, 'x_days_between_infections_5': 5.065698574735501, 'x_breakpoint_5': 412.656742910136, 'x_transition_days_between_epidemic_periods_5': 51.6920387112048, 'x_days_between_infections_6': 2.8241811824127585, 'x_breakpoint_6': 513.8326756890077, 'x_transition_days_between_epidemic_periods_6': 3.0447272111751538, 'x_days_between_infections_7': 7.2125583461694704, 'x_breakpoint_7': 543.4566234422034, 'x_transition_days_between_epidemic_periods_7': 39.1735541318063, 'x_days_between_infections_8': 3.5315721498048513, 'x_breakpoint_8': 656.80362269108, 'x_transition_days_between_epidemic_periods_8': 27.30119381221417, 'x_days_between_infections_9': 6.029210200036003, 'x_breakpoint_9': 699.4801282242545, 'x_transition_days_between_epidemic_periods_9': 50.243924094882566, 'x_days_between_infections_10': 4.670921244391981, 'x_breakpoint_10': 782.5871755278484, 'x_transition_days_between_epidemic_periods_10': 7.7958213749625855, 'x_days_between_infections_11': 5.032611156492493, 'x_breakpoint_11': 808.9803775691913, 'x_transition_days_between_epidemic_periods_11': 22.66711398209571, 'x_days_between_infections_12': 3.7414343085449744, 'x_breakpoint_12': 858.3001355417857, 'x_transition_days_between_epidemic_periods_12': 17.406475938497564, 'x_days_between_infections_13': 3.33425572047533, 'x_breakpoint_13': 963.4647108307006, 'x_transition_days_between_epidemic_periods_13': 22.424606067448188, 'x_days_between_infections_14': 2.6670488289362444, 'x_breakpoint_14': 1008.3656322082502, 'x_transition_days_between_epidemic_periods_14': 51.604185480347695}\n",
      "country: United Kingdom\n",
      "estimation: 3\n",
      "[(0.0014802853812419738, 0.0014822853812419736), (1.7078268812841861, 2.9723033038735736), (0.0008495582981530875, 0.013300999999999999), (0.0014248387533001134, 0.013300999999999999), (0.0002725214617683035, 0.0032363158645566654), (0.000506092656804511, 0.002580694199344447), (0.00013576496312809819, 0.013300999999999999), (89.999999, 365.000001), (89.999999, 365.000001), (89.999999, 365.000001), (89.999999, 365.000001), (89.999999, 365.000001), (1.7078268812841861, 10.574045997561049), (1.6738519559784781, 5.579510853261595), (1.6738519559784781, 8.12002505899817), (1.9244442773351058, 6.41481859111702), (1.7646176457870097, 5.882063152623366), (1.7646176457870097, 8.655590253206244), (2.1332344534411587, 7.110785844803863), (1.9622339456507754, 6.540784152169251), (2.0600991079267277, 6.540785152169251), (1.8406668368632015, 6.135560456210672), (1.8491972564005288, 6.135561456210672), (2.004800813297638, 6.135562456210672), (2.004800813297638, 6.612163338626458), (-1e-06, 45.000001), (183.999999, 201.000001), (200.999999, 269.000001), (279.999999, 308.000001), (452.999999, 494.000001), (493.999999, 562.000001), (585.999999, 598.000001), (656.999999, 673.000001), (731.999999, 749.000001), (828.999999, 850.000001), (926.999999, 944.000001), (999.999999, 1011.000001), (1010.999999, 1012.000001), (-1e-06, 56.000001), (-1e-06, 56.000001), (-1e-06, 56.000001), (-1e-06, 56.000001), (-1e-06, 56.000001), (-1e-06, 56.000001), (-1e-06, 56.000001), (-1e-06, 56.000001), (-1e-06, 56.000001), (-1e-06, 56.000001), (-1e-06, 56.000001), (-1e-06, 56.000001), (-1e-06, 56.000001)]\n",
      "2023-11-23 04:35:23.458848\n"
     ]
    }
   ],
   "source": [
    "try:\n",
    "    df_initial_results = pd.read_csv('data/output/execution_other_countries_results.csv')\n",
    "except:\n",
    "    df_initial_results = pd.DataFrame({'location':[]})\n",
    "\n",
    "df_results = df_initial_results.copy()\n",
    "\n",
    "DAYS_TO_RECOVERY = 8\n",
    "\n",
    "DIFFERENTIAL_EVOLUTION_POP_SIZE_FACTOR = 5\n",
    "NUMBER_ESTIMATON_PER_COUNTRY = 20\n",
    "\n",
    "for estimation in range(NUMBER_ESTIMATON_PER_COUNTRY):        \n",
    "    for country in df.location.unique():\n",
    "        print('country: '+country)\n",
    "        \n",
    "        max_date_to_fit = dict_max_date_to_fit[country]\n",
    "        df_country = df[(df.location == country) & (df.date <= max_date_to_fit)].reset_index(drop=True)\n",
    "        \n",
    "        # Dates about begin time series and first case        \n",
    "        if country == 'United Kingdom':            \n",
    "            date_first_case = df_country[(df_country.ONSET_NUMERO_REPRODUCAO_EFETIVO_MEDIA == 0) & (df_country.NUMERO_REPRODUCAO_EFETIVO_ATRASADO_MEDIA == df_country.NUMERO_REPRODUCAO_EFETIVO_ATRASADO_MEDIA.max())].iloc[0].date\n",
    "        else:\n",
    "            date_first_case = df_country[(df_country.estimated_onset_by_deaths > 0)].iloc[0].date\n",
    "        \n",
    "        cumulative_days_in_first_outbreak_to_max_bound_I0 = dict_cumulative_days_in_first_outbreak_to_max_bound_I0[country]\n",
    "\n",
    "        # Period of analysis\n",
    "        period_in_days = (max_date_to_fit - date_first_case).days + 1\n",
    "                           \n",
    "        estimations_performed = len(df_results[(df_results.location == country)])\n",
    "    \n",
    "        if (estimation == estimations_performed):\n",
    "            print('estimation: '+str(estimation))\n",
    "            \n",
    "            rt_column = 'NUMERO_REPRODUCAO_EFETIVO_ATRASADO_MEDIA'\n",
    "            # rt_column = 'reproduction_rate'\n",
    "            \n",
    "            bounds, args = get_bounds_and_arguments(df_country, 'date', 'rate_new_deaths_moving_average', rt_column, 'rate_new_cases_moving_average', 'ONSET_NUMERO_REPRODUCAO_EFETIVO_MEDIA', DAYS_TO_RECOVERY, date_first_case, max_date_to_fit, df_country.population.iloc[0], period_in_days, cumulative_days_in_first_outbreak_to_max_bound_I0)\n",
    "            \n",
    "            print(bounds)\n",
    "            \n",
    "            # Record the start time\n",
    "            start_time = datetime.now()\n",
    "            print(start_time)\n",
    "\n",
    "            result = differential_evolution(sirds_objective_function, bounds, args=args, popsize=DIFFERENTIAL_EVOLUTION_POP_SIZE_FACTOR, maxiter=10000, workers=4, updating='deferred')\n",
    "    \n",
    "            # Record the end time\n",
    "            end_time = datetime.now()\n",
    "    \n",
    "            # Calculate the duration (in seconds) for the optimization\n",
    "            duration = (end_time - start_time).total_seconds()\n",
    "            print(duration)\n",
    "            \n",
    "            list_breakpoints_in_slow_transition = args[4]\n",
    "            quantity_outbreaks = args[5]\n",
    "            quantity_outbreak_adjustments = args[6]\n",
    "    \n",
    "            # Create a dictionary to store results\n",
    "            estimation_result = {\n",
    "                'location': country,\n",
    "                'estimation': estimation,  # To differentiate between multiple estimations\n",
    "                'result_fun': result.fun,\n",
    "                'result_nfev': result.nfev,\n",
    "                'result_nit': result.nit,\n",
    "                'result_success': result.success,\n",
    "                'start_time': start_time.strftime('%Y-%m-%d %H:%M:%S'),  # Format start time as a string\n",
    "                'end_time': end_time.strftime('%Y-%m-%d %H:%M:%S'),  # Format end time as a string\n",
    "                'duration_seconds': duration,  # Duration in seconds\n",
    "                'pop_size': DIFFERENTIAL_EVOLUTION_POP_SIZE_FACTOR,\n",
    "                'period_in_days': period_in_days,\n",
    "                'days_to_recovery': DAYS_TO_RECOVERY,\n",
    "                'cumulative_days_in_first_outbreak_to_max_bound_I0': cumulative_days_in_first_outbreak_to_max_bound_I0,\n",
    "                'date_first_case': date_first_case,\n",
    "                'list_breakpoints_in_slow_transition': list_breakpoints_in_slow_transition,\n",
    "                'x_initial_infected_population': result.x[0],\n",
    "                'x_days_between_infections_0': result.x[1]\n",
    "            }\n",
    "            \n",
    "            quantity_epidemic_periods_with_slow_transition = len(list_breakpoints_in_slow_transition) + 1\n",
    "            \n",
    "            for p in range(quantity_epidemic_periods_with_slow_transition):\n",
    "                estimation_result['x_case_fatality_probability_'+str(p)] = result.x[2 + p]\n",
    "                estimation_result['x_loss_immunity_in_days_'+str(p)] = result.x[2 + quantity_epidemic_periods_with_slow_transition + p]                                                 \n",
    "            quantity_breakpoints = (quantity_outbreaks - 1) + (quantity_outbreak_adjustments)\n",
    "            begin_breakpoint_parameters = 2 + 2*quantity_epidemic_periods_with_slow_transition\n",
    "            for b in range(quantity_breakpoints):\n",
    "                estimation_result['x_days_between_infections_'+str(b+1)] = result.x[begin_breakpoint_parameters + b]\n",
    "                estimation_result['x_breakpoint_'+str(b+1)] = result.x[begin_breakpoint_parameters + quantity_breakpoints + b]\n",
    "                estimation_result['x_transition_days_between_epidemic_periods_'+str(b+1)] = result.x[begin_breakpoint_parameters + 2*quantity_breakpoints + b]\n",
    "    \n",
    "            print(estimation_result)\n",
    "    \n",
    "            # Append the estimation result to the list            \n",
    "            df_results = pd.concat([df_results, pd.DataFrame.from_records([estimation_result])])\n",
    "    \n",
    "            df_results.to_csv('data/output/execution_other_countries_results.csv', index=False)           "
   ],
   "metadata": {
    "collapsed": false,
    "is_executing": true,
    "ExecuteTime": {
     "start_time": "2023-11-22T02:12:55.557342957Z"
    }
   }
  },
  {
   "cell_type": "code",
   "execution_count": null,
   "outputs": [],
   "source": [
    "bounds[0]"
   ],
   "metadata": {
    "collapsed": false,
    "is_executing": true
   }
  },
  {
   "cell_type": "code",
   "execution_count": null,
   "outputs": [],
   "source": [
    "df_country[['date','rate_new_deaths_moving_average', 'rate_new_cases_moving_average', 'estimated_onset_by_deaths', 'NUMERO_REPRODUCAO_EFETIVO_ATRASADO_MEDIA']]"
   ],
   "metadata": {
    "collapsed": false,
    "is_executing": true
   }
  },
  {
   "cell_type": "code",
   "execution_count": null,
   "outputs": [],
   "source": [
    "min(df_country[(df_country.rate_new_cases_moving_average > 0)].iloc[0].date, df_country[(df_country.estimated_onset_by_deaths > 0)].iloc[0].date)"
   ],
   "metadata": {
    "collapsed": false,
    "is_executing": true
   }
  },
  {
   "cell_type": "code",
   "execution_count": null,
   "outputs": [],
   "source": [
    "df_country[(df_country.rate_new_cases_moving_average > 0)].iloc[0].date"
   ],
   "metadata": {
    "collapsed": false,
    "is_executing": true
   }
  },
  {
   "cell_type": "code",
   "execution_count": null,
   "outputs": [],
   "source": [
    "df_country[(df_country.estimated_onset_by_deaths > 0)].iloc[0].date"
   ],
   "metadata": {
    "collapsed": false,
    "is_executing": true
   }
  },
  {
   "cell_type": "code",
   "execution_count": null,
   "outputs": [],
   "source": [
    "outbreaks = df.groupby('ONSET_NUMERO_REPRODUCAO_EFETIVO_MEDIA').agg({'date': ['min', 'max']})\n",
    "outbreaks"
   ],
   "metadata": {
    "collapsed": false,
    "is_executing": true
   }
  },
  {
   "cell_type": "code",
   "execution_count": null,
   "outputs": [],
   "source": [
    "outbreaks.iloc[0][('date','min')]"
   ],
   "metadata": {
    "collapsed": false,
    "is_executing": true
   }
  },
  {
   "cell_type": "code",
   "execution_count": null,
   "outputs": [],
   "source": [
    "rt_in_outbreak = df_country[\n",
    "    (df_country['date'] >= outbreaks.iloc[0][('date','min')]) &\n",
    "    (df_country['date'] <= outbreaks.iloc[0][('date','max')])][rt_column].values\n",
    "rt_in_outbreak"
   ],
   "metadata": {
    "collapsed": false,
    "is_executing": true
   }
  },
  {
   "cell_type": "code",
   "execution_count": null,
   "outputs": [],
   "source": [
    "df_results"
   ],
   "metadata": {
    "collapsed": false,
    "is_executing": true
   }
  }
 ],
 "metadata": {
  "kernelspec": {
   "display_name": "Python 3",
   "language": "python",
   "name": "python3"
  },
  "language_info": {
   "codemirror_mode": {
    "name": "ipython",
    "version": 2
   },
   "file_extension": ".py",
   "mimetype": "text/x-python",
   "name": "python",
   "nbconvert_exporter": "python",
   "pygments_lexer": "ipython2",
   "version": "2.7.6"
  }
 },
 "nbformat": 4,
 "nbformat_minor": 0
}
