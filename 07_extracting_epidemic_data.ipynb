{
 "cells": [
  {
   "cell_type": "markdown",
   "source": [
    "# Produce national and municipal measures as Rt and CFR "
   ],
   "metadata": {
    "collapsed": false
   }
  },
  {
   "cell_type": "code",
   "execution_count": 1,
   "outputs": [],
   "source": [
    "from math import exp\n",
    "\n",
    "import epyestim\n",
    "import numpy as np\n",
    "import pandas as pd\n",
    "import matplotlib.pyplot as plt\n",
    "from epyestim import covid19\n",
    "from scipy.stats import gamma, lognorm"
   ],
   "metadata": {
    "collapsed": false,
    "ExecuteTime": {
     "end_time": "2023-10-31T18:36:56.482553169Z",
     "start_time": "2023-10-31T18:36:56.482213096Z"
    }
   }
  },
  {
   "cell_type": "markdown",
   "source": [
    "## Loading data"
   ],
   "metadata": {
    "collapsed": false
   }
  },
  {
   "cell_type": "code",
   "execution_count": 9,
   "outputs": [],
   "source": [
    "df_monitoring_panel_national = pd.read_csv('data/output/df_ts_monitoring_panel_treated_national.csv')\n",
    "df_sim_national = pd.read_csv('data/output/df_sim_national.csv')"
   ],
   "metadata": {
    "collapsed": false,
    "ExecuteTime": {
     "end_time": "2023-10-31T18:37:17.296147693Z",
     "start_time": "2023-10-31T18:37:17.108706405Z"
    }
   }
  },
  {
   "cell_type": "code",
   "execution_count": 10,
   "outputs": [],
   "source": [
    "df_monitoring_panel_national.data = pd.to_datetime(df_monitoring_panel_national.data, infer_datetime_format=True)\n",
    "df_sim_national.DATA = pd.to_datetime(df_sim_national.DATA, infer_datetime_format=True)"
   ],
   "metadata": {
    "collapsed": false,
    "ExecuteTime": {
     "end_time": "2023-10-31T18:37:17.296357042Z",
     "start_time": "2023-10-31T18:37:17.123510978Z"
    }
   }
  },
  {
   "cell_type": "code",
   "execution_count": 11,
   "outputs": [],
   "source": [
    "df_monitoring_panel_national = df_monitoring_panel_national.rename(columns={'data': 'DATA'})"
   ],
   "metadata": {
    "collapsed": false,
    "ExecuteTime": {
     "end_time": "2023-10-31T18:37:17.296496551Z",
     "start_time": "2023-10-31T18:37:17.152438069Z"
    }
   }
  },
  {
   "cell_type": "code",
   "execution_count": 12,
   "outputs": [],
   "source": [
    "df_monitoring_panel_national = df_monitoring_panel_national.rename(columns={'obitosNovos':'OBITOS_NOVOS_PAINEL', 'obitosAcumulado': 'OBITOS_ACUMULADO_PAINEL', 'casosNovos':'CASOS_NOVOS_PAINEL', 'casosAcumulado': 'CASOS_ACUMULADO_PAINEL', 'CASOS_NOVOS_MEDIA_MOVEL_7_DIAS': 'CASOS_NOVOS_MEDIA_MOVEL_7_DIAS_PAINEL', 'OBITOS_NOVOS_MEDIA_MOVEL_7_DIAS': 'OBITOS_NOVOS_MEDIA_MOVEL_7_DIAS_PAINEL'})"
   ],
   "metadata": {
    "collapsed": false,
    "ExecuteTime": {
     "end_time": "2023-10-31T18:37:17.296650906Z",
     "start_time": "2023-10-31T18:37:17.183928577Z"
    }
   }
  },
  {
   "cell_type": "code",
   "execution_count": 13,
   "outputs": [],
   "source": [
    "df_sim_national = df_sim_national.rename(columns={'OBITOS_NOVOS':'OBITOS_NOVOS_SIM', 'OBITOS': 'OBITOS_ACUMULADO_SIM', 'OBITOS_NOVOS_MEDIA_MOVEL_7_DIAS':'OBITOS_NOVOS_MEDIA_MOVEL_7_DIAS_SIM', 'TAXA_OBITOS_NOVOS': 'TAXA_OBITOS_NOVOS_SIM', 'TAXA_OBITOS_NOVOS_MEDIA_MOVEL_7_DIAS': 'TAXA_OBITOS_NOVOS_MEDIA_MOVEL_7_DIAS_SIM', 'TAXA_OBITOS': 'TAXA_OBITOS_SIM'}) "
   ],
   "metadata": {
    "collapsed": false,
    "ExecuteTime": {
     "end_time": "2023-10-31T18:37:17.296790319Z",
     "start_time": "2023-10-31T18:37:17.209155787Z"
    }
   }
  },
  {
   "cell_type": "code",
   "execution_count": 14,
   "outputs": [],
   "source": [
    "df_sim_national = df_sim_national.drop(columns=['day_of_week'])"
   ],
   "metadata": {
    "collapsed": false,
    "ExecuteTime": {
     "end_time": "2023-10-31T18:37:17.300428229Z",
     "start_time": "2023-10-31T18:37:17.250252092Z"
    }
   }
  },
  {
   "cell_type": "code",
   "execution_count": 15,
   "outputs": [],
   "source": [
    "df_national = df_monitoring_panel_national.merge(df_sim_national, how='outer', on='DATA')"
   ],
   "metadata": {
    "collapsed": false,
    "ExecuteTime": {
     "end_time": "2023-10-31T18:37:17.300640255Z",
     "start_time": "2023-10-31T18:37:17.294232997Z"
    }
   }
  },
  {
   "cell_type": "code",
   "execution_count": 16,
   "outputs": [],
   "source": [
    "df_national = df_national.fillna(0)"
   ],
   "metadata": {
    "collapsed": false,
    "ExecuteTime": {
     "end_time": "2023-10-31T18:37:17.428607151Z",
     "start_time": "2023-10-31T18:37:17.294385494Z"
    }
   }
  },
  {
   "cell_type": "code",
   "execution_count": 17,
   "outputs": [],
   "source": [
    "df_srag_national = pd.read_csv('data/output/df_ts_srag_national.csv')"
   ],
   "metadata": {
    "collapsed": false,
    "ExecuteTime": {
     "end_time": "2023-10-31T18:37:17.428888018Z",
     "start_time": "2023-10-31T18:37:17.338276984Z"
    }
   }
  },
  {
   "cell_type": "code",
   "execution_count": 18,
   "outputs": [],
   "source": [
    "df_srag_national.DATA = pd.to_datetime(df_srag_national.DATA, infer_datetime_format=True)\n",
    "df_srag_national = df_srag_national.rename(columns={'NOVOS_CASOS': 'NOVOS_CASOS_SRAG', 'NOVOS_OBITOS':'NOVOS_OBITOS_SRAG'})"
   ],
   "metadata": {
    "collapsed": false,
    "ExecuteTime": {
     "end_time": "2023-10-31T18:37:17.444769232Z",
     "start_time": "2023-10-31T18:37:17.356460797Z"
    }
   }
  },
  {
   "cell_type": "code",
   "execution_count": 19,
   "outputs": [],
   "source": [
    "df_national = df_national.merge(df_srag_national, on='DATA', how='outer')"
   ],
   "metadata": {
    "collapsed": false,
    "ExecuteTime": {
     "end_time": "2023-10-31T18:37:17.482006481Z",
     "start_time": "2023-10-31T18:37:17.398358530Z"
    }
   }
  },
  {
   "cell_type": "code",
   "execution_count": 20,
   "outputs": [],
   "source": [
    "df_national = df_national.fillna(0)"
   ],
   "metadata": {
    "collapsed": false,
    "ExecuteTime": {
     "end_time": "2023-10-31T18:37:17.482378647Z",
     "start_time": "2023-10-31T18:37:17.446288811Z"
    }
   }
  },
  {
   "cell_type": "code",
   "execution_count": 21,
   "outputs": [],
   "source": [
    "df_national = df_national.sort_values('DATA')"
   ],
   "metadata": {
    "collapsed": false,
    "ExecuteTime": {
     "end_time": "2023-10-31T18:37:17.531213379Z",
     "start_time": "2023-10-31T18:37:17.446464293Z"
    }
   }
  },
  {
   "cell_type": "markdown",
   "source": [
    "## Estimating effective reproduction number for national time series\n"
   ],
   "metadata": {
    "collapsed": false
   }
  },
  {
   "cell_type": "code",
   "execution_count": 22,
   "outputs": [],
   "source": [
    "#Bi, Qifang, et al. \"Epidemiology and transmission of COVID-19 in 391 cases and 1286 of their close contacts in Shenzhen, China: a retrospective cohort study.\" The Lancet infectious diseases 20.8 (2020): 911-919.\n",
    "# Gamma distribution with serial interval mean equal to 6.36 days, gamma(a=2.29, b=0.36)\n",
    "standard_serial_inteval_distribution = epyestim.discrete_distrb(gamma(a=2.29, scale=1/0.36))\n",
    "\n",
    "#Bi, Qifang, et al. \"Epidemiology and transmission of COVID-19 in 391 cases and 1286 of their close contacts in Shenzhen, China: a retrospective cohort study.\" The Lancet infectious diseases 20.8 (2020): 911-919.\n",
    "# Lognormal distribution with incabation mean equal to 5.93 days, Lognormal(mu=1.57, sigma²=0.42)\n",
    "incubation_time_distribution = epyestim.discrete_distrb(lognorm(scale=exp(1.57), s=0.65))\n",
    "\n",
    "# Chagas, Eduarda TC, et al. \"Effects of population mobility on the COVID-19 spread in Brazil.\" PloS one 16.12 (2021): e0260610.\n",
    "# Exponential distribution with delay mean equal to 10.85 days, gamma(a=12.26, b=1.13)\n",
    "# Tip to calulate parameters: https://www.quora.com/How-can-I-calculate-a-gamma-distribution-using-mean-and-SD\n",
    "# delay_onset_to_notification_distribution = epyestim.discrete_distrb(gamma(a=12.26, scale=1/1.13))\n",
    "\n",
    "#Barros, Gabriela Pereira, et al. \"Estimation of Reproduction Number for Covid-19 with Statistical Correction of Notifications Delay.\" IEEE Latin America Transactions 20.7 (2022): 1085-1091.\n",
    "#Gamma distribution for BH city with mean equal 6.56 days SD 5.34, gamma(a=1.51, b=0.23)\n",
    "delay_onset_to_notification_distribution = epyestim.discrete_distrb(gamma(a=1.51, scale=1/0.23))\n",
    "\n",
    "# Distribution resultant of convolution incubation_time_distribution and delay_onset_to_notification_distribution.\n",
    "# Represent delay of infection to notification with delay mean equal to 12.5 days.\n",
    "delay_infecton_to_notification_distribution = np.convolve(incubation_time_distribution, delay_onset_to_notification_distribution)\n",
    "\n",
    "# Verity, Robert, et al. \"Estimates of the severity of coronavirus disease 2019: a model-based analysis.\" The Lancet infectious diseases 20.6 (2020): 669-677.\n",
    "# Gamma distribution with delay mean equal to 18.8 days\n",
    "mean_days_delay_onset_to_death = 18.8  # mean days onset to death.\n",
    "s_death = 0.45\n",
    "shape_death = 1/(s_death**2)\n",
    "scale_death= mean_days_delay_onset_to_death * s_death ** 2\n",
    "delay_onset_to_death_distribution = epyestim.discrete_distrb(gamma(a=shape_death, scale=scale_death))\n",
    "\n",
    "# Distribution resultant of convolution incubation_time_distribution and delay_onset_to_notification_distribution.\n",
    "# Represent delay of infection to notification with delay mean equal to 24.02 days.\n",
    "delay_infecton_to_death_distribution = np.convolve(incubation_time_distribution, delay_onset_to_death_distribution)"
   ],
   "metadata": {
    "collapsed": false,
    "ExecuteTime": {
     "end_time": "2023-10-31T18:37:17.543380972Z",
     "start_time": "2023-10-31T18:37:17.490254590Z"
    }
   }
  },
  {
   "cell_type": "code",
   "execution_count": 23,
   "outputs": [
    {
     "data": {
      "text/plain": "<Figure size 2592x216 with 6 Axes>",
      "image/png": "[encoded data removed]"
     },
     "metadata": {
      "needs_background": "light"
     },
     "output_type": "display_data"
    }
   ],
   "source": [
    "fig, axs = plt.subplots(1, 6, figsize=(36,3))\n",
    "\n",
    "axs[0].bar(range(len(standard_serial_inteval_distribution)), standard_serial_inteval_distribution, width=1)\n",
    "axs[1].bar(range(len(incubation_time_distribution)), incubation_time_distribution, width=1)\n",
    "axs[2].bar(range(len(delay_onset_to_notification_distribution)), delay_onset_to_notification_distribution, width=1)\n",
    "# axs[3].bar(range(50), delay_infecton_to_notification_distribution[:50], width=1)\n",
    "axs[3].bar(range(len(delay_infecton_to_notification_distribution)), delay_infecton_to_notification_distribution, width=1)\n",
    "axs[4].bar(range(len(delay_onset_to_death_distribution)), delay_onset_to_death_distribution, width=1)\n",
    "axs[5].bar(range(len(delay_infecton_to_death_distribution)), delay_infecton_to_death_distribution, width=1)\n",
    "\n",
    "axs[0].set_title('Default serial interval distribution')\n",
    "axs[1].set_title('Default incubation time distribution')\n",
    "axs[2].set_title('Onset-to-reporting delay distribution in Brazil context')\n",
    "axs[3].set_title('Infection-to-reporting delay distribution')\n",
    "axs[4].set_title('Onset-to-death delay distribution')\n",
    "axs[5].set_title('Infection-to-death delay distribution')\n",
    "plt.show()"
   ],
   "metadata": {
    "collapsed": false,
    "ExecuteTime": {
     "end_time": "2023-10-31T18:37:20.238886868Z",
     "start_time": "2023-10-31T18:37:17.534270774Z"
    }
   }
  },
  {
   "cell_type": "code",
   "execution_count": 24,
   "outputs": [
    {
     "data": {
      "text/plain": "19"
     },
     "execution_count": 24,
     "metadata": {},
     "output_type": "execute_result"
    }
   ],
   "source": [
    "window_days_onset_to_death = round(mean_days_delay_onset_to_death)\n",
    "window_days_onset_to_death"
   ],
   "metadata": {
    "collapsed": false,
    "ExecuteTime": {
     "end_time": "2023-10-31T18:37:20.310691753Z",
     "start_time": "2023-10-31T18:37:20.237932319Z"
    }
   }
  },
  {
   "cell_type": "code",
   "execution_count": 25,
   "outputs": [
    {
     "data": {
      "text/plain": "51.7129300540739"
     },
     "execution_count": 25,
     "metadata": {},
     "output_type": "execute_result"
    }
   ],
   "source": [
    "survival_rate = (df_national.CASOS_NOVOS_PAINEL.sum() / df_national.OBITOS_NOVOS_SIM.sum())\n",
    "survival_rate"
   ],
   "metadata": {
    "collapsed": false,
    "ExecuteTime": {
     "end_time": "2023-10-31T18:37:20.311017501Z",
     "start_time": "2023-10-31T18:37:20.282276546Z"
    }
   }
  },
  {
   "cell_type": "markdown",
   "source": [
    "### National data"
   ],
   "metadata": {
    "collapsed": false
   }
  },
  {
   "cell_type": "code",
   "execution_count": 26,
   "outputs": [],
   "source": [
    "df_national_temp = df_national.copy() \n",
    "df_national_temp.loc[df_national_temp.CASOS_NOVOS_PAINEL < 0, 'CASOS_NOVOS_PAINEL'] = 0\n",
    "df_cases = df_national_temp.set_index('DATA')['CASOS_NOVOS_PAINEL']"
   ],
   "metadata": {
    "collapsed": false,
    "ExecuteTime": {
     "end_time": "2023-10-31T18:37:20.508093802Z",
     "start_time": "2023-10-31T18:37:20.282454811Z"
    }
   }
  },
  {
   "cell_type": "code",
   "execution_count": 27,
   "outputs": [],
   "source": [
    "# Cori, A., Ferguson, N. M., Fraser, C., & Cauchemez, S. (2013). A new framework and software to estimate time-varying reproduction numbers during epidemics. American journal of epidemiology, 178(9), 1505-1512.\n",
    "# https://github.com/lo-hfk/epyestim\n",
    "df_effective_reproduction_number = covid19.r_covid(df_cases, smoothing_window = 28, r_window_size = 14, auto_cutoff=True, n_samples=100, delay_distribution=delay_infecton_to_notification_distribution, gt_distribution=standard_serial_inteval_distribution, a_prior=9.9, b_prior=1/9.25)"
   ],
   "metadata": {
    "collapsed": false,
    "ExecuteTime": {
     "end_time": "2023-10-31T18:37:44.771450818Z",
     "start_time": "2023-10-31T18:37:20.339426427Z"
    }
   }
  },
  {
   "cell_type": "code",
   "execution_count": 28,
   "outputs": [],
   "source": [
    "df_national['CASOS_INICIO_SINTOMAS_ESTIMADOS'] = df_national['OBITOS_NOVOS_SIM'] * survival_rate\n",
    "df_national['CASOS_INICIO_SINTOMAS_ESTIMADOS'] = df_national['CASOS_INICIO_SINTOMAS_ESTIMADOS'].rolling(window=window_days_onset_to_death, min_periods=1).mean().shift(-(window_days_onset_to_death - 1))"
   ],
   "metadata": {
    "collapsed": false,
    "ExecuteTime": {
     "end_time": "2023-10-31T18:37:44.814600340Z",
     "start_time": "2023-10-31T18:37:44.814261557Z"
    }
   }
  },
  {
   "cell_type": "code",
   "execution_count": 29,
   "outputs": [],
   "source": [
    "df_estimated_cases = df_national.set_index('DATA')['CASOS_INICIO_SINTOMAS_ESTIMADOS'].dropna()"
   ],
   "metadata": {
    "collapsed": false,
    "ExecuteTime": {
     "end_time": "2023-10-31T18:37:44.814952545Z",
     "start_time": "2023-10-31T18:37:44.814442098Z"
    }
   }
  },
  {
   "cell_type": "code",
   "execution_count": 30,
   "outputs": [],
   "source": [
    "df_effective_reproduction_number_estimated_cases = covid19.r_covid(df_estimated_cases, smoothing_window = 28, r_window_size = 14, auto_cutoff=True, n_samples=100, delay_distribution=incubation_time_distribution, gt_distribution=standard_serial_inteval_distribution, a_prior=9.9, b_prior=1/9.25)"
   ],
   "metadata": {
    "collapsed": false,
    "ExecuteTime": {
     "end_time": "2023-10-31T18:37:57.115501246Z",
     "start_time": "2023-10-31T18:37:44.814549701Z"
    }
   }
  },
  {
   "cell_type": "code",
   "execution_count": 31,
   "outputs": [],
   "source": [
    "df_cases_srag = df_national.set_index('DATA')['NOVOS_CASOS_SRAG']"
   ],
   "metadata": {
    "collapsed": false,
    "ExecuteTime": {
     "end_time": "2023-10-31T18:37:57.122409461Z",
     "start_time": "2023-10-31T18:37:57.118666551Z"
    }
   }
  },
  {
   "cell_type": "code",
   "execution_count": 32,
   "outputs": [],
   "source": [
    "df_effective_reproduction_number_srag = covid19.r_covid(df_cases_srag, smoothing_window = 28, r_window_size = 14, auto_cutoff=True, n_samples=100, delay_distribution=incubation_time_distribution, gt_distribution=standard_serial_inteval_distribution, a_prior=9.9, b_prior=1/9.25)"
   ],
   "metadata": {
    "collapsed": false,
    "ExecuteTime": {
     "end_time": "2023-10-31T18:38:09.848245492Z",
     "start_time": "2023-10-31T18:37:57.162232861Z"
    }
   }
  },
  {
   "cell_type": "code",
   "execution_count": 33,
   "outputs": [],
   "source": [
    "df_effective_reproduction_number = df_effective_reproduction_number.reset_index()\n",
    "df_effective_reproduction_number = df_effective_reproduction_number.rename(columns={'index': 'DATA', 'R_mean': 'NUMERO_REPRODUCAO_EFETIVO_MEDIA', 'R_var': 'NUMERO_REPRODUCAO_EFETIVO_VARIANCIA', 'Q0.025': 'NUMERO_REPRODUCAO_EFETIVO_QUANTIL_0.025', 'Q0.5': 'NUMERO_REPRODUCAO_EFETIVO_MEDIANA', 'Q0.975': 'NUMERO_REPRODUCAO_EFETIVO_QUANTIL_0.975' })\n",
    "df_effective_reproduction_number = df_effective_reproduction_number.drop(columns=['cases'])\n",
    "df_national = df_national.merge(df_effective_reproduction_number, how='left', left_on='DATA', right_on='DATA')"
   ],
   "metadata": {
    "collapsed": false,
    "ExecuteTime": {
     "end_time": "2023-10-31T18:38:09.869158027Z",
     "start_time": "2023-10-31T18:38:09.853777938Z"
    }
   }
  },
  {
   "cell_type": "code",
   "execution_count": 34,
   "outputs": [],
   "source": [
    "df_effective_reproduction_number_estimated_cases = df_effective_reproduction_number_estimated_cases.reset_index()\n",
    "df_effective_reproduction_number_estimated_cases = df_effective_reproduction_number_estimated_cases.rename(columns={'index': 'DATA', 'R_mean': 'NUMERO_REPRODUCAO_EFETIVO_ATRASADO_MEDIA', 'R_var': 'NUMERO_REPRODUCAO_EFETIVO_ATRASADO_VARIANCIA', 'Q0.025': 'NUMERO_REPRODUCAO_EFETIVO_ATRASADO_QUANTIL_0.025', 'Q0.5': 'NUMERO_REPRODUCAO_EFETIVO_ATRASADO_MEDIANA', 'Q0.975': 'NUMERO_REPRODUCAO_EFETIVO_ATRASADO_QUANTIL_0.975' })\n",
    "df_effective_reproduction_number_estimated_cases = df_effective_reproduction_number_estimated_cases.drop(columns=['cases'])\n",
    "df_national = df_national.merge(df_effective_reproduction_number_estimated_cases, how='left', left_on='DATA', right_on='DATA')"
   ],
   "metadata": {
    "collapsed": false,
    "ExecuteTime": {
     "end_time": "2023-10-31T18:38:09.898338821Z",
     "start_time": "2023-10-31T18:38:09.860710641Z"
    }
   }
  },
  {
   "cell_type": "code",
   "execution_count": 35,
   "outputs": [],
   "source": [
    "df_effective_reproduction_number_srag = df_effective_reproduction_number_srag.reset_index()\n",
    "df_effective_reproduction_number_srag = df_effective_reproduction_number_srag.rename(columns={'index': 'DATA', 'R_mean': 'NUMERO_REPRODUCAO_EFETIVO_SRAG_MEDIA', 'R_var': 'NUMERO_REPRODUCAO_EFETIVO_SRAG_VARIANCIA', 'Q0.025': 'NUMERO_REPRODUCAO_EFETIVO_SRAG_QUANTIL_0.025', 'Q0.5': 'NUMERO_REPRODUCAO_EFETIVO_SRAG_MEDIANA', 'Q0.975': 'NUMERO_REPRODUCAO_EFETIVO_SRAG_QUANTIL_0.975' })\n",
    "df_effective_reproduction_number_srag = df_effective_reproduction_number_srag.drop(columns=['cases'])\n",
    "df_national = df_national.merge(df_effective_reproduction_number_srag, how='left', left_on='DATA', right_on='DATA')"
   ],
   "metadata": {
    "collapsed": false,
    "ExecuteTime": {
     "end_time": "2023-10-31T18:38:09.932144375Z",
     "start_time": "2023-10-31T18:38:09.896490627Z"
    }
   }
  },
  {
   "cell_type": "code",
   "execution_count": 36,
   "outputs": [],
   "source": [
    "df_national['POPULACAO_2022'] = df_national['POPULACAO_2022'].max()"
   ],
   "metadata": {
    "collapsed": false,
    "ExecuteTime": {
     "end_time": "2023-10-31T18:38:09.954079891Z",
     "start_time": "2023-10-31T18:38:09.923141795Z"
    }
   }
  },
  {
   "cell_type": "markdown",
   "source": [
    "## Case fatality rate"
   ],
   "metadata": {
    "collapsed": false
   }
  },
  {
   "cell_type": "markdown",
   "source": [
    "### National data"
   ],
   "metadata": {
    "collapsed": false
   }
  },
  {
   "cell_type": "code",
   "execution_count": 38,
   "outputs": [
    {
     "data": {
      "text/plain": "Index(['DATA', 'estado', 'municipio', 'CODIGO_MUNICIPIO_6',\n       'OBITOS_NOVOS_PAINEL', 'OBITOS_ACUMULADO_PAINEL', 'CASOS_NOVOS_PAINEL',\n       'CASOS_ACUMULADO_PAINEL', 'day_of_week',\n       'CASOS_NOVOS_MEDIA_MOVEL_7_DIAS_PAINEL',\n       'OBITOS_NOVOS_MEDIA_MOVEL_7_DIAS_PAINEL', 'OBITOS_NOVOS_SIM',\n       'OBITOS_ACUMULADO_SIM', 'OBITOS_NOVOS_MEDIA_MOVEL_7_DIAS_SIM',\n       'POPULACAO_2022', 'TAXA_OBITOS_NOVOS_SIM',\n       'TAXA_OBITOS_NOVOS_MEDIA_MOVEL_7_DIAS_SIM', 'TAXA_OBITOS_SIM',\n       'NOVOS_CASOS_SRAG', 'NOVOS_OBITOS_SRAG',\n       'CASOS_INICIO_SINTOMAS_ESTIMADOS', 'NUMERO_REPRODUCAO_EFETIVO_MEDIA',\n       'NUMERO_REPRODUCAO_EFETIVO_VARIANCIA',\n       'NUMERO_REPRODUCAO_EFETIVO_QUANTIL_0.025',\n       'NUMERO_REPRODUCAO_EFETIVO_MEDIANA',\n       'NUMERO_REPRODUCAO_EFETIVO_QUANTIL_0.975',\n       'NUMERO_REPRODUCAO_EFETIVO_ATRASADO_MEDIA',\n       'NUMERO_REPRODUCAO_EFETIVO_ATRASADO_VARIANCIA',\n       'NUMERO_REPRODUCAO_EFETIVO_ATRASADO_QUANTIL_0.025',\n       'NUMERO_REPRODUCAO_EFETIVO_ATRASADO_MEDIANA',\n       'NUMERO_REPRODUCAO_EFETIVO_ATRASADO_QUANTIL_0.975',\n       'NUMERO_REPRODUCAO_EFETIVO_SRAG_MEDIA',\n       'NUMERO_REPRODUCAO_EFETIVO_SRAG_VARIANCIA',\n       'NUMERO_REPRODUCAO_EFETIVO_SRAG_QUANTIL_0.025',\n       'NUMERO_REPRODUCAO_EFETIVO_SRAG_MEDIANA',\n       'NUMERO_REPRODUCAO_EFETIVO_SRAG_QUANTIL_0.975'],\n      dtype='object')"
     },
     "execution_count": 38,
     "metadata": {},
     "output_type": "execute_result"
    }
   ],
   "source": [
    "df_national.columns"
   ],
   "metadata": {
    "collapsed": false,
    "ExecuteTime": {
     "end_time": "2023-10-31T18:38:10.042936122Z",
     "start_time": "2023-10-31T18:38:10.042249007Z"
    }
   }
  },
  {
   "cell_type": "code",
   "execution_count": 43,
   "outputs": [],
   "source": [
    "df_national['TAXA_FATALIDADE'] = df_national.OBITOS_NOVOS_SIM / df_national.CASOS_NOVOS_MEDIA_MOVEL_7_DIAS_PAINEL.shift(12) * 100\n",
    "\n",
    "df_national['NOVOS_OBITOS_MEDIA_MOVEL_7_DIAS_SRAG'] = df_national.NOVOS_OBITOS_SRAG.rolling(7, min_periods=1).mean()\n",
    "df_national['NOVOS_CASOS_MEDIA_MOVEL_7_DIAS_SRAG'] = df_national.NOVOS_CASOS_SRAG.rolling(7, min_periods=1).mean()\n",
    "df_national['TAXA_FATALIDADE_SRAG'] = df_national.NOVOS_OBITOS_MEDIA_MOVEL_7_DIAS_SRAG / df_national.NOVOS_CASOS_MEDIA_MOVEL_7_DIAS_SRAG.shift(12) * 100"
   ],
   "metadata": {
    "collapsed": false,
    "ExecuteTime": {
     "end_time": "2023-10-31T18:44:04.615392442Z",
     "start_time": "2023-10-31T18:44:04.559926693Z"
    }
   }
  },
  {
   "cell_type": "markdown",
   "source": [
    "## Saving data\n"
   ],
   "metadata": {
    "collapsed": false
   }
  },
  {
   "cell_type": "code",
   "execution_count": 45,
   "outputs": [],
   "source": [
    "df_national.to_csv('data/output/df_national.csv')"
   ],
   "metadata": {
    "collapsed": false,
    "ExecuteTime": {
     "end_time": "2023-10-31T18:44:14.251820302Z",
     "start_time": "2023-10-31T18:44:14.201086063Z"
    }
   }
  },
  {
   "cell_type": "code",
   "execution_count": 46,
   "outputs": [
    {
     "data": {
      "text/plain": "           DATA  OBITOS_NOVOS_PAINEL  OBITOS_ACUMULADO_PAINEL  \\\n0    2020-02-16                  0.0                      0.0   \n1    2020-02-17                  0.0                      0.0   \n2    2020-02-18                  0.0                      0.0   \n3    2020-02-19                  0.0                      0.0   \n4    2020-02-20                  0.0                      0.0   \n...         ...                  ...                      ...   \n1045 2022-12-27                230.0                 693199.0   \n1046 2022-12-28                363.0                 693562.0   \n1047 2022-12-29                172.0                 693734.0   \n1048 2022-12-30                119.0                 693853.0   \n1049 2022-12-31                  0.0                 693853.0   \n\n      CASOS_NOVOS_PAINEL  CASOS_ACUMULADO_PAINEL  day_of_week  \\\n0                    0.0                     0.0          0.0   \n1                    0.0                     0.0          0.0   \n2                    0.0                     0.0          0.0   \n3                    0.0                     0.0          0.0   \n4                    0.0                     0.0          0.0   \n...                  ...                     ...          ...   \n1045             35898.0              36226287.0          1.0   \n1046             38434.0              36264721.0          2.0   \n1047             37694.0              36302415.0          3.0   \n1048             28866.0              36331281.0          4.0   \n1049                 0.0              36331281.0          5.0   \n\n      CASOS_NOVOS_MEDIA_MOVEL_7_DIAS_PAINEL  \\\n0                                  0.000000   \n1                                  0.000000   \n2                                  0.000000   \n3                                  0.000000   \n4                                  0.000000   \n...                                     ...   \n1045                           32075.285714   \n1046                           31468.571429   \n1047                           29938.571429   \n1048                           29563.428571   \n1049                           29563.428571   \n\n      OBITOS_NOVOS_MEDIA_MOVEL_7_DIAS_PAINEL  OBITOS_NOVOS_SIM  \\\n0                                   0.000000               0.0   \n1                                   0.000000               0.0   \n2                                   0.000000               0.0   \n3                                   0.000000               0.0   \n4                                   0.000000               0.0   \n...                                      ...               ...   \n1045                              131.285714             126.0   \n1046                              157.285714             102.0   \n1047                              154.571429             104.0   \n1048                              158.571429              88.0   \n1049                              158.571429             105.0   \n\n      OBITOS_ACUMULADO_SIM  ...  \\\n0                      0.0  ...   \n1                      0.0  ...   \n2                      0.0  ...   \n3                      0.0  ...   \n4                      0.0  ...   \n...                    ...  ...   \n1045              702158.0  ...   \n1046              702260.0  ...   \n1047              702364.0  ...   \n1048              702452.0  ...   \n1049              702557.0  ...   \n\n      NUMERO_REPRODUCAO_EFETIVO_ATRASADO_QUANTIL_0.975  \\\n0                                                  NaN   \n1                                                  NaN   \n2                                                  NaN   \n3                                                  NaN   \n4                                                  NaN   \n...                                                ...   \n1045                                               NaN   \n1046                                               NaN   \n1047                                               NaN   \n1048                                               NaN   \n1049                                               NaN   \n\n      NUMERO_REPRODUCAO_EFETIVO_SRAG_MEDIA  \\\n0                                      NaN   \n1                                      NaN   \n2                                      NaN   \n3                                      NaN   \n4                                      NaN   \n...                                    ...   \n1045                                   NaN   \n1046                                   NaN   \n1047                                   NaN   \n1048                                   NaN   \n1049                                   NaN   \n\n      NUMERO_REPRODUCAO_EFETIVO_SRAG_VARIANCIA  \\\n0                                          NaN   \n1                                          NaN   \n2                                          NaN   \n3                                          NaN   \n4                                          NaN   \n...                                        ...   \n1045                                       NaN   \n1046                                       NaN   \n1047                                       NaN   \n1048                                       NaN   \n1049                                       NaN   \n\n      NUMERO_REPRODUCAO_EFETIVO_SRAG_QUANTIL_0.025  \\\n0                                              NaN   \n1                                              NaN   \n2                                              NaN   \n3                                              NaN   \n4                                              NaN   \n...                                            ...   \n1045                                           NaN   \n1046                                           NaN   \n1047                                           NaN   \n1048                                           NaN   \n1049                                           NaN   \n\n      NUMERO_REPRODUCAO_EFETIVO_SRAG_MEDIANA  \\\n0                                        NaN   \n1                                        NaN   \n2                                        NaN   \n3                                        NaN   \n4                                        NaN   \n...                                      ...   \n1045                                     NaN   \n1046                                     NaN   \n1047                                     NaN   \n1048                                     NaN   \n1049                                     NaN   \n\n      NUMERO_REPRODUCAO_EFETIVO_SRAG_QUANTIL_0.975  TAXA_FATALIDADE  \\\n0                                              NaN              NaN   \n1                                              NaN              NaN   \n2                                              NaN              NaN   \n3                                              NaN              NaN   \n4                                              NaN              NaN   \n...                                            ...              ...   \n1045                                           NaN         0.317134   \n1046                                           NaN         0.211361   \n1047                                           NaN         0.226545   \n1048                                           NaN         0.189866   \n1049                                           NaN         0.243949   \n\n      TAXA_FATALIDADE_SRAG  NOVOS_OBITOS_MEDIA_MOVEL_7_DIAS_SRAG  \\\n0                      NaN                              0.000000   \n1                      NaN                              0.000000   \n2                      NaN                              0.000000   \n3                      NaN                              0.000000   \n4                      NaN                              0.000000   \n...                    ...                                   ...   \n1045             18.354832                            124.000000   \n1046             18.059182                            118.571429   \n1047             18.957897                            116.428571   \n1048             18.545888                            111.142857   \n1049             18.786550                            110.142857   \n\n      NOVOS_CASOS_MEDIA_MOVEL_7_DIAS_SRAG  \n0                                5.000000  \n1                                7.500000  \n2                                7.666667  \n3                                7.000000  \n4                                7.000000  \n...                                   ...  \n1045                           470.142857  \n1046                           465.428571  \n1047                           447.000000  \n1048                           434.571429  \n1049                           412.142857  \n\n[1050 rows x 37 columns]",
      "text/html": "<div>\n<style scoped>\n    .dataframe tbody tr th:only-of-type {\n        vertical-align: middle;\n    }\n\n    .dataframe tbody tr th {\n        vertical-align: top;\n    }\n\n    .dataframe thead th {\n        text-align: right;\n    }\n</style>\n<table border=\"1\" class=\"dataframe\">\n  <thead>\n    <tr style=\"text-align: right;\">\n      <th></th>\n      <th>DATA</th>\n      <th>OBITOS_NOVOS_PAINEL</th>\n      <th>OBITOS_ACUMULADO_PAINEL</th>\n      <th>CASOS_NOVOS_PAINEL</th>\n      <th>CASOS_ACUMULADO_PAINEL</th>\n      <th>day_of_week</th>\n      <th>CASOS_NOVOS_MEDIA_MOVEL_7_DIAS_PAINEL</th>\n      <th>OBITOS_NOVOS_MEDIA_MOVEL_7_DIAS_PAINEL</th>\n      <th>OBITOS_NOVOS_SIM</th>\n      <th>OBITOS_ACUMULADO_SIM</th>\n      <th>...</th>\n      <th>NUMERO_REPRODUCAO_EFETIVO_ATRASADO_QUANTIL_0.975</th>\n      <th>NUMERO_REPRODUCAO_EFETIVO_SRAG_MEDIA</th>\n      <th>NUMERO_REPRODUCAO_EFETIVO_SRAG_VARIANCIA</th>\n      <th>NUMERO_REPRODUCAO_EFETIVO_SRAG_QUANTIL_0.025</th>\n      <th>NUMERO_REPRODUCAO_EFETIVO_SRAG_MEDIANA</th>\n      <th>NUMERO_REPRODUCAO_EFETIVO_SRAG_QUANTIL_0.975</th>\n      <th>TAXA_FATALIDADE</th>\n      <th>TAXA_FATALIDADE_SRAG</th>\n      <th>NOVOS_OBITOS_MEDIA_MOVEL_7_DIAS_SRAG</th>\n      <th>NOVOS_CASOS_MEDIA_MOVEL_7_DIAS_SRAG</th>\n    </tr>\n  </thead>\n  <tbody>\n    <tr>\n      <th>0</th>\n      <td>2020-02-16</td>\n      <td>0.0</td>\n      <td>0.0</td>\n      <td>0.0</td>\n      <td>0.0</td>\n      <td>0.0</td>\n      <td>0.000000</td>\n      <td>0.000000</td>\n      <td>0.0</td>\n      <td>0.0</td>\n      <td>...</td>\n      <td>NaN</td>\n      <td>NaN</td>\n      <td>NaN</td>\n      <td>NaN</td>\n      <td>NaN</td>\n      <td>NaN</td>\n      <td>NaN</td>\n      <td>NaN</td>\n      <td>0.000000</td>\n      <td>5.000000</td>\n    </tr>\n    <tr>\n      <th>1</th>\n      <td>2020-02-17</td>\n      <td>0.0</td>\n      <td>0.0</td>\n      <td>0.0</td>\n      <td>0.0</td>\n      <td>0.0</td>\n      <td>0.000000</td>\n      <td>0.000000</td>\n      <td>0.0</td>\n      <td>0.0</td>\n      <td>...</td>\n      <td>NaN</td>\n      <td>NaN</td>\n      <td>NaN</td>\n      <td>NaN</td>\n      <td>NaN</td>\n      <td>NaN</td>\n      <td>NaN</td>\n      <td>NaN</td>\n      <td>0.000000</td>\n      <td>7.500000</td>\n    </tr>\n    <tr>\n      <th>2</th>\n      <td>2020-02-18</td>\n      <td>0.0</td>\n      <td>0.0</td>\n      <td>0.0</td>\n      <td>0.0</td>\n      <td>0.0</td>\n      <td>0.000000</td>\n      <td>0.000000</td>\n      <td>0.0</td>\n      <td>0.0</td>\n      <td>...</td>\n      <td>NaN</td>\n      <td>NaN</td>\n      <td>NaN</td>\n      <td>NaN</td>\n      <td>NaN</td>\n      <td>NaN</td>\n      <td>NaN</td>\n      <td>NaN</td>\n      <td>0.000000</td>\n      <td>7.666667</td>\n    </tr>\n    <tr>\n      <th>3</th>\n      <td>2020-02-19</td>\n      <td>0.0</td>\n      <td>0.0</td>\n      <td>0.0</td>\n      <td>0.0</td>\n      <td>0.0</td>\n      <td>0.000000</td>\n      <td>0.000000</td>\n      <td>0.0</td>\n      <td>0.0</td>\n      <td>...</td>\n      <td>NaN</td>\n      <td>NaN</td>\n      <td>NaN</td>\n      <td>NaN</td>\n      <td>NaN</td>\n      <td>NaN</td>\n      <td>NaN</td>\n      <td>NaN</td>\n      <td>0.000000</td>\n      <td>7.000000</td>\n    </tr>\n    <tr>\n      <th>4</th>\n      <td>2020-02-20</td>\n      <td>0.0</td>\n      <td>0.0</td>\n      <td>0.0</td>\n      <td>0.0</td>\n      <td>0.0</td>\n      <td>0.000000</td>\n      <td>0.000000</td>\n      <td>0.0</td>\n      <td>0.0</td>\n      <td>...</td>\n      <td>NaN</td>\n      <td>NaN</td>\n      <td>NaN</td>\n      <td>NaN</td>\n      <td>NaN</td>\n      <td>NaN</td>\n      <td>NaN</td>\n      <td>NaN</td>\n      <td>0.000000</td>\n      <td>7.000000</td>\n    </tr>\n    <tr>\n      <th>...</th>\n      <td>...</td>\n      <td>...</td>\n      <td>...</td>\n      <td>...</td>\n      <td>...</td>\n      <td>...</td>\n      <td>...</td>\n      <td>...</td>\n      <td>...</td>\n      <td>...</td>\n      <td>...</td>\n      <td>...</td>\n      <td>...</td>\n      <td>...</td>\n      <td>...</td>\n      <td>...</td>\n      <td>...</td>\n      <td>...</td>\n      <td>...</td>\n      <td>...</td>\n      <td>...</td>\n    </tr>\n    <tr>\n      <th>1045</th>\n      <td>2022-12-27</td>\n      <td>230.0</td>\n      <td>693199.0</td>\n      <td>35898.0</td>\n      <td>36226287.0</td>\n      <td>1.0</td>\n      <td>32075.285714</td>\n      <td>131.285714</td>\n      <td>126.0</td>\n      <td>702158.0</td>\n      <td>...</td>\n      <td>NaN</td>\n      <td>NaN</td>\n      <td>NaN</td>\n      <td>NaN</td>\n      <td>NaN</td>\n      <td>NaN</td>\n      <td>0.317134</td>\n      <td>18.354832</td>\n      <td>124.000000</td>\n      <td>470.142857</td>\n    </tr>\n    <tr>\n      <th>1046</th>\n      <td>2022-12-28</td>\n      <td>363.0</td>\n      <td>693562.0</td>\n      <td>38434.0</td>\n      <td>36264721.0</td>\n      <td>2.0</td>\n      <td>31468.571429</td>\n      <td>157.285714</td>\n      <td>102.0</td>\n      <td>702260.0</td>\n      <td>...</td>\n      <td>NaN</td>\n      <td>NaN</td>\n      <td>NaN</td>\n      <td>NaN</td>\n      <td>NaN</td>\n      <td>NaN</td>\n      <td>0.211361</td>\n      <td>18.059182</td>\n      <td>118.571429</td>\n      <td>465.428571</td>\n    </tr>\n    <tr>\n      <th>1047</th>\n      <td>2022-12-29</td>\n      <td>172.0</td>\n      <td>693734.0</td>\n      <td>37694.0</td>\n      <td>36302415.0</td>\n      <td>3.0</td>\n      <td>29938.571429</td>\n      <td>154.571429</td>\n      <td>104.0</td>\n      <td>702364.0</td>\n      <td>...</td>\n      <td>NaN</td>\n      <td>NaN</td>\n      <td>NaN</td>\n      <td>NaN</td>\n      <td>NaN</td>\n      <td>NaN</td>\n      <td>0.226545</td>\n      <td>18.957897</td>\n      <td>116.428571</td>\n      <td>447.000000</td>\n    </tr>\n    <tr>\n      <th>1048</th>\n      <td>2022-12-30</td>\n      <td>119.0</td>\n      <td>693853.0</td>\n      <td>28866.0</td>\n      <td>36331281.0</td>\n      <td>4.0</td>\n      <td>29563.428571</td>\n      <td>158.571429</td>\n      <td>88.0</td>\n      <td>702452.0</td>\n      <td>...</td>\n      <td>NaN</td>\n      <td>NaN</td>\n      <td>NaN</td>\n      <td>NaN</td>\n      <td>NaN</td>\n      <td>NaN</td>\n      <td>0.189866</td>\n      <td>18.545888</td>\n      <td>111.142857</td>\n      <td>434.571429</td>\n    </tr>\n    <tr>\n      <th>1049</th>\n      <td>2022-12-31</td>\n      <td>0.0</td>\n      <td>693853.0</td>\n      <td>0.0</td>\n      <td>36331281.0</td>\n      <td>5.0</td>\n      <td>29563.428571</td>\n      <td>158.571429</td>\n      <td>105.0</td>\n      <td>702557.0</td>\n      <td>...</td>\n      <td>NaN</td>\n      <td>NaN</td>\n      <td>NaN</td>\n      <td>NaN</td>\n      <td>NaN</td>\n      <td>NaN</td>\n      <td>0.243949</td>\n      <td>18.786550</td>\n      <td>110.142857</td>\n      <td>412.142857</td>\n    </tr>\n  </tbody>\n</table>\n<p>1050 rows × 37 columns</p>\n</div>"
     },
     "execution_count": 46,
     "metadata": {},
     "output_type": "execute_result"
    }
   ],
   "source": [
    "df_national"
   ],
   "metadata": {
    "collapsed": false,
    "ExecuteTime": {
     "end_time": "2023-10-31T18:44:17.867842465Z",
     "start_time": "2023-10-31T18:44:17.823085486Z"
    }
   }
  }
 ],
 "metadata": {
  "kernelspec": {
   "display_name": "Python 3",
   "language": "python",
   "name": "python3"
  },
  "language_info": {
   "codemirror_mode": {
    "name": "ipython",
    "version": 2
   },
   "file_extension": ".py",
   "mimetype": "text/x-python",
   "name": "python",
   "nbconvert_exporter": "python",
   "pygments_lexer": "ipython2",
   "version": "2.7.6"
  }
 },
 "nbformat": 4,
 "nbformat_minor": 0
}
