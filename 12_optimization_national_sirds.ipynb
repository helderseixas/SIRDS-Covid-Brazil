{
 "cells": [
  {
   "cell_type": "markdown",
   "source": [
    "# Optimization SIRDS simulations"
   ],
   "metadata": {
    "collapsed": false
   }
  },
  {
   "cell_type": "code",
   "execution_count": 1,
   "metadata": {
    "collapsed": true
   },
   "outputs": [],
   "source": [
    "import numpy as np\n",
    "\n",
    "from sirds_model import brazil_covid_sirds_model, get_new_deaths, get_effective_reproduction_number\n",
    "import pandas as pd\n",
    "from sklearn.metrics import mean_absolute_error\n",
    "from scipy.optimize import differential_evolution\n",
    "from datetime import timedelta\n",
    "import csv"
   ]
  },
  {
   "cell_type": "markdown",
   "source": [
    "## Reading data"
   ],
   "metadata": {
    "collapsed": false
   }
  },
  {
   "cell_type": "code",
   "execution_count": 2,
   "outputs": [],
   "source": [
    "df = pd.read_csv('data/output/df_ts_covid_brazil.csv')\n",
    "df.DATA = pd.to_datetime(df.DATA, infer_datetime_format=True)"
   ],
   "metadata": {
    "collapsed": false
   }
  },
  {
   "cell_type": "code",
   "execution_count": 3,
   "outputs": [],
   "source": [
    "valleys = pd.read_csv('/data/output/valleys.csv', header=None)\n",
    "valleys.iloc[:,0] = pd.to_datetime(valleys.iloc[:,0], infer_datetime_format=True)\n",
    "valleys = valleys.iloc[:,0].values\n",
    "valley_1 = valleys[0]\n",
    "valley_2 = valleys[1]\n",
    "valley_3 = valleys[2]\n",
    "\n",
    "peaks = pd.read_csv('/data/output/peaks.csv',header=None)\n",
    "peaks.iloc[:,0] = pd.to_datetime(peaks.iloc[:,0], infer_datetime_format=True)\n",
    "peaks = peaks.iloc[:,0].values\n",
    "peak_1 = peaks[0]\n",
    "peak_2 = peaks[1]\n",
    "peak_3 = peaks[2]\n",
    "peak_4 = peaks[3]\n",
    "\n",
    "date_max = df.DATA.max()"
   ],
   "metadata": {
    "collapsed": false
   }
  },
  {
   "cell_type": "markdown",
   "source": [
    "## Preparing data"
   ],
   "metadata": {
    "collapsed": false
   }
  },
  {
   "cell_type": "code",
   "execution_count": 4,
   "outputs": [],
   "source": [
    "df = df.sort_values(by='DATA')"
   ],
   "metadata": {
    "collapsed": false
   }
  },
  {
   "cell_type": "code",
   "execution_count": 5,
   "outputs": [
    {
     "data": {
      "text/plain": "          DATA SIGLA_ESTADO MUNICIPIO  CODIGO_MUNICIPIO_7  OBITOS_NOVOS  \\\n0   2020-02-25        TOTAL     TOTAL                   0             0   \n1   2020-02-26        TOTAL     TOTAL                   0             0   \n2   2020-02-27        TOTAL     TOTAL                   0             0   \n3   2020-02-28        TOTAL     TOTAL                   0             0   \n4   2020-02-29        TOTAL     TOTAL                   0             0   \n..         ...          ...       ...                 ...           ...   \n959 2022-10-11        TOTAL     TOTAL                   0            86   \n960 2022-10-12        TOTAL     TOTAL                   0            63   \n961 2022-10-13        TOTAL     TOTAL                   0            43   \n962 2022-10-14        TOTAL     TOTAL                   0            75   \n963 2022-10-15        TOTAL     TOTAL                   0             9   \n\n     OBITOS  CASOS_NOVOS     CASOS  POPULACAO_ESTIMADA  \\\n0         0            1         1           210147125   \n1         0            0         1           210147125   \n2         0            0         1           210147125   \n3         0            1         2           210147125   \n4         0            0         2           210147125   \n..      ...          ...       ...                 ...   \n959  686963         7350  34731539           210147125   \n960  687026         5114  34736653           210147125   \n961  687069         3212  34739865           210147125   \n962  687144         6597  34746462           210147125   \n963  687153         2216  34748678           210147125   \n\n     OBITOS_NOVOS_MEDIA_14_DIAS  ...  NUMERO_REPRODUCAO_EFETIVO_MEDIA  \\\n0                      0.000000  ...                              NaN   \n1                      0.000000  ...                              NaN   \n2                      0.000000  ...                              NaN   \n3                      0.000000  ...                              NaN   \n4                      0.000000  ...                              NaN   \n..                          ...  ...                              ...   \n959                   77.285714  ...                              NaN   \n960                   78.500000  ...                              NaN   \n961                   77.928571  ...                              NaN   \n962                   79.142857  ...                              NaN   \n963                   64.214286  ...                              NaN   \n\n     NUMERO_REPRODUCAO_EFETIVO_VARIANCIA  \\\n0                                    NaN   \n1                                    NaN   \n2                                    NaN   \n3                                    NaN   \n4                                    NaN   \n..                                   ...   \n959                                  NaN   \n960                                  NaN   \n961                                  NaN   \n962                                  NaN   \n963                                  NaN   \n\n     NUMERO_REPRODUCAO_EFETIVO_QUANTIL_0.025  \\\n0                                        NaN   \n1                                        NaN   \n2                                        NaN   \n3                                        NaN   \n4                                        NaN   \n..                                       ...   \n959                                      NaN   \n960                                      NaN   \n961                                      NaN   \n962                                      NaN   \n963                                      NaN   \n\n     NUMERO_REPRODUCAO_EFETIVO_MEDIANA  \\\n0                                  NaN   \n1                                  NaN   \n2                                  NaN   \n3                                  NaN   \n4                                  NaN   \n..                                 ...   \n959                                NaN   \n960                                NaN   \n961                                NaN   \n962                                NaN   \n963                                NaN   \n\n     NUMERO_REPRODUCAO_EFETIVO_QUANTIL_0.975  \\\n0                                        NaN   \n1                                        NaN   \n2                                        NaN   \n3                                        NaN   \n4                                        NaN   \n..                                       ...   \n959                                      NaN   \n960                                      NaN   \n961                                      NaN   \n962                                      NaN   \n963                                      NaN   \n\n     NUMERO_REPRODUCAO_EFETIVO_ATRASADO_MEDIA  \\\n0                                         NaN   \n1                                         NaN   \n2                                         NaN   \n3                                         NaN   \n4                                         NaN   \n..                                        ...   \n959                                       NaN   \n960                                       NaN   \n961                                       NaN   \n962                                       NaN   \n963                                       NaN   \n\n     NUMERO_REPRODUCAO_EFETIVO_ATRASADO_VARIANCIA  \\\n0                                             NaN   \n1                                             NaN   \n2                                             NaN   \n3                                             NaN   \n4                                             NaN   \n..                                            ...   \n959                                           NaN   \n960                                           NaN   \n961                                           NaN   \n962                                           NaN   \n963                                           NaN   \n\n     NUMERO_REPRODUCAO_EFETIVO_ATRASADO_QUANTIL_0.025  \\\n0                                                 NaN   \n1                                                 NaN   \n2                                                 NaN   \n3                                                 NaN   \n4                                                 NaN   \n..                                                ...   \n959                                               NaN   \n960                                               NaN   \n961                                               NaN   \n962                                               NaN   \n963                                               NaN   \n\n     NUMERO_REPRODUCAO_EFETIVO_ATRASADO_MEDIANA  \\\n0                                           NaN   \n1                                           NaN   \n2                                           NaN   \n3                                           NaN   \n4                                           NaN   \n..                                          ...   \n959                                         NaN   \n960                                         NaN   \n961                                         NaN   \n962                                         NaN   \n963                                         NaN   \n\n     NUMERO_REPRODUCAO_EFETIVO_ATRASADO_QUANTIL_0.975  \n0                                                 NaN  \n1                                                 NaN  \n2                                                 NaN  \n3                                                 NaN  \n4                                                 NaN  \n..                                                ...  \n959                                               NaN  \n960                                               NaN  \n961                                               NaN  \n962                                               NaN  \n963                                               NaN  \n\n[964 rows x 30 columns]",
      "text/html": "<div>\n<style scoped>\n    .dataframe tbody tr th:only-of-type {\n        vertical-align: middle;\n    }\n\n    .dataframe tbody tr th {\n        vertical-align: top;\n    }\n\n    .dataframe thead th {\n        text-align: right;\n    }\n</style>\n<table border=\"1\" class=\"dataframe\">\n  <thead>\n    <tr style=\"text-align: right;\">\n      <th></th>\n      <th>DATA</th>\n      <th>SIGLA_ESTADO</th>\n      <th>MUNICIPIO</th>\n      <th>CODIGO_MUNICIPIO_7</th>\n      <th>OBITOS_NOVOS</th>\n      <th>OBITOS</th>\n      <th>CASOS_NOVOS</th>\n      <th>CASOS</th>\n      <th>POPULACAO_ESTIMADA</th>\n      <th>OBITOS_NOVOS_MEDIA_14_DIAS</th>\n      <th>...</th>\n      <th>NUMERO_REPRODUCAO_EFETIVO_MEDIA</th>\n      <th>NUMERO_REPRODUCAO_EFETIVO_VARIANCIA</th>\n      <th>NUMERO_REPRODUCAO_EFETIVO_QUANTIL_0.025</th>\n      <th>NUMERO_REPRODUCAO_EFETIVO_MEDIANA</th>\n      <th>NUMERO_REPRODUCAO_EFETIVO_QUANTIL_0.975</th>\n      <th>NUMERO_REPRODUCAO_EFETIVO_ATRASADO_MEDIA</th>\n      <th>NUMERO_REPRODUCAO_EFETIVO_ATRASADO_VARIANCIA</th>\n      <th>NUMERO_REPRODUCAO_EFETIVO_ATRASADO_QUANTIL_0.025</th>\n      <th>NUMERO_REPRODUCAO_EFETIVO_ATRASADO_MEDIANA</th>\n      <th>NUMERO_REPRODUCAO_EFETIVO_ATRASADO_QUANTIL_0.975</th>\n    </tr>\n  </thead>\n  <tbody>\n    <tr>\n      <th>0</th>\n      <td>2020-02-25</td>\n      <td>TOTAL</td>\n      <td>TOTAL</td>\n      <td>0</td>\n      <td>0</td>\n      <td>0</td>\n      <td>1</td>\n      <td>1</td>\n      <td>210147125</td>\n      <td>0.000000</td>\n      <td>...</td>\n      <td>NaN</td>\n      <td>NaN</td>\n      <td>NaN</td>\n      <td>NaN</td>\n      <td>NaN</td>\n      <td>NaN</td>\n      <td>NaN</td>\n      <td>NaN</td>\n      <td>NaN</td>\n      <td>NaN</td>\n    </tr>\n    <tr>\n      <th>1</th>\n      <td>2020-02-26</td>\n      <td>TOTAL</td>\n      <td>TOTAL</td>\n      <td>0</td>\n      <td>0</td>\n      <td>0</td>\n      <td>0</td>\n      <td>1</td>\n      <td>210147125</td>\n      <td>0.000000</td>\n      <td>...</td>\n      <td>NaN</td>\n      <td>NaN</td>\n      <td>NaN</td>\n      <td>NaN</td>\n      <td>NaN</td>\n      <td>NaN</td>\n      <td>NaN</td>\n      <td>NaN</td>\n      <td>NaN</td>\n      <td>NaN</td>\n    </tr>\n    <tr>\n      <th>2</th>\n      <td>2020-02-27</td>\n      <td>TOTAL</td>\n      <td>TOTAL</td>\n      <td>0</td>\n      <td>0</td>\n      <td>0</td>\n      <td>0</td>\n      <td>1</td>\n      <td>210147125</td>\n      <td>0.000000</td>\n      <td>...</td>\n      <td>NaN</td>\n      <td>NaN</td>\n      <td>NaN</td>\n      <td>NaN</td>\n      <td>NaN</td>\n      <td>NaN</td>\n      <td>NaN</td>\n      <td>NaN</td>\n      <td>NaN</td>\n      <td>NaN</td>\n    </tr>\n    <tr>\n      <th>3</th>\n      <td>2020-02-28</td>\n      <td>TOTAL</td>\n      <td>TOTAL</td>\n      <td>0</td>\n      <td>0</td>\n      <td>0</td>\n      <td>1</td>\n      <td>2</td>\n      <td>210147125</td>\n      <td>0.000000</td>\n      <td>...</td>\n      <td>NaN</td>\n      <td>NaN</td>\n      <td>NaN</td>\n      <td>NaN</td>\n      <td>NaN</td>\n      <td>NaN</td>\n      <td>NaN</td>\n      <td>NaN</td>\n      <td>NaN</td>\n      <td>NaN</td>\n    </tr>\n    <tr>\n      <th>4</th>\n      <td>2020-02-29</td>\n      <td>TOTAL</td>\n      <td>TOTAL</td>\n      <td>0</td>\n      <td>0</td>\n      <td>0</td>\n      <td>0</td>\n      <td>2</td>\n      <td>210147125</td>\n      <td>0.000000</td>\n      <td>...</td>\n      <td>NaN</td>\n      <td>NaN</td>\n      <td>NaN</td>\n      <td>NaN</td>\n      <td>NaN</td>\n      <td>NaN</td>\n      <td>NaN</td>\n      <td>NaN</td>\n      <td>NaN</td>\n      <td>NaN</td>\n    </tr>\n    <tr>\n      <th>...</th>\n      <td>...</td>\n      <td>...</td>\n      <td>...</td>\n      <td>...</td>\n      <td>...</td>\n      <td>...</td>\n      <td>...</td>\n      <td>...</td>\n      <td>...</td>\n      <td>...</td>\n      <td>...</td>\n      <td>...</td>\n      <td>...</td>\n      <td>...</td>\n      <td>...</td>\n      <td>...</td>\n      <td>...</td>\n      <td>...</td>\n      <td>...</td>\n      <td>...</td>\n      <td>...</td>\n    </tr>\n    <tr>\n      <th>959</th>\n      <td>2022-10-11</td>\n      <td>TOTAL</td>\n      <td>TOTAL</td>\n      <td>0</td>\n      <td>86</td>\n      <td>686963</td>\n      <td>7350</td>\n      <td>34731539</td>\n      <td>210147125</td>\n      <td>77.285714</td>\n      <td>...</td>\n      <td>NaN</td>\n      <td>NaN</td>\n      <td>NaN</td>\n      <td>NaN</td>\n      <td>NaN</td>\n      <td>NaN</td>\n      <td>NaN</td>\n      <td>NaN</td>\n      <td>NaN</td>\n      <td>NaN</td>\n    </tr>\n    <tr>\n      <th>960</th>\n      <td>2022-10-12</td>\n      <td>TOTAL</td>\n      <td>TOTAL</td>\n      <td>0</td>\n      <td>63</td>\n      <td>687026</td>\n      <td>5114</td>\n      <td>34736653</td>\n      <td>210147125</td>\n      <td>78.500000</td>\n      <td>...</td>\n      <td>NaN</td>\n      <td>NaN</td>\n      <td>NaN</td>\n      <td>NaN</td>\n      <td>NaN</td>\n      <td>NaN</td>\n      <td>NaN</td>\n      <td>NaN</td>\n      <td>NaN</td>\n      <td>NaN</td>\n    </tr>\n    <tr>\n      <th>961</th>\n      <td>2022-10-13</td>\n      <td>TOTAL</td>\n      <td>TOTAL</td>\n      <td>0</td>\n      <td>43</td>\n      <td>687069</td>\n      <td>3212</td>\n      <td>34739865</td>\n      <td>210147125</td>\n      <td>77.928571</td>\n      <td>...</td>\n      <td>NaN</td>\n      <td>NaN</td>\n      <td>NaN</td>\n      <td>NaN</td>\n      <td>NaN</td>\n      <td>NaN</td>\n      <td>NaN</td>\n      <td>NaN</td>\n      <td>NaN</td>\n      <td>NaN</td>\n    </tr>\n    <tr>\n      <th>962</th>\n      <td>2022-10-14</td>\n      <td>TOTAL</td>\n      <td>TOTAL</td>\n      <td>0</td>\n      <td>75</td>\n      <td>687144</td>\n      <td>6597</td>\n      <td>34746462</td>\n      <td>210147125</td>\n      <td>79.142857</td>\n      <td>...</td>\n      <td>NaN</td>\n      <td>NaN</td>\n      <td>NaN</td>\n      <td>NaN</td>\n      <td>NaN</td>\n      <td>NaN</td>\n      <td>NaN</td>\n      <td>NaN</td>\n      <td>NaN</td>\n      <td>NaN</td>\n    </tr>\n    <tr>\n      <th>963</th>\n      <td>2022-10-15</td>\n      <td>TOTAL</td>\n      <td>TOTAL</td>\n      <td>0</td>\n      <td>9</td>\n      <td>687153</td>\n      <td>2216</td>\n      <td>34748678</td>\n      <td>210147125</td>\n      <td>64.214286</td>\n      <td>...</td>\n      <td>NaN</td>\n      <td>NaN</td>\n      <td>NaN</td>\n      <td>NaN</td>\n      <td>NaN</td>\n      <td>NaN</td>\n      <td>NaN</td>\n      <td>NaN</td>\n      <td>NaN</td>\n      <td>NaN</td>\n    </tr>\n  </tbody>\n</table>\n<p>964 rows × 30 columns</p>\n</div>"
     },
     "execution_count": 5,
     "metadata": {},
     "output_type": "execute_result"
    }
   ],
   "source": [
    "df"
   ],
   "metadata": {
    "collapsed": false
   }
  },
  {
   "cell_type": "markdown",
   "source": [
    "## Preparing parameters and bounds"
   ],
   "metadata": {
    "collapsed": false
   }
  },
  {
   "cell_type": "markdown",
   "source": [
    "### Days to recovery"
   ],
   "metadata": {
    "collapsed": false
   }
  },
  {
   "cell_type": "code",
   "execution_count": 6,
   "outputs": [],
   "source": [
    "# Considering recovery period of 14 days for mild cases as reported by “Report of the WHO-China Joint Mission on Coronavirus Disease 2019 (COVID-19).” Accessed September 26, 2022. https://www.who.int/publications-detail-redirect/report-of-the-who-chinajoint-mission-on-coronavirus-disease-2019-(covid-19).\n",
    "# Considering recovery period mean between 13 and 15 second Voinsky, Irena, Gabriele Baristaite, and David Gurwitz. \"Effects of age and sex on recovery from COVID-19: Analysis of 5769 Israeli patients.\" Journal of Infection 81.2 (2020): e102-e103.\n",
    "    # Also using 14 days as mean +/- 6 SD we have range 8-20 or 8-26 if we considerate incubation period\n",
    "# Considerering incubation period around 6 days as reported by Bi et al (2020). Epidemiology and transmission of covid-19 in 391 cases and 1286 of their close contacts in shenzhen, china: a retrospective cohort study. The Lancet infectious diseases, 20(8):911–919, 2020.\n",
    "list_days_to_recovery = [8,9,10,11,12,13,14,15,16,17,18,19,20,21,22,23,24,25,26]\n",
    "# list_days_to_recovery = [8]"
   ],
   "metadata": {
    "collapsed": false
   }
  },
  {
   "cell_type": "markdown",
   "source": [
    "### Breakpoints\n",
    "We consider breakpoints the valleys between case waves."
   ],
   "metadata": {
    "collapsed": false
   }
  },
  {
   "cell_type": "code",
   "execution_count": 44,
   "outputs": [
    {
     "data": {
      "text/plain": "Timestamp('2022-10-15 00:00:00')"
     },
     "execution_count": 44,
     "metadata": {},
     "output_type": "execute_result"
    }
   ],
   "source": [
    "df.DATA.max()"
   ],
   "metadata": {
    "collapsed": false
   }
  },
  {
   "cell_type": "code",
   "execution_count": 7,
   "outputs": [
    {
     "data": {
      "text/plain": "Timestamp('2020-02-25 00:00:00')"
     },
     "execution_count": 7,
     "metadata": {},
     "output_type": "execute_result"
    }
   ],
   "source": [
    "date_first_case = df[(df.TAXA_CASOS_NOVOS_MEDIA_14_DIAS > 0)].iloc[0].DATA\n",
    "date_first_case"
   ],
   "metadata": {
    "collapsed": false
   }
  },
  {
   "cell_type": "code",
   "execution_count": 8,
   "outputs": [
    {
     "data": {
      "text/plain": "Timestamp('2020-03-17 00:00:00')"
     },
     "execution_count": 8,
     "metadata": {},
     "output_type": "execute_result"
    }
   ],
   "source": [
    "date_first_case + timedelta(days=21)"
   ],
   "metadata": {
    "collapsed": false
   }
  },
  {
   "cell_type": "code",
   "execution_count": 9,
   "outputs": [
    {
     "data": {
      "text/plain": "21"
     },
     "execution_count": 9,
     "metadata": {},
     "output_type": "execute_result"
    }
   ],
   "source": [
    "wave_inner_breakpoint_1 = ((date_first_case + timedelta(days=21)) - date_first_case).days\n",
    "\n",
    "wave_inner_breakpoint_1"
   ],
   "metadata": {
    "collapsed": false
   }
  },
  {
   "cell_type": "code",
   "execution_count": 10,
   "outputs": [
    {
     "data": {
      "text/plain": "258"
     },
     "execution_count": 10,
     "metadata": {},
     "output_type": "execute_result"
    }
   ],
   "source": [
    "breakpoint_1 = (valley_1 - date_first_case).days\n",
    "breakpoint_1"
   ],
   "metadata": {
    "collapsed": false
   }
  },
  {
   "cell_type": "code",
   "execution_count": 11,
   "outputs": [
    {
     "data": {
      "text/plain": "668"
     },
     "execution_count": 11,
     "metadata": {},
     "output_type": "execute_result"
    }
   ],
   "source": [
    "breakpoint_2 = (valley_2 - date_first_case).days\n",
    "breakpoint_2"
   ],
   "metadata": {
    "collapsed": false
   }
  },
  {
   "cell_type": "code",
   "execution_count": 12,
   "outputs": [
    {
     "data": {
      "text/plain": "793"
     },
     "execution_count": 12,
     "metadata": {},
     "output_type": "execute_result"
    }
   ],
   "source": [
    "breakpoint_3 = (valley_3 - date_first_case).days\n",
    "breakpoint_3"
   ],
   "metadata": {
    "collapsed": false
   }
  },
  {
   "cell_type": "code",
   "execution_count": 13,
   "outputs": [
    {
     "data": {
      "text/plain": "1"
     },
     "execution_count": 13,
     "metadata": {},
     "output_type": "execute_result"
    }
   ],
   "source": [
    "min_wave_inner_breakpoint_1 = ((date_first_case + timedelta(days=1)) - date_first_case).days\n",
    "\n",
    "min_wave_inner_breakpoint_1"
   ],
   "metadata": {
    "collapsed": false
   }
  },
  {
   "cell_type": "code",
   "execution_count": 14,
   "outputs": [
    {
     "data": {
      "text/plain": "161"
     },
     "execution_count": 14,
     "metadata": {},
     "output_type": "execute_result"
    }
   ],
   "source": [
    "max_wave_inner_breakpoint_1 = (peak_1 - date_first_case).days\n",
    "\n",
    "max_wave_inner_breakpoint_1"
   ],
   "metadata": {
    "collapsed": false
   }
  },
  {
   "cell_type": "code",
   "execution_count": 15,
   "outputs": [
    {
     "data": {
      "text/plain": "245.1"
     },
     "execution_count": 15,
     "metadata": {},
     "output_type": "execute_result"
    }
   ],
   "source": [
    "min_breakpoint_1 = breakpoint_1 - (breakpoint_1 * 0.05)\n",
    "min_breakpoint_1"
   ],
   "metadata": {
    "collapsed": false
   }
  },
  {
   "cell_type": "code",
   "execution_count": 16,
   "outputs": [
    {
     "data": {
      "text/plain": "270.9"
     },
     "execution_count": 16,
     "metadata": {},
     "output_type": "execute_result"
    }
   ],
   "source": [
    "max_breakpoint_1 = breakpoint_1 + (breakpoint_1 * 0.05)\n",
    "max_breakpoint_1"
   ],
   "metadata": {
    "collapsed": false
   }
  },
  {
   "cell_type": "code",
   "execution_count": 17,
   "outputs": [
    {
     "data": {
      "text/plain": "647.5"
     },
     "execution_count": 17,
     "metadata": {},
     "output_type": "execute_result"
    }
   ],
   "source": [
    "min_breakpoint_2 = breakpoint_2 - (breakpoint_2 - breakpoint_1) * 0.05\n",
    "min_breakpoint_2"
   ],
   "metadata": {
    "collapsed": false
   }
  },
  {
   "cell_type": "code",
   "execution_count": 18,
   "outputs": [
    {
     "data": {
      "text/plain": "688.5"
     },
     "execution_count": 18,
     "metadata": {},
     "output_type": "execute_result"
    }
   ],
   "source": [
    "max_breakpoint_2 = breakpoint_2 + (breakpoint_2 - breakpoint_1) * 0.05\n",
    "max_breakpoint_2"
   ],
   "metadata": {
    "collapsed": false
   }
  },
  {
   "cell_type": "code",
   "execution_count": 19,
   "outputs": [
    {
     "data": {
      "text/plain": "786.75"
     },
     "execution_count": 19,
     "metadata": {},
     "output_type": "execute_result"
    }
   ],
   "source": [
    "min_breakpoint_3 = breakpoint_3 - (breakpoint_3 - breakpoint_2) * 0.05\n",
    "min_breakpoint_3"
   ],
   "metadata": {
    "collapsed": false
   }
  },
  {
   "cell_type": "code",
   "execution_count": 20,
   "outputs": [
    {
     "data": {
      "text/plain": "799.25"
     },
     "execution_count": 20,
     "metadata": {},
     "output_type": "execute_result"
    }
   ],
   "source": [
    "max_breakpoint_3 = breakpoint_3 + (breakpoint_3 - breakpoint_2) * 0.05\n",
    "max_breakpoint_3"
   ],
   "metadata": {
    "collapsed": false
   }
  },
  {
   "cell_type": "markdown",
   "source": [
    "### Period of analysis"
   ],
   "metadata": {
    "collapsed": false
   }
  },
  {
   "cell_type": "code",
   "execution_count": 21,
   "outputs": [
    {
     "data": {
      "text/plain": "964"
     },
     "execution_count": 21,
     "metadata": {},
     "output_type": "execute_result"
    }
   ],
   "source": [
    "date_begin_time_series = df.iloc[0].DATA\n",
    "t_first_case = (date_first_case - date_begin_time_series).days\n",
    "period_in_days = len(df) - t_first_case\n",
    "period_in_days"
   ],
   "metadata": {
    "collapsed": false
   }
  },
  {
   "cell_type": "markdown",
   "source": [
    "### Days between infections\n",
    "We infer the days between infectiosn based on effective reproduction number (Rt)"
   ],
   "metadata": {
    "collapsed": false
   }
  },
  {
   "cell_type": "code",
   "execution_count": 22,
   "outputs": [],
   "source": [
    "def get_days_between_infections_0(days_to_recovery):\n",
    "    R0_mean = df['NUMERO_REPRODUCAO_EFETIVO_MEDIA'].dropna().iloc[0]\n",
    "    R0_min = df['NUMERO_REPRODUCAO_EFETIVO_QUANTIL_0.025'].dropna().iloc[0]\n",
    "    R0_max = df['NUMERO_REPRODUCAO_EFETIVO_QUANTIL_0.975'].dropna().iloc[0]\n",
    "\n",
    "    days_between_infections_0_min = days_to_recovery/5.5\n",
    "\n",
    "    # Best result until now\n",
    "    # days_between_infections_0_max = days_to_recovery/1.9\n",
    "    days_between_infections_0_max = days_to_recovery/1\n",
    "\n",
    "    days_between_infections_default = days_to_recovery/R0_mean\n",
    "\n",
    "    return days_between_infections_0_min, days_between_infections_default, days_between_infections_0_max"
   ],
   "metadata": {
    "collapsed": false
   }
  },
  {
   "cell_type": "code",
   "execution_count": 23,
   "outputs": [],
   "source": [
    "def get_days_between_infections_in_wave(date_begin, date_end, days_to_recovery):\n",
    "    df_wave = df[(df.DATA > date_begin) & (df.DATA <= date_end)]\n",
    "    date_max_rt = df_wave[df_wave.NUMERO_REPRODUCAO_EFETIVO_MEDIA == df_wave.NUMERO_REPRODUCAO_EFETIVO_MEDIA.max()].DATA.min()\n",
    "    R_min = df_wave[df_wave.DATA == date_max_rt]['NUMERO_REPRODUCAO_EFETIVO_QUANTIL_0.025'].iloc[0]\n",
    "    R_max = df_wave[df_wave.DATA == date_max_rt]['NUMERO_REPRODUCAO_EFETIVO_QUANTIL_0.975'].iloc[0]\n",
    "    R_mean = df_wave[df_wave.DATA == date_max_rt]['NUMERO_REPRODUCAO_EFETIVO_MEDIA'].iloc[0]\n",
    "\n",
    "    days_between_infections_min = days_to_recovery/10\n",
    "    days_between_infections_max = days_to_recovery/1\n",
    "    days_between_infections_default = days_to_recovery/R_mean\n",
    "\n",
    "    return days_between_infections_min, days_between_infections_default, days_between_infections_max\n",
    "\n",
    "def get_days_between_infections_in_changed_wave(days_to_recovery):\n",
    "    days_between_infections_min = days_to_recovery/1.47\n",
    "    days_between_infections_max = days_to_recovery/1\n",
    "    days_between_infections_default = days_between_infections_min + (days_between_infections_max - days_between_infections_min)/2\n",
    "\n",
    "    return days_between_infections_min, days_between_infections_default, days_between_infections_max"
   ],
   "metadata": {
    "collapsed": false
   }
  },
  {
   "cell_type": "markdown",
   "source": [
    "### Case fatality probabilities\n",
    "For maximum bound, we use the ratio between deaths and cases in the period.\n",
    "For minimum bound we consider an extreme limit like whether all Brazilians had been infected by Covid-19 during the period."
   ],
   "metadata": {
    "collapsed": false
   }
  },
  {
   "cell_type": "code",
   "execution_count": 24,
   "outputs": [
    {
     "data": {
      "text/plain": "210147125"
     },
     "execution_count": 24,
     "metadata": {},
     "output_type": "execute_result"
    }
   ],
   "source": [
    "populcao_brasileira = df.POPULACAO_ESTIMADA[0]\n",
    "populcao_brasileira"
   ],
   "metadata": {
    "collapsed": false
   }
  },
  {
   "cell_type": "code",
   "execution_count": 25,
   "outputs": [
    {
     "data": {
      "text/plain": "0.002942942950087944"
     },
     "execution_count": 25,
     "metadata": {},
     "output_type": "execute_result"
    }
   ],
   "source": [
    "# Best result until now\n",
    "min_case_fatality_probability_0 = df[df.DATA <= valley_2].OBITOS_NOVOS.sum()/populcao_brasileira\n",
    "min_case_fatality_probability_0"
   ],
   "metadata": {
    "collapsed": false
   }
  },
  {
   "cell_type": "code",
   "execution_count": 26,
   "outputs": [
    {
     "data": {
      "text/plain": "0.002942942950087944"
     },
     "execution_count": 26,
     "metadata": {},
     "output_type": "execute_result"
    }
   ],
   "source": [
    "# Best result until now\n",
    "min_case_fatality_probability_1 = df[df.DATA <= valley_2].OBITOS_NOVOS.sum()/populcao_brasileira\n",
    "min_case_fatality_probability_1"
   ],
   "metadata": {
    "collapsed": false
   }
  },
  {
   "cell_type": "code",
   "execution_count": 27,
   "outputs": [
    {
     "data": {
      "text/plain": "0.00032713271713805266"
     },
     "execution_count": 27,
     "metadata": {},
     "output_type": "execute_result"
    }
   ],
   "source": [
    "# Best result until now\n",
    "min_case_fatality_probability_2 = df[(df.DATA > valley_2)].OBITOS_NOVOS.sum()/populcao_brasileira\n",
    "min_case_fatality_probability_2"
   ],
   "metadata": {
    "collapsed": false
   }
  },
  {
   "cell_type": "code",
   "execution_count": 28,
   "outputs": [
    {
     "data": {
      "text/plain": "0.00032713271713805266"
     },
     "execution_count": 28,
     "metadata": {},
     "output_type": "execute_result"
    }
   ],
   "source": [
    "# Best result until now\n",
    "min_case_fatality_probability_3 = df[(df.DATA > valley_2)].OBITOS_NOVOS.sum()/populcao_brasileira\n",
    "min_case_fatality_probability_3"
   ],
   "metadata": {
    "collapsed": false
   }
  },
  {
   "cell_type": "code",
   "execution_count": 50,
   "outputs": [
    {
     "data": {
      "text/plain": "2.8643130009176687"
     },
     "execution_count": 50,
     "metadata": {},
     "output_type": "execute_result"
    }
   ],
   "source": [
    "df[df.DATA <= valley_1].OBITOS_NOVOS.sum()/df[df.DATA <= valley_1].CASOS_NOVOS.sum()*100"
   ],
   "metadata": {
    "collapsed": false
   }
  },
  {
   "cell_type": "code",
   "execution_count": 51,
   "outputs": [
    {
     "data": {
      "text/plain": "2.7532668983600006"
     },
     "execution_count": 51,
     "metadata": {},
     "output_type": "execute_result"
    }
   ],
   "source": [
    "df[(df.DATA > valley_1) & (df.DATA <= valley_2)].OBITOS_NOVOS.sum()/df[(df.DATA > valley_1) & (df.DATA <= valley_2)].CASOS_NOVOS.sum()*100"
   ],
   "metadata": {
    "collapsed": false
   }
  },
  {
   "cell_type": "code",
   "execution_count": 29,
   "outputs": [
    {
     "data": {
      "text/plain": "0.027816395981419963"
     },
     "execution_count": 29,
     "metadata": {},
     "output_type": "execute_result"
    }
   ],
   "source": [
    "# Best result until now\n",
    "max_case_fatality_probability_0 = df[df.DATA <= valley_2].OBITOS_NOVOS.sum()/df[df.DATA <= valley_2].CASOS_NOVOS.sum()\n",
    "max_case_fatality_probability_0"
   ],
   "metadata": {
    "collapsed": false
   }
  },
  {
   "cell_type": "code",
   "execution_count": 30,
   "outputs": [
    {
     "data": {
      "text/plain": "0.027816395981419963"
     },
     "execution_count": 30,
     "metadata": {},
     "output_type": "execute_result"
    }
   ],
   "source": [
    "# Best result until now\n",
    "max_case_fatality_probability_1 = df[df.DATA <= valley_2].OBITOS_NOVOS.sum()/df[df.DATA <= valley_2].CASOS_NOVOS.sum()\n",
    "max_case_fatality_probability_1"
   ],
   "metadata": {
    "collapsed": false
   }
  },
  {
   "cell_type": "code",
   "execution_count": 31,
   "outputs": [
    {
     "data": {
      "text/plain": "0.005492212787494123"
     },
     "execution_count": 31,
     "metadata": {},
     "output_type": "execute_result"
    }
   ],
   "source": [
    "# Best result until now\n",
    "max_case_fatality_probability_2 = df[(df.DATA > valley_2)].OBITOS_NOVOS.sum()/df[(df.DATA > valley_2)].CASOS_NOVOS.sum()\n",
    "max_case_fatality_probability_2"
   ],
   "metadata": {
    "collapsed": false
   }
  },
  {
   "cell_type": "code",
   "execution_count": 32,
   "outputs": [
    {
     "data": {
      "text/plain": "0.005492212787494123"
     },
     "execution_count": 32,
     "metadata": {},
     "output_type": "execute_result"
    }
   ],
   "source": [
    "# Best result until now\n",
    "max_case_fatality_probability_3 = df[(df.DATA > valley_2)].OBITOS_NOVOS.sum()/df[(df.DATA > valley_2)].CASOS_NOVOS.sum()\n",
    "max_case_fatality_probability_3"
   ],
   "metadata": {
    "collapsed": false
   }
  },
  {
   "cell_type": "markdown",
   "source": [
    "### Loss immunity"
   ],
   "metadata": {
    "collapsed": false
   }
  },
  {
   "cell_type": "code",
   "execution_count": 33,
   "outputs": [
    {
     "data": {
      "text/plain": "180"
     },
     "execution_count": 33,
     "metadata": {},
     "output_type": "execute_result"
    }
   ],
   "source": [
    "# Pulliam, Juliet RC, et al. \"Increased risk of SARS-CoV-2 reinfection associated with emergence of Omicron in South Africa.\" Science 376.6593 (2022): eabn4947.\n",
    "# This work report reinfection cases 90 days after first infection. This work also show reinfection peaks 170, 350, and 520 days after last infection.\n",
    "default_loss_immunity_in_days = 180\n",
    "default_loss_immunity_in_days"
   ],
   "metadata": {
    "collapsed": false
   }
  },
  {
   "cell_type": "code",
   "execution_count": 34,
   "outputs": [
    {
     "data": {
      "text/plain": "90"
     },
     "execution_count": 34,
     "metadata": {},
     "output_type": "execute_result"
    }
   ],
   "source": [
    "min_loss_immunity_in_days = 90\n",
    "min_loss_immunity_in_days"
   ],
   "metadata": {
    "collapsed": false
   }
  },
  {
   "cell_type": "code",
   "execution_count": 35,
   "outputs": [
    {
     "data": {
      "text/plain": "365"
     },
     "execution_count": 35,
     "metadata": {},
     "output_type": "execute_result"
    }
   ],
   "source": [
    "max_loss_immunity_in_days = 365\n",
    "max_loss_immunity_in_days"
   ],
   "metadata": {
    "collapsed": false
   }
  },
  {
   "cell_type": "markdown",
   "source": [
    "### Number of initial infections in Brazil"
   ],
   "metadata": {
    "collapsed": false
   }
  },
  {
   "cell_type": "code",
   "execution_count": 36,
   "outputs": [
    {
     "data": {
      "text/plain": "0.00047585709297712263"
     },
     "execution_count": 36,
     "metadata": {},
     "output_type": "execute_result"
    }
   ],
   "source": [
    "min_initial_infected = df[(df.TAXA_CASOS_NOVOS_MEDIA_14_DIAS > 0)].iloc[0].TAXA_CASOS_NOVOS_MEDIA_14_DIAS\n",
    "min_initial_infected"
   ],
   "metadata": {
    "collapsed": false
   }
  },
  {
   "cell_type": "code",
   "execution_count": 37,
   "outputs": [
    {
     "data": {
      "text/plain": "0.1584604119613818"
     },
     "execution_count": 37,
     "metadata": {},
     "output_type": "execute_result"
    }
   ],
   "source": [
    "max_initial_infected = df[df.DATA == date_first_case + timedelta(days=21)].CASOS.values[0] / df.POPULACAO_ESTIMADA[0] * 100000\n",
    "max_initial_infected"
   ],
   "metadata": {
    "collapsed": false
   }
  },
  {
   "cell_type": "code",
   "execution_count": 38,
   "outputs": [
    {
     "data": {
      "text/plain": "333"
     },
     "execution_count": 38,
     "metadata": {},
     "output_type": "execute_result"
    }
   ],
   "source": [
    "df[df.DATA == date_first_case + timedelta(days=21)].CASOS.values[0]"
   ],
   "metadata": {
    "collapsed": false
   }
  },
  {
   "cell_type": "markdown",
   "source": [
    "### Setting bounds"
   ],
   "metadata": {
    "collapsed": false
   }
  },
  {
   "cell_type": "code",
   "execution_count": 39,
   "outputs": [],
   "source": [
    "ruido = 0.000001\n",
    "\n",
    "def create_bound(min, max):\n",
    "    return (min - ruido, max + ruido)"
   ],
   "metadata": {
    "collapsed": false
   }
  },
  {
   "cell_type": "code",
   "execution_count": 40,
   "outputs": [],
   "source": [
    "def get_bounds(days_to_recovey):\n",
    "    bounds_initial_infected_population = create_bound(min_initial_infected, max_initial_infected)\n",
    "\n",
    "    bounds_loss_immunity_in_days = create_bound(min_loss_immunity_in_days, max_loss_immunity_in_days)\n",
    "\n",
    "    min_days_between_infections_0, _, max_days_between_infections_0 = get_days_between_infections_0(days_to_recovey)\n",
    "    bounds_days_between_infections_0 = create_bound(min_days_between_infections_0, max_days_between_infections_0)\n",
    "    bounds_case_fatality_probability_0 = create_bound(min_case_fatality_probability_0, max_case_fatality_probability_0)\n",
    "\n",
    "    min_days_between_infections, _, max_days_between_infections = get_days_between_infections_in_wave(valley_1, peak_2, days_to_recovey)\n",
    "    bounds_days_between_infections_1 = create_bound(min_days_between_infections, max_days_between_infections)\n",
    "    bounds_breakpoint_1 = create_bound(min_breakpoint_1, max_breakpoint_1)\n",
    "\n",
    "    min_days_between_infections, _, max_days_between_infections = get_days_between_infections_in_wave(valley_2, peak_3, days_to_recovey)\n",
    "    bounds_days_between_infections_2 = create_bound(min_days_between_infections, max_days_between_infections)\n",
    "    bounds_breakpoint_2 = create_bound(min_breakpoint_2, max_breakpoint_2)\n",
    "    bounds_case_fatality_probability_2 = create_bound(min_case_fatality_probability_2, max_case_fatality_probability_2)\n",
    "\n",
    "    min_days_between_infections, _, max_days_between_infections = get_days_between_infections_in_wave(valley_3, peak_4, days_to_recovey)\n",
    "    bounds_days_between_infections_3 = create_bound(min_days_between_infections, max_days_between_infections)\n",
    "    bounds_breakpoint_3 = create_bound(min_breakpoint_3, max_breakpoint_3)\n",
    "\n",
    "    bounds_wave_inner_breakpoint_1 = create_bound(min_wave_inner_breakpoint_1, max_wave_inner_breakpoint_1)\n",
    "    min_days_between_infections, _, max_days_between_infections = get_days_between_infections_in_changed_wave(days_to_recovey)\n",
    "    bound_days_between_infections_wave_inner_1 = create_bound(min_days_between_infections, max_days_between_infections)\n",
    "\n",
    "    bounds = [\n",
    "        bounds_initial_infected_population,\n",
    "        bounds_case_fatality_probability_0,\n",
    "        bounds_days_between_infections_0,\n",
    "        bounds_loss_immunity_in_days,\n",
    "        bounds_breakpoint_1,\n",
    "        bounds_days_between_infections_1,\n",
    "        bounds_loss_immunity_in_days,\n",
    "        bounds_breakpoint_2,\n",
    "        bounds_case_fatality_probability_2,\n",
    "        bounds_days_between_infections_2,\n",
    "        bounds_loss_immunity_in_days,\n",
    "        bounds_breakpoint_3,\n",
    "        bounds_days_between_infections_3,\n",
    "        bounds_wave_inner_breakpoint_1,\n",
    "        bound_days_between_infections_wave_inner_1\n",
    "    ]\n",
    "\n",
    "    return bounds"
   ],
   "metadata": {
    "collapsed": false
   }
  },
  {
   "cell_type": "markdown",
   "source": [
    "### Setting initial parameters"
   ],
   "metadata": {
    "collapsed": false
   }
  },
  {
   "cell_type": "code",
   "execution_count": 41,
   "outputs": [],
   "source": [
    "def get_x0(days_to_recovery):\n",
    "    _, days_between_infections_0, _ = get_days_between_infections_0(days_to_recovery)\n",
    "    _, days_between_infections_1, _ = get_days_between_infections_in_wave(valley_1, peak_2, days_to_recovery)\n",
    "    _, days_between_infections_2, _ = get_days_between_infections_in_wave(valley_2, peak_3, days_to_recovery)\n",
    "    _, days_between_infections_3, _ = get_days_between_infections_in_wave(valley_3, peak_4, days_to_recovery)\n",
    "    _, days_between_infections_inner_wave_1, _ = get_days_between_infections_in_changed_wave(days_to_recovery)\n",
    "\n",
    "    x0 = [min_initial_infected,\n",
    "      max_case_fatality_probability_0, days_between_infections_0, default_loss_immunity_in_days,\n",
    "      breakpoint_1, days_between_infections_1, default_loss_immunity_in_days,\n",
    "      breakpoint_2, max_case_fatality_probability_2, days_between_infections_2, default_loss_immunity_in_days,\n",
    "      breakpoint_3, days_between_infections_3, wave_inner_breakpoint_1, days_between_infections_inner_wave_1]\n",
    "\n",
    "    return x0"
   ],
   "metadata": {
    "collapsed": false
   }
  },
  {
   "cell_type": "markdown",
   "source": [
    "### Optimization"
   ],
   "metadata": {
    "collapsed": false
   }
  },
  {
   "cell_type": "code",
   "execution_count": 42,
   "outputs": [],
   "source": [
    "def get_error_deaths_rt(SIRDS_new_deaths, real_new_deaths, SIRDS_effective_reproduction_number, real_effective_reproduction_number):\n",
    "    mae_deaths = mean_absolute_error(real_new_deaths[1:], SIRDS_new_deaths)\n",
    "\n",
    "    indices_to_remove = np.argwhere(np.isnan(real_effective_reproduction_number))\n",
    "    real_effective_reproduction_number = np.delete(real_effective_reproduction_number, indices_to_remove)\n",
    "    SIRDS_effective_reproduction_number = np.delete(SIRDS_effective_reproduction_number, indices_to_remove)\n",
    "\n",
    "    mae_rt = mean_absolute_error(real_effective_reproduction_number, SIRDS_effective_reproduction_number)\n",
    "\n",
    "    error = mae_deaths/real_new_deaths[1:].mean() + mae_rt/ real_effective_reproduction_number.mean()\n",
    "\n",
    "    return error\n",
    "\n",
    "def get_loss_immunity_in_days_3(loss_immunity_in_days_0, loss_immunity_in_days_1, loss_immunity_in_days_2):\n",
    "    loss_immunity_in_days_3 = (loss_immunity_in_days_0 + loss_immunity_in_days_1 + loss_immunity_in_days_2) / 3\n",
    "    return loss_immunity_in_days_3\n",
    "\n",
    "def optimization_brazil_covid_sirds_model(x, *args):\n",
    "    initial_infected_population = x[0]\n",
    "\n",
    "    case_fatality_probability_0 = x[1]\n",
    "    days_between_infections_0 = x[2]\n",
    "    loss_immunity_in_days_0 = x[3]\n",
    "\n",
    "    breakpoint_1 = x[4]\n",
    "    days_between_infections_1 = x[5]\n",
    "    loss_immunity_in_days_1 = x[6]\n",
    "\n",
    "    breakpoint_2 = x[7]\n",
    "    case_fatality_probability_2 = x[8]\n",
    "    days_between_infections_2 = x[9]\n",
    "    loss_immunity_in_days_2 = x[10]\n",
    "\n",
    "    breakpoint_3 = x[11]\n",
    "    days_between_infections_3 = x[12]\n",
    "\n",
    "    wave_inner_breakpoint_1 = x[13]\n",
    "    days_between_infections_inner_wave_1 = x[14]\n",
    "\n",
    "    loss_immunity_in_days_3 = get_loss_immunity_in_days_3(loss_immunity_in_days_0, loss_immunity_in_days_1, loss_immunity_in_days_2)\n",
    "\n",
    "    period_in_days = args[0]\n",
    "    real_new_deaths = args[1]\n",
    "    case_evolution_data = args[2]\n",
    "    days_to_recovery = args[3]\n",
    "\n",
    "    total_population = 100000\n",
    "\n",
    "    y = brazil_covid_sirds_model(initial_infected_population=initial_infected_population, period_in_days=period_in_days, days_between_infections_0=days_between_infections_0, days_to_recovery_0=days_to_recovery, case_fatality_probability_0=case_fatality_probability_0, loss_immunity_in_days_0=loss_immunity_in_days_0, breakpoint_1=breakpoint_1, days_between_infections_1=days_between_infections_1, days_to_recovery_1=days_to_recovery, case_fatality_probability_1=case_fatality_probability_0, loss_immunity_in_days_1=loss_immunity_in_days_1, breakpoint_2=breakpoint_2, days_between_infections_2=days_between_infections_2, days_to_recovery_2=days_to_recovery, case_fatality_probability_2=case_fatality_probability_2, loss_immunity_in_days_2=loss_immunity_in_days_2, breakpoint_3=breakpoint_3, days_between_infections_3=days_between_infections_3, days_to_recovery_3=days_to_recovery, case_fatality_probability_3=case_fatality_probability_2, loss_immunity_in_days_3=loss_immunity_in_days_3, total_population=total_population, wave_inner_breakpoint_1=wave_inner_breakpoint_1, days_between_infections_inner_wave_1=days_between_infections_inner_wave_1)\n",
    "\n",
    "    S, I, R, D, I_accumulated = y\n",
    "    N = S[0] + I[0] + R[0] + D[0]\n",
    "\n",
    "    SIRDS_new_deaths = get_new_deaths(D)\n",
    "\n",
    "    SIRDS_effective_reproduction_number = get_effective_reproduction_number(S, N, days_to_recovery, days_between_infections_0, breakpoint_1, days_to_recovery, days_between_infections_1, breakpoint_2, days_to_recovery, days_between_infections_2, breakpoint_3, days_to_recovery, days_between_infections_3, wave_inner_breakpoint_1, days_between_infections_inner_wave_1)\n",
    "    return get_error_deaths_rt(SIRDS_new_deaths, real_new_deaths, SIRDS_effective_reproduction_number, case_evolution_data)"
   ],
   "metadata": {
    "collapsed": false
   }
  },
  {
   "cell_type": "code",
   "execution_count": 43,
   "outputs": [
    {
     "name": "stdout",
     "output_type": "stream",
     "text": [
      "days_to_recovery: 8\n",
      "Iteração: 0\n",
      "Result\n",
      "0.2718204092236854\n",
      "Iteração: 1\n",
      "Result\n",
      "0.3381131841541069\n",
      "Iteração: 2\n",
      "Result\n",
      "0.34256663952335653\n",
      "Iteração: 3\n",
      "Result\n",
      "0.33794401800042023\n",
      "Iteração: 4\n",
      "Result\n",
      "0.3388475102662005\n",
      "days_to_recovery: 9\n",
      "Iteração: 0\n",
      "Result\n",
      "0.34643619714439067\n",
      "Iteração: 1\n",
      "Result\n",
      "0.34730739978955183\n",
      "Iteração: 2\n",
      "Result\n",
      "0.3469914779864009\n",
      "Iteração: 3\n",
      "Result\n",
      "0.2842872487866711\n",
      "Iteração: 4\n",
      "Result\n",
      "0.2843140996785702\n",
      "days_to_recovery: 10\n",
      "Iteração: 0\n",
      "Result\n",
      "0.3591516011937554\n",
      "Iteração: 1\n",
      "Result\n",
      "0.35971400669416886\n",
      "Iteração: 2\n",
      "Result\n",
      "0.36096250823035037\n",
      "Iteração: 3\n",
      "Result\n",
      "0.3614911292276478\n",
      "Iteração: 4\n",
      "Result\n",
      "0.3583820134887846\n",
      "days_to_recovery: 11\n",
      "Iteração: 0\n",
      "Result\n",
      "0.36877944773616034\n",
      "Iteração: 1\n",
      "Result\n",
      "0.37029776244996054\n",
      "Iteração: 2\n",
      "Result\n",
      "0.3708327289409602\n",
      "Iteração: 3\n",
      "Result\n",
      "0.3688024156188065\n",
      "Iteração: 4\n",
      "Result\n",
      "0.3674644323395223\n",
      "days_to_recovery: 12\n",
      "Iteração: 0\n",
      "Result\n",
      "0.38464417905553117\n",
      "Iteração: 1\n",
      "Result\n",
      "0.38331384169101257\n",
      "Iteração: 2\n",
      "Result\n",
      "0.382107434277493\n",
      "Iteração: 3\n",
      "Result\n",
      "0.32885468761806125\n",
      "Iteração: 4\n",
      "Result\n",
      "0.38456994271522227\n",
      "days_to_recovery: 13\n",
      "Iteração: 0\n",
      "Result\n",
      "0.3981582688634744\n",
      "Iteração: 1\n",
      "Result\n",
      "0.34198376595001456\n",
      "Iteração: 2\n",
      "Result\n",
      "0.3930722600337154\n",
      "Iteração: 3\n",
      "Result\n",
      "0.3936151523300625\n",
      "Iteração: 4\n",
      "Result\n",
      "0.39608114488394136\n",
      "days_to_recovery: 14\n",
      "Iteração: 0\n",
      "Result\n",
      "0.3597699092984723\n",
      "Iteração: 1\n",
      "Result\n",
      "0.4067167852215178\n",
      "Iteração: 2\n",
      "Result\n",
      "0.4105159172215648\n",
      "Iteração: 3\n",
      "Result\n",
      "0.41021392176033034\n",
      "Iteração: 4\n",
      "Result\n",
      "0.4096018010998213\n",
      "days_to_recovery: 15\n",
      "Iteração: 0\n",
      "Result\n",
      "0.4261831315713875\n",
      "Iteração: 1\n",
      "Result\n",
      "0.4270210252584751\n",
      "Iteração: 2\n",
      "Result\n",
      "0.42142931398530425\n",
      "Iteração: 3\n",
      "Result\n",
      "0.42325430773540945\n",
      "Iteração: 4\n",
      "Result\n",
      "0.4246718865918086\n",
      "days_to_recovery: 16\n",
      "Iteração: 0\n",
      "Result\n",
      "0.4354904199398547\n",
      "Iteração: 1\n",
      "Result\n",
      "0.44125217023062274\n",
      "Iteração: 2\n",
      "Result\n",
      "0.4369055788488594\n",
      "Iteração: 3\n",
      "Result\n",
      "0.4369546540126831\n",
      "Iteração: 4\n",
      "Result\n",
      "0.4371890239696631\n",
      "days_to_recovery: 17\n",
      "Iteração: 0\n",
      "Result\n",
      "0.452657543504819\n",
      "Iteração: 1\n",
      "Result\n",
      "0.4551241188616658\n",
      "Iteração: 2\n",
      "Result\n",
      "0.4573084872490133\n",
      "Iteração: 3\n",
      "Result\n",
      "0.45824654634314893\n",
      "Iteração: 4\n",
      "Result\n",
      "0.4516832374025734\n",
      "days_to_recovery: 18\n",
      "Iteração: 0\n",
      "Result\n",
      "0.4667291492727337\n",
      "Iteração: 1\n",
      "Result\n",
      "0.4689098867546623\n",
      "Iteração: 2\n",
      "Result\n",
      "0.4702276278780053\n",
      "Iteração: 3\n",
      "Result\n",
      "0.468751307803992\n",
      "Iteração: 4\n",
      "Result\n",
      "0.46849031668645646\n",
      "days_to_recovery: 19\n",
      "Iteração: 0\n",
      "Result\n",
      "0.4869563161109978\n",
      "Iteração: 1\n",
      "Result\n",
      "0.48564630947364296\n",
      "Iteração: 2\n",
      "Result\n",
      "0.48300530859981905\n",
      "Iteração: 3\n",
      "Result\n",
      "0.4872498271482641\n",
      "Iteração: 4\n",
      "Result\n",
      "0.4870516633461559\n",
      "days_to_recovery: 20\n",
      "Iteração: 0\n",
      "Result\n",
      "0.5008187051036272\n",
      "Iteração: 1\n",
      "Result\n",
      "0.5036558533579965\n",
      "Iteração: 2\n",
      "Result\n",
      "0.5033729120214926\n",
      "Iteração: 3\n",
      "Result\n",
      "0.5033856031241792\n",
      "Iteração: 4\n",
      "Result\n",
      "0.49907965522741965\n",
      "days_to_recovery: 21\n",
      "Iteração: 0\n",
      "Result\n",
      "0.5203829120181196\n",
      "Iteração: 1\n",
      "Result\n",
      "0.516514371417689\n",
      "Iteração: 2\n",
      "Result\n",
      "0.5146258728722286\n",
      "Iteração: 3\n",
      "Result\n",
      "0.514876908881363\n",
      "Iteração: 4\n",
      "Result\n",
      "0.5139928552922954\n",
      "days_to_recovery: 22\n",
      "Iteração: 0\n",
      "Result\n",
      "0.5329359030845846\n",
      "Iteração: 1\n",
      "Result\n",
      "0.5340958819286242\n",
      "Iteração: 2\n",
      "Result\n",
      "0.5316508811692792\n",
      "Iteração: 3\n",
      "Result\n",
      "0.5336494011711177\n",
      "Iteração: 4\n",
      "Result\n",
      "0.5319023186309799\n",
      "days_to_recovery: 23\n",
      "Iteração: 0\n",
      "Result\n",
      "0.5478550797951682\n",
      "Iteração: 1\n",
      "Result\n",
      "0.5470602019403729\n",
      "Iteração: 2\n",
      "Result\n",
      "0.550829739993716\n",
      "Iteração: 3\n",
      "Result\n",
      "0.5492497141969127\n",
      "Iteração: 4\n",
      "Result\n",
      "0.5480530334260263\n",
      "days_to_recovery: 24\n",
      "Iteração: 0\n",
      "Result\n",
      "0.5644466105199156\n",
      "Iteração: 1\n",
      "Result\n",
      "0.5670364576664082\n",
      "Iteração: 2\n",
      "Result\n",
      "0.5631588973195734\n",
      "Iteração: 3\n",
      "Result\n",
      "0.5605309242157877\n",
      "Iteração: 4\n",
      "Result\n",
      "0.5653796028182062\n",
      "days_to_recovery: 25\n",
      "Iteração: 0\n",
      "Result\n",
      "0.577310005217554\n",
      "Iteração: 1\n",
      "Result\n",
      "0.6768163928710145\n",
      "Iteração: 2\n",
      "Result\n",
      "0.5839321992398723\n",
      "Iteração: 3\n",
      "Result\n",
      "0.5806340053250314\n",
      "Iteração: 4\n",
      "Result\n",
      "0.5792913942386346\n",
      "days_to_recovery: 26\n",
      "Iteração: 0\n",
      "Result\n",
      "0.6847163662159516\n",
      "Iteração: 1\n",
      "Result\n",
      "0.5933907097079593\n",
      "Iteração: 2\n",
      "Result\n",
      "0.6856772126934689\n",
      "Iteração: 3\n",
      "Result\n",
      "0.5948091041282175\n",
      "Iteração: 4\n",
      "Result\n",
      "0.6009626473058903\n"
     ]
    }
   ],
   "source": [
    "real_new_deaths = df[df.DATA >= date_first_case].TAXA_OBITOS_NOVOS_MEDIA_14_DIAS.round(6).values\n",
    "\n",
    "case_evolution_data = df[df.DATA >= date_first_case]['NUMERO_REPRODUCAO_EFETIVO_MEDIA'].round(6).values\n",
    "\n",
    "for days_to_recovery in list_days_to_recovery:\n",
    "    print('days_to_recovery: '+str(days_to_recovery))\n",
    "\n",
    "    bounds = get_bounds(days_to_recovery)\n",
    "    x0 = get_x0(days_to_recovery)\n",
    "\n",
    "    df_optimization_result = pd.DataFrame(columns=['error', 'number_evaluations', 'number_iterations', 'initial_infected_population', 'period_in_days', 'days_between_infections_0', 'days_to_recovery_0', 'case_fatality_probability_0', 'loss_immunity_in_days_0', 'breakpoint_1', 'days_between_infections_1', 'days_to_recovery_1', 'case_fatality_probability_1', 'loss_immunity_in_days_1', 'breakpoint_2', 'days_between_infections_2', 'days_to_recovery_2', 'case_fatality_probability_2', 'loss_immunity_in_days_2', 'breakpoint_3', 'days_between_infections_3', 'days_to_recovery_3', 'case_fatality_probability_3', 'loss_immunity_in_days_3', 'wave_inner_breakpoint_1', 'days_between_infections_inner_wave_1'])\n",
    "\n",
    "    args = [period_in_days, real_new_deaths, case_evolution_data, days_to_recovery]\n",
    "\n",
    "    for i in range(5):\n",
    "        print('Iteração: '+str(i))\n",
    "\n",
    "        result = differential_evolution(optimization_brazil_covid_sirds_model, bounds, x0=x0, args=args, maxiter=1000, workers=7, updating='deferred')\n",
    "\n",
    "        loss_immunity_in_days_3 = get_loss_immunity_in_days_3(result.x[3], result.x[7], result.x[11])\n",
    "\n",
    "        print('Result')\n",
    "\n",
    "        print(result.fun)\n",
    "\n",
    "        df_optimization_result = df_optimization_result.append({'error': result.fun, 'number_evaluations': result.nfev, 'number_iterations': result.nit, 'period_in_days': period_in_days, 'initial_infected_population': result.x[0],'case_fatality_probability_0' : result.x[1],'days_to_recovery_0' : days_to_recovery,'days_between_infections_0' : result.x[2],'loss_immunity_in_days_0' : result.x[3], 'breakpoint_1' : result.x[4],'case_fatality_probability_1' : result.x[1],'days_to_recovery_1' : days_to_recovery,'days_between_infections_1' : result.x[5],'loss_immunity_in_days_1' : result.x[6], 'breakpoint_2' : result.x[7],'case_fatality_probability_2' : result.x[8],'days_to_recovery_2' : days_to_recovery,'days_between_infections_2' : result.x[9],'loss_immunity_in_days_2' : result.x[10],'breakpoint_3' : result.x[11],'case_fatality_probability_3' : result.x[8],'days_to_recovery_3' : days_to_recovery,'days_between_infections_3' : result.x[12],'loss_immunity_in_days_3' : loss_immunity_in_days_3, 'wave_inner_breakpoint_1': result.x[13], 'days_between_infections_inner_wave_1': result.x[14]}, ignore_index=True)\n",
    "\n",
    "        df_optimization_result.to_csv('data/output/sirds/df_differential_evolution_national_days_to_recovery_'+str(days_to_recovery)+'.csv', index=False)\n",
    "    with open('data/output/sirds/bounds_'+str(days_to_recovery)+'.csv', 'w') as myfile:\n",
    "        write = csv.writer(myfile)\n",
    "        write.writerows(bounds)"
   ],
   "metadata": {
    "collapsed": false
   }
  }
 ],
 "metadata": {
  "kernelspec": {
   "display_name": "Python 3",
   "language": "python",
   "name": "python3"
  },
  "language_info": {
   "codemirror_mode": {
    "name": "ipython",
    "version": 2
   },
   "file_extension": ".py",
   "mimetype": "text/x-python",
   "name": "python",
   "nbconvert_exporter": "python",
   "pygments_lexer": "ipython2",
   "version": "2.7.6"
  }
 },
 "nbformat": 4,
 "nbformat_minor": 0
}
