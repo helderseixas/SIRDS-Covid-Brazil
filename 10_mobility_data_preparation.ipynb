{
 "cells": [
  {
   "cell_type": "markdown",
   "source": [
    "# Prepare mobility data"
   ],
   "metadata": {
    "collapsed": false
   }
  },
  {
   "cell_type": "code",
   "execution_count": 1,
   "outputs": [],
   "source": [
    "import os\n",
    "import pandas as pd"
   ],
   "metadata": {
    "collapsed": false,
    "ExecuteTime": {
     "end_time": "2023-07-07T19:06:19.038954208Z",
     "start_time": "2023-07-07T19:06:19.036944884Z"
    }
   }
  },
  {
   "cell_type": "code",
   "execution_count": null,
   "metadata": {
    "collapsed": true
   },
   "outputs": [],
   "source": [
    "directory_mobility_path = 'data/input/mobility/'\n",
    "directory_mobility = os.fsencode(directory_mobility_path)\n",
    "df_mobilidade = pd.DataFrame()\n",
    "for file in os.listdir(directory_mobility):\n",
    "    filename = directory_mobility_path + os.fsdecode(file)\n",
    "    df_temp = pd.read_csv(filename, usecols=[2, 3, 8, 9, 10, 11, 12, 13, 14])\n",
    "    df_mobilidade = pd.concat([df_mobilidade, df_temp])\n",
    "\n",
    "df_mobilidade.columns = ['ESTADO', 'MUNICIPIO', 'DATA', 'PERCENTUAL_VARIACAO_VISITAS_VAREJO_LAZER', 'PERCENTUAL_VARIACAO_VISITAS_MERCADOS_FARMACIAS', 'PERCENTUAL_VARIACAO_VISITAS_PARQUES', 'PERCENTUAL_VARIACAO_VISITAS_ESTACAO_TRANSPORTE',\n",
    "                         'PERCENTUAL_VARIACAO_VISITAS_LOCAIS_TRABALHO', 'PERCENTUAL_VARIACAO_PERMANENCIA_RESIDENCIAS']"
   ]
  },
  {
   "cell_type": "code",
   "execution_count": null,
   "outputs": [],
   "source": [
    "df_mobilidade_nacional = df_mobilidade[(df_mobilidade.ESTADO.isnull()) & (df_mobilidade.MUNICIPIO.isnull())][['DATA', 'PERCENTUAL_VARIACAO_VISITAS_VAREJO_LAZER', 'PERCENTUAL_VARIACAO_VISITAS_MERCADOS_FARMACIAS', 'PERCENTUAL_VARIACAO_VISITAS_PARQUES', 'PERCENTUAL_VARIACAO_VISITAS_ESTACAO_TRANSPORTE',\n",
    "                         'PERCENTUAL_VARIACAO_VISITAS_LOCAIS_TRABALHO', 'PERCENTUAL_VARIACAO_PERMANENCIA_RESIDENCIAS']]\n",
    "df_mobilidade_nacional.to_csv('data/output/df_mobilidade_nacional.csv', index=False)"
   ],
   "metadata": {
    "collapsed": false
   }
  }
 ],
 "metadata": {
  "kernelspec": {
   "display_name": "Python 3",
   "language": "python",
   "name": "python3"
  },
  "language_info": {
   "codemirror_mode": {
    "name": "ipython",
    "version": 2
   },
   "file_extension": ".py",
   "mimetype": "text/x-python",
   "name": "python",
   "nbconvert_exporter": "python",
   "pygments_lexer": "ipython2",
   "version": "2.7.6"
  }
 },
 "nbformat": 4,
 "nbformat_minor": 0
}
