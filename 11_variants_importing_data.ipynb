{
 "cells": [
  {
   "cell_type": "markdown",
   "source": [
    "# Importing data about variants detection in Brazil\n",
    "Source: https://gisaid.org"
   ],
   "metadata": {
    "collapsed": false
   },
   "id": "41d25b94ca5b024f"
  },
  {
   "cell_type": "code",
   "execution_count": 46,
   "outputs": [],
   "source": [
    "import  pandas as pd\n",
    "import numpy as np"
   ],
   "metadata": {
    "collapsed": false,
    "ExecuteTime": {
     "end_time": "2023-11-24T17:32:44.025828462Z",
     "start_time": "2023-11-24T17:32:43.921804682Z"
    }
   },
   "id": "d70a6d111a1bfd4f"
  },
  {
   "cell_type": "markdown",
   "source": [
    "## Loading data"
   ],
   "metadata": {
    "collapsed": false
   },
   "id": "40ff23f151677fca"
  },
  {
   "cell_type": "code",
   "execution_count": 47,
   "outputs": [],
   "source": [
    "excel_file_path = 'data/input/gisaid_variants_statistics_2023_11_23_1644.xlsx'\n",
    "all_dfs = pd.read_excel(excel_file_path, sheet_name=None)"
   ],
   "metadata": {
    "collapsed": false,
    "ExecuteTime": {
     "end_time": "2023-11-24T17:32:47.464421481Z",
     "start_time": "2023-11-24T17:32:43.966615982Z"
    }
   },
   "id": "3d034ac5de889c66"
  },
  {
   "cell_type": "code",
   "execution_count": 48,
   "outputs": [],
   "source": [
    "variants = np.array(list(all_dfs.keys()))[1:]"
   ],
   "metadata": {
    "collapsed": false,
    "ExecuteTime": {
     "end_time": "2023-11-24T17:32:47.471072767Z",
     "start_time": "2023-11-24T17:32:47.466861318Z"
    }
   },
   "id": "4eaa0671e96152b"
  },
  {
   "cell_type": "markdown",
   "source": [
    "## Treating data"
   ],
   "metadata": {
    "collapsed": false
   },
   "id": "9e1650e1f99955be"
  },
  {
   "cell_type": "code",
   "execution_count": 96,
   "outputs": [
    {
     "name": "stdout",
     "output_type": "stream",
     "text": [
      "VOC Omicron\n",
      "VOC Delta\n",
      "VOC Alpha\n",
      "VOC Beta\n",
      "VOC Gamma\n",
      "VOI Epsilon\n",
      "There is not register of this variant for Brazil\n",
      "VOI Zeta\n",
      "VOI Eta\n",
      "VOI Theta\n",
      "There is not register of this variant for Brazil\n",
      "VOI Iota\n",
      "There is not register of this variant for Brazil\n",
      "VOI Kappa\n",
      "There is not register of this variant for Brazil\n",
      "VOI Lambda\n"
     ]
    }
   ],
   "source": [
    "df = pd.DataFrame()\n",
    "for variant in variants:\n",
    "    print(variant)\n",
    "    df_variant = all_dfs[variant]\n",
    "    df_variant = df_variant.rename(columns={df_variant.columns[0]: 'country'})\n",
    "    try:\n",
    "        brazil_index = df_variant[df_variant.country == 'Brazil'].index[0]\n",
    "        df_variant = df_variant.loc[brazil_index:brazil_index+1].drop(columns=df_variant.columns[:2]).T\n",
    "        df_variant.columns = ['count', 'total']\n",
    "        df_variant = df_variant.dropna()\n",
    "        df_variant[variant + ' percentual_share'] = df_variant['count'] / df_variant['total'] * 100\n",
    "        df_variant.index = pd.to_datetime(df_variant.index)\n",
    "        df_variant = df_variant.drop(columns=['count','total'])\n",
    "        df = df.merge(df_variant, left_index=True, right_index=True, how='outer')\n",
    "    except IndexError:\n",
    "        print('There is not register of this variant for Brazil')\n",
    "df = df.fillna(0)\n",
    "df = df.reset_index()\n",
    "df = df.rename(columns={'index': 'date'})\n",
    "df = df[df.date <= pd.to_datetime('2022-12-31')]"
   ],
   "metadata": {
    "collapsed": false,
    "ExecuteTime": {
     "end_time": "2023-11-24T17:54:50.781818706Z",
     "start_time": "2023-11-24T17:54:50.720854915Z"
    }
   },
   "id": "5af536b453b0523c"
  },
  {
   "cell_type": "markdown",
   "source": [
    "## Saving data"
   ],
   "metadata": {
    "collapsed": false
   },
   "id": "d8aed3b58d4eb463"
  },
  {
   "cell_type": "code",
   "execution_count": 99,
   "outputs": [],
   "source": [
    "df.to_csv('data/output/covid_variant_share.csv', index=False)"
   ],
   "metadata": {
    "collapsed": false,
    "ExecuteTime": {
     "end_time": "2023-11-24T17:56:33.695907093Z",
     "start_time": "2023-11-24T17:56:33.665320050Z"
    }
   },
   "id": "51fc24256f2a2b20"
  },
  {
   "cell_type": "code",
   "execution_count": 100,
   "outputs": [
    {
     "data": {
      "text/plain": "          date  VOC Omicron percentual_share  VOC Delta percentual_share  \\\n0   2020-04-19                      0.000000                         0.0   \n1   2020-05-03                      0.000000                         0.0   \n2   2020-05-10                      0.000000                         0.0   \n3   2020-05-31                      0.000000                         0.0   \n4   2020-06-28                      0.000000                         0.0   \n..         ...                           ...                         ...   \n129 2022-11-27                     96.405063                         0.0   \n130 2022-12-04                     96.732726                         0.0   \n131 2022-12-11                     96.011561                         0.0   \n132 2022-12-18                     94.032787                         0.0   \n133 2022-12-25                     90.708812                         0.0   \n\n     VOC Alpha percentual_share  VOC Beta percentual_share  \\\n0                           0.0                        0.0   \n1                           0.0                        0.0   \n2                           0.0                        0.0   \n3                           0.0                        0.0   \n4                           0.0                        0.0   \n..                          ...                        ...   \n129                         0.0                        0.0   \n130                         0.0                        0.0   \n131                         0.0                        0.0   \n132                         0.0                        0.0   \n133                         0.0                        0.0   \n\n     VOC Gamma percentual_share  VOI Zeta percentual_share  \\\n0                      0.000000                   0.576369   \n1                      0.452489                   0.452489   \n2                      1.219512                   0.609756   \n3                      0.000000                   0.666667   \n4                      0.000000                   0.400000   \n..                          ...                        ...   \n129                    0.000000                   0.000000   \n130                    0.000000                   0.000000   \n131                    0.000000                   0.000000   \n132                    0.000000                   0.000000   \n133                    0.000000                   0.000000   \n\n     VOI Eta percentual_share  VOI Lambda percentual_share  \n0                         0.0                          0.0  \n1                         0.0                          0.0  \n2                         0.0                          0.0  \n3                         0.0                          0.0  \n4                         0.0                          0.0  \n..                        ...                          ...  \n129                       0.0                          0.0  \n130                       0.0                          0.0  \n131                       0.0                          0.0  \n132                       0.0                          0.0  \n133                       0.0                          0.0  \n\n[134 rows x 9 columns]",
      "text/html": "<div>\n<style scoped>\n    .dataframe tbody tr th:only-of-type {\n        vertical-align: middle;\n    }\n\n    .dataframe tbody tr th {\n        vertical-align: top;\n    }\n\n    .dataframe thead th {\n        text-align: right;\n    }\n</style>\n<table border=\"1\" class=\"dataframe\">\n  <thead>\n    <tr style=\"text-align: right;\">\n      <th></th>\n      <th>date</th>\n      <th>VOC Omicron percentual_share</th>\n      <th>VOC Delta percentual_share</th>\n      <th>VOC Alpha percentual_share</th>\n      <th>VOC Beta percentual_share</th>\n      <th>VOC Gamma percentual_share</th>\n      <th>VOI Zeta percentual_share</th>\n      <th>VOI Eta percentual_share</th>\n      <th>VOI Lambda percentual_share</th>\n    </tr>\n  </thead>\n  <tbody>\n    <tr>\n      <th>0</th>\n      <td>2020-04-19</td>\n      <td>0.000000</td>\n      <td>0.0</td>\n      <td>0.0</td>\n      <td>0.0</td>\n      <td>0.000000</td>\n      <td>0.576369</td>\n      <td>0.0</td>\n      <td>0.0</td>\n    </tr>\n    <tr>\n      <th>1</th>\n      <td>2020-05-03</td>\n      <td>0.000000</td>\n      <td>0.0</td>\n      <td>0.0</td>\n      <td>0.0</td>\n      <td>0.452489</td>\n      <td>0.452489</td>\n      <td>0.0</td>\n      <td>0.0</td>\n    </tr>\n    <tr>\n      <th>2</th>\n      <td>2020-05-10</td>\n      <td>0.000000</td>\n      <td>0.0</td>\n      <td>0.0</td>\n      <td>0.0</td>\n      <td>1.219512</td>\n      <td>0.609756</td>\n      <td>0.0</td>\n      <td>0.0</td>\n    </tr>\n    <tr>\n      <th>3</th>\n      <td>2020-05-31</td>\n      <td>0.000000</td>\n      <td>0.0</td>\n      <td>0.0</td>\n      <td>0.0</td>\n      <td>0.000000</td>\n      <td>0.666667</td>\n      <td>0.0</td>\n      <td>0.0</td>\n    </tr>\n    <tr>\n      <th>4</th>\n      <td>2020-06-28</td>\n      <td>0.000000</td>\n      <td>0.0</td>\n      <td>0.0</td>\n      <td>0.0</td>\n      <td>0.000000</td>\n      <td>0.400000</td>\n      <td>0.0</td>\n      <td>0.0</td>\n    </tr>\n    <tr>\n      <th>...</th>\n      <td>...</td>\n      <td>...</td>\n      <td>...</td>\n      <td>...</td>\n      <td>...</td>\n      <td>...</td>\n      <td>...</td>\n      <td>...</td>\n      <td>...</td>\n    </tr>\n    <tr>\n      <th>129</th>\n      <td>2022-11-27</td>\n      <td>96.405063</td>\n      <td>0.0</td>\n      <td>0.0</td>\n      <td>0.0</td>\n      <td>0.000000</td>\n      <td>0.000000</td>\n      <td>0.0</td>\n      <td>0.0</td>\n    </tr>\n    <tr>\n      <th>130</th>\n      <td>2022-12-04</td>\n      <td>96.732726</td>\n      <td>0.0</td>\n      <td>0.0</td>\n      <td>0.0</td>\n      <td>0.000000</td>\n      <td>0.000000</td>\n      <td>0.0</td>\n      <td>0.0</td>\n    </tr>\n    <tr>\n      <th>131</th>\n      <td>2022-12-11</td>\n      <td>96.011561</td>\n      <td>0.0</td>\n      <td>0.0</td>\n      <td>0.0</td>\n      <td>0.000000</td>\n      <td>0.000000</td>\n      <td>0.0</td>\n      <td>0.0</td>\n    </tr>\n    <tr>\n      <th>132</th>\n      <td>2022-12-18</td>\n      <td>94.032787</td>\n      <td>0.0</td>\n      <td>0.0</td>\n      <td>0.0</td>\n      <td>0.000000</td>\n      <td>0.000000</td>\n      <td>0.0</td>\n      <td>0.0</td>\n    </tr>\n    <tr>\n      <th>133</th>\n      <td>2022-12-25</td>\n      <td>90.708812</td>\n      <td>0.0</td>\n      <td>0.0</td>\n      <td>0.0</td>\n      <td>0.000000</td>\n      <td>0.000000</td>\n      <td>0.0</td>\n      <td>0.0</td>\n    </tr>\n  </tbody>\n</table>\n<p>134 rows × 9 columns</p>\n</div>"
     },
     "execution_count": 100,
     "metadata": {},
     "output_type": "execute_result"
    }
   ],
   "source": [
    "df"
   ],
   "metadata": {
    "collapsed": false,
    "ExecuteTime": {
     "end_time": "2023-11-24T17:56:34.892959031Z",
     "start_time": "2023-11-24T17:56:34.887223040Z"
    }
   },
   "id": "4a4048e96d31c529"
  }
 ],
 "metadata": {
  "kernelspec": {
   "display_name": "Python 3",
   "language": "python",
   "name": "python3"
  },
  "language_info": {
   "codemirror_mode": {
    "name": "ipython",
    "version": 2
   },
   "file_extension": ".py",
   "mimetype": "text/x-python",
   "name": "python",
   "nbconvert_exporter": "python",
   "pygments_lexer": "ipython2",
   "version": "2.7.6"
  }
 },
 "nbformat": 4,
 "nbformat_minor": 5
}
