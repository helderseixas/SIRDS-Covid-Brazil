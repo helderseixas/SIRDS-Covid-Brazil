{
 "cells": [
  {
   "cell_type": "markdown",
   "source": [
    "# Persisting series of SIRDS model"
   ],
   "metadata": {
    "collapsed": false
   }
  },
  {
   "cell_type": "code",
   "execution_count": 1,
   "metadata": {
    "collapsed": true,
    "ExecuteTime": {
     "end_time": "2023-12-05T20:06:13.593828724Z",
     "start_time": "2023-12-05T20:06:13.345414870Z"
    }
   },
   "outputs": [],
   "source": [
    "import numpy as np\n",
    "import pandas as pd\n",
    "import datetime\n",
    "\n",
    "from sirds_model_visualization import get_sirds, get_sirds_extras"
   ]
  },
  {
   "cell_type": "markdown",
   "source": [
    "## Reading data"
   ],
   "metadata": {
    "collapsed": false
   }
  },
  {
   "cell_type": "code",
   "execution_count": 2,
   "outputs": [],
   "source": [
    "df = pd.read_csv('data/output/df_ts_epidemic_episodes.csv', index_col=0)\n",
    "df.DATA = pd.to_datetime(df.DATA)"
   ],
   "metadata": {
    "collapsed": false,
    "ExecuteTime": {
     "end_time": "2023-12-05T20:06:13.619771933Z",
     "start_time": "2023-12-05T20:06:13.596699683Z"
    }
   }
  },
  {
   "cell_type": "code",
   "execution_count": 3,
   "outputs": [],
   "source": [
    "df['TAXA_CASOS_NOVOS_MEDIA_MOVEL_7_DIAS_PAINEL'] = df.CASOS_NOVOS_MEDIA_MOVEL_7_DIAS_PAINEL / df.POPULACAO_2022 * 100000"
   ],
   "metadata": {
    "collapsed": false,
    "ExecuteTime": {
     "end_time": "2023-12-05T20:06:13.633759792Z",
     "start_time": "2023-12-05T20:06:13.618926559Z"
    }
   }
  },
  {
   "cell_type": "code",
   "execution_count": 4,
   "outputs": [],
   "source": [
    "df_results = pd.read_csv('data/output/estimation_results.csv')\n",
    "df_results['date_first_case'] = df_results['date_first_case'].str[:11]\n",
    "df_results.date_first_case = pd.to_datetime(df_results['date_first_case'], errors='coerce')\n",
    "df_results['date_first_case'] = df_results['date_first_case'].fillna(df_results['date_first_case'].min())"
   ],
   "metadata": {
    "collapsed": false,
    "ExecuteTime": {
     "end_time": "2023-12-05T20:06:13.727731127Z",
     "start_time": "2023-12-05T20:06:13.673187268Z"
    }
   }
  },
  {
   "cell_type": "code",
   "execution_count": 5,
   "outputs": [],
   "source": [
    "df_results_outbreak_0 = pd.read_csv('data/output/estimation_results_outbreak_0.csv')\n",
    "df_results_outbreak_0['date_first_case'] = df_results_outbreak_0['date_first_case'].str[:11]\n",
    "df_results_outbreak_0.date_first_case = pd.to_datetime(df_results_outbreak_0['date_first_case'], errors='coerce')\n",
    "df_results_outbreak_0['date_first_case'] = df_results_outbreak_0['date_first_case'].fillna(df_results_outbreak_0['date_first_case'].min())"
   ],
   "metadata": {
    "collapsed": false,
    "ExecuteTime": {
     "end_time": "2023-12-05T20:06:13.728145970Z",
     "start_time": "2023-12-05T20:06:13.717296355Z"
    }
   }
  },
  {
   "cell_type": "code",
   "execution_count": 6,
   "outputs": [],
   "source": [
    "df_results_outbreak_0_days_to_fit_21 = df_results[(df_results.outbreak == 0) & (df_results.alpha == 0)].copy()\n",
    "df_results_outbreak_0_days_to_fit_21['days_to_fit_within_outbreak'] = 21\n",
    "df_results_outbreak_0 = pd.concat([df_results_outbreak_0, df_results_outbreak_0_days_to_fit_21])"
   ],
   "metadata": {
    "collapsed": false,
    "ExecuteTime": {
     "end_time": "2023-12-05T20:06:13.728418009Z",
     "start_time": "2023-12-05T20:06:13.717452129Z"
    }
   }
  },
  {
   "cell_type": "code",
   "execution_count": 7,
   "outputs": [
    {
     "data": {
      "text/plain": "array([21., 28., 35., 42., 49., 56.])"
     },
     "execution_count": 7,
     "metadata": {},
     "output_type": "execute_result"
    }
   ],
   "source": [
    "df_results_outbreak_0 = df_results_outbreak_0.sort_values(['days_to_fit_within_outbreak', 'estimation'])\n",
    "df_results_outbreak_0.days_to_fit_within_outbreak.unique()"
   ],
   "metadata": {
    "collapsed": false,
    "ExecuteTime": {
     "end_time": "2023-12-05T20:06:13.771568954Z",
     "start_time": "2023-12-05T20:06:13.717569327Z"
    }
   }
  },
  {
   "cell_type": "markdown",
   "source": [
    "## Executing simulations"
   ],
   "metadata": {
    "collapsed": false
   }
  },
  {
   "cell_type": "code",
   "execution_count": 8,
   "outputs": [],
   "source": [
    "def execute_simulations(df_results):\n",
    "    df_sirds = pd.DataFrame()\n",
    "    \n",
    "    for index, result in df_results.iterrows():\n",
    "        result = result.dropna()\n",
    "        \n",
    "        y = get_sirds(result)\n",
    "        S, I, R, D, I_accumulated = y\n",
    "        S = S[:]\n",
    "        I = I[:]\n",
    "        R = R[:]\n",
    "        D = D[:]\n",
    "        I_accumulated = I_accumulated[:]\n",
    "        N = S[0] + I[0] + R[0] + D[0]\n",
    "       \n",
    "        D_new_deaths, reproduction_number_sird, I_new_cases, epidemic_periods_with_fast_transition_fuzzy_variable, epidemic_periods_with_slow_transition_fuzzy_variable, days_between_infections_values, case_fatality_probability_values, loss_immunity_in_days_values, estimated_days_between_infections, estimated_case_fatality_probability, estimated_loss_immunity_in_days = get_sirds_extras(result, S, D, I_accumulated)\n",
    "        \n",
    "        date_first_case = result.date_first_case \n",
    "        period_in_days = int(result.period_in_days)\n",
    "        max_date_to_fit = pd.to_datetime(result.max_date_to_fit)\n",
    "        train_period = (max_date_to_fit - date_first_case).days + 1\n",
    "        \n",
    "        date_list = [result.date_first_case + datetime.timedelta(days=i) for i in range(period_in_days)]\n",
    "        D_new_deaths = np.append([None], D_new_deaths)\n",
    "        I_new_cases = np.append([None], I_new_cases)\n",
    "        \n",
    "        df_temp = pd.DataFrame({\n",
    "                    'date': date_list,\n",
    "                    'S': S,\n",
    "                    'I': I,\n",
    "                    'R': R,\n",
    "                    'D': D,\n",
    "                    'I_accumulated': I_accumulated,\n",
    "                    'D_new_deaths': D_new_deaths,\n",
    "                    'reproduction_number_sird': reproduction_number_sird,\n",
    "                    'I_new_cases': I_new_cases,\n",
    "                    'days_between_infections': estimated_days_between_infections,\n",
    "                    'case_fatality_probability': estimated_case_fatality_probability,\n",
    "                    'loss_immunity_in_days': estimated_loss_immunity_in_days\n",
    "                })\n",
    "        \n",
    "        df_temp['train_period'] = None\n",
    "        df_temp['train_period'] = df_temp['train_period'].astype(bool)\n",
    "        df_temp.loc[:train_period,'train_period'] = True\n",
    "        df_temp.loc[train_period:,'train_period'] = False\n",
    "        \n",
    "        df_temp['outbreak'] = result.outbreak\n",
    "        df_temp['alpha'] = result.alpha\n",
    "        df_temp['estimation'] = result.estimation\n",
    "        try:\n",
    "            df_temp['days_to_fit_within_outbreak'] = result['days_to_fit_within_outbreak']\n",
    "        except KeyError:\n",
    "            pass\n",
    "                    \n",
    "        df_sirds = pd.concat([df_sirds, df_temp], ignore_index=True)\n",
    "    \n",
    "    return df_sirds"
   ],
   "metadata": {
    "collapsed": false,
    "ExecuteTime": {
     "end_time": "2023-12-05T20:06:13.771919473Z",
     "start_time": "2023-12-05T20:06:13.761340988Z"
    }
   }
  },
  {
   "cell_type": "code",
   "execution_count": 9,
   "outputs": [],
   "source": [
    "df_sirds = execute_simulations(df_results)"
   ],
   "metadata": {
    "collapsed": false,
    "ExecuteTime": {
     "end_time": "2023-12-05T20:07:27.279164915Z",
     "start_time": "2023-12-05T20:06:13.770980419Z"
    }
   }
  },
  {
   "cell_type": "code",
   "execution_count": 10,
   "outputs": [],
   "source": [
    "df_sirds_outbreak_0 = execute_simulations(df_results_outbreak_0)"
   ],
   "metadata": {
    "collapsed": false,
    "ExecuteTime": {
     "end_time": "2023-12-05T20:07:30.081623272Z",
     "start_time": "2023-12-05T20:07:27.321261947Z"
    }
   }
  },
  {
   "cell_type": "code",
   "execution_count": 11,
   "outputs": [
    {
     "data": {
      "text/plain": "            date             S            I            R          D  \\\n0     2020-02-16  99999.988027     0.011973     0.000000   0.000000   \n1     2020-02-17  99999.983885     0.014470     0.001637   0.000008   \n2     2020-02-18  99999.978885     0.017489     0.003608   0.000018   \n3     2020-02-19  99999.972850     0.021136     0.005984   0.000031   \n4     2020-02-20  99999.965561     0.025544     0.008850   0.000045   \n...          ...           ...          ...          ...        ...   \n17215 2020-07-21  92377.064744  1344.481610  6214.657834  63.795812   \n17216 2020-07-22  92237.985303  1361.887273  6334.987594  65.139830   \n17217 2020-07-23  92097.713259  1379.230514  6456.555150  66.501078   \n17218 2020-07-24  91956.274952  1396.500735  6579.344807  67.879505   \n17219 2020-07-25  91813.696724  1413.687341  6703.340872  69.275062   \n\n       I_accumulated D_new_deaths  reproduction_number_sird I_new_cases  \\\n0           0.011973         None                  2.515196        None   \n1           0.016119     0.000008                  2.515196    0.004146   \n2           0.021129      0.00001                  2.515196     0.00501   \n3           0.027183     0.000012                  2.515195    0.006054   \n4           0.034501     0.000015                  2.515195    0.007318   \n...              ...          ...                       ...         ...   \n17215    9373.383359      1.32674                  1.105381  184.431873   \n17216    9559.937955     1.344019                  1.103734  186.554596   \n17217    9748.598451     1.361248                  1.102072  188.660497   \n17218    9939.348027     1.378427                  1.100396  190.749575   \n17219   10132.169859     1.395557                  1.098706  192.821832   \n\n       days_between_infections  case_fatality_probability  \\\n0                     3.180667                   0.005061   \n1                     3.180667                   0.005061   \n2                     3.180667                   0.005061   \n3                     3.180667                   0.005061   \n4                     3.180667                   0.005061   \n...                        ...                        ...   \n17215                 6.695604                   0.007946   \n17216                 6.695604                   0.007946   \n17217                 6.695604                   0.007946   \n17218                 6.695604                   0.007946   \n17219                 6.695604                   0.007946   \n\n       loss_immunity_in_days  train_period  outbreak  alpha  estimation  \\\n0                 250.947207          True       0.0    0.0         0.0   \n1                 250.947207          True       0.0    0.0         0.0   \n2                 250.947207          True       0.0    0.0         0.0   \n3                 250.947207          True       0.0    0.0         0.0   \n4                 250.947207          True       0.0    0.0         0.0   \n...                      ...           ...       ...    ...         ...   \n17215             132.183860         False       0.0    0.0        19.0   \n17216             132.183860         False       0.0    0.0        19.0   \n17217             132.183860         False       0.0    0.0        19.0   \n17218             132.183860         False       0.0    0.0        19.0   \n17219             132.183860         False       0.0    0.0        19.0   \n\n       days_to_fit_within_outbreak  \n0                             21.0  \n1                             21.0  \n2                             21.0  \n3                             21.0  \n4                             21.0  \n...                            ...  \n17215                         56.0  \n17216                         56.0  \n17217                         56.0  \n17218                         56.0  \n17219                         56.0  \n\n[17220 rows x 17 columns]",
      "text/html": "<div>\n<style scoped>\n    .dataframe tbody tr th:only-of-type {\n        vertical-align: middle;\n    }\n\n    .dataframe tbody tr th {\n        vertical-align: top;\n    }\n\n    .dataframe thead th {\n        text-align: right;\n    }\n</style>\n<table border=\"1\" class=\"dataframe\">\n  <thead>\n    <tr style=\"text-align: right;\">\n      <th></th>\n      <th>date</th>\n      <th>S</th>\n      <th>I</th>\n      <th>R</th>\n      <th>D</th>\n      <th>I_accumulated</th>\n      <th>D_new_deaths</th>\n      <th>reproduction_number_sird</th>\n      <th>I_new_cases</th>\n      <th>days_between_infections</th>\n      <th>case_fatality_probability</th>\n      <th>loss_immunity_in_days</th>\n      <th>train_period</th>\n      <th>outbreak</th>\n      <th>alpha</th>\n      <th>estimation</th>\n      <th>days_to_fit_within_outbreak</th>\n    </tr>\n  </thead>\n  <tbody>\n    <tr>\n      <th>0</th>\n      <td>2020-02-16</td>\n      <td>99999.988027</td>\n      <td>0.011973</td>\n      <td>0.000000</td>\n      <td>0.000000</td>\n      <td>0.011973</td>\n      <td>None</td>\n      <td>2.515196</td>\n      <td>None</td>\n      <td>3.180667</td>\n      <td>0.005061</td>\n      <td>250.947207</td>\n      <td>True</td>\n      <td>0.0</td>\n      <td>0.0</td>\n      <td>0.0</td>\n      <td>21.0</td>\n    </tr>\n    <tr>\n      <th>1</th>\n      <td>2020-02-17</td>\n      <td>99999.983885</td>\n      <td>0.014470</td>\n      <td>0.001637</td>\n      <td>0.000008</td>\n      <td>0.016119</td>\n      <td>0.000008</td>\n      <td>2.515196</td>\n      <td>0.004146</td>\n      <td>3.180667</td>\n      <td>0.005061</td>\n      <td>250.947207</td>\n      <td>True</td>\n      <td>0.0</td>\n      <td>0.0</td>\n      <td>0.0</td>\n      <td>21.0</td>\n    </tr>\n    <tr>\n      <th>2</th>\n      <td>2020-02-18</td>\n      <td>99999.978885</td>\n      <td>0.017489</td>\n      <td>0.003608</td>\n      <td>0.000018</td>\n      <td>0.021129</td>\n      <td>0.00001</td>\n      <td>2.515196</td>\n      <td>0.00501</td>\n      <td>3.180667</td>\n      <td>0.005061</td>\n      <td>250.947207</td>\n      <td>True</td>\n      <td>0.0</td>\n      <td>0.0</td>\n      <td>0.0</td>\n      <td>21.0</td>\n    </tr>\n    <tr>\n      <th>3</th>\n      <td>2020-02-19</td>\n      <td>99999.972850</td>\n      <td>0.021136</td>\n      <td>0.005984</td>\n      <td>0.000031</td>\n      <td>0.027183</td>\n      <td>0.000012</td>\n      <td>2.515195</td>\n      <td>0.006054</td>\n      <td>3.180667</td>\n      <td>0.005061</td>\n      <td>250.947207</td>\n      <td>True</td>\n      <td>0.0</td>\n      <td>0.0</td>\n      <td>0.0</td>\n      <td>21.0</td>\n    </tr>\n    <tr>\n      <th>4</th>\n      <td>2020-02-20</td>\n      <td>99999.965561</td>\n      <td>0.025544</td>\n      <td>0.008850</td>\n      <td>0.000045</td>\n      <td>0.034501</td>\n      <td>0.000015</td>\n      <td>2.515195</td>\n      <td>0.007318</td>\n      <td>3.180667</td>\n      <td>0.005061</td>\n      <td>250.947207</td>\n      <td>True</td>\n      <td>0.0</td>\n      <td>0.0</td>\n      <td>0.0</td>\n      <td>21.0</td>\n    </tr>\n    <tr>\n      <th>...</th>\n      <td>...</td>\n      <td>...</td>\n      <td>...</td>\n      <td>...</td>\n      <td>...</td>\n      <td>...</td>\n      <td>...</td>\n      <td>...</td>\n      <td>...</td>\n      <td>...</td>\n      <td>...</td>\n      <td>...</td>\n      <td>...</td>\n      <td>...</td>\n      <td>...</td>\n      <td>...</td>\n      <td>...</td>\n    </tr>\n    <tr>\n      <th>17215</th>\n      <td>2020-07-21</td>\n      <td>92377.064744</td>\n      <td>1344.481610</td>\n      <td>6214.657834</td>\n      <td>63.795812</td>\n      <td>9373.383359</td>\n      <td>1.32674</td>\n      <td>1.105381</td>\n      <td>184.431873</td>\n      <td>6.695604</td>\n      <td>0.007946</td>\n      <td>132.183860</td>\n      <td>False</td>\n      <td>0.0</td>\n      <td>0.0</td>\n      <td>19.0</td>\n      <td>56.0</td>\n    </tr>\n    <tr>\n      <th>17216</th>\n      <td>2020-07-22</td>\n      <td>92237.985303</td>\n      <td>1361.887273</td>\n      <td>6334.987594</td>\n      <td>65.139830</td>\n      <td>9559.937955</td>\n      <td>1.344019</td>\n      <td>1.103734</td>\n      <td>186.554596</td>\n      <td>6.695604</td>\n      <td>0.007946</td>\n      <td>132.183860</td>\n      <td>False</td>\n      <td>0.0</td>\n      <td>0.0</td>\n      <td>19.0</td>\n      <td>56.0</td>\n    </tr>\n    <tr>\n      <th>17217</th>\n      <td>2020-07-23</td>\n      <td>92097.713259</td>\n      <td>1379.230514</td>\n      <td>6456.555150</td>\n      <td>66.501078</td>\n      <td>9748.598451</td>\n      <td>1.361248</td>\n      <td>1.102072</td>\n      <td>188.660497</td>\n      <td>6.695604</td>\n      <td>0.007946</td>\n      <td>132.183860</td>\n      <td>False</td>\n      <td>0.0</td>\n      <td>0.0</td>\n      <td>19.0</td>\n      <td>56.0</td>\n    </tr>\n    <tr>\n      <th>17218</th>\n      <td>2020-07-24</td>\n      <td>91956.274952</td>\n      <td>1396.500735</td>\n      <td>6579.344807</td>\n      <td>67.879505</td>\n      <td>9939.348027</td>\n      <td>1.378427</td>\n      <td>1.100396</td>\n      <td>190.749575</td>\n      <td>6.695604</td>\n      <td>0.007946</td>\n      <td>132.183860</td>\n      <td>False</td>\n      <td>0.0</td>\n      <td>0.0</td>\n      <td>19.0</td>\n      <td>56.0</td>\n    </tr>\n    <tr>\n      <th>17219</th>\n      <td>2020-07-25</td>\n      <td>91813.696724</td>\n      <td>1413.687341</td>\n      <td>6703.340872</td>\n      <td>69.275062</td>\n      <td>10132.169859</td>\n      <td>1.395557</td>\n      <td>1.098706</td>\n      <td>192.821832</td>\n      <td>6.695604</td>\n      <td>0.007946</td>\n      <td>132.183860</td>\n      <td>False</td>\n      <td>0.0</td>\n      <td>0.0</td>\n      <td>19.0</td>\n      <td>56.0</td>\n    </tr>\n  </tbody>\n</table>\n<p>17220 rows × 17 columns</p>\n</div>"
     },
     "execution_count": 11,
     "metadata": {},
     "output_type": "execute_result"
    }
   ],
   "source": [
    "df_sirds_outbreak_0"
   ],
   "metadata": {
    "collapsed": false,
    "ExecuteTime": {
     "end_time": "2023-12-05T20:07:30.130535812Z",
     "start_time": "2023-12-05T20:07:30.085034815Z"
    }
   }
  },
  {
   "cell_type": "markdown",
   "source": [
    "## Predicting the end of forecasting"
   ],
   "metadata": {
    "collapsed": false
   }
  },
  {
   "cell_type": "code",
   "execution_count": 12,
   "outputs": [
    {
     "name": "stdout",
     "output_type": "stream",
     "text": [
      "Spend hours:  247.51416726277776\n",
      "current_simulations:  180\n",
      "hours_per_simulation:  1.375078707015432\n",
      "total_simulations:  180\n",
      "estimated_hours_conclusion:  0.0\n",
      "Finish at:  2023-12-05 17:07:30.111727\n"
     ]
    }
   ],
   "source": [
    "spend_hours = df_results[df_results.alpha==0].duration_seconds.sum()/60/60\n",
    "print('Spend hours: ', spend_hours)\n",
    "current_simulations = len(df_results[df_results.alpha==0])\n",
    "print('current_simulations: ', current_simulations)\n",
    "hours_per_simulation = spend_hours/current_simulations\n",
    "print('hours_per_simulation: ', hours_per_simulation)\n",
    "total_simulations = 1 * 9 * 20\n",
    "print('total_simulations: ', total_simulations)\n",
    "estimated_hours_conclusion = (total_simulations-current_simulations)*hours_per_simulation\n",
    "print('estimated_hours_conclusion: ', estimated_hours_conclusion)\n",
    "prediction = datetime.datetime.now() + datetime.timedelta(hours=estimated_hours_conclusion)\n",
    "print('Finish at: ',prediction)"
   ],
   "metadata": {
    "collapsed": false,
    "ExecuteTime": {
     "end_time": "2023-12-05T20:07:30.130908524Z",
     "start_time": "2023-12-05T20:07:30.129367158Z"
    }
   }
  },
  {
   "cell_type": "markdown",
   "source": [
    "## Saving data"
   ],
   "metadata": {
    "collapsed": false
   }
  },
  {
   "cell_type": "code",
   "execution_count": 13,
   "outputs": [],
   "source": [
    "df_sirds.to_csv('data/output/df_sirds.csv', index=False)"
   ],
   "metadata": {
    "collapsed": false,
    "ExecuteTime": {
     "end_time": "2023-12-05T20:07:34.897307837Z",
     "start_time": "2023-12-05T20:07:30.129576413Z"
    }
   }
  },
  {
   "cell_type": "code",
   "execution_count": 14,
   "outputs": [
    {
     "data": {
      "text/plain": "        date             S         I         R         D  I_accumulated  \\\n0 2020-02-16  99999.988027  0.011973  0.000000  0.000000       0.011973   \n1 2020-02-17  99999.983885  0.014470  0.001637  0.000008       0.016119   \n2 2020-02-18  99999.978885  0.017489  0.003608  0.000018       0.021129   \n3 2020-02-19  99999.972850  0.021136  0.005984  0.000031       0.027183   \n4 2020-02-20  99999.965561  0.025544  0.008850  0.000045       0.034501   \n\n  D_new_deaths  reproduction_number_sird I_new_cases  days_between_infections  \\\n0         None                  2.515196        None                 3.180667   \n1     0.000008                  2.515196    0.004146                 3.180667   \n2      0.00001                  2.515196     0.00501                 3.180667   \n3     0.000012                  2.515195    0.006054                 3.180667   \n4     0.000015                  2.515195    0.007318                 3.180667   \n\n   case_fatality_probability  loss_immunity_in_days  train_period  outbreak  \\\n0                   0.005061             250.947207          True       0.0   \n1                   0.005061             250.947207          True       0.0   \n2                   0.005061             250.947207          True       0.0   \n3                   0.005061             250.947207          True       0.0   \n4                   0.005061             250.947207          True       0.0   \n\n   alpha  estimation  \n0    0.0         0.0  \n1    0.0         0.0  \n2    0.0         0.0  \n3    0.0         0.0  \n4    0.0         0.0  ",
      "text/html": "<div>\n<style scoped>\n    .dataframe tbody tr th:only-of-type {\n        vertical-align: middle;\n    }\n\n    .dataframe tbody tr th {\n        vertical-align: top;\n    }\n\n    .dataframe thead th {\n        text-align: right;\n    }\n</style>\n<table border=\"1\" class=\"dataframe\">\n  <thead>\n    <tr style=\"text-align: right;\">\n      <th></th>\n      <th>date</th>\n      <th>S</th>\n      <th>I</th>\n      <th>R</th>\n      <th>D</th>\n      <th>I_accumulated</th>\n      <th>D_new_deaths</th>\n      <th>reproduction_number_sird</th>\n      <th>I_new_cases</th>\n      <th>days_between_infections</th>\n      <th>case_fatality_probability</th>\n      <th>loss_immunity_in_days</th>\n      <th>train_period</th>\n      <th>outbreak</th>\n      <th>alpha</th>\n      <th>estimation</th>\n    </tr>\n  </thead>\n  <tbody>\n    <tr>\n      <th>0</th>\n      <td>2020-02-16</td>\n      <td>99999.988027</td>\n      <td>0.011973</td>\n      <td>0.000000</td>\n      <td>0.000000</td>\n      <td>0.011973</td>\n      <td>None</td>\n      <td>2.515196</td>\n      <td>None</td>\n      <td>3.180667</td>\n      <td>0.005061</td>\n      <td>250.947207</td>\n      <td>True</td>\n      <td>0.0</td>\n      <td>0.0</td>\n      <td>0.0</td>\n    </tr>\n    <tr>\n      <th>1</th>\n      <td>2020-02-17</td>\n      <td>99999.983885</td>\n      <td>0.014470</td>\n      <td>0.001637</td>\n      <td>0.000008</td>\n      <td>0.016119</td>\n      <td>0.000008</td>\n      <td>2.515196</td>\n      <td>0.004146</td>\n      <td>3.180667</td>\n      <td>0.005061</td>\n      <td>250.947207</td>\n      <td>True</td>\n      <td>0.0</td>\n      <td>0.0</td>\n      <td>0.0</td>\n    </tr>\n    <tr>\n      <th>2</th>\n      <td>2020-02-18</td>\n      <td>99999.978885</td>\n      <td>0.017489</td>\n      <td>0.003608</td>\n      <td>0.000018</td>\n      <td>0.021129</td>\n      <td>0.00001</td>\n      <td>2.515196</td>\n      <td>0.00501</td>\n      <td>3.180667</td>\n      <td>0.005061</td>\n      <td>250.947207</td>\n      <td>True</td>\n      <td>0.0</td>\n      <td>0.0</td>\n      <td>0.0</td>\n    </tr>\n    <tr>\n      <th>3</th>\n      <td>2020-02-19</td>\n      <td>99999.972850</td>\n      <td>0.021136</td>\n      <td>0.005984</td>\n      <td>0.000031</td>\n      <td>0.027183</td>\n      <td>0.000012</td>\n      <td>2.515195</td>\n      <td>0.006054</td>\n      <td>3.180667</td>\n      <td>0.005061</td>\n      <td>250.947207</td>\n      <td>True</td>\n      <td>0.0</td>\n      <td>0.0</td>\n      <td>0.0</td>\n    </tr>\n    <tr>\n      <th>4</th>\n      <td>2020-02-20</td>\n      <td>99999.965561</td>\n      <td>0.025544</td>\n      <td>0.008850</td>\n      <td>0.000045</td>\n      <td>0.034501</td>\n      <td>0.000015</td>\n      <td>2.515195</td>\n      <td>0.007318</td>\n      <td>3.180667</td>\n      <td>0.005061</td>\n      <td>250.947207</td>\n      <td>True</td>\n      <td>0.0</td>\n      <td>0.0</td>\n      <td>0.0</td>\n    </tr>\n  </tbody>\n</table>\n</div>"
     },
     "execution_count": 14,
     "metadata": {},
     "output_type": "execute_result"
    }
   ],
   "source": [
    "df_sirds.head()"
   ],
   "metadata": {
    "collapsed": false,
    "ExecuteTime": {
     "end_time": "2023-12-05T20:07:34.950683437Z",
     "start_time": "2023-12-05T20:07:34.907707923Z"
    }
   }
  },
  {
   "cell_type": "code",
   "execution_count": 15,
   "outputs": [],
   "source": [
    "df_sirds_outbreak_0.to_csv('data/output/df_sirds_outbreak_0.csv', index=False)"
   ],
   "metadata": {
    "collapsed": false,
    "ExecuteTime": {
     "end_time": "2023-12-05T20:07:35.249993890Z",
     "start_time": "2023-12-05T20:07:34.949772673Z"
    }
   }
  },
  {
   "cell_type": "code",
   "execution_count": 16,
   "outputs": [
    {
     "data": {
      "text/plain": "        date             S         I         R         D  I_accumulated  \\\n0 2020-02-16  99999.988027  0.011973  0.000000  0.000000       0.011973   \n1 2020-02-17  99999.983885  0.014470  0.001637  0.000008       0.016119   \n2 2020-02-18  99999.978885  0.017489  0.003608  0.000018       0.021129   \n3 2020-02-19  99999.972850  0.021136  0.005984  0.000031       0.027183   \n4 2020-02-20  99999.965561  0.025544  0.008850  0.000045       0.034501   \n\n  D_new_deaths  reproduction_number_sird I_new_cases  days_between_infections  \\\n0         None                  2.515196        None                 3.180667   \n1     0.000008                  2.515196    0.004146                 3.180667   \n2      0.00001                  2.515196     0.00501                 3.180667   \n3     0.000012                  2.515195    0.006054                 3.180667   \n4     0.000015                  2.515195    0.007318                 3.180667   \n\n   case_fatality_probability  loss_immunity_in_days  train_period  outbreak  \\\n0                   0.005061             250.947207          True       0.0   \n1                   0.005061             250.947207          True       0.0   \n2                   0.005061             250.947207          True       0.0   \n3                   0.005061             250.947207          True       0.0   \n4                   0.005061             250.947207          True       0.0   \n\n   alpha  estimation  days_to_fit_within_outbreak  \n0    0.0         0.0                         21.0  \n1    0.0         0.0                         21.0  \n2    0.0         0.0                         21.0  \n3    0.0         0.0                         21.0  \n4    0.0         0.0                         21.0  ",
      "text/html": "<div>\n<style scoped>\n    .dataframe tbody tr th:only-of-type {\n        vertical-align: middle;\n    }\n\n    .dataframe tbody tr th {\n        vertical-align: top;\n    }\n\n    .dataframe thead th {\n        text-align: right;\n    }\n</style>\n<table border=\"1\" class=\"dataframe\">\n  <thead>\n    <tr style=\"text-align: right;\">\n      <th></th>\n      <th>date</th>\n      <th>S</th>\n      <th>I</th>\n      <th>R</th>\n      <th>D</th>\n      <th>I_accumulated</th>\n      <th>D_new_deaths</th>\n      <th>reproduction_number_sird</th>\n      <th>I_new_cases</th>\n      <th>days_between_infections</th>\n      <th>case_fatality_probability</th>\n      <th>loss_immunity_in_days</th>\n      <th>train_period</th>\n      <th>outbreak</th>\n      <th>alpha</th>\n      <th>estimation</th>\n      <th>days_to_fit_within_outbreak</th>\n    </tr>\n  </thead>\n  <tbody>\n    <tr>\n      <th>0</th>\n      <td>2020-02-16</td>\n      <td>99999.988027</td>\n      <td>0.011973</td>\n      <td>0.000000</td>\n      <td>0.000000</td>\n      <td>0.011973</td>\n      <td>None</td>\n      <td>2.515196</td>\n      <td>None</td>\n      <td>3.180667</td>\n      <td>0.005061</td>\n      <td>250.947207</td>\n      <td>True</td>\n      <td>0.0</td>\n      <td>0.0</td>\n      <td>0.0</td>\n      <td>21.0</td>\n    </tr>\n    <tr>\n      <th>1</th>\n      <td>2020-02-17</td>\n      <td>99999.983885</td>\n      <td>0.014470</td>\n      <td>0.001637</td>\n      <td>0.000008</td>\n      <td>0.016119</td>\n      <td>0.000008</td>\n      <td>2.515196</td>\n      <td>0.004146</td>\n      <td>3.180667</td>\n      <td>0.005061</td>\n      <td>250.947207</td>\n      <td>True</td>\n      <td>0.0</td>\n      <td>0.0</td>\n      <td>0.0</td>\n      <td>21.0</td>\n    </tr>\n    <tr>\n      <th>2</th>\n      <td>2020-02-18</td>\n      <td>99999.978885</td>\n      <td>0.017489</td>\n      <td>0.003608</td>\n      <td>0.000018</td>\n      <td>0.021129</td>\n      <td>0.00001</td>\n      <td>2.515196</td>\n      <td>0.00501</td>\n      <td>3.180667</td>\n      <td>0.005061</td>\n      <td>250.947207</td>\n      <td>True</td>\n      <td>0.0</td>\n      <td>0.0</td>\n      <td>0.0</td>\n      <td>21.0</td>\n    </tr>\n    <tr>\n      <th>3</th>\n      <td>2020-02-19</td>\n      <td>99999.972850</td>\n      <td>0.021136</td>\n      <td>0.005984</td>\n      <td>0.000031</td>\n      <td>0.027183</td>\n      <td>0.000012</td>\n      <td>2.515195</td>\n      <td>0.006054</td>\n      <td>3.180667</td>\n      <td>0.005061</td>\n      <td>250.947207</td>\n      <td>True</td>\n      <td>0.0</td>\n      <td>0.0</td>\n      <td>0.0</td>\n      <td>21.0</td>\n    </tr>\n    <tr>\n      <th>4</th>\n      <td>2020-02-20</td>\n      <td>99999.965561</td>\n      <td>0.025544</td>\n      <td>0.008850</td>\n      <td>0.000045</td>\n      <td>0.034501</td>\n      <td>0.000015</td>\n      <td>2.515195</td>\n      <td>0.007318</td>\n      <td>3.180667</td>\n      <td>0.005061</td>\n      <td>250.947207</td>\n      <td>True</td>\n      <td>0.0</td>\n      <td>0.0</td>\n      <td>0.0</td>\n      <td>21.0</td>\n    </tr>\n  </tbody>\n</table>\n</div>"
     },
     "execution_count": 16,
     "metadata": {},
     "output_type": "execute_result"
    }
   ],
   "source": [
    "df_sirds_outbreak_0.head()"
   ],
   "metadata": {
    "collapsed": false,
    "ExecuteTime": {
     "end_time": "2023-12-05T20:07:35.268890819Z",
     "start_time": "2023-12-05T20:07:35.260428376Z"
    }
   }
  }
 ],
 "metadata": {
  "kernelspec": {
   "display_name": "Python 3",
   "language": "python",
   "name": "python3"
  },
  "language_info": {
   "codemirror_mode": {
    "name": "ipython",
    "version": 2
   },
   "file_extension": ".py",
   "mimetype": "text/x-python",
   "name": "python",
   "nbconvert_exporter": "python",
   "pygments_lexer": "ipython2",
   "version": "2.7.6"
  }
 },
 "nbformat": 4,
 "nbformat_minor": 0
}
