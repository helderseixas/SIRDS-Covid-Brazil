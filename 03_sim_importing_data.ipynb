{
 "cells": [
  {
   "cell_type": "markdown",
   "source": [
    "# Importing data from the Sistema de Informação sobre Mortalidade (SIM) provied by the Ministério da Saúde\n",
    "## Source: https://opendatasus.saude.gov.br/fa_IR/dataset/sim"
   ],
   "metadata": {
    "collapsed": false
   }
  },
  {
   "cell_type": "code",
   "execution_count": 1,
   "outputs": [],
   "source": [
    "import pandas as pd"
   ],
   "metadata": {
    "collapsed": false,
    "ExecuteTime": {
     "end_time": "2023-10-17T12:14:36.336582623Z",
     "start_time": "2023-10-17T12:14:36.259811043Z"
    }
   }
  },
  {
   "cell_type": "markdown",
   "source": [
    "## Loading data"
   ],
   "metadata": {
    "collapsed": false
   }
  },
  {
   "cell_type": "code",
   "execution_count": 2,
   "outputs": [],
   "source": [
    "usecols = [2, 6, 8, 9, 11, 12, 13, 14, 15, 16, 19, 28, 29, 34, 40,41,42,43, 44, 45, 46, 47, 48, 46, 48, 54, 55, 56, 63, 64, 65, 66, 69, 71, 72, 74, 75, 76, 78, 79, 81, 83, 85, 86]\n",
    "\n",
    "my_list = ['str'] * len(usecols)\n",
    "\n",
    "dtype = {key: value for key, value in zip(usecols, my_list)}"
   ],
   "metadata": {
    "collapsed": false,
    "ExecuteTime": {
     "end_time": "2023-10-17T12:14:36.385859817Z",
     "start_time": "2023-10-17T12:14:36.303518575Z"
    }
   }
  },
  {
   "cell_type": "code",
   "execution_count": 3,
   "outputs": [],
   "source": [
    "CID_CORONAVIRUS = 'B342'"
   ],
   "metadata": {
    "collapsed": false,
    "ExecuteTime": {
     "end_time": "2023-10-17T12:14:36.386097058Z",
     "start_time": "2023-10-17T12:14:36.303794936Z"
    }
   }
  },
  {
   "cell_type": "code",
   "execution_count": 4,
   "outputs": [],
   "source": [
    "df = None\n",
    "for filename in ['Mortalidade_Geral_2020.csv', 'Mortalidade_Geral_2021.csv']:\n",
    "    df_temp = pd.read_csv('data/input/sim/'+filename, header=0, sep=';', usecols=usecols, dtype=dtype)\n",
    "    df_temp = df_temp[(df_temp['CAUSABAS'].str.contains(CID_CORONAVIRUS))].copy()\n",
    "    if df is None:\n",
    "        df = df_temp\n",
    "    else:\n",
    "        df = pd.concat([df, df_temp])\n",
    "\n",
    "# df_temp = pd.read_csv('data/input/sim/Mortalidade_Geral_2022_previa.csv', header=0, sep=';', dtype='str')\n",
    "# A base preliminar é mais atualizada que a base prévia\n",
    "df_temp = pd.read_csv('data/input/sim/Mortalidade_Geral_2022_preliminar.csv', header=0, sep=';', dtype='str')\n",
    "columns = [item for item in df.columns if item not in ['CONTADOR']] + ['contador']\n",
    "df_temp = df_temp[columns]\n",
    "df_temp = df_temp[(df_temp['CAUSABAS'].str.contains(CID_CORONAVIRUS))].copy()"
   ],
   "metadata": {
    "collapsed": false,
    "ExecuteTime": {
     "end_time": "2023-10-17T12:15:14.547628662Z",
     "start_time": "2023-10-17T12:14:36.314405294Z"
    }
   }
  },
  {
   "cell_type": "code",
   "execution_count": 5,
   "outputs": [],
   "source": [
    "df_temp = df_temp.rename(columns={'contador': 'CONTADOR'})\n",
    "df = pd.concat([df, df_temp])"
   ],
   "metadata": {
    "collapsed": false,
    "ExecuteTime": {
     "end_time": "2023-10-17T12:15:14.728184506Z",
     "start_time": "2023-10-17T12:15:14.547418502Z"
    }
   }
  },
  {
   "cell_type": "markdown",
   "source": [
    "## Saving data"
   ],
   "metadata": {
    "collapsed": false
   }
  },
  {
   "cell_type": "code",
   "execution_count": 6,
   "outputs": [],
   "source": [
    "df.to_csv('data/output/df_sim_raw.csv', index=False)"
   ],
   "metadata": {
    "collapsed": false,
    "ExecuteTime": {
     "end_time": "2023-10-17T12:15:20.157753281Z",
     "start_time": "2023-10-17T12:15:14.730128992Z"
    }
   }
  },
  {
   "cell_type": "code",
   "execution_count": 9,
   "outputs": [
    {
     "data": {
      "text/plain": "(702559, 42)"
     },
     "execution_count": 9,
     "metadata": {},
     "output_type": "execute_result"
    }
   ],
   "source": [
    "df.shape"
   ],
   "metadata": {
    "collapsed": false,
    "ExecuteTime": {
     "end_time": "2023-10-17T12:16:21.588666462Z",
     "start_time": "2023-10-17T12:16:21.552446096Z"
    }
   }
  },
  {
   "cell_type": "code",
   "execution_count": 7,
   "outputs": [
    {
     "data": {
      "text/plain": "     DTOBITO    DTNASC SEXO RACACOR ESC ESC2010 SERIESCFAL    OCUP CODMUNRES  \\\n3   21052020  10081942    2       4   1       0        NaN  999993    120010   \n9   27052020  19021943    2       4   1       0        NaN  999993    120010   \n10  27052020  14011975    1       1   9       9        NaN  999993    120025   \n16  05052020  10061972    2       1   3       2        NaN     NaN    120040   \n34  25052020  04101939    2       4   1       0        NaN  999993    120040   \n\n   LOCOCOR  ... NUDIASOBCO  DTCADINV TPOBITOCOR  DTCONINV TPRESGINFO  \\\n3        1  ...        NaN       NaN        NaN       NaN        NaN   \n9        1  ...        NaN       NaN        NaN       NaN        NaN   \n10       1  ...        NaN       NaN        NaN       NaN        NaN   \n16       1  ...        205  30112020          9  26112020        NaN   \n34       1  ...        NaN       NaN        NaN       NaN        NaN   \n\n   TPNIVELINV DTCADINF DTCONCASO ALTCAUSA CONTADOR  \n3         NaN      NaN       NaN      NaN      606  \n9         NaN      NaN       NaN      NaN      612  \n10        NaN      NaN       NaN      NaN      613  \n16          M      NaN       NaN      NaN     2664  \n34        NaN      NaN       NaN      NaN     6245  \n\n[5 rows x 42 columns]",
      "text/html": "<div>\n<style scoped>\n    .dataframe tbody tr th:only-of-type {\n        vertical-align: middle;\n    }\n\n    .dataframe tbody tr th {\n        vertical-align: top;\n    }\n\n    .dataframe thead th {\n        text-align: right;\n    }\n</style>\n<table border=\"1\" class=\"dataframe\">\n  <thead>\n    <tr style=\"text-align: right;\">\n      <th></th>\n      <th>DTOBITO</th>\n      <th>DTNASC</th>\n      <th>SEXO</th>\n      <th>RACACOR</th>\n      <th>ESC</th>\n      <th>ESC2010</th>\n      <th>SERIESCFAL</th>\n      <th>OCUP</th>\n      <th>CODMUNRES</th>\n      <th>LOCOCOR</th>\n      <th>...</th>\n      <th>NUDIASOBCO</th>\n      <th>DTCADINV</th>\n      <th>TPOBITOCOR</th>\n      <th>DTCONINV</th>\n      <th>TPRESGINFO</th>\n      <th>TPNIVELINV</th>\n      <th>DTCADINF</th>\n      <th>DTCONCASO</th>\n      <th>ALTCAUSA</th>\n      <th>CONTADOR</th>\n    </tr>\n  </thead>\n  <tbody>\n    <tr>\n      <th>3</th>\n      <td>21052020</td>\n      <td>10081942</td>\n      <td>2</td>\n      <td>4</td>\n      <td>1</td>\n      <td>0</td>\n      <td>NaN</td>\n      <td>999993</td>\n      <td>120010</td>\n      <td>1</td>\n      <td>...</td>\n      <td>NaN</td>\n      <td>NaN</td>\n      <td>NaN</td>\n      <td>NaN</td>\n      <td>NaN</td>\n      <td>NaN</td>\n      <td>NaN</td>\n      <td>NaN</td>\n      <td>NaN</td>\n      <td>606</td>\n    </tr>\n    <tr>\n      <th>9</th>\n      <td>27052020</td>\n      <td>19021943</td>\n      <td>2</td>\n      <td>4</td>\n      <td>1</td>\n      <td>0</td>\n      <td>NaN</td>\n      <td>999993</td>\n      <td>120010</td>\n      <td>1</td>\n      <td>...</td>\n      <td>NaN</td>\n      <td>NaN</td>\n      <td>NaN</td>\n      <td>NaN</td>\n      <td>NaN</td>\n      <td>NaN</td>\n      <td>NaN</td>\n      <td>NaN</td>\n      <td>NaN</td>\n      <td>612</td>\n    </tr>\n    <tr>\n      <th>10</th>\n      <td>27052020</td>\n      <td>14011975</td>\n      <td>1</td>\n      <td>1</td>\n      <td>9</td>\n      <td>9</td>\n      <td>NaN</td>\n      <td>999993</td>\n      <td>120025</td>\n      <td>1</td>\n      <td>...</td>\n      <td>NaN</td>\n      <td>NaN</td>\n      <td>NaN</td>\n      <td>NaN</td>\n      <td>NaN</td>\n      <td>NaN</td>\n      <td>NaN</td>\n      <td>NaN</td>\n      <td>NaN</td>\n      <td>613</td>\n    </tr>\n    <tr>\n      <th>16</th>\n      <td>05052020</td>\n      <td>10061972</td>\n      <td>2</td>\n      <td>1</td>\n      <td>3</td>\n      <td>2</td>\n      <td>NaN</td>\n      <td>NaN</td>\n      <td>120040</td>\n      <td>1</td>\n      <td>...</td>\n      <td>205</td>\n      <td>30112020</td>\n      <td>9</td>\n      <td>26112020</td>\n      <td>NaN</td>\n      <td>M</td>\n      <td>NaN</td>\n      <td>NaN</td>\n      <td>NaN</td>\n      <td>2664</td>\n    </tr>\n    <tr>\n      <th>34</th>\n      <td>25052020</td>\n      <td>04101939</td>\n      <td>2</td>\n      <td>4</td>\n      <td>1</td>\n      <td>0</td>\n      <td>NaN</td>\n      <td>999993</td>\n      <td>120040</td>\n      <td>1</td>\n      <td>...</td>\n      <td>NaN</td>\n      <td>NaN</td>\n      <td>NaN</td>\n      <td>NaN</td>\n      <td>NaN</td>\n      <td>NaN</td>\n      <td>NaN</td>\n      <td>NaN</td>\n      <td>NaN</td>\n      <td>6245</td>\n    </tr>\n  </tbody>\n</table>\n<p>5 rows × 42 columns</p>\n</div>"
     },
     "execution_count": 7,
     "metadata": {},
     "output_type": "execute_result"
    }
   ],
   "source": [
    "df.head()"
   ],
   "metadata": {
    "collapsed": false,
    "ExecuteTime": {
     "end_time": "2023-10-17T12:15:20.205888244Z",
     "start_time": "2023-10-17T12:15:20.164090815Z"
    }
   }
  }
 ],
 "metadata": {
  "kernelspec": {
   "display_name": "Python 3",
   "language": "python",
   "name": "python3"
  },
  "language_info": {
   "codemirror_mode": {
    "name": "ipython",
    "version": 2
   },
   "file_extension": ".py",
   "mimetype": "text/x-python",
   "name": "python",
   "nbconvert_exporter": "python",
   "pygments_lexer": "ipython2",
   "version": "2.7.6"
  }
 },
 "nbformat": 4,
 "nbformat_minor": 0
}
