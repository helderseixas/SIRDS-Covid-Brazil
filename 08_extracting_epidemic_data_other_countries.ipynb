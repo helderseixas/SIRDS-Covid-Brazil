{
 "cells": [
  {
   "cell_type": "markdown",
   "source": [
    "# Produce measures as Rt for other countries \n",
    "Source: https://github.com/owid/covid-19-data/blob/master/public/data/owid-covid-data.csv"
   ],
   "metadata": {
    "collapsed": false
   }
  },
  {
   "cell_type": "code",
   "execution_count": 34,
   "outputs": [],
   "source": [
    "from math import exp\n",
    "\n",
    "import epyestim\n",
    "import numpy as np\n",
    "import pandas as pd\n",
    "import matplotlib.pyplot as plt\n",
    "from epyestim import covid19\n",
    "from scipy.stats import gamma, lognorm"
   ],
   "metadata": {
    "collapsed": false,
    "ExecuteTime": {
     "end_time": "2023-11-08T14:12:16.573093014Z",
     "start_time": "2023-11-08T14:12:16.445450317Z"
    }
   }
  },
  {
   "cell_type": "markdown",
   "source": [
    "## Loading data"
   ],
   "metadata": {
    "collapsed": false
   }
  },
  {
   "cell_type": "code",
   "execution_count": 35,
   "outputs": [],
   "source": [
    "df_ts_other_countries = pd.read_csv('data/input/OurWorldData/owid-covid-data.csv')\n",
    "df_ts_other_countries.date = pd.to_datetime(df_ts_other_countries.date)"
   ],
   "metadata": {
    "collapsed": false,
    "ExecuteTime": {
     "end_time": "2023-11-08T14:12:18.449414718Z",
     "start_time": "2023-11-08T14:12:16.449556035Z"
    }
   }
  },
  {
   "cell_type": "markdown",
   "source": [
    "## Filtering data"
   ],
   "metadata": {
    "collapsed": false
   }
  },
  {
   "cell_type": "code",
   "execution_count": 36,
   "outputs": [
    {
     "data": {
      "text/plain": "       iso_code      continent       location       date  total_cases  \\\n29407       BEL         Europe        Belgium 2020-01-03          NaN   \n29408       BEL         Europe        Belgium 2020-01-04          NaN   \n29409       BEL         Europe        Belgium 2020-01-05          NaN   \n29410       BEL         Europe        Belgium 2020-01-06          NaN   \n29411       BEL         Europe        Belgium 2020-01-07          NaN   \n...         ...            ...            ...        ...          ...   \n334028      USA  North America  United States 2022-12-27   99019493.0   \n334029      USA  North America  United States 2022-12-28   99019493.0   \n334030      USA  North America  United States 2022-12-29   99019493.0   \n334031      USA  North America  United States 2022-12-30   99411696.0   \n334032      USA  North America  United States 2022-12-31   99411696.0   \n\n        new_cases  new_cases_smoothed  total_deaths  new_deaths  \\\n29407         0.0                 NaN           NaN         0.0   \n29408         0.0                 NaN           NaN         0.0   \n29409         0.0                 NaN           NaN         0.0   \n29410         0.0                 NaN           NaN         0.0   \n29411         0.0                 NaN           NaN         0.0   \n...           ...                 ...           ...         ...   \n334028        0.0           72572.714     1079976.0         0.0   \n334029        0.0           72572.714     1079976.0         0.0   \n334030        0.0           72572.714     1079976.0         0.0   \n334031   392203.0           56029.000     1082456.0      2480.0   \n334032        0.0           56029.000     1082456.0         0.0   \n\n        new_deaths_smoothed  ...  male_smokers  handwashing_facilities  \\\n29407                   NaN  ...          31.4                     NaN   \n29408                   NaN  ...          31.4                     NaN   \n29409                   NaN  ...          31.4                     NaN   \n29410                   NaN  ...          31.4                     NaN   \n29411                   NaN  ...          31.4                     NaN   \n...                     ...  ...           ...                     ...   \n334028              433.286  ...          24.6                     NaN   \n334029              433.286  ...          24.6                     NaN   \n334030              433.286  ...          24.6                     NaN   \n334031              354.286  ...          24.6                     NaN   \n334032              354.286  ...          24.6                     NaN   \n\n        hospital_beds_per_thousand  life_expectancy  human_development_index  \\\n29407                         5.64            81.63                    0.931   \n29408                         5.64            81.63                    0.931   \n29409                         5.64            81.63                    0.931   \n29410                         5.64            81.63                    0.931   \n29411                         5.64            81.63                    0.931   \n...                            ...              ...                      ...   \n334028                        2.77            78.86                    0.926   \n334029                        2.77            78.86                    0.926   \n334030                        2.77            78.86                    0.926   \n334031                        2.77            78.86                    0.926   \n334032                        2.77            78.86                    0.926   \n\n         population  excess_mortality_cumulative_absolute  \\\n29407    11655923.0                                   NaN   \n29408    11655923.0                                   NaN   \n29409    11655923.0                                -151.3   \n29410    11655923.0                                   NaN   \n29411    11655923.0                                   NaN   \n...             ...                                   ...   \n334028  338289856.0                                   NaN   \n334029  338289856.0                                   NaN   \n334030  338289856.0                                   NaN   \n334031  338289856.0                                   NaN   \n334032  338289856.0                                   NaN   \n\n        excess_mortality_cumulative  excess_mortality  \\\n29407                           NaN               NaN   \n29408                           NaN               NaN   \n29409                         -6.34             -6.34   \n29410                           NaN               NaN   \n29411                           NaN               NaN   \n...                             ...               ...   \n334028                          NaN               NaN   \n334029                          NaN               NaN   \n334030                          NaN               NaN   \n334031                          NaN               NaN   \n334032                          NaN               NaN   \n\n        excess_mortality_cumulative_per_million  \n29407                                       NaN  \n29408                                       NaN  \n29409                                -13.086293  \n29410                                       NaN  \n29411                                       NaN  \n...                                         ...  \n334028                                      NaN  \n334029                                      NaN  \n334030                                      NaN  \n334031                                      NaN  \n334032                                      NaN  \n\n[9846 rows x 67 columns]",
      "text/html": "<div>\n<style scoped>\n    .dataframe tbody tr th:only-of-type {\n        vertical-align: middle;\n    }\n\n    .dataframe tbody tr th {\n        vertical-align: top;\n    }\n\n    .dataframe thead th {\n        text-align: right;\n    }\n</style>\n<table border=\"1\" class=\"dataframe\">\n  <thead>\n    <tr style=\"text-align: right;\">\n      <th></th>\n      <th>iso_code</th>\n      <th>continent</th>\n      <th>location</th>\n      <th>date</th>\n      <th>total_cases</th>\n      <th>new_cases</th>\n      <th>new_cases_smoothed</th>\n      <th>total_deaths</th>\n      <th>new_deaths</th>\n      <th>new_deaths_smoothed</th>\n      <th>...</th>\n      <th>male_smokers</th>\n      <th>handwashing_facilities</th>\n      <th>hospital_beds_per_thousand</th>\n      <th>life_expectancy</th>\n      <th>human_development_index</th>\n      <th>population</th>\n      <th>excess_mortality_cumulative_absolute</th>\n      <th>excess_mortality_cumulative</th>\n      <th>excess_mortality</th>\n      <th>excess_mortality_cumulative_per_million</th>\n    </tr>\n  </thead>\n  <tbody>\n    <tr>\n      <th>29407</th>\n      <td>BEL</td>\n      <td>Europe</td>\n      <td>Belgium</td>\n      <td>2020-01-03</td>\n      <td>NaN</td>\n      <td>0.0</td>\n      <td>NaN</td>\n      <td>NaN</td>\n      <td>0.0</td>\n      <td>NaN</td>\n      <td>...</td>\n      <td>31.4</td>\n      <td>NaN</td>\n      <td>5.64</td>\n      <td>81.63</td>\n      <td>0.931</td>\n      <td>11655923.0</td>\n      <td>NaN</td>\n      <td>NaN</td>\n      <td>NaN</td>\n      <td>NaN</td>\n    </tr>\n    <tr>\n      <th>29408</th>\n      <td>BEL</td>\n      <td>Europe</td>\n      <td>Belgium</td>\n      <td>2020-01-04</td>\n      <td>NaN</td>\n      <td>0.0</td>\n      <td>NaN</td>\n      <td>NaN</td>\n      <td>0.0</td>\n      <td>NaN</td>\n      <td>...</td>\n      <td>31.4</td>\n      <td>NaN</td>\n      <td>5.64</td>\n      <td>81.63</td>\n      <td>0.931</td>\n      <td>11655923.0</td>\n      <td>NaN</td>\n      <td>NaN</td>\n      <td>NaN</td>\n      <td>NaN</td>\n    </tr>\n    <tr>\n      <th>29409</th>\n      <td>BEL</td>\n      <td>Europe</td>\n      <td>Belgium</td>\n      <td>2020-01-05</td>\n      <td>NaN</td>\n      <td>0.0</td>\n      <td>NaN</td>\n      <td>NaN</td>\n      <td>0.0</td>\n      <td>NaN</td>\n      <td>...</td>\n      <td>31.4</td>\n      <td>NaN</td>\n      <td>5.64</td>\n      <td>81.63</td>\n      <td>0.931</td>\n      <td>11655923.0</td>\n      <td>-151.3</td>\n      <td>-6.34</td>\n      <td>-6.34</td>\n      <td>-13.086293</td>\n    </tr>\n    <tr>\n      <th>29410</th>\n      <td>BEL</td>\n      <td>Europe</td>\n      <td>Belgium</td>\n      <td>2020-01-06</td>\n      <td>NaN</td>\n      <td>0.0</td>\n      <td>NaN</td>\n      <td>NaN</td>\n      <td>0.0</td>\n      <td>NaN</td>\n      <td>...</td>\n      <td>31.4</td>\n      <td>NaN</td>\n      <td>5.64</td>\n      <td>81.63</td>\n      <td>0.931</td>\n      <td>11655923.0</td>\n      <td>NaN</td>\n      <td>NaN</td>\n      <td>NaN</td>\n      <td>NaN</td>\n    </tr>\n    <tr>\n      <th>29411</th>\n      <td>BEL</td>\n      <td>Europe</td>\n      <td>Belgium</td>\n      <td>2020-01-07</td>\n      <td>NaN</td>\n      <td>0.0</td>\n      <td>NaN</td>\n      <td>NaN</td>\n      <td>0.0</td>\n      <td>NaN</td>\n      <td>...</td>\n      <td>31.4</td>\n      <td>NaN</td>\n      <td>5.64</td>\n      <td>81.63</td>\n      <td>0.931</td>\n      <td>11655923.0</td>\n      <td>NaN</td>\n      <td>NaN</td>\n      <td>NaN</td>\n      <td>NaN</td>\n    </tr>\n    <tr>\n      <th>...</th>\n      <td>...</td>\n      <td>...</td>\n      <td>...</td>\n      <td>...</td>\n      <td>...</td>\n      <td>...</td>\n      <td>...</td>\n      <td>...</td>\n      <td>...</td>\n      <td>...</td>\n      <td>...</td>\n      <td>...</td>\n      <td>...</td>\n      <td>...</td>\n      <td>...</td>\n      <td>...</td>\n      <td>...</td>\n      <td>...</td>\n      <td>...</td>\n      <td>...</td>\n      <td>...</td>\n    </tr>\n    <tr>\n      <th>334028</th>\n      <td>USA</td>\n      <td>North America</td>\n      <td>United States</td>\n      <td>2022-12-27</td>\n      <td>99019493.0</td>\n      <td>0.0</td>\n      <td>72572.714</td>\n      <td>1079976.0</td>\n      <td>0.0</td>\n      <td>433.286</td>\n      <td>...</td>\n      <td>24.6</td>\n      <td>NaN</td>\n      <td>2.77</td>\n      <td>78.86</td>\n      <td>0.926</td>\n      <td>338289856.0</td>\n      <td>NaN</td>\n      <td>NaN</td>\n      <td>NaN</td>\n      <td>NaN</td>\n    </tr>\n    <tr>\n      <th>334029</th>\n      <td>USA</td>\n      <td>North America</td>\n      <td>United States</td>\n      <td>2022-12-28</td>\n      <td>99019493.0</td>\n      <td>0.0</td>\n      <td>72572.714</td>\n      <td>1079976.0</td>\n      <td>0.0</td>\n      <td>433.286</td>\n      <td>...</td>\n      <td>24.6</td>\n      <td>NaN</td>\n      <td>2.77</td>\n      <td>78.86</td>\n      <td>0.926</td>\n      <td>338289856.0</td>\n      <td>NaN</td>\n      <td>NaN</td>\n      <td>NaN</td>\n      <td>NaN</td>\n    </tr>\n    <tr>\n      <th>334030</th>\n      <td>USA</td>\n      <td>North America</td>\n      <td>United States</td>\n      <td>2022-12-29</td>\n      <td>99019493.0</td>\n      <td>0.0</td>\n      <td>72572.714</td>\n      <td>1079976.0</td>\n      <td>0.0</td>\n      <td>433.286</td>\n      <td>...</td>\n      <td>24.6</td>\n      <td>NaN</td>\n      <td>2.77</td>\n      <td>78.86</td>\n      <td>0.926</td>\n      <td>338289856.0</td>\n      <td>NaN</td>\n      <td>NaN</td>\n      <td>NaN</td>\n      <td>NaN</td>\n    </tr>\n    <tr>\n      <th>334031</th>\n      <td>USA</td>\n      <td>North America</td>\n      <td>United States</td>\n      <td>2022-12-30</td>\n      <td>99411696.0</td>\n      <td>392203.0</td>\n      <td>56029.000</td>\n      <td>1082456.0</td>\n      <td>2480.0</td>\n      <td>354.286</td>\n      <td>...</td>\n      <td>24.6</td>\n      <td>NaN</td>\n      <td>2.77</td>\n      <td>78.86</td>\n      <td>0.926</td>\n      <td>338289856.0</td>\n      <td>NaN</td>\n      <td>NaN</td>\n      <td>NaN</td>\n      <td>NaN</td>\n    </tr>\n    <tr>\n      <th>334032</th>\n      <td>USA</td>\n      <td>North America</td>\n      <td>United States</td>\n      <td>2022-12-31</td>\n      <td>99411696.0</td>\n      <td>0.0</td>\n      <td>56029.000</td>\n      <td>1082456.0</td>\n      <td>0.0</td>\n      <td>354.286</td>\n      <td>...</td>\n      <td>24.6</td>\n      <td>NaN</td>\n      <td>2.77</td>\n      <td>78.86</td>\n      <td>0.926</td>\n      <td>338289856.0</td>\n      <td>NaN</td>\n      <td>NaN</td>\n      <td>NaN</td>\n      <td>NaN</td>\n    </tr>\n  </tbody>\n</table>\n<p>9846 rows × 67 columns</p>\n</div>"
     },
     "execution_count": 36,
     "metadata": {},
     "output_type": "execute_result"
    }
   ],
   "source": [
    "df_ts_other_countries = df_ts_other_countries[df_ts_other_countries.location.isin(['United States', 'Belgium', 'Denmark', 'Hungary', 'Luxembourg', 'Norway', 'Portugal', 'Spain', 'United Kingdom'])]\n",
    "date_limit_comprise_2022 = pd.to_datetime('2021-01-18')\n",
    "df_ts_other_countries = df_ts_other_countries[df_ts_other_countries.date <= pd.to_datetime('2022-12-31')]\n",
    "df_ts_other_countries"
   ],
   "metadata": {
    "collapsed": false,
    "ExecuteTime": {
     "end_time": "2023-11-08T14:12:18.520542145Z",
     "start_time": "2023-11-08T14:12:18.488302838Z"
    }
   }
  },
  {
   "cell_type": "markdown",
   "source": [
    "## Adjusting missing data"
   ],
   "metadata": {
    "collapsed": false
   }
  },
  {
   "cell_type": "code",
   "execution_count": 37,
   "outputs": [],
   "source": [
    "df_ts_other_countries.new_deaths = df_ts_other_countries.new_deaths.fillna(0)"
   ],
   "metadata": {
    "collapsed": false,
    "ExecuteTime": {
     "end_time": "2023-11-08T14:12:18.522512071Z",
     "start_time": "2023-11-08T14:12:18.515752778Z"
    }
   }
  },
  {
   "cell_type": "markdown",
   "source": [
    "## Calculating measures"
   ],
   "metadata": {
    "collapsed": false
   }
  },
  {
   "cell_type": "code",
   "execution_count": 38,
   "outputs": [],
   "source": [
    "df_ts_other_countries = df_ts_other_countries.sort_values(['location','date'])\n",
    "df_ts_other_countries['rate_new_deaths'] = df_ts_other_countries.new_deaths / df_ts_other_countries.population * 100000\n",
    "df_ts_other_countries['rate_new_deaths_moving_average'] = df_ts_other_countries.groupby('location')['rate_new_deaths'].transform(lambda x: x.rolling(7, min_periods=1).mean())\n",
    "df_ts_other_countries['new_deaths_moving_average'] = df_ts_other_countries.groupby('location')['new_deaths'].transform(lambda x: x.rolling(7, min_periods=1).mean())"
   ],
   "metadata": {
    "collapsed": false,
    "ExecuteTime": {
     "end_time": "2023-11-08T14:12:18.553662458Z",
     "start_time": "2023-11-08T14:12:18.522391728Z"
    }
   }
  },
  {
   "cell_type": "code",
   "execution_count": 39,
   "outputs": [],
   "source": [
    "df_ts_other_countries['rate_new_cases'] = df_ts_other_countries.new_cases / df_ts_other_countries.population * 100000\n",
    "df_ts_other_countries['rate_new_cases_moving_average'] = df_ts_other_countries.groupby('location')['rate_new_cases'].transform(lambda x: x.rolling(7, min_periods=1).mean())\n",
    "df_ts_other_countries['new_cases_moving_average'] = df_ts_other_countries.groupby('location')['new_cases'].transform(lambda x: x.rolling(7, min_periods=1).mean())"
   ],
   "metadata": {
    "collapsed": false,
    "ExecuteTime": {
     "end_time": "2023-11-08T14:12:18.600283089Z",
     "start_time": "2023-11-08T14:12:18.546816498Z"
    }
   }
  },
  {
   "cell_type": "markdown",
   "source": [
    "## Estimating effective reproduction number based in death time series\n"
   ],
   "metadata": {
    "collapsed": false
   }
  },
  {
   "cell_type": "code",
   "execution_count": 40,
   "outputs": [],
   "source": [
    "#Bi, Qifang, et al. \"Epidemiology and transmission of COVID-19 in 391 cases and 1286 of their close contacts in Shenzhen, China: a retrospective cohort study.\" The Lancet infectious diseases 20.8 (2020): 911-919.\n",
    "# Gamma distribution with serial interval mean equal to 6.36 days, gamma(a=2.29, b=0.36)\n",
    "standard_serial_inteval_distribution = epyestim.discrete_distrb(gamma(a=2.29, scale=1/0.36))\n",
    "\n",
    "#Bi, Qifang, et al. \"Epidemiology and transmission of COVID-19 in 391 cases and 1286 of their close contacts in Shenzhen, China: a retrospective cohort study.\" The Lancet infectious diseases 20.8 (2020): 911-919.\n",
    "# Lognormal distribution with incabation mean equal to 5.93 days, Lognormal(mu=1.57, sigma²=0.42)\n",
    "incubation_time_distribution = epyestim.discrete_distrb(lognorm(scale=exp(1.57), s=0.65))\n",
    "\n",
    "# Verity, Robert, et al. \"Estimates of the severity of coronavirus disease 2019: a model-based analysis.\" The Lancet infectious diseases 20.6 (2020): 669-677.\n",
    "# Gamma distribution with delay mean equal to 18.8 days\n",
    "mean_days_delay_onset_to_death = 18.8  # mean days onset to death.\n",
    "s_death = 0.45\n",
    "shape_death = 1/(s_death**2)\n",
    "scale_death= mean_days_delay_onset_to_death * s_death ** 2\n",
    "delay_onset_to_death_distribution = epyestim.discrete_distrb(gamma(a=shape_death, scale=scale_death))\n",
    "\n",
    "# Distribution resultant of convolution incubation_time_distribution and delay_onset_to_notification_distribution.\n",
    "# Represent delay of infection to notification with delay mean equal to 24.02 days.\n",
    "delay_infecton_to_death_distribution = np.convolve(incubation_time_distribution, delay_onset_to_death_distribution)"
   ],
   "metadata": {
    "collapsed": false,
    "ExecuteTime": {
     "end_time": "2023-11-08T14:12:18.637487923Z",
     "start_time": "2023-11-08T14:12:18.568680167Z"
    }
   }
  },
  {
   "cell_type": "code",
   "execution_count": 41,
   "outputs": [
    {
     "data": {
      "text/plain": "<Figure size 2592x216 with 4 Axes>",
      "image/png": "[encoded data removed]"
     },
     "metadata": {
      "needs_background": "light"
     },
     "output_type": "display_data"
    }
   ],
   "source": [
    "fig, axs = plt.subplots(1, 4, figsize=(36,3))\n",
    "\n",
    "axs[0].bar(range(len(standard_serial_inteval_distribution)), standard_serial_inteval_distribution, width=1)\n",
    "axs[1].bar(range(len(incubation_time_distribution)), incubation_time_distribution, width=1)\n",
    "axs[2].bar(range(len(delay_onset_to_death_distribution)), delay_onset_to_death_distribution, width=1)\n",
    "axs[3].bar(range(len(delay_infecton_to_death_distribution)), delay_infecton_to_death_distribution, width=1)\n",
    "\n",
    "axs[0].set_title('Default serial interval distribution')\n",
    "axs[1].set_title('Default incubation time distribution')\n",
    "axs[2].set_title('Onset-to-death delay distribution')\n",
    "axs[3].set_title('Infection-to-death delay distribution')\n",
    "plt.show()"
   ],
   "metadata": {
    "collapsed": false,
    "ExecuteTime": {
     "end_time": "2023-11-08T14:12:20.020394486Z",
     "start_time": "2023-11-08T14:12:18.616243030Z"
    }
   }
  },
  {
   "cell_type": "code",
   "execution_count": 42,
   "outputs": [
    {
     "data": {
      "text/plain": "19"
     },
     "execution_count": 42,
     "metadata": {},
     "output_type": "execute_result"
    }
   ],
   "source": [
    "window_days_onset_to_death = round(mean_days_delay_onset_to_death)\n",
    "window_days_onset_to_death"
   ],
   "metadata": {
    "collapsed": false,
    "ExecuteTime": {
     "end_time": "2023-11-08T14:12:20.024959383Z",
     "start_time": "2023-11-08T14:12:20.020253904Z"
    }
   }
  },
  {
   "cell_type": "code",
   "execution_count": 43,
   "outputs": [
    {
     "data": {
      "text/plain": "Index(['iso_code', 'continent', 'location', 'date', 'total_cases', 'new_cases',\n       'new_cases_smoothed', 'total_deaths', 'new_deaths',\n       'new_deaths_smoothed', 'total_cases_per_million',\n       'new_cases_per_million', 'new_cases_smoothed_per_million',\n       'total_deaths_per_million', 'new_deaths_per_million',\n       'new_deaths_smoothed_per_million', 'reproduction_rate', 'icu_patients',\n       'icu_patients_per_million', 'hosp_patients',\n       'hosp_patients_per_million', 'weekly_icu_admissions',\n       'weekly_icu_admissions_per_million', 'weekly_hosp_admissions',\n       'weekly_hosp_admissions_per_million', 'total_tests', 'new_tests',\n       'total_tests_per_thousand', 'new_tests_per_thousand',\n       'new_tests_smoothed', 'new_tests_smoothed_per_thousand',\n       'positive_rate', 'tests_per_case', 'tests_units', 'total_vaccinations',\n       'people_vaccinated', 'people_fully_vaccinated', 'total_boosters',\n       'new_vaccinations', 'new_vaccinations_smoothed',\n       'total_vaccinations_per_hundred', 'people_vaccinated_per_hundred',\n       'people_fully_vaccinated_per_hundred', 'total_boosters_per_hundred',\n       'new_vaccinations_smoothed_per_million',\n       'new_people_vaccinated_smoothed',\n       'new_people_vaccinated_smoothed_per_hundred', 'stringency_index',\n       'population_density', 'median_age', 'aged_65_older', 'aged_70_older',\n       'gdp_per_capita', 'extreme_poverty', 'cardiovasc_death_rate',\n       'diabetes_prevalence', 'female_smokers', 'male_smokers',\n       'handwashing_facilities', 'hospital_beds_per_thousand',\n       'life_expectancy', 'human_development_index', 'population',\n       'excess_mortality_cumulative_absolute', 'excess_mortality_cumulative',\n       'excess_mortality', 'excess_mortality_cumulative_per_million',\n       'rate_new_deaths', 'rate_new_deaths_moving_average',\n       'new_deaths_moving_average', 'rate_new_cases',\n       'rate_new_cases_moving_average', 'new_cases_moving_average'],\n      dtype='object')"
     },
     "execution_count": 43,
     "metadata": {},
     "output_type": "execute_result"
    }
   ],
   "source": [
    "df_ts_other_countries.columns"
   ],
   "metadata": {
    "collapsed": false,
    "ExecuteTime": {
     "end_time": "2023-11-08T14:12:20.036305279Z",
     "start_time": "2023-11-08T14:12:20.023531625Z"
    }
   }
  },
  {
   "cell_type": "code",
   "execution_count": 44,
   "outputs": [
    {
     "data": {
      "text/plain": "19"
     },
     "execution_count": 44,
     "metadata": {},
     "output_type": "execute_result"
    }
   ],
   "source": [
    "window_days_onset_to_death = round(mean_days_delay_onset_to_death)\n",
    "window_days_onset_to_death"
   ],
   "metadata": {
    "collapsed": false,
    "ExecuteTime": {
     "end_time": "2023-11-08T14:12:20.082427935Z",
     "start_time": "2023-11-08T14:12:20.032249251Z"
    }
   }
  },
  {
   "cell_type": "code",
   "execution_count": 45,
   "outputs": [
    {
     "name": "stdout",
     "output_type": "stream",
     "text": [
      "Belgium\n",
      "Denmark\n",
      "Hungary\n",
      "Luxembourg\n",
      "Norway\n",
      "Portugal\n",
      "Spain\n",
      "United Kingdom\n",
      "United States\n"
     ]
    }
   ],
   "source": [
    "df_with_rt = pd.DataFrame()\n",
    "\n",
    "for country in df_ts_other_countries.location.unique():\n",
    "    print(country)\n",
    "    df_country = df_ts_other_countries[df_ts_other_countries.location == country].copy()\n",
    "    survival_rate = (df_country.new_cases.sum() / df_country.new_deaths.sum())\n",
    "    df_country['estimated_cases_by_deaths'] = df_country['new_deaths_moving_average'] * survival_rate\n",
    "    df_country['estimated_onset_by_deaths'] = df_country['estimated_cases_by_deaths'].rolling(window=window_days_onset_to_death, min_periods=1).mean().shift(-(window_days_onset_to_death - 1))\n",
    "    df_estimated_cases = df_country.set_index('date')['estimated_onset_by_deaths'].dropna()\n",
    "    \n",
    "    df_effective_reproduction_number_estimated_cases = covid19.r_covid(df_estimated_cases, smoothing_window = 28, r_window_size = 14, auto_cutoff=True, n_samples=100, delay_distribution=delay_infecton_to_death_distribution, gt_distribution=standard_serial_inteval_distribution, a_prior=9.9, b_prior=1/9.25)\n",
    "    \n",
    "    df_effective_reproduction_number_estimated_cases = df_effective_reproduction_number_estimated_cases.reset_index()\n",
    "    df_effective_reproduction_number_estimated_cases = df_effective_reproduction_number_estimated_cases.rename(columns={'index': 'date', 'R_mean': 'NUMERO_REPRODUCAO_EFETIVO_ATRASADO_MEDIA', 'R_var': 'NUMERO_REPRODUCAO_EFETIVO_ATRASADO_VARIANCIA', 'Q0.025': 'NUMERO_REPRODUCAO_EFETIVO_ATRASADO_QUANTIL_0.025', 'Q0.5': 'NUMERO_REPRODUCAO_EFETIVO_ATRASADO_MEDIANA', 'Q0.975': 'NUMERO_REPRODUCAO_EFETIVO_ATRASADO_QUANTIL_0.975' })\n",
    "    df_effective_reproduction_number_estimated_cases['location'] = country\n",
    "    df_effective_reproduction_number_estimated_cases = df_effective_reproduction_number_estimated_cases.drop(columns=['cases'])\n",
    "    df_country = df_country.merge(df_effective_reproduction_number_estimated_cases, how='left', on=['location', 'date'])\n",
    "\n",
    "    df_with_rt = pd.concat([df_with_rt, df_country])"
   ],
   "metadata": {
    "collapsed": false,
    "ExecuteTime": {
     "end_time": "2023-11-08T14:14:52.650068273Z",
     "start_time": "2023-11-08T14:12:20.080170779Z"
    }
   }
  },
  {
   "cell_type": "markdown",
   "source": [
    "## Case fatality rate"
   ],
   "metadata": {
    "collapsed": false
   }
  },
  {
   "cell_type": "code",
   "execution_count": 46,
   "outputs": [
    {
     "name": "stdout",
     "output_type": "stream",
     "text": [
      "Belgium\n",
      "Denmark\n",
      "Hungary\n",
      "Luxembourg\n",
      "Norway\n",
      "Portugal\n",
      "Spain\n",
      "United Kingdom\n",
      "United States\n"
     ]
    }
   ],
   "source": [
    "df_with_cfr = pd.DataFrame()\n",
    "\n",
    "for country in df_with_rt.location.unique():\n",
    "    print(country)\n",
    "    df_country = df_with_rt[df_with_rt.location == country].copy()\n",
    "    df_country['TAXA_FATALIDADE'] = df_country.rate_new_deaths_moving_average / df_country.rate_new_cases_moving_average.shift(19) * 100\n",
    "    \n",
    "    df_with_cfr = pd.concat([df_with_cfr, df_country])"
   ],
   "metadata": {
    "collapsed": false,
    "ExecuteTime": {
     "end_time": "2023-11-08T14:14:52.720897093Z",
     "start_time": "2023-11-08T14:14:52.654171983Z"
    }
   }
  },
  {
   "cell_type": "markdown",
   "source": [
    "## Saving data\n"
   ],
   "metadata": {
    "collapsed": false
   }
  },
  {
   "cell_type": "code",
   "execution_count": 47,
   "outputs": [],
   "source": [
    "df_with_cfr.to_csv('data/output/df_ts_other_countries_epidemic_parameters.csv')"
   ],
   "metadata": {
    "collapsed": false,
    "ExecuteTime": {
     "end_time": "2023-11-08T14:14:53.209067568Z",
     "start_time": "2023-11-08T14:14:52.719052317Z"
    }
   }
  },
  {
   "cell_type": "code",
   "execution_count": 48,
   "outputs": [
    {
     "data": {
      "text/plain": "  iso_code continent location       date  total_cases  new_cases  \\\n0      BEL    Europe  Belgium 2020-01-03          NaN        0.0   \n1      BEL    Europe  Belgium 2020-01-04          NaN        0.0   \n2      BEL    Europe  Belgium 2020-01-05          NaN        0.0   \n3      BEL    Europe  Belgium 2020-01-06          NaN        0.0   \n4      BEL    Europe  Belgium 2020-01-07          NaN        0.0   \n\n   new_cases_smoothed  total_deaths  new_deaths  new_deaths_smoothed  ...  \\\n0                 NaN           NaN         0.0                  NaN  ...   \n1                 NaN           NaN         0.0                  NaN  ...   \n2                 NaN           NaN         0.0                  NaN  ...   \n3                 NaN           NaN         0.0                  NaN  ...   \n4                 NaN           NaN         0.0                  NaN  ...   \n\n   rate_new_cases_moving_average  new_cases_moving_average  \\\n0                            0.0                       0.0   \n1                            0.0                       0.0   \n2                            0.0                       0.0   \n3                            0.0                       0.0   \n4                            0.0                       0.0   \n\n   estimated_cases_by_deaths  estimated_onset_by_deaths  \\\n0                        0.0                        0.0   \n1                        0.0                        0.0   \n2                        0.0                        0.0   \n3                        0.0                        0.0   \n4                        0.0                        0.0   \n\n   NUMERO_REPRODUCAO_EFETIVO_ATRASADO_MEDIA  \\\n0                                       NaN   \n1                                       NaN   \n2                                       NaN   \n3                                       NaN   \n4                                       NaN   \n\n   NUMERO_REPRODUCAO_EFETIVO_ATRASADO_VARIANCIA  \\\n0                                           NaN   \n1                                           NaN   \n2                                           NaN   \n3                                           NaN   \n4                                           NaN   \n\n   NUMERO_REPRODUCAO_EFETIVO_ATRASADO_QUANTIL_0.025  \\\n0                                               NaN   \n1                                               NaN   \n2                                               NaN   \n3                                               NaN   \n4                                               NaN   \n\n   NUMERO_REPRODUCAO_EFETIVO_ATRASADO_MEDIANA  \\\n0                                         NaN   \n1                                         NaN   \n2                                         NaN   \n3                                         NaN   \n4                                         NaN   \n\n   NUMERO_REPRODUCAO_EFETIVO_ATRASADO_QUANTIL_0.975  TAXA_FATALIDADE  \n0                                               NaN              NaN  \n1                                               NaN              NaN  \n2                                               NaN              NaN  \n3                                               NaN              NaN  \n4                                               NaN              NaN  \n\n[5 rows x 81 columns]",
      "text/html": "<div>\n<style scoped>\n    .dataframe tbody tr th:only-of-type {\n        vertical-align: middle;\n    }\n\n    .dataframe tbody tr th {\n        vertical-align: top;\n    }\n\n    .dataframe thead th {\n        text-align: right;\n    }\n</style>\n<table border=\"1\" class=\"dataframe\">\n  <thead>\n    <tr style=\"text-align: right;\">\n      <th></th>\n      <th>iso_code</th>\n      <th>continent</th>\n      <th>location</th>\n      <th>date</th>\n      <th>total_cases</th>\n      <th>new_cases</th>\n      <th>new_cases_smoothed</th>\n      <th>total_deaths</th>\n      <th>new_deaths</th>\n      <th>new_deaths_smoothed</th>\n      <th>...</th>\n      <th>rate_new_cases_moving_average</th>\n      <th>new_cases_moving_average</th>\n      <th>estimated_cases_by_deaths</th>\n      <th>estimated_onset_by_deaths</th>\n      <th>NUMERO_REPRODUCAO_EFETIVO_ATRASADO_MEDIA</th>\n      <th>NUMERO_REPRODUCAO_EFETIVO_ATRASADO_VARIANCIA</th>\n      <th>NUMERO_REPRODUCAO_EFETIVO_ATRASADO_QUANTIL_0.025</th>\n      <th>NUMERO_REPRODUCAO_EFETIVO_ATRASADO_MEDIANA</th>\n      <th>NUMERO_REPRODUCAO_EFETIVO_ATRASADO_QUANTIL_0.975</th>\n      <th>TAXA_FATALIDADE</th>\n    </tr>\n  </thead>\n  <tbody>\n    <tr>\n      <th>0</th>\n      <td>BEL</td>\n      <td>Europe</td>\n      <td>Belgium</td>\n      <td>2020-01-03</td>\n      <td>NaN</td>\n      <td>0.0</td>\n      <td>NaN</td>\n      <td>NaN</td>\n      <td>0.0</td>\n      <td>NaN</td>\n      <td>...</td>\n      <td>0.0</td>\n      <td>0.0</td>\n      <td>0.0</td>\n      <td>0.0</td>\n      <td>NaN</td>\n      <td>NaN</td>\n      <td>NaN</td>\n      <td>NaN</td>\n      <td>NaN</td>\n      <td>NaN</td>\n    </tr>\n    <tr>\n      <th>1</th>\n      <td>BEL</td>\n      <td>Europe</td>\n      <td>Belgium</td>\n      <td>2020-01-04</td>\n      <td>NaN</td>\n      <td>0.0</td>\n      <td>NaN</td>\n      <td>NaN</td>\n      <td>0.0</td>\n      <td>NaN</td>\n      <td>...</td>\n      <td>0.0</td>\n      <td>0.0</td>\n      <td>0.0</td>\n      <td>0.0</td>\n      <td>NaN</td>\n      <td>NaN</td>\n      <td>NaN</td>\n      <td>NaN</td>\n      <td>NaN</td>\n      <td>NaN</td>\n    </tr>\n    <tr>\n      <th>2</th>\n      <td>BEL</td>\n      <td>Europe</td>\n      <td>Belgium</td>\n      <td>2020-01-05</td>\n      <td>NaN</td>\n      <td>0.0</td>\n      <td>NaN</td>\n      <td>NaN</td>\n      <td>0.0</td>\n      <td>NaN</td>\n      <td>...</td>\n      <td>0.0</td>\n      <td>0.0</td>\n      <td>0.0</td>\n      <td>0.0</td>\n      <td>NaN</td>\n      <td>NaN</td>\n      <td>NaN</td>\n      <td>NaN</td>\n      <td>NaN</td>\n      <td>NaN</td>\n    </tr>\n    <tr>\n      <th>3</th>\n      <td>BEL</td>\n      <td>Europe</td>\n      <td>Belgium</td>\n      <td>2020-01-06</td>\n      <td>NaN</td>\n      <td>0.0</td>\n      <td>NaN</td>\n      <td>NaN</td>\n      <td>0.0</td>\n      <td>NaN</td>\n      <td>...</td>\n      <td>0.0</td>\n      <td>0.0</td>\n      <td>0.0</td>\n      <td>0.0</td>\n      <td>NaN</td>\n      <td>NaN</td>\n      <td>NaN</td>\n      <td>NaN</td>\n      <td>NaN</td>\n      <td>NaN</td>\n    </tr>\n    <tr>\n      <th>4</th>\n      <td>BEL</td>\n      <td>Europe</td>\n      <td>Belgium</td>\n      <td>2020-01-07</td>\n      <td>NaN</td>\n      <td>0.0</td>\n      <td>NaN</td>\n      <td>NaN</td>\n      <td>0.0</td>\n      <td>NaN</td>\n      <td>...</td>\n      <td>0.0</td>\n      <td>0.0</td>\n      <td>0.0</td>\n      <td>0.0</td>\n      <td>NaN</td>\n      <td>NaN</td>\n      <td>NaN</td>\n      <td>NaN</td>\n      <td>NaN</td>\n      <td>NaN</td>\n    </tr>\n  </tbody>\n</table>\n<p>5 rows × 81 columns</p>\n</div>"
     },
     "execution_count": 48,
     "metadata": {},
     "output_type": "execute_result"
    }
   ],
   "source": [
    "df_with_cfr.head()"
   ],
   "metadata": {
    "collapsed": false,
    "ExecuteTime": {
     "end_time": "2023-11-08T14:14:53.240760420Z",
     "start_time": "2023-11-08T14:14:53.226536081Z"
    }
   }
  },
  {
   "cell_type": "code",
   "execution_count": 49,
   "outputs": [
    {
     "data": {
      "text/plain": "(9846, 81)"
     },
     "execution_count": 49,
     "metadata": {},
     "output_type": "execute_result"
    }
   ],
   "source": [
    "df_with_cfr.shape"
   ],
   "metadata": {
    "collapsed": false,
    "ExecuteTime": {
     "end_time": "2023-11-08T14:14:53.242103909Z",
     "start_time": "2023-11-08T14:14:53.230680801Z"
    }
   }
  }
 ],
 "metadata": {
  "kernelspec": {
   "display_name": "Python 3",
   "language": "python",
   "name": "python3"
  },
  "language_info": {
   "codemirror_mode": {
    "name": "ipython",
    "version": 2
   },
   "file_extension": ".py",
   "mimetype": "text/x-python",
   "name": "python",
   "nbconvert_exporter": "python",
   "pygments_lexer": "ipython2",
   "version": "2.7.6"
  }
 },
 "nbformat": 4,
 "nbformat_minor": 0
}
