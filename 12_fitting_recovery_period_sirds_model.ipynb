{
 "cells": [
  {
   "cell_type": "markdown",
   "source": [
    "# Fit the parameter recovery period for national data"
   ],
   "metadata": {
    "collapsed": false
   }
  },
  {
   "cell_type": "code",
   "execution_count": 1,
   "metadata": {
    "collapsed": true,
    "ExecuteTime": {
     "end_time": "2023-11-21T18:19:52.328070396Z",
     "start_time": "2023-11-21T18:19:51.153018652Z"
    }
   },
   "outputs": [],
   "source": [
    "import numpy as np\n",
    "import pandas as pd\n",
    "from scipy.optimize import differential_evolution\n",
    "from datetime import datetime\n",
    "\n",
    "from sirds_model import get_bounds_and_arguments, sirds_objective_function"
   ]
  },
  {
   "cell_type": "markdown",
   "source": [
    "## Reading data"
   ],
   "metadata": {
    "collapsed": false
   }
  },
  {
   "cell_type": "code",
   "execution_count": 2,
   "outputs": [],
   "source": [
    "df = pd.read_csv('data/output/df_ts_epidemic_episodes.csv', index_col=0)\n",
    "df.DATA = pd.to_datetime(df.DATA)"
   ],
   "metadata": {
    "collapsed": false,
    "ExecuteTime": {
     "end_time": "2023-11-21T18:19:52.344386129Z",
     "start_time": "2023-11-21T18:19:52.330602532Z"
    }
   }
  },
  {
   "cell_type": "markdown",
   "source": [
    "## Preparing data"
   ],
   "metadata": {
    "collapsed": false
   }
  },
  {
   "cell_type": "code",
   "execution_count": 3,
   "outputs": [],
   "source": [
    "df = df.sort_values(by=['DATA'])"
   ],
   "metadata": {
    "collapsed": false,
    "ExecuteTime": {
     "end_time": "2023-11-21T18:19:52.354461992Z",
     "start_time": "2023-11-21T18:19:52.346611074Z"
    }
   }
  },
  {
   "cell_type": "code",
   "execution_count": 4,
   "outputs": [],
   "source": [
    "df['TAXA_CASOS_NOVOS_MEDIA_MOVEL_7_DIAS_PAINEL'] = df['CASOS_NOVOS_MEDIA_MOVEL_7_DIAS_PAINEL']/df['POPULACAO_2022'] * 100000 "
   ],
   "metadata": {
    "collapsed": false,
    "ExecuteTime": {
     "end_time": "2023-11-21T18:19:52.356580577Z",
     "start_time": "2023-11-21T18:19:52.351095550Z"
    }
   }
  },
  {
   "cell_type": "code",
   "execution_count": 5,
   "outputs": [],
   "source": [
    "df['TAXA_CASOS_NOVOS_MEDIA_MOVEL_7_DIAS_PAINEL'] = df['TAXA_CASOS_NOVOS_MEDIA_MOVEL_7_DIAS_PAINEL'].fillna(0)"
   ],
   "metadata": {
    "collapsed": false,
    "ExecuteTime": {
     "end_time": "2023-11-21T18:19:52.379009227Z",
     "start_time": "2023-11-21T18:19:52.354883801Z"
    }
   }
  },
  {
   "cell_type": "code",
   "execution_count": 6,
   "outputs": [],
   "source": [
    "df['TAXA_CASOS_NOVOS_MEDIA_MOVEL_7_DIAS_PAINEL'] = df['TAXA_CASOS_NOVOS_MEDIA_MOVEL_7_DIAS_PAINEL'].replace([np.inf, -np.inf], 0)"
   ],
   "metadata": {
    "collapsed": false,
    "ExecuteTime": {
     "end_time": "2023-11-21T18:19:52.412317539Z",
     "start_time": "2023-11-21T18:19:52.405022018Z"
    }
   }
  },
  {
   "cell_type": "markdown",
   "source": [
    "## Executing model"
   ],
   "metadata": {
    "collapsed": false
   }
  },
  {
   "cell_type": "code",
   "execution_count": null,
   "outputs": [
    {
     "name": "stdout",
     "output_type": "stream",
     "text": [
      "days_to_recovery: 8\n",
      "days_to_recovery: 9\n",
      "days_to_recovery: 10\n",
      "days_to_recovery: 11\n",
      "days_to_recovery: 12\n",
      "days_to_recovery: 13\n",
      "days_to_recovery: 14\n",
      "days_to_recovery: 15\n",
      "days_to_recovery: 16\n",
      "days_to_recovery: 17\n",
      "days_to_recovery: 18\n",
      "days_to_recovery: 19\n",
      "days_to_recovery: 20\n",
      "days_to_recovery: 8\n",
      "days_to_recovery: 9\n",
      "days_to_recovery: 10\n",
      "days_to_recovery: 11\n",
      "days_to_recovery: 12\n",
      "days_to_recovery: 13\n",
      "days_to_recovery: 14\n",
      "days_to_recovery: 15\n",
      "days_to_recovery: 16\n",
      "days_to_recovery: 17\n",
      "days_to_recovery: 18\n",
      "days_to_recovery: 19\n",
      "days_to_recovery: 20\n",
      "days_to_recovery: 8\n",
      "days_to_recovery: 9\n",
      "days_to_recovery: 10\n",
      "days_to_recovery: 11\n",
      "days_to_recovery: 12\n",
      "days_to_recovery: 13\n",
      "days_to_recovery: 14\n",
      "days_to_recovery: 15\n",
      "days_to_recovery: 16\n",
      "days_to_recovery: 17\n",
      "days_to_recovery: 18\n",
      "days_to_recovery: 19\n",
      "days_to_recovery: 20\n",
      "days_to_recovery: 8\n",
      "days_to_recovery: 9\n",
      "days_to_recovery: 10\n",
      "days_to_recovery: 11\n",
      "days_to_recovery: 12\n",
      "days_to_recovery: 13\n",
      "days_to_recovery: 14\n",
      "days_to_recovery: 15\n",
      "days_to_recovery: 16\n",
      "days_to_recovery: 17\n",
      "days_to_recovery: 18\n",
      "days_to_recovery: 19\n",
      "days_to_recovery: 20\n",
      "days_to_recovery: 8\n",
      "days_to_recovery: 9\n",
      "days_to_recovery: 10\n",
      "days_to_recovery: 11\n",
      "days_to_recovery: 12\n",
      "days_to_recovery: 13\n",
      "days_to_recovery: 14\n",
      "days_to_recovery: 15\n",
      "days_to_recovery: 16\n",
      "days_to_recovery: 17\n",
      "days_to_recovery: 18\n",
      "days_to_recovery: 19\n",
      "days_to_recovery: 20\n",
      "days_to_recovery: 8\n",
      "days_to_recovery: 9\n",
      "days_to_recovery: 10\n",
      "days_to_recovery: 11\n",
      "days_to_recovery: 12\n",
      "days_to_recovery: 13\n",
      "days_to_recovery: 14\n",
      "days_to_recovery: 15\n",
      "estimation: 5\n",
      "2023-11-21 15:19:52.399382\n",
      "9074.952005\n",
      "{'estimation': 5, 'result_fun': 0.3520625695276672, 'result_nfev': 163976, 'result_nit': 761, 'result_success': True, 'start_time': '2023-11-21 15:19:52', 'end_time': '2023-11-21 17:51:07', 'duration_seconds': 9074.952005, 'pop_size': 5, 'period_in_days': 1050, 'days_to_recovery': 15, 'date_first_case': Timestamp('2020-02-16 00:00:00'), 'list_breakpoints_in_slow_transition': [3, 6, 7, 9], 'x_initial_infected_population': 0.04274389499548869, 'x_days_between_infections_0': 5.943232797127776, 'x_case_fatality_probability_0': 0.013107804249189307, 'x_loss_immunity_in_days_0': 210.2562456761351, 'x_case_fatality_probability_1': 0.005413931410971844, 'x_loss_immunity_in_days_1': 138.70767025358475, 'x_case_fatality_probability_2': 0.0013529797786110843, 'x_loss_immunity_in_days_2': 120.30817068928717, 'x_case_fatality_probability_3': 0.000317048720909745, 'x_loss_immunity_in_days_3': 310.41502047440775, 'x_case_fatality_probability_4': 0.0005708090696995814, 'x_loss_immunity_in_days_4': 269.1380643976822, 'x_days_between_infections_1': 6.076395575272987, 'x_breakpoint_1': 86.88816999070835, 'x_transition_days_between_epidemic_periods_1': 5.435399284509376, 'x_days_between_infections_2': 12.928725623783627, 'x_breakpoint_2': 107.95246174028875, 'x_transition_days_between_epidemic_periods_2': 1.740563117320857, 'x_days_between_infections_3': 15.236979724611032, 'x_breakpoint_3': 119.17948068932697, 'x_transition_days_between_epidemic_periods_3': 55.33052375744556, 'x_days_between_infections_4': 10.71989481077888, 'x_breakpoint_4': 259.6868062070214, 'x_transition_days_between_epidemic_periods_4': 15.957311186532658, 'x_days_between_infections_5': 12.197683410082988, 'x_breakpoint_5': 318.77971954311414, 'x_transition_days_between_epidemic_periods_5': 21.91991532042524, 'x_days_between_infections_6': 8.255996097341908, 'x_breakpoint_6': 361.15056715917547, 'x_transition_days_between_epidemic_periods_6': 1.75616332895045, 'x_days_between_infections_7': 6.180144355694029, 'x_breakpoint_7': 447.5006998732108, 'x_transition_days_between_epidemic_periods_7': 7.094975380818113, 'x_days_between_infections_8': 2.8745595107507684, 'x_breakpoint_8': 674.7100767229967, 'x_transition_days_between_epidemic_periods_8': 6.815256255263964, 'x_days_between_infections_9': 5.975112856044039, 'x_breakpoint_9': 817.912244234216, 'x_transition_days_between_epidemic_periods_9': 43.596690062872405, 'x_days_between_infections_10': 7.405744814182516, 'x_breakpoint_10': 971.5191976372893, 'x_transition_days_between_epidemic_periods_10': 55.21749078413137}\n",
      "days_to_recovery: 16\n",
      "estimation: 5\n",
      "2023-11-21 17:51:07.359831\n",
      "6764.458903\n",
      "{'estimation': 5, 'result_fun': 0.37423627387222785, 'result_nfev': 121315, 'result_nit': 547, 'result_success': True, 'start_time': '2023-11-21 17:51:07', 'end_time': '2023-11-21 19:43:51', 'duration_seconds': 6764.458903, 'pop_size': 5, 'period_in_days': 1050, 'days_to_recovery': 16, 'date_first_case': Timestamp('2020-02-16 00:00:00'), 'list_breakpoints_in_slow_transition': [3, 6, 7, 9], 'x_initial_infected_population': 0.042086949810494594, 'x_days_between_infections_0': 6.3714648981187345, 'x_case_fatality_probability_0': 0.013084343649934523, 'x_loss_immunity_in_days_0': 285.2779185847155, 'x_case_fatality_probability_1': 0.002042689511442027, 'x_loss_immunity_in_days_1': 262.09168053599615, 'x_case_fatality_probability_2': 0.0025464686779045247, 'x_loss_immunity_in_days_2': 277.02525358579794, 'x_case_fatality_probability_3': 0.00033723899333924887, 'x_loss_immunity_in_days_3': 244.65449125198793, 'x_case_fatality_probability_4': 9.900000000000001e-05, 'x_loss_immunity_in_days_4': 320.8686616738046, 'x_days_between_infections_1': 14.553427275351739, 'x_breakpoint_1': 79.91215707430042, 'x_transition_days_between_epidemic_periods_1': 10.005826351939966, 'x_days_between_infections_2': 4.810775443750754, 'x_breakpoint_2': 110.24696952086859, 'x_transition_days_between_epidemic_periods_2': 51.50825449311985, 'x_days_between_infections_3': 14.751331567663831, 'x_breakpoint_3': 117.93312416841522, 'x_transition_days_between_epidemic_periods_3': 4.906104422415304, 'x_days_between_infections_4': 10.394953035412469, 'x_breakpoint_4': 257.2373126829837, 'x_transition_days_between_epidemic_periods_4': 26.337525714106143, 'x_days_between_infections_5': 12.43489629159683, 'x_breakpoint_5': 313.0679119909727, 'x_transition_days_between_epidemic_periods_5': 36.799344264850305, 'x_days_between_infections_6': 8.403726439499012, 'x_breakpoint_6': 356.823361887105, 'x_transition_days_between_epidemic_periods_6': 11.658542649038079, 'x_days_between_infections_7': 6.517641594137314, 'x_breakpoint_7': 443.15745742370217, 'x_transition_days_between_epidemic_periods_7': 6.674405690517656, 'x_days_between_infections_8': 8.054734158021502, 'x_breakpoint_8': 669.5294627218577, 'x_transition_days_between_epidemic_periods_8': 55.51136853071799, 'x_days_between_infections_9': 5.914364020137744, 'x_breakpoint_9': 789.0650740887531, 'x_transition_days_between_epidemic_periods_9': 21.342388019231564, 'x_days_between_infections_10': 2.912594839378619, 'x_breakpoint_10': 970.7025984752966, 'x_transition_days_between_epidemic_periods_10': 12.011806942076994}\n",
      "days_to_recovery: 17\n",
      "estimation: 5\n",
      "2023-11-21 19:43:51.826201\n",
      "8305.163144\n",
      "{'estimation': 5, 'result_fun': 0.4120407434882739, 'result_nfev': 153200, 'result_nit': 706, 'result_success': True, 'start_time': '2023-11-21 19:43:51', 'end_time': '2023-11-21 22:02:16', 'duration_seconds': 8305.163144, 'pop_size': 5, 'period_in_days': 1050, 'days_to_recovery': 17, 'date_first_case': Timestamp('2020-02-16 00:00:00'), 'list_breakpoints_in_slow_transition': [3, 6, 7, 9], 'x_initial_infected_population': 0.04097776002176558, 'x_days_between_infections_0': 6.854348359355148, 'x_case_fatality_probability_0': 0.012674985371768427, 'x_loss_immunity_in_days_0': 249.42944167360852, 'x_case_fatality_probability_1': 0.003503635951844146, 'x_loss_immunity_in_days_1': 184.46389962383734, 'x_case_fatality_probability_2': 0.0023694452498233334, 'x_loss_immunity_in_days_2': 203.56474744879355, 'x_case_fatality_probability_3': 0.0003237896874206448, 'x_loss_immunity_in_days_3': 204.98892358556895, 'x_case_fatality_probability_4': 0.00010379256244631425, 'x_loss_immunity_in_days_4': 116.44459066538795, 'x_days_between_infections_1': 6.786154547997405, 'x_breakpoint_1': 20.039919076356725, 'x_transition_days_between_epidemic_periods_1': 13.713231219217068, 'x_days_between_infections_2': 7.911860230916941, 'x_breakpoint_2': 113.08834052469663, 'x_transition_days_between_epidemic_periods_2': 19.704291517639263, 'x_days_between_infections_3': 17.07529757116622, 'x_breakpoint_3': 117.23926258632706, 'x_transition_days_between_epidemic_periods_3': 37.22913200389884, 'x_days_between_infections_4': 10.779341972103438, 'x_breakpoint_4': 261.9562540514931, 'x_transition_days_between_epidemic_periods_4': 21.035000304312526, 'x_days_between_infections_5': 14.056343450882427, 'x_breakpoint_5': 309.6587356970028, 'x_transition_days_between_epidemic_periods_5': 23.87964603551425, 'x_days_between_infections_6': 9.820559032460379, 'x_breakpoint_6': 352.60034902965236, 'x_transition_days_between_epidemic_periods_6': 4.819415366504362, 'x_days_between_infections_7': 8.939480251893107, 'x_breakpoint_7': 447.6000775780758, 'x_transition_days_between_epidemic_periods_7': 15.922926742755063, 'x_days_between_infections_8': 3.412956632837972, 'x_breakpoint_8': 675.0383382703955, 'x_transition_days_between_epidemic_periods_8': 15.546427452590633, 'x_days_between_infections_9': 3.9009284194122538, 'x_breakpoint_9': 814.8808927296697, 'x_transition_days_between_epidemic_periods_9': 47.53382700767897, 'x_days_between_infections_10': 3.3095202307518967, 'x_breakpoint_10': 980.2024918963851, 'x_transition_days_between_epidemic_periods_10': 18.308893652393152}\n",
      "days_to_recovery: 18\n",
      "estimation: 5\n",
      "2023-11-21 22:02:16.997608\n",
      "7944.653784\n",
      "{'estimation': 5, 'result_fun': 0.4009691859280633, 'result_nfev': 149023, 'result_nit': 690, 'result_success': True, 'start_time': '2023-11-21 22:02:16', 'end_time': '2023-11-22 00:14:41', 'duration_seconds': 7944.653784, 'pop_size': 5, 'period_in_days': 1050, 'days_to_recovery': 18, 'date_first_case': Timestamp('2020-02-16 00:00:00'), 'list_breakpoints_in_slow_transition': [3, 6, 7, 9], 'x_initial_infected_population': 0.04301062775211707, 'x_days_between_infections_0': 7.156484354464584, 'x_case_fatality_probability_0': 0.012794627311076553, 'x_loss_immunity_in_days_0': 261.0128903799818, 'x_case_fatality_probability_1': 0.011681705078178391, 'x_loss_immunity_in_days_1': 259.361347326436, 'x_case_fatality_probability_2': 0.0015756560563103452, 'x_loss_immunity_in_days_2': 97.75190836426114, 'x_case_fatality_probability_3': 0.0003208258668051275, 'x_loss_immunity_in_days_3': 252.2080098919613, 'x_case_fatality_probability_4': 0.00011478532959878062, 'x_loss_immunity_in_days_4': 253.60601815571704, 'x_days_between_infections_1': 18.622915046501156, 'x_breakpoint_1': 80.16154143343543, 'x_transition_days_between_epidemic_periods_1': 13.223775817500584, 'x_days_between_infections_2': 5.25500887440228, 'x_breakpoint_2': 109.22748196864299, 'x_transition_days_between_epidemic_periods_2': 55.53113325222916, 'x_days_between_infections_3': 19.147146282990146, 'x_breakpoint_3': 126.75160339934544, 'x_transition_days_between_epidemic_periods_3': 8.537199100061951, 'x_days_between_infections_4': 12.698413023274526, 'x_breakpoint_4': 263.09424039783164, 'x_transition_days_between_epidemic_periods_4': 19.727526334994874, 'x_days_between_infections_5': 14.205661070862341, 'x_breakpoint_5': 310.82724120411103, 'x_transition_days_between_epidemic_periods_5': 35.74662478129947, 'x_days_between_infections_6': 9.92251532825474, 'x_breakpoint_6': 361.4744090096021, 'x_transition_days_between_epidemic_periods_6': 3.32210787212766, 'x_days_between_infections_7': 10.76958406781397, 'x_breakpoint_7': 440.0912262406404, 'x_transition_days_between_epidemic_periods_7': 50.42723261011386, 'x_days_between_infections_8': 9.578279569459426, 'x_breakpoint_8': 668.7378196977518, 'x_transition_days_between_epidemic_periods_8': 5.541511729075225, 'x_days_between_infections_9': 6.354063632868396, 'x_breakpoint_9': 801.3222189099291, 'x_transition_days_between_epidemic_periods_9': 9.045359901546092, 'x_days_between_infections_10': 3.3781879208082928, 'x_breakpoint_10': 971.4776893530683, 'x_transition_days_between_epidemic_periods_10': 14.817456839975625}\n",
      "days_to_recovery: 19\n",
      "estimation: 5\n",
      "2023-11-22 00:14:41.664889\n",
      "5828.487221\n",
      "{'estimation': 5, 'result_fun': 0.43788577865051703, 'result_nfev': 116850, 'result_nit': 537, 'result_success': True, 'start_time': '2023-11-22 00:14:41', 'end_time': '2023-11-22 01:51:50', 'duration_seconds': 5828.487221, 'pop_size': 5, 'period_in_days': 1050, 'days_to_recovery': 19, 'date_first_case': Timestamp('2020-02-16 00:00:00'), 'list_breakpoints_in_slow_transition': [3, 6, 7, 9], 'x_initial_infected_population': 0.04281722060418239, 'x_days_between_infections_0': 7.581778699291317, 'x_case_fatality_probability_0': 0.01215527767052687, 'x_loss_immunity_in_days_0': 301.8734908456018, 'x_case_fatality_probability_1': 0.00752759014860749, 'x_loss_immunity_in_days_1': 148.4944859384245, 'x_case_fatality_probability_2': 0.001447570648503631, 'x_loss_immunity_in_days_2': 116.91620045298556, 'x_case_fatality_probability_3': 0.00031240799157794254, 'x_loss_immunity_in_days_3': 279.09887749217773, 'x_case_fatality_probability_4': 0.00011344504795039415, 'x_loss_immunity_in_days_4': 292.79150385480636, 'x_days_between_infections_1': 7.693985710301158, 'x_breakpoint_1': 53.26286148828442, 'x_transition_days_between_epidemic_periods_1': 28.355975291842356, 'x_days_between_infections_2': 6.0251483893008935, 'x_breakpoint_2': 107.0812283824439, 'x_transition_days_between_epidemic_periods_2': 18.107049125038962, 'x_days_between_infections_3': 19.91703447807697, 'x_breakpoint_3': 118.29207317780066, 'x_transition_days_between_epidemic_periods_3': 30.635984149950733, 'x_days_between_infections_4': 13.00794710948378, 'x_breakpoint_4': 264.49638324079376, 'x_transition_days_between_epidemic_periods_4': 33.62123816517709, 'x_days_between_infections_5': 14.891663607553536, 'x_breakpoint_5': 315.10896849111174, 'x_transition_days_between_epidemic_periods_5': 10.078084501131038, 'x_days_between_infections_6': 10.267912069751777, 'x_breakpoint_6': 361.6624209486968, 'x_transition_days_between_epidemic_periods_6': 3.4921909765228385, 'x_days_between_infections_7': 9.236308840238548, 'x_breakpoint_7': 445.71307777033354, 'x_transition_days_between_epidemic_periods_7': 11.089706520384087, 'x_days_between_infections_8': 8.867571160861214, 'x_breakpoint_8': 667.1008737357314, 'x_transition_days_between_epidemic_periods_8': 28.276148053511008, 'x_days_between_infections_9': 6.142861370858395, 'x_breakpoint_9': 795.6743785617289, 'x_transition_days_between_epidemic_periods_9': 22.106639562142274, 'x_days_between_infections_10': 3.6429360507811364, 'x_breakpoint_10': 969.6879523867595, 'x_transition_days_between_epidemic_periods_10': 10.731783405709972}\n",
      "days_to_recovery: 20\n",
      "estimation: 5\n",
      "2023-11-22 01:51:50.164923\n",
      "6661.046488\n",
      "{'estimation': 5, 'result_fun': 0.45279088978202753, 'result_nfev': 134839, 'result_nit': 620, 'result_success': True, 'start_time': '2023-11-22 01:51:50', 'end_time': '2023-11-22 03:42:51', 'duration_seconds': 6661.046488, 'pop_size': 5, 'period_in_days': 1050, 'days_to_recovery': 20, 'date_first_case': Timestamp('2020-02-16 00:00:00'), 'list_breakpoints_in_slow_transition': [3, 6, 7, 9], 'x_initial_infected_population': 0.04173982128198109, 'x_days_between_infections_0': 7.948011952323341, 'x_case_fatality_probability_0': 0.01304976799042076, 'x_loss_immunity_in_days_0': 213.57786981086787, 'x_case_fatality_probability_1': 0.0044620939096845155, 'x_loss_immunity_in_days_1': 205.49586566958766, 'x_case_fatality_probability_2': 0.0018365453135334633, 'x_loss_immunity_in_days_2': 104.33720287033215, 'x_case_fatality_probability_3': 0.0003102300882571957, 'x_loss_immunity_in_days_3': 281.36942827114905, 'x_case_fatality_probability_4': 0.0001032797936118819, 'x_loss_immunity_in_days_4': 247.0733614908707, 'x_days_between_infections_1': 8.01393463863936, 'x_breakpoint_1': 44.41446819657029, 'x_transition_days_between_epidemic_periods_1': 3.519306720172782, 'x_days_between_infections_2': 5.843279443069186, 'x_breakpoint_2': 108.38051958354266, 'x_transition_days_between_epidemic_periods_2': 47.06216652549327, 'x_days_between_infections_3': 20.566652250430078, 'x_breakpoint_3': 116.93826584061335, 'x_transition_days_between_epidemic_periods_3': 28.415343579828196, 'x_days_between_infections_4': 13.791293731367022, 'x_breakpoint_4': 251.81286189208714, 'x_transition_days_between_epidemic_periods_4': 27.335678107201378, 'x_days_between_infections_5': 15.08566603835515, 'x_breakpoint_5': 317.4602716103502, 'x_transition_days_between_epidemic_periods_5': 43.84050027923356, 'x_days_between_infections_6': 10.435893613509824, 'x_breakpoint_6': 361.29505781488757, 'x_transition_days_between_epidemic_periods_6': 9.652137311994434, 'x_days_between_infections_7': 12.122862380703136, 'x_breakpoint_7': 444.06297233667595, 'x_transition_days_between_epidemic_periods_7': 42.56353231973636, 'x_days_between_infections_8': 10.017941978233173, 'x_breakpoint_8': 675.4420132118837, 'x_transition_days_between_epidemic_periods_8': 4.997207752249572, 'x_days_between_infections_9': 6.532069275797325, 'x_breakpoint_9': 800.3510944374, 'x_transition_days_between_epidemic_periods_9': 16.799343539966888, 'x_days_between_infections_10': 3.698775124493203, 'x_breakpoint_10': 974.7893113201187, 'x_transition_days_between_epidemic_periods_10': 13.943820283557192}\n",
      "days_to_recovery: 8\n",
      "estimation: 6\n",
      "2023-11-22 03:42:51.224710\n",
      "16599.913669\n",
      "{'estimation': 6, 'result_fun': 0.1639291403467122, 'result_nfev': 298189, 'result_nit': 1404, 'result_success': True, 'start_time': '2023-11-22 03:42:51', 'end_time': '2023-11-22 08:19:31', 'duration_seconds': 16599.913669, 'pop_size': 5, 'period_in_days': 1050, 'days_to_recovery': 8, 'date_first_case': Timestamp('2020-02-16 00:00:00'), 'list_breakpoints_in_slow_transition': [3, 6, 7, 9], 'x_initial_infected_population': 0.03221479591286101, 'x_days_between_infections_0': 3.2847032441483868, 'x_case_fatality_probability_0': 0.008416050266406216, 'x_loss_immunity_in_days_0': 347.59616342938006, 'x_case_fatality_probability_1': 0.004808078969721037, 'x_loss_immunity_in_days_1': 284.43920043511594, 'x_case_fatality_probability_2': 0.002731577427521391, 'x_loss_immunity_in_days_2': 217.83671999447827, 'x_case_fatality_probability_3': 0.00043293088591657035, 'x_loss_immunity_in_days_3': 260.1583575664988, 'x_case_fatality_probability_4': 0.00010659341330291198, 'x_loss_immunity_in_days_4': 342.2235529252878, 'x_days_between_infections_1': 8.272782386983286, 'x_breakpoint_1': 55.66245529912398, 'x_transition_days_between_epidemic_periods_1': 33.388106502487545, 'x_days_between_infections_2': 7.098606876055319, 'x_breakpoint_2': 112.69828867301352, 'x_transition_days_between_epidemic_periods_2': 32.87906411966139, 'x_days_between_infections_3': 7.763044151392386, 'x_breakpoint_3': 142.6799808908595, 'x_transition_days_between_epidemic_periods_3': 39.55850055432476, 'x_days_between_infections_4': 6.066882281309383, 'x_breakpoint_4': 258.97443955058947, 'x_transition_days_between_epidemic_periods_4': 3.495295172512005, 'x_days_between_infections_5': 6.718447622334639, 'x_breakpoint_5': 311.8360702966852, 'x_transition_days_between_epidemic_periods_5': 32.82428350335234, 'x_days_between_infections_6': 5.349657292672772, 'x_breakpoint_6': 356.7159694702521, 'x_transition_days_between_epidemic_periods_6': 9.2245778259194, 'x_days_between_infections_7': 4.507692773621105, 'x_breakpoint_7': 447.45081799136625, 'x_transition_days_between_epidemic_periods_7': 3.110665734878843, 'x_days_between_infections_8': 2.6456441122044136, 'x_breakpoint_8': 677.3927445969729, 'x_transition_days_between_epidemic_periods_8': 4.93172290546763, 'x_days_between_infections_9': 1.8509128930401695, 'x_breakpoint_9': 797.0316092184867, 'x_transition_days_between_epidemic_periods_9': 14.972419761452405, 'x_days_between_infections_10': 1.4864693331688679, 'x_breakpoint_10': 986.6239278780042, 'x_transition_days_between_epidemic_periods_10': 1.0944753197545616}\n",
      "days_to_recovery: 9\n",
      "estimation: 6\n",
      "2023-11-22 08:19:31.147055\n",
      "11486.268989\n",
      "{'estimation': 6, 'result_fun': 0.17372758921528147, 'result_nfev': 190696, 'result_nit': 878, 'result_success': True, 'start_time': '2023-11-22 08:19:31', 'end_time': '2023-11-22 11:30:57', 'duration_seconds': 11486.268989, 'pop_size': 5, 'period_in_days': 1050, 'days_to_recovery': 9, 'date_first_case': Timestamp('2020-02-16 00:00:00'), 'list_breakpoints_in_slow_transition': [3, 6, 7, 9], 'x_initial_infected_population': 0.038203879068887295, 'x_days_between_infections_0': 3.5760882649473764, 'x_case_fatality_probability_0': 0.012674022286269336, 'x_loss_immunity_in_days_0': 198.37453683885767, 'x_case_fatality_probability_1': 0.0029026215654184406, 'x_loss_immunity_in_days_1': 169.28345275366547, 'x_case_fatality_probability_2': 0.0026523404060957156, 'x_loss_immunity_in_days_2': 231.90143173278156, 'x_case_fatality_probability_3': 0.0003937418701550001, 'x_loss_immunity_in_days_3': 257.77483177808426, 'x_case_fatality_probability_4': 0.00012565488311635283, 'x_loss_immunity_in_days_4': 314.9547722140771, 'x_days_between_infections_1': 9.327658055459086, 'x_breakpoint_1': 57.418459551687846, 'x_transition_days_between_epidemic_periods_1': 34.054075350646855, 'x_days_between_infections_2': 7.897835693351031, 'x_breakpoint_2': 112.40604975936402, 'x_transition_days_between_epidemic_periods_2': 26.360268094314453, 'x_days_between_infections_3': 8.538419537748744, 'x_breakpoint_3': 137.77341450277498, 'x_transition_days_between_epidemic_periods_3': 48.59194382520134, 'x_days_between_infections_4': 6.958729847470281, 'x_breakpoint_4': 257.2516047573945, 'x_transition_days_between_epidemic_periods_4': 5.581594701548848, 'x_days_between_infections_5': 7.4618416470459135, 'x_breakpoint_5': 314.8184048792523, 'x_transition_days_between_epidemic_periods_5': 19.635513259910063, 'x_days_between_infections_6': 5.692487594553629, 'x_breakpoint_6': 357.74841022265224, 'x_transition_days_between_epidemic_periods_6': 3.301649729855125, 'x_days_between_infections_7': 4.534917001735203, 'x_breakpoint_7': 446.9535652933873, 'x_transition_days_between_epidemic_periods_7': 3.4415914237208085, 'x_days_between_infections_8': 2.7823651933801634, 'x_breakpoint_8': 677.1988217885738, 'x_transition_days_between_epidemic_periods_8': 5.8048816001356585, 'x_days_between_infections_9': 2.025274853383072, 'x_breakpoint_9': 799.9653530517223, 'x_transition_days_between_epidemic_periods_9': 6.335964791699091, 'x_days_between_infections_10': 1.6343477779347015, 'x_breakpoint_10': 985.7074058624187, 'x_transition_days_between_epidemic_periods_10': 11.168230239598756}\n",
      "days_to_recovery: 10\n",
      "estimation: 6\n",
      "2023-11-22 11:30:57.428397\n",
      "7574.417375\n",
      "{'estimation': 6, 'result_fun': 0.2221082546162058, 'result_nfev': 127210, 'result_nit': 572, 'result_success': True, 'start_time': '2023-11-22 11:30:57', 'end_time': '2023-11-22 13:37:11', 'duration_seconds': 7574.417375, 'pop_size': 5, 'period_in_days': 1050, 'days_to_recovery': 10, 'date_first_case': Timestamp('2020-02-16 00:00:00'), 'list_breakpoints_in_slow_transition': [3, 6, 7, 9], 'x_initial_infected_population': 0.042550594042919346, 'x_days_between_infections_0': 4.046596744297179, 'x_case_fatality_probability_0': 0.011855183428492445, 'x_loss_immunity_in_days_0': 300.58998011961125, 'x_case_fatality_probability_1': 0.0032465003976928485, 'x_loss_immunity_in_days_1': 134.19363824821238, 'x_case_fatality_probability_2': 0.0019462885739381965, 'x_loss_immunity_in_days_2': 165.5274515801667, 'x_case_fatality_probability_3': 0.00038109293127159237, 'x_loss_immunity_in_days_3': 331.73933633711954, 'x_case_fatality_probability_4': 0.00010624391243032228, 'x_loss_immunity_in_days_4': 322.2903306700323, 'x_days_between_infections_1': 10.389027586747108, 'x_breakpoint_1': 65.54376027294995, 'x_transition_days_between_epidemic_periods_1': 23.686569907886987, 'x_days_between_infections_2': 8.468494823072307, 'x_breakpoint_2': 113.17004344389467, 'x_transition_days_between_epidemic_periods_2': 30.13607182901424, 'x_days_between_infections_3': 9.616846568869835, 'x_breakpoint_3': 129.80455048496873, 'x_transition_days_between_epidemic_periods_3': 48.87680409570188, 'x_days_between_infections_4': 7.499425431685777, 'x_breakpoint_4': 260.07875483977136, 'x_transition_days_between_epidemic_periods_4': 13.008232033982011, 'x_days_between_infections_5': 8.207861077091904, 'x_breakpoint_5': 312.65335950852864, 'x_transition_days_between_epidemic_periods_5': 19.807044211991382, 'x_days_between_infections_6': 5.943840863760361, 'x_breakpoint_6': 359.4240949944235, 'x_transition_days_between_epidemic_periods_6': 7.041075415002634, 'x_days_between_infections_7': 4.477553958529326, 'x_breakpoint_7': 447.1878586127833, 'x_transition_days_between_epidemic_periods_7': 3.810121731172309, 'x_days_between_infections_8': 5.026159211990366, 'x_breakpoint_8': 669.9287193523413, 'x_transition_days_between_epidemic_periods_8': 54.935544878518726, 'x_days_between_infections_9': 3.7526096295005504, 'x_breakpoint_9': 801.4970386239137, 'x_transition_days_between_epidemic_periods_9': 11.169998993021139, 'x_days_between_infections_10': 2.2180234185758536, 'x_breakpoint_10': 972.4790200377905, 'x_transition_days_between_epidemic_periods_10': 9.386401504253385}\n",
      "days_to_recovery: 11\n",
      "estimation: 6\n",
      "2023-11-22 13:37:11.859259\n",
      "11120.10964\n",
      "{'estimation': 6, 'result_fun': 0.22261328530706218, 'result_nfev': 192124, 'result_nit': 902, 'result_success': True, 'start_time': '2023-11-22 13:37:11', 'end_time': '2023-11-22 16:42:31', 'duration_seconds': 11120.10964, 'pop_size': 5, 'period_in_days': 1050, 'days_to_recovery': 11, 'date_first_case': Timestamp('2020-02-16 00:00:00'), 'list_breakpoints_in_slow_transition': [3, 6, 7, 9], 'x_initial_infected_population': 0.04120527229486832, 'x_days_between_infections_0': 4.360158016593311, 'x_case_fatality_probability_0': 0.012985506553717762, 'x_loss_immunity_in_days_0': 259.22833953619477, 'x_case_fatality_probability_1': 0.005318031393688191, 'x_loss_immunity_in_days_1': 304.3326826942964, 'x_case_fatality_probability_2': 0.002382734637378556, 'x_loss_immunity_in_days_2': 225.36927618381927, 'x_case_fatality_probability_3': 0.00031799984245914077, 'x_loss_immunity_in_days_3': 180.77628562851402, 'x_case_fatality_probability_4': 9.900000000000001e-05, 'x_loss_immunity_in_days_4': 295.3554785415055, 'x_days_between_infections_1': 11.442135823529906, 'x_breakpoint_1': 69.44391839105981, 'x_transition_days_between_epidemic_periods_1': 18.331275629723862, 'x_days_between_infections_2': 9.512701784214569, 'x_breakpoint_2': 115.27059172476635, 'x_transition_days_between_epidemic_periods_2': 37.1280684598448, 'x_days_between_infections_3': 10.891663123184605, 'x_breakpoint_3': 132.8651052868216, 'x_transition_days_between_epidemic_periods_3': 51.67211875025454, 'x_days_between_infections_4': 8.327059098913947, 'x_breakpoint_4': 256.35812085978307, 'x_transition_days_between_epidemic_periods_4': 11.859556547213202, 'x_days_between_infections_5': 8.73445963875273, 'x_breakpoint_5': 311.01989125368544, 'x_transition_days_between_epidemic_periods_5': 28.281430458679473, 'x_days_between_infections_6': 6.97167181979985, 'x_breakpoint_6': 360.5230822235493, 'x_transition_days_between_epidemic_periods_6': 5.238005125799653, 'x_days_between_infections_7': 5.867641683111166, 'x_breakpoint_7': 447.76974495667815, 'x_transition_days_between_epidemic_periods_7': 1.4526480036366252, 'x_days_between_infections_8': 3.424368905369189, 'x_breakpoint_8': 675.5183959079448, 'x_transition_days_between_epidemic_periods_8': 6.300636102650593, 'x_days_between_infections_9': 2.5088207717427133, 'x_breakpoint_9': 805.4684821640209, 'x_transition_days_between_epidemic_periods_9': 3.7285651295926563, 'x_days_between_infections_10': 2.114120320461078, 'x_breakpoint_10': 984.5159898170261, 'x_transition_days_between_epidemic_periods_10': 7.30068510254825}\n",
      "days_to_recovery: 12\n",
      "estimation: 6\n",
      "2023-11-22 16:42:31.982648\n",
      "7758.98665\n",
      "{'estimation': 6, 'result_fun': 0.3035772152548477, 'result_nfev': 146066, 'result_nit': 688, 'result_success': True, 'start_time': '2023-11-22 16:42:31', 'end_time': '2023-11-22 18:51:50', 'duration_seconds': 7758.98665, 'pop_size': 5, 'period_in_days': 1050, 'days_to_recovery': 12, 'date_first_case': Timestamp('2020-02-16 00:00:00'), 'list_breakpoints_in_slow_transition': [3, 6, 7, 9], 'x_initial_infected_population': 0.04172518201522524, 'x_days_between_infections_0': 4.799210698117649, 'x_case_fatality_probability_0': 0.012376054756174922, 'x_loss_immunity_in_days_0': 201.9243874366911, 'x_case_fatality_probability_1': 0.00384514783975669, 'x_loss_immunity_in_days_1': 180.3092302739209, 'x_case_fatality_probability_2': 0.0020315579901776957, 'x_loss_immunity_in_days_2': 187.5110186170697, 'x_case_fatality_probability_3': 0.00033225621749486555, 'x_loss_immunity_in_days_3': 213.2777975904632, 'x_case_fatality_probability_4': 0.00010153205295992594, 'x_loss_immunity_in_days_4': 226.566037071373, 'x_days_between_infections_1': 6.334390221472106, 'x_breakpoint_1': 50.185410658306864, 'x_transition_days_between_epidemic_periods_1': 12.912200803841166, 'x_days_between_infections_2': 10.53584157928099, 'x_breakpoint_2': 107.984773157581, 'x_transition_days_between_epidemic_periods_2': 2.15828005261665, 'x_days_between_infections_3': 11.677383905625259, 'x_breakpoint_3': 117.31854443261707, 'x_transition_days_between_epidemic_periods_3': 52.751917463116996, 'x_days_between_infections_4': 8.847702447328306, 'x_breakpoint_4': 256.1129342644111, 'x_transition_days_between_epidemic_periods_4': 7.457757264556381, 'x_days_between_infections_5': 9.895734251142713, 'x_breakpoint_5': 316.6360799620038, 'x_transition_days_between_epidemic_periods_5': 29.76280633059942, 'x_days_between_infections_6': 7.185227428400741, 'x_breakpoint_6': 356.4863546156834, 'x_transition_days_between_epidemic_periods_6': 4.110967047076809, 'x_days_between_infections_7': 5.618905402624329, 'x_breakpoint_7': 446.75493762594823, 'x_transition_days_between_epidemic_periods_7': 3.6862595176681943, 'x_days_between_infections_8': 2.917148731825357, 'x_breakpoint_8': 675.5542659266785, 'x_transition_days_between_epidemic_periods_8': 6.542729427742188, 'x_days_between_infections_9': 5.090322868883322, 'x_breakpoint_9': 819.0253314432923, 'x_transition_days_between_epidemic_periods_9': 55.66669509925492, 'x_days_between_infections_10': 3.591922377583319, 'x_breakpoint_10': 977.7049967329644, 'x_transition_days_between_epidemic_periods_10': 9.58813227585659}\n",
      "days_to_recovery: 13\n",
      "estimation: 6\n",
      "2023-11-22 18:51:50.977836\n",
      "6655.362524\n",
      "{'estimation': 6, 'result_fun': 0.2894111808157611, 'result_nfev': 124064, 'result_nit': 582, 'result_success': True, 'start_time': '2023-11-22 18:51:50', 'end_time': '2023-11-22 20:42:46', 'duration_seconds': 6655.362524, 'pop_size': 5, 'period_in_days': 1050, 'days_to_recovery': 13, 'date_first_case': Timestamp('2020-02-16 00:00:00'), 'list_breakpoints_in_slow_transition': [3, 6, 7, 9], 'x_initial_infected_population': 0.04134828304881988, 'x_days_between_infections_0': 5.152426513170914, 'x_case_fatality_probability_0': 0.012781621518578092, 'x_loss_immunity_in_days_0': 231.69732391215638, 'x_case_fatality_probability_1': 0.005045372172902007, 'x_loss_immunity_in_days_1': 160.0391634881699, 'x_case_fatality_probability_2': 0.004424621923125317, 'x_loss_immunity_in_days_2': 176.698346625927, 'x_case_fatality_probability_3': 0.0003122330150870462, 'x_loss_immunity_in_days_3': 124.51496952082022, 'x_case_fatality_probability_4': 0.00010227228392269739, 'x_loss_immunity_in_days_4': 288.47950806662095, 'x_days_between_infections_1': 13.023008385292114, 'x_breakpoint_1': 83.85514151372188, 'x_transition_days_between_epidemic_periods_1': 8.971744618337922, 'x_days_between_infections_2': 11.163899042107884, 'x_breakpoint_2': 112.78454939969477, 'x_transition_days_between_epidemic_periods_2': 13.622492152070107, 'x_days_between_infections_3': 12.982475594278878, 'x_breakpoint_3': 126.86972362533847, 'x_transition_days_between_epidemic_periods_3': 52.70424497585329, 'x_days_between_infections_4': 9.915211611983732, 'x_breakpoint_4': 258.30810894717496, 'x_transition_days_between_epidemic_periods_4': 21.287030453353708, 'x_days_between_infections_5': 10.78404654602015, 'x_breakpoint_5': 313.85241295055806, 'x_transition_days_between_epidemic_periods_5': 35.13421826016691, 'x_days_between_infections_6': 9.329257698703735, 'x_breakpoint_6': 357.9026710508265, 'x_transition_days_between_epidemic_periods_6': 6.607594666971785, 'x_days_between_infections_7': 10.434111134282485, 'x_breakpoint_7': 439.4583630570527, 'x_transition_days_between_epidemic_periods_7': 48.01288724416581, 'x_days_between_infections_8': 4.179879481356649, 'x_breakpoint_8': 672.1949606709534, 'x_transition_days_between_epidemic_periods_8': 28.07946745559527, 'x_days_between_infections_9': 3.0715687026858287, 'x_breakpoint_9': 812.5242135767407, 'x_transition_days_between_epidemic_periods_9': 4.564620303029866, 'x_days_between_infections_10': 2.4136668034533737, 'x_breakpoint_10': 980.2180231732183, 'x_transition_days_between_epidemic_periods_10': 2.9067858829335833}\n",
      "days_to_recovery: 14\n",
      "estimation: 6\n",
      "2023-11-22 20:42:46.348756\n",
      "5588.013678\n",
      "{'estimation': 6, 'result_fun': 0.3139779348333669, 'result_nfev': 101370, 'result_nit': 451, 'result_success': True, 'start_time': '2023-11-22 20:42:46', 'end_time': '2023-11-22 22:15:54', 'duration_seconds': 5588.013678, 'pop_size': 5, 'period_in_days': 1050, 'days_to_recovery': 14, 'date_first_case': Timestamp('2020-02-16 00:00:00'), 'list_breakpoints_in_slow_transition': [3, 6, 7, 9], 'x_initial_infected_population': 0.04278320400044036, 'x_days_between_infections_0': 5.550666166056125, 'x_case_fatality_probability_0': 0.01329071368812565, 'x_loss_immunity_in_days_0': 259.6260521933561, 'x_case_fatality_probability_1': 0.005049659201220216, 'x_loss_immunity_in_days_1': 139.94780290427636, 'x_case_fatality_probability_2': 0.0014796306274102566, 'x_loss_immunity_in_days_2': 122.92009173294548, 'x_case_fatality_probability_3': 0.0003132591594577072, 'x_loss_immunity_in_days_3': 346.76540629552704, 'x_case_fatality_probability_4': 0.00010387431669115887, 'x_loss_immunity_in_days_4': 320.7867638585936, 'x_days_between_infections_1': 12.82690445907275, 'x_breakpoint_1': 87.76784358017191, 'x_transition_days_between_epidemic_periods_1': 7.730205506846936, 'x_days_between_infections_2': 11.815459218291318, 'x_breakpoint_2': 108.09697588382724, 'x_transition_days_between_epidemic_periods_2': 10.706995103750526, 'x_days_between_infections_3': 14.083827721090747, 'x_breakpoint_3': 135.6258169194405, 'x_transition_days_between_epidemic_periods_3': 42.33446318275478, 'x_days_between_infections_4': 10.42927120637587, 'x_breakpoint_4': 254.2279765904363, 'x_transition_days_between_epidemic_periods_4': 14.134534831223345, 'x_days_between_infections_5': 10.841607402376486, 'x_breakpoint_5': 311.8070062530625, 'x_transition_days_between_epidemic_periods_5': 15.27828020319759, 'x_days_between_infections_6': 7.9484174461262045, 'x_breakpoint_6': 360.93256597744664, 'x_transition_days_between_epidemic_periods_6': 1.0138492715063236, 'x_days_between_infections_7': 6.03124525845204, 'x_breakpoint_7': 447.58207951735017, 'x_transition_days_between_epidemic_periods_7': 6.010742155503305, 'x_days_between_infections_8': 6.045423053718246, 'x_breakpoint_8': 671.4660616678224, 'x_transition_days_between_epidemic_periods_8': 50.56505201873464, 'x_days_between_infections_9': 4.363203626419678, 'x_breakpoint_9': 797.6163418762276, 'x_transition_days_between_epidemic_periods_9': 16.043067387640065, 'x_days_between_infections_10': 2.581984447896423, 'x_breakpoint_10': 975.6527626533335, 'x_transition_days_between_epidemic_periods_10': 9.280221893355016}\n",
      "days_to_recovery: 15\n",
      "estimation: 6\n",
      "2023-11-22 22:15:54.370829\n",
      "4610.103423\n",
      "{'estimation': 6, 'result_fun': 0.3416903276437059, 'result_nfev': 80031, 'result_nit': 350, 'result_success': True, 'start_time': '2023-11-22 22:15:54', 'end_time': '2023-11-22 23:32:44', 'duration_seconds': 4610.103423, 'pop_size': 5, 'period_in_days': 1050, 'days_to_recovery': 15, 'date_first_case': Timestamp('2020-02-16 00:00:00'), 'list_breakpoints_in_slow_transition': [3, 6, 7, 9], 'x_initial_infected_population': 0.03845043571403918, 'x_days_between_infections_0': 5.942336005639877, 'x_case_fatality_probability_0': 0.012916110114146296, 'x_loss_immunity_in_days_0': 228.38054724161947, 'x_case_fatality_probability_1': 0.007143605875061337, 'x_loss_immunity_in_days_1': 311.4355997469434, 'x_case_fatality_probability_2': 0.001257688231292151, 'x_loss_immunity_in_days_2': 109.28054018256279, 'x_case_fatality_probability_3': 0.00032816896584923066, 'x_loss_immunity_in_days_3': 340.5217772028231, 'x_case_fatality_probability_4': 0.00011975462829753067, 'x_loss_immunity_in_days_4': 267.02081276507045, 'x_days_between_infections_1': 6.086208827366355, 'x_breakpoint_1': 67.99853239973112, 'x_transition_days_between_epidemic_periods_1': 1.3734037305214883, 'x_days_between_infections_2': 12.964783359443397, 'x_breakpoint_2': 108.48245266388251, 'x_transition_days_between_epidemic_periods_2': 5.522018769910591, 'x_days_between_infections_3': 15.660608182460123, 'x_breakpoint_3': 120.97057610250947, 'x_transition_days_between_epidemic_periods_3': 53.91149658281937, 'x_days_between_infections_4': 10.870982379993595, 'x_breakpoint_4': 256.2975907887919, 'x_transition_days_between_epidemic_periods_4': 16.946365893053212, 'x_days_between_infections_5': 11.578194606883478, 'x_breakpoint_5': 316.10818895090875, 'x_transition_days_between_epidemic_periods_5': 26.489804407354487, 'x_days_between_infections_6': 8.34790581406376, 'x_breakpoint_6': 363.8736506658497, 'x_transition_days_between_epidemic_periods_6': 3.0251185039600905, 'x_days_between_infections_7': 6.327519397650743, 'x_breakpoint_7': 447.46453820675623, 'x_transition_days_between_epidemic_periods_7': 9.586155731206993, 'x_days_between_infections_8': 6.019666964481228, 'x_breakpoint_8': 670.637945606508, 'x_transition_days_between_epidemic_periods_8': 17.548666903171394, 'x_days_between_infections_9': 4.1433578925339605, 'x_breakpoint_9': 801.1914993565529, 'x_transition_days_between_epidemic_periods_9': 18.1643201105623, 'x_days_between_infections_10': 2.7671262930297105, 'x_breakpoint_10': 971.5815530158649, 'x_transition_days_between_epidemic_periods_10': 9.392622836870736}\n",
      "days_to_recovery: 16\n",
      "estimation: 6\n",
      "2023-11-22 23:32:44.483085\n",
      "7929.313497\n",
      "{'estimation': 6, 'result_fun': 0.3754519744781051, 'result_nfev': 142764, 'result_nit': 669, 'result_success': True, 'start_time': '2023-11-22 23:32:44', 'end_time': '2023-11-23 01:44:53', 'duration_seconds': 7929.313497, 'pop_size': 5, 'period_in_days': 1050, 'days_to_recovery': 16, 'date_first_case': Timestamp('2020-02-16 00:00:00'), 'list_breakpoints_in_slow_transition': [3, 6, 7, 9], 'x_initial_infected_population': 0.041694752260597656, 'x_days_between_infections_0': 6.3509880978589335, 'x_case_fatality_probability_0': 0.012824780791448354, 'x_loss_immunity_in_days_0': 309.6153831903195, 'x_case_fatality_probability_1': 0.005233065153740261, 'x_loss_immunity_in_days_1': 250.25033470363826, 'x_case_fatality_probability_2': 0.0014828387046968575, 'x_loss_immunity_in_days_2': 139.3308866785591, 'x_case_fatality_probability_3': 0.00030096682909715427, 'x_loss_immunity_in_days_3': 310.83003697620586, 'x_case_fatality_probability_4': 0.000574540074883727, 'x_loss_immunity_in_days_4': 303.9102104930141, 'x_days_between_infections_1': 16.595220442605644, 'x_breakpoint_1': 74.05590336386601, 'x_transition_days_between_epidemic_periods_1': 37.58926818818827, 'x_days_between_infections_2': 4.6572248386000235, 'x_breakpoint_2': 107.21780758850788, 'x_transition_days_between_epidemic_periods_2': 50.39890901508002, 'x_days_between_infections_3': 16.38192792558454, 'x_breakpoint_3': 126.00172897477262, 'x_transition_days_between_epidemic_periods_3': 15.743602609755904, 'x_days_between_infections_4': 10.863533609906757, 'x_breakpoint_4': 257.16584484689116, 'x_transition_days_between_epidemic_periods_4': 25.726883735962673, 'x_days_between_infections_5': 13.277864010724933, 'x_breakpoint_5': 310.3709416875942, 'x_transition_days_between_epidemic_periods_5': 41.58675860980949, 'x_days_between_infections_6': 8.456207902542173, 'x_breakpoint_6': 357.42106862181885, 'x_transition_days_between_epidemic_periods_6': 7.620173361475338, 'x_days_between_infections_7': 6.092491478459428, 'x_breakpoint_7': 445.7676129124801, 'x_transition_days_between_epidemic_periods_7': 6.287043569383911, 'x_days_between_infections_8': 2.917490691926213, 'x_breakpoint_8': 673.1875285831451, 'x_transition_days_between_epidemic_periods_8': 9.250976461086967, 'x_days_between_infections_9': 5.990738996778597, 'x_breakpoint_9': 817.0653653523347, 'x_transition_days_between_epidemic_periods_9': 38.04758472342878, 'x_days_between_infections_10': 6.924586207233851, 'x_breakpoint_10': 972.6681831160502, 'x_transition_days_between_epidemic_periods_10': 45.14769847252217}\n",
      "days_to_recovery: 17\n",
      "estimation: 6\n",
      "2023-11-23 01:44:53.810362\n",
      "5728.085394\n",
      "{'estimation': 6, 'result_fun': 0.405917382652468, 'result_nfev': 111332, 'result_nit': 514, 'result_success': True, 'start_time': '2023-11-23 01:44:53', 'end_time': '2023-11-23 03:20:21', 'duration_seconds': 5728.085394, 'pop_size': 5, 'period_in_days': 1050, 'days_to_recovery': 17, 'date_first_case': Timestamp('2020-02-16 00:00:00'), 'list_breakpoints_in_slow_transition': [3, 6, 7, 9], 'x_initial_infected_population': 0.04070304348761309, 'x_days_between_infections_0': 6.766828089780351, 'x_case_fatality_probability_0': 0.012920158492770945, 'x_loss_immunity_in_days_0': 304.20236033722193, 'x_case_fatality_probability_1': 0.0027617359974847866, 'x_loss_immunity_in_days_1': 254.615023276665, 'x_case_fatality_probability_2': 0.003453950234539951, 'x_loss_immunity_in_days_2': 156.99575371104171, 'x_case_fatality_probability_3': 0.00030096682909715427, 'x_loss_immunity_in_days_3': 137.37581463142587, 'x_case_fatality_probability_4': 9.900000000000001e-05, 'x_loss_immunity_in_days_4': 189.44753365842283, 'x_days_between_infections_1': 6.794709133583441, 'x_breakpoint_1': 58.926667210019914, 'x_transition_days_between_epidemic_periods_1': 21.985121466761747, 'x_days_between_infections_2': 8.443771769341792, 'x_breakpoint_2': 112.11519772351821, 'x_transition_days_between_epidemic_periods_2': 10.823325937741355, 'x_days_between_infections_3': 16.48215532485531, 'x_breakpoint_3': 120.00282230136096, 'x_transition_days_between_epidemic_periods_3': 33.26010929703919, 'x_days_between_infections_4': 11.47879909202987, 'x_breakpoint_4': 258.5000790736475, 'x_transition_days_between_epidemic_periods_4': 18.480938629361177, 'x_days_between_infections_5': 13.475431672040159, 'x_breakpoint_5': 312.2248821814637, 'x_transition_days_between_epidemic_periods_5': 17.228717003852005, 'x_days_between_infections_6': 10.409716094952747, 'x_breakpoint_6': 358.9857822348587, 'x_transition_days_between_epidemic_periods_6': 14.652534045281106, 'x_days_between_infections_7': 12.237261358347933, 'x_breakpoint_7': 438.5828578471623, 'x_transition_days_between_epidemic_periods_7': 47.267471771054446, 'x_days_between_infections_8': 4.5526007838878835, 'x_breakpoint_8': 670.7129231786248, 'x_transition_days_between_epidemic_periods_8': 23.503750795744853, 'x_days_between_infections_9': 3.913325944271106, 'x_breakpoint_9': 786.1020212537074, 'x_transition_days_between_epidemic_periods_9': 32.19126065296519, 'x_days_between_infections_10': 3.2388612858541403, 'x_breakpoint_10': 977.4255987002485, 'x_transition_days_between_epidemic_periods_10': 3.1759870078382093}\n",
      "days_to_recovery: 18\n",
      "estimation: 6\n",
      "2023-11-23 03:20:21.904447\n",
      "5064.418584\n",
      "{'estimation': 6, 'result_fun': 0.42370682622307876, 'result_nfev': 107933, 'result_nit': 480, 'result_success': True, 'start_time': '2023-11-23 03:20:21', 'end_time': '2023-11-23 04:44:46', 'duration_seconds': 5064.418584, 'pop_size': 5, 'period_in_days': 1050, 'days_to_recovery': 18, 'date_first_case': Timestamp('2020-02-16 00:00:00'), 'list_breakpoints_in_slow_transition': [3, 6, 7, 9], 'x_initial_infected_population': 0.04087644147637652, 'x_days_between_infections_0': 7.214701918285465, 'x_case_fatality_probability_0': 0.01263329364612659, 'x_loss_immunity_in_days_0': 265.42461671271025, 'x_case_fatality_probability_1': 0.004614969547127017, 'x_loss_immunity_in_days_1': 147.96013745194418, 'x_case_fatality_probability_2': 0.002002734154429379, 'x_loss_immunity_in_days_2': 100.15230360394483, 'x_case_fatality_probability_3': 0.00033777085428832003, 'x_loss_immunity_in_days_3': 258.7284462619888, 'x_case_fatality_probability_4': 0.00014097530274898517, 'x_loss_immunity_in_days_4': 321.4261520547794, 'x_days_between_infections_1': 8.130244149210945, 'x_breakpoint_1': 74.45570011572137, 'x_transition_days_between_epidemic_periods_1': 21.037201335903134, 'x_days_between_infections_2': 5.45789244811619, 'x_breakpoint_2': 110.0497175920215, 'x_transition_days_between_epidemic_periods_2': 29.112901240879165, 'x_days_between_infections_3': 18.63932312139514, 'x_breakpoint_3': 116.08620163685552, 'x_transition_days_between_epidemic_periods_3': 34.205786901769685, 'x_days_between_infections_4': 12.31316375777541, 'x_breakpoint_4': 257.5383058636521, 'x_transition_days_between_epidemic_periods_4': 41.425943008912, 'x_days_between_infections_5': 14.316267898604657, 'x_breakpoint_5': 310.6488951176404, 'x_transition_days_between_epidemic_periods_5': 27.636337373061735, 'x_days_between_infections_6': 10.117561759710268, 'x_breakpoint_6': 356.4126356829137, 'x_transition_days_between_epidemic_periods_6': 9.313090786242245, 'x_days_between_infections_7': 11.701778077793694, 'x_breakpoint_7': 447.62709271141676, 'x_transition_days_between_epidemic_periods_7': 53.011397424736884, 'x_days_between_infections_8': 9.842638555827037, 'x_breakpoint_8': 667.0773717636614, 'x_transition_days_between_epidemic_periods_8': 0.67778774013426, 'x_days_between_infections_9': 6.898015484918861, 'x_breakpoint_9': 803.6789234709636, 'x_transition_days_between_epidemic_periods_9': 9.1152912950159, 'x_days_between_infections_10': 3.5891825906561063, 'x_breakpoint_10': 970.7890267126949, 'x_transition_days_between_epidemic_periods_10': 11.266441560741473}\n",
      "days_to_recovery: 19\n",
      "estimation: 6\n",
      "2023-11-23 04:44:46.332547\n",
      "5810.353951\n",
      "{'estimation': 6, 'result_fun': 0.42057398813866326, 'result_nfev': 135636, 'result_nit': 624, 'result_success': True, 'start_time': '2023-11-23 04:44:46', 'end_time': '2023-11-23 06:21:36', 'duration_seconds': 5810.353951, 'pop_size': 5, 'period_in_days': 1050, 'days_to_recovery': 19, 'date_first_case': Timestamp('2020-02-16 00:00:00'), 'list_breakpoints_in_slow_transition': [3, 6, 7, 9], 'x_initial_infected_population': 0.04250987720103013, 'x_days_between_infections_0': 7.5430805262409075, 'x_case_fatality_probability_0': 0.012952390900494834, 'x_loss_immunity_in_days_0': 285.7986140381578, 'x_case_fatality_probability_1': 0.006411195654554812, 'x_loss_immunity_in_days_1': 230.09927487097443, 'x_case_fatality_probability_2': 0.0016448137124805682, 'x_loss_immunity_in_days_2': 143.85712454498528, 'x_case_fatality_probability_3': 0.00031667721856437316, 'x_loss_immunity_in_days_3': 261.677235574845, 'x_case_fatality_probability_4': 9.900000000000001e-05, 'x_loss_immunity_in_days_4': 262.6831468565171, 'x_days_between_infections_1': 19.460134243790648, 'x_breakpoint_1': 79.45858732306426, 'x_transition_days_between_epidemic_periods_1': 25.19469251205639, 'x_days_between_infections_2': 5.535218541023746, 'x_breakpoint_2': 107.74399134917873, 'x_transition_days_between_epidemic_periods_2': 52.07321333615676, 'x_days_between_infections_3': 19.93287511154125, 'x_breakpoint_3': 140.3885368934956, 'x_transition_days_between_epidemic_periods_3': 9.0335162241302, 'x_days_between_infections_4': 12.914979919842546, 'x_breakpoint_4': 262.54004451147097, 'x_transition_days_between_epidemic_periods_4': 25.07468115664345, 'x_days_between_infections_5': 14.793617534681578, 'x_breakpoint_5': 315.3108573816517, 'x_transition_days_between_epidemic_periods_5': 27.947384286305837, 'x_days_between_infections_6': 10.114718582413541, 'x_breakpoint_6': 357.95457722584007, 'x_transition_days_between_epidemic_periods_6': 5.803372243235202, 'x_days_between_infections_7': 8.939336445395698, 'x_breakpoint_7': 447.0959321254859, 'x_transition_days_between_epidemic_periods_7': 3.5178361711009174, 'x_days_between_infections_8': 8.606310402781746, 'x_breakpoint_8': 666.1684013567058, 'x_transition_days_between_epidemic_periods_8': 12.938972915133839, 'x_days_between_infections_9': 6.214743094828926, 'x_breakpoint_9': 803.5950320029973, 'x_transition_days_between_epidemic_periods_9': 16.123690388641087, 'x_days_between_infections_10': 3.610152055485757, 'x_breakpoint_10': 973.411847570326, 'x_transition_days_between_epidemic_periods_10': 11.694628390771587}\n",
      "days_to_recovery: 20\n",
      "estimation: 6\n",
      "2023-11-23 06:21:36.694730\n",
      "5387.255705\n",
      "{'estimation': 6, 'result_fun': 0.45126522707233996, 'result_nfev': 142349, 'result_nit': 666, 'result_success': True, 'start_time': '2023-11-23 06:21:36', 'end_time': '2023-11-23 07:51:23', 'duration_seconds': 5387.255705, 'pop_size': 5, 'period_in_days': 1050, 'days_to_recovery': 20, 'date_first_case': Timestamp('2020-02-16 00:00:00'), 'list_breakpoints_in_slow_transition': [3, 6, 7, 9], 'x_initial_infected_population': 0.042564286801042774, 'x_days_between_infections_0': 8.053784315000723, 'x_case_fatality_probability_0': 0.01246276174703402, 'x_loss_immunity_in_days_0': 167.4202332535231, 'x_case_fatality_probability_1': 0.00200967125985384, 'x_loss_immunity_in_days_1': 237.32759127870864, 'x_case_fatality_probability_2': 0.0024551745049542738, 'x_loss_immunity_in_days_2': 96.29214873633873, 'x_case_fatality_probability_3': 0.0003494696273491499, 'x_loss_immunity_in_days_3': 264.55430947279507, 'x_case_fatality_probability_4': 0.000109060512674893, 'x_loss_immunity_in_days_4': 336.5328863805385, 'x_days_between_infections_1': 8.036943319262484, 'x_breakpoint_1': 41.179920439063864, 'x_transition_days_between_epidemic_periods_1': 19.99352366046081, 'x_days_between_infections_2': 5.824511268178501, 'x_breakpoint_2': 110.77937273415154, 'x_transition_days_between_epidemic_periods_2': 49.865202913359795, 'x_days_between_infections_3': 19.472619876649475, 'x_breakpoint_3': 117.81779354405113, 'x_transition_days_between_epidemic_periods_3': 36.1439636070684, 'x_days_between_infections_4': 11.171770921530856, 'x_breakpoint_4': 261.7938436758365, 'x_transition_days_between_epidemic_periods_4': 27.807356355701916, 'x_days_between_infections_5': 16.083814418585913, 'x_breakpoint_5': 309.1614649808716, 'x_transition_days_between_epidemic_periods_5': 25.570607936272232, 'x_days_between_infections_6': 10.498003196543321, 'x_breakpoint_6': 357.9076506975381, 'x_transition_days_between_epidemic_periods_6': 16.11358617431778, 'x_days_between_infections_7': 13.709803362504324, 'x_breakpoint_7': 439.213382232884, 'x_transition_days_between_epidemic_periods_7': 51.25111883210775, 'x_days_between_infections_8': 11.190128327068368, 'x_breakpoint_8': 666.3908558633813, 'x_transition_days_between_epidemic_periods_8': 19.435992571986397, 'x_days_between_infections_9': 7.653620144373829, 'x_breakpoint_9': 800.7961837655727, 'x_transition_days_between_epidemic_periods_9': 12.308670473835996, 'x_days_between_infections_10': 3.8984993692318257, 'x_breakpoint_10': 975.3217822899442, 'x_transition_days_between_epidemic_periods_10': 9.941119516550309}\n",
      "days_to_recovery: 8\n",
      "estimation: 7\n",
      "2023-11-23 07:51:23.959439\n"
     ]
    }
   ],
   "source": [
    "try:\n",
    "    df_initial_results = pd.read_csv('data/output/fitting_recovery_period_results.csv')\n",
    "except:\n",
    "    df_initial_results = pd.DataFrame({'days_to_recovery':[]})\n",
    "\n",
    "df_results = df_initial_results.copy()\n",
    "\n",
    "DIFFERENTIAL_EVOLUTION_POP_SIZE_FACTOR = 5\n",
    "NUMBER_ESTIMATON_PER_RECOVERY_PERIOD = 20\n",
    "\n",
    "# df = df[:90]\n",
    "\n",
    "date_first_case = min(df[(df.NOVOS_CASOS_SRAG > 0)].iloc[0].DATA, df[(df.CASOS_NOVOS_PAINEL > 0)].iloc[0].DATA)\n",
    "max_date_to_fit = df.DATA.max()\n",
    "\n",
    "# Period of analysis\n",
    "period_in_days = (max_date_to_fit - date_first_case).days + 1\n",
    "\n",
    "for estimation in range(NUMBER_ESTIMATON_PER_RECOVERY_PERIOD):\n",
    "    \n",
    "    # Considering recovery period of 14 days for mild cases as reported by “Report of the WHO-China Joint Mission on Coronavirus Disease 2019 (COVID-19).” Accessed September 26, 2022. https://www.who.int/publications-detail-redirect/report-of-the-who-chinajoint-mission-on-coronavirus-disease-2019-(covid-19).\n",
    "    # Considering recovery period mean between 13 and 15 second Voinsky, Irena, Gabriele Baristaite, and David Gurwitz. \"Effects of age and sex on recovery from COVID-19: Analysis of 5769 Israeli patients.\" Journal of Infection 81.2 (2020): e102-e103.\n",
    "    # Also using 14 days as mean +/- 6 SD we have range 8-20 or 8-26 if we considerate incubation period\n",
    "    for days_to_recovery in range(8,21):\n",
    "        print('days_to_recovery: '+str(days_to_recovery))\n",
    "                   \n",
    "        estimations_performed = len(df_results[(df_results.days_to_recovery == days_to_recovery)])\n",
    "    \n",
    "        if (estimation == estimations_performed):\n",
    "            print('estimation: '+str(estimation))\n",
    "            \n",
    "            # Record the start time\n",
    "            start_time = datetime.now()\n",
    "            print(start_time)\n",
    "    \n",
    "            bounds, args = get_bounds_and_arguments(df, 'DATA', 'TAXA_OBITOS_NOVOS_MEDIA_MOVEL_7_DIAS_SIM', 'NUMERO_REPRODUCAO_EFETIVO_SRAG_MEDIA', 'TAXA_CASOS_NOVOS_MEDIA_MOVEL_7_DIAS_PAINEL', 'ONSET_NUMERO_REPRODUCAO_EFETIVO_MEDIA', days_to_recovery, date_first_case, max_date_to_fit, df.POPULACAO_2022.iloc[0], period_in_days)\n",
    "\n",
    "            result = differential_evolution(sirds_objective_function, bounds, args=args, popsize=DIFFERENTIAL_EVOLUTION_POP_SIZE_FACTOR, maxiter=10000, workers=4, updating='deferred')\n",
    "    \n",
    "            # Record the end time\n",
    "            end_time = datetime.now()\n",
    "    \n",
    "            # Calculate the duration (in seconds) for the optimization\n",
    "            duration = (end_time - start_time).total_seconds()\n",
    "            print(duration)\n",
    "\n",
    "            list_breakpoints_in_slow_transition = args[4]\n",
    "            quantity_outbreaks = args[5]\n",
    "            quantity_outbreak_adjustments = args[6]\n",
    "    \n",
    "            # Create a dictionary to store results\n",
    "            estimation_result = {\n",
    "                'estimation': estimation,  # To differentiate between multiple estimations\n",
    "                'result_fun': result.fun,\n",
    "                'result_nfev': result.nfev,\n",
    "                'result_nit': result.nit,\n",
    "                'result_success': result.success,\n",
    "                'start_time': start_time.strftime('%Y-%m-%d %H:%M:%S'),  # Format start time as a string\n",
    "                'end_time': end_time.strftime('%Y-%m-%d %H:%M:%S'),  # Format end time as a string\n",
    "                'duration_seconds': duration,  # Duration in seconds\n",
    "                'pop_size': DIFFERENTIAL_EVOLUTION_POP_SIZE_FACTOR,\n",
    "                'period_in_days': period_in_days,\n",
    "                'days_to_recovery': days_to_recovery,\n",
    "                'date_first_case': date_first_case,\n",
    "                'list_breakpoints_in_slow_transition': list_breakpoints_in_slow_transition,\n",
    "                'x_initial_infected_population': result.x[0],\n",
    "                'x_days_between_infections_0': result.x[1],            \n",
    "            }\n",
    "            \n",
    "            quantity_epidemic_periods_with_slow_transition = len(list_breakpoints_in_slow_transition) + 1            \n",
    "            \n",
    "            for p in range(quantity_epidemic_periods_with_slow_transition):\n",
    "                estimation_result['x_case_fatality_probability_'+str(p)] = result.x[2 + p]\n",
    "                estimation_result['x_loss_immunity_in_days_'+str(p)] = result.x[2 + quantity_epidemic_periods_with_slow_transition + p]                                                 \n",
    "            quantity_breakpoints = (quantity_outbreaks - 1) + (quantity_outbreak_adjustments)\n",
    "            begin_breakpoint_parameters = 2 + 2*quantity_epidemic_periods_with_slow_transition\n",
    "            for b in range(quantity_breakpoints):\n",
    "                estimation_result['x_days_between_infections_'+str(b+1)] = result.x[begin_breakpoint_parameters + b]\n",
    "                estimation_result['x_breakpoint_'+str(b+1)] = result.x[begin_breakpoint_parameters + quantity_breakpoints + b]\n",
    "                estimation_result['x_transition_days_between_epidemic_periods_'+str(b+1)] = result.x[begin_breakpoint_parameters + 2*quantity_breakpoints + b]\n",
    "    \n",
    "            print(estimation_result)\n",
    "    \n",
    "            # Append the estimation result to the list            \n",
    "            df_results = pd.concat([df_results, pd.DataFrame.from_records([estimation_result])])\n",
    "    \n",
    "            df_results.to_csv('data/output/fitting_recovery_period_results.csv', index=False)           "
   ],
   "metadata": {
    "collapsed": false,
    "is_executing": true,
    "ExecuteTime": {
     "start_time": "2023-11-21T18:19:52.405139463Z"
    }
   }
  },
  {
   "cell_type": "code",
   "execution_count": null,
   "outputs": [],
   "source": [
    "bounds"
   ],
   "metadata": {
    "collapsed": false,
    "is_executing": true
   }
  }
 ],
 "metadata": {
  "kernelspec": {
   "display_name": "Python 3",
   "language": "python",
   "name": "python3"
  },
  "language_info": {
   "codemirror_mode": {
    "name": "ipython",
    "version": 2
   },
   "file_extension": ".py",
   "mimetype": "text/x-python",
   "name": "python",
   "nbconvert_exporter": "python",
   "pygments_lexer": "ipython2",
   "version": "2.7.6"
  }
 },
 "nbformat": 4,
 "nbformat_minor": 0
}
