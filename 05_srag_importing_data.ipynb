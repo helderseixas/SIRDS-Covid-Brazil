{
 "cells": [
  {
   "cell_type": "markdown",
   "source": [
    "# Importing Severe Acute Respiratory Syndrome (SRAG in portuguese) data\n",
    "Source: https://opendatasus.saude.gov.br/dataset/srag-2020 and https://opendatasus.saude.gov.br/dataset/srag-2021-a-2023"
   ],
   "metadata": {
    "collapsed": false
   },
   "id": "8c4b95e30f92da4b"
  },
  {
   "cell_type": "code",
   "execution_count": 1,
   "id": "initial_id",
   "metadata": {
    "collapsed": true,
    "ExecuteTime": {
     "end_time": "2023-10-16T18:39:26.685437273Z",
     "start_time": "2023-10-16T18:39:26.429157152Z"
    }
   },
   "outputs": [],
   "source": [
    "import pandas as pd"
   ]
  },
  {
   "cell_type": "markdown",
   "source": [
    "## Reading data"
   ],
   "metadata": {
    "collapsed": false
   },
   "id": "651045ff51653819"
  },
  {
   "cell_type": "code",
   "execution_count": 39,
   "outputs": [],
   "source": [
    "FINAL_CLASSIFICATION_COVID_19 = 5"
   ],
   "metadata": {
    "collapsed": false,
    "ExecuteTime": {
     "end_time": "2023-10-16T19:52:19.523678841Z",
     "start_time": "2023-10-16T19:52:19.490314809Z"
    }
   },
   "id": "c3fdbbc65c380677"
  },
  {
   "cell_type": "code",
   "execution_count": 33,
   "outputs": [
    {
     "name": "stderr",
     "output_type": "stream",
     "text": [
      "/home/helder/.local/lib/python3.9/site-packages/IPython/core/interactiveshell.py:3165: DtypeWarning: Columns (15,59,61,62,63,91,93,105,114,116,117,118,122) have mixed types.Specify dtype option on import or set low_memory=False.\n",
      "  has_raised = await self.run_ast_nodes(code_ast.body, cell_name,\n",
      "/home/helder/.local/lib/python3.9/site-packages/IPython/core/interactiveshell.py:3165: DtypeWarning: Columns (15,59,61,62,63,91,93,105,107,114,116,117,118,122,143) have mixed types.Specify dtype option on import or set low_memory=False.\n",
      "  has_raised = await self.run_ast_nodes(code_ast.body, cell_name,\n",
      "/home/helder/.local/lib/python3.9/site-packages/IPython/core/interactiveshell.py:3165: DtypeWarning: Columns (15,53,59,61,62,63,91,93,120,122,143,171) have mixed types.Specify dtype option on import or set low_memory=False.\n",
      "  has_raised = await self.run_ast_nodes(code_ast.body, cell_name,\n"
     ]
    }
   ],
   "source": [
    "df = None\n",
    "for filename in ['INFLUD20-01-05-2023.csv', 'INFLUD21-01-05-2023.csv', 'INFLUD22-03-04-2023.csv']:\n",
    "    df_temp = pd.read_csv('data/input/srag/'+filename, header=0, sep=';')\n",
    "    df_temp = df_temp[(df_temp.CLASSI_FIN == 5)]\n",
    "    if df is None:\n",
    "        df = df_temp\n",
    "    else:\n",
    "        df = pd.concat([df, df_temp])"
   ],
   "metadata": {
    "collapsed": false,
    "ExecuteTime": {
     "end_time": "2023-10-16T19:48:52.685235893Z",
     "start_time": "2023-10-16T19:47:35.080096756Z"
    }
   },
   "id": "4fe051353ef3f7ba"
  },
  {
   "cell_type": "code",
   "execution_count": 37,
   "outputs": [],
   "source": [
    "df = df[['DT_SIN_PRI','DT_NOTIFIC','DT_DIGITA','CO_MUN_RES','EVOLUCAO','DT_EVOLUCA']]"
   ],
   "metadata": {
    "collapsed": false,
    "ExecuteTime": {
     "end_time": "2023-10-16T19:51:50.716223496Z",
     "start_time": "2023-10-16T19:51:42.101208524Z"
    }
   },
   "id": "7644420296f39fd5"
  },
  {
   "cell_type": "markdown",
   "source": [
    "## Saving data"
   ],
   "metadata": {
    "collapsed": false
   },
   "id": "545691e1c7912d91"
  },
  {
   "cell_type": "code",
   "execution_count": 51,
   "outputs": [],
   "source": [
    "df.to_csv('data/output/df_srag_raw.csv', index=False)"
   ],
   "metadata": {
    "collapsed": false,
    "ExecuteTime": {
     "end_time": "2023-10-16T20:03:25.614299783Z",
     "start_time": "2023-10-16T20:02:46.333261905Z"
    }
   },
   "id": "958ba9544f906b2d"
  },
  {
   "cell_type": "code",
   "execution_count": 50,
   "outputs": [
    {
     "data": {
      "text/plain": "(2166108, 6)"
     },
     "execution_count": 50,
     "metadata": {},
     "output_type": "execute_result"
    }
   ],
   "source": [
    "df.shape"
   ],
   "metadata": {
    "collapsed": false,
    "ExecuteTime": {
     "end_time": "2023-10-16T20:02:36.891831399Z",
     "start_time": "2023-10-16T20:02:36.861194518Z"
    }
   },
   "id": "daa074b8a11378e1"
  },
  {
   "cell_type": "code",
   "execution_count": 52,
   "outputs": [
    {
     "data": {
      "text/plain": "   DT_SIN_PRI DT_NOTIFIC  DT_DIGITA  CO_MUN_RES  EVOLUCAO DT_EVOLUCA\n3  2020-03-15 2020-03-23 2020-03-23    355030.0       1.0 2020-03-26\n10 2020-03-23 2020-03-24 2020-03-26    431490.0       2.0 2020-04-02\n23 2020-03-11 2020-03-20 2020-03-24    355030.0       2.0 2020-03-29\n24 2020-03-23 2020-03-24 2020-03-24    355030.0       2.0 2020-03-30\n33 2020-03-14 2020-03-24 2020-03-24    355030.0       1.0 2020-04-19",
      "text/html": "<div>\n<style scoped>\n    .dataframe tbody tr th:only-of-type {\n        vertical-align: middle;\n    }\n\n    .dataframe tbody tr th {\n        vertical-align: top;\n    }\n\n    .dataframe thead th {\n        text-align: right;\n    }\n</style>\n<table border=\"1\" class=\"dataframe\">\n  <thead>\n    <tr style=\"text-align: right;\">\n      <th></th>\n      <th>DT_SIN_PRI</th>\n      <th>DT_NOTIFIC</th>\n      <th>DT_DIGITA</th>\n      <th>CO_MUN_RES</th>\n      <th>EVOLUCAO</th>\n      <th>DT_EVOLUCA</th>\n    </tr>\n  </thead>\n  <tbody>\n    <tr>\n      <th>3</th>\n      <td>2020-03-15</td>\n      <td>2020-03-23</td>\n      <td>2020-03-23</td>\n      <td>355030.0</td>\n      <td>1.0</td>\n      <td>2020-03-26</td>\n    </tr>\n    <tr>\n      <th>10</th>\n      <td>2020-03-23</td>\n      <td>2020-03-24</td>\n      <td>2020-03-26</td>\n      <td>431490.0</td>\n      <td>2.0</td>\n      <td>2020-04-02</td>\n    </tr>\n    <tr>\n      <th>23</th>\n      <td>2020-03-11</td>\n      <td>2020-03-20</td>\n      <td>2020-03-24</td>\n      <td>355030.0</td>\n      <td>2.0</td>\n      <td>2020-03-29</td>\n    </tr>\n    <tr>\n      <th>24</th>\n      <td>2020-03-23</td>\n      <td>2020-03-24</td>\n      <td>2020-03-24</td>\n      <td>355030.0</td>\n      <td>2.0</td>\n      <td>2020-03-30</td>\n    </tr>\n    <tr>\n      <th>33</th>\n      <td>2020-03-14</td>\n      <td>2020-03-24</td>\n      <td>2020-03-24</td>\n      <td>355030.0</td>\n      <td>1.0</td>\n      <td>2020-04-19</td>\n    </tr>\n  </tbody>\n</table>\n</div>"
     },
     "execution_count": 52,
     "metadata": {},
     "output_type": "execute_result"
    }
   ],
   "source": [
    "df.head()"
   ],
   "metadata": {
    "collapsed": false,
    "ExecuteTime": {
     "end_time": "2023-10-16T20:03:25.657814465Z",
     "start_time": "2023-10-16T20:03:25.657251905Z"
    }
   },
   "id": "7a8e29abb4de8031"
  }
 ],
 "metadata": {
  "kernelspec": {
   "display_name": "Python 3",
   "language": "python",
   "name": "python3"
  },
  "language_info": {
   "codemirror_mode": {
    "name": "ipython",
    "version": 2
   },
   "file_extension": ".py",
   "mimetype": "text/x-python",
   "name": "python",
   "nbconvert_exporter": "python",
   "pygments_lexer": "ipython2",
   "version": "2.7.6"
  }
 },
 "nbformat": 4,
 "nbformat_minor": 5
}
