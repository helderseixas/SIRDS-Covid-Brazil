{
 "cells": [
  {
   "cell_type": "markdown",
   "source": [
    "# Treating data from Monitoring Panel"
   ],
   "metadata": {
    "collapsed": false
   },
   "id": "a303ccae7b643c89"
  },
  {
   "cell_type": "code",
   "execution_count": 1,
   "outputs": [],
   "source": [
    "import pandas as pd\n",
    "import matplotlib.pyplot as plt"
   ],
   "metadata": {
    "collapsed": false,
    "ExecuteTime": {
     "end_time": "2023-10-17T15:03:23.265928461Z",
     "start_time": "2023-10-17T15:03:12.623264185Z"
    }
   },
   "id": "21e2df7caa28bab7"
  },
  {
   "cell_type": "markdown",
   "source": [
    "## Reading data"
   ],
   "metadata": {
    "collapsed": false
   },
   "id": "1c4f051f73122212"
  },
  {
   "cell_type": "code",
   "execution_count": 7,
   "outputs": [],
   "source": [
    "df_municipal = pd.read_csv(\"data/output/df_ts_monitoring_panel_imported_municipal.csv\")\n",
    "df_municipal.data = pd.to_datetime(df_municipal.data, infer_datetime_format=True)"
   ],
   "metadata": {
    "collapsed": false,
    "ExecuteTime": {
     "end_time": "2023-10-17T15:04:31.293680265Z",
     "start_time": "2023-10-17T15:04:22.367384282Z"
    }
   },
   "id": "97ba9ffd29abd57e"
  },
  {
   "cell_type": "code",
   "execution_count": 14,
   "outputs": [],
   "source": [
    "df_national = pd.read_csv(\"data/output/df_ts_monitoring_panel_imported_national.csv\")\n",
    "df_national.data = pd.to_datetime(df_national.data, infer_datetime_format=True)"
   ],
   "metadata": {
    "collapsed": false,
    "ExecuteTime": {
     "end_time": "2023-10-17T15:11:12.967764324Z",
     "start_time": "2023-10-17T15:11:12.890346408Z"
    }
   },
   "id": "85726366fa4c0933"
  },
  {
   "cell_type": "markdown",
   "source": [
    "## Describing data"
   ],
   "metadata": {
    "collapsed": false
   },
   "id": "9dbebf1578e9e12f"
  },
  {
   "cell_type": "markdown",
   "source": [
    "### Municipal"
   ],
   "metadata": {
    "collapsed": false
   },
   "id": "c9d4292d90a41b5d"
  },
  {
   "cell_type": "code",
   "execution_count": 6,
   "outputs": [
    {
     "data": {
      "text/plain": "Timestamp('2020-03-27 00:00:00')"
     },
     "execution_count": 6,
     "metadata": {},
     "output_type": "execute_result"
    }
   ],
   "source": [
    "df_municipal.data.min()"
   ],
   "metadata": {
    "collapsed": false,
    "ExecuteTime": {
     "end_time": "2023-10-17T15:04:20.217674004Z",
     "start_time": "2023-10-17T15:04:20.194057987Z"
    }
   },
   "id": "5b782db8d54cc02a"
  },
  {
   "cell_type": "code",
   "execution_count": 5,
   "outputs": [
    {
     "data": {
      "text/plain": "Timestamp('2022-12-31 00:00:00')"
     },
     "execution_count": 5,
     "metadata": {},
     "output_type": "execute_result"
    }
   ],
   "source": [
    "df_municipal.data.max()"
   ],
   "metadata": {
    "collapsed": false,
    "ExecuteTime": {
     "end_time": "2023-10-17T15:04:17.853677688Z",
     "start_time": "2023-10-17T15:04:17.820148004Z"
    }
   },
   "id": "c215660e3bfb2683"
  },
  {
   "cell_type": "code",
   "execution_count": 8,
   "outputs": [
    {
     "data": {
      "text/plain": "(1010,)"
     },
     "execution_count": 8,
     "metadata": {},
     "output_type": "execute_result"
    }
   ],
   "source": [
    "df_municipal.data.unique().shape"
   ],
   "metadata": {
    "collapsed": false,
    "ExecuteTime": {
     "end_time": "2023-10-17T15:06:06.092213079Z",
     "start_time": "2023-10-17T15:06:06.039837571Z"
    }
   },
   "id": "75afb22ce1f6a9d"
  },
  {
   "cell_type": "code",
   "execution_count": 9,
   "outputs": [
    {
     "data": {
      "text/plain": "5570"
     },
     "execution_count": 9,
     "metadata": {},
     "output_type": "execute_result"
    }
   ],
   "source": [
    "df_municipal.groupby('CODIGO_MUNICIPIO_7').count().shape[0]"
   ],
   "metadata": {
    "collapsed": false,
    "ExecuteTime": {
     "end_time": "2023-10-17T15:06:17.331036004Z",
     "start_time": "2023-10-17T15:06:16.334424124Z"
    }
   },
   "id": "6c45eab72ea7c6c4"
  },
  {
   "cell_type": "code",
   "execution_count": 10,
   "outputs": [
    {
     "data": {
      "text/plain": "36260705"
     },
     "execution_count": 10,
     "metadata": {},
     "output_type": "execute_result"
    }
   ],
   "source": [
    "df_municipal.casosNovos.sum()"
   ],
   "metadata": {
    "collapsed": false,
    "ExecuteTime": {
     "end_time": "2023-10-17T15:06:27.262588705Z",
     "start_time": "2023-10-17T15:06:27.221297046Z"
    }
   },
   "id": "dc0d641f518e0830"
  },
  {
   "cell_type": "code",
   "execution_count": 12,
   "outputs": [
    {
     "data": {
      "text/plain": "36260705.0"
     },
     "execution_count": 12,
     "metadata": {},
     "output_type": "execute_result"
    }
   ],
   "source": [
    "df_municipal[df_municipal.data==df_municipal.data.max()].casosAcumulado.sum()"
   ],
   "metadata": {
    "collapsed": false,
    "ExecuteTime": {
     "end_time": "2023-10-17T15:07:18.653918042Z",
     "start_time": "2023-10-17T15:07:18.603342856Z"
    }
   },
   "id": "f89dec5d35c6c5c0"
  },
  {
   "cell_type": "code",
   "execution_count": 11,
   "outputs": [
    {
     "data": {
      "text/plain": "692507"
     },
     "execution_count": 11,
     "metadata": {},
     "output_type": "execute_result"
    }
   ],
   "source": [
    "df_municipal.obitosNovos.sum()"
   ],
   "metadata": {
    "collapsed": false,
    "ExecuteTime": {
     "end_time": "2023-10-17T15:06:40.967094633Z",
     "start_time": "2023-10-17T15:06:40.919200860Z"
    }
   },
   "id": "15446ba5ac6000ea"
  },
  {
   "cell_type": "markdown",
   "source": [
    "### National"
   ],
   "metadata": {
    "collapsed": false
   },
   "id": "b85ca104ee8e56f9"
  },
  {
   "cell_type": "code",
   "execution_count": 15,
   "outputs": [
    {
     "data": {
      "text/plain": "Timestamp('2020-02-25 00:00:00')"
     },
     "execution_count": 15,
     "metadata": {},
     "output_type": "execute_result"
    }
   ],
   "source": [
    "df_national.data.min()"
   ],
   "metadata": {
    "collapsed": false,
    "ExecuteTime": {
     "end_time": "2023-10-17T15:11:23.838179017Z",
     "start_time": "2023-10-17T15:11:23.776655575Z"
    }
   },
   "id": "2245bf544add4bd9"
  },
  {
   "cell_type": "code",
   "execution_count": 16,
   "outputs": [
    {
     "data": {
      "text/plain": "Timestamp('2022-12-31 00:00:00')"
     },
     "execution_count": 16,
     "metadata": {},
     "output_type": "execute_result"
    }
   ],
   "source": [
    "df_national.data.max()"
   ],
   "metadata": {
    "collapsed": false,
    "ExecuteTime": {
     "end_time": "2023-10-17T15:11:32.250167736Z",
     "start_time": "2023-10-17T15:11:32.185765095Z"
    }
   },
   "id": "2534179c5a8f7b6c"
  },
  {
   "cell_type": "code",
   "execution_count": 17,
   "outputs": [
    {
     "data": {
      "text/plain": "(1041,)"
     },
     "execution_count": 17,
     "metadata": {},
     "output_type": "execute_result"
    }
   ],
   "source": [
    "df_national.data.unique().shape"
   ],
   "metadata": {
    "collapsed": false,
    "ExecuteTime": {
     "end_time": "2023-10-17T15:12:02.360979402Z",
     "start_time": "2023-10-17T15:12:02.310993023Z"
    }
   },
   "id": "5e40cf47f1236bcb"
  },
  {
   "cell_type": "code",
   "execution_count": 18,
   "outputs": [
    {
     "data": {
      "text/plain": "36331281"
     },
     "execution_count": 18,
     "metadata": {},
     "output_type": "execute_result"
    }
   ],
   "source": [
    "df_national.casosNovos.sum()"
   ],
   "metadata": {
    "collapsed": false,
    "ExecuteTime": {
     "end_time": "2023-10-17T15:12:19.195250521Z",
     "start_time": "2023-10-17T15:12:19.129299464Z"
    }
   },
   "id": "eafa9de895c1ade3"
  },
  {
   "cell_type": "code",
   "execution_count": 19,
   "outputs": [
    {
     "data": {
      "text/plain": "693853"
     },
     "execution_count": 19,
     "metadata": {},
     "output_type": "execute_result"
    }
   ],
   "source": [
    "df_national.obitosNovos.sum()"
   ],
   "metadata": {
    "collapsed": false,
    "ExecuteTime": {
     "end_time": "2023-10-17T15:12:48.434278339Z",
     "start_time": "2023-10-17T15:12:48.355195840Z"
    }
   },
   "id": "de713c7593be11f8"
  },
  {
   "cell_type": "markdown",
   "source": [
    "## Anomalies"
   ],
   "metadata": {
    "collapsed": false
   },
   "id": "160795aca7fbd4f1"
  },
  {
   "cell_type": "markdown",
   "source": [
    "### Missing data"
   ],
   "metadata": {
    "collapsed": false
   },
   "id": "46770c73fd710d0c"
  },
  {
   "cell_type": "code",
   "execution_count": 20,
   "outputs": [
    {
     "data": {
      "text/plain": "data                  False\nestado                False\nmunicipio             False\nCODIGO_MUNICIPIO_6    False\nobitosNovos           False\nobitosAcumulado       False\ncasosNovos            False\ncasosAcumulado        False\nCODIGO_MUNICIPIO_7    False\ndtype: bool"
     },
     "execution_count": 20,
     "metadata": {},
     "output_type": "execute_result"
    }
   ],
   "source": [
    "df_municipal.isnull().any()"
   ],
   "metadata": {
    "collapsed": false,
    "ExecuteTime": {
     "end_time": "2023-10-17T15:13:23.707784244Z",
     "start_time": "2023-10-17T15:13:23.285917766Z"
    }
   },
   "id": "ca50d69c5bdd881"
  },
  {
   "cell_type": "markdown",
   "source": [
    "### Noised data"
   ],
   "metadata": {
    "collapsed": false
   },
   "id": "36e0292d100ad77d"
  },
  {
   "cell_type": "markdown",
   "source": [
    "### Municipal"
   ],
   "metadata": {
    "collapsed": false
   },
   "id": "672129b7811f7596"
  },
  {
   "cell_type": "code",
   "execution_count": 22,
   "outputs": [
    {
     "data": {
      "text/plain": "63893"
     },
     "execution_count": 22,
     "metadata": {},
     "output_type": "execute_result"
    }
   ],
   "source": [
    "df_municipal[df_municipal.casosNovos < 0].shape[0]"
   ],
   "metadata": {
    "collapsed": false,
    "ExecuteTime": {
     "end_time": "2023-10-17T15:14:09.083815983Z",
     "start_time": "2023-10-17T15:14:09.024682187Z"
    }
   },
   "id": "ff5002f906e6f99f"
  },
  {
   "cell_type": "code",
   "execution_count": 23,
   "outputs": [
    {
     "data": {
      "text/plain": "15672"
     },
     "execution_count": 23,
     "metadata": {},
     "output_type": "execute_result"
    }
   ],
   "source": [
    "df_municipal[df_municipal.obitosNovos < 0].shape[0]"
   ],
   "metadata": {
    "collapsed": false,
    "ExecuteTime": {
     "end_time": "2023-10-17T15:14:19.378276584Z",
     "start_time": "2023-10-17T15:14:19.323277749Z"
    }
   },
   "id": "4968269077bc5630"
  },
  {
   "cell_type": "markdown",
   "source": [
    "### National"
   ],
   "metadata": {
    "collapsed": false
   },
   "id": "932e79bf4bf86e46"
  },
  {
   "cell_type": "code",
   "execution_count": 26,
   "outputs": [],
   "source": [
    "df_national = df_national.sort_values('data')"
   ],
   "metadata": {
    "collapsed": false,
    "ExecuteTime": {
     "end_time": "2023-10-17T15:16:09.943288006Z",
     "start_time": "2023-10-17T15:16:09.883878555Z"
    }
   },
   "id": "84787c8cd6e11635"
  },
  {
   "cell_type": "code",
   "execution_count": 27,
   "outputs": [
    {
     "data": {
      "text/plain": "<Figure size 432x288 with 1 Axes>",
      "image/png": "[encoded data removed]"
     },
     "metadata": {
      "needs_background": "light"
     },
     "output_type": "display_data"
    }
   ],
   "source": [
    "plt.axhline(0, c='red')\n",
    "plt.plot(df_national.data, df_national.casosNovos)\n",
    "plt.show()"
   ],
   "metadata": {
    "collapsed": false,
    "ExecuteTime": {
     "end_time": "2023-10-17T15:16:12.724235966Z",
     "start_time": "2023-10-17T15:16:12.525693266Z"
    }
   },
   "id": "b14c9c0df2025bdd"
  },
  {
   "cell_type": "code",
   "execution_count": 28,
   "outputs": [
    {
     "data": {
      "text/plain": "<Figure size 432x288 with 1 Axes>",
      "image/png": "[encoded data removed]"
     },
     "metadata": {
      "needs_background": "light"
     },
     "output_type": "display_data"
    }
   ],
   "source": [
    "plt.axhline(0, c='red')\n",
    "plt.plot(df_national.data, df_national.obitosNovos)\n",
    "plt.show()"
   ],
   "metadata": {
    "collapsed": false,
    "ExecuteTime": {
     "end_time": "2023-10-17T15:16:23.657174299Z",
     "start_time": "2023-10-17T15:16:23.471917462Z"
    }
   },
   "id": "22cd5698c5ee9355"
  },
  {
   "cell_type": "markdown",
   "source": [
    "### Seasonality"
   ],
   "metadata": {
    "collapsed": false
   },
   "id": "8186bf2f341aa99f"
  },
  {
   "cell_type": "code",
   "execution_count": 29,
   "outputs": [],
   "source": [
    "# Group data by day of the week\n",
    "df_national['day_of_week'] = df_national.data.dt.dayofweek"
   ],
   "metadata": {
    "collapsed": false,
    "ExecuteTime": {
     "end_time": "2023-10-17T15:16:39.786583549Z",
     "start_time": "2023-10-17T15:16:39.733521662Z"
    }
   },
   "id": "6356c3b2bdfaf90a"
  },
  {
   "cell_type": "code",
   "execution_count": 30,
   "outputs": [
    {
     "data": {
      "text/plain": "<Figure size 432x288 with 1 Axes>",
      "image/png": "[encoded data removed]"
     },
     "metadata": {
      "needs_background": "light"
     },
     "output_type": "display_data"
    }
   ],
   "source": [
    "df_national.boxplot(column='casosNovos', by='day_of_week', grid=False)\n",
    "\n",
    "# Customize plot\n",
    "plt.xlabel('Day of the Week')\n",
    "plt.ylabel('New cases')\n",
    "plt.xticks(range(1, 8), ['Mon', 'Tue', 'Wed', 'Thu', 'Fri', 'Sat', 'Sun'])\n",
    "\n",
    "# Show the plot\n",
    "plt.show()"
   ],
   "metadata": {
    "collapsed": false,
    "ExecuteTime": {
     "end_time": "2023-10-17T15:16:48.665715740Z",
     "start_time": "2023-10-17T15:16:48.404476626Z"
    }
   },
   "id": "72ae2e2012f33a7f"
  },
  {
   "cell_type": "code",
   "execution_count": 31,
   "outputs": [
    {
     "data": {
      "text/plain": "<Figure size 432x288 with 1 Axes>",
      "image/png": "[encoded data removed]"
     },
     "metadata": {
      "needs_background": "light"
     },
     "output_type": "display_data"
    }
   ],
   "source": [
    "df_national.boxplot(column='obitosNovos', by='day_of_week', grid=False)\n",
    "\n",
    "# Customize plot\n",
    "plt.xlabel('Day of the Week')\n",
    "plt.ylabel('New deaths')\n",
    "plt.xticks(range(1, 8), ['Mon', 'Tue', 'Wed', 'Thu', 'Fri', 'Sat', 'Sun'])\n",
    "\n",
    "# Show the plot\n",
    "plt.show()"
   ],
   "metadata": {
    "collapsed": false,
    "ExecuteTime": {
     "end_time": "2023-10-17T15:16:56.320775749Z",
     "start_time": "2023-10-17T15:16:56.098303282Z"
    }
   },
   "id": "580883e17db01a1e"
  },
  {
   "cell_type": "markdown",
   "source": [
    "## Treatment"
   ],
   "metadata": {
    "collapsed": false
   },
   "id": "a48503eefdc76b16"
  },
  {
   "cell_type": "markdown",
   "source": [
    "### Municipal"
   ],
   "metadata": {
    "collapsed": false
   },
   "id": "5434f9b8326de74b"
  },
  {
   "cell_type": "code",
   "execution_count": 32,
   "outputs": [
    {
     "data": {
      "text/plain": "              data estado              municipio  CODIGO_MUNICIPIO_6  \\\n0       2020-03-27     RO  Alta Floresta D'Oeste              110001   \n1       2020-03-28     RO  Alta Floresta D'Oeste              110001   \n2       2020-03-29     RO  Alta Floresta D'Oeste              110001   \n3       2020-03-30     RO  Alta Floresta D'Oeste              110001   \n4       2020-03-31     RO  Alta Floresta D'Oeste              110001   \n...            ...    ...                    ...                 ...   \n5625695 2021-06-26     DF               Brasília              530010   \n5625696 2021-06-27     DF               Brasília              530010   \n5625697 2021-06-28     DF               Brasília              530010   \n5625698 2021-06-29     DF               Brasília              530010   \n5625699 2021-06-30     DF               Brasília              530010   \n\n         obitosNovos  obitosAcumulado  casosNovos  casosAcumulado  \\\n0                  0                0           0             0.0   \n1                  0                0           0             0.0   \n2                  0                0           0             0.0   \n3                  0                0           0             0.0   \n4                  0                0           0             0.0   \n...              ...              ...         ...             ...   \n5625695           12             9184         786        427432.0   \n5625696            9             9193         920        428352.0   \n5625697           13             9206         666        429018.0   \n5625698           26             9232         618        429636.0   \n5625699           19             9251         825        430461.0   \n\n         CODIGO_MUNICIPIO_7  \n0                   1100015  \n1                   1100015  \n2                   1100015  \n3                   1100015  \n4                   1100015  \n...                     ...  \n5625695             5300108  \n5625696             5300108  \n5625697             5300108  \n5625698             5300108  \n5625699             5300108  \n\n[5625700 rows x 9 columns]",
      "text/html": "<div>\n<style scoped>\n    .dataframe tbody tr th:only-of-type {\n        vertical-align: middle;\n    }\n\n    .dataframe tbody tr th {\n        vertical-align: top;\n    }\n\n    .dataframe thead th {\n        text-align: right;\n    }\n</style>\n<table border=\"1\" class=\"dataframe\">\n  <thead>\n    <tr style=\"text-align: right;\">\n      <th></th>\n      <th>data</th>\n      <th>estado</th>\n      <th>municipio</th>\n      <th>CODIGO_MUNICIPIO_6</th>\n      <th>obitosNovos</th>\n      <th>obitosAcumulado</th>\n      <th>casosNovos</th>\n      <th>casosAcumulado</th>\n      <th>CODIGO_MUNICIPIO_7</th>\n    </tr>\n  </thead>\n  <tbody>\n    <tr>\n      <th>0</th>\n      <td>2020-03-27</td>\n      <td>RO</td>\n      <td>Alta Floresta D'Oeste</td>\n      <td>110001</td>\n      <td>0</td>\n      <td>0</td>\n      <td>0</td>\n      <td>0.0</td>\n      <td>1100015</td>\n    </tr>\n    <tr>\n      <th>1</th>\n      <td>2020-03-28</td>\n      <td>RO</td>\n      <td>Alta Floresta D'Oeste</td>\n      <td>110001</td>\n      <td>0</td>\n      <td>0</td>\n      <td>0</td>\n      <td>0.0</td>\n      <td>1100015</td>\n    </tr>\n    <tr>\n      <th>2</th>\n      <td>2020-03-29</td>\n      <td>RO</td>\n      <td>Alta Floresta D'Oeste</td>\n      <td>110001</td>\n      <td>0</td>\n      <td>0</td>\n      <td>0</td>\n      <td>0.0</td>\n      <td>1100015</td>\n    </tr>\n    <tr>\n      <th>3</th>\n      <td>2020-03-30</td>\n      <td>RO</td>\n      <td>Alta Floresta D'Oeste</td>\n      <td>110001</td>\n      <td>0</td>\n      <td>0</td>\n      <td>0</td>\n      <td>0.0</td>\n      <td>1100015</td>\n    </tr>\n    <tr>\n      <th>4</th>\n      <td>2020-03-31</td>\n      <td>RO</td>\n      <td>Alta Floresta D'Oeste</td>\n      <td>110001</td>\n      <td>0</td>\n      <td>0</td>\n      <td>0</td>\n      <td>0.0</td>\n      <td>1100015</td>\n    </tr>\n    <tr>\n      <th>...</th>\n      <td>...</td>\n      <td>...</td>\n      <td>...</td>\n      <td>...</td>\n      <td>...</td>\n      <td>...</td>\n      <td>...</td>\n      <td>...</td>\n      <td>...</td>\n    </tr>\n    <tr>\n      <th>5625695</th>\n      <td>2021-06-26</td>\n      <td>DF</td>\n      <td>Brasília</td>\n      <td>530010</td>\n      <td>12</td>\n      <td>9184</td>\n      <td>786</td>\n      <td>427432.0</td>\n      <td>5300108</td>\n    </tr>\n    <tr>\n      <th>5625696</th>\n      <td>2021-06-27</td>\n      <td>DF</td>\n      <td>Brasília</td>\n      <td>530010</td>\n      <td>9</td>\n      <td>9193</td>\n      <td>920</td>\n      <td>428352.0</td>\n      <td>5300108</td>\n    </tr>\n    <tr>\n      <th>5625697</th>\n      <td>2021-06-28</td>\n      <td>DF</td>\n      <td>Brasília</td>\n      <td>530010</td>\n      <td>13</td>\n      <td>9206</td>\n      <td>666</td>\n      <td>429018.0</td>\n      <td>5300108</td>\n    </tr>\n    <tr>\n      <th>5625698</th>\n      <td>2021-06-29</td>\n      <td>DF</td>\n      <td>Brasília</td>\n      <td>530010</td>\n      <td>26</td>\n      <td>9232</td>\n      <td>618</td>\n      <td>429636.0</td>\n      <td>5300108</td>\n    </tr>\n    <tr>\n      <th>5625699</th>\n      <td>2021-06-30</td>\n      <td>DF</td>\n      <td>Brasília</td>\n      <td>530010</td>\n      <td>19</td>\n      <td>9251</td>\n      <td>825</td>\n      <td>430461.0</td>\n      <td>5300108</td>\n    </tr>\n  </tbody>\n</table>\n<p>5625700 rows × 9 columns</p>\n</div>"
     },
     "execution_count": 32,
     "metadata": {},
     "output_type": "execute_result"
    }
   ],
   "source": [
    "df_municipal"
   ],
   "metadata": {
    "collapsed": false,
    "ExecuteTime": {
     "end_time": "2023-10-17T15:17:38.338424134Z",
     "start_time": "2023-10-17T15:17:38.323243098Z"
    }
   },
   "id": "53276a61ebb1816e"
  },
  {
   "cell_type": "code",
   "execution_count": 34,
   "outputs": [],
   "source": [
    "date_range = pd.date_range(start=df_municipal['data'].min(), end=df_municipal['data'].max(), freq='D')"
   ],
   "metadata": {
    "collapsed": false,
    "ExecuteTime": {
     "end_time": "2023-10-17T15:18:22.679035966Z",
     "start_time": "2023-10-17T15:18:22.623786951Z"
    }
   },
   "id": "f3066a5c34663884"
  },
  {
   "cell_type": "code",
   "execution_count": 35,
   "outputs": [],
   "source": [
    "df_municipal = df_municipal.groupby('CODIGO_MUNICIPIO_7').apply(lambda group: group.set_index('data').reindex(date_range))"
   ],
   "metadata": {
    "collapsed": false,
    "ExecuteTime": {
     "end_time": "2023-10-17T15:18:39.869740349Z",
     "start_time": "2023-10-17T15:18:32.229023040Z"
    }
   },
   "id": "d401e3d4b59ab26e"
  },
  {
   "cell_type": "code",
   "execution_count": 36,
   "outputs": [],
   "source": [
    "df_municipal = df_municipal.drop(columns=['municipio', 'CODIGO_MUNICIPIO_7', 'estado'])"
   ],
   "metadata": {
    "collapsed": false,
    "ExecuteTime": {
     "end_time": "2023-10-17T15:18:45.564581989Z",
     "start_time": "2023-10-17T15:18:44.112727554Z"
    }
   },
   "id": "7e449461ce94a037"
  },
  {
   "cell_type": "code",
   "execution_count": 37,
   "outputs": [],
   "source": [
    "df_municipal = df_municipal.reset_index().rename(columns={'level_1': 'data'}).fillna(0)"
   ],
   "metadata": {
    "collapsed": false,
    "ExecuteTime": {
     "end_time": "2023-10-17T15:18:53.251785666Z",
     "start_time": "2023-10-17T15:18:51.745782401Z"
    }
   },
   "id": "5bde1bb035b4e8f5"
  },
  {
   "cell_type": "code",
   "execution_count": 38,
   "outputs": [],
   "source": [
    "df_municipal['data'] = pd.to_datetime(df_municipal['data'])"
   ],
   "metadata": {
    "collapsed": false,
    "ExecuteTime": {
     "end_time": "2023-10-17T15:18:58.762969318Z",
     "start_time": "2023-10-17T15:18:58.706852743Z"
    }
   },
   "id": "ba26ad5f594492a5"
  },
  {
   "cell_type": "code",
   "execution_count": 39,
   "outputs": [],
   "source": [
    "# Sort the DataFrame by 'CODIGO_MUNICIPIO_7' and 'DATA'\n",
    "df_municipal = df_municipal.sort_values(by=['CODIGO_MUNICIPIO_7', 'data'])"
   ],
   "metadata": {
    "collapsed": false,
    "ExecuteTime": {
     "end_time": "2023-10-17T15:19:03.746041897Z",
     "start_time": "2023-10-17T15:19:02.398388644Z"
    }
   },
   "id": "b8ab0caf753813d3"
  },
  {
   "cell_type": "code",
   "execution_count": 40,
   "outputs": [],
   "source": [
    "# Calculate the 7-day moving average\n",
    "window_size = 7\n",
    "df_municipal['CASOS_NOVOS_MEDIA_MOVEL_7_DIAS'] = df_municipal.groupby('CODIGO_MUNICIPIO_7')['casosNovos'].rolling(window=window_size, min_periods=1).mean().reset_index(level=0, drop=True)"
   ],
   "metadata": {
    "collapsed": false,
    "ExecuteTime": {
     "end_time": "2023-10-17T15:19:18.515689368Z",
     "start_time": "2023-10-17T15:19:16.804501555Z"
    }
   },
   "id": "529e6c1688ce96ef"
  },
  {
   "cell_type": "code",
   "execution_count": 41,
   "outputs": [],
   "source": [
    "df_municipal['OBITOS_NOVOS_MEDIA_MOVEL_7_DIAS'] = df_municipal.groupby('CODIGO_MUNICIPIO_7')['obitosNovos'].rolling(window=window_size, min_periods=1).mean().reset_index(level=0, drop=True)"
   ],
   "metadata": {
    "collapsed": false,
    "ExecuteTime": {
     "end_time": "2023-10-17T15:19:24.105121656Z",
     "start_time": "2023-10-17T15:19:22.372141789Z"
    }
   },
   "id": "6b5674b6d2521aac"
  },
  {
   "cell_type": "markdown",
   "source": [
    "### National"
   ],
   "metadata": {
    "collapsed": false
   },
   "id": "d3d215c6a6a07011"
  },
  {
   "cell_type": "code",
   "execution_count": 42,
   "outputs": [],
   "source": [
    "df_national['CASOS_NOVOS_MEDIA_MOVEL_7_DIAS'] = df_national['casosNovos'].rolling(window=window_size, min_periods=1).mean()\n",
    "df_national['OBITOS_NOVOS_MEDIA_MOVEL_7_DIAS'] = df_national['obitosNovos'].rolling(window=window_size, min_periods=1).mean()"
   ],
   "metadata": {
    "collapsed": false,
    "ExecuteTime": {
     "end_time": "2023-10-17T16:45:59.769584241Z",
     "start_time": "2023-10-17T16:45:59.711761321Z"
    }
   },
   "id": "8deeb0cbe354d342"
  },
  {
   "cell_type": "markdown",
   "source": [
    "## Saving data"
   ],
   "metadata": {
    "collapsed": false
   },
   "id": "36f5350a9ecb9241"
  },
  {
   "cell_type": "code",
   "execution_count": 43,
   "outputs": [],
   "source": [
    "df_municipal.to_csv('data/output/df_ts_monitoring_panel_treated_municipal.csv', index=False)"
   ],
   "metadata": {
    "collapsed": false,
    "ExecuteTime": {
     "end_time": "2023-10-17T16:47:59.209470692Z",
     "start_time": "2023-10-17T16:47:14.872604299Z"
    }
   },
   "id": "7e731430f45d0bc4"
  },
  {
   "cell_type": "code",
   "execution_count": 44,
   "outputs": [
    {
     "data": {
      "text/plain": "(5625700, 9)"
     },
     "execution_count": 44,
     "metadata": {},
     "output_type": "execute_result"
    }
   ],
   "source": [
    "df_municipal.shape"
   ],
   "metadata": {
    "collapsed": false,
    "ExecuteTime": {
     "end_time": "2023-10-17T16:47:59.260356345Z",
     "start_time": "2023-10-17T16:47:59.255352295Z"
    }
   },
   "id": "7f586e1975b25163"
  },
  {
   "cell_type": "code",
   "execution_count": 45,
   "outputs": [
    {
     "data": {
      "text/plain": "   CODIGO_MUNICIPIO_7       data  CODIGO_MUNICIPIO_6  obitosNovos  \\\n0             1100015 2020-03-27              110001            0   \n1             1100015 2020-03-28              110001            0   \n2             1100015 2020-03-29              110001            0   \n3             1100015 2020-03-30              110001            0   \n4             1100015 2020-03-31              110001            0   \n\n   obitosAcumulado  casosNovos  casosAcumulado  \\\n0                0           0             0.0   \n1                0           0             0.0   \n2                0           0             0.0   \n3                0           0             0.0   \n4                0           0             0.0   \n\n   CASOS_NOVOS_MEDIA_MOVEL_7_DIAS  OBITOS_NOVOS_MEDIA_MOVEL_7_DIAS  \n0                             0.0                              0.0  \n1                             0.0                              0.0  \n2                             0.0                              0.0  \n3                             0.0                              0.0  \n4                             0.0                              0.0  ",
      "text/html": "<div>\n<style scoped>\n    .dataframe tbody tr th:only-of-type {\n        vertical-align: middle;\n    }\n\n    .dataframe tbody tr th {\n        vertical-align: top;\n    }\n\n    .dataframe thead th {\n        text-align: right;\n    }\n</style>\n<table border=\"1\" class=\"dataframe\">\n  <thead>\n    <tr style=\"text-align: right;\">\n      <th></th>\n      <th>CODIGO_MUNICIPIO_7</th>\n      <th>data</th>\n      <th>CODIGO_MUNICIPIO_6</th>\n      <th>obitosNovos</th>\n      <th>obitosAcumulado</th>\n      <th>casosNovos</th>\n      <th>casosAcumulado</th>\n      <th>CASOS_NOVOS_MEDIA_MOVEL_7_DIAS</th>\n      <th>OBITOS_NOVOS_MEDIA_MOVEL_7_DIAS</th>\n    </tr>\n  </thead>\n  <tbody>\n    <tr>\n      <th>0</th>\n      <td>1100015</td>\n      <td>2020-03-27</td>\n      <td>110001</td>\n      <td>0</td>\n      <td>0</td>\n      <td>0</td>\n      <td>0.0</td>\n      <td>0.0</td>\n      <td>0.0</td>\n    </tr>\n    <tr>\n      <th>1</th>\n      <td>1100015</td>\n      <td>2020-03-28</td>\n      <td>110001</td>\n      <td>0</td>\n      <td>0</td>\n      <td>0</td>\n      <td>0.0</td>\n      <td>0.0</td>\n      <td>0.0</td>\n    </tr>\n    <tr>\n      <th>2</th>\n      <td>1100015</td>\n      <td>2020-03-29</td>\n      <td>110001</td>\n      <td>0</td>\n      <td>0</td>\n      <td>0</td>\n      <td>0.0</td>\n      <td>0.0</td>\n      <td>0.0</td>\n    </tr>\n    <tr>\n      <th>3</th>\n      <td>1100015</td>\n      <td>2020-03-30</td>\n      <td>110001</td>\n      <td>0</td>\n      <td>0</td>\n      <td>0</td>\n      <td>0.0</td>\n      <td>0.0</td>\n      <td>0.0</td>\n    </tr>\n    <tr>\n      <th>4</th>\n      <td>1100015</td>\n      <td>2020-03-31</td>\n      <td>110001</td>\n      <td>0</td>\n      <td>0</td>\n      <td>0</td>\n      <td>0.0</td>\n      <td>0.0</td>\n      <td>0.0</td>\n    </tr>\n  </tbody>\n</table>\n</div>"
     },
     "execution_count": 45,
     "metadata": {},
     "output_type": "execute_result"
    }
   ],
   "source": [
    "df_municipal.head()"
   ],
   "metadata": {
    "collapsed": false,
    "ExecuteTime": {
     "end_time": "2023-10-17T16:47:59.260866923Z",
     "start_time": "2023-10-17T16:47:59.255542414Z"
    }
   },
   "id": "6f7146909caf637f"
  },
  {
   "cell_type": "code",
   "execution_count": 46,
   "outputs": [],
   "source": [
    "df_national.to_csv('data/output/df_ts_monitoring_panel_treated_national.csv', index=False)"
   ],
   "metadata": {
    "collapsed": false,
    "ExecuteTime": {
     "end_time": "2023-10-17T16:48:08.883665612Z",
     "start_time": "2023-10-17T16:48:08.821529079Z"
    }
   },
   "id": "f66f01a32c128ab"
  },
  {
   "cell_type": "code",
   "execution_count": 47,
   "outputs": [
    {
     "data": {
      "text/plain": "(1041, 11)"
     },
     "execution_count": 47,
     "metadata": {},
     "output_type": "execute_result"
    }
   ],
   "source": [
    "df_national.shape"
   ],
   "metadata": {
    "collapsed": false,
    "ExecuteTime": {
     "end_time": "2023-10-17T16:48:16.558091939Z",
     "start_time": "2023-10-17T16:48:16.509293988Z"
    }
   },
   "id": "8781c99b2847c5f0"
  },
  {
   "cell_type": "code",
   "execution_count": 48,
   "outputs": [
    {
     "data": {
      "text/plain": "        data  estado  municipio  CODIGO_MUNICIPIO_6  obitosNovos  \\\n0 2020-02-25     NaN        NaN                 NaN            0   \n1 2020-02-26     NaN        NaN                 NaN            0   \n2 2020-02-27     NaN        NaN                 NaN            0   \n3 2020-02-28     NaN        NaN                 NaN            0   \n4 2020-02-29     NaN        NaN                 NaN            0   \n\n   obitosAcumulado  casosNovos  casosAcumulado  day_of_week  \\\n0                0           0             0.0            1   \n1                0           1             1.0            2   \n2                0           0             1.0            3   \n3                0           0             1.0            4   \n4                0           1             2.0            5   \n\n   CASOS_NOVOS_MEDIA_MOVEL_7_DIAS  OBITOS_NOVOS_MEDIA_MOVEL_7_DIAS  \n0                        0.000000                              0.0  \n1                        0.500000                              0.0  \n2                        0.333333                              0.0  \n3                        0.250000                              0.0  \n4                        0.400000                              0.0  ",
      "text/html": "<div>\n<style scoped>\n    .dataframe tbody tr th:only-of-type {\n        vertical-align: middle;\n    }\n\n    .dataframe tbody tr th {\n        vertical-align: top;\n    }\n\n    .dataframe thead th {\n        text-align: right;\n    }\n</style>\n<table border=\"1\" class=\"dataframe\">\n  <thead>\n    <tr style=\"text-align: right;\">\n      <th></th>\n      <th>data</th>\n      <th>estado</th>\n      <th>municipio</th>\n      <th>CODIGO_MUNICIPIO_6</th>\n      <th>obitosNovos</th>\n      <th>obitosAcumulado</th>\n      <th>casosNovos</th>\n      <th>casosAcumulado</th>\n      <th>day_of_week</th>\n      <th>CASOS_NOVOS_MEDIA_MOVEL_7_DIAS</th>\n      <th>OBITOS_NOVOS_MEDIA_MOVEL_7_DIAS</th>\n    </tr>\n  </thead>\n  <tbody>\n    <tr>\n      <th>0</th>\n      <td>2020-02-25</td>\n      <td>NaN</td>\n      <td>NaN</td>\n      <td>NaN</td>\n      <td>0</td>\n      <td>0</td>\n      <td>0</td>\n      <td>0.0</td>\n      <td>1</td>\n      <td>0.000000</td>\n      <td>0.0</td>\n    </tr>\n    <tr>\n      <th>1</th>\n      <td>2020-02-26</td>\n      <td>NaN</td>\n      <td>NaN</td>\n      <td>NaN</td>\n      <td>0</td>\n      <td>0</td>\n      <td>1</td>\n      <td>1.0</td>\n      <td>2</td>\n      <td>0.500000</td>\n      <td>0.0</td>\n    </tr>\n    <tr>\n      <th>2</th>\n      <td>2020-02-27</td>\n      <td>NaN</td>\n      <td>NaN</td>\n      <td>NaN</td>\n      <td>0</td>\n      <td>0</td>\n      <td>0</td>\n      <td>1.0</td>\n      <td>3</td>\n      <td>0.333333</td>\n      <td>0.0</td>\n    </tr>\n    <tr>\n      <th>3</th>\n      <td>2020-02-28</td>\n      <td>NaN</td>\n      <td>NaN</td>\n      <td>NaN</td>\n      <td>0</td>\n      <td>0</td>\n      <td>0</td>\n      <td>1.0</td>\n      <td>4</td>\n      <td>0.250000</td>\n      <td>0.0</td>\n    </tr>\n    <tr>\n      <th>4</th>\n      <td>2020-02-29</td>\n      <td>NaN</td>\n      <td>NaN</td>\n      <td>NaN</td>\n      <td>0</td>\n      <td>0</td>\n      <td>1</td>\n      <td>2.0</td>\n      <td>5</td>\n      <td>0.400000</td>\n      <td>0.0</td>\n    </tr>\n  </tbody>\n</table>\n</div>"
     },
     "execution_count": 48,
     "metadata": {},
     "output_type": "execute_result"
    }
   ],
   "source": [
    "df_national.head()"
   ],
   "metadata": {
    "collapsed": false,
    "ExecuteTime": {
     "end_time": "2023-10-17T16:48:24.751903481Z",
     "start_time": "2023-10-17T16:48:24.715218739Z"
    }
   },
   "id": "96c65072eebd5b53"
  }
 ],
 "metadata": {
  "kernelspec": {
   "display_name": "Python 3",
   "language": "python",
   "name": "python3"
  },
  "language_info": {
   "codemirror_mode": {
    "name": "ipython",
    "version": 2
   },
   "file_extension": ".py",
   "mimetype": "text/x-python",
   "name": "python",
   "nbconvert_exporter": "python",
   "pygments_lexer": "ipython2",
   "version": "2.7.6"
  }
 },
 "nbformat": 4,
 "nbformat_minor": 5
}
