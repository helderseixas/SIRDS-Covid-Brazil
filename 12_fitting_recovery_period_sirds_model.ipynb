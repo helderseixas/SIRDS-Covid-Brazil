{
 "cells": [
  {
   "cell_type": "markdown",
   "source": [
    "# Fit the parameter recovery period for national data"
   ],
   "metadata": {
    "collapsed": false
   }
  },
  {
   "cell_type": "code",
   "execution_count": 1,
   "metadata": {
    "collapsed": true,
    "ExecuteTime": {
     "end_time": "2023-12-13T16:51:44.769745681Z",
     "start_time": "2023-12-13T16:51:44.507137947Z"
    }
   },
   "outputs": [],
   "source": [
    "import numpy as np\n",
    "import pandas as pd\n",
    "from scipy.optimize import differential_evolution\n",
    "from datetime import datetime\n",
    "\n",
    "from sirds_model import get_bounds_and_arguments, sirds_objective_function"
   ]
  },
  {
   "cell_type": "markdown",
   "source": [
    "## Reading data"
   ],
   "metadata": {
    "collapsed": false
   }
  },
  {
   "cell_type": "code",
   "execution_count": 2,
   "outputs": [],
   "source": [
    "df = pd.read_csv('data/output/df_ts_epidemic_episodes.csv', index_col=0)\n",
    "df.DATA = pd.to_datetime(df.DATA)"
   ],
   "metadata": {
    "collapsed": false,
    "ExecuteTime": {
     "end_time": "2023-12-13T16:51:44.789414463Z",
     "start_time": "2023-12-13T16:51:44.771407386Z"
    }
   }
  },
  {
   "cell_type": "markdown",
   "source": [
    "## Preparing data"
   ],
   "metadata": {
    "collapsed": false
   }
  },
  {
   "cell_type": "code",
   "execution_count": 3,
   "outputs": [],
   "source": [
    "df = df.sort_values(by=['DATA'])"
   ],
   "metadata": {
    "collapsed": false,
    "ExecuteTime": {
     "end_time": "2023-12-13T16:51:44.834932636Z",
     "start_time": "2023-12-13T16:51:44.792554210Z"
    }
   }
  },
  {
   "cell_type": "code",
   "execution_count": 4,
   "outputs": [],
   "source": [
    "df['TAXA_CASOS_NOVOS_MEDIA_MOVEL_7_DIAS_PAINEL'] = df['CASOS_NOVOS_MEDIA_MOVEL_7_DIAS_PAINEL']/df['POPULACAO_2022'] * 100000 "
   ],
   "metadata": {
    "collapsed": false,
    "ExecuteTime": {
     "end_time": "2023-12-13T16:51:44.835940377Z",
     "start_time": "2023-12-13T16:51:44.834807774Z"
    }
   }
  },
  {
   "cell_type": "code",
   "execution_count": 5,
   "outputs": [],
   "source": [
    "df['TAXA_CASOS_NOVOS_MEDIA_MOVEL_7_DIAS_PAINEL'] = df['TAXA_CASOS_NOVOS_MEDIA_MOVEL_7_DIAS_PAINEL'].fillna(0)"
   ],
   "metadata": {
    "collapsed": false,
    "ExecuteTime": {
     "end_time": "2023-12-13T16:51:44.837433978Z",
     "start_time": "2023-12-13T16:51:44.835052261Z"
    }
   }
  },
  {
   "cell_type": "code",
   "execution_count": 6,
   "outputs": [],
   "source": [
    "df['TAXA_CASOS_NOVOS_MEDIA_MOVEL_7_DIAS_PAINEL'] = df['TAXA_CASOS_NOVOS_MEDIA_MOVEL_7_DIAS_PAINEL'].replace([np.inf, -np.inf], 0)"
   ],
   "metadata": {
    "collapsed": false,
    "ExecuteTime": {
     "end_time": "2023-12-13T16:51:44.838386269Z",
     "start_time": "2023-12-13T16:51:44.835286904Z"
    }
   }
  },
  {
   "cell_type": "markdown",
   "source": [
    "## Executing model"
   ],
   "metadata": {
    "collapsed": false
   }
  },
  {
   "cell_type": "code",
   "execution_count": 10,
   "outputs": [
    {
     "name": "stdout",
     "output_type": "stream",
     "text": [
      "days_to_recovery: 8\n",
      "days_to_recovery: 9\n",
      "days_to_recovery: 10\n",
      "days_to_recovery: 11\n",
      "days_to_recovery: 12\n",
      "days_to_recovery: 13\n",
      "days_to_recovery: 14\n",
      "days_to_recovery: 15\n",
      "days_to_recovery: 16\n",
      "days_to_recovery: 17\n",
      "days_to_recovery: 18\n",
      "days_to_recovery: 19\n",
      "days_to_recovery: 20\n",
      "days_to_recovery: 8\n",
      "days_to_recovery: 9\n",
      "days_to_recovery: 10\n",
      "days_to_recovery: 11\n",
      "days_to_recovery: 12\n",
      "days_to_recovery: 13\n",
      "days_to_recovery: 14\n",
      "days_to_recovery: 15\n",
      "days_to_recovery: 16\n",
      "days_to_recovery: 17\n",
      "days_to_recovery: 18\n",
      "days_to_recovery: 19\n",
      "days_to_recovery: 20\n",
      "days_to_recovery: 8\n",
      "days_to_recovery: 9\n",
      "days_to_recovery: 10\n",
      "days_to_recovery: 11\n",
      "days_to_recovery: 12\n",
      "days_to_recovery: 13\n",
      "days_to_recovery: 14\n",
      "days_to_recovery: 15\n",
      "days_to_recovery: 16\n",
      "days_to_recovery: 17\n",
      "days_to_recovery: 18\n",
      "days_to_recovery: 19\n",
      "days_to_recovery: 20\n",
      "days_to_recovery: 8\n",
      "days_to_recovery: 9\n",
      "days_to_recovery: 10\n",
      "days_to_recovery: 11\n",
      "days_to_recovery: 12\n",
      "days_to_recovery: 13\n",
      "days_to_recovery: 14\n",
      "days_to_recovery: 15\n",
      "days_to_recovery: 16\n",
      "days_to_recovery: 17\n",
      "days_to_recovery: 18\n",
      "days_to_recovery: 19\n",
      "days_to_recovery: 20\n",
      "days_to_recovery: 8\n",
      "days_to_recovery: 9\n",
      "days_to_recovery: 10\n",
      "days_to_recovery: 11\n",
      "days_to_recovery: 12\n",
      "days_to_recovery: 13\n",
      "days_to_recovery: 14\n",
      "days_to_recovery: 15\n",
      "days_to_recovery: 16\n",
      "days_to_recovery: 17\n",
      "days_to_recovery: 18\n",
      "days_to_recovery: 19\n",
      "days_to_recovery: 20\n",
      "days_to_recovery: 8\n",
      "days_to_recovery: 9\n",
      "days_to_recovery: 10\n",
      "days_to_recovery: 11\n",
      "days_to_recovery: 12\n",
      "days_to_recovery: 13\n",
      "days_to_recovery: 14\n",
      "days_to_recovery: 15\n",
      "days_to_recovery: 16\n",
      "days_to_recovery: 17\n",
      "days_to_recovery: 18\n",
      "days_to_recovery: 19\n",
      "days_to_recovery: 20\n",
      "days_to_recovery: 8\n",
      "days_to_recovery: 9\n",
      "days_to_recovery: 10\n",
      "days_to_recovery: 11\n",
      "days_to_recovery: 12\n",
      "days_to_recovery: 13\n",
      "days_to_recovery: 14\n",
      "days_to_recovery: 15\n",
      "days_to_recovery: 16\n",
      "days_to_recovery: 17\n",
      "days_to_recovery: 18\n",
      "days_to_recovery: 19\n",
      "days_to_recovery: 20\n",
      "days_to_recovery: 8\n",
      "days_to_recovery: 9\n",
      "days_to_recovery: 10\n",
      "days_to_recovery: 11\n",
      "days_to_recovery: 12\n",
      "days_to_recovery: 13\n",
      "days_to_recovery: 14\n",
      "days_to_recovery: 15\n",
      "days_to_recovery: 16\n",
      "days_to_recovery: 17\n",
      "days_to_recovery: 18\n",
      "days_to_recovery: 19\n",
      "days_to_recovery: 20\n",
      "days_to_recovery: 8\n",
      "days_to_recovery: 9\n",
      "days_to_recovery: 10\n",
      "days_to_recovery: 11\n",
      "days_to_recovery: 12\n",
      "days_to_recovery: 13\n",
      "days_to_recovery: 14\n",
      "days_to_recovery: 15\n",
      "days_to_recovery: 16\n",
      "days_to_recovery: 17\n",
      "days_to_recovery: 18\n",
      "days_to_recovery: 19\n",
      "days_to_recovery: 20\n",
      "days_to_recovery: 8\n",
      "days_to_recovery: 9\n",
      "days_to_recovery: 10\n",
      "days_to_recovery: 11\n",
      "days_to_recovery: 12\n",
      "days_to_recovery: 13\n",
      "days_to_recovery: 14\n",
      "days_to_recovery: 15\n",
      "days_to_recovery: 16\n",
      "days_to_recovery: 17\n",
      "days_to_recovery: 18\n",
      "days_to_recovery: 19\n",
      "days_to_recovery: 20\n",
      "days_to_recovery: 8\n",
      "days_to_recovery: 9\n",
      "days_to_recovery: 10\n",
      "days_to_recovery: 11\n",
      "days_to_recovery: 12\n",
      "days_to_recovery: 13\n",
      "days_to_recovery: 14\n",
      "days_to_recovery: 15\n",
      "days_to_recovery: 16\n",
      "days_to_recovery: 17\n",
      "days_to_recovery: 18\n",
      "days_to_recovery: 19\n",
      "days_to_recovery: 20\n",
      "days_to_recovery: 8\n",
      "days_to_recovery: 9\n",
      "days_to_recovery: 10\n",
      "days_to_recovery: 11\n",
      "days_to_recovery: 12\n",
      "days_to_recovery: 13\n",
      "days_to_recovery: 14\n",
      "days_to_recovery: 15\n",
      "days_to_recovery: 16\n",
      "days_to_recovery: 17\n",
      "days_to_recovery: 18\n",
      "days_to_recovery: 19\n",
      "days_to_recovery: 20\n",
      "days_to_recovery: 8\n",
      "days_to_recovery: 9\n",
      "days_to_recovery: 10\n",
      "days_to_recovery: 11\n",
      "days_to_recovery: 12\n",
      "days_to_recovery: 13\n",
      "days_to_recovery: 14\n",
      "days_to_recovery: 15\n",
      "days_to_recovery: 16\n",
      "days_to_recovery: 17\n",
      "days_to_recovery: 18\n",
      "days_to_recovery: 19\n",
      "days_to_recovery: 20\n",
      "days_to_recovery: 8\n",
      "days_to_recovery: 9\n",
      "days_to_recovery: 10\n",
      "days_to_recovery: 11\n",
      "days_to_recovery: 12\n",
      "days_to_recovery: 13\n",
      "days_to_recovery: 14\n",
      "days_to_recovery: 15\n",
      "days_to_recovery: 16\n",
      "days_to_recovery: 17\n",
      "days_to_recovery: 18\n",
      "days_to_recovery: 19\n",
      "days_to_recovery: 20\n",
      "days_to_recovery: 8\n",
      "days_to_recovery: 9\n",
      "days_to_recovery: 10\n",
      "days_to_recovery: 11\n",
      "days_to_recovery: 12\n",
      "days_to_recovery: 13\n",
      "days_to_recovery: 14\n",
      "days_to_recovery: 15\n",
      "days_to_recovery: 16\n",
      "days_to_recovery: 17\n",
      "days_to_recovery: 18\n",
      "days_to_recovery: 19\n",
      "days_to_recovery: 20\n",
      "days_to_recovery: 8\n",
      "days_to_recovery: 9\n",
      "days_to_recovery: 10\n",
      "days_to_recovery: 11\n",
      "days_to_recovery: 12\n",
      "days_to_recovery: 13\n",
      "days_to_recovery: 14\n",
      "days_to_recovery: 15\n",
      "days_to_recovery: 16\n",
      "days_to_recovery: 17\n",
      "days_to_recovery: 18\n",
      "days_to_recovery: 19\n",
      "days_to_recovery: 20\n",
      "days_to_recovery: 8\n",
      "days_to_recovery: 9\n",
      "days_to_recovery: 10\n",
      "days_to_recovery: 11\n",
      "days_to_recovery: 12\n",
      "days_to_recovery: 13\n",
      "days_to_recovery: 14\n",
      "days_to_recovery: 15\n",
      "days_to_recovery: 16\n",
      "days_to_recovery: 17\n",
      "days_to_recovery: 18\n",
      "days_to_recovery: 19\n",
      "days_to_recovery: 20\n",
      "days_to_recovery: 8\n",
      "days_to_recovery: 9\n",
      "days_to_recovery: 10\n",
      "days_to_recovery: 11\n",
      "days_to_recovery: 12\n",
      "days_to_recovery: 13\n",
      "days_to_recovery: 14\n",
      "days_to_recovery: 15\n",
      "days_to_recovery: 16\n",
      "days_to_recovery: 17\n",
      "days_to_recovery: 18\n",
      "days_to_recovery: 19\n",
      "days_to_recovery: 20\n",
      "days_to_recovery: 8\n",
      "days_to_recovery: 9\n",
      "days_to_recovery: 10\n",
      "days_to_recovery: 11\n",
      "days_to_recovery: 12\n",
      "days_to_recovery: 13\n",
      "days_to_recovery: 14\n",
      "days_to_recovery: 15\n",
      "days_to_recovery: 16\n",
      "days_to_recovery: 17\n",
      "days_to_recovery: 18\n",
      "days_to_recovery: 19\n",
      "days_to_recovery: 20\n",
      "days_to_recovery: 8\n",
      "days_to_recovery: 9\n",
      "days_to_recovery: 10\n",
      "days_to_recovery: 11\n",
      "days_to_recovery: 12\n",
      "days_to_recovery: 13\n",
      "days_to_recovery: 14\n",
      "days_to_recovery: 15\n",
      "days_to_recovery: 16\n",
      "days_to_recovery: 17\n",
      "days_to_recovery: 18\n",
      "days_to_recovery: 19\n",
      "days_to_recovery: 20\n",
      "days_to_recovery: 8\n",
      "estimation: 20\n",
      "2023-12-13 13:52:23.957850\n"
     ]
    },
    {
     "name": "stderr",
     "output_type": "stream",
     "text": [
      "Process ForkPoolWorker-2:\n",
      "Process ForkPoolWorker-4:\n",
      "Process ForkPoolWorker-3:\n",
      "Process ForkPoolWorker-1:\n",
      "capi_return is NULL\n",
      "Call-back cb_f_in_lsoda__user__routines failed.\n",
      "capi_return is NULL\n",
      "Call-back cb_f_in_lsoda__user__routines failed.\n",
      "capi_return is NULL\n",
      "Call-back cb_f_in_lsoda__user__routines failed.\n"
     ]
    },
    {
     "ename": "KeyboardInterrupt",
     "evalue": "",
     "output_type": "error",
     "traceback": [
      "\u001B[0;31m---------------------------------------------------------------------------\u001B[0m",
      "\u001B[0;31mKeyboardInterrupt\u001B[0m                         Traceback (most recent call last)",
      "Cell \u001B[0;32mIn[10], line 38\u001B[0m\n\u001B[1;32m     34\u001B[0m \u001B[38;5;28mprint\u001B[39m(start_time)\n\u001B[1;32m     36\u001B[0m bounds, args \u001B[38;5;241m=\u001B[39m get_bounds_and_arguments(df, \u001B[38;5;124m'\u001B[39m\u001B[38;5;124mDATA\u001B[39m\u001B[38;5;124m'\u001B[39m, \u001B[38;5;124m'\u001B[39m\u001B[38;5;124mTAXA_OBITOS_NOVOS_MEDIA_MOVEL_7_DIAS_SIM\u001B[39m\u001B[38;5;124m'\u001B[39m, \u001B[38;5;124m'\u001B[39m\u001B[38;5;124mNUMERO_REPRODUCAO_EFETIVO_SRAG_MEDIA\u001B[39m\u001B[38;5;124m'\u001B[39m, \u001B[38;5;124m'\u001B[39m\u001B[38;5;124mTAXA_CASOS_NOVOS_MEDIA_MOVEL_7_DIAS_PAINEL\u001B[39m\u001B[38;5;124m'\u001B[39m, \u001B[38;5;124m'\u001B[39m\u001B[38;5;124mONSET_NUMERO_REPRODUCAO_EFETIVO_MEDIA\u001B[39m\u001B[38;5;124m'\u001B[39m, days_to_recovery, date_first_case, max_date_to_fit, df\u001B[38;5;241m.\u001B[39mPOPULACAO_2022\u001B[38;5;241m.\u001B[39miloc[\u001B[38;5;241m0\u001B[39m], period_in_days)\n\u001B[0;32m---> 38\u001B[0m result \u001B[38;5;241m=\u001B[39m \u001B[43mdifferential_evolution\u001B[49m\u001B[43m(\u001B[49m\u001B[43msirds_objective_function\u001B[49m\u001B[43m,\u001B[49m\u001B[43m \u001B[49m\u001B[43mbounds\u001B[49m\u001B[43m,\u001B[49m\u001B[43m \u001B[49m\u001B[43margs\u001B[49m\u001B[38;5;241;43m=\u001B[39;49m\u001B[43margs\u001B[49m\u001B[43m,\u001B[49m\u001B[43m \u001B[49m\u001B[43mpopsize\u001B[49m\u001B[38;5;241;43m=\u001B[39;49m\u001B[43mDIFFERENTIAL_EVOLUTION_POP_SIZE_FACTOR\u001B[49m\u001B[43m,\u001B[49m\u001B[43m \u001B[49m\u001B[43mmaxiter\u001B[49m\u001B[38;5;241;43m=\u001B[39;49m\u001B[38;5;241;43m10000\u001B[39;49m\u001B[43m,\u001B[49m\u001B[43m \u001B[49m\u001B[43mworkers\u001B[49m\u001B[38;5;241;43m=\u001B[39;49m\u001B[38;5;241;43m4\u001B[39;49m\u001B[43m,\u001B[49m\u001B[43m \u001B[49m\u001B[43mupdating\u001B[49m\u001B[38;5;241;43m=\u001B[39;49m\u001B[38;5;124;43m'\u001B[39;49m\u001B[38;5;124;43mdeferred\u001B[39;49m\u001B[38;5;124;43m'\u001B[39;49m\u001B[43m)\u001B[49m\n\u001B[1;32m     40\u001B[0m \u001B[38;5;66;03m# Record the end time\u001B[39;00m\n\u001B[1;32m     41\u001B[0m end_time \u001B[38;5;241m=\u001B[39m datetime\u001B[38;5;241m.\u001B[39mnow()\n",
      "File \u001B[0;32m~/anaconda3/envs/SIRDS_Covid19_Brazil/lib/python3.10/site-packages/scipy/optimize/_differentialevolution.py:397\u001B[0m, in \u001B[0;36mdifferential_evolution\u001B[0;34m(func, bounds, args, strategy, maxiter, popsize, tol, mutation, recombination, seed, callback, disp, polish, init, atol, updating, workers, constraints, x0, integrality, vectorized)\u001B[0m\n\u001B[1;32m    380\u001B[0m \u001B[38;5;66;03m# using a context manager means that any created Pool objects are\u001B[39;00m\n\u001B[1;32m    381\u001B[0m \u001B[38;5;66;03m# cleared up.\u001B[39;00m\n\u001B[1;32m    382\u001B[0m \u001B[38;5;28;01mwith\u001B[39;00m DifferentialEvolutionSolver(func, bounds, args\u001B[38;5;241m=\u001B[39margs,\n\u001B[1;32m    383\u001B[0m                                  strategy\u001B[38;5;241m=\u001B[39mstrategy,\n\u001B[1;32m    384\u001B[0m                                  maxiter\u001B[38;5;241m=\u001B[39mmaxiter,\n\u001B[0;32m   (...)\u001B[0m\n\u001B[1;32m    395\u001B[0m                                  integrality\u001B[38;5;241m=\u001B[39mintegrality,\n\u001B[1;32m    396\u001B[0m                                  vectorized\u001B[38;5;241m=\u001B[39mvectorized) \u001B[38;5;28;01mas\u001B[39;00m solver:\n\u001B[0;32m--> 397\u001B[0m     ret \u001B[38;5;241m=\u001B[39m \u001B[43msolver\u001B[49m\u001B[38;5;241;43m.\u001B[39;49m\u001B[43msolve\u001B[49m\u001B[43m(\u001B[49m\u001B[43m)\u001B[49m\n\u001B[1;32m    399\u001B[0m \u001B[38;5;28;01mreturn\u001B[39;00m ret\n",
      "File \u001B[0;32m~/anaconda3/envs/SIRDS_Covid19_Brazil/lib/python3.10/site-packages/scipy/optimize/_differentialevolution.py:989\u001B[0m, in \u001B[0;36mDifferentialEvolutionSolver.solve\u001B[0;34m(self)\u001B[0m\n\u001B[1;32m    984\u001B[0m     \u001B[38;5;28mself\u001B[39m\u001B[38;5;241m.\u001B[39mfeasible, \u001B[38;5;28mself\u001B[39m\u001B[38;5;241m.\u001B[39mconstraint_violation \u001B[38;5;241m=\u001B[39m (\n\u001B[1;32m    985\u001B[0m         \u001B[38;5;28mself\u001B[39m\u001B[38;5;241m.\u001B[39m_calculate_population_feasibilities(\u001B[38;5;28mself\u001B[39m\u001B[38;5;241m.\u001B[39mpopulation))\n\u001B[1;32m    987\u001B[0m     \u001B[38;5;66;03m# only work out population energies for feasible solutions\u001B[39;00m\n\u001B[1;32m    988\u001B[0m     \u001B[38;5;28mself\u001B[39m\u001B[38;5;241m.\u001B[39mpopulation_energies[\u001B[38;5;28mself\u001B[39m\u001B[38;5;241m.\u001B[39mfeasible] \u001B[38;5;241m=\u001B[39m (\n\u001B[0;32m--> 989\u001B[0m         \u001B[38;5;28;43mself\u001B[39;49m\u001B[38;5;241;43m.\u001B[39;49m\u001B[43m_calculate_population_energies\u001B[49m\u001B[43m(\u001B[49m\n\u001B[1;32m    990\u001B[0m \u001B[43m            \u001B[49m\u001B[38;5;28;43mself\u001B[39;49m\u001B[38;5;241;43m.\u001B[39;49m\u001B[43mpopulation\u001B[49m\u001B[43m[\u001B[49m\u001B[38;5;28;43mself\u001B[39;49m\u001B[38;5;241;43m.\u001B[39;49m\u001B[43mfeasible\u001B[49m\u001B[43m]\u001B[49m\u001B[43m)\u001B[49m)\n\u001B[1;32m    992\u001B[0m     \u001B[38;5;28mself\u001B[39m\u001B[38;5;241m.\u001B[39m_promote_lowest_energy()\n\u001B[1;32m    994\u001B[0m \u001B[38;5;66;03m# do the optimization.\u001B[39;00m\n",
      "File \u001B[0;32m~/anaconda3/envs/SIRDS_Covid19_Brazil/lib/python3.10/site-packages/scipy/optimize/_differentialevolution.py:1123\u001B[0m, in \u001B[0;36mDifferentialEvolutionSolver._calculate_population_energies\u001B[0;34m(self, population)\u001B[0m\n\u001B[1;32m   1120\u001B[0m parameters_pop \u001B[38;5;241m=\u001B[39m \u001B[38;5;28mself\u001B[39m\u001B[38;5;241m.\u001B[39m_scale_parameters(population)\n\u001B[1;32m   1121\u001B[0m \u001B[38;5;28;01mtry\u001B[39;00m:\n\u001B[1;32m   1122\u001B[0m     calc_energies \u001B[38;5;241m=\u001B[39m \u001B[38;5;28mlist\u001B[39m(\n\u001B[0;32m-> 1123\u001B[0m         \u001B[38;5;28;43mself\u001B[39;49m\u001B[38;5;241;43m.\u001B[39;49m\u001B[43m_mapwrapper\u001B[49m\u001B[43m(\u001B[49m\u001B[38;5;28;43mself\u001B[39;49m\u001B[38;5;241;43m.\u001B[39;49m\u001B[43mfunc\u001B[49m\u001B[43m,\u001B[49m\u001B[43m \u001B[49m\u001B[43mparameters_pop\u001B[49m\u001B[43m[\u001B[49m\u001B[38;5;241;43m0\u001B[39;49m\u001B[43m:\u001B[49m\u001B[43mS\u001B[49m\u001B[43m]\u001B[49m\u001B[43m)\u001B[49m\n\u001B[1;32m   1124\u001B[0m     )\n\u001B[1;32m   1125\u001B[0m     calc_energies \u001B[38;5;241m=\u001B[39m np\u001B[38;5;241m.\u001B[39msqueeze(calc_energies)\n\u001B[1;32m   1126\u001B[0m \u001B[38;5;28;01mexcept\u001B[39;00m (\u001B[38;5;167;01mTypeError\u001B[39;00m, \u001B[38;5;167;01mValueError\u001B[39;00m) \u001B[38;5;28;01mas\u001B[39;00m e:\n\u001B[1;32m   1127\u001B[0m     \u001B[38;5;66;03m# wrong number of arguments for _mapwrapper\u001B[39;00m\n\u001B[1;32m   1128\u001B[0m     \u001B[38;5;66;03m# or wrong length returned from the mapper\u001B[39;00m\n",
      "File \u001B[0;32m~/anaconda3/envs/SIRDS_Covid19_Brazil/lib/python3.10/site-packages/scipy/_lib/_util.py:442\u001B[0m, in \u001B[0;36mMapWrapper.__call__\u001B[0;34m(self, func, iterable)\u001B[0m\n\u001B[1;32m    439\u001B[0m \u001B[38;5;28;01mdef\u001B[39;00m \u001B[38;5;21m__call__\u001B[39m(\u001B[38;5;28mself\u001B[39m, func, iterable):\n\u001B[1;32m    440\u001B[0m     \u001B[38;5;66;03m# only accept one iterable because that's all Pool.map accepts\u001B[39;00m\n\u001B[1;32m    441\u001B[0m     \u001B[38;5;28;01mtry\u001B[39;00m:\n\u001B[0;32m--> 442\u001B[0m         \u001B[38;5;28;01mreturn\u001B[39;00m \u001B[38;5;28;43mself\u001B[39;49m\u001B[38;5;241;43m.\u001B[39;49m\u001B[43m_mapfunc\u001B[49m\u001B[43m(\u001B[49m\u001B[43mfunc\u001B[49m\u001B[43m,\u001B[49m\u001B[43m \u001B[49m\u001B[43miterable\u001B[49m\u001B[43m)\u001B[49m\n\u001B[1;32m    443\u001B[0m     \u001B[38;5;28;01mexcept\u001B[39;00m \u001B[38;5;167;01mTypeError\u001B[39;00m \u001B[38;5;28;01mas\u001B[39;00m e:\n\u001B[1;32m    444\u001B[0m         \u001B[38;5;66;03m# wrong number of arguments\u001B[39;00m\n\u001B[1;32m    445\u001B[0m         \u001B[38;5;28;01mraise\u001B[39;00m \u001B[38;5;167;01mTypeError\u001B[39;00m(\u001B[38;5;124m\"\u001B[39m\u001B[38;5;124mThe map-like callable must be of the\u001B[39m\u001B[38;5;124m\"\u001B[39m\n\u001B[1;32m    446\u001B[0m                         \u001B[38;5;124m\"\u001B[39m\u001B[38;5;124m form f(func, iterable)\u001B[39m\u001B[38;5;124m\"\u001B[39m) \u001B[38;5;28;01mfrom\u001B[39;00m \u001B[38;5;21;01me\u001B[39;00m\n",
      "File \u001B[0;32m~/anaconda3/envs/SIRDS_Covid19_Brazil/lib/python3.10/multiprocessing/pool.py:367\u001B[0m, in \u001B[0;36mPool.map\u001B[0;34m(self, func, iterable, chunksize)\u001B[0m\n\u001B[1;32m    362\u001B[0m \u001B[38;5;28;01mdef\u001B[39;00m \u001B[38;5;21mmap\u001B[39m(\u001B[38;5;28mself\u001B[39m, func, iterable, chunksize\u001B[38;5;241m=\u001B[39m\u001B[38;5;28;01mNone\u001B[39;00m):\n\u001B[1;32m    363\u001B[0m \u001B[38;5;250m    \u001B[39m\u001B[38;5;124;03m'''\u001B[39;00m\n\u001B[1;32m    364\u001B[0m \u001B[38;5;124;03m    Apply `func` to each element in `iterable`, collecting the results\u001B[39;00m\n\u001B[1;32m    365\u001B[0m \u001B[38;5;124;03m    in a list that is returned.\u001B[39;00m\n\u001B[1;32m    366\u001B[0m \u001B[38;5;124;03m    '''\u001B[39;00m\n\u001B[0;32m--> 367\u001B[0m     \u001B[38;5;28;01mreturn\u001B[39;00m \u001B[38;5;28;43mself\u001B[39;49m\u001B[38;5;241;43m.\u001B[39;49m\u001B[43m_map_async\u001B[49m\u001B[43m(\u001B[49m\u001B[43mfunc\u001B[49m\u001B[43m,\u001B[49m\u001B[43m \u001B[49m\u001B[43miterable\u001B[49m\u001B[43m,\u001B[49m\u001B[43m \u001B[49m\u001B[43mmapstar\u001B[49m\u001B[43m,\u001B[49m\u001B[43m \u001B[49m\u001B[43mchunksize\u001B[49m\u001B[43m)\u001B[49m\u001B[38;5;241;43m.\u001B[39;49m\u001B[43mget\u001B[49m\u001B[43m(\u001B[49m\u001B[43m)\u001B[49m\n",
      "File \u001B[0;32m~/anaconda3/envs/SIRDS_Covid19_Brazil/lib/python3.10/multiprocessing/pool.py:768\u001B[0m, in \u001B[0;36mApplyResult.get\u001B[0;34m(self, timeout)\u001B[0m\n\u001B[1;32m    767\u001B[0m \u001B[38;5;28;01mdef\u001B[39;00m \u001B[38;5;21mget\u001B[39m(\u001B[38;5;28mself\u001B[39m, timeout\u001B[38;5;241m=\u001B[39m\u001B[38;5;28;01mNone\u001B[39;00m):\n\u001B[0;32m--> 768\u001B[0m     \u001B[38;5;28;43mself\u001B[39;49m\u001B[38;5;241;43m.\u001B[39;49m\u001B[43mwait\u001B[49m\u001B[43m(\u001B[49m\u001B[43mtimeout\u001B[49m\u001B[43m)\u001B[49m\n\u001B[1;32m    769\u001B[0m     \u001B[38;5;28;01mif\u001B[39;00m \u001B[38;5;129;01mnot\u001B[39;00m \u001B[38;5;28mself\u001B[39m\u001B[38;5;241m.\u001B[39mready():\n\u001B[1;32m    770\u001B[0m         \u001B[38;5;28;01mraise\u001B[39;00m \u001B[38;5;167;01mTimeoutError\u001B[39;00m\n",
      "File \u001B[0;32m~/anaconda3/envs/SIRDS_Covid19_Brazil/lib/python3.10/multiprocessing/pool.py:765\u001B[0m, in \u001B[0;36mApplyResult.wait\u001B[0;34m(self, timeout)\u001B[0m\n\u001B[1;32m    764\u001B[0m \u001B[38;5;28;01mdef\u001B[39;00m \u001B[38;5;21mwait\u001B[39m(\u001B[38;5;28mself\u001B[39m, timeout\u001B[38;5;241m=\u001B[39m\u001B[38;5;28;01mNone\u001B[39;00m):\n\u001B[0;32m--> 765\u001B[0m     \u001B[38;5;28;43mself\u001B[39;49m\u001B[38;5;241;43m.\u001B[39;49m\u001B[43m_event\u001B[49m\u001B[38;5;241;43m.\u001B[39;49m\u001B[43mwait\u001B[49m\u001B[43m(\u001B[49m\u001B[43mtimeout\u001B[49m\u001B[43m)\u001B[49m\n",
      "File \u001B[0;32m~/anaconda3/envs/SIRDS_Covid19_Brazil/lib/python3.10/threading.py:607\u001B[0m, in \u001B[0;36mEvent.wait\u001B[0;34m(self, timeout)\u001B[0m\n\u001B[1;32m    605\u001B[0m signaled \u001B[38;5;241m=\u001B[39m \u001B[38;5;28mself\u001B[39m\u001B[38;5;241m.\u001B[39m_flag\n\u001B[1;32m    606\u001B[0m \u001B[38;5;28;01mif\u001B[39;00m \u001B[38;5;129;01mnot\u001B[39;00m signaled:\n\u001B[0;32m--> 607\u001B[0m     signaled \u001B[38;5;241m=\u001B[39m \u001B[38;5;28;43mself\u001B[39;49m\u001B[38;5;241;43m.\u001B[39;49m\u001B[43m_cond\u001B[49m\u001B[38;5;241;43m.\u001B[39;49m\u001B[43mwait\u001B[49m\u001B[43m(\u001B[49m\u001B[43mtimeout\u001B[49m\u001B[43m)\u001B[49m\n\u001B[1;32m    608\u001B[0m \u001B[38;5;28;01mreturn\u001B[39;00m signaled\n",
      "File \u001B[0;32m~/anaconda3/envs/SIRDS_Covid19_Brazil/lib/python3.10/threading.py:320\u001B[0m, in \u001B[0;36mCondition.wait\u001B[0;34m(self, timeout)\u001B[0m\n\u001B[1;32m    318\u001B[0m \u001B[38;5;28;01mtry\u001B[39;00m:    \u001B[38;5;66;03m# restore state no matter what (e.g., KeyboardInterrupt)\u001B[39;00m\n\u001B[1;32m    319\u001B[0m     \u001B[38;5;28;01mif\u001B[39;00m timeout \u001B[38;5;129;01mis\u001B[39;00m \u001B[38;5;28;01mNone\u001B[39;00m:\n\u001B[0;32m--> 320\u001B[0m         \u001B[43mwaiter\u001B[49m\u001B[38;5;241;43m.\u001B[39;49m\u001B[43macquire\u001B[49m\u001B[43m(\u001B[49m\u001B[43m)\u001B[49m\n\u001B[1;32m    321\u001B[0m         gotit \u001B[38;5;241m=\u001B[39m \u001B[38;5;28;01mTrue\u001B[39;00m\n\u001B[1;32m    322\u001B[0m     \u001B[38;5;28;01melse\u001B[39;00m:\n",
      "\u001B[0;31mKeyboardInterrupt\u001B[0m: "
     ]
    }
   ],
   "source": [
    "try:\n",
    "    df_initial_results = pd.read_csv('data/output/fitting_recovery_period_results.csv')\n",
    "except:\n",
    "    df_initial_results = pd.DataFrame({'days_to_recovery':[]})\n",
    "\n",
    "df_results = df_initial_results.copy()\n",
    "\n",
    "DIFFERENTIAL_EVOLUTION_POP_SIZE_FACTOR = 5\n",
    "NUMBER_ESTIMATON_PER_RECOVERY_PERIOD = 20\n",
    "\n",
    "# df = df[:90]\n",
    "\n",
    "date_first_case = min(df[(df.NOVOS_CASOS_SRAG > 0)].iloc[0].DATA, df[(df.CASOS_NOVOS_PAINEL > 0)].iloc[0].DATA)\n",
    "max_date_to_fit = df.DATA.max()\n",
    "\n",
    "# Period of analysis\n",
    "period_in_days = (max_date_to_fit - date_first_case).days + 1\n",
    "\n",
    "for estimation in range(NUMBER_ESTIMATON_PER_RECOVERY_PERIOD):\n",
    "    \n",
    "    # Considering recovery period of 14 days for mild cases as reported by “Report of the WHO-China Joint Mission on Coronavirus Disease 2019 (COVID-19).” Accessed September 26, 2022. https://www.who.int/publications-detail-redirect/report-of-the-who-chinajoint-mission-on-coronavirus-disease-2019-(covid-19).\n",
    "    # Considering recovery period mean between 13 and 15 second Voinsky, Irena, Gabriele Baristaite, and David Gurwitz. \"Effects of age and sex on recovery from COVID-19: Analysis of 5769 Israeli patients.\" Journal of Infection 81.2 (2020): e102-e103.\n",
    "    # Also using 14 days as mean +/- 6 SD we have range 8-20 or 8-26 if we considerate incubation period\n",
    "    for days_to_recovery in range(8,21):\n",
    "        print('days_to_recovery: '+str(days_to_recovery))\n",
    "                   \n",
    "        estimations_performed = len(df_results[(df_results.days_to_recovery == days_to_recovery)])\n",
    "    \n",
    "        if (estimation == estimations_performed):\n",
    "            print('estimation: '+str(estimation))\n",
    "            \n",
    "            # Record the start time\n",
    "            start_time = datetime.now()\n",
    "            print(start_time)\n",
    "    \n",
    "            bounds, args = get_bounds_and_arguments(df, 'DATA', 'TAXA_OBITOS_NOVOS_MEDIA_MOVEL_7_DIAS_SIM', 'NUMERO_REPRODUCAO_EFETIVO_SRAG_MEDIA', 'TAXA_CASOS_NOVOS_MEDIA_MOVEL_7_DIAS_PAINEL', 'ONSET_NUMERO_REPRODUCAO_EFETIVO_MEDIA', days_to_recovery, date_first_case, max_date_to_fit, df.POPULACAO_2022.iloc[0], period_in_days)\n",
    "\n",
    "            result = differential_evolution(sirds_objective_function, bounds, args=args, popsize=DIFFERENTIAL_EVOLUTION_POP_SIZE_FACTOR, maxiter=10000, workers=4, updating='deferred')\n",
    "    \n",
    "            # Record the end time\n",
    "            end_time = datetime.now()\n",
    "    \n",
    "            # Calculate the duration (in seconds) for the optimization\n",
    "            duration = (end_time - start_time).total_seconds()\n",
    "            print(duration)\n",
    "\n",
    "            list_breakpoints_in_slow_transition = args[4]\n",
    "            quantity_outbreaks = args[5]\n",
    "            quantity_outbreak_adjustments = args[6]\n",
    "    \n",
    "            # Create a dictionary to store results\n",
    "            estimation_result = {\n",
    "                'estimation': estimation,  # To differentiate between multiple estimations\n",
    "                'result_fun': result.fun,\n",
    "                'result_nfev': result.nfev,\n",
    "                'result_nit': result.nit,\n",
    "                'result_success': result.success,\n",
    "                'start_time': start_time.strftime('%Y-%m-%d %H:%M:%S'),  # Format start time as a string\n",
    "                'end_time': end_time.strftime('%Y-%m-%d %H:%M:%S'),  # Format end time as a string\n",
    "                'duration_seconds': duration,  # Duration in seconds\n",
    "                'pop_size': DIFFERENTIAL_EVOLUTION_POP_SIZE_FACTOR,\n",
    "                'period_in_days': period_in_days,\n",
    "                'days_to_recovery': days_to_recovery,\n",
    "                'date_first_case': date_first_case,\n",
    "                'list_breakpoints_in_slow_transition': list_breakpoints_in_slow_transition,\n",
    "                'x_initial_infected_population': result.x[0],\n",
    "                'x_days_between_infections_0': result.x[1],            \n",
    "            }\n",
    "            \n",
    "            quantity_epidemic_periods_with_slow_transition = len(list_breakpoints_in_slow_transition) + 1            \n",
    "            \n",
    "            for p in range(quantity_epidemic_periods_with_slow_transition):\n",
    "                estimation_result['x_case_fatality_probability_'+str(p)] = result.x[2 + p]\n",
    "                estimation_result['x_loss_immunity_in_days_'+str(p)] = result.x[2 + quantity_epidemic_periods_with_slow_transition + p]                                                 \n",
    "            quantity_breakpoints = (quantity_outbreaks - 1) + (quantity_outbreak_adjustments)\n",
    "            begin_breakpoint_parameters = 2 + 2*quantity_epidemic_periods_with_slow_transition\n",
    "            for b in range(quantity_breakpoints):\n",
    "                estimation_result['x_days_between_infections_'+str(b+1)] = result.x[begin_breakpoint_parameters + b]\n",
    "                estimation_result['x_breakpoint_'+str(b+1)] = result.x[begin_breakpoint_parameters + quantity_breakpoints + b]\n",
    "                estimation_result['x_transition_days_between_epidemic_periods_'+str(b+1)] = result.x[begin_breakpoint_parameters + 2*quantity_breakpoints + b]\n",
    "    \n",
    "            print(estimation_result)\n",
    "    \n",
    "            # Append the estimation result to the list            \n",
    "            df_results = pd.concat([df_results, pd.DataFrame.from_records([estimation_result])])\n",
    "    \n",
    "            df_results.to_csv('data/output/fitting_recovery_period_results.csv', index=False)           "
   ],
   "metadata": {
    "collapsed": false,
    "ExecuteTime": {
     "end_time": "2023-12-13T16:52:28.480868105Z",
     "start_time": "2023-12-13T16:52:23.861055924Z"
    }
   }
  },
  {
   "cell_type": "code",
   "execution_count": 11,
   "outputs": [
    {
     "data": {
      "text/plain": "[(0.0004914591891190629, 0.043106421832343124),\n (3.1686899996892235, 5.168181884785996),\n (0.0008122127969210452, 0.013300999999999999),\n (0.00133494961986034, 0.013300999999999999),\n (0.000976742544339534, 0.013300999999999999),\n (0.00030096682909715427, 0.0049032675878573385),\n (9.900000000000001e-05, 0.003809124622997509),\n (89.999999, 365.000001),\n (89.999999, 365.000001),\n (89.999999, 365.000001),\n (89.999999, 365.000001),\n (89.999999, 365.000001),\n (3.1686899996892235, 8.322962275568036),\n (2.3277468783111366, 7.7591605943704565),\n (2.3277468783111366, 8.513240158386871),\n (2.03201639857479, 6.773392328582634),\n (2.2028084774818764, 6.773393328582634),\n (1.96662241402667, 6.5554123800888995),\n (2.2609683000183805, 6.5554133800889),\n (1.3981284252323731, 4.6604324174412435),\n (1.7898141636554257, 4.660433417441244),\n (1.4502085973355259, 4.660434417441244),\n (13.999999, 88.000001),\n (106.999999, 116.000001),\n (115.999999, 143.000001),\n (248.999999, 268.000001),\n (308.999999, 320.000001),\n (347.999999, 372.000001),\n (436.999999, 448.000001),\n (665.999999, 686.000001),\n (785.999999, 820.000001),\n (962.999999, 992.000001),\n (-1e-06, 56.000001),\n (-1e-06, 56.000001),\n (-1e-06, 56.000001),\n (-1e-06, 56.000001),\n (-1e-06, 56.000001),\n (-1e-06, 56.000001),\n (-1e-06, 56.000001),\n (-1e-06, 56.000001),\n (-1e-06, 56.000001),\n (-1e-06, 56.000001)]"
     },
     "execution_count": 11,
     "metadata": {},
     "output_type": "execute_result"
    }
   ],
   "source": [
    "bounds"
   ],
   "metadata": {
    "collapsed": false,
    "ExecuteTime": {
     "end_time": "2023-12-13T16:52:39.794241878Z",
     "start_time": "2023-12-13T16:52:39.787279050Z"
    }
   }
  }
 ],
 "metadata": {
  "kernelspec": {
   "display_name": "Python 3",
   "language": "python",
   "name": "python3"
  },
  "language_info": {
   "codemirror_mode": {
    "name": "ipython",
    "version": 2
   },
   "file_extension": ".py",
   "mimetype": "text/x-python",
   "name": "python",
   "nbconvert_exporter": "python",
   "pygments_lexer": "ipython2",
   "version": "2.7.6"
  }
 },
 "nbformat": 4,
 "nbformat_minor": 0
}
