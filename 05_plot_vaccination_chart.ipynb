{
 "cells": [
  {
   "cell_type": "markdown",
   "source": [
    "# Data exploration for national vaccination"
   ],
   "metadata": {
    "collapsed": false
   }
  },
  {
   "cell_type": "code",
   "execution_count": 2,
   "metadata": {
    "collapsed": true,
    "ExecuteTime": {
     "end_time": "2023-08-10T18:42:52.828723452Z",
     "start_time": "2023-08-10T18:42:52.778728922Z"
    }
   },
   "outputs": [],
   "source": [
    "import pandas as pd\n",
    "from datetime import datetime\n",
    "import matplotlib.dates as mdates\n",
    "import matplotlib.ticker as mticker\n",
    "import seaborn as sns\n",
    "import matplotlib.pyplot as plt\n",
    "import util\n",
    "from PIL import Image"
   ]
  },
  {
   "cell_type": "markdown",
   "source": [
    "## Loading data"
   ],
   "metadata": {
    "collapsed": false
   }
  },
  {
   "cell_type": "code",
   "execution_count": 3,
   "outputs": [],
   "source": [
    "STUDY_END_DATE = datetime.fromisoformat('2022-10-15')"
   ],
   "metadata": {
    "collapsed": false,
    "ExecuteTime": {
     "end_time": "2023-08-10T18:42:55.349816667Z",
     "start_time": "2023-08-10T18:42:55.334564681Z"
    }
   }
  },
  {
   "cell_type": "code",
   "execution_count": 5,
   "outputs": [],
   "source": [
    "df_general = pd.read_csv('data/input/OurWorldData/owid-covid-data.csv')\n",
    "df_general.date = pd.to_datetime(df_general.date, infer_datetime_format=True)"
   ],
   "metadata": {
    "collapsed": false,
    "ExecuteTime": {
     "end_time": "2023-08-10T18:43:14.113772532Z",
     "start_time": "2023-08-10T18:43:11.981083677Z"
    }
   }
  },
  {
   "cell_type": "code",
   "execution_count": 6,
   "outputs": [],
   "source": [
    "df_brazil = df_general[(df_general.location == 'Brazil') & (df_general.date <= STUDY_END_DATE)]"
   ],
   "metadata": {
    "collapsed": false,
    "ExecuteTime": {
     "end_time": "2023-08-10T18:43:15.004854863Z",
     "start_time": "2023-08-10T18:43:14.959734171Z"
    }
   }
  },
  {
   "cell_type": "code",
   "execution_count": 7,
   "outputs": [
    {
     "data": {
      "text/plain": "            date  people_vaccinated  people_fully_vaccinated   population\n35713 2020-01-03                NaN                      NaN  215313504.0\n35714 2020-01-04                NaN                      NaN  215313504.0\n35715 2020-01-05                NaN                      NaN  215313504.0\n35716 2020-01-06                NaN                      NaN  215313504.0\n35717 2020-01-07                NaN                      NaN  215313504.0\n...          ...                ...                      ...          ...\n36725 2022-10-11        187377009.0              172308697.0  215313504.0\n36726 2022-10-12                NaN                      NaN  215313504.0\n36727 2022-10-13        187385383.0              172318697.0  215313504.0\n36728 2022-10-14        187385383.0              172319038.0  215313504.0\n36729 2022-10-15        187385383.0              172319279.0  215313504.0\n\n[1017 rows x 4 columns]",
      "text/html": "<div>\n<style scoped>\n    .dataframe tbody tr th:only-of-type {\n        vertical-align: middle;\n    }\n\n    .dataframe tbody tr th {\n        vertical-align: top;\n    }\n\n    .dataframe thead th {\n        text-align: right;\n    }\n</style>\n<table border=\"1\" class=\"dataframe\">\n  <thead>\n    <tr style=\"text-align: right;\">\n      <th></th>\n      <th>date</th>\n      <th>people_vaccinated</th>\n      <th>people_fully_vaccinated</th>\n      <th>population</th>\n    </tr>\n  </thead>\n  <tbody>\n    <tr>\n      <th>35713</th>\n      <td>2020-01-03</td>\n      <td>NaN</td>\n      <td>NaN</td>\n      <td>215313504.0</td>\n    </tr>\n    <tr>\n      <th>35714</th>\n      <td>2020-01-04</td>\n      <td>NaN</td>\n      <td>NaN</td>\n      <td>215313504.0</td>\n    </tr>\n    <tr>\n      <th>35715</th>\n      <td>2020-01-05</td>\n      <td>NaN</td>\n      <td>NaN</td>\n      <td>215313504.0</td>\n    </tr>\n    <tr>\n      <th>35716</th>\n      <td>2020-01-06</td>\n      <td>NaN</td>\n      <td>NaN</td>\n      <td>215313504.0</td>\n    </tr>\n    <tr>\n      <th>35717</th>\n      <td>2020-01-07</td>\n      <td>NaN</td>\n      <td>NaN</td>\n      <td>215313504.0</td>\n    </tr>\n    <tr>\n      <th>...</th>\n      <td>...</td>\n      <td>...</td>\n      <td>...</td>\n      <td>...</td>\n    </tr>\n    <tr>\n      <th>36725</th>\n      <td>2022-10-11</td>\n      <td>187377009.0</td>\n      <td>172308697.0</td>\n      <td>215313504.0</td>\n    </tr>\n    <tr>\n      <th>36726</th>\n      <td>2022-10-12</td>\n      <td>NaN</td>\n      <td>NaN</td>\n      <td>215313504.0</td>\n    </tr>\n    <tr>\n      <th>36727</th>\n      <td>2022-10-13</td>\n      <td>187385383.0</td>\n      <td>172318697.0</td>\n      <td>215313504.0</td>\n    </tr>\n    <tr>\n      <th>36728</th>\n      <td>2022-10-14</td>\n      <td>187385383.0</td>\n      <td>172319038.0</td>\n      <td>215313504.0</td>\n    </tr>\n    <tr>\n      <th>36729</th>\n      <td>2022-10-15</td>\n      <td>187385383.0</td>\n      <td>172319279.0</td>\n      <td>215313504.0</td>\n    </tr>\n  </tbody>\n</table>\n<p>1017 rows × 4 columns</p>\n</div>"
     },
     "execution_count": 7,
     "metadata": {},
     "output_type": "execute_result"
    }
   ],
   "source": [
    "df_brazil[['date', 'people_vaccinated', 'people_fully_vaccinated', 'population']]"
   ],
   "metadata": {
    "collapsed": false,
    "ExecuteTime": {
     "end_time": "2023-08-10T18:43:16.519098129Z",
     "start_time": "2023-08-10T18:43:16.505645424Z"
    }
   }
  },
  {
   "cell_type": "code",
   "execution_count": 8,
   "outputs": [
    {
     "name": "stderr",
     "output_type": "stream",
     "text": [
      "/tmp/ipykernel_50541/2932705632.py:1: SettingWithCopyWarning: \n",
      "A value is trying to be set on a copy of a slice from a DataFrame.\n",
      "Try using .loc[row_indexer,col_indexer] = value instead\n",
      "\n",
      "See the caveats in the documentation: https://pandas.pydata.org/pandas-docs/stable/user_guide/indexing.html#returning-a-view-versus-a-copy\n",
      "  df_brazil['people_vaccinated_percentual'] = df_brazil.people_vaccinated / df_brazil.population * 100\n",
      "/tmp/ipykernel_50541/2932705632.py:2: SettingWithCopyWarning: \n",
      "A value is trying to be set on a copy of a slice from a DataFrame.\n",
      "Try using .loc[row_indexer,col_indexer] = value instead\n",
      "\n",
      "See the caveats in the documentation: https://pandas.pydata.org/pandas-docs/stable/user_guide/indexing.html#returning-a-view-versus-a-copy\n",
      "  df_brazil['people_fully_vaccinated_percentual'] = df_brazil.people_fully_vaccinated / df_brazil.population * 100\n"
     ]
    }
   ],
   "source": [
    "df_brazil['people_vaccinated_percentual'] = df_brazil.people_vaccinated / df_brazil.population * 100\n",
    "df_brazil['people_fully_vaccinated_percentual'] = df_brazil.people_fully_vaccinated / df_brazil.population * 100"
   ],
   "metadata": {
    "collapsed": false,
    "ExecuteTime": {
     "end_time": "2023-08-10T18:43:32.942419582Z",
     "start_time": "2023-08-10T18:43:32.928046505Z"
    }
   }
  },
  {
   "cell_type": "code",
   "execution_count": 9,
   "outputs": [
    {
     "data": {
      "text/plain": "            date  people_vaccinated_percentual  \\\n35713 2020-01-03                           NaN   \n35714 2020-01-04                           NaN   \n35715 2020-01-05                           NaN   \n35716 2020-01-06                           NaN   \n35717 2020-01-07                           NaN   \n...          ...                           ...   \n36725 2022-10-11                     87.025201   \n36726 2022-10-12                           NaN   \n36727 2022-10-13                     87.029090   \n36728 2022-10-14                     87.029090   \n36729 2022-10-15                     87.029090   \n\n       people_fully_vaccinated_percentual   population  \n35713                                 NaN  215313504.0  \n35714                                 NaN  215313504.0  \n35715                                 NaN  215313504.0  \n35716                                 NaN  215313504.0  \n35717                                 NaN  215313504.0  \n...                                   ...          ...  \n36725                           80.026888  215313504.0  \n36726                                 NaN  215313504.0  \n36727                           80.031533  215313504.0  \n36728                           80.031691  215313504.0  \n36729                           80.031803  215313504.0  \n\n[1017 rows x 4 columns]",
      "text/html": "<div>\n<style scoped>\n    .dataframe tbody tr th:only-of-type {\n        vertical-align: middle;\n    }\n\n    .dataframe tbody tr th {\n        vertical-align: top;\n    }\n\n    .dataframe thead th {\n        text-align: right;\n    }\n</style>\n<table border=\"1\" class=\"dataframe\">\n  <thead>\n    <tr style=\"text-align: right;\">\n      <th></th>\n      <th>date</th>\n      <th>people_vaccinated_percentual</th>\n      <th>people_fully_vaccinated_percentual</th>\n      <th>population</th>\n    </tr>\n  </thead>\n  <tbody>\n    <tr>\n      <th>35713</th>\n      <td>2020-01-03</td>\n      <td>NaN</td>\n      <td>NaN</td>\n      <td>215313504.0</td>\n    </tr>\n    <tr>\n      <th>35714</th>\n      <td>2020-01-04</td>\n      <td>NaN</td>\n      <td>NaN</td>\n      <td>215313504.0</td>\n    </tr>\n    <tr>\n      <th>35715</th>\n      <td>2020-01-05</td>\n      <td>NaN</td>\n      <td>NaN</td>\n      <td>215313504.0</td>\n    </tr>\n    <tr>\n      <th>35716</th>\n      <td>2020-01-06</td>\n      <td>NaN</td>\n      <td>NaN</td>\n      <td>215313504.0</td>\n    </tr>\n    <tr>\n      <th>35717</th>\n      <td>2020-01-07</td>\n      <td>NaN</td>\n      <td>NaN</td>\n      <td>215313504.0</td>\n    </tr>\n    <tr>\n      <th>...</th>\n      <td>...</td>\n      <td>...</td>\n      <td>...</td>\n      <td>...</td>\n    </tr>\n    <tr>\n      <th>36725</th>\n      <td>2022-10-11</td>\n      <td>87.025201</td>\n      <td>80.026888</td>\n      <td>215313504.0</td>\n    </tr>\n    <tr>\n      <th>36726</th>\n      <td>2022-10-12</td>\n      <td>NaN</td>\n      <td>NaN</td>\n      <td>215313504.0</td>\n    </tr>\n    <tr>\n      <th>36727</th>\n      <td>2022-10-13</td>\n      <td>87.029090</td>\n      <td>80.031533</td>\n      <td>215313504.0</td>\n    </tr>\n    <tr>\n      <th>36728</th>\n      <td>2022-10-14</td>\n      <td>87.029090</td>\n      <td>80.031691</td>\n      <td>215313504.0</td>\n    </tr>\n    <tr>\n      <th>36729</th>\n      <td>2022-10-15</td>\n      <td>87.029090</td>\n      <td>80.031803</td>\n      <td>215313504.0</td>\n    </tr>\n  </tbody>\n</table>\n<p>1017 rows × 4 columns</p>\n</div>"
     },
     "execution_count": 9,
     "metadata": {},
     "output_type": "execute_result"
    }
   ],
   "source": [
    "df_brazil[['date', 'people_vaccinated_percentual', 'people_fully_vaccinated_percentual', 'population']]"
   ],
   "metadata": {
    "collapsed": false,
    "ExecuteTime": {
     "end_time": "2023-08-10T18:43:35.401072623Z",
     "start_time": "2023-08-10T18:43:35.386598475Z"
    }
   }
  },
  {
   "cell_type": "markdown",
   "source": [
    "## Plotting charts"
   ],
   "metadata": {
    "collapsed": false
   }
  },
  {
   "cell_type": "code",
   "execution_count": 10,
   "outputs": [],
   "source": [
    "myFmt = mdates.DateFormatter('%m/%Y')\n",
    "style = dict(color='black')\n",
    "plt.rc('font', size=8)\n",
    "sns.set_style(\"ticks\")"
   ],
   "metadata": {
    "collapsed": false,
    "ExecuteTime": {
     "end_time": "2023-08-10T18:43:42.388797515Z",
     "start_time": "2023-08-10T18:43:42.372229749Z"
    }
   }
  },
  {
   "cell_type": "markdown",
   "source": [
    "### Figure 3"
   ],
   "metadata": {
    "collapsed": false
   }
  },
  {
   "cell_type": "code",
   "execution_count": 11,
   "outputs": [
    {
     "name": "stderr",
     "output_type": "stream",
     "text": [
      "The PostScript backend does not support transparency; partially transparent artists will be rendered opaque.\n"
     ]
    },
    {
     "data": {
      "text/plain": "<Figure size 519.685x259.843 with 1 Axes>",
      "image/png": "[encoded data removed]"
     },
     "metadata": {},
     "output_type": "display_data"
    }
   ],
   "source": [
    "fig, ax = plt.subplots(figsize=(util.centimeter_to_inch(13.2), util.centimeter_to_inch(6.6)))\n",
    "\n",
    "\n",
    "plt.plot(df_brazil[df_brazil.people_vaccinated_percentual.isna()==False].date, df_brazil[df_brazil.people_vaccinated_percentual.isna()==False].people_vaccinated_percentual, color='black', label='Vaccinated people')\n",
    "\n",
    "plt.plot(df_brazil[df_brazil.people_fully_vaccinated_percentual.isna()==False].date, df_brazil[df_brazil.people_fully_vaccinated_percentual.isna()==False].people_fully_vaccinated_percentual, color='gray', label='Fully vaccinated people', linestyle='--')\n",
    "\n",
    "ax.legend()\n",
    "\n",
    "plt.ylabel('%')\n",
    "ax.xaxis.set_major_formatter(myFmt)\n",
    "ax.yaxis.set_major_formatter(mticker.FuncFormatter(lambda x, p: format(int(x), ',')))\n",
    "plt.xlabel('Month/Year')\n",
    "plt.xticks(rotation=20)\n",
    "plt.savefig('images/national_people_vaccinated.eps', bbox_inches=\"tight\")\n",
    "plt.savefig('images/national_people_vaccinated.pdf', bbox_inches=\"tight\")\n",
    "plt.savefig('images/national_people_vaccinated.tiff', format='tiff', dpi=300, transparent=False, bbox_inches='tight')\n",
    "img = Image.open(\"images/national_people_vaccinated.tiff\")\n",
    "img.save(\"images/national_people_vaccinated_compressed.tiff\", compression=\"tiff_lzw\")\n",
    "plt.show()"
   ],
   "metadata": {
    "collapsed": false,
    "ExecuteTime": {
     "end_time": "2023-08-10T18:44:43.543884041Z",
     "start_time": "2023-08-10T18:44:42.339448921Z"
    }
   }
  },
  {
   "cell_type": "code",
   "execution_count": 11,
   "outputs": [
    {
     "data": {
      "text/plain": "            date  people_vaccinated_percentual  \\\n36093 2021-01-17                      0.000052   \n36094 2021-01-18                      0.000515   \n36095 2021-01-19                      0.006282   \n36096 2021-01-20                      0.049149   \n36097 2021-01-21                      0.089961   \n...          ...                           ...   \n36724 2022-10-10                     87.025201   \n36725 2022-10-11                     87.025201   \n36727 2022-10-13                     87.029090   \n36728 2022-10-14                     87.029090   \n36729 2022-10-15                     87.029090   \n\n       people_fully_vaccinated_percentual   population  \n36093                                 NaN  215313504.0  \n36094                                 NaN  215313504.0  \n36095                                 NaN  215313504.0  \n36096                                 NaN  215313504.0  \n36097                                 NaN  215313504.0  \n...                                   ...          ...  \n36724                           80.026789  215313504.0  \n36725                           80.026888  215313504.0  \n36727                           80.031533  215313504.0  \n36728                           80.031691  215313504.0  \n36729                           80.031803  215313504.0  \n\n[575 rows x 4 columns]",
      "text/html": "<div>\n<style scoped>\n    .dataframe tbody tr th:only-of-type {\n        vertical-align: middle;\n    }\n\n    .dataframe tbody tr th {\n        vertical-align: top;\n    }\n\n    .dataframe thead th {\n        text-align: right;\n    }\n</style>\n<table border=\"1\" class=\"dataframe\">\n  <thead>\n    <tr style=\"text-align: right;\">\n      <th></th>\n      <th>date</th>\n      <th>people_vaccinated_percentual</th>\n      <th>people_fully_vaccinated_percentual</th>\n      <th>population</th>\n    </tr>\n  </thead>\n  <tbody>\n    <tr>\n      <th>36093</th>\n      <td>2021-01-17</td>\n      <td>0.000052</td>\n      <td>NaN</td>\n      <td>215313504.0</td>\n    </tr>\n    <tr>\n      <th>36094</th>\n      <td>2021-01-18</td>\n      <td>0.000515</td>\n      <td>NaN</td>\n      <td>215313504.0</td>\n    </tr>\n    <tr>\n      <th>36095</th>\n      <td>2021-01-19</td>\n      <td>0.006282</td>\n      <td>NaN</td>\n      <td>215313504.0</td>\n    </tr>\n    <tr>\n      <th>36096</th>\n      <td>2021-01-20</td>\n      <td>0.049149</td>\n      <td>NaN</td>\n      <td>215313504.0</td>\n    </tr>\n    <tr>\n      <th>36097</th>\n      <td>2021-01-21</td>\n      <td>0.089961</td>\n      <td>NaN</td>\n      <td>215313504.0</td>\n    </tr>\n    <tr>\n      <th>...</th>\n      <td>...</td>\n      <td>...</td>\n      <td>...</td>\n      <td>...</td>\n    </tr>\n    <tr>\n      <th>36724</th>\n      <td>2022-10-10</td>\n      <td>87.025201</td>\n      <td>80.026789</td>\n      <td>215313504.0</td>\n    </tr>\n    <tr>\n      <th>36725</th>\n      <td>2022-10-11</td>\n      <td>87.025201</td>\n      <td>80.026888</td>\n      <td>215313504.0</td>\n    </tr>\n    <tr>\n      <th>36727</th>\n      <td>2022-10-13</td>\n      <td>87.029090</td>\n      <td>80.031533</td>\n      <td>215313504.0</td>\n    </tr>\n    <tr>\n      <th>36728</th>\n      <td>2022-10-14</td>\n      <td>87.029090</td>\n      <td>80.031691</td>\n      <td>215313504.0</td>\n    </tr>\n    <tr>\n      <th>36729</th>\n      <td>2022-10-15</td>\n      <td>87.029090</td>\n      <td>80.031803</td>\n      <td>215313504.0</td>\n    </tr>\n  </tbody>\n</table>\n<p>575 rows × 4 columns</p>\n</div>"
     },
     "execution_count": 11,
     "metadata": {},
     "output_type": "execute_result"
    }
   ],
   "source": [
    "df_brazil[df_brazil.people_vaccinated_percentual.isna()==False][['date', 'people_vaccinated_percentual', 'people_fully_vaccinated_percentual', 'population']]"
   ],
   "metadata": {
    "collapsed": false,
    "ExecuteTime": {
     "end_time": "2023-05-11T12:59:47.796586850Z",
     "start_time": "2023-05-11T12:59:47.748279265Z"
    }
   }
  },
  {
   "cell_type": "code",
   "execution_count": 12,
   "outputs": [
    {
     "data": {
      "text/plain": "Index(['iso_code', 'continent', 'location', 'date', 'total_cases', 'new_cases',\n       'new_cases_smoothed', 'total_deaths', 'new_deaths',\n       'new_deaths_smoothed', 'total_cases_per_million',\n       'new_cases_per_million', 'new_cases_smoothed_per_million',\n       'total_deaths_per_million', 'new_deaths_per_million',\n       'new_deaths_smoothed_per_million', 'reproduction_rate', 'icu_patients',\n       'icu_patients_per_million', 'hosp_patients',\n       'hosp_patients_per_million', 'weekly_icu_admissions',\n       'weekly_icu_admissions_per_million', 'weekly_hosp_admissions',\n       'weekly_hosp_admissions_per_million', 'total_tests', 'new_tests',\n       'total_tests_per_thousand', 'new_tests_per_thousand',\n       'new_tests_smoothed', 'new_tests_smoothed_per_thousand',\n       'positive_rate', 'tests_per_case', 'tests_units', 'total_vaccinations',\n       'people_vaccinated', 'people_fully_vaccinated', 'total_boosters',\n       'new_vaccinations', 'new_vaccinations_smoothed',\n       'total_vaccinations_per_hundred', 'people_vaccinated_per_hundred',\n       'people_fully_vaccinated_per_hundred', 'total_boosters_per_hundred',\n       'new_vaccinations_smoothed_per_million',\n       'new_people_vaccinated_smoothed',\n       'new_people_vaccinated_smoothed_per_hundred', 'stringency_index',\n       'population_density', 'median_age', 'aged_65_older', 'aged_70_older',\n       'gdp_per_capita', 'extreme_poverty', 'cardiovasc_death_rate',\n       'diabetes_prevalence', 'female_smokers', 'male_smokers',\n       'handwashing_facilities', 'hospital_beds_per_thousand',\n       'life_expectancy', 'human_development_index', 'population',\n       'excess_mortality_cumulative_absolute', 'excess_mortality_cumulative',\n       'excess_mortality', 'excess_mortality_cumulative_per_million',\n       'people_vaccinated_percentual', 'people_fully_vaccinated_percentual'],\n      dtype='object')"
     },
     "execution_count": 12,
     "metadata": {},
     "output_type": "execute_result"
    }
   ],
   "source": [
    "df_brazil.columns"
   ],
   "metadata": {
    "collapsed": false,
    "ExecuteTime": {
     "end_time": "2023-05-11T12:59:47.796955273Z",
     "start_time": "2023-05-11T12:59:47.796151679Z"
    }
   }
  }
 ],
 "metadata": {
  "kernelspec": {
   "display_name": "Python 3",
   "language": "python",
   "name": "python3"
  },
  "language_info": {
   "codemirror_mode": {
    "name": "ipython",
    "version": 2
   },
   "file_extension": ".py",
   "mimetype": "text/x-python",
   "name": "python",
   "nbconvert_exporter": "python",
   "pygments_lexer": "ipython2",
   "version": "2.7.6"
  }
 },
 "nbformat": 4,
 "nbformat_minor": 0
}
