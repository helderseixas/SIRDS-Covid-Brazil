{
 "cells": [
  {
   "cell_type": "markdown",
   "source": [
    "# Persisting series of SIRDS model"
   ],
   "metadata": {
    "collapsed": false
   }
  },
  {
   "cell_type": "code",
   "execution_count": 1,
   "metadata": {
    "collapsed": true,
    "ExecuteTime": {
     "end_time": "2023-12-04T13:10:30.952486584Z",
     "start_time": "2023-12-04T13:10:30.591974355Z"
    }
   },
   "outputs": [],
   "source": [
    "import numpy as np\n",
    "import pandas as pd\n",
    "import datetime\n",
    "\n",
    "from sirds_model_visualization import get_sirds, get_sirds_extras"
   ]
  },
  {
   "cell_type": "markdown",
   "source": [
    "## Reading data"
   ],
   "metadata": {
    "collapsed": false
   }
  },
  {
   "cell_type": "code",
   "execution_count": 2,
   "outputs": [],
   "source": [
    "df = pd.read_csv('data/output/df_ts_epidemic_episodes.csv', index_col=0)\n",
    "df.DATA = pd.to_datetime(df.DATA)"
   ],
   "metadata": {
    "collapsed": false,
    "ExecuteTime": {
     "end_time": "2023-12-04T13:10:43.112627286Z",
     "start_time": "2023-12-04T13:10:43.044656699Z"
    }
   }
  },
  {
   "cell_type": "code",
   "execution_count": 3,
   "outputs": [],
   "source": [
    "df['TAXA_CASOS_NOVOS_MEDIA_MOVEL_7_DIAS_PAINEL'] = df.CASOS_NOVOS_MEDIA_MOVEL_7_DIAS_PAINEL / df.POPULACAO_2022 * 100000"
   ],
   "metadata": {
    "collapsed": false,
    "ExecuteTime": {
     "end_time": "2023-12-04T13:10:47.240782113Z",
     "start_time": "2023-12-04T13:10:47.233696864Z"
    }
   }
  },
  {
   "cell_type": "code",
   "execution_count": 4,
   "outputs": [],
   "source": [
    "df_results = pd.read_csv('data/output/estimation_results.csv')\n",
    "df_results['date_first_case'] = df_results['date_first_case'].str[:11]\n",
    "df_results.date_first_case = pd.to_datetime(df_results['date_first_case'], errors='coerce')\n",
    "df_results['date_first_case'] = df_results['date_first_case'].fillna(df_results['date_first_case'].min())"
   ],
   "metadata": {
    "collapsed": false,
    "ExecuteTime": {
     "end_time": "2023-12-04T13:11:01.027318480Z",
     "start_time": "2023-12-04T13:11:00.978639388Z"
    }
   }
  },
  {
   "cell_type": "markdown",
   "source": [
    "## Executing simulations"
   ],
   "metadata": {
    "collapsed": false
   }
  },
  {
   "cell_type": "code",
   "execution_count": 5,
   "outputs": [],
   "source": [
    "df_sirds = pd.DataFrame()\n",
    "\n",
    "for index, result in df_results.iterrows():\n",
    "    result = result.dropna()\n",
    "    \n",
    "    y = get_sirds(result)\n",
    "    S, I, R, D, I_accumulated = y\n",
    "    S = S[:]\n",
    "    I = I[:]\n",
    "    R = R[:]\n",
    "    D = D[:]\n",
    "    I_accumulated = I_accumulated[:]\n",
    "    N = S[0] + I[0] + R[0] + D[0]\n",
    "   \n",
    "    D_new_deaths, reproduction_number_sird, I_new_cases, epidemic_periods_with_fast_transition_fuzzy_variable, epidemic_periods_with_slow_transition_fuzzy_variable, days_between_infections_values, case_fatality_probability_values, loss_immunity_in_days_values, estimated_days_between_infections, estimated_case_fatality_probability, estimated_loss_immunity_in_days = get_sirds_extras(result, S, D, I_accumulated)\n",
    "    \n",
    "    date_first_case = result.date_first_case \n",
    "    period_in_days = int(result.period_in_days)\n",
    "    max_date_to_fit = pd.to_datetime(result.max_date_to_fit)\n",
    "    train_period = (max_date_to_fit - date_first_case).days + 1\n",
    "    \n",
    "    date_list = [result.date_first_case + datetime.timedelta(days=i) for i in range(period_in_days)]\n",
    "    D_new_deaths = np.append([None], D_new_deaths)\n",
    "    I_new_cases = np.append([None], I_new_cases)\n",
    "    \n",
    "    df_temp = pd.DataFrame({\n",
    "                'date': date_list,\n",
    "                'S': S,\n",
    "                'I': I,\n",
    "                'R': R,\n",
    "                'D': D,\n",
    "                'I_accumulated': I_accumulated,\n",
    "                'D_new_deaths': D_new_deaths,\n",
    "                'reproduction_number_sird': reproduction_number_sird,\n",
    "                'I_new_cases': I_new_cases,\n",
    "                'days_between_infections': estimated_days_between_infections,\n",
    "                'case_fatality_probability': estimated_case_fatality_probability,\n",
    "                'loss_immunity_in_days': estimated_loss_immunity_in_days\n",
    "            })\n",
    "    \n",
    "    df_temp['train_period'] = None\n",
    "    df_temp['train_period'] = df_temp['train_period'].astype(bool)\n",
    "    df_temp.loc[:train_period,'train_period'] = True\n",
    "    df_temp.loc[train_period:,'train_period'] = False\n",
    "    \n",
    "    df_temp['outbreak'] = result.outbreak\n",
    "    df_temp['alpha'] = result.alpha\n",
    "    df_temp['estimation'] = result.estimation\n",
    "    \n",
    "    df_sirds = pd.concat([df_sirds, df_temp], ignore_index=True)"
   ],
   "metadata": {
    "collapsed": false,
    "ExecuteTime": {
     "end_time": "2023-12-04T13:12:20.715815083Z",
     "start_time": "2023-12-04T13:11:10.756873070Z"
    }
   }
  },
  {
   "cell_type": "markdown",
   "source": [
    "## Predicting the end of forecasting"
   ],
   "metadata": {
    "collapsed": false
   }
  },
  {
   "cell_type": "code",
   "execution_count": 6,
   "outputs": [
    {
     "name": "stdout",
     "output_type": "stream",
     "text": [
      "Spend hours:  247.51416726277776\n",
      "current_simulations:  180\n",
      "hours_per_simulation:  1.375078707015432\n",
      "total_simulations:  180\n",
      "estimated_hours_conclusion:  0.0\n",
      "Finish at:  2023-12-04 10:12:20.718032\n"
     ]
    }
   ],
   "source": [
    "spend_hours = df_results[df_results.alpha==0].duration_seconds.sum()/60/60\n",
    "print('Spend hours: ', spend_hours)\n",
    "current_simulations = len(df_results[df_results.alpha==0])\n",
    "print('current_simulations: ', current_simulations)\n",
    "hours_per_simulation = spend_hours/current_simulations\n",
    "print('hours_per_simulation: ', hours_per_simulation)\n",
    "total_simulations = 1 * 9 * 20\n",
    "print('total_simulations: ', total_simulations)\n",
    "estimated_hours_conclusion = (total_simulations-current_simulations)*hours_per_simulation\n",
    "print('estimated_hours_conclusion: ', estimated_hours_conclusion)\n",
    "prediction = datetime.datetime.now() + datetime.timedelta(hours=estimated_hours_conclusion)\n",
    "print('Finish at: ',prediction)"
   ],
   "metadata": {
    "collapsed": false,
    "ExecuteTime": {
     "end_time": "2023-12-04T13:12:20.759989173Z",
     "start_time": "2023-12-04T13:12:20.758336080Z"
    }
   }
  },
  {
   "cell_type": "markdown",
   "source": [
    "## Saving data"
   ],
   "metadata": {
    "collapsed": false
   }
  },
  {
   "cell_type": "code",
   "execution_count": 7,
   "outputs": [],
   "source": [
    "df_sirds.to_csv('data/output/df_sirds.csv', index=False)"
   ],
   "metadata": {
    "collapsed": false,
    "ExecuteTime": {
     "end_time": "2023-12-04T13:12:25.486480648Z",
     "start_time": "2023-12-04T13:12:20.759075782Z"
    }
   }
  },
  {
   "cell_type": "code",
   "execution_count": 10,
   "outputs": [
    {
     "data": {
      "text/plain": "        date             S         I         R         D  I_accumulated  \\\n0 2020-02-16  99999.988027  0.011973  0.000000  0.000000       0.011973   \n1 2020-02-17  99999.983885  0.014470  0.001637  0.000008       0.016119   \n2 2020-02-18  99999.978885  0.017489  0.003608  0.000018       0.021129   \n3 2020-02-19  99999.972850  0.021136  0.005984  0.000031       0.027183   \n4 2020-02-20  99999.965561  0.025544  0.008850  0.000045       0.034501   \n\n  D_new_deaths  reproduction_number_sird I_new_cases  days_between_infections  \\\n0         None                  2.515196        None                 3.180667   \n1     0.000008                  2.515196    0.004146                 3.180667   \n2      0.00001                  2.515196     0.00501                 3.180667   \n3     0.000012                  2.515195    0.006054                 3.180667   \n4     0.000015                  2.515195    0.007318                 3.180667   \n\n   case_fatality_probability  loss_immunity_in_days  train_period  outbreak  \\\n0                   0.005061             250.947207          True       0.0   \n1                   0.005061             250.947207          True       0.0   \n2                   0.005061             250.947207          True       0.0   \n3                   0.005061             250.947207          True       0.0   \n4                   0.005061             250.947207          True       0.0   \n\n   alpha  estimation  \n0    0.0         0.0  \n1    0.0         0.0  \n2    0.0         0.0  \n3    0.0         0.0  \n4    0.0         0.0  ",
      "text/html": "<div>\n<style scoped>\n    .dataframe tbody tr th:only-of-type {\n        vertical-align: middle;\n    }\n\n    .dataframe tbody tr th {\n        vertical-align: top;\n    }\n\n    .dataframe thead th {\n        text-align: right;\n    }\n</style>\n<table border=\"1\" class=\"dataframe\">\n  <thead>\n    <tr style=\"text-align: right;\">\n      <th></th>\n      <th>date</th>\n      <th>S</th>\n      <th>I</th>\n      <th>R</th>\n      <th>D</th>\n      <th>I_accumulated</th>\n      <th>D_new_deaths</th>\n      <th>reproduction_number_sird</th>\n      <th>I_new_cases</th>\n      <th>days_between_infections</th>\n      <th>case_fatality_probability</th>\n      <th>loss_immunity_in_days</th>\n      <th>train_period</th>\n      <th>outbreak</th>\n      <th>alpha</th>\n      <th>estimation</th>\n    </tr>\n  </thead>\n  <tbody>\n    <tr>\n      <th>0</th>\n      <td>2020-02-16</td>\n      <td>99999.988027</td>\n      <td>0.011973</td>\n      <td>0.000000</td>\n      <td>0.000000</td>\n      <td>0.011973</td>\n      <td>None</td>\n      <td>2.515196</td>\n      <td>None</td>\n      <td>3.180667</td>\n      <td>0.005061</td>\n      <td>250.947207</td>\n      <td>True</td>\n      <td>0.0</td>\n      <td>0.0</td>\n      <td>0.0</td>\n    </tr>\n    <tr>\n      <th>1</th>\n      <td>2020-02-17</td>\n      <td>99999.983885</td>\n      <td>0.014470</td>\n      <td>0.001637</td>\n      <td>0.000008</td>\n      <td>0.016119</td>\n      <td>0.000008</td>\n      <td>2.515196</td>\n      <td>0.004146</td>\n      <td>3.180667</td>\n      <td>0.005061</td>\n      <td>250.947207</td>\n      <td>True</td>\n      <td>0.0</td>\n      <td>0.0</td>\n      <td>0.0</td>\n    </tr>\n    <tr>\n      <th>2</th>\n      <td>2020-02-18</td>\n      <td>99999.978885</td>\n      <td>0.017489</td>\n      <td>0.003608</td>\n      <td>0.000018</td>\n      <td>0.021129</td>\n      <td>0.00001</td>\n      <td>2.515196</td>\n      <td>0.00501</td>\n      <td>3.180667</td>\n      <td>0.005061</td>\n      <td>250.947207</td>\n      <td>True</td>\n      <td>0.0</td>\n      <td>0.0</td>\n      <td>0.0</td>\n    </tr>\n    <tr>\n      <th>3</th>\n      <td>2020-02-19</td>\n      <td>99999.972850</td>\n      <td>0.021136</td>\n      <td>0.005984</td>\n      <td>0.000031</td>\n      <td>0.027183</td>\n      <td>0.000012</td>\n      <td>2.515195</td>\n      <td>0.006054</td>\n      <td>3.180667</td>\n      <td>0.005061</td>\n      <td>250.947207</td>\n      <td>True</td>\n      <td>0.0</td>\n      <td>0.0</td>\n      <td>0.0</td>\n    </tr>\n    <tr>\n      <th>4</th>\n      <td>2020-02-20</td>\n      <td>99999.965561</td>\n      <td>0.025544</td>\n      <td>0.008850</td>\n      <td>0.000045</td>\n      <td>0.034501</td>\n      <td>0.000015</td>\n      <td>2.515195</td>\n      <td>0.007318</td>\n      <td>3.180667</td>\n      <td>0.005061</td>\n      <td>250.947207</td>\n      <td>True</td>\n      <td>0.0</td>\n      <td>0.0</td>\n      <td>0.0</td>\n    </tr>\n  </tbody>\n</table>\n</div>"
     },
     "execution_count": 10,
     "metadata": {},
     "output_type": "execute_result"
    }
   ],
   "source": [
    "df_sirds.head()"
   ],
   "metadata": {
    "collapsed": false,
    "ExecuteTime": {
     "end_time": "2023-11-23T11:17:35.233473855Z",
     "start_time": "2023-11-23T11:17:35.180996775Z"
    }
   }
  }
 ],
 "metadata": {
  "kernelspec": {
   "display_name": "Python 3",
   "language": "python",
   "name": "python3"
  },
  "language_info": {
   "codemirror_mode": {
    "name": "ipython",
    "version": 2
   },
   "file_extension": ".py",
   "mimetype": "text/x-python",
   "name": "python",
   "nbconvert_exporter": "python",
   "pygments_lexer": "ipython2",
   "version": "2.7.6"
  }
 },
 "nbformat": 4,
 "nbformat_minor": 0
}
