{
 "cells": [
  {
   "cell_type": "markdown",
   "source": [
    "# Generating the parameter sensitivity"
   ],
   "metadata": {
    "collapsed": false
   },
   "id": "1268046ba3936ac0"
  },
  {
   "cell_type": "code",
   "execution_count": 1,
   "id": "initial_id",
   "metadata": {
    "collapsed": true,
    "ExecuteTime": {
     "end_time": "2023-12-06T14:21:11.631191715Z",
     "start_time": "2023-12-06T14:21:10.038384958Z"
    }
   },
   "outputs": [],
   "source": [
    "import numpy as np\n",
    "import pandas as pd\n",
    "from sirds_model import get_error_deaths_rt\n",
    "from sirds_model_visualization import get_sirds, get_sirds_extras"
   ]
  },
  {
   "cell_type": "markdown",
   "source": [
    "## Loading data"
   ],
   "metadata": {
    "collapsed": false
   },
   "id": "766db1cf1f6e92b7"
  },
  {
   "cell_type": "code",
   "execution_count": 2,
   "outputs": [],
   "source": [
    "DAYS_TO_RECOVERY = 8"
   ],
   "metadata": {
    "collapsed": false,
    "ExecuteTime": {
     "end_time": "2023-12-06T14:21:11.643446158Z",
     "start_time": "2023-12-06T14:21:11.633161563Z"
    }
   },
   "id": "cfb504906f950bb8"
  },
  {
   "cell_type": "code",
   "execution_count": 3,
   "outputs": [],
   "source": [
    "df = pd.read_csv('data/output/df_ts_epidemic_episodes.csv', index_col=0)\n",
    "df.DATA = pd.to_datetime(df.DATA)\n",
    "df = df.sort_values(by=['DATA'])\n",
    "df['TAXA_CASOS_NOVOS_MEDIA_MOVEL_7_DIAS_PAINEL'] = df['CASOS_NOVOS_MEDIA_MOVEL_7_DIAS_PAINEL']/df['POPULACAO_2022'] * 100000 \n",
    "df['TAXA_CASOS_NOVOS_MEDIA_MOVEL_7_DIAS_PAINEL'] = df['TAXA_CASOS_NOVOS_MEDIA_MOVEL_7_DIAS_PAINEL'].fillna(0)\n",
    "df['TAXA_CASOS_NOVOS_MEDIA_MOVEL_7_DIAS_PAINEL'] = df['TAXA_CASOS_NOVOS_MEDIA_MOVEL_7_DIAS_PAINEL'].replace([np.inf, -np.inf], 0)"
   ],
   "metadata": {
    "collapsed": false,
    "ExecuteTime": {
     "end_time": "2023-12-06T14:21:11.687792016Z",
     "start_time": "2023-12-06T14:21:11.637717208Z"
    }
   },
   "id": "afd9181c128b432f"
  },
  {
   "cell_type": "code",
   "execution_count": 4,
   "outputs": [],
   "source": [
    "df_results = pd.read_csv('data/output/fitting_recovery_period_results.csv')"
   ],
   "metadata": {
    "collapsed": false,
    "ExecuteTime": {
     "end_time": "2023-12-06T14:21:11.689138539Z",
     "start_time": "2023-12-06T14:21:11.674399090Z"
    }
   },
   "id": "aad899666f74389d"
  },
  {
   "cell_type": "markdown",
   "source": [
    "## Preparing data"
   ],
   "metadata": {
    "collapsed": false
   },
   "id": "23a3d50f10a1742f"
  },
  {
   "cell_type": "code",
   "execution_count": 5,
   "outputs": [],
   "source": [
    "best_result = df_results[(df_results.days_to_recovery == DAYS_TO_RECOVERY) & (df_results.result_fun == df_results.result_fun.min())].iloc[0]"
   ],
   "metadata": {
    "collapsed": false,
    "ExecuteTime": {
     "end_time": "2023-12-06T14:21:11.732422890Z",
     "start_time": "2023-12-06T14:21:11.688433136Z"
    }
   },
   "id": "9198fd14b306656d"
  },
  {
   "cell_type": "code",
   "execution_count": 6,
   "outputs": [],
   "source": [
    "mean_result = df_results[(df_results.days_to_recovery == DAYS_TO_RECOVERY)].drop(columns=['date_first_case', 'start_time', 'end_time', 'list_breakpoints_in_slow_transition']).mean()\n",
    "mean_result['list_breakpoints_in_slow_transition'] = best_result['list_breakpoints_in_slow_transition']\n",
    "mean_result['date_first_case'] = best_result['date_first_case']"
   ],
   "metadata": {
    "collapsed": false,
    "ExecuteTime": {
     "end_time": "2023-12-06T14:21:11.732665261Z",
     "start_time": "2023-12-06T14:21:11.730490510Z"
    }
   },
   "id": "dd21179ae7214165"
  },
  {
   "cell_type": "code",
   "execution_count": 7,
   "outputs": [],
   "source": [
    "date_first_case = pd.to_datetime(mean_result.date_first_case)\n",
    "max_date_to_fit = df.DATA.max()\n",
    "period_in_days = (max_date_to_fit - date_first_case).days + 1"
   ],
   "metadata": {
    "collapsed": false,
    "ExecuteTime": {
     "end_time": "2023-12-06T14:21:11.732801066Z",
     "start_time": "2023-12-06T14:21:11.730750650Z"
    }
   },
   "id": "7c300841ff87dc8c"
  },
  {
   "cell_type": "code",
   "execution_count": 8,
   "outputs": [],
   "source": [
    "df = df[df.DATA >= date_first_case]"
   ],
   "metadata": {
    "collapsed": false,
    "ExecuteTime": {
     "end_time": "2023-12-06T14:21:11.732924010Z",
     "start_time": "2023-12-06T14:21:11.731037213Z"
    }
   },
   "id": "2beb14b1c62d932d"
  },
  {
   "cell_type": "code",
   "execution_count": 9,
   "outputs": [],
   "source": [
    "y = get_sirds(mean_result)\n",
    "S, I, R, D, I_accumulated = y\n",
    "min_length = min(len(df), len(D))\n",
    "S = S[:min_length]\n",
    "I = I[:min_length]\n",
    "R = R[:min_length]\n",
    "D = D[:min_length]\n",
    "I_accumulated = I_accumulated[:min_length]\n",
    "N = S[0] + I[0] + R[0] + D[0]    \n",
    "\n",
    "D_new_deaths, reproduction_number_sird, I_new_cases, epidemic_periods_with_fast_transition_fuzzy_variable, epidemic_periods_with_slow_transition_fuzzy_variable, days_between_infections_values, case_fatality_probability_values, loss_immunity_in_days_values, estimated_days_between_infections, estimated_case_fatality_probability, estimated_loss_immunity_in_days = get_sirds_extras(mean_result, S, D, I_accumulated)\n",
    "\n",
    "base_output = get_error_deaths_rt(D_new_deaths, df.TAXA_OBITOS_NOVOS_MEDIA_MOVEL_7_DIAS_SIM.values, reproduction_number_sird, df.NUMERO_REPRODUCAO_EFETIVO_SRAG_MEDIA.values)"
   ],
   "metadata": {
    "collapsed": false,
    "ExecuteTime": {
     "end_time": "2023-12-06T14:21:12.052930166Z",
     "start_time": "2023-12-06T14:21:11.731228191Z"
    }
   },
   "id": "7d5efa9b42c247b7"
  },
  {
   "cell_type": "code",
   "execution_count": 10,
   "outputs": [
    {
     "data": {
      "text/plain": "0.185680364749585"
     },
     "execution_count": 10,
     "metadata": {},
     "output_type": "execute_result"
    }
   ],
   "source": [
    "base_output"
   ],
   "metadata": {
    "collapsed": false,
    "ExecuteTime": {
     "end_time": "2023-12-06T14:21:12.110658668Z",
     "start_time": "2023-12-06T14:21:12.059978063Z"
    }
   },
   "id": "5437185a9ea26e8c"
  },
  {
   "cell_type": "code",
   "execution_count": 11,
   "outputs": [
    {
     "data": {
      "text/plain": "days_to_recovery                                                 8.0\nestimation                                                       7.0\nresult_fun                                                  0.159275\nresult_nfev                                                 234931.0\nresult_nit                                                    1104.0\nresult_success                                                  True\nstart_time                                       2023-11-23 08:35:40\nend_time                                         2023-11-23 12:32:30\nduration_seconds                                        14210.564792\npop_size                                                         5.0\nperiod_in_days                                                1050.0\ndate_first_case                                  2020-02-16 00:00:00\nlist_breakpoints_in_slow_transition                     [3, 6, 7, 9]\nx_initial_infected_population                               0.020173\nx_days_between_infections_0                                 3.216987\nx_case_fatality_probability_0                               0.010028\nx_loss_immunity_in_days_0                                 217.562704\nx_case_fatality_probability_1                               0.004779\nx_loss_immunity_in_days_1                                 243.527617\nx_case_fatality_probability_2                               0.002443\nx_loss_immunity_in_days_2                                  207.00555\nx_case_fatality_probability_3                                0.00044\nx_loss_immunity_in_days_3                                 279.115489\nx_case_fatality_probability_4                               0.000119\nx_loss_immunity_in_days_4                                 361.516221\nx_days_between_infections_1                                 8.302241\nx_breakpoint_1                                             55.489868\nx_transition_days_between_epidemic_periods_1               32.995226\nx_days_between_infections_2                                 7.041402\nx_breakpoint_2                                            111.315009\nx_transition_days_between_epidemic_periods_2               23.896363\nx_days_between_infections_3                                 7.859629\nx_breakpoint_3                                            139.113974\nx_transition_days_between_epidemic_periods_3               46.904432\nx_days_between_infections_4                                 6.168053\nx_breakpoint_4                                            258.665354\nx_transition_days_between_epidemic_periods_4                6.781676\nx_days_between_infections_5                                  6.74816\nx_breakpoint_5                                             317.55241\nx_transition_days_between_epidemic_periods_5               32.774952\nx_days_between_infections_6                                 5.297544\nx_breakpoint_6                                            357.786222\nx_transition_days_between_epidemic_periods_6                7.474156\nx_days_between_infections_7                                 4.259172\nx_breakpoint_7                                            447.761354\nx_transition_days_between_epidemic_periods_7                1.895895\nx_days_between_infections_8                                 2.545496\nx_breakpoint_8                                            678.032565\nx_transition_days_between_epidemic_periods_8                1.888416\nx_days_between_infections_9                                 1.815815\nx_breakpoint_9                                            794.489079\nx_transition_days_between_epidemic_periods_9                8.820641\nx_days_between_infections_10                                1.468854\nx_breakpoint_10                                            986.15596\nx_transition_days_between_epidemic_periods_10               2.318438\nName: 91, dtype: object"
     },
     "execution_count": 11,
     "metadata": {},
     "output_type": "execute_result"
    }
   ],
   "source": [
    "best_result"
   ],
   "metadata": {
    "collapsed": false,
    "ExecuteTime": {
     "end_time": "2023-12-06T14:21:12.111254199Z",
     "start_time": "2023-12-06T14:21:12.102649005Z"
    }
   },
   "id": "a9b0eedfb02342ae"
  },
  {
   "cell_type": "code",
   "execution_count": 12,
   "outputs": [
    {
     "data": {
      "text/plain": "days_to_recovery                                                 8.0\nestimation                                                       5.5\nresult_fun                                                  0.167828\nresult_nfev                                            193501.916667\nresult_nit                                                905.916667\nresult_success                                                   1.0\nduration_seconds                                         9329.478422\npop_size                                                         5.0\nperiod_in_days                                                1050.0\nx_initial_infected_population                               0.030625\nx_days_between_infections_0                                 3.275444\nx_case_fatality_probability_0                               0.009156\nx_loss_immunity_in_days_0                                 231.234541\nx_case_fatality_probability_1                               0.004407\nx_loss_immunity_in_days_1                                 258.254696\nx_case_fatality_probability_2                               0.002552\nx_loss_immunity_in_days_2                                 218.725632\nx_case_fatality_probability_3                               0.000438\nx_loss_immunity_in_days_3                                 286.696319\nx_case_fatality_probability_4                               0.000231\nx_loss_immunity_in_days_4                                  333.87705\nx_days_between_infections_1                                  8.12048\nx_breakpoint_1                                             55.245723\nx_transition_days_between_epidemic_periods_1               33.311784\nx_days_between_infections_2                                 7.090522\nx_breakpoint_2                                            112.110956\nx_transition_days_between_epidemic_periods_2               19.827082\nx_days_between_infections_3                                 7.690321\nx_breakpoint_3                                            132.341751\nx_transition_days_between_epidemic_periods_3               39.919057\nx_days_between_infections_4                                 6.187127\nx_breakpoint_4                                             258.13421\nx_transition_days_between_epidemic_periods_4                6.283422\nx_days_between_infections_5                                 6.599678\nx_breakpoint_5                                            314.199579\nx_transition_days_between_epidemic_periods_5               28.821123\nx_days_between_infections_6                                 5.216279\nx_breakpoint_6                                             358.64504\nx_transition_days_between_epidemic_periods_6                5.573396\nx_days_between_infections_7                                 4.218229\nx_breakpoint_7                                            447.517687\nx_transition_days_between_epidemic_periods_7                2.701681\nx_days_between_infections_8                                 2.557244\nx_breakpoint_8                                            676.605755\nx_transition_days_between_epidemic_periods_8                4.524426\nx_days_between_infections_9                                  2.06592\nx_breakpoint_9                                            800.739273\nx_transition_days_between_epidemic_periods_9                9.980509\nx_days_between_infections_10                                1.722107\nx_breakpoint_10                                            982.78187\nx_transition_days_between_epidemic_periods_10                6.89394\nlist_breakpoints_in_slow_transition                     [3, 6, 7, 9]\ndate_first_case                                  2020-02-16 00:00:00\ndtype: object"
     },
     "execution_count": 12,
     "metadata": {},
     "output_type": "execute_result"
    }
   ],
   "source": [
    "mean_result"
   ],
   "metadata": {
    "collapsed": false,
    "ExecuteTime": {
     "end_time": "2023-12-06T14:21:12.111823164Z",
     "start_time": "2023-12-06T14:21:12.102961763Z"
    }
   },
   "id": "ad6d1b4c07a90ff6"
  },
  {
   "cell_type": "code",
   "execution_count": 13,
   "outputs": [
    {
     "data": {
      "text/plain": "days_to_recovery                                                 8.0\nestimation                                                       5.5\nresult_fun                                                  0.167828\nresult_nfev                                            193501.916667\nresult_nit                                                905.916667\nresult_success                                                   1.0\nduration_seconds                                         9329.478422\npop_size                                                         5.0\nperiod_in_days                                                1050.0\nx_initial_infected_population                               0.030625\nx_days_between_infections_0                                 3.275444\nx_case_fatality_probability_0                               0.009156\nx_loss_immunity_in_days_0                                 231.234541\nx_case_fatality_probability_1                               0.004407\nx_loss_immunity_in_days_1                                 258.254696\nx_case_fatality_probability_2                               0.002552\nx_loss_immunity_in_days_2                                 218.725632\nx_case_fatality_probability_3                               0.000438\nx_loss_immunity_in_days_3                                 286.696319\nx_case_fatality_probability_4                               0.000231\nx_loss_immunity_in_days_4                                  333.87705\nx_days_between_infections_1                                  8.12048\nx_breakpoint_1                                             55.245723\nx_transition_days_between_epidemic_periods_1               33.311784\nx_days_between_infections_2                                 7.090522\nx_breakpoint_2                                            112.110956\nx_transition_days_between_epidemic_periods_2               19.827082\nx_days_between_infections_3                                 7.690321\nx_breakpoint_3                                            132.341751\nx_transition_days_between_epidemic_periods_3               39.919057\nx_days_between_infections_4                                 6.187127\nx_breakpoint_4                                             258.13421\nx_transition_days_between_epidemic_periods_4                6.283422\nx_days_between_infections_5                                 6.599678\nx_breakpoint_5                                            314.199579\nx_transition_days_between_epidemic_periods_5               28.821123\nx_days_between_infections_6                                 5.216279\nx_breakpoint_6                                             358.64504\nx_transition_days_between_epidemic_periods_6                5.573396\nx_days_between_infections_7                                 4.218229\nx_breakpoint_7                                            447.517687\nx_transition_days_between_epidemic_periods_7                2.701681\nx_days_between_infections_8                                 2.557244\nx_breakpoint_8                                            676.605755\nx_transition_days_between_epidemic_periods_8                4.524426\nx_days_between_infections_9                                  2.06592\nx_breakpoint_9                                            800.739273\nx_transition_days_between_epidemic_periods_9                9.980509\nx_days_between_infections_10                                1.722107\nx_breakpoint_10                                            982.78187\nx_transition_days_between_epidemic_periods_10                6.89394\nlist_breakpoints_in_slow_transition                     [3, 6, 7, 9]\ndate_first_case                                  2020-02-16 00:00:00\ndtype: object"
     },
     "execution_count": 13,
     "metadata": {},
     "output_type": "execute_result"
    }
   ],
   "source": [
    "mean_result"
   ],
   "metadata": {
    "collapsed": false,
    "ExecuteTime": {
     "end_time": "2023-12-06T14:21:12.112539693Z",
     "start_time": "2023-12-06T14:21:12.103346642Z"
    }
   },
   "id": "46f0351127717650"
  },
  {
   "cell_type": "code",
   "execution_count": 14,
   "outputs": [],
   "source": [
    "list_parameter = [\n",
    "    'x_initial_infected_population',\n",
    "    'x_days_between_infections_0',\n",
    "    'x_case_fatality_probability_0',\n",
    "    'x_case_fatality_probability_1',\n",
    "    'x_case_fatality_probability_2',\n",
    "    'x_case_fatality_probability_3',\n",
    "    'x_case_fatality_probability_4',\n",
    "    'x_loss_immunity_in_days_0',\n",
    "    'x_loss_immunity_in_days_1',\n",
    "    'x_loss_immunity_in_days_2',\n",
    "    'x_loss_immunity_in_days_3',\n",
    "    'x_loss_immunity_in_days_4',\n",
    "    'x_days_between_infections_1',\n",
    "    'x_days_between_infections_2',\n",
    "    'x_days_between_infections_3',\n",
    "    'x_days_between_infections_4',\n",
    "    'x_days_between_infections_5',\n",
    "    'x_days_between_infections_6',\n",
    "    'x_days_between_infections_7',\n",
    "    'x_days_between_infections_8',\n",
    "    'x_days_between_infections_9',\n",
    "    'x_days_between_infections_10',\n",
    "    'x_breakpoint_1',\n",
    "    'x_breakpoint_2',\n",
    "    'x_breakpoint_3',\n",
    "    'x_breakpoint_4',\n",
    "    'x_breakpoint_5',\n",
    "    'x_breakpoint_6',\n",
    "    'x_breakpoint_7',\n",
    "    'x_breakpoint_8',\n",
    "    'x_breakpoint_9',\n",
    "    'x_breakpoint_10',\n",
    "    'x_transition_days_between_epidemic_periods_1',\n",
    "    'x_transition_days_between_epidemic_periods_2',\n",
    "    'x_transition_days_between_epidemic_periods_3',\n",
    "    'x_transition_days_between_epidemic_periods_4',\n",
    "    'x_transition_days_between_epidemic_periods_5',\n",
    "    'x_transition_days_between_epidemic_periods_6',\n",
    "    'x_transition_days_between_epidemic_periods_7',\n",
    "    'x_transition_days_between_epidemic_periods_8',\n",
    "    'x_transition_days_between_epidemic_periods_9',\n",
    "    'x_transition_days_between_epidemic_periods_10']"
   ],
   "metadata": {
    "collapsed": false,
    "ExecuteTime": {
     "end_time": "2023-12-06T14:21:12.112745549Z",
     "start_time": "2023-12-06T14:21:12.103623456Z"
    }
   },
   "id": "a71bd3f0db6e1529"
  },
  {
   "cell_type": "markdown",
   "source": [
    "## Executing simulations"
   ],
   "metadata": {
    "collapsed": false
   },
   "id": "f70cbc314eac4d47"
  },
  {
   "cell_type": "code",
   "execution_count": 15,
   "outputs": [
    {
     "name": "stdout",
     "output_type": "stream",
     "text": [
      "x_initial_infected_population\n",
      "x_days_between_infections_0\n",
      "x_case_fatality_probability_0\n",
      "x_case_fatality_probability_1\n",
      "x_case_fatality_probability_2\n",
      "x_case_fatality_probability_3\n",
      "x_case_fatality_probability_4\n",
      "x_loss_immunity_in_days_0\n",
      "x_loss_immunity_in_days_1\n",
      "x_loss_immunity_in_days_2\n",
      "x_loss_immunity_in_days_3\n",
      "x_loss_immunity_in_days_4\n",
      "x_days_between_infections_1\n",
      "x_days_between_infections_2\n",
      "x_days_between_infections_3\n",
      "x_days_between_infections_4\n",
      "x_days_between_infections_5\n",
      "x_days_between_infections_6\n",
      "x_days_between_infections_7\n",
      "x_days_between_infections_8\n",
      "x_days_between_infections_9\n",
      "x_days_between_infections_10\n",
      "x_breakpoint_1\n",
      "x_breakpoint_2\n",
      "x_breakpoint_3\n",
      "x_breakpoint_4\n",
      "x_breakpoint_5\n",
      "x_breakpoint_6\n",
      "x_breakpoint_7\n",
      "x_breakpoint_8\n",
      "\n",
      "Parameter:  x_breakpoint_8\n",
      "simulation_pertubation:  1.5\n",
      "abc requires the three elements a <= b <= c.\n",
      "x_breakpoint_9\n",
      "x_breakpoint_10\n",
      "\n",
      "Parameter:  x_breakpoint_10\n",
      "simulation_pertubation:  1.1\n",
      "abcd requires the four elements                                           a <= b <= c <= d.\n",
      "\n",
      "Parameter:  x_breakpoint_10\n",
      "simulation_pertubation:  1.5\n",
      "abcd requires the four elements                                           a <= b <= c <= d.\n",
      "x_transition_days_between_epidemic_periods_1\n",
      "x_transition_days_between_epidemic_periods_2\n",
      "x_transition_days_between_epidemic_periods_3\n",
      "x_transition_days_between_epidemic_periods_4\n",
      "x_transition_days_between_epidemic_periods_5\n",
      "x_transition_days_between_epidemic_periods_6\n",
      "x_transition_days_between_epidemic_periods_7\n",
      "x_transition_days_between_epidemic_periods_8\n",
      "x_transition_days_between_epidemic_periods_9\n",
      "x_transition_days_between_epidemic_periods_10\n"
     ]
    }
   ],
   "source": [
    "try:\n",
    "    df_initial_results = pd.read_csv('data/output/sensitivity_analysis_results.csv')\n",
    "except:\n",
    "    df_initial_results = pd.DataFrame({'simulation_parameter':[], 'simulation_pertubation': []})\n",
    "\n",
    "df_results = df_initial_results.copy()\n",
    "\n",
    "for parameter in list_parameter:\n",
    "    print(parameter)    \n",
    "        \n",
    "    for simulation_pertubation in [1.01, 1.1, 1.5]:        \n",
    "        \n",
    "        simulations_performed = len(df_results[(df_results.simulation_parameter == parameter) & (df_results.simulation_pertubation == simulation_pertubation)])\n",
    "    \n",
    "        if simulations_performed == 0:\n",
    "            try:\n",
    "                changed_mean_result = mean_result.copy()\n",
    "                changed_mean_result['base_input'] = changed_mean_result[parameter]\n",
    "                changed_mean_result[parameter] = changed_mean_result[parameter] * simulation_pertubation            \n",
    "                \n",
    "                y = get_sirds(changed_mean_result)\n",
    "                S, I, R, D, I_accumulated = y\n",
    "                S = S[:]\n",
    "                I = I[:]\n",
    "                R = R[:]\n",
    "                D = D[:]\n",
    "                I_accumulated = I_accumulated[:]\n",
    "                N = S[0] + I[0] + R[0] + D[0]\n",
    "                        \n",
    "                D_new_deaths, reproduction_number_sird, I_new_cases, epidemic_periods_with_fast_transition_fuzzy_variable, epidemic_periods_with_slow_transition_fuzzy_variable, days_between_infections_values, case_fatality_probability_values, loss_immunity_in_days_values, estimated_days_between_infections, estimated_case_fatality_probability, estimated_loss_immunity_in_days = get_sirds_extras(changed_mean_result, S, D, I_accumulated)\n",
    "                \n",
    "                object_function_error = get_error_deaths_rt(D_new_deaths,\n",
    "                                df.TAXA_OBITOS_NOVOS_MEDIA_MOVEL_7_DIAS_SIM.values,\n",
    "                                reproduction_number_sird,\n",
    "                                df.NUMERO_REPRODUCAO_EFETIVO_SRAG_MEDIA.values)\n",
    "                \n",
    "                changed_mean_result = changed_mean_result.drop(index = ['result_fun', 'result_nfev', 'result_nit', 'result_success', 'duration_seconds', 'pop_size', 'list_breakpoints_in_slow_transition'])\n",
    "                changed_mean_result['simulation_output'] = object_function_error\n",
    "                changed_mean_result['simulation_parameter'] = parameter\n",
    "                changed_mean_result['simulation_pertubation'] = simulation_pertubation\n",
    "                changed_mean_result['simulation_input'] = changed_mean_result[parameter]\n",
    "                \n",
    "                changed_mean_result['base_output'] = base_output\n",
    "                \n",
    "                changed_mean_result['percentual_difference_in_outcome'] = (changed_mean_result['simulation_output'] - changed_mean_result['base_output']) / changed_mean_result['base_output'] * 100\n",
    "                changed_mean_result['percentual_difference_in_input'] = (changed_mean_result['simulation_input'] - changed_mean_result['base_input']) / changed_mean_result['base_input'] * 100\n",
    "                \n",
    "                changed_mean_result['elasticity'] = changed_mean_result['percentual_difference_in_outcome'] / changed_mean_result['percentual_difference_in_input'] \n",
    "                        \n",
    "                df_results = pd.concat([df_results, pd.DataFrame.from_records([changed_mean_result])])    \n",
    "                df_results.to_csv('data/output/sensitivity_analysis_results.csv', index=False)  \n",
    "            except AssertionError as e:\n",
    "                print('\\nParameter: ', parameter)\n",
    "                print('simulation_pertubation: ', simulation_pertubation)\n",
    "                print(e)"
   ],
   "metadata": {
    "collapsed": false,
    "ExecuteTime": {
     "end_time": "2023-12-06T14:21:21.169305791Z",
     "start_time": "2023-12-06T14:21:12.146401980Z"
    }
   },
   "id": "ff2b847a65177389"
  },
  {
   "cell_type": "code",
   "execution_count": 16,
   "outputs": [
    {
     "data": {
      "text/plain": "(123, 55)"
     },
     "execution_count": 16,
     "metadata": {},
     "output_type": "execute_result"
    }
   ],
   "source": [
    "df_results.shape"
   ],
   "metadata": {
    "collapsed": false,
    "ExecuteTime": {
     "end_time": "2023-12-06T14:21:21.170017376Z",
     "start_time": "2023-12-06T14:21:21.161566860Z"
    }
   },
   "id": "9bda2991b93a7126"
  },
  {
   "cell_type": "code",
   "execution_count": 17,
   "outputs": [
    {
     "data": {
      "text/plain": "            simulation_parameter  simulation_pertubation  days_to_recovery  \\\n0  x_initial_infected_population                    1.01               8.0   \n1  x_initial_infected_population                    1.10               8.0   \n2  x_initial_infected_population                    1.50               8.0   \n3    x_days_between_infections_0                    1.01               8.0   \n4    x_days_between_infections_0                    1.10               8.0   \n\n   estimation  period_in_days  x_initial_infected_population  \\\n0         2.0          1050.0                       0.031983   \n1         2.0          1050.0                       0.034833   \n2         2.0          1050.0                       0.047500   \n3         2.0          1050.0                       0.031667   \n4         2.0          1050.0                       0.031667   \n\n   x_days_between_infections_0  x_case_fatality_probability_0  \\\n0                     3.291383                       0.008942   \n1                     3.291383                       0.008942   \n2                     3.291383                       0.008942   \n3                     3.324297                       0.008942   \n4                     3.620521                       0.008942   \n\n   x_loss_immunity_in_days_0  x_case_fatality_probability_1  ...  \\\n0                 236.525433                       0.004257  ...   \n1                 236.525433                       0.004257  ...   \n2                 236.525433                       0.004257  ...   \n3                 236.525433                       0.004257  ...   \n4                 236.525433                       0.004257  ...   \n\n   x_breakpoint_10  x_transition_days_between_epidemic_periods_10  \\\n0       983.584693                                       5.880941   \n1       983.584693                                       5.880941   \n2       983.584693                                       5.880941   \n3       983.584693                                       5.880941   \n4       983.584693                                       5.880941   \n\n   date_first_case  base_input  simulation_output  simulation_input  \\\n0       2020-02-16    0.031667           0.176786          0.031983   \n1       2020-02-16    0.031667           0.189586          0.034833   \n2       2020-02-16    0.031667           0.267067          0.047500   \n3       2020-02-16    3.291383           0.176363          3.324297   \n4       2020-02-16    3.291383           0.395953          3.620521   \n\n   base_output  percentual_difference_in_outcome  \\\n0     0.173806                          1.714952   \n1     0.173806                          9.079390   \n2     0.173806                         53.658508   \n3     0.173806                          1.471436   \n4     0.173806                        127.813906   \n\n   percentual_difference_in_input  elasticity  \n0                             1.0    1.714952  \n1                            10.0    0.907939  \n2                            50.0    1.073170  \n3                             1.0    1.471436  \n4                            10.0   12.781391  \n\n[5 rows x 55 columns]",
      "text/html": "<div>\n<style scoped>\n    .dataframe tbody tr th:only-of-type {\n        vertical-align: middle;\n    }\n\n    .dataframe tbody tr th {\n        vertical-align: top;\n    }\n\n    .dataframe thead th {\n        text-align: right;\n    }\n</style>\n<table border=\"1\" class=\"dataframe\">\n  <thead>\n    <tr style=\"text-align: right;\">\n      <th></th>\n      <th>simulation_parameter</th>\n      <th>simulation_pertubation</th>\n      <th>days_to_recovery</th>\n      <th>estimation</th>\n      <th>period_in_days</th>\n      <th>x_initial_infected_population</th>\n      <th>x_days_between_infections_0</th>\n      <th>x_case_fatality_probability_0</th>\n      <th>x_loss_immunity_in_days_0</th>\n      <th>x_case_fatality_probability_1</th>\n      <th>...</th>\n      <th>x_breakpoint_10</th>\n      <th>x_transition_days_between_epidemic_periods_10</th>\n      <th>date_first_case</th>\n      <th>base_input</th>\n      <th>simulation_output</th>\n      <th>simulation_input</th>\n      <th>base_output</th>\n      <th>percentual_difference_in_outcome</th>\n      <th>percentual_difference_in_input</th>\n      <th>elasticity</th>\n    </tr>\n  </thead>\n  <tbody>\n    <tr>\n      <th>0</th>\n      <td>x_initial_infected_population</td>\n      <td>1.01</td>\n      <td>8.0</td>\n      <td>2.0</td>\n      <td>1050.0</td>\n      <td>0.031983</td>\n      <td>3.291383</td>\n      <td>0.008942</td>\n      <td>236.525433</td>\n      <td>0.004257</td>\n      <td>...</td>\n      <td>983.584693</td>\n      <td>5.880941</td>\n      <td>2020-02-16</td>\n      <td>0.031667</td>\n      <td>0.176786</td>\n      <td>0.031983</td>\n      <td>0.173806</td>\n      <td>1.714952</td>\n      <td>1.0</td>\n      <td>1.714952</td>\n    </tr>\n    <tr>\n      <th>1</th>\n      <td>x_initial_infected_population</td>\n      <td>1.10</td>\n      <td>8.0</td>\n      <td>2.0</td>\n      <td>1050.0</td>\n      <td>0.034833</td>\n      <td>3.291383</td>\n      <td>0.008942</td>\n      <td>236.525433</td>\n      <td>0.004257</td>\n      <td>...</td>\n      <td>983.584693</td>\n      <td>5.880941</td>\n      <td>2020-02-16</td>\n      <td>0.031667</td>\n      <td>0.189586</td>\n      <td>0.034833</td>\n      <td>0.173806</td>\n      <td>9.079390</td>\n      <td>10.0</td>\n      <td>0.907939</td>\n    </tr>\n    <tr>\n      <th>2</th>\n      <td>x_initial_infected_population</td>\n      <td>1.50</td>\n      <td>8.0</td>\n      <td>2.0</td>\n      <td>1050.0</td>\n      <td>0.047500</td>\n      <td>3.291383</td>\n      <td>0.008942</td>\n      <td>236.525433</td>\n      <td>0.004257</td>\n      <td>...</td>\n      <td>983.584693</td>\n      <td>5.880941</td>\n      <td>2020-02-16</td>\n      <td>0.031667</td>\n      <td>0.267067</td>\n      <td>0.047500</td>\n      <td>0.173806</td>\n      <td>53.658508</td>\n      <td>50.0</td>\n      <td>1.073170</td>\n    </tr>\n    <tr>\n      <th>3</th>\n      <td>x_days_between_infections_0</td>\n      <td>1.01</td>\n      <td>8.0</td>\n      <td>2.0</td>\n      <td>1050.0</td>\n      <td>0.031667</td>\n      <td>3.324297</td>\n      <td>0.008942</td>\n      <td>236.525433</td>\n      <td>0.004257</td>\n      <td>...</td>\n      <td>983.584693</td>\n      <td>5.880941</td>\n      <td>2020-02-16</td>\n      <td>3.291383</td>\n      <td>0.176363</td>\n      <td>3.324297</td>\n      <td>0.173806</td>\n      <td>1.471436</td>\n      <td>1.0</td>\n      <td>1.471436</td>\n    </tr>\n    <tr>\n      <th>4</th>\n      <td>x_days_between_infections_0</td>\n      <td>1.10</td>\n      <td>8.0</td>\n      <td>2.0</td>\n      <td>1050.0</td>\n      <td>0.031667</td>\n      <td>3.620521</td>\n      <td>0.008942</td>\n      <td>236.525433</td>\n      <td>0.004257</td>\n      <td>...</td>\n      <td>983.584693</td>\n      <td>5.880941</td>\n      <td>2020-02-16</td>\n      <td>3.291383</td>\n      <td>0.395953</td>\n      <td>3.620521</td>\n      <td>0.173806</td>\n      <td>127.813906</td>\n      <td>10.0</td>\n      <td>12.781391</td>\n    </tr>\n  </tbody>\n</table>\n<p>5 rows × 55 columns</p>\n</div>"
     },
     "execution_count": 17,
     "metadata": {},
     "output_type": "execute_result"
    }
   ],
   "source": [
    "df_results.head()"
   ],
   "metadata": {
    "collapsed": false,
    "ExecuteTime": {
     "end_time": "2023-12-06T14:21:21.189360468Z",
     "start_time": "2023-12-06T14:21:21.165396432Z"
    }
   },
   "id": "6518e96d0f67df2e"
  }
 ],
 "metadata": {
  "kernelspec": {
   "display_name": "Python 3",
   "language": "python",
   "name": "python3"
  },
  "language_info": {
   "codemirror_mode": {
    "name": "ipython",
    "version": 2
   },
   "file_extension": ".py",
   "mimetype": "text/x-python",
   "name": "python",
   "nbconvert_exporter": "python",
   "pygments_lexer": "ipython2",
   "version": "2.7.6"
  }
 },
 "nbformat": 4,
 "nbformat_minor": 5
}
