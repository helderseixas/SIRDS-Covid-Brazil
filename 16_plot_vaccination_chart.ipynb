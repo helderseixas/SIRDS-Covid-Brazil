{
 "cells": [
  {
   "cell_type": "markdown",
   "source": [
    "# Data exploration for national vaccination"
   ],
   "metadata": {
    "collapsed": false
   }
  },
  {
   "cell_type": "code",
   "execution_count": 1,
   "metadata": {
    "collapsed": true,
    "ExecuteTime": {
     "end_time": "2023-11-24T00:56:51.034347839Z",
     "start_time": "2023-11-24T00:56:51.011408356Z"
    }
   },
   "outputs": [],
   "source": [
    "import pandas as pd\n",
    "from datetime import datetime\n",
    "import matplotlib.dates as mdates\n",
    "import matplotlib.ticker as mticker\n",
    "import seaborn as sns\n",
    "import matplotlib.pyplot as plt\n",
    "import util\n",
    "from PIL import Image"
   ]
  },
  {
   "cell_type": "markdown",
   "source": [
    "## Loading data"
   ],
   "metadata": {
    "collapsed": false
   }
  },
  {
   "cell_type": "code",
   "execution_count": 2,
   "outputs": [],
   "source": [
    "STUDY_END_DATE = datetime.fromisoformat('2022-12-31')"
   ],
   "metadata": {
    "collapsed": false,
    "ExecuteTime": {
     "end_time": "2023-11-24T00:56:51.057716026Z",
     "start_time": "2023-11-24T00:56:51.014203027Z"
    }
   }
  },
  {
   "cell_type": "code",
   "execution_count": 3,
   "outputs": [],
   "source": [
    "df_general = pd.read_csv('data/input/OurWorldData/owid-covid-data.csv')\n",
    "df_general.date = pd.to_datetime(df_general.date, infer_datetime_format=True)"
   ],
   "metadata": {
    "collapsed": false,
    "ExecuteTime": {
     "end_time": "2023-11-24T00:56:53.591472096Z",
     "start_time": "2023-11-24T00:56:51.081046305Z"
    }
   }
  },
  {
   "cell_type": "code",
   "execution_count": 4,
   "outputs": [],
   "source": [
    "df_brazil = df_general[(df_general.location == 'Brazil') & (df_general.date <= STUDY_END_DATE)]"
   ],
   "metadata": {
    "collapsed": false,
    "ExecuteTime": {
     "end_time": "2023-11-24T00:56:53.679027219Z",
     "start_time": "2023-11-24T00:56:53.615590399Z"
    }
   }
  },
  {
   "cell_type": "code",
   "execution_count": 5,
   "outputs": [
    {
     "data": {
      "text/plain": "            date  people_vaccinated  people_fully_vaccinated   population\n42007 2020-01-03                NaN                      NaN  215313504.0\n42008 2020-01-04                NaN                      NaN  215313504.0\n42009 2020-01-05                NaN                      NaN  215313504.0\n42010 2020-01-06                NaN                      NaN  215313504.0\n42011 2020-01-07                NaN                      NaN  215313504.0\n...          ...                ...                      ...          ...\n43096 2022-12-27        188549744.0              174881292.0  215313504.0\n43097 2022-12-28                NaN                      NaN  215313504.0\n43098 2022-12-29        188552661.0              174886102.0  215313504.0\n43099 2022-12-30        188553047.0              174886846.0  215313504.0\n43100 2022-12-31        188553932.0              174887915.0  215313504.0\n\n[1094 rows x 4 columns]",
      "text/html": "<div>\n<style scoped>\n    .dataframe tbody tr th:only-of-type {\n        vertical-align: middle;\n    }\n\n    .dataframe tbody tr th {\n        vertical-align: top;\n    }\n\n    .dataframe thead th {\n        text-align: right;\n    }\n</style>\n<table border=\"1\" class=\"dataframe\">\n  <thead>\n    <tr style=\"text-align: right;\">\n      <th></th>\n      <th>date</th>\n      <th>people_vaccinated</th>\n      <th>people_fully_vaccinated</th>\n      <th>population</th>\n    </tr>\n  </thead>\n  <tbody>\n    <tr>\n      <th>42007</th>\n      <td>2020-01-03</td>\n      <td>NaN</td>\n      <td>NaN</td>\n      <td>215313504.0</td>\n    </tr>\n    <tr>\n      <th>42008</th>\n      <td>2020-01-04</td>\n      <td>NaN</td>\n      <td>NaN</td>\n      <td>215313504.0</td>\n    </tr>\n    <tr>\n      <th>42009</th>\n      <td>2020-01-05</td>\n      <td>NaN</td>\n      <td>NaN</td>\n      <td>215313504.0</td>\n    </tr>\n    <tr>\n      <th>42010</th>\n      <td>2020-01-06</td>\n      <td>NaN</td>\n      <td>NaN</td>\n      <td>215313504.0</td>\n    </tr>\n    <tr>\n      <th>42011</th>\n      <td>2020-01-07</td>\n      <td>NaN</td>\n      <td>NaN</td>\n      <td>215313504.0</td>\n    </tr>\n    <tr>\n      <th>...</th>\n      <td>...</td>\n      <td>...</td>\n      <td>...</td>\n      <td>...</td>\n    </tr>\n    <tr>\n      <th>43096</th>\n      <td>2022-12-27</td>\n      <td>188549744.0</td>\n      <td>174881292.0</td>\n      <td>215313504.0</td>\n    </tr>\n    <tr>\n      <th>43097</th>\n      <td>2022-12-28</td>\n      <td>NaN</td>\n      <td>NaN</td>\n      <td>215313504.0</td>\n    </tr>\n    <tr>\n      <th>43098</th>\n      <td>2022-12-29</td>\n      <td>188552661.0</td>\n      <td>174886102.0</td>\n      <td>215313504.0</td>\n    </tr>\n    <tr>\n      <th>43099</th>\n      <td>2022-12-30</td>\n      <td>188553047.0</td>\n      <td>174886846.0</td>\n      <td>215313504.0</td>\n    </tr>\n    <tr>\n      <th>43100</th>\n      <td>2022-12-31</td>\n      <td>188553932.0</td>\n      <td>174887915.0</td>\n      <td>215313504.0</td>\n    </tr>\n  </tbody>\n</table>\n<p>1094 rows × 4 columns</p>\n</div>"
     },
     "execution_count": 5,
     "metadata": {},
     "output_type": "execute_result"
    }
   ],
   "source": [
    "df_brazil[['date', 'people_vaccinated', 'people_fully_vaccinated', 'population']]"
   ],
   "metadata": {
    "collapsed": false,
    "ExecuteTime": {
     "end_time": "2023-11-24T00:56:53.725233601Z",
     "start_time": "2023-11-24T00:56:53.681764509Z"
    }
   }
  },
  {
   "cell_type": "code",
   "execution_count": 6,
   "outputs": [
    {
     "name": "stderr",
     "output_type": "stream",
     "text": [
      "/tmp/ipykernel_21478/2932705632.py:1: SettingWithCopyWarning: \n",
      "A value is trying to be set on a copy of a slice from a DataFrame.\n",
      "Try using .loc[row_indexer,col_indexer] = value instead\n",
      "\n",
      "See the caveats in the documentation: https://pandas.pydata.org/pandas-docs/stable/user_guide/indexing.html#returning-a-view-versus-a-copy\n",
      "  df_brazil['people_vaccinated_percentual'] = df_brazil.people_vaccinated / df_brazil.population * 100\n",
      "/tmp/ipykernel_21478/2932705632.py:2: SettingWithCopyWarning: \n",
      "A value is trying to be set on a copy of a slice from a DataFrame.\n",
      "Try using .loc[row_indexer,col_indexer] = value instead\n",
      "\n",
      "See the caveats in the documentation: https://pandas.pydata.org/pandas-docs/stable/user_guide/indexing.html#returning-a-view-versus-a-copy\n",
      "  df_brazil['people_fully_vaccinated_percentual'] = df_brazil.people_fully_vaccinated / df_brazil.population * 100\n"
     ]
    }
   ],
   "source": [
    "df_brazil['people_vaccinated_percentual'] = df_brazil.people_vaccinated / df_brazil.population * 100\n",
    "df_brazil['people_fully_vaccinated_percentual'] = df_brazil.people_fully_vaccinated / df_brazil.population * 100"
   ],
   "metadata": {
    "collapsed": false,
    "ExecuteTime": {
     "end_time": "2023-11-24T00:56:53.901819056Z",
     "start_time": "2023-11-24T00:56:53.725755335Z"
    }
   }
  },
  {
   "cell_type": "code",
   "execution_count": 7,
   "outputs": [
    {
     "data": {
      "text/plain": "            date  people_vaccinated_percentual  \\\n42007 2020-01-03                           NaN   \n42008 2020-01-04                           NaN   \n42009 2020-01-05                           NaN   \n42010 2020-01-06                           NaN   \n42011 2020-01-07                           NaN   \n...          ...                           ...   \n43096 2022-12-27                     87.569865   \n43097 2022-12-28                           NaN   \n43098 2022-12-29                     87.571219   \n43099 2022-12-30                     87.571399   \n43100 2022-12-31                     87.571810   \n\n       people_fully_vaccinated_percentual   population  \n42007                                 NaN  215313504.0  \n42008                                 NaN  215313504.0  \n42009                                 NaN  215313504.0  \n42010                                 NaN  215313504.0  \n42011                                 NaN  215313504.0  \n...                                   ...          ...  \n43096                           81.221702  215313504.0  \n43097                                 NaN  215313504.0  \n43098                           81.223936  215313504.0  \n43099                           81.224281  215313504.0  \n43100                           81.224778  215313504.0  \n\n[1094 rows x 4 columns]",
      "text/html": "<div>\n<style scoped>\n    .dataframe tbody tr th:only-of-type {\n        vertical-align: middle;\n    }\n\n    .dataframe tbody tr th {\n        vertical-align: top;\n    }\n\n    .dataframe thead th {\n        text-align: right;\n    }\n</style>\n<table border=\"1\" class=\"dataframe\">\n  <thead>\n    <tr style=\"text-align: right;\">\n      <th></th>\n      <th>date</th>\n      <th>people_vaccinated_percentual</th>\n      <th>people_fully_vaccinated_percentual</th>\n      <th>population</th>\n    </tr>\n  </thead>\n  <tbody>\n    <tr>\n      <th>42007</th>\n      <td>2020-01-03</td>\n      <td>NaN</td>\n      <td>NaN</td>\n      <td>215313504.0</td>\n    </tr>\n    <tr>\n      <th>42008</th>\n      <td>2020-01-04</td>\n      <td>NaN</td>\n      <td>NaN</td>\n      <td>215313504.0</td>\n    </tr>\n    <tr>\n      <th>42009</th>\n      <td>2020-01-05</td>\n      <td>NaN</td>\n      <td>NaN</td>\n      <td>215313504.0</td>\n    </tr>\n    <tr>\n      <th>42010</th>\n      <td>2020-01-06</td>\n      <td>NaN</td>\n      <td>NaN</td>\n      <td>215313504.0</td>\n    </tr>\n    <tr>\n      <th>42011</th>\n      <td>2020-01-07</td>\n      <td>NaN</td>\n      <td>NaN</td>\n      <td>215313504.0</td>\n    </tr>\n    <tr>\n      <th>...</th>\n      <td>...</td>\n      <td>...</td>\n      <td>...</td>\n      <td>...</td>\n    </tr>\n    <tr>\n      <th>43096</th>\n      <td>2022-12-27</td>\n      <td>87.569865</td>\n      <td>81.221702</td>\n      <td>215313504.0</td>\n    </tr>\n    <tr>\n      <th>43097</th>\n      <td>2022-12-28</td>\n      <td>NaN</td>\n      <td>NaN</td>\n      <td>215313504.0</td>\n    </tr>\n    <tr>\n      <th>43098</th>\n      <td>2022-12-29</td>\n      <td>87.571219</td>\n      <td>81.223936</td>\n      <td>215313504.0</td>\n    </tr>\n    <tr>\n      <th>43099</th>\n      <td>2022-12-30</td>\n      <td>87.571399</td>\n      <td>81.224281</td>\n      <td>215313504.0</td>\n    </tr>\n    <tr>\n      <th>43100</th>\n      <td>2022-12-31</td>\n      <td>87.571810</td>\n      <td>81.224778</td>\n      <td>215313504.0</td>\n    </tr>\n  </tbody>\n</table>\n<p>1094 rows × 4 columns</p>\n</div>"
     },
     "execution_count": 7,
     "metadata": {},
     "output_type": "execute_result"
    }
   ],
   "source": [
    "df_brazil[['date', 'people_vaccinated_percentual', 'people_fully_vaccinated_percentual', 'population']]"
   ],
   "metadata": {
    "collapsed": false,
    "ExecuteTime": {
     "end_time": "2023-11-24T00:56:53.977357016Z",
     "start_time": "2023-11-24T00:56:53.771062143Z"
    }
   }
  },
  {
   "cell_type": "markdown",
   "source": [
    "## Plotting charts"
   ],
   "metadata": {
    "collapsed": false
   }
  },
  {
   "cell_type": "code",
   "execution_count": 8,
   "outputs": [],
   "source": [
    "myFmt = mdates.DateFormatter('%m/%Y')\n",
    "style = dict(color='black')\n",
    "plt.rc('font', size=8)\n",
    "sns.set_style(\"ticks\")"
   ],
   "metadata": {
    "collapsed": false,
    "ExecuteTime": {
     "end_time": "2023-11-24T00:56:53.977797620Z",
     "start_time": "2023-11-24T00:56:53.937132434Z"
    }
   }
  },
  {
   "cell_type": "markdown",
   "source": [
    "### Figure 3"
   ],
   "metadata": {
    "collapsed": false
   }
  },
  {
   "cell_type": "code",
   "execution_count": 12,
   "outputs": [
    {
     "data": {
      "text/plain": "<Figure size 519.685x259.843 with 1 Axes>",
      "image/png": "[encoded data removed]"
     },
     "metadata": {},
     "output_type": "display_data"
    }
   ],
   "source": [
    "fig, ax = plt.subplots(figsize=(util.centimeter_to_inch(13.2), util.centimeter_to_inch(6.6)))\n",
    "\n",
    "\n",
    "plt.plot(df_brazil[df_brazil.people_vaccinated_percentual.isna()==False].date, df_brazil[df_brazil.people_vaccinated_percentual.isna()==False].people_vaccinated_percentual, color='black', label='Vaccinated people')\n",
    "\n",
    "plt.plot(df_brazil[df_brazil.people_fully_vaccinated_percentual.isna()==False].date, df_brazil[df_brazil.people_fully_vaccinated_percentual.isna()==False].people_fully_vaccinated_percentual, color='gray', label='Fully vaccinated people', linestyle='--')\n",
    "\n",
    "ax.legend()\n",
    "\n",
    "plt.ylabel('Percentage vaccinated (%)')\n",
    "ax.xaxis.set_major_formatter(myFmt)\n",
    "ax.yaxis.set_major_formatter(mticker.FuncFormatter(lambda x, p: format(int(x), ',')))\n",
    "plt.xlabel('Month/Year')\n",
    "plt.xticks(rotation=20)\n",
    "plt.savefig('images/national_people_vaccinated.pdf', bbox_inches=\"tight\")\n",
    "plt.savefig('images/national_people_vaccinated.tiff', format='tiff', dpi=300, transparent=False, bbox_inches='tight')\n",
    "img = Image.open(\"images/national_people_vaccinated.tiff\")\n",
    "img.save(\"images/national_people_vaccinated_compressed.tiff\", compression=\"tiff_lzw\")\n",
    "plt.show()"
   ],
   "metadata": {
    "collapsed": false,
    "ExecuteTime": {
     "end_time": "2023-11-24T00:58:02.982168792Z",
     "start_time": "2023-11-24T00:58:02.306287039Z"
    }
   }
  },
  {
   "cell_type": "code",
   "execution_count": 10,
   "outputs": [
    {
     "data": {
      "text/plain": "            date  people_vaccinated_percentual  \\\n42387 2021-01-17                      0.000052   \n42388 2021-01-18                      0.000515   \n42389 2021-01-19                      0.006282   \n42390 2021-01-20                      0.049149   \n42391 2021-01-21                      0.089961   \n...          ...                           ...   \n43095 2022-12-26                     87.566878   \n43096 2022-12-27                     87.569865   \n43098 2022-12-29                     87.571219   \n43099 2022-12-30                     87.571399   \n43100 2022-12-31                     87.571810   \n\n       people_fully_vaccinated_percentual   population  \n42387                                 NaN  215313504.0  \n42388                                 NaN  215313504.0  \n42389                                 NaN  215313504.0  \n42390                                 NaN  215313504.0  \n42391                                 NaN  215313504.0  \n...                                   ...          ...  \n43095                           81.218211  215313504.0  \n43096                           81.221702  215313504.0  \n43098                           81.223936  215313504.0  \n43099                           81.224281  215313504.0  \n43100                           81.224778  215313504.0  \n\n[632 rows x 4 columns]",
      "text/html": "<div>\n<style scoped>\n    .dataframe tbody tr th:only-of-type {\n        vertical-align: middle;\n    }\n\n    .dataframe tbody tr th {\n        vertical-align: top;\n    }\n\n    .dataframe thead th {\n        text-align: right;\n    }\n</style>\n<table border=\"1\" class=\"dataframe\">\n  <thead>\n    <tr style=\"text-align: right;\">\n      <th></th>\n      <th>date</th>\n      <th>people_vaccinated_percentual</th>\n      <th>people_fully_vaccinated_percentual</th>\n      <th>population</th>\n    </tr>\n  </thead>\n  <tbody>\n    <tr>\n      <th>42387</th>\n      <td>2021-01-17</td>\n      <td>0.000052</td>\n      <td>NaN</td>\n      <td>215313504.0</td>\n    </tr>\n    <tr>\n      <th>42388</th>\n      <td>2021-01-18</td>\n      <td>0.000515</td>\n      <td>NaN</td>\n      <td>215313504.0</td>\n    </tr>\n    <tr>\n      <th>42389</th>\n      <td>2021-01-19</td>\n      <td>0.006282</td>\n      <td>NaN</td>\n      <td>215313504.0</td>\n    </tr>\n    <tr>\n      <th>42390</th>\n      <td>2021-01-20</td>\n      <td>0.049149</td>\n      <td>NaN</td>\n      <td>215313504.0</td>\n    </tr>\n    <tr>\n      <th>42391</th>\n      <td>2021-01-21</td>\n      <td>0.089961</td>\n      <td>NaN</td>\n      <td>215313504.0</td>\n    </tr>\n    <tr>\n      <th>...</th>\n      <td>...</td>\n      <td>...</td>\n      <td>...</td>\n      <td>...</td>\n    </tr>\n    <tr>\n      <th>43095</th>\n      <td>2022-12-26</td>\n      <td>87.566878</td>\n      <td>81.218211</td>\n      <td>215313504.0</td>\n    </tr>\n    <tr>\n      <th>43096</th>\n      <td>2022-12-27</td>\n      <td>87.569865</td>\n      <td>81.221702</td>\n      <td>215313504.0</td>\n    </tr>\n    <tr>\n      <th>43098</th>\n      <td>2022-12-29</td>\n      <td>87.571219</td>\n      <td>81.223936</td>\n      <td>215313504.0</td>\n    </tr>\n    <tr>\n      <th>43099</th>\n      <td>2022-12-30</td>\n      <td>87.571399</td>\n      <td>81.224281</td>\n      <td>215313504.0</td>\n    </tr>\n    <tr>\n      <th>43100</th>\n      <td>2022-12-31</td>\n      <td>87.571810</td>\n      <td>81.224778</td>\n      <td>215313504.0</td>\n    </tr>\n  </tbody>\n</table>\n<p>632 rows × 4 columns</p>\n</div>"
     },
     "execution_count": 10,
     "metadata": {},
     "output_type": "execute_result"
    }
   ],
   "source": [
    "df_brazil[df_brazil.people_vaccinated_percentual.isna()==False][['date', 'people_vaccinated_percentual', 'people_fully_vaccinated_percentual', 'population']]"
   ],
   "metadata": {
    "collapsed": false,
    "ExecuteTime": {
     "end_time": "2023-11-24T00:56:54.794797068Z",
     "start_time": "2023-11-24T00:56:54.748810738Z"
    }
   }
  },
  {
   "cell_type": "code",
   "execution_count": 11,
   "outputs": [
    {
     "data": {
      "text/plain": "Index(['iso_code', 'continent', 'location', 'date', 'total_cases', 'new_cases',\n       'new_cases_smoothed', 'total_deaths', 'new_deaths',\n       'new_deaths_smoothed', 'total_cases_per_million',\n       'new_cases_per_million', 'new_cases_smoothed_per_million',\n       'total_deaths_per_million', 'new_deaths_per_million',\n       'new_deaths_smoothed_per_million', 'reproduction_rate', 'icu_patients',\n       'icu_patients_per_million', 'hosp_patients',\n       'hosp_patients_per_million', 'weekly_icu_admissions',\n       'weekly_icu_admissions_per_million', 'weekly_hosp_admissions',\n       'weekly_hosp_admissions_per_million', 'total_tests', 'new_tests',\n       'total_tests_per_thousand', 'new_tests_per_thousand',\n       'new_tests_smoothed', 'new_tests_smoothed_per_thousand',\n       'positive_rate', 'tests_per_case', 'tests_units', 'total_vaccinations',\n       'people_vaccinated', 'people_fully_vaccinated', 'total_boosters',\n       'new_vaccinations', 'new_vaccinations_smoothed',\n       'total_vaccinations_per_hundred', 'people_vaccinated_per_hundred',\n       'people_fully_vaccinated_per_hundred', 'total_boosters_per_hundred',\n       'new_vaccinations_smoothed_per_million',\n       'new_people_vaccinated_smoothed',\n       'new_people_vaccinated_smoothed_per_hundred', 'stringency_index',\n       'population_density', 'median_age', 'aged_65_older', 'aged_70_older',\n       'gdp_per_capita', 'extreme_poverty', 'cardiovasc_death_rate',\n       'diabetes_prevalence', 'female_smokers', 'male_smokers',\n       'handwashing_facilities', 'hospital_beds_per_thousand',\n       'life_expectancy', 'human_development_index', 'population',\n       'excess_mortality_cumulative_absolute', 'excess_mortality_cumulative',\n       'excess_mortality', 'excess_mortality_cumulative_per_million',\n       'people_vaccinated_percentual', 'people_fully_vaccinated_percentual'],\n      dtype='object')"
     },
     "execution_count": 11,
     "metadata": {},
     "output_type": "execute_result"
    }
   ],
   "source": [
    "df_brazil.columns"
   ],
   "metadata": {
    "collapsed": false,
    "ExecuteTime": {
     "end_time": "2023-11-24T00:56:54.796240832Z",
     "start_time": "2023-11-24T00:56:54.793425463Z"
    }
   }
  }
 ],
 "metadata": {
  "kernelspec": {
   "display_name": "Python 3",
   "language": "python",
   "name": "python3"
  },
  "language_info": {
   "codemirror_mode": {
    "name": "ipython",
    "version": 2
   },
   "file_extension": ".py",
   "mimetype": "text/x-python",
   "name": "python",
   "nbconvert_exporter": "python",
   "pygments_lexer": "ipython2",
   "version": "2.7.6"
  }
 },
 "nbformat": 4,
 "nbformat_minor": 0
}
