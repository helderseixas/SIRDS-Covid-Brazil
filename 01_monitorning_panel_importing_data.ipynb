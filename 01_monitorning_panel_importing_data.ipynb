{
 "cells": [
  {
   "cell_type": "markdown",
   "metadata": {
    "collapsed": true
   },
   "source": [
    "# Importing municipal and national data from Covid-19 Monitoring Panel\n",
    "## Source: https://covid.saude.gov.br/"
   ]
  },
  {
   "cell_type": "code",
   "execution_count": 23,
   "outputs": [],
   "source": [
    "import os\n",
    "import pandas as pd\n",
    "from datetime import datetime"
   ],
   "metadata": {
    "collapsed": false,
    "ExecuteTime": {
     "end_time": "2023-10-17T14:45:33.921847918Z",
     "start_time": "2023-10-17T14:45:33.814041377Z"
    }
   }
  },
  {
   "cell_type": "markdown",
   "source": [
    "## Reading data"
   ],
   "metadata": {
    "collapsed": false
   }
  },
  {
   "cell_type": "code",
   "execution_count": 24,
   "outputs": [],
   "source": [
    "# Set the directory where your data files are located\n",
    "data_folder = 'data/input/covid_monitoring_panel/'\n",
    "\n",
    "# Get a list of all files in the directory\n",
    "file_list = os.listdir(data_folder)\n",
    "\n",
    "# Initialize an empty DataFrame to store the data\n",
    "df = pd.DataFrame()\n",
    "\n",
    "# Loop through the files and read them into the DataFrame\n",
    "for file in file_list:\n",
    "    if file.endswith('.csv'):\n",
    "        file_path = os.path.join(data_folder, file)\n",
    "        data = pd.read_csv(file_path, sep=';')\n",
    "        df = pd.concat([df, data], ignore_index=True)"
   ],
   "metadata": {
    "collapsed": false,
    "ExecuteTime": {
     "end_time": "2023-10-17T14:46:03.876104549Z",
     "start_time": "2023-10-17T14:45:33.819834390Z"
    }
   }
  },
  {
   "cell_type": "code",
   "execution_count": 25,
   "outputs": [],
   "source": [
    "df.data = pd.to_datetime(df.data, infer_datetime_format=True)"
   ],
   "metadata": {
    "collapsed": false,
    "ExecuteTime": {
     "end_time": "2023-10-17T14:46:05.287797406Z",
     "start_time": "2023-10-17T14:46:04.194977217Z"
    }
   }
  },
  {
   "cell_type": "code",
   "execution_count": 26,
   "outputs": [],
   "source": [
    "df.codmun = df.codmun.astype(pd.Int32Dtype())"
   ],
   "metadata": {
    "collapsed": false,
    "ExecuteTime": {
     "end_time": "2023-10-17T14:46:05.368226398Z",
     "start_time": "2023-10-17T14:46:05.289258588Z"
    }
   }
  },
  {
   "cell_type": "code",
   "execution_count": 27,
   "outputs": [],
   "source": [
    "df_municipalities = pd.read_csv('../brazilian_municipalities/data/output/df_municpal.csv', header=0)"
   ],
   "metadata": {
    "collapsed": false,
    "ExecuteTime": {
     "end_time": "2023-10-17T14:46:05.649492789Z",
     "start_time": "2023-10-17T14:46:05.370191046Z"
    }
   }
  },
  {
   "cell_type": "markdown",
   "source": [
    "## Adjusting data"
   ],
   "metadata": {
    "collapsed": false
   }
  },
  {
   "cell_type": "code",
   "execution_count": 28,
   "outputs": [],
   "source": [
    "STUDY_END_DATE = datetime.fromisoformat('2022-12-31')"
   ],
   "metadata": {
    "collapsed": false,
    "ExecuteTime": {
     "end_time": "2023-10-17T14:46:05.654955395Z",
     "start_time": "2023-10-17T14:46:05.651696171Z"
    }
   }
  },
  {
   "cell_type": "code",
   "execution_count": 29,
   "outputs": [
    {
     "data": {
      "text/plain": "              regiao estado       municipio  codmun\n0             Brasil    NaN             NaN    <NA>\n158            Norte     RO             NaN    <NA>\n316            Norte     AC             NaN    <NA>\n474            Norte     AM             NaN    <NA>\n632            Norte     RR             NaN    <NA>\n...              ...    ...             ...     ...\n713846  Centro-Oeste     GO      Vianópolis  522200\n713973  Centro-Oeste     GO  Vicentinópolis  522205\n714100  Centro-Oeste     GO        Vila Boa  522220\n714227  Centro-Oeste     GO   Vila Propício  522230\n714354  Centro-Oeste     DF        Brasília  530010\n\n[5619 rows x 4 columns]",
      "text/html": "<div>\n<style scoped>\n    .dataframe tbody tr th:only-of-type {\n        vertical-align: middle;\n    }\n\n    .dataframe tbody tr th {\n        vertical-align: top;\n    }\n\n    .dataframe thead th {\n        text-align: right;\n    }\n</style>\n<table border=\"1\" class=\"dataframe\">\n  <thead>\n    <tr style=\"text-align: right;\">\n      <th></th>\n      <th>regiao</th>\n      <th>estado</th>\n      <th>municipio</th>\n      <th>codmun</th>\n    </tr>\n  </thead>\n  <tbody>\n    <tr>\n      <th>0</th>\n      <td>Brasil</td>\n      <td>NaN</td>\n      <td>NaN</td>\n      <td>&lt;NA&gt;</td>\n    </tr>\n    <tr>\n      <th>158</th>\n      <td>Norte</td>\n      <td>RO</td>\n      <td>NaN</td>\n      <td>&lt;NA&gt;</td>\n    </tr>\n    <tr>\n      <th>316</th>\n      <td>Norte</td>\n      <td>AC</td>\n      <td>NaN</td>\n      <td>&lt;NA&gt;</td>\n    </tr>\n    <tr>\n      <th>474</th>\n      <td>Norte</td>\n      <td>AM</td>\n      <td>NaN</td>\n      <td>&lt;NA&gt;</td>\n    </tr>\n    <tr>\n      <th>632</th>\n      <td>Norte</td>\n      <td>RR</td>\n      <td>NaN</td>\n      <td>&lt;NA&gt;</td>\n    </tr>\n    <tr>\n      <th>...</th>\n      <td>...</td>\n      <td>...</td>\n      <td>...</td>\n      <td>...</td>\n    </tr>\n    <tr>\n      <th>713846</th>\n      <td>Centro-Oeste</td>\n      <td>GO</td>\n      <td>Vianópolis</td>\n      <td>522200</td>\n    </tr>\n    <tr>\n      <th>713973</th>\n      <td>Centro-Oeste</td>\n      <td>GO</td>\n      <td>Vicentinópolis</td>\n      <td>522205</td>\n    </tr>\n    <tr>\n      <th>714100</th>\n      <td>Centro-Oeste</td>\n      <td>GO</td>\n      <td>Vila Boa</td>\n      <td>522220</td>\n    </tr>\n    <tr>\n      <th>714227</th>\n      <td>Centro-Oeste</td>\n      <td>GO</td>\n      <td>Vila Propício</td>\n      <td>522230</td>\n    </tr>\n    <tr>\n      <th>714354</th>\n      <td>Centro-Oeste</td>\n      <td>DF</td>\n      <td>Brasília</td>\n      <td>530010</td>\n    </tr>\n  </tbody>\n</table>\n<p>5619 rows × 4 columns</p>\n</div>"
     },
     "execution_count": 29,
     "metadata": {},
     "output_type": "execute_result"
    }
   ],
   "source": [
    "df[['regiao','estado','municipio','codmun']].drop_duplicates()"
   ],
   "metadata": {
    "collapsed": false,
    "ExecuteTime": {
     "end_time": "2023-10-17T14:46:09.927854224Z",
     "start_time": "2023-10-17T14:46:05.660840931Z"
    }
   }
  },
  {
   "cell_type": "code",
   "execution_count": 30,
   "outputs": [
    {
     "data": {
      "text/plain": "Index(['regiao', 'estado', 'municipio', 'coduf', 'codmun', 'codRegiaoSaude',\n       'nomeRegiaoSaude', 'data', 'semanaEpi', 'populacaoTCU2019',\n       'casosAcumulado', 'casosNovos', 'obitosAcumulado', 'obitosNovos',\n       'Recuperadosnovos', 'emAcompanhamentoNovos', 'interior/metropolitana'],\n      dtype='object')"
     },
     "execution_count": 30,
     "metadata": {},
     "output_type": "execute_result"
    }
   ],
   "source": [
    "df.columns"
   ],
   "metadata": {
    "collapsed": false,
    "ExecuteTime": {
     "end_time": "2023-10-17T14:46:09.932054292Z",
     "start_time": "2023-10-17T14:46:09.927773853Z"
    }
   }
  },
  {
   "cell_type": "code",
   "execution_count": 31,
   "outputs": [],
   "source": [
    "df_covid_base = df[['data', 'estado', 'municipio', 'codmun', 'obitosNovos', 'obitosAcumulado', 'casosNovos', 'casosAcumulado']]"
   ],
   "metadata": {
    "collapsed": false,
    "ExecuteTime": {
     "end_time": "2023-10-17T14:46:10.175755882Z",
     "start_time": "2023-10-17T14:46:09.931124953Z"
    }
   }
  },
  {
   "cell_type": "code",
   "execution_count": 32,
   "outputs": [],
   "source": [
    "df_covid_base = df_covid_base.rename(columns={'codmun': 'CODIGO_MUNICIPIO_6'})"
   ],
   "metadata": {
    "collapsed": false,
    "ExecuteTime": {
     "end_time": "2023-10-17T14:46:10.927710664Z",
     "start_time": "2023-10-17T14:46:10.178471678Z"
    }
   }
  },
  {
   "cell_type": "code",
   "execution_count": 33,
   "outputs": [],
   "source": [
    "df_covid_base = df_covid_base[df_covid_base.data <= STUDY_END_DATE]"
   ],
   "metadata": {
    "collapsed": false,
    "ExecuteTime": {
     "end_time": "2023-10-17T14:46:11.428957435Z",
     "start_time": "2023-10-17T14:46:10.975369539Z"
    }
   }
  },
  {
   "cell_type": "code",
   "execution_count": 39,
   "outputs": [],
   "source": [
    "df_ts_covid_municipalities = df_covid_base[df_covid_base.CODIGO_MUNICIPIO_6.isna()==False].merge(df_municipalities[['CODIGO_MUNICIPIO_6','CODIGO_MUNICIPIO_7']],  left_on='CODIGO_MUNICIPIO_6', right_on='CODIGO_MUNICIPIO_6')"
   ],
   "metadata": {
    "collapsed": false,
    "ExecuteTime": {
     "end_time": "2023-10-17T14:52:37.874328736Z",
     "start_time": "2023-10-17T14:52:35.397249207Z"
    }
   }
  },
  {
   "cell_type": "code",
   "execution_count": 40,
   "outputs": [],
   "source": [
    "df_ts_covid_national = df_covid_base[(df_covid_base.CODIGO_MUNICIPIO_6.isna()) & (df_covid_base.estado.isna())]"
   ],
   "metadata": {
    "collapsed": false,
    "ExecuteTime": {
     "end_time": "2023-10-17T14:54:31.007892999Z",
     "start_time": "2023-10-17T14:54:30.964071910Z"
    }
   }
  },
  {
   "cell_type": "code",
   "execution_count": 41,
   "outputs": [
    {
     "data": {
      "text/plain": "              data estado municipio  CODIGO_MUNICIPIO_6  obitosNovos  \\\n0       2020-02-25    NaN       NaN                <NA>            0   \n1       2020-02-26    NaN       NaN                <NA>            0   \n2       2020-02-27    NaN       NaN                <NA>            0   \n3       2020-02-28    NaN       NaN                <NA>            0   \n4       2020-02-29    NaN       NaN                <NA>            0   \n...            ...    ...       ...                 ...          ...   \n6266229 2021-06-26    NaN       NaN                <NA>         1593   \n6266230 2021-06-27    NaN       NaN                <NA>          739   \n6266231 2021-06-28    NaN       NaN                <NA>          618   \n6266232 2021-06-29    NaN       NaN                <NA>         1893   \n6266233 2021-06-30    NaN       NaN                <NA>         2081   \n\n         obitosAcumulado  casosNovos  casosAcumulado  \n0                      0           0             0.0  \n1                      0           1             1.0  \n2                      0           0             1.0  \n3                      0           0             1.0  \n4                      0           1             2.0  \n...                  ...         ...             ...  \n6266229           512735       64134      18386894.0  \n6266230           513474       33704      18420598.0  \n6266231           514092       27804      18448402.0  \n6266232           515985       64903      18513305.0  \n6266233           518066       43836      18557141.0  \n\n[1041 rows x 8 columns]",
      "text/html": "<div>\n<style scoped>\n    .dataframe tbody tr th:only-of-type {\n        vertical-align: middle;\n    }\n\n    .dataframe tbody tr th {\n        vertical-align: top;\n    }\n\n    .dataframe thead th {\n        text-align: right;\n    }\n</style>\n<table border=\"1\" class=\"dataframe\">\n  <thead>\n    <tr style=\"text-align: right;\">\n      <th></th>\n      <th>data</th>\n      <th>estado</th>\n      <th>municipio</th>\n      <th>CODIGO_MUNICIPIO_6</th>\n      <th>obitosNovos</th>\n      <th>obitosAcumulado</th>\n      <th>casosNovos</th>\n      <th>casosAcumulado</th>\n    </tr>\n  </thead>\n  <tbody>\n    <tr>\n      <th>0</th>\n      <td>2020-02-25</td>\n      <td>NaN</td>\n      <td>NaN</td>\n      <td>&lt;NA&gt;</td>\n      <td>0</td>\n      <td>0</td>\n      <td>0</td>\n      <td>0.0</td>\n    </tr>\n    <tr>\n      <th>1</th>\n      <td>2020-02-26</td>\n      <td>NaN</td>\n      <td>NaN</td>\n      <td>&lt;NA&gt;</td>\n      <td>0</td>\n      <td>0</td>\n      <td>1</td>\n      <td>1.0</td>\n    </tr>\n    <tr>\n      <th>2</th>\n      <td>2020-02-27</td>\n      <td>NaN</td>\n      <td>NaN</td>\n      <td>&lt;NA&gt;</td>\n      <td>0</td>\n      <td>0</td>\n      <td>0</td>\n      <td>1.0</td>\n    </tr>\n    <tr>\n      <th>3</th>\n      <td>2020-02-28</td>\n      <td>NaN</td>\n      <td>NaN</td>\n      <td>&lt;NA&gt;</td>\n      <td>0</td>\n      <td>0</td>\n      <td>0</td>\n      <td>1.0</td>\n    </tr>\n    <tr>\n      <th>4</th>\n      <td>2020-02-29</td>\n      <td>NaN</td>\n      <td>NaN</td>\n      <td>&lt;NA&gt;</td>\n      <td>0</td>\n      <td>0</td>\n      <td>1</td>\n      <td>2.0</td>\n    </tr>\n    <tr>\n      <th>...</th>\n      <td>...</td>\n      <td>...</td>\n      <td>...</td>\n      <td>...</td>\n      <td>...</td>\n      <td>...</td>\n      <td>...</td>\n      <td>...</td>\n    </tr>\n    <tr>\n      <th>6266229</th>\n      <td>2021-06-26</td>\n      <td>NaN</td>\n      <td>NaN</td>\n      <td>&lt;NA&gt;</td>\n      <td>1593</td>\n      <td>512735</td>\n      <td>64134</td>\n      <td>18386894.0</td>\n    </tr>\n    <tr>\n      <th>6266230</th>\n      <td>2021-06-27</td>\n      <td>NaN</td>\n      <td>NaN</td>\n      <td>&lt;NA&gt;</td>\n      <td>739</td>\n      <td>513474</td>\n      <td>33704</td>\n      <td>18420598.0</td>\n    </tr>\n    <tr>\n      <th>6266231</th>\n      <td>2021-06-28</td>\n      <td>NaN</td>\n      <td>NaN</td>\n      <td>&lt;NA&gt;</td>\n      <td>618</td>\n      <td>514092</td>\n      <td>27804</td>\n      <td>18448402.0</td>\n    </tr>\n    <tr>\n      <th>6266232</th>\n      <td>2021-06-29</td>\n      <td>NaN</td>\n      <td>NaN</td>\n      <td>&lt;NA&gt;</td>\n      <td>1893</td>\n      <td>515985</td>\n      <td>64903</td>\n      <td>18513305.0</td>\n    </tr>\n    <tr>\n      <th>6266233</th>\n      <td>2021-06-30</td>\n      <td>NaN</td>\n      <td>NaN</td>\n      <td>&lt;NA&gt;</td>\n      <td>2081</td>\n      <td>518066</td>\n      <td>43836</td>\n      <td>18557141.0</td>\n    </tr>\n  </tbody>\n</table>\n<p>1041 rows × 8 columns</p>\n</div>"
     },
     "execution_count": 41,
     "metadata": {},
     "output_type": "execute_result"
    }
   ],
   "source": [
    "df_ts_covid_national"
   ],
   "metadata": {
    "collapsed": false,
    "ExecuteTime": {
     "end_time": "2023-10-17T14:54:36.382996417Z",
     "start_time": "2023-10-17T14:54:36.366005753Z"
    }
   }
  },
  {
   "cell_type": "markdown",
   "source": [
    "## Saving data"
   ],
   "metadata": {
    "collapsed": false
   }
  },
  {
   "cell_type": "code",
   "execution_count": 44,
   "outputs": [],
   "source": [
    "df_ts_covid_municipalities.to_csv('data/output/df_ts_monitoring_panel_imported_municipal.csv', index=False)"
   ],
   "metadata": {
    "collapsed": false,
    "ExecuteTime": {
     "end_time": "2023-10-17T15:01:04.470747334Z",
     "start_time": "2023-10-17T15:00:24.980886458Z"
    }
   }
  },
  {
   "cell_type": "code",
   "execution_count": 45,
   "outputs": [
    {
     "data": {
      "text/plain": "(5625700, 9)"
     },
     "execution_count": 45,
     "metadata": {},
     "output_type": "execute_result"
    }
   ],
   "source": [
    "df_ts_covid_municipalities.shape"
   ],
   "metadata": {
    "collapsed": false,
    "ExecuteTime": {
     "end_time": "2023-10-17T15:01:04.485857918Z",
     "start_time": "2023-10-17T15:01:04.473075803Z"
    }
   }
  },
  {
   "cell_type": "code",
   "execution_count": 46,
   "outputs": [
    {
     "data": {
      "text/plain": "        data estado              municipio  CODIGO_MUNICIPIO_6  obitosNovos  \\\n0 2020-03-27     RO  Alta Floresta D'Oeste              110001            0   \n1 2020-03-28     RO  Alta Floresta D'Oeste              110001            0   \n2 2020-03-29     RO  Alta Floresta D'Oeste              110001            0   \n3 2020-03-30     RO  Alta Floresta D'Oeste              110001            0   \n4 2020-03-31     RO  Alta Floresta D'Oeste              110001            0   \n\n   obitosAcumulado  casosNovos  casosAcumulado  CODIGO_MUNICIPIO_7  \n0                0           0             0.0             1100015  \n1                0           0             0.0             1100015  \n2                0           0             0.0             1100015  \n3                0           0             0.0             1100015  \n4                0           0             0.0             1100015  ",
      "text/html": "<div>\n<style scoped>\n    .dataframe tbody tr th:only-of-type {\n        vertical-align: middle;\n    }\n\n    .dataframe tbody tr th {\n        vertical-align: top;\n    }\n\n    .dataframe thead th {\n        text-align: right;\n    }\n</style>\n<table border=\"1\" class=\"dataframe\">\n  <thead>\n    <tr style=\"text-align: right;\">\n      <th></th>\n      <th>data</th>\n      <th>estado</th>\n      <th>municipio</th>\n      <th>CODIGO_MUNICIPIO_6</th>\n      <th>obitosNovos</th>\n      <th>obitosAcumulado</th>\n      <th>casosNovos</th>\n      <th>casosAcumulado</th>\n      <th>CODIGO_MUNICIPIO_7</th>\n    </tr>\n  </thead>\n  <tbody>\n    <tr>\n      <th>0</th>\n      <td>2020-03-27</td>\n      <td>RO</td>\n      <td>Alta Floresta D'Oeste</td>\n      <td>110001</td>\n      <td>0</td>\n      <td>0</td>\n      <td>0</td>\n      <td>0.0</td>\n      <td>1100015</td>\n    </tr>\n    <tr>\n      <th>1</th>\n      <td>2020-03-28</td>\n      <td>RO</td>\n      <td>Alta Floresta D'Oeste</td>\n      <td>110001</td>\n      <td>0</td>\n      <td>0</td>\n      <td>0</td>\n      <td>0.0</td>\n      <td>1100015</td>\n    </tr>\n    <tr>\n      <th>2</th>\n      <td>2020-03-29</td>\n      <td>RO</td>\n      <td>Alta Floresta D'Oeste</td>\n      <td>110001</td>\n      <td>0</td>\n      <td>0</td>\n      <td>0</td>\n      <td>0.0</td>\n      <td>1100015</td>\n    </tr>\n    <tr>\n      <th>3</th>\n      <td>2020-03-30</td>\n      <td>RO</td>\n      <td>Alta Floresta D'Oeste</td>\n      <td>110001</td>\n      <td>0</td>\n      <td>0</td>\n      <td>0</td>\n      <td>0.0</td>\n      <td>1100015</td>\n    </tr>\n    <tr>\n      <th>4</th>\n      <td>2020-03-31</td>\n      <td>RO</td>\n      <td>Alta Floresta D'Oeste</td>\n      <td>110001</td>\n      <td>0</td>\n      <td>0</td>\n      <td>0</td>\n      <td>0.0</td>\n      <td>1100015</td>\n    </tr>\n  </tbody>\n</table>\n</div>"
     },
     "execution_count": 46,
     "metadata": {},
     "output_type": "execute_result"
    }
   ],
   "source": [
    "df_ts_covid_municipalities.head()"
   ],
   "metadata": {
    "collapsed": false,
    "ExecuteTime": {
     "end_time": "2023-10-17T15:01:04.534688555Z",
     "start_time": "2023-10-17T15:01:04.477869791Z"
    }
   }
  },
  {
   "cell_type": "code",
   "execution_count": 49,
   "outputs": [],
   "source": [
    "df_ts_covid_national.to_csv('data/output/df_ts_monitoring_panel_imported_national.csv', index=False)"
   ],
   "metadata": {
    "collapsed": false,
    "ExecuteTime": {
     "end_time": "2023-10-17T15:01:20.957136237Z",
     "start_time": "2023-10-17T15:01:20.950439583Z"
    }
   }
  },
  {
   "cell_type": "code",
   "execution_count": 47,
   "outputs": [
    {
     "data": {
      "text/plain": "(1041, 8)"
     },
     "execution_count": 47,
     "metadata": {},
     "output_type": "execute_result"
    }
   ],
   "source": [
    "df_ts_covid_national.shape"
   ],
   "metadata": {
    "collapsed": false,
    "ExecuteTime": {
     "end_time": "2023-10-17T15:01:06.331603040Z",
     "start_time": "2023-10-17T15:01:06.294883718Z"
    }
   }
  },
  {
   "cell_type": "code",
   "execution_count": 48,
   "outputs": [
    {
     "data": {
      "text/plain": "        data estado municipio  CODIGO_MUNICIPIO_6  obitosNovos  \\\n0 2020-02-25    NaN       NaN                <NA>            0   \n1 2020-02-26    NaN       NaN                <NA>            0   \n2 2020-02-27    NaN       NaN                <NA>            0   \n3 2020-02-28    NaN       NaN                <NA>            0   \n4 2020-02-29    NaN       NaN                <NA>            0   \n\n   obitosAcumulado  casosNovos  casosAcumulado  \n0                0           0             0.0  \n1                0           1             1.0  \n2                0           0             1.0  \n3                0           0             1.0  \n4                0           1             2.0  ",
      "text/html": "<div>\n<style scoped>\n    .dataframe tbody tr th:only-of-type {\n        vertical-align: middle;\n    }\n\n    .dataframe tbody tr th {\n        vertical-align: top;\n    }\n\n    .dataframe thead th {\n        text-align: right;\n    }\n</style>\n<table border=\"1\" class=\"dataframe\">\n  <thead>\n    <tr style=\"text-align: right;\">\n      <th></th>\n      <th>data</th>\n      <th>estado</th>\n      <th>municipio</th>\n      <th>CODIGO_MUNICIPIO_6</th>\n      <th>obitosNovos</th>\n      <th>obitosAcumulado</th>\n      <th>casosNovos</th>\n      <th>casosAcumulado</th>\n    </tr>\n  </thead>\n  <tbody>\n    <tr>\n      <th>0</th>\n      <td>2020-02-25</td>\n      <td>NaN</td>\n      <td>NaN</td>\n      <td>&lt;NA&gt;</td>\n      <td>0</td>\n      <td>0</td>\n      <td>0</td>\n      <td>0.0</td>\n    </tr>\n    <tr>\n      <th>1</th>\n      <td>2020-02-26</td>\n      <td>NaN</td>\n      <td>NaN</td>\n      <td>&lt;NA&gt;</td>\n      <td>0</td>\n      <td>0</td>\n      <td>1</td>\n      <td>1.0</td>\n    </tr>\n    <tr>\n      <th>2</th>\n      <td>2020-02-27</td>\n      <td>NaN</td>\n      <td>NaN</td>\n      <td>&lt;NA&gt;</td>\n      <td>0</td>\n      <td>0</td>\n      <td>0</td>\n      <td>1.0</td>\n    </tr>\n    <tr>\n      <th>3</th>\n      <td>2020-02-28</td>\n      <td>NaN</td>\n      <td>NaN</td>\n      <td>&lt;NA&gt;</td>\n      <td>0</td>\n      <td>0</td>\n      <td>0</td>\n      <td>1.0</td>\n    </tr>\n    <tr>\n      <th>4</th>\n      <td>2020-02-29</td>\n      <td>NaN</td>\n      <td>NaN</td>\n      <td>&lt;NA&gt;</td>\n      <td>0</td>\n      <td>0</td>\n      <td>1</td>\n      <td>2.0</td>\n    </tr>\n  </tbody>\n</table>\n</div>"
     },
     "execution_count": 48,
     "metadata": {},
     "output_type": "execute_result"
    }
   ],
   "source": [
    "df_ts_covid_national.head()"
   ],
   "metadata": {
    "collapsed": false,
    "ExecuteTime": {
     "end_time": "2023-10-17T15:01:18.977830138Z",
     "start_time": "2023-10-17T15:01:18.931785912Z"
    }
   }
  }
 ],
 "metadata": {
  "kernelspec": {
   "display_name": "Python 3",
   "language": "python",
   "name": "python3"
  },
  "language_info": {
   "codemirror_mode": {
    "name": "ipython",
    "version": 2
   },
   "file_extension": ".py",
   "mimetype": "text/x-python",
   "name": "python",
   "nbconvert_exporter": "python",
   "pygments_lexer": "ipython2",
   "version": "2.7.6"
  }
 },
 "nbformat": 4,
 "nbformat_minor": 0
}
