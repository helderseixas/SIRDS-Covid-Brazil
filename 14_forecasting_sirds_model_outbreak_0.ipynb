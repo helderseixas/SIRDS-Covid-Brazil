{
 "cells": [
  {
   "cell_type": "markdown",
   "source": [
    "# # Forecasting the pandemic in outbreak zero with differents days to fit"
   ],
   "metadata": {
    "collapsed": false
   }
  },
  {
   "cell_type": "code",
   "execution_count": 1,
   "metadata": {
    "collapsed": true,
    "ExecuteTime": {
     "end_time": "2023-12-05T23:59:19.750412Z",
     "start_time": "2023-12-05T23:59:19.367828483Z"
    }
   },
   "outputs": [],
   "source": [
    "import numpy as np\n",
    "import pandas as pd\n",
    "from scipy.optimize import differential_evolution\n",
    "from datetime import datetime\n",
    "\n",
    "from sirds_model import get_bounds_and_arguments, sirds_objective_function"
   ]
  },
  {
   "cell_type": "markdown",
   "source": [
    "## Reading data"
   ],
   "metadata": {
    "collapsed": false
   }
  },
  {
   "cell_type": "code",
   "execution_count": 2,
   "outputs": [],
   "source": [
    "df = pd.read_csv('data/output/df_ts_epidemic_episodes.csv', index_col=0)\n",
    "df.DATA = pd.to_datetime(df.DATA)"
   ],
   "metadata": {
    "collapsed": false,
    "ExecuteTime": {
     "end_time": "2023-12-05T23:59:19.784895774Z",
     "start_time": "2023-12-05T23:59:19.752327027Z"
    }
   }
  },
  {
   "cell_type": "markdown",
   "source": [
    "## Preparing data"
   ],
   "metadata": {
    "collapsed": false
   }
  },
  {
   "cell_type": "code",
   "execution_count": 3,
   "outputs": [],
   "source": [
    "df = df.sort_values(by=['DATA'])"
   ],
   "metadata": {
    "collapsed": false,
    "ExecuteTime": {
     "end_time": "2023-12-05T23:59:19.785470935Z",
     "start_time": "2023-12-05T23:59:19.780958102Z"
    }
   }
  },
  {
   "cell_type": "code",
   "execution_count": 4,
   "outputs": [],
   "source": [
    "df['TAXA_CASOS_NOVOS_MEDIA_MOVEL_7_DIAS_PAINEL'] = df['CASOS_NOVOS_MEDIA_MOVEL_7_DIAS_PAINEL']/df['POPULACAO_2022'] * 100000 "
   ],
   "metadata": {
    "collapsed": false,
    "ExecuteTime": {
     "end_time": "2023-12-05T23:59:19.800793437Z",
     "start_time": "2023-12-05T23:59:19.787660749Z"
    }
   }
  },
  {
   "cell_type": "code",
   "execution_count": 5,
   "outputs": [],
   "source": [
    "df['TAXA_CASOS_NOVOS_MEDIA_MOVEL_7_DIAS_PAINEL'] = df['TAXA_CASOS_NOVOS_MEDIA_MOVEL_7_DIAS_PAINEL'].fillna(0)"
   ],
   "metadata": {
    "collapsed": false,
    "ExecuteTime": {
     "end_time": "2023-12-05T23:59:19.801288764Z",
     "start_time": "2023-12-05T23:59:19.792734984Z"
    }
   }
  },
  {
   "cell_type": "code",
   "execution_count": 6,
   "outputs": [],
   "source": [
    "df['TAXA_CASOS_NOVOS_MEDIA_MOVEL_7_DIAS_PAINEL'] = df['TAXA_CASOS_NOVOS_MEDIA_MOVEL_7_DIAS_PAINEL'].replace([np.inf, -np.inf], 0)"
   ],
   "metadata": {
    "collapsed": false,
    "ExecuteTime": {
     "end_time": "2023-12-05T23:59:19.839366771Z",
     "start_time": "2023-12-05T23:59:19.838834727Z"
    }
   }
  },
  {
   "cell_type": "markdown",
   "source": [
    "## Forecasting"
   ],
   "metadata": {
    "collapsed": false
   }
  },
  {
   "cell_type": "code",
   "execution_count": 7,
   "outputs": [
    {
     "name": "stdout",
     "output_type": "stream",
     "text": [
      "days_to_fit_within_outbreak:  28\n",
      "max_date_to_fit:  2020-03-29 00:00:00\n",
      "days_to_fit_within_outbreak:  35\n",
      "max_date_to_fit:  2020-04-05 00:00:00\n",
      "days_to_fit_within_outbreak:  42\n",
      "max_date_to_fit:  2020-04-12 00:00:00\n",
      "days_to_fit_within_outbreak:  49\n",
      "max_date_to_fit:  2020-04-19 00:00:00\n",
      "days_to_fit_within_outbreak:  56\n",
      "max_date_to_fit:  2020-04-26 00:00:00\n",
      "days_to_fit_within_outbreak:  63\n",
      "max_date_to_fit:  2020-05-03 00:00:00\n",
      "estimation: 0\n",
      "2023-12-05 20:59:20.039751\n",
      "28.993767\n",
      "{'outbreak': 0, 'alpha': 0, 'days_to_fit_within_outbreak': 63, 'estimation': 0, 'result_fun': 0.1458884856289184, 'result_nfev': 4343, 'result_nit': 116, 'result_success': True, 'start_time': '2023-12-05 20:59:20', 'end_time': '2023-12-05 20:59:49', 'duration_seconds': 28.993767, 'pop_size': 5, 'period_in_days': 168, 'days_to_recovery': 8, 'date_first_case': Timestamp('2020-02-16 00:00:00'), 'outbreak_start_date': Timestamp('2020-03-01 00:00:00'), 'max_date_to_fit': Timestamp('2020-05-03 00:00:00'), 'max_date_to_analyze': Timestamp('2020-08-02 00:00:00'), 'list_breakpoints_in_slow_transition': [], 'x_initial_infected_population': 0.019200201748693153, 'x_days_between_infections_0': 3.3172128551509017, 'x_case_fatality_probability_0': 0.011460088226052942, 'x_loss_immunity_in_days_0': 209.53839054720135, 'x_days_between_infections_1': 7.14990032587557, 'x_breakpoint_1': 52.89618858894065, 'x_transition_days_between_epidemic_periods_1': 30.182589936830585}\n",
      "estimation: 1\n",
      "2023-12-05 20:59:49.046413\n",
      "27.252178\n",
      "{'outbreak': 0, 'alpha': 0, 'days_to_fit_within_outbreak': 63, 'estimation': 1, 'result_fun': 0.1445340690300166, 'result_nfev': 3972, 'result_nit': 99, 'result_success': True, 'start_time': '2023-12-05 20:59:49', 'end_time': '2023-12-05 21:00:16', 'duration_seconds': 27.252178, 'pop_size': 5, 'period_in_days': 168, 'days_to_recovery': 8, 'date_first_case': Timestamp('2020-02-16 00:00:00'), 'outbreak_start_date': Timestamp('2020-03-01 00:00:00'), 'max_date_to_fit': Timestamp('2020-05-03 00:00:00'), 'max_date_to_analyze': Timestamp('2020-08-02 00:00:00'), 'list_breakpoints_in_slow_transition': [], 'x_initial_infected_population': 0.02379660245061756, 'x_days_between_infections_0': 3.2083730669714754, 'x_case_fatality_probability_0': 0.006412778883555428, 'x_loss_immunity_in_days_0': 211.98727317468646, 'x_days_between_infections_1': 7.143006177986728, 'x_breakpoint_1': 51.69033170361352, 'x_transition_days_between_epidemic_periods_1': 29.720046437172293}\n",
      "estimation: 2\n",
      "2023-12-05 21:00:16.306104\n",
      "25.112011\n",
      "{'outbreak': 0, 'alpha': 0, 'days_to_fit_within_outbreak': 63, 'estimation': 2, 'result_fun': 0.1480888134252776, 'result_nfev': 3923, 'result_nit': 104, 'result_success': True, 'start_time': '2023-12-05 21:00:16', 'end_time': '2023-12-05 21:00:41', 'duration_seconds': 25.112011, 'pop_size': 5, 'period_in_days': 168, 'days_to_recovery': 8, 'date_first_case': Timestamp('2020-02-16 00:00:00'), 'outbreak_start_date': Timestamp('2020-03-01 00:00:00'), 'max_date_to_fit': Timestamp('2020-05-03 00:00:00'), 'max_date_to_analyze': Timestamp('2020-08-02 00:00:00'), 'list_breakpoints_in_slow_transition': [], 'x_initial_infected_population': 0.042027260571226806, 'x_days_between_infections_0': 3.3311774527681672, 'x_case_fatality_probability_0': 0.005326779375674767, 'x_loss_immunity_in_days_0': 196.40818564630882, 'x_days_between_infections_1': 7.133760697332615, 'x_breakpoint_1': 53.311639586820476, 'x_transition_days_between_epidemic_periods_1': 29.757821425429874}\n",
      "estimation: 3\n",
      "2023-12-05 21:00:41.426324\n",
      "30.55721\n",
      "{'outbreak': 0, 'alpha': 0, 'days_to_fit_within_outbreak': 63, 'estimation': 3, 'result_fun': 0.14861759008517228, 'result_nfev': 3981, 'result_nit': 86, 'result_success': True, 'start_time': '2023-12-05 21:00:41', 'end_time': '2023-12-05 21:01:11', 'duration_seconds': 30.55721, 'pop_size': 5, 'period_in_days': 168, 'days_to_recovery': 8, 'date_first_case': Timestamp('2020-02-16 00:00:00'), 'outbreak_start_date': Timestamp('2020-03-01 00:00:00'), 'max_date_to_fit': Timestamp('2020-05-03 00:00:00'), 'max_date_to_analyze': Timestamp('2020-08-02 00:00:00'), 'list_breakpoints_in_slow_transition': [], 'x_initial_infected_population': 0.03834866859826709, 'x_days_between_infections_0': 3.339169916083879, 'x_case_fatality_probability_0': 0.006116430939761036, 'x_loss_immunity_in_days_0': 184.09655166111386, 'x_days_between_infections_1': 7.128930856487303, 'x_breakpoint_1': 53.062265679272016, 'x_transition_days_between_epidemic_periods_1': 29.703492188449104}\n",
      "estimation: 4\n",
      "2023-12-05 21:01:11.991600\n",
      "35.600636\n",
      "{'outbreak': 0, 'alpha': 0, 'days_to_fit_within_outbreak': 63, 'estimation': 4, 'result_fun': 0.14464170468505805, 'result_nfev': 5455, 'result_nit': 140, 'result_success': True, 'start_time': '2023-12-05 21:01:11', 'end_time': '2023-12-05 21:01:47', 'duration_seconds': 35.600636, 'pop_size': 5, 'period_in_days': 168, 'days_to_recovery': 8, 'date_first_case': Timestamp('2020-02-16 00:00:00'), 'outbreak_start_date': Timestamp('2020-03-01 00:00:00'), 'max_date_to_fit': Timestamp('2020-05-03 00:00:00'), 'max_date_to_analyze': Timestamp('2020-08-02 00:00:00'), 'list_breakpoints_in_slow_transition': [], 'x_initial_infected_population': 0.026914390170388405, 'x_days_between_infections_0': 3.198333176298411, 'x_case_fatality_probability_0': 0.00522791637691783, 'x_loss_immunity_in_days_0': 185.43240042231002, 'x_days_between_infections_1': 7.143730051610519, 'x_breakpoint_1': 51.89724879391996, 'x_transition_days_between_epidemic_periods_1': 29.907031316623634}\n",
      "estimation: 5\n",
      "2023-12-05 21:01:47.600036\n",
      "31.999923\n",
      "{'outbreak': 0, 'alpha': 0, 'days_to_fit_within_outbreak': 63, 'estimation': 5, 'result_fun': 0.14341126604350768, 'result_nfev': 5162, 'result_nit': 141, 'result_success': True, 'start_time': '2023-12-05 21:01:47', 'end_time': '2023-12-05 21:02:19', 'duration_seconds': 31.999923, 'pop_size': 5, 'period_in_days': 168, 'days_to_recovery': 8, 'date_first_case': Timestamp('2020-02-16 00:00:00'), 'outbreak_start_date': Timestamp('2020-03-01 00:00:00'), 'max_date_to_fit': Timestamp('2020-05-03 00:00:00'), 'max_date_to_analyze': Timestamp('2020-08-02 00:00:00'), 'list_breakpoints_in_slow_transition': [], 'x_initial_infected_population': 0.016579640616759914, 'x_days_between_infections_0': 3.2652274106257035, 'x_case_fatality_probability_0': 0.0106372578861322, 'x_loss_immunity_in_days_0': 101.8718129312357, 'x_days_between_infections_1': 7.150481778915121, 'x_breakpoint_1': 52.55761225081232, 'x_transition_days_between_epidemic_periods_1': 30.412342332551333}\n",
      "estimation: 6\n",
      "2023-12-05 21:02:19.607831\n",
      "26.064409\n",
      "{'outbreak': 0, 'alpha': 0, 'days_to_fit_within_outbreak': 63, 'estimation': 6, 'result_fun': 0.1818597925656032, 'result_nfev': 3540, 'result_nit': 83, 'result_success': True, 'start_time': '2023-12-05 21:02:19', 'end_time': '2023-12-05 21:02:45', 'duration_seconds': 26.064409, 'pop_size': 5, 'period_in_days': 168, 'days_to_recovery': 8, 'date_first_case': Timestamp('2020-02-16 00:00:00'), 'outbreak_start_date': Timestamp('2020-03-01 00:00:00'), 'max_date_to_fit': Timestamp('2020-05-03 00:00:00'), 'max_date_to_analyze': Timestamp('2020-08-02 00:00:00'), 'list_breakpoints_in_slow_transition': [], 'x_initial_infected_population': 0.039595648211037365, 'x_days_between_infections_0': 3.20180074890228, 'x_case_fatality_probability_0': 0.011237927026588086, 'x_loss_immunity_in_days_0': 289.62088964487566, 'x_days_between_infections_1': 5.128025232829173, 'x_breakpoint_1': 30.309354882204303, 'x_transition_days_between_epidemic_periods_1': 6.229016343257058}\n",
      "estimation: 7\n",
      "2023-12-05 21:02:45.680313\n",
      "19.007849\n",
      "{'outbreak': 0, 'alpha': 0, 'days_to_fit_within_outbreak': 63, 'estimation': 7, 'result_fun': 0.14368917179749796, 'result_nfev': 2881, 'result_nit': 74, 'result_success': True, 'start_time': '2023-12-05 21:02:45', 'end_time': '2023-12-05 21:03:04', 'duration_seconds': 19.007849, 'pop_size': 5, 'period_in_days': 168, 'days_to_recovery': 8, 'date_first_case': Timestamp('2020-02-16 00:00:00'), 'outbreak_start_date': Timestamp('2020-03-01 00:00:00'), 'max_date_to_fit': Timestamp('2020-05-03 00:00:00'), 'max_date_to_analyze': Timestamp('2020-08-02 00:00:00'), 'list_breakpoints_in_slow_transition': [], 'x_initial_infected_population': 0.03226949630187368, 'x_days_between_infections_0': 3.2278249355776114, 'x_case_fatality_probability_0': 0.005028614486091866, 'x_loss_immunity_in_days_0': 114.42903393813113, 'x_days_between_infections_1': 7.143364929807105, 'x_breakpoint_1': 51.92150772928693, 'x_transition_days_between_epidemic_periods_1': 29.861163525313508}\n",
      "estimation: 8\n",
      "2023-12-05 21:03:04.697895\n",
      "33.962551\n",
      "{'outbreak': 0, 'alpha': 0, 'days_to_fit_within_outbreak': 63, 'estimation': 8, 'result_fun': 0.144576723250242, 'result_nfev': 4653, 'result_nit': 110, 'result_success': True, 'start_time': '2023-12-05 21:03:04', 'end_time': '2023-12-05 21:03:38', 'duration_seconds': 33.962551, 'pop_size': 5, 'period_in_days': 168, 'days_to_recovery': 8, 'date_first_case': Timestamp('2020-02-16 00:00:00'), 'outbreak_start_date': Timestamp('2020-03-01 00:00:00'), 'max_date_to_fit': Timestamp('2020-05-03 00:00:00'), 'max_date_to_analyze': Timestamp('2020-08-02 00:00:00'), 'list_breakpoints_in_slow_transition': [], 'x_initial_infected_population': 0.03968521047570881, 'x_days_between_infections_0': 3.249797216641244, 'x_case_fatality_probability_0': 0.0044706836423706875, 'x_loss_immunity_in_days_0': 139.71461399200803, 'x_days_between_infections_1': 7.148716409071151, 'x_breakpoint_1': 52.15161649123225, 'x_transition_days_between_epidemic_periods_1': 30.356886741989385}\n",
      "estimation: 9\n",
      "2023-12-05 21:03:38.669196\n",
      "28.12101\n",
      "{'outbreak': 0, 'alpha': 0, 'days_to_fit_within_outbreak': 63, 'estimation': 9, 'result_fun': 0.14595609427075293, 'result_nfev': 4000, 'result_nit': 95, 'result_success': True, 'start_time': '2023-12-05 21:03:38', 'end_time': '2023-12-05 21:04:06', 'duration_seconds': 28.12101, 'pop_size': 5, 'period_in_days': 168, 'days_to_recovery': 8, 'date_first_case': Timestamp('2020-02-16 00:00:00'), 'outbreak_start_date': Timestamp('2020-03-01 00:00:00'), 'max_date_to_fit': Timestamp('2020-05-03 00:00:00'), 'max_date_to_analyze': Timestamp('2020-08-02 00:00:00'), 'list_breakpoints_in_slow_transition': [], 'x_initial_infected_population': 0.03927130258540069, 'x_days_between_infections_0': 3.2607389980467034, 'x_case_fatality_probability_0': 0.0045222699667821975, 'x_loss_immunity_in_days_0': 248.20764556053982, 'x_days_between_infections_1': 7.150894329125355, 'x_breakpoint_1': 52.82565558183829, 'x_transition_days_between_epidemic_periods_1': 31.23903853407409}\n",
      "estimation: 10\n",
      "2023-12-05 21:04:06.798282\n",
      "28.905002\n",
      "{'outbreak': 0, 'alpha': 0, 'days_to_fit_within_outbreak': 63, 'estimation': 10, 'result_fun': 0.14848981346578982, 'result_nfev': 4038, 'result_nit': 97, 'result_success': True, 'start_time': '2023-12-05 21:04:06', 'end_time': '2023-12-05 21:04:35', 'duration_seconds': 28.905002, 'pop_size': 5, 'period_in_days': 168, 'days_to_recovery': 8, 'date_first_case': Timestamp('2020-02-16 00:00:00'), 'outbreak_start_date': Timestamp('2020-03-01 00:00:00'), 'max_date_to_fit': Timestamp('2020-05-03 00:00:00'), 'max_date_to_analyze': Timestamp('2020-08-02 00:00:00'), 'list_breakpoints_in_slow_transition': [], 'x_initial_infected_population': 0.032009267463945265, 'x_days_between_infections_0': 3.3555418356457976, 'x_case_fatality_probability_0': 0.00789973888786579, 'x_loss_immunity_in_days_0': 286.53776648281524, 'x_days_between_infections_1': 7.151149793861507, 'x_breakpoint_1': 53.24794086861475, 'x_transition_days_between_epidemic_periods_1': 30.104822549665148}\n",
      "estimation: 11\n",
      "2023-12-05 21:04:35.711420\n",
      "35.562907\n",
      "{'outbreak': 0, 'alpha': 0, 'days_to_fit_within_outbreak': 63, 'estimation': 11, 'result_fun': 0.14628172228891312, 'result_nfev': 4882, 'result_nit': 109, 'result_success': True, 'start_time': '2023-12-05 21:04:35', 'end_time': '2023-12-05 21:05:11', 'duration_seconds': 35.562907, 'pop_size': 5, 'period_in_days': 168, 'days_to_recovery': 8, 'date_first_case': Timestamp('2020-02-16 00:00:00'), 'outbreak_start_date': Timestamp('2020-03-01 00:00:00'), 'max_date_to_fit': Timestamp('2020-05-03 00:00:00'), 'max_date_to_analyze': Timestamp('2020-08-02 00:00:00'), 'list_breakpoints_in_slow_transition': [], 'x_initial_infected_population': 0.026487036171083774, 'x_days_between_infections_0': 3.289028239249625, 'x_case_fatality_probability_0': 0.0076108219719865046, 'x_loss_immunity_in_days_0': 292.1881069541696, 'x_days_between_infections_1': 7.1385337924499614, 'x_breakpoint_1': 52.44976241981841, 'x_transition_days_between_epidemic_periods_1': 30.46268725679724}\n",
      "estimation: 12\n",
      "2023-12-05 21:05:11.282680\n",
      "24.099735\n",
      "{'outbreak': 0, 'alpha': 0, 'days_to_fit_within_outbreak': 63, 'estimation': 12, 'result_fun': 0.14694316827707724, 'result_nfev': 3416, 'result_nit': 79, 'result_success': True, 'start_time': '2023-12-05 21:05:11', 'end_time': '2023-12-05 21:05:35', 'duration_seconds': 24.099735, 'pop_size': 5, 'period_in_days': 168, 'days_to_recovery': 8, 'date_first_case': Timestamp('2020-02-16 00:00:00'), 'outbreak_start_date': Timestamp('2020-03-01 00:00:00'), 'max_date_to_fit': Timestamp('2020-05-03 00:00:00'), 'max_date_to_analyze': Timestamp('2020-08-02 00:00:00'), 'list_breakpoints_in_slow_transition': [], 'x_initial_infected_population': 0.017406598180601394, 'x_days_between_infections_0': 3.259358769912952, 'x_case_fatality_probability_0': 0.010388113747383429, 'x_loss_immunity_in_days_0': 211.24188827994314, 'x_days_between_infections_1': 7.110638304146168, 'x_breakpoint_1': 52.063697934930815, 'x_transition_days_between_epidemic_periods_1': 30.019090147748}\n",
      "estimation: 13\n",
      "2023-12-05 21:05:35.390185\n",
      "21.036325\n",
      "{'outbreak': 0, 'alpha': 0, 'days_to_fit_within_outbreak': 63, 'estimation': 13, 'result_fun': 0.1495262700743602, 'result_nfev': 3216, 'result_nit': 79, 'result_success': True, 'start_time': '2023-12-05 21:05:35', 'end_time': '2023-12-05 21:05:56', 'duration_seconds': 21.036325, 'pop_size': 5, 'period_in_days': 168, 'days_to_recovery': 8, 'date_first_case': Timestamp('2020-02-16 00:00:00'), 'outbreak_start_date': Timestamp('2020-03-01 00:00:00'), 'max_date_to_fit': Timestamp('2020-05-03 00:00:00'), 'max_date_to_analyze': Timestamp('2020-08-02 00:00:00'), 'list_breakpoints_in_slow_transition': [], 'x_initial_infected_population': 0.02796672243930695, 'x_days_between_infections_0': 3.411218668041212, 'x_case_fatality_probability_0': 0.011133731989134749, 'x_loss_immunity_in_days_0': 333.6886094430482, 'x_days_between_infections_1': 7.14549315450059, 'x_breakpoint_1': 53.77392052313964, 'x_transition_days_between_epidemic_periods_1': 30.779408722449034}\n",
      "estimation: 14\n",
      "2023-12-05 21:05:56.434434\n",
      "27.83799\n",
      "{'outbreak': 0, 'alpha': 0, 'days_to_fit_within_outbreak': 63, 'estimation': 14, 'result_fun': 0.14453204833333008, 'result_nfev': 4515, 'result_nit': 120, 'result_success': True, 'start_time': '2023-12-05 21:05:56', 'end_time': '2023-12-05 21:06:24', 'duration_seconds': 27.83799, 'pop_size': 5, 'period_in_days': 168, 'days_to_recovery': 8, 'date_first_case': Timestamp('2020-02-16 00:00:00'), 'outbreak_start_date': Timestamp('2020-03-01 00:00:00'), 'max_date_to_fit': Timestamp('2020-05-03 00:00:00'), 'max_date_to_analyze': Timestamp('2020-08-02 00:00:00'), 'list_breakpoints_in_slow_transition': [], 'x_initial_infected_population': 0.015814372768544624, 'x_days_between_infections_0': 3.189661074644786, 'x_case_fatality_probability_0': 0.009279478467345222, 'x_loss_immunity_in_days_0': 121.45815186087925, 'x_days_between_infections_1': 7.151164173299518, 'x_breakpoint_1': 51.05921692692651, 'x_transition_days_between_epidemic_periods_1': 30.21332779047281}\n",
      "estimation: 15\n",
      "2023-12-05 21:06:24.282041\n",
      "19.290032\n",
      "{'outbreak': 0, 'alpha': 0, 'days_to_fit_within_outbreak': 63, 'estimation': 15, 'result_fun': 0.14707415999733237, 'result_nfev': 3135, 'result_nit': 84, 'result_success': True, 'start_time': '2023-12-05 21:06:24', 'end_time': '2023-12-05 21:06:43', 'duration_seconds': 19.290032, 'pop_size': 5, 'period_in_days': 168, 'days_to_recovery': 8, 'date_first_case': Timestamp('2020-02-16 00:00:00'), 'outbreak_start_date': Timestamp('2020-03-01 00:00:00'), 'max_date_to_fit': Timestamp('2020-05-03 00:00:00'), 'max_date_to_analyze': Timestamp('2020-08-02 00:00:00'), 'list_breakpoints_in_slow_transition': [], 'x_initial_infected_population': 0.020620204199643468, 'x_days_between_infections_0': 3.3479843496127524, 'x_case_fatality_probability_0': 0.011535184500962534, 'x_loss_immunity_in_days_0': 114.23957556504887, 'x_days_between_infections_1': 7.1392399133443964, 'x_breakpoint_1': 53.458606314606584, 'x_transition_days_between_epidemic_periods_1': 30.078117674997678}\n",
      "estimation: 16\n",
      "2023-12-05 21:06:43.581874\n",
      "29.998149\n",
      "{'outbreak': 0, 'alpha': 0, 'days_to_fit_within_outbreak': 63, 'estimation': 16, 'result_fun': 0.14435274871913462, 'result_nfev': 4529, 'result_nit': 114, 'result_success': True, 'start_time': '2023-12-05 21:06:43', 'end_time': '2023-12-05 21:07:13', 'duration_seconds': 29.998149, 'pop_size': 5, 'period_in_days': 168, 'days_to_recovery': 8, 'date_first_case': Timestamp('2020-02-16 00:00:00'), 'outbreak_start_date': Timestamp('2020-03-01 00:00:00'), 'max_date_to_fit': Timestamp('2020-05-03 00:00:00'), 'max_date_to_analyze': Timestamp('2020-08-02 00:00:00'), 'list_breakpoints_in_slow_transition': [], 'x_initial_infected_population': 0.03365368881221291, 'x_days_between_infections_0': 3.24384260898524, 'x_case_fatality_probability_0': 0.004963065926807866, 'x_loss_immunity_in_days_0': 292.0616319329904, 'x_days_between_infections_1': 7.140730860322977, 'x_breakpoint_1': 52.277448491527366, 'x_transition_days_between_epidemic_periods_1': 30.058057743863763}\n",
      "estimation: 17\n",
      "2023-12-05 21:07:13.588023\n",
      "23.702771\n",
      "{'outbreak': 0, 'alpha': 0, 'days_to_fit_within_outbreak': 63, 'estimation': 17, 'result_fun': 0.14675954093657717, 'result_nfev': 3691, 'result_nit': 96, 'result_success': True, 'start_time': '2023-12-05 21:07:13', 'end_time': '2023-12-05 21:07:37', 'duration_seconds': 23.702771, 'pop_size': 5, 'period_in_days': 168, 'days_to_recovery': 8, 'date_first_case': Timestamp('2020-02-16 00:00:00'), 'outbreak_start_date': Timestamp('2020-03-01 00:00:00'), 'max_date_to_fit': Timestamp('2020-05-03 00:00:00'), 'max_date_to_analyze': Timestamp('2020-08-02 00:00:00'), 'list_breakpoints_in_slow_transition': [], 'x_initial_infected_population': 0.023330457715807527, 'x_days_between_infections_0': 3.3014472819201015, 'x_case_fatality_probability_0': 0.008696644844799636, 'x_loss_immunity_in_days_0': 187.1793164070452, 'x_days_between_infections_1': 7.105590292333281, 'x_breakpoint_1': 52.90666796701965, 'x_transition_days_between_epidemic_periods_1': 29.590812429457255}\n",
      "estimation: 18\n",
      "2023-12-05 21:07:37.300461\n",
      "24.364526\n",
      "{'outbreak': 0, 'alpha': 0, 'days_to_fit_within_outbreak': 63, 'estimation': 18, 'result_fun': 0.14535192295624266, 'result_nfev': 3442, 'result_nit': 77, 'result_success': True, 'start_time': '2023-12-05 21:07:37', 'end_time': '2023-12-05 21:08:01', 'duration_seconds': 24.364526, 'pop_size': 5, 'period_in_days': 168, 'days_to_recovery': 8, 'date_first_case': Timestamp('2020-02-16 00:00:00'), 'outbreak_start_date': Timestamp('2020-03-01 00:00:00'), 'max_date_to_fit': Timestamp('2020-05-03 00:00:00'), 'max_date_to_analyze': Timestamp('2020-08-02 00:00:00'), 'list_breakpoints_in_slow_transition': [], 'x_initial_infected_population': 0.019894161415204625, 'x_days_between_infections_0': 3.2559390749607022, 'x_case_fatality_probability_0': 0.008950523589277186, 'x_loss_immunity_in_days_0': 126.55955523188852, 'x_days_between_infections_1': 7.129733871560217, 'x_breakpoint_1': 52.20416299629587, 'x_transition_days_between_epidemic_periods_1': 29.824970294685365}\n",
      "estimation: 19\n",
      "2023-12-05 21:08:01.673163\n",
      "19.773542\n",
      "{'outbreak': 0, 'alpha': 0, 'days_to_fit_within_outbreak': 63, 'estimation': 19, 'result_fun': 0.1877036165658288, 'result_nfev': 2913, 'result_nit': 74, 'result_success': True, 'start_time': '2023-12-05 21:08:01', 'end_time': '2023-12-05 21:08:21', 'duration_seconds': 19.773542, 'pop_size': 5, 'period_in_days': 168, 'days_to_recovery': 8, 'date_first_case': Timestamp('2020-02-16 00:00:00'), 'outbreak_start_date': Timestamp('2020-03-01 00:00:00'), 'max_date_to_fit': Timestamp('2020-05-03 00:00:00'), 'max_date_to_analyze': Timestamp('2020-08-02 00:00:00'), 'list_breakpoints_in_slow_transition': [], 'x_initial_infected_population': 0.028447077248384335, 'x_days_between_infections_0': 3.172241509423782, 'x_case_fatality_probability_0': 0.010001806022023446, 'x_loss_immunity_in_days_0': 246.0024652126046, 'x_days_between_infections_1': 5.169787829818603, 'x_breakpoint_1': 33.83646694776116, 'x_transition_days_between_epidemic_periods_1': 10.58147577907404}\n",
      "days_to_fit_within_outbreak:  70\n",
      "max_date_to_fit:  2020-05-10 00:00:00\n",
      "estimation: 0\n",
      "2023-12-05 21:08:21.474627\n",
      "30.811826\n",
      "{'outbreak': 0, 'alpha': 0, 'days_to_fit_within_outbreak': 70, 'estimation': 0, 'result_fun': 0.10586984040598663, 'result_nfev': 4840, 'result_nit': 127, 'result_success': True, 'start_time': '2023-12-05 21:08:21', 'end_time': '2023-12-05 21:08:52', 'duration_seconds': 30.811826, 'pop_size': 5, 'period_in_days': 175, 'days_to_recovery': 8, 'date_first_case': Timestamp('2020-02-16 00:00:00'), 'outbreak_start_date': Timestamp('2020-03-01 00:00:00'), 'max_date_to_fit': Timestamp('2020-05-10 00:00:00'), 'max_date_to_analyze': Timestamp('2020-08-09 00:00:00'), 'list_breakpoints_in_slow_transition': [], 'x_initial_infected_population': 0.031081816339610904, 'x_days_between_infections_0': 3.345598447330635, 'x_case_fatality_probability_0': 0.008091951650919206, 'x_loss_immunity_in_days_0': 311.0013201393651, 'x_days_between_infections_1': 7.653367253478735, 'x_breakpoint_1': 54.739853459538054, 'x_transition_days_between_epidemic_periods_1': 31.161585667147627}\n",
      "estimation: 1\n",
      "2023-12-05 21:08:52.295118\n",
      "47.678277\n",
      "{'outbreak': 0, 'alpha': 0, 'days_to_fit_within_outbreak': 70, 'estimation': 1, 'result_fun': 0.09975493648369077, 'result_nfev': 7767, 'result_nit': 212, 'result_success': True, 'start_time': '2023-12-05 21:08:52', 'end_time': '2023-12-05 21:09:39', 'duration_seconds': 47.678277, 'pop_size': 5, 'period_in_days': 175, 'days_to_recovery': 8, 'date_first_case': Timestamp('2020-02-16 00:00:00'), 'outbreak_start_date': Timestamp('2020-03-01 00:00:00'), 'max_date_to_fit': Timestamp('2020-05-10 00:00:00'), 'max_date_to_analyze': Timestamp('2020-08-09 00:00:00'), 'list_breakpoints_in_slow_transition': [], 'x_initial_infected_population': 0.016519292239773723, 'x_days_between_infections_0': 3.189406776650822, 'x_case_fatality_probability_0': 0.008098140542279761, 'x_loss_immunity_in_days_0': 259.49947158424084, 'x_days_between_infections_1': 7.651311893848078, 'x_breakpoint_1': 53.60177650606601, 'x_transition_days_between_epidemic_periods_1': 30.62447930500508}\n",
      "estimation: 2\n",
      "2023-12-05 21:09:39.981451\n",
      "52.355435\n",
      "{'outbreak': 0, 'alpha': 0, 'days_to_fit_within_outbreak': 70, 'estimation': 2, 'result_fun': 0.10036723544783628, 'result_nfev': 7398, 'result_nit': 169, 'result_success': True, 'start_time': '2023-12-05 21:09:39', 'end_time': '2023-12-05 21:10:32', 'duration_seconds': 52.355435, 'pop_size': 5, 'period_in_days': 175, 'days_to_recovery': 8, 'date_first_case': Timestamp('2020-02-16 00:00:00'), 'outbreak_start_date': Timestamp('2020-03-01 00:00:00'), 'max_date_to_fit': Timestamp('2020-05-10 00:00:00'), 'max_date_to_analyze': Timestamp('2020-08-09 00:00:00'), 'list_breakpoints_in_slow_transition': [], 'x_initial_infected_population': 0.015405874247167385, 'x_days_between_infections_0': 3.230912068178612, 'x_case_fatality_probability_0': 0.010521384923322882, 'x_loss_immunity_in_days_0': 231.41362509895865, 'x_days_between_infections_1': 7.650785111805638, 'x_breakpoint_1': 53.81449157442643, 'x_transition_days_between_epidemic_periods_1': 30.844844510196904}\n",
      "estimation: 3\n",
      "2023-12-05 21:10:32.345279\n",
      "39.410331\n",
      "{'outbreak': 0, 'alpha': 0, 'days_to_fit_within_outbreak': 70, 'estimation': 3, 'result_fun': 0.10138786787537635, 'result_nfev': 5696, 'result_nit': 135, 'result_success': True, 'start_time': '2023-12-05 21:10:32', 'end_time': '2023-12-05 21:11:11', 'duration_seconds': 39.410331, 'pop_size': 5, 'period_in_days': 175, 'days_to_recovery': 8, 'date_first_case': Timestamp('2020-02-16 00:00:00'), 'outbreak_start_date': Timestamp('2020-03-01 00:00:00'), 'max_date_to_fit': Timestamp('2020-05-10 00:00:00'), 'max_date_to_analyze': Timestamp('2020-08-09 00:00:00'), 'list_breakpoints_in_slow_transition': [], 'x_initial_infected_population': 0.019784172111633594, 'x_days_between_infections_0': 3.2164964234676603, 'x_case_fatality_probability_0': 0.007608986199709673, 'x_loss_immunity_in_days_0': 296.0430377344018, 'x_days_between_infections_1': 7.644179892251257, 'x_breakpoint_1': 53.753966911371684, 'x_transition_days_between_epidemic_periods_1': 30.744999686017323}\n",
      "estimation: 4\n",
      "2023-12-05 21:11:11.765133\n",
      "57.242807\n",
      "{'outbreak': 0, 'alpha': 0, 'days_to_fit_within_outbreak': 70, 'estimation': 4, 'result_fun': 0.09960711509958686, 'result_nfev': 8859, 'result_nit': 232, 'result_success': True, 'start_time': '2023-12-05 21:11:11', 'end_time': '2023-12-05 21:12:09', 'duration_seconds': 57.242807, 'pop_size': 5, 'period_in_days': 175, 'days_to_recovery': 8, 'date_first_case': Timestamp('2020-02-16 00:00:00'), 'outbreak_start_date': Timestamp('2020-03-01 00:00:00'), 'max_date_to_fit': Timestamp('2020-05-10 00:00:00'), 'max_date_to_analyze': Timestamp('2020-08-09 00:00:00'), 'list_breakpoints_in_slow_transition': [], 'x_initial_infected_population': 0.040656441126475124, 'x_days_between_infections_0': 3.2012923525620858, 'x_case_fatality_probability_0': 0.003754149030204462, 'x_loss_immunity_in_days_0': 321.6808243524173, 'x_days_between_infections_1': 7.651324740379524, 'x_breakpoint_1': 53.54439829339044, 'x_transition_days_between_epidemic_periods_1': 31.821059768309148}\n",
      "estimation: 5\n",
      "2023-12-05 21:12:09.016345\n",
      "42.82934\n",
      "{'outbreak': 0, 'alpha': 0, 'days_to_fit_within_outbreak': 70, 'estimation': 5, 'result_fun': 0.10071296237466404, 'result_nfev': 6329, 'result_nit': 154, 'result_success': True, 'start_time': '2023-12-05 21:12:09', 'end_time': '2023-12-05 21:12:51', 'duration_seconds': 42.82934, 'pop_size': 5, 'period_in_days': 175, 'days_to_recovery': 8, 'date_first_case': Timestamp('2020-02-16 00:00:00'), 'outbreak_start_date': Timestamp('2020-03-01 00:00:00'), 'max_date_to_fit': Timestamp('2020-05-10 00:00:00'), 'max_date_to_analyze': Timestamp('2020-08-09 00:00:00'), 'list_breakpoints_in_slow_transition': [], 'x_initial_infected_population': 0.031862583935078674, 'x_days_between_infections_0': 3.224958307751486, 'x_case_fatality_probability_0': 0.005352761365225226, 'x_loss_immunity_in_days_0': 320.7025711657757, 'x_days_between_infections_1': 7.649800171413808, 'x_breakpoint_1': 53.54731263168012, 'x_transition_days_between_epidemic_periods_1': 31.781103314714464}\n",
      "estimation: 6\n",
      "2023-12-05 21:12:51.853795\n",
      "33.312853\n",
      "{'outbreak': 0, 'alpha': 0, 'days_to_fit_within_outbreak': 70, 'estimation': 6, 'result_fun': 0.10040603545637103, 'result_nfev': 5338, 'result_nit': 141, 'result_success': True, 'start_time': '2023-12-05 21:12:51', 'end_time': '2023-12-05 21:13:25', 'duration_seconds': 33.312853, 'pop_size': 5, 'period_in_days': 175, 'days_to_recovery': 8, 'date_first_case': Timestamp('2020-02-16 00:00:00'), 'outbreak_start_date': Timestamp('2020-03-01 00:00:00'), 'max_date_to_fit': Timestamp('2020-05-10 00:00:00'), 'max_date_to_analyze': Timestamp('2020-08-09 00:00:00'), 'list_breakpoints_in_slow_transition': [], 'x_initial_infected_population': 0.029339534022502275, 'x_days_between_infections_0': 3.1926786897330546, 'x_case_fatality_probability_0': 0.005045150545174593, 'x_loss_immunity_in_days_0': 300.4443513943782, 'x_days_between_infections_1': 7.652707321159044, 'x_breakpoint_1': 53.48184755294784, 'x_transition_days_between_epidemic_periods_1': 32.0031434899975}\n",
      "estimation: 7\n",
      "2023-12-05 21:13:25.175841\n",
      "31.899071\n",
      "{'outbreak': 0, 'alpha': 0, 'days_to_fit_within_outbreak': 70, 'estimation': 7, 'result_fun': 0.10133673979601429, 'result_nfev': 5215, 'result_nit': 140, 'result_success': True, 'start_time': '2023-12-05 21:13:25', 'end_time': '2023-12-05 21:13:57', 'duration_seconds': 31.899071, 'pop_size': 5, 'period_in_days': 175, 'days_to_recovery': 8, 'date_first_case': Timestamp('2020-02-16 00:00:00'), 'outbreak_start_date': Timestamp('2020-03-01 00:00:00'), 'max_date_to_fit': Timestamp('2020-05-10 00:00:00'), 'max_date_to_analyze': Timestamp('2020-08-09 00:00:00'), 'list_breakpoints_in_slow_transition': [], 'x_initial_infected_population': 0.01904352249009404, 'x_days_between_infections_0': 3.1808374240751336, 'x_case_fatality_probability_0': 0.007390751056058826, 'x_loss_immunity_in_days_0': 207.92659719626127, 'x_days_between_infections_1': 7.634880983383198, 'x_breakpoint_1': 53.2352750265364, 'x_transition_days_between_epidemic_periods_1': 32.435292454258935}\n",
      "estimation: 8\n",
      "2023-12-05 21:13:57.084223\n",
      "41.590435\n",
      "{'outbreak': 0, 'alpha': 0, 'days_to_fit_within_outbreak': 70, 'estimation': 8, 'result_fun': 0.10094530961228482, 'result_nfev': 6871, 'result_nit': 188, 'result_success': True, 'start_time': '2023-12-05 21:13:57', 'end_time': '2023-12-05 21:14:38', 'duration_seconds': 41.590435, 'pop_size': 5, 'period_in_days': 175, 'days_to_recovery': 8, 'date_first_case': Timestamp('2020-02-16 00:00:00'), 'outbreak_start_date': Timestamp('2020-03-01 00:00:00'), 'max_date_to_fit': Timestamp('2020-05-10 00:00:00'), 'max_date_to_analyze': Timestamp('2020-08-09 00:00:00'), 'list_breakpoints_in_slow_transition': [], 'x_initial_infected_population': 0.026079710629481397, 'x_days_between_infections_0': 3.1939134360960613, 'x_case_fatality_probability_0': 0.005549636187462708, 'x_loss_immunity_in_days_0': 182.33430977379655, 'x_days_between_infections_1': 7.651725410031737, 'x_breakpoint_1': 53.61298450375862, 'x_transition_days_between_epidemic_periods_1': 32.34388282105612}\n",
      "estimation: 9\n",
      "2023-12-05 21:14:38.683394\n",
      "39.444067\n",
      "{'outbreak': 0, 'alpha': 0, 'days_to_fit_within_outbreak': 70, 'estimation': 9, 'result_fun': 0.10143496343154915, 'result_nfev': 6101, 'result_nit': 158, 'result_success': True, 'start_time': '2023-12-05 21:14:38', 'end_time': '2023-12-05 21:15:18', 'duration_seconds': 39.444067, 'pop_size': 5, 'period_in_days': 175, 'days_to_recovery': 8, 'date_first_case': Timestamp('2020-02-16 00:00:00'), 'outbreak_start_date': Timestamp('2020-03-01 00:00:00'), 'max_date_to_fit': Timestamp('2020-05-10 00:00:00'), 'max_date_to_analyze': Timestamp('2020-08-09 00:00:00'), 'list_breakpoints_in_slow_transition': [], 'x_initial_infected_population': 0.04196436334072786, 'x_days_between_infections_0': 3.2152016289518994, 'x_case_fatality_probability_0': 0.003842423156726584, 'x_loss_immunity_in_days_0': 175.00653950710387, 'x_days_between_infections_1': 7.642127384707721, 'x_breakpoint_1': 53.80709570226836, 'x_transition_days_between_epidemic_periods_1': 31.590015720816954}\n",
      "estimation: 10\n",
      "2023-12-05 21:15:18.136114\n",
      "36.035174\n",
      "{'outbreak': 0, 'alpha': 0, 'days_to_fit_within_outbreak': 70, 'estimation': 10, 'result_fun': 0.10104296020541113, 'result_nfev': 5823, 'result_nit': 156, 'result_success': True, 'start_time': '2023-12-05 21:15:18', 'end_time': '2023-12-05 21:15:54', 'duration_seconds': 36.035174, 'pop_size': 5, 'period_in_days': 175, 'days_to_recovery': 8, 'date_first_case': Timestamp('2020-02-16 00:00:00'), 'outbreak_start_date': Timestamp('2020-03-01 00:00:00'), 'max_date_to_fit': Timestamp('2020-05-10 00:00:00'), 'max_date_to_analyze': Timestamp('2020-08-09 00:00:00'), 'list_breakpoints_in_slow_transition': [], 'x_initial_infected_population': 0.02511053297859169, 'x_days_between_infections_0': 3.212152216577339, 'x_case_fatality_probability_0': 0.006556635616228092, 'x_loss_immunity_in_days_0': 210.22207828485244, 'x_days_between_infections_1': 7.652266888985304, 'x_breakpoint_1': 53.43348414020864, 'x_transition_days_between_epidemic_periods_1': 32.08451166668761}\n",
      "estimation: 11\n",
      "2023-12-05 21:15:54.179855\n",
      "36.030947\n",
      "{'outbreak': 0, 'alpha': 0, 'days_to_fit_within_outbreak': 70, 'estimation': 11, 'result_fun': 0.10120432077024069, 'result_nfev': 5473, 'result_nit': 138, 'result_success': True, 'start_time': '2023-12-05 21:15:54', 'end_time': '2023-12-05 21:16:30', 'duration_seconds': 36.030947, 'pop_size': 5, 'period_in_days': 175, 'days_to_recovery': 8, 'date_first_case': Timestamp('2020-02-16 00:00:00'), 'outbreak_start_date': Timestamp('2020-03-01 00:00:00'), 'max_date_to_fit': Timestamp('2020-05-10 00:00:00'), 'max_date_to_analyze': Timestamp('2020-08-09 00:00:00'), 'list_breakpoints_in_slow_transition': [], 'x_initial_infected_population': 0.03847112669295492, 'x_days_between_infections_0': 3.210623752705979, 'x_case_fatality_probability_0': 0.004056595808871111, 'x_loss_immunity_in_days_0': 115.77605125361532, 'x_days_between_infections_1': 7.651879851900278, 'x_breakpoint_1': 53.76464683341282, 'x_transition_days_between_epidemic_periods_1': 32.09593247403079}\n",
      "estimation: 12\n",
      "2023-12-05 21:16:30.219302\n",
      "50.477866\n",
      "{'outbreak': 0, 'alpha': 0, 'days_to_fit_within_outbreak': 70, 'estimation': 12, 'result_fun': 0.09981867109237083, 'result_nfev': 7528, 'result_nit': 183, 'result_success': True, 'start_time': '2023-12-05 21:16:30', 'end_time': '2023-12-05 21:17:20', 'duration_seconds': 50.477866, 'pop_size': 5, 'period_in_days': 175, 'days_to_recovery': 8, 'date_first_case': Timestamp('2020-02-16 00:00:00'), 'outbreak_start_date': Timestamp('2020-03-01 00:00:00'), 'max_date_to_fit': Timestamp('2020-05-10 00:00:00'), 'max_date_to_analyze': Timestamp('2020-08-09 00:00:00'), 'list_breakpoints_in_slow_transition': [], 'x_initial_infected_population': 0.024499847994927316, 'x_days_between_infections_0': 3.2441070918819452, 'x_case_fatality_probability_0': 0.007219316316486432, 'x_loss_immunity_in_days_0': 168.11361587348003, 'x_days_between_infections_1': 7.647094415194206, 'x_breakpoint_1': 53.68989827626667, 'x_transition_days_between_epidemic_periods_1': 30.934736458929567}\n",
      "estimation: 13\n",
      "2023-12-05 21:17:20.705725\n",
      "45.900664\n",
      "{'outbreak': 0, 'alpha': 0, 'days_to_fit_within_outbreak': 70, 'estimation': 13, 'result_fun': 0.09960261602057907, 'result_nfev': 6953, 'result_nit': 178, 'result_success': True, 'start_time': '2023-12-05 21:17:20', 'end_time': '2023-12-05 21:18:06', 'duration_seconds': 45.900664, 'pop_size': 5, 'period_in_days': 175, 'days_to_recovery': 8, 'date_first_case': Timestamp('2020-02-16 00:00:00'), 'outbreak_start_date': Timestamp('2020-03-01 00:00:00'), 'max_date_to_fit': Timestamp('2020-05-10 00:00:00'), 'max_date_to_analyze': Timestamp('2020-08-09 00:00:00'), 'list_breakpoints_in_slow_transition': [], 'x_initial_infected_population': 0.039861497229562996, 'x_days_between_infections_0': 3.1998286134655705, 'x_case_fatality_probability_0': 0.003794599724890268, 'x_loss_immunity_in_days_0': 352.6111350294615, 'x_days_between_infections_1': 7.649411444011005, 'x_breakpoint_1': 53.546928245313644, 'x_transition_days_between_epidemic_periods_1': 32.04567747585459}\n",
      "estimation: 14\n",
      "2023-12-05 21:18:06.618479\n",
      "39.314533\n",
      "{'outbreak': 0, 'alpha': 0, 'days_to_fit_within_outbreak': 70, 'estimation': 14, 'result_fun': 0.10099809397800313, 'result_nfev': 5628, 'result_nit': 131, 'result_success': True, 'start_time': '2023-12-05 21:18:06', 'end_time': '2023-12-05 21:18:45', 'duration_seconds': 39.314533, 'pop_size': 5, 'period_in_days': 175, 'days_to_recovery': 8, 'date_first_case': Timestamp('2020-02-16 00:00:00'), 'outbreak_start_date': Timestamp('2020-03-01 00:00:00'), 'max_date_to_fit': Timestamp('2020-05-10 00:00:00'), 'max_date_to_analyze': Timestamp('2020-08-09 00:00:00'), 'list_breakpoints_in_slow_transition': [], 'x_initial_infected_population': 0.041894554490028976, 'x_days_between_infections_0': 3.2260488277317205, 'x_case_fatality_probability_0': 0.0041194539281987795, 'x_loss_immunity_in_days_0': 256.59639700975714, 'x_days_between_infections_1': 7.639464299419217, 'x_breakpoint_1': 53.602228108424974, 'x_transition_days_between_epidemic_periods_1': 31.65705313171205}\n",
      "estimation: 15\n",
      "2023-12-05 21:18:45.943717\n",
      "40.776124\n",
      "{'outbreak': 0, 'alpha': 0, 'days_to_fit_within_outbreak': 70, 'estimation': 15, 'result_fun': 0.10079609408463075, 'result_nfev': 6522, 'result_nit': 173, 'result_success': True, 'start_time': '2023-12-05 21:18:45', 'end_time': '2023-12-05 21:19:26', 'duration_seconds': 40.776124, 'pop_size': 5, 'period_in_days': 175, 'days_to_recovery': 8, 'date_first_case': Timestamp('2020-02-16 00:00:00'), 'outbreak_start_date': Timestamp('2020-03-01 00:00:00'), 'max_date_to_fit': Timestamp('2020-05-10 00:00:00'), 'max_date_to_analyze': Timestamp('2020-08-09 00:00:00'), 'list_breakpoints_in_slow_transition': [], 'x_initial_infected_population': 0.022444659663546376, 'x_days_between_infections_0': 3.187401554763354, 'x_case_fatality_probability_0': 0.006419525913167466, 'x_loss_immunity_in_days_0': 119.24136167872136, 'x_days_between_infections_1': 7.647790587311106, 'x_breakpoint_1': 53.30502648953465, 'x_transition_days_between_epidemic_periods_1': 32.21025914749011}\n",
      "estimation: 16\n",
      "2023-12-05 21:19:26.729574\n",
      "35.07308\n",
      "{'outbreak': 0, 'alpha': 0, 'days_to_fit_within_outbreak': 70, 'estimation': 16, 'result_fun': 0.10112732578936015, 'result_nfev': 5803, 'result_nit': 160, 'result_success': True, 'start_time': '2023-12-05 21:19:26', 'end_time': '2023-12-05 21:20:01', 'duration_seconds': 35.07308, 'pop_size': 5, 'period_in_days': 175, 'days_to_recovery': 8, 'date_first_case': Timestamp('2020-02-16 00:00:00'), 'outbreak_start_date': Timestamp('2020-03-01 00:00:00'), 'max_date_to_fit': Timestamp('2020-05-10 00:00:00'), 'max_date_to_analyze': Timestamp('2020-08-09 00:00:00'), 'list_breakpoints_in_slow_transition': [], 'x_initial_infected_population': 0.03665905013505599, 'x_days_between_infections_0': 3.212690785990158, 'x_case_fatality_probability_0': 0.004217318742683095, 'x_loss_immunity_in_days_0': 148.17591310416122, 'x_days_between_infections_1': 7.647702739354131, 'x_breakpoint_1': 53.88398298293646, 'x_transition_days_between_epidemic_periods_1': 32.155185134642664}\n",
      "estimation: 17\n",
      "2023-12-05 21:20:01.811463\n",
      "45.143352\n",
      "{'outbreak': 0, 'alpha': 0, 'days_to_fit_within_outbreak': 70, 'estimation': 17, 'result_fun': 0.10008163022771951, 'result_nfev': 7119, 'result_nit': 188, 'result_success': True, 'start_time': '2023-12-05 21:20:01', 'end_time': '2023-12-05 21:20:46', 'duration_seconds': 45.143352, 'pop_size': 5, 'period_in_days': 175, 'days_to_recovery': 8, 'date_first_case': Timestamp('2020-02-16 00:00:00'), 'outbreak_start_date': Timestamp('2020-03-01 00:00:00'), 'max_date_to_fit': Timestamp('2020-05-10 00:00:00'), 'max_date_to_analyze': Timestamp('2020-08-09 00:00:00'), 'list_breakpoints_in_slow_transition': [], 'x_initial_infected_population': 0.026424092856627335, 'x_days_between_infections_0': 3.190278228079048, 'x_case_fatality_probability_0': 0.0056762822592603835, 'x_loss_immunity_in_days_0': 307.1500984288758, 'x_days_between_infections_1': 7.653300510947045, 'x_breakpoint_1': 53.28435491536457, 'x_transition_days_between_epidemic_periods_1': 32.25514490177558}\n",
      "estimation: 18\n",
      "2023-12-05 21:20:46.963507\n",
      "31.851864\n",
      "{'outbreak': 0, 'alpha': 0, 'days_to_fit_within_outbreak': 70, 'estimation': 18, 'result_fun': 0.10125373346057508, 'result_nfev': 5232, 'result_nit': 143, 'result_success': True, 'start_time': '2023-12-05 21:20:46', 'end_time': '2023-12-05 21:21:18', 'duration_seconds': 31.851864, 'pop_size': 5, 'period_in_days': 175, 'days_to_recovery': 8, 'date_first_case': Timestamp('2020-02-16 00:00:00'), 'outbreak_start_date': Timestamp('2020-03-01 00:00:00'), 'max_date_to_fit': Timestamp('2020-05-10 00:00:00'), 'max_date_to_analyze': Timestamp('2020-08-09 00:00:00'), 'list_breakpoints_in_slow_transition': [], 'x_initial_infected_population': 0.017997317323874742, 'x_days_between_infections_0': 3.2127033522525013, 'x_case_fatality_probability_0': 0.008238097140526724, 'x_loss_immunity_in_days_0': 109.98359610464753, 'x_days_between_infections_1': 7.644832691524533, 'x_breakpoint_1': 53.7720988637437, 'x_transition_days_between_epidemic_periods_1': 30.978074681332263}\n",
      "estimation: 19\n",
      "2023-12-05 21:21:18.823898\n",
      "25.013901\n",
      "{'outbreak': 0, 'alpha': 0, 'days_to_fit_within_outbreak': 70, 'estimation': 19, 'result_fun': 0.11506464491077116, 'result_nfev': 4060, 'result_nit': 107, 'result_success': True, 'start_time': '2023-12-05 21:21:18', 'end_time': '2023-12-05 21:21:43', 'duration_seconds': 25.013901, 'pop_size': 5, 'period_in_days': 175, 'days_to_recovery': 8, 'date_first_case': Timestamp('2020-02-16 00:00:00'), 'outbreak_start_date': Timestamp('2020-03-01 00:00:00'), 'max_date_to_fit': Timestamp('2020-05-10 00:00:00'), 'max_date_to_analyze': Timestamp('2020-08-09 00:00:00'), 'list_breakpoints_in_slow_transition': [], 'x_initial_infected_population': 0.033229375183097556, 'x_days_between_infections_0': 3.461701072876737, 'x_case_fatality_probability_0': 0.011364781801498297, 'x_loss_immunity_in_days_0': 276.57740571041046, 'x_days_between_infections_1': 7.650936709993566, 'x_breakpoint_1': 55.8158535696167, 'x_transition_days_between_epidemic_periods_1': 31.355146928172513}\n"
     ]
    }
   ],
   "source": [
    "try:\n",
    "    df_initial_results = pd.read_csv('data/output/estimation_results_outbreak_0.csv')\n",
    "except:\n",
    "    df_initial_results = pd.DataFrame({'days_to_fit_within_outbreak':[]})\n",
    "\n",
    "df_results = df_initial_results.copy()\n",
    "\n",
    "FORECAST_HORIZON_IN_DAYS = 90\n",
    "DAYS_TO_RECOVERY = 8\n",
    "OUTBREAK = 0\n",
    "ALPHA = 0\n",
    "\n",
    "list_days_to_fit_within_outbreak = [28, 35, 42, 49, 56, 63, 70]\n",
    "\n",
    "DIFFERENTIAL_EVOLUTION_POP_SIZE_FACTOR = 5\n",
    "NUMBER_ESTIMATION_PER_DAYS_TO_FIT = 20\n",
    "\n",
    "# Dates about begin time series and first case\n",
    "date_first_case = min(df[(df.NOVOS_CASOS_SRAG > 0)].iloc[0].DATA, df[(df.CASOS_NOVOS_PAINEL > 0)].iloc[0].DATA)\n",
    "\n",
    "\n",
    "row = df[df.ONSET_NUMERO_REPRODUCAO_EFETIVO_MEDIA == OUTBREAK].iloc[0]\n",
    "outbreak_start_date = row['DATA']\n",
    "\n",
    "for days_to_fit_within_outbreak in list_days_to_fit_within_outbreak:\n",
    "    max_date_to_fit = outbreak_start_date + pd.DateOffset(days=days_to_fit_within_outbreak)\n",
    "    \n",
    "    print('days_to_fit_within_outbreak: ',days_to_fit_within_outbreak)\n",
    "    print('max_date_to_fit: ',max_date_to_fit)\n",
    "    \n",
    "    # Period of analysis\n",
    "    period_in_days = (max_date_to_fit - date_first_case).days + 1 + FORECAST_HORIZON_IN_DAYS\n",
    "    max_date_to_analyze = date_first_case + pd.DateOffset(days=period_in_days)\n",
    "    \n",
    "    bounds, args = get_bounds_and_arguments(df, 'DATA', 'TAXA_OBITOS_NOVOS_MEDIA_MOVEL_7_DIAS_SIM', 'NUMERO_REPRODUCAO_EFETIVO_SRAG_MEDIA', 'TAXA_CASOS_NOVOS_MEDIA_MOVEL_7_DIAS_PAINEL', 'ONSET_NUMERO_REPRODUCAO_EFETIVO_MEDIA', DAYS_TO_RECOVERY, date_first_case, max_date_to_fit, df.POPULACAO_2022.iloc[0], period_in_days)    \n",
    "                                                  \n",
    "    for estimation in range(NUMBER_ESTIMATION_PER_DAYS_TO_FIT):\n",
    "        estimations_performed = len(df_results[(df_results.days_to_fit_within_outbreak == days_to_fit_within_outbreak)])\n",
    "    \n",
    "        if (estimation == estimations_performed):\n",
    "            print('estimation: '+str(estimation))\n",
    "            \n",
    "            # Record the start time\n",
    "            start_time = datetime.now()\n",
    "            print(start_time)\n",
    "    \n",
    "            result = differential_evolution(sirds_objective_function, bounds, args=args, popsize=DIFFERENTIAL_EVOLUTION_POP_SIZE_FACTOR, maxiter=10000, workers=3, updating='deferred')\n",
    "    \n",
    "            # Record the end time\n",
    "            end_time = datetime.now()\n",
    "    \n",
    "            # Calculate the duration (in seconds) for the optimization\n",
    "            duration = (end_time - start_time).total_seconds()\n",
    "            print(duration)\n",
    "            \n",
    "            list_breakpoints_in_slow_transition = args[4]\n",
    "            quantity_outbreaks = args[5]\n",
    "            quantity_outbreak_adjustments = args[6]                \n",
    "    \n",
    "            # Create a dictionary to store results\n",
    "            estimation_result = {\n",
    "                'outbreak': OUTBREAK,\n",
    "                'alpha': ALPHA,\n",
    "                'days_to_fit_within_outbreak': days_to_fit_within_outbreak,\n",
    "                'estimation': estimation,  # To differentiate between multiple estimations\n",
    "                'result_fun': result.fun,\n",
    "                'result_nfev': result.nfev,\n",
    "                'result_nit': result.nit,\n",
    "                'result_success': result.success,\n",
    "                'start_time': start_time.strftime('%Y-%m-%d %H:%M:%S'),  # Format start time as a string\n",
    "                'end_time': end_time.strftime('%Y-%m-%d %H:%M:%S'),  # Format end time as a string\n",
    "                'duration_seconds': duration,  # Duration in seconds\n",
    "                'pop_size': DIFFERENTIAL_EVOLUTION_POP_SIZE_FACTOR,\n",
    "                'period_in_days': period_in_days,\n",
    "                'days_to_recovery': DAYS_TO_RECOVERY,\n",
    "                'date_first_case': date_first_case,\n",
    "                'outbreak_start_date': outbreak_start_date,\n",
    "                'max_date_to_fit': max_date_to_fit,\n",
    "                'max_date_to_analyze': max_date_to_analyze,                    \n",
    "                'list_breakpoints_in_slow_transition': list_breakpoints_in_slow_transition,\n",
    "                'x_initial_infected_population': result.x[0],\n",
    "                'x_days_between_infections_0': result.x[1]         \n",
    "            }\n",
    "    \n",
    "            quantity_epidemic_periods_with_slow_transition = len(list_breakpoints_in_slow_transition) + 1            \n",
    "            \n",
    "            for p in range(quantity_epidemic_periods_with_slow_transition):\n",
    "                estimation_result['x_case_fatality_probability_'+str(p)] = result.x[2 + p]\n",
    "                estimation_result['x_loss_immunity_in_days_'+str(p)] = result.x[2 + quantity_epidemic_periods_with_slow_transition + p]                                                 \n",
    "            quantity_breakpoints = (quantity_outbreaks - 1) + (quantity_outbreak_adjustments)\n",
    "            begin_breakpoint_parameters = 2 + 2*quantity_epidemic_periods_with_slow_transition\n",
    "            for b in range(quantity_breakpoints):\n",
    "                estimation_result['x_days_between_infections_'+str(b+1)] = result.x[begin_breakpoint_parameters + b]\n",
    "                estimation_result['x_breakpoint_'+str(b+1)] = result.x[begin_breakpoint_parameters + quantity_breakpoints + b]\n",
    "                estimation_result['x_transition_days_between_epidemic_periods_'+str(b+1)] = result.x[begin_breakpoint_parameters + 2*quantity_breakpoints + b]\n",
    "    \n",
    "            print(estimation_result)\n",
    "    \n",
    "            # Append the estimation result to the list                \n",
    "            df_results = pd.concat([df_results, pd.DataFrame.from_records([estimation_result])])\n",
    "    \n",
    "            df_results.to_csv('data/output/estimation_results_outbreak_0.csv', index=False)           "
   ],
   "metadata": {
    "collapsed": false,
    "ExecuteTime": {
     "end_time": "2023-12-06T00:21:43.849704340Z",
     "start_time": "2023-12-05T23:59:19.839210240Z"
    }
   }
  },
  {
   "cell_type": "code",
   "execution_count": 8,
   "outputs": [
    {
     "data": {
      "text/plain": "   days_to_fit_within_outbreak  outbreak  alpha  estimation  result_fun  \\\n0                         28.0       0.0    0.0         0.0    0.346680   \n1                         28.0       0.0    0.0         1.0    0.370704   \n2                         28.0       0.0    0.0         2.0    0.374529   \n3                         28.0       0.0    0.0         3.0    0.350492   \n4                         28.0       0.0    0.0         4.0    0.372556   \n\n   result_nfev  result_nit  result_success           start_time  \\\n0       3388.0        83.0            True  2023-12-05 16:11:19   \n1       2950.0        73.0            True  2023-12-05 16:11:40   \n2       1861.0        46.0            True  2023-12-05 16:12:01   \n3       3644.0        91.0            True  2023-12-05 16:12:13   \n4       2184.0        47.0            True  2023-12-05 16:12:39   \n\n              end_time  ...  max_date_to_fit  max_date_to_analyze  \\\n0  2023-12-05 16:11:40  ...       2020-03-29           2020-06-28   \n1  2023-12-05 16:12:01  ...       2020-03-29           2020-06-28   \n2  2023-12-05 16:12:13  ...       2020-03-29           2020-06-28   \n3  2023-12-05 16:12:39  ...       2020-03-29           2020-06-28   \n4  2023-12-05 16:12:56  ...       2020-03-29           2020-06-28   \n\n   list_breakpoints_in_slow_transition  x_initial_infected_population  \\\n0                                   []                       0.019699   \n1                                   []                       0.013683   \n2                                   []                       0.014271   \n3                                   []                       0.006963   \n4                                   []                       0.006913   \n\n  x_days_between_infections_0 x_case_fatality_probability_0  \\\n0                    3.182640                      0.003837   \n1                    3.169989                      0.006136   \n2                    3.174482                      0.005348   \n3                    3.180804                      0.010648   \n4                    3.170051                      0.011561   \n\n  x_loss_immunity_in_days_0 x_days_between_infections_1 x_breakpoint_1  \\\n0                167.281061                    5.727388      41.741860   \n1                202.146757                    3.508126      37.431551   \n2                222.770294                    3.227308      23.851242   \n3                197.548040                    4.542095      41.562551   \n4                237.373834                    3.325391      28.231655   \n\n   x_transition_days_between_epidemic_periods_1  \n0                                      1.825831  \n1                                     19.232071  \n2                                      7.346017  \n3                                      2.014805  \n4                                     13.698966  \n\n[5 rows x 26 columns]",
      "text/html": "<div>\n<style scoped>\n    .dataframe tbody tr th:only-of-type {\n        vertical-align: middle;\n    }\n\n    .dataframe tbody tr th {\n        vertical-align: top;\n    }\n\n    .dataframe thead th {\n        text-align: right;\n    }\n</style>\n<table border=\"1\" class=\"dataframe\">\n  <thead>\n    <tr style=\"text-align: right;\">\n      <th></th>\n      <th>days_to_fit_within_outbreak</th>\n      <th>outbreak</th>\n      <th>alpha</th>\n      <th>estimation</th>\n      <th>result_fun</th>\n      <th>result_nfev</th>\n      <th>result_nit</th>\n      <th>result_success</th>\n      <th>start_time</th>\n      <th>end_time</th>\n      <th>...</th>\n      <th>max_date_to_fit</th>\n      <th>max_date_to_analyze</th>\n      <th>list_breakpoints_in_slow_transition</th>\n      <th>x_initial_infected_population</th>\n      <th>x_days_between_infections_0</th>\n      <th>x_case_fatality_probability_0</th>\n      <th>x_loss_immunity_in_days_0</th>\n      <th>x_days_between_infections_1</th>\n      <th>x_breakpoint_1</th>\n      <th>x_transition_days_between_epidemic_periods_1</th>\n    </tr>\n  </thead>\n  <tbody>\n    <tr>\n      <th>0</th>\n      <td>28.0</td>\n      <td>0.0</td>\n      <td>0.0</td>\n      <td>0.0</td>\n      <td>0.346680</td>\n      <td>3388.0</td>\n      <td>83.0</td>\n      <td>True</td>\n      <td>2023-12-05 16:11:19</td>\n      <td>2023-12-05 16:11:40</td>\n      <td>...</td>\n      <td>2020-03-29</td>\n      <td>2020-06-28</td>\n      <td>[]</td>\n      <td>0.019699</td>\n      <td>3.182640</td>\n      <td>0.003837</td>\n      <td>167.281061</td>\n      <td>5.727388</td>\n      <td>41.741860</td>\n      <td>1.825831</td>\n    </tr>\n    <tr>\n      <th>1</th>\n      <td>28.0</td>\n      <td>0.0</td>\n      <td>0.0</td>\n      <td>1.0</td>\n      <td>0.370704</td>\n      <td>2950.0</td>\n      <td>73.0</td>\n      <td>True</td>\n      <td>2023-12-05 16:11:40</td>\n      <td>2023-12-05 16:12:01</td>\n      <td>...</td>\n      <td>2020-03-29</td>\n      <td>2020-06-28</td>\n      <td>[]</td>\n      <td>0.013683</td>\n      <td>3.169989</td>\n      <td>0.006136</td>\n      <td>202.146757</td>\n      <td>3.508126</td>\n      <td>37.431551</td>\n      <td>19.232071</td>\n    </tr>\n    <tr>\n      <th>2</th>\n      <td>28.0</td>\n      <td>0.0</td>\n      <td>0.0</td>\n      <td>2.0</td>\n      <td>0.374529</td>\n      <td>1861.0</td>\n      <td>46.0</td>\n      <td>True</td>\n      <td>2023-12-05 16:12:01</td>\n      <td>2023-12-05 16:12:13</td>\n      <td>...</td>\n      <td>2020-03-29</td>\n      <td>2020-06-28</td>\n      <td>[]</td>\n      <td>0.014271</td>\n      <td>3.174482</td>\n      <td>0.005348</td>\n      <td>222.770294</td>\n      <td>3.227308</td>\n      <td>23.851242</td>\n      <td>7.346017</td>\n    </tr>\n    <tr>\n      <th>3</th>\n      <td>28.0</td>\n      <td>0.0</td>\n      <td>0.0</td>\n      <td>3.0</td>\n      <td>0.350492</td>\n      <td>3644.0</td>\n      <td>91.0</td>\n      <td>True</td>\n      <td>2023-12-05 16:12:13</td>\n      <td>2023-12-05 16:12:39</td>\n      <td>...</td>\n      <td>2020-03-29</td>\n      <td>2020-06-28</td>\n      <td>[]</td>\n      <td>0.006963</td>\n      <td>3.180804</td>\n      <td>0.010648</td>\n      <td>197.548040</td>\n      <td>4.542095</td>\n      <td>41.562551</td>\n      <td>2.014805</td>\n    </tr>\n    <tr>\n      <th>4</th>\n      <td>28.0</td>\n      <td>0.0</td>\n      <td>0.0</td>\n      <td>4.0</td>\n      <td>0.372556</td>\n      <td>2184.0</td>\n      <td>47.0</td>\n      <td>True</td>\n      <td>2023-12-05 16:12:39</td>\n      <td>2023-12-05 16:12:56</td>\n      <td>...</td>\n      <td>2020-03-29</td>\n      <td>2020-06-28</td>\n      <td>[]</td>\n      <td>0.006913</td>\n      <td>3.170051</td>\n      <td>0.011561</td>\n      <td>237.373834</td>\n      <td>3.325391</td>\n      <td>28.231655</td>\n      <td>13.698966</td>\n    </tr>\n  </tbody>\n</table>\n<p>5 rows × 26 columns</p>\n</div>"
     },
     "execution_count": 8,
     "metadata": {},
     "output_type": "execute_result"
    }
   ],
   "source": [
    "df_results.head()"
   ],
   "metadata": {
    "collapsed": false,
    "ExecuteTime": {
     "end_time": "2023-12-06T00:21:43.904412196Z",
     "start_time": "2023-12-06T00:21:43.859231439Z"
    }
   }
  }
 ],
 "metadata": {
  "kernelspec": {
   "display_name": "Python 3",
   "language": "python",
   "name": "python3"
  },
  "language_info": {
   "codemirror_mode": {
    "name": "ipython",
    "version": 2
   },
   "file_extension": ".py",
   "mimetype": "text/x-python",
   "name": "python",
   "nbconvert_exporter": "python",
   "pygments_lexer": "ipython2",
   "version": "2.7.6"
  }
 },
 "nbformat": 4,
 "nbformat_minor": 0
}
